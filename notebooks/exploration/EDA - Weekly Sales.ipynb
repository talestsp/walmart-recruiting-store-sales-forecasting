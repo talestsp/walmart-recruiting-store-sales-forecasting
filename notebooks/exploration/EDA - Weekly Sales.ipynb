{
 "cells": [
  {
   "cell_type": "code",
   "execution_count": null,
   "metadata": {},
   "outputs": [],
   "source": [
    "#Setting working path required for relative package loading\n",
    "\n",
    "import os\n",
    "os.chdir(\"/home/tales/ds/walmart-recruiting-store-sales-forecasting/\")\n",
    "print(\"working dir:\", \"\\'\" + os.getcwd() + \"\\'\")"
   ]
  },
  {
   "cell_type": "code",
   "execution_count": null,
   "metadata": {},
   "outputs": [],
   "source": [
    "import pandas as pd\n",
    "\n",
    "from src.utils import pretties, time_utils, stats\n",
    "from src.visualization import plot\n",
    "from bokeh.plotting import show, output_notebook"
   ]
  },
  {
   "cell_type": "code",
   "execution_count": null,
   "metadata": {},
   "outputs": [],
   "source": [
    "pretties.max_data_frame_columns()\n",
    "pretties.decimal_notation()\n",
    "output_notebook()"
   ]
  },
  {
   "cell_type": "markdown",
   "metadata": {},
   "source": [
    "# walmart-recruiting-store-sales-forecasting\n",
    "https://www.kaggle.com/c/walmart-recruiting-store-sales-forecasting"
   ]
  },
  {
   "cell_type": "markdown",
   "metadata": {},
   "source": [
    "# Train"
   ]
  },
  {
   "cell_type": "markdown",
   "metadata": {},
   "source": [
    "### train.csv\n",
    "\n",
    "<p>This is the historical training data, which covers from <b>2010-02-05</b> to <b>2012-11-01</b>. <br> Within this file you will find the following fields:</p>\n",
    "\n",
    "<ul>\n",
    "<li>Store - the store number</li>\n",
    "<li>Dept - the department number</li>\n",
    "<li>Date - the week</li>\n",
    "<li>Weekly_Sales - &nbsp;sales for the given department in the given store</li>\n",
    "<li>IsHoliday - whether the week is a special holiday week</li>\n",
    "</ul>\n",
    "\n",
    "This file contains anonymized information about the 45 stores, indicating the type and size of store."
   ]
  },
  {
   "cell_type": "markdown",
   "metadata": {},
   "source": [
    "### Loading"
   ]
  },
  {
   "cell_type": "code",
   "execution_count": null,
   "metadata": {},
   "outputs": [],
   "source": [
    "dtype = {\"Store\": str, \"Dept\": str, \"Date\": str, \"Weekly_Sales\": float, \"IsHoliday\": bool}"
   ]
  },
  {
   "cell_type": "code",
   "execution_count": null,
   "metadata": {},
   "outputs": [],
   "source": [
    "train = pd.read_csv(\"data/raw/train.csv\", dtype=dtype)\n",
    "train[\"timestamp\"] = train[\"Date\"].apply(lambda str_dt : time_utils.str_datetime_to_timestamp(str_dt, \"%Y-%m-%d\"))\n",
    "train = train.sort_values(\"timestamp\")"
   ]
  },
  {
   "cell_type": "code",
   "execution_count": null,
   "metadata": {},
   "outputs": [],
   "source": [
    "print(\"Total train size: {}\".format(len(train)))"
   ]
  },
  {
   "cell_type": "code",
   "execution_count": null,
   "metadata": {},
   "outputs": [],
   "source": [
    "train.head(3).append(train.tail(3))"
   ]
  },
  {
   "cell_type": "markdown",
   "metadata": {},
   "source": [
    "# <font color=\"navy\">Overview</font>"
   ]
  },
  {
   "cell_type": "markdown",
   "metadata": {},
   "source": [
    "#### Weekly Sales"
   ]
  },
  {
   "cell_type": "code",
   "execution_count": null,
   "metadata": {},
   "outputs": [],
   "source": [
    "train[\"Weekly_Sales\"].describe()"
   ]
  },
  {
   "cell_type": "markdown",
   "metadata": {},
   "source": [
    "<b>Negative Sales</b> <br>\n",
    "https://www.kaggle.com/c/walmart-recruiting-store-sales-forecasting/discussion/7152"
   ]
  },
  {
   "cell_type": "code",
   "execution_count": null,
   "metadata": {},
   "outputs": [],
   "source": [
    "stats.freq(train[\"Weekly_Sales\"] < 0)"
   ]
  },
  {
   "cell_type": "markdown",
   "metadata": {},
   "source": [
    "<b>Zero Sales</b>"
   ]
  },
  {
   "cell_type": "code",
   "execution_count": null,
   "metadata": {},
   "outputs": [],
   "source": [
    "stats.freq(train[\"Weekly_Sales\"] == 0)"
   ]
  },
  {
   "cell_type": "markdown",
   "metadata": {},
   "source": [
    "<b>No Outliers</b>"
   ]
  },
  {
   "cell_type": "code",
   "execution_count": null,
   "metadata": {},
   "outputs": [],
   "source": [
    "train[\"Weekly_Sales\"].plot.hist(title=\"Weekly Sales Overview\", figsize=(6,3))"
   ]
  },
  {
   "cell_type": "code",
   "execution_count": null,
   "metadata": {},
   "outputs": [],
   "source": [
    "outliers_thresh_quantile = 0.90\n",
    "no_outliers = train[train[\"Weekly_Sales\"] <= train[\"Weekly_Sales\"].quantile(outliers_thresh_quantile)]\n",
    "no_outliers[\"Weekly_Sales\"].plot.hist(title=\"Weekly Sales Overview - No Outliers ({}%)\".format(100 * outliers_thresh_quantile), figsize=(6,3))"
   ]
  },
  {
   "cell_type": "markdown",
   "metadata": {},
   "source": [
    " "
   ]
  },
  {
   "cell_type": "markdown",
   "metadata": {},
   "source": [
    "# <font color=\"navy\">Stores</font>"
   ]
  },
  {
   "cell_type": "code",
   "execution_count": null,
   "metadata": {},
   "outputs": [],
   "source": [
    "train.groupby(\"Store\")[\"Weekly_Sales\"].sum().sort_values().plot.bar(title=\"Sales grouped by store\", figsize=(10,3))"
   ]
  },
  {
   "cell_type": "markdown",
   "metadata": {},
   "source": [
    " "
   ]
  },
  {
   "cell_type": "markdown",
   "metadata": {},
   "source": [
    "# <font color=\"navy\">Dates</font>"
   ]
  },
  {
   "cell_type": "code",
   "execution_count": null,
   "metadata": {},
   "outputs": [],
   "source": [
    "grouped_sales = train.groupby(\"Date\")[\"Weekly_Sales\"].sum()\n",
    "p = plot.plot_time_series_count(grouped_sales.index, grouped_sales, color=\"navy\")\n",
    "show(p)"
   ]
  },
  {
   "cell_type": "markdown",
   "metadata": {},
   "source": [
    "<b>Questions</b> <br>\n",
    "Does each the stores follow the same sales variance behavior of all together?"
   ]
  },
  {
   "cell_type": "markdown",
   "metadata": {},
   "source": [
    " "
   ]
  },
  {
   "cell_type": "markdown",
   "metadata": {},
   "source": [
    "# <font color=\"navy\">Holidays</font>"
   ]
  },
  {
   "cell_type": "code",
   "execution_count": null,
   "metadata": {},
   "outputs": [],
   "source": [
    "display(\"Store Dates With Holidays\")\n",
    "stats.freq(train.drop_duplicates([\"Store\", \"Date\"])[\"IsHoliday\"])"
   ]
  },
  {
   "cell_type": "code",
   "execution_count": null,
   "metadata": {},
   "outputs": [],
   "source": [
    "grouped_sales = train.groupby(\"IsHoliday\")[\"Weekly_Sales\"].mean()\n",
    "grouped_sales.plot.bar(title=\"Median Sales Comparison Between Holiday and Ordinary Days\")"
   ]
  },
  {
   "cell_type": "markdown",
   "metadata": {},
   "source": [
    "<b>Notes</b> <br>\n",
    "It seems that not all the holidays have a huge effect in increasing sales, among all stores and all departments"
   ]
  },
  {
   "cell_type": "code",
   "execution_count": null,
   "metadata": {},
   "outputs": [],
   "source": []
  },
  {
   "cell_type": "markdown",
   "metadata": {},
   "source": [
    "# <font color=\"navy\">Departments</font>"
   ]
  },
  {
   "cell_type": "code",
   "execution_count": null,
   "metadata": {},
   "outputs": [],
   "source": [
    "train[\"StoreDept\"] = train[\"Store\"] + \"_\" + train[\"Dept\"]"
   ]
  },
  {
   "cell_type": "code",
   "execution_count": null,
   "metadata": {},
   "outputs": [],
   "source": [
    "train.sort_values([\"Weekly_Sales\"], ascending=False)"
   ]
  },
  {
   "cell_type": "code",
   "execution_count": null,
   "metadata": {},
   "outputs": [],
   "source": []
  },
  {
   "cell_type": "markdown",
   "metadata": {},
   "source": [
    "<b>Questions</b> <br>\n",
    "Can we assume that the same Dept number corresponds the same department accross all stores?\n",
    "https://www.kaggle.com/c/walmart-recruiting-store-sales-forecasting/discussion/7159\n",
    "(hypothesis testing)"
   ]
  },
  {
   "cell_type": "code",
   "execution_count": null,
   "metadata": {},
   "outputs": [],
   "source": []
  },
  {
   "cell_type": "code",
   "execution_count": null,
   "metadata": {},
   "outputs": [],
   "source": []
  },
  {
   "cell_type": "code",
   "execution_count": null,
   "metadata": {},
   "outputs": [],
   "source": []
  },
  {
   "cell_type": "code",
   "execution_count": null,
   "metadata": {},
   "outputs": [],
   "source": []
  },
  {
   "cell_type": "code",
   "execution_count": null,
   "metadata": {},
   "outputs": [],
   "source": []
  },
  {
   "cell_type": "code",
   "execution_count": null,
   "metadata": {},
   "outputs": [],
   "source": []
  },
  {
   "cell_type": "code",
   "execution_count": null,
   "metadata": {},
   "outputs": [],
   "source": []
  }
 ],
 "metadata": {
  "kernelspec": {
   "display_name": "Python 3",
   "language": "python",
   "name": "python3"
  },
  "language_info": {
   "codemirror_mode": {
    "name": "ipython",
    "version": 3
   },
   "file_extension": ".py",
   "mimetype": "text/x-python",
   "name": "python",
   "nbconvert_exporter": "python",
   "pygments_lexer": "ipython3",
   "version": "3.7.4"
  }
 },
 "nbformat": 4,
 "nbformat_minor": 2
}
