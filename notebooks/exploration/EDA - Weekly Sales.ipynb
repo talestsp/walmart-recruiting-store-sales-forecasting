{
 "cells": [
  {
   "cell_type": "code",
   "execution_count": 1,
   "metadata": {},
   "outputs": [
    {
     "name": "stdout",
     "output_type": "stream",
     "text": [
      "working dir: '/home/tales/ds/walmart-recruiting-store-sales-forecasting'\n"
     ]
    }
   ],
   "source": [
    "#Setting working path required for relative package loading\n",
    "\n",
    "import os\n",
    "os.chdir(\"/home/tales/ds/walmart-recruiting-store-sales-forecasting/\")\n",
    "print(\"working dir:\", \"\\'\" + os.getcwd() + \"\\'\")"
   ]
  },
  {
   "cell_type": "code",
   "execution_count": 2,
   "metadata": {},
   "outputs": [],
   "source": [
    "import pandas as pd\n",
    "\n",
    "from src.data import dao\n",
    "from src.utils import pretties, time_utils, stats\n",
    "from src.visualization import plot\n",
    "from bokeh.plotting import show, output_notebook"
   ]
  },
  {
   "cell_type": "code",
   "execution_count": 3,
   "metadata": {},
   "outputs": [
    {
     "data": {
      "text/html": [
       "\n",
       "    <div class=\"bk-root\">\n",
       "        <a href=\"https://bokeh.pydata.org\" target=\"_blank\" class=\"bk-logo bk-logo-small bk-logo-notebook\"></a>\n",
       "        <span id=\"1001\">Loading BokehJS ...</span>\n",
       "    </div>"
      ]
     },
     "metadata": {},
     "output_type": "display_data"
    },
    {
     "data": {
      "application/javascript": [
       "\n",
       "(function(root) {\n",
       "  function now() {\n",
       "    return new Date();\n",
       "  }\n",
       "\n",
       "  var force = true;\n",
       "\n",
       "  if (typeof root._bokeh_onload_callbacks === \"undefined\" || force === true) {\n",
       "    root._bokeh_onload_callbacks = [];\n",
       "    root._bokeh_is_loading = undefined;\n",
       "  }\n",
       "\n",
       "  var JS_MIME_TYPE = 'application/javascript';\n",
       "  var HTML_MIME_TYPE = 'text/html';\n",
       "  var EXEC_MIME_TYPE = 'application/vnd.bokehjs_exec.v0+json';\n",
       "  var CLASS_NAME = 'output_bokeh rendered_html';\n",
       "\n",
       "  /**\n",
       "   * Render data to the DOM node\n",
       "   */\n",
       "  function render(props, node) {\n",
       "    var script = document.createElement(\"script\");\n",
       "    node.appendChild(script);\n",
       "  }\n",
       "\n",
       "  /**\n",
       "   * Handle when an output is cleared or removed\n",
       "   */\n",
       "  function handleClearOutput(event, handle) {\n",
       "    var cell = handle.cell;\n",
       "\n",
       "    var id = cell.output_area._bokeh_element_id;\n",
       "    var server_id = cell.output_area._bokeh_server_id;\n",
       "    // Clean up Bokeh references\n",
       "    if (id != null && id in Bokeh.index) {\n",
       "      Bokeh.index[id].model.document.clear();\n",
       "      delete Bokeh.index[id];\n",
       "    }\n",
       "\n",
       "    if (server_id !== undefined) {\n",
       "      // Clean up Bokeh references\n",
       "      var cmd = \"from bokeh.io.state import curstate; print(curstate().uuid_to_server['\" + server_id + \"'].get_sessions()[0].document.roots[0]._id)\";\n",
       "      cell.notebook.kernel.execute(cmd, {\n",
       "        iopub: {\n",
       "          output: function(msg) {\n",
       "            var id = msg.content.text.trim();\n",
       "            if (id in Bokeh.index) {\n",
       "              Bokeh.index[id].model.document.clear();\n",
       "              delete Bokeh.index[id];\n",
       "            }\n",
       "          }\n",
       "        }\n",
       "      });\n",
       "      // Destroy server and session\n",
       "      var cmd = \"import bokeh.io.notebook as ion; ion.destroy_server('\" + server_id + \"')\";\n",
       "      cell.notebook.kernel.execute(cmd);\n",
       "    }\n",
       "  }\n",
       "\n",
       "  /**\n",
       "   * Handle when a new output is added\n",
       "   */\n",
       "  function handleAddOutput(event, handle) {\n",
       "    var output_area = handle.output_area;\n",
       "    var output = handle.output;\n",
       "\n",
       "    // limit handleAddOutput to display_data with EXEC_MIME_TYPE content only\n",
       "    if ((output.output_type != \"display_data\") || (!output.data.hasOwnProperty(EXEC_MIME_TYPE))) {\n",
       "      return\n",
       "    }\n",
       "\n",
       "    var toinsert = output_area.element.find(\".\" + CLASS_NAME.split(' ')[0]);\n",
       "\n",
       "    if (output.metadata[EXEC_MIME_TYPE][\"id\"] !== undefined) {\n",
       "      toinsert[toinsert.length - 1].firstChild.textContent = output.data[JS_MIME_TYPE];\n",
       "      // store reference to embed id on output_area\n",
       "      output_area._bokeh_element_id = output.metadata[EXEC_MIME_TYPE][\"id\"];\n",
       "    }\n",
       "    if (output.metadata[EXEC_MIME_TYPE][\"server_id\"] !== undefined) {\n",
       "      var bk_div = document.createElement(\"div\");\n",
       "      bk_div.innerHTML = output.data[HTML_MIME_TYPE];\n",
       "      var script_attrs = bk_div.children[0].attributes;\n",
       "      for (var i = 0; i < script_attrs.length; i++) {\n",
       "        toinsert[toinsert.length - 1].firstChild.setAttribute(script_attrs[i].name, script_attrs[i].value);\n",
       "      }\n",
       "      // store reference to server id on output_area\n",
       "      output_area._bokeh_server_id = output.metadata[EXEC_MIME_TYPE][\"server_id\"];\n",
       "    }\n",
       "  }\n",
       "\n",
       "  function register_renderer(events, OutputArea) {\n",
       "\n",
       "    function append_mime(data, metadata, element) {\n",
       "      // create a DOM node to render to\n",
       "      var toinsert = this.create_output_subarea(\n",
       "        metadata,\n",
       "        CLASS_NAME,\n",
       "        EXEC_MIME_TYPE\n",
       "      );\n",
       "      this.keyboard_manager.register_events(toinsert);\n",
       "      // Render to node\n",
       "      var props = {data: data, metadata: metadata[EXEC_MIME_TYPE]};\n",
       "      render(props, toinsert[toinsert.length - 1]);\n",
       "      element.append(toinsert);\n",
       "      return toinsert\n",
       "    }\n",
       "\n",
       "    /* Handle when an output is cleared or removed */\n",
       "    events.on('clear_output.CodeCell', handleClearOutput);\n",
       "    events.on('delete.Cell', handleClearOutput);\n",
       "\n",
       "    /* Handle when a new output is added */\n",
       "    events.on('output_added.OutputArea', handleAddOutput);\n",
       "\n",
       "    /**\n",
       "     * Register the mime type and append_mime function with output_area\n",
       "     */\n",
       "    OutputArea.prototype.register_mime_type(EXEC_MIME_TYPE, append_mime, {\n",
       "      /* Is output safe? */\n",
       "      safe: true,\n",
       "      /* Index of renderer in `output_area.display_order` */\n",
       "      index: 0\n",
       "    });\n",
       "  }\n",
       "\n",
       "  // register the mime type if in Jupyter Notebook environment and previously unregistered\n",
       "  if (root.Jupyter !== undefined) {\n",
       "    var events = require('base/js/events');\n",
       "    var OutputArea = require('notebook/js/outputarea').OutputArea;\n",
       "\n",
       "    if (OutputArea.prototype.mime_types().indexOf(EXEC_MIME_TYPE) == -1) {\n",
       "      register_renderer(events, OutputArea);\n",
       "    }\n",
       "  }\n",
       "\n",
       "  \n",
       "  if (typeof (root._bokeh_timeout) === \"undefined\" || force === true) {\n",
       "    root._bokeh_timeout = Date.now() + 5000;\n",
       "    root._bokeh_failed_load = false;\n",
       "  }\n",
       "\n",
       "  var NB_LOAD_WARNING = {'data': {'text/html':\n",
       "     \"<div style='background-color: #fdd'>\\n\"+\n",
       "     \"<p>\\n\"+\n",
       "     \"BokehJS does not appear to have successfully loaded. If loading BokehJS from CDN, this \\n\"+\n",
       "     \"may be due to a slow or bad network connection. Possible fixes:\\n\"+\n",
       "     \"</p>\\n\"+\n",
       "     \"<ul>\\n\"+\n",
       "     \"<li>re-rerun `output_notebook()` to attempt to load from CDN again, or</li>\\n\"+\n",
       "     \"<li>use INLINE resources instead, as so:</li>\\n\"+\n",
       "     \"</ul>\\n\"+\n",
       "     \"<code>\\n\"+\n",
       "     \"from bokeh.resources import INLINE\\n\"+\n",
       "     \"output_notebook(resources=INLINE)\\n\"+\n",
       "     \"</code>\\n\"+\n",
       "     \"</div>\"}};\n",
       "\n",
       "  function display_loaded() {\n",
       "    var el = document.getElementById(\"1001\");\n",
       "    if (el != null) {\n",
       "      el.textContent = \"BokehJS is loading...\";\n",
       "    }\n",
       "    if (root.Bokeh !== undefined) {\n",
       "      if (el != null) {\n",
       "        el.textContent = \"BokehJS \" + root.Bokeh.version + \" successfully loaded.\";\n",
       "      }\n",
       "    } else if (Date.now() < root._bokeh_timeout) {\n",
       "      setTimeout(display_loaded, 100)\n",
       "    }\n",
       "  }\n",
       "\n",
       "\n",
       "  function run_callbacks() {\n",
       "    try {\n",
       "      root._bokeh_onload_callbacks.forEach(function(callback) {\n",
       "        if (callback != null)\n",
       "          callback();\n",
       "      });\n",
       "    } finally {\n",
       "      delete root._bokeh_onload_callbacks\n",
       "    }\n",
       "    console.debug(\"Bokeh: all callbacks have finished\");\n",
       "  }\n",
       "\n",
       "  function load_libs(css_urls, js_urls, callback) {\n",
       "    if (css_urls == null) css_urls = [];\n",
       "    if (js_urls == null) js_urls = [];\n",
       "\n",
       "    root._bokeh_onload_callbacks.push(callback);\n",
       "    if (root._bokeh_is_loading > 0) {\n",
       "      console.debug(\"Bokeh: BokehJS is being loaded, scheduling callback at\", now());\n",
       "      return null;\n",
       "    }\n",
       "    if (js_urls == null || js_urls.length === 0) {\n",
       "      run_callbacks();\n",
       "      return null;\n",
       "    }\n",
       "    console.debug(\"Bokeh: BokehJS not loaded, scheduling load and callback at\", now());\n",
       "    root._bokeh_is_loading = css_urls.length + js_urls.length;\n",
       "\n",
       "    function on_load() {\n",
       "      root._bokeh_is_loading--;\n",
       "      if (root._bokeh_is_loading === 0) {\n",
       "        console.debug(\"Bokeh: all BokehJS libraries/stylesheets loaded\");\n",
       "        run_callbacks()\n",
       "      }\n",
       "    }\n",
       "\n",
       "    function on_error() {\n",
       "      console.error(\"failed to load \" + url);\n",
       "    }\n",
       "\n",
       "    for (var i = 0; i < css_urls.length; i++) {\n",
       "      var url = css_urls[i];\n",
       "      const element = document.createElement(\"link\");\n",
       "      element.onload = on_load;\n",
       "      element.onerror = on_error;\n",
       "      element.rel = \"stylesheet\";\n",
       "      element.type = \"text/css\";\n",
       "      element.href = url;\n",
       "      console.debug(\"Bokeh: injecting link tag for BokehJS stylesheet: \", url);\n",
       "      document.body.appendChild(element);\n",
       "    }\n",
       "\n",
       "    for (var i = 0; i < js_urls.length; i++) {\n",
       "      var url = js_urls[i];\n",
       "      var element = document.createElement('script');\n",
       "      element.onload = on_load;\n",
       "      element.onerror = on_error;\n",
       "      element.async = false;\n",
       "      element.src = url;\n",
       "      console.debug(\"Bokeh: injecting script tag for BokehJS library: \", url);\n",
       "      document.head.appendChild(element);\n",
       "    }\n",
       "  };var element = document.getElementById(\"1001\");\n",
       "  if (element == null) {\n",
       "    console.error(\"Bokeh: ERROR: autoload.js configured with elementid '1001' but no matching script tag was found. \")\n",
       "    return false;\n",
       "  }\n",
       "\n",
       "  function inject_raw_css(css) {\n",
       "    const element = document.createElement(\"style\");\n",
       "    element.appendChild(document.createTextNode(css));\n",
       "    document.body.appendChild(element);\n",
       "  }\n",
       "\n",
       "  var js_urls = [\"https://cdn.pydata.org/bokeh/release/bokeh-1.3.4.min.js\", \"https://cdn.pydata.org/bokeh/release/bokeh-widgets-1.3.4.min.js\", \"https://cdn.pydata.org/bokeh/release/bokeh-tables-1.3.4.min.js\", \"https://cdn.pydata.org/bokeh/release/bokeh-gl-1.3.4.min.js\"];\n",
       "  var css_urls = [];\n",
       "\n",
       "  var inline_js = [\n",
       "    function(Bokeh) {\n",
       "      Bokeh.set_log_level(\"info\");\n",
       "    },\n",
       "    \n",
       "    function(Bokeh) {\n",
       "      \n",
       "    },\n",
       "    function(Bokeh) {} // ensure no trailing comma for IE\n",
       "  ];\n",
       "\n",
       "  function run_inline_js() {\n",
       "    \n",
       "    if ((root.Bokeh !== undefined) || (force === true)) {\n",
       "      for (var i = 0; i < inline_js.length; i++) {\n",
       "        inline_js[i].call(root, root.Bokeh);\n",
       "      }if (force === true) {\n",
       "        display_loaded();\n",
       "      }} else if (Date.now() < root._bokeh_timeout) {\n",
       "      setTimeout(run_inline_js, 100);\n",
       "    } else if (!root._bokeh_failed_load) {\n",
       "      console.log(\"Bokeh: BokehJS failed to load within specified timeout.\");\n",
       "      root._bokeh_failed_load = true;\n",
       "    } else if (force !== true) {\n",
       "      var cell = $(document.getElementById(\"1001\")).parents('.cell').data().cell;\n",
       "      cell.output_area.append_execute_result(NB_LOAD_WARNING)\n",
       "    }\n",
       "\n",
       "  }\n",
       "\n",
       "  if (root._bokeh_is_loading === 0) {\n",
       "    console.debug(\"Bokeh: BokehJS loaded, going straight to plotting\");\n",
       "    run_inline_js();\n",
       "  } else {\n",
       "    load_libs(css_urls, js_urls, function() {\n",
       "      console.debug(\"Bokeh: BokehJS plotting callback run at\", now());\n",
       "      run_inline_js();\n",
       "    });\n",
       "  }\n",
       "}(window));"
      ],
      "application/vnd.bokehjs_load.v0+json": "\n(function(root) {\n  function now() {\n    return new Date();\n  }\n\n  var force = true;\n\n  if (typeof root._bokeh_onload_callbacks === \"undefined\" || force === true) {\n    root._bokeh_onload_callbacks = [];\n    root._bokeh_is_loading = undefined;\n  }\n\n  \n\n  \n  if (typeof (root._bokeh_timeout) === \"undefined\" || force === true) {\n    root._bokeh_timeout = Date.now() + 5000;\n    root._bokeh_failed_load = false;\n  }\n\n  var NB_LOAD_WARNING = {'data': {'text/html':\n     \"<div style='background-color: #fdd'>\\n\"+\n     \"<p>\\n\"+\n     \"BokehJS does not appear to have successfully loaded. If loading BokehJS from CDN, this \\n\"+\n     \"may be due to a slow or bad network connection. Possible fixes:\\n\"+\n     \"</p>\\n\"+\n     \"<ul>\\n\"+\n     \"<li>re-rerun `output_notebook()` to attempt to load from CDN again, or</li>\\n\"+\n     \"<li>use INLINE resources instead, as so:</li>\\n\"+\n     \"</ul>\\n\"+\n     \"<code>\\n\"+\n     \"from bokeh.resources import INLINE\\n\"+\n     \"output_notebook(resources=INLINE)\\n\"+\n     \"</code>\\n\"+\n     \"</div>\"}};\n\n  function display_loaded() {\n    var el = document.getElementById(\"1001\");\n    if (el != null) {\n      el.textContent = \"BokehJS is loading...\";\n    }\n    if (root.Bokeh !== undefined) {\n      if (el != null) {\n        el.textContent = \"BokehJS \" + root.Bokeh.version + \" successfully loaded.\";\n      }\n    } else if (Date.now() < root._bokeh_timeout) {\n      setTimeout(display_loaded, 100)\n    }\n  }\n\n\n  function run_callbacks() {\n    try {\n      root._bokeh_onload_callbacks.forEach(function(callback) {\n        if (callback != null)\n          callback();\n      });\n    } finally {\n      delete root._bokeh_onload_callbacks\n    }\n    console.debug(\"Bokeh: all callbacks have finished\");\n  }\n\n  function load_libs(css_urls, js_urls, callback) {\n    if (css_urls == null) css_urls = [];\n    if (js_urls == null) js_urls = [];\n\n    root._bokeh_onload_callbacks.push(callback);\n    if (root._bokeh_is_loading > 0) {\n      console.debug(\"Bokeh: BokehJS is being loaded, scheduling callback at\", now());\n      return null;\n    }\n    if (js_urls == null || js_urls.length === 0) {\n      run_callbacks();\n      return null;\n    }\n    console.debug(\"Bokeh: BokehJS not loaded, scheduling load and callback at\", now());\n    root._bokeh_is_loading = css_urls.length + js_urls.length;\n\n    function on_load() {\n      root._bokeh_is_loading--;\n      if (root._bokeh_is_loading === 0) {\n        console.debug(\"Bokeh: all BokehJS libraries/stylesheets loaded\");\n        run_callbacks()\n      }\n    }\n\n    function on_error() {\n      console.error(\"failed to load \" + url);\n    }\n\n    for (var i = 0; i < css_urls.length; i++) {\n      var url = css_urls[i];\n      const element = document.createElement(\"link\");\n      element.onload = on_load;\n      element.onerror = on_error;\n      element.rel = \"stylesheet\";\n      element.type = \"text/css\";\n      element.href = url;\n      console.debug(\"Bokeh: injecting link tag for BokehJS stylesheet: \", url);\n      document.body.appendChild(element);\n    }\n\n    for (var i = 0; i < js_urls.length; i++) {\n      var url = js_urls[i];\n      var element = document.createElement('script');\n      element.onload = on_load;\n      element.onerror = on_error;\n      element.async = false;\n      element.src = url;\n      console.debug(\"Bokeh: injecting script tag for BokehJS library: \", url);\n      document.head.appendChild(element);\n    }\n  };var element = document.getElementById(\"1001\");\n  if (element == null) {\n    console.error(\"Bokeh: ERROR: autoload.js configured with elementid '1001' but no matching script tag was found. \")\n    return false;\n  }\n\n  function inject_raw_css(css) {\n    const element = document.createElement(\"style\");\n    element.appendChild(document.createTextNode(css));\n    document.body.appendChild(element);\n  }\n\n  var js_urls = [\"https://cdn.pydata.org/bokeh/release/bokeh-1.3.4.min.js\", \"https://cdn.pydata.org/bokeh/release/bokeh-widgets-1.3.4.min.js\", \"https://cdn.pydata.org/bokeh/release/bokeh-tables-1.3.4.min.js\", \"https://cdn.pydata.org/bokeh/release/bokeh-gl-1.3.4.min.js\"];\n  var css_urls = [];\n\n  var inline_js = [\n    function(Bokeh) {\n      Bokeh.set_log_level(\"info\");\n    },\n    \n    function(Bokeh) {\n      \n    },\n    function(Bokeh) {} // ensure no trailing comma for IE\n  ];\n\n  function run_inline_js() {\n    \n    if ((root.Bokeh !== undefined) || (force === true)) {\n      for (var i = 0; i < inline_js.length; i++) {\n        inline_js[i].call(root, root.Bokeh);\n      }if (force === true) {\n        display_loaded();\n      }} else if (Date.now() < root._bokeh_timeout) {\n      setTimeout(run_inline_js, 100);\n    } else if (!root._bokeh_failed_load) {\n      console.log(\"Bokeh: BokehJS failed to load within specified timeout.\");\n      root._bokeh_failed_load = true;\n    } else if (force !== true) {\n      var cell = $(document.getElementById(\"1001\")).parents('.cell').data().cell;\n      cell.output_area.append_execute_result(NB_LOAD_WARNING)\n    }\n\n  }\n\n  if (root._bokeh_is_loading === 0) {\n    console.debug(\"Bokeh: BokehJS loaded, going straight to plotting\");\n    run_inline_js();\n  } else {\n    load_libs(css_urls, js_urls, function() {\n      console.debug(\"Bokeh: BokehJS plotting callback run at\", now());\n      run_inline_js();\n    });\n  }\n}(window));"
     },
     "metadata": {},
     "output_type": "display_data"
    }
   ],
   "source": [
    "pretties.max_data_frame_columns()\n",
    "pretties.decimal_notation()\n",
    "output_notebook()"
   ]
  },
  {
   "cell_type": "markdown",
   "metadata": {},
   "source": [
    "# walmart-recruiting-store-sales-forecasting\n",
    "https://www.kaggle.com/c/walmart-recruiting-store-sales-forecasting"
   ]
  },
  {
   "cell_type": "markdown",
   "metadata": {},
   "source": [
    "# Train"
   ]
  },
  {
   "cell_type": "markdown",
   "metadata": {},
   "source": [
    "### train.csv\n",
    "\n",
    "<p>This is the historical training data, which covers from <b>2010-02-05</b> to <b>2012-11-01</b>. <br> Within this file you will find the following fields:</p>\n",
    "\n",
    "<ul>\n",
    "<li>Store - the store number</li>\n",
    "<li>Dept - the department number</li>\n",
    "<li>Date - the week</li>\n",
    "<li>Weekly_Sales - &nbsp;sales for the given department in the given store</li>\n",
    "<li>IsHoliday - whether the week is a special holiday week</li>\n",
    "</ul>\n",
    "\n",
    "This file contains anonymized information about the 45 stores, indicating the type and size of store."
   ]
  },
  {
   "cell_type": "markdown",
   "metadata": {},
   "source": [
    "### Loading"
   ]
  },
  {
   "cell_type": "code",
   "execution_count": 4,
   "metadata": {},
   "outputs": [],
   "source": [
    "train = dao.load_dataset(\"train\")"
   ]
  },
  {
   "cell_type": "code",
   "execution_count": 5,
   "metadata": {},
   "outputs": [
    {
     "name": "stdout",
     "output_type": "stream",
     "text": [
      "Total train size: 421570\n"
     ]
    }
   ],
   "source": [
    "print(\"Total train size: {}\".format(len(train)))"
   ]
  },
  {
   "cell_type": "code",
   "execution_count": 6,
   "metadata": {},
   "outputs": [
    {
     "data": {
      "text/html": [
       "<div>\n",
       "<style scoped>\n",
       "    .dataframe tbody tr th:only-of-type {\n",
       "        vertical-align: middle;\n",
       "    }\n",
       "\n",
       "    .dataframe tbody tr th {\n",
       "        vertical-align: top;\n",
       "    }\n",
       "\n",
       "    .dataframe thead th {\n",
       "        text-align: right;\n",
       "    }\n",
       "</style>\n",
       "<table border=\"1\" class=\"dataframe\">\n",
       "  <thead>\n",
       "    <tr style=\"text-align: right;\">\n",
       "      <th></th>\n",
       "      <th>Store</th>\n",
       "      <th>Dept</th>\n",
       "      <th>Date</th>\n",
       "      <th>Weekly_Sales</th>\n",
       "      <th>IsHoliday</th>\n",
       "      <th>timestamp</th>\n",
       "      <th>store_dept</th>\n",
       "    </tr>\n",
       "  </thead>\n",
       "  <tbody>\n",
       "    <tr>\n",
       "      <td>413395</td>\n",
       "      <td>45</td>\n",
       "      <td>11</td>\n",
       "      <td>2010-09-17</td>\n",
       "      <td>9741.14</td>\n",
       "      <td>False</td>\n",
       "      <td>1284692400.00</td>\n",
       "      <td>45_11</td>\n",
       "    </tr>\n",
       "    <tr>\n",
       "      <td>359733</td>\n",
       "      <td>38</td>\n",
       "      <td>87</td>\n",
       "      <td>2011-10-07</td>\n",
       "      <td>854.92</td>\n",
       "      <td>False</td>\n",
       "      <td>1317956400.00</td>\n",
       "      <td>38_87</td>\n",
       "    </tr>\n",
       "    <tr>\n",
       "      <td>118277</td>\n",
       "      <td>13</td>\n",
       "      <td>5</td>\n",
       "      <td>2011-12-30</td>\n",
       "      <td>73961.94</td>\n",
       "      <td>True</td>\n",
       "      <td>1325214000.00</td>\n",
       "      <td>13_5</td>\n",
       "    </tr>\n",
       "    <tr>\n",
       "      <td>258712</td>\n",
       "      <td>27</td>\n",
       "      <td>14</td>\n",
       "      <td>2011-12-23</td>\n",
       "      <td>77035.86</td>\n",
       "      <td>False</td>\n",
       "      <td>1324609200.00</td>\n",
       "      <td>27_14</td>\n",
       "    </tr>\n",
       "    <tr>\n",
       "      <td>5988</td>\n",
       "      <td>1</td>\n",
       "      <td>46</td>\n",
       "      <td>2011-09-16</td>\n",
       "      <td>17763.55</td>\n",
       "      <td>False</td>\n",
       "      <td>1316142000.00</td>\n",
       "      <td>1_46</td>\n",
       "    </tr>\n",
       "    <tr>\n",
       "      <td>225068</td>\n",
       "      <td>23</td>\n",
       "      <td>81</td>\n",
       "      <td>2012-06-22</td>\n",
       "      <td>8663.25</td>\n",
       "      <td>False</td>\n",
       "      <td>1340334000.00</td>\n",
       "      <td>23_81</td>\n",
       "    </tr>\n",
       "    <tr>\n",
       "      <td>111742</td>\n",
       "      <td>12</td>\n",
       "      <td>29</td>\n",
       "      <td>2010-04-09</td>\n",
       "      <td>5707.00</td>\n",
       "      <td>False</td>\n",
       "      <td>1270782000.00</td>\n",
       "      <td>12_29</td>\n",
       "    </tr>\n",
       "    <tr>\n",
       "      <td>116106</td>\n",
       "      <td>12</td>\n",
       "      <td>83</td>\n",
       "      <td>2011-02-11</td>\n",
       "      <td>224.90</td>\n",
       "      <td>True</td>\n",
       "      <td>1297393200.00</td>\n",
       "      <td>12_83</td>\n",
       "    </tr>\n",
       "    <tr>\n",
       "      <td>273104</td>\n",
       "      <td>28</td>\n",
       "      <td>49</td>\n",
       "      <td>2011-04-08</td>\n",
       "      <td>16645.97</td>\n",
       "      <td>False</td>\n",
       "      <td>1302231600.00</td>\n",
       "      <td>28_49</td>\n",
       "    </tr>\n",
       "    <tr>\n",
       "      <td>328022</td>\n",
       "      <td>34</td>\n",
       "      <td>71</td>\n",
       "      <td>2010-06-25</td>\n",
       "      <td>2202.20</td>\n",
       "      <td>False</td>\n",
       "      <td>1277434800.00</td>\n",
       "      <td>34_71</td>\n",
       "    </tr>\n",
       "  </tbody>\n",
       "</table>\n",
       "</div>"
      ],
      "text/plain": [
       "       Store Dept        Date  Weekly_Sales  IsHoliday     timestamp  \\\n",
       "413395    45   11  2010-09-17       9741.14      False 1284692400.00   \n",
       "359733    38   87  2011-10-07        854.92      False 1317956400.00   \n",
       "118277    13    5  2011-12-30      73961.94       True 1325214000.00   \n",
       "258712    27   14  2011-12-23      77035.86      False 1324609200.00   \n",
       "5988       1   46  2011-09-16      17763.55      False 1316142000.00   \n",
       "225068    23   81  2012-06-22       8663.25      False 1340334000.00   \n",
       "111742    12   29  2010-04-09       5707.00      False 1270782000.00   \n",
       "116106    12   83  2011-02-11        224.90       True 1297393200.00   \n",
       "273104    28   49  2011-04-08      16645.97      False 1302231600.00   \n",
       "328022    34   71  2010-06-25       2202.20      False 1277434800.00   \n",
       "\n",
       "       store_dept  \n",
       "413395      45_11  \n",
       "359733      38_87  \n",
       "118277       13_5  \n",
       "258712      27_14  \n",
       "5988         1_46  \n",
       "225068      23_81  \n",
       "111742      12_29  \n",
       "116106      12_83  \n",
       "273104      28_49  \n",
       "328022      34_71  "
      ]
     },
     "execution_count": 6,
     "metadata": {},
     "output_type": "execute_result"
    }
   ],
   "source": [
    "train.sample(10)"
   ]
  },
  {
   "cell_type": "code",
   "execution_count": 7,
   "metadata": {},
   "outputs": [
    {
     "data": {
      "text/html": [
       "<div>\n",
       "<style scoped>\n",
       "    .dataframe tbody tr th:only-of-type {\n",
       "        vertical-align: middle;\n",
       "    }\n",
       "\n",
       "    .dataframe tbody tr th {\n",
       "        vertical-align: top;\n",
       "    }\n",
       "\n",
       "    .dataframe thead th {\n",
       "        text-align: right;\n",
       "    }\n",
       "</style>\n",
       "<table border=\"1\" class=\"dataframe\">\n",
       "  <thead>\n",
       "    <tr style=\"text-align: right;\">\n",
       "      <th></th>\n",
       "      <th>Store</th>\n",
       "      <th>Dept</th>\n",
       "      <th>Date</th>\n",
       "      <th>Weekly_Sales</th>\n",
       "      <th>IsHoliday</th>\n",
       "      <th>timestamp</th>\n",
       "      <th>store_dept</th>\n",
       "    </tr>\n",
       "  </thead>\n",
       "  <tbody>\n",
       "    <tr>\n",
       "      <td>0</td>\n",
       "      <td>1</td>\n",
       "      <td>1</td>\n",
       "      <td>2010-02-05</td>\n",
       "      <td>24924.50</td>\n",
       "      <td>False</td>\n",
       "      <td>1265338800.00</td>\n",
       "      <td>1_1</td>\n",
       "    </tr>\n",
       "    <tr>\n",
       "      <td>277665</td>\n",
       "      <td>29</td>\n",
       "      <td>5</td>\n",
       "      <td>2010-02-05</td>\n",
       "      <td>15552.08</td>\n",
       "      <td>False</td>\n",
       "      <td>1265338800.00</td>\n",
       "      <td>29_5</td>\n",
       "    </tr>\n",
       "    <tr>\n",
       "      <td>277808</td>\n",
       "      <td>29</td>\n",
       "      <td>6</td>\n",
       "      <td>2010-02-05</td>\n",
       "      <td>3200.22</td>\n",
       "      <td>False</td>\n",
       "      <td>1265338800.00</td>\n",
       "      <td>29_6</td>\n",
       "    </tr>\n",
       "    <tr>\n",
       "      <td>181313</td>\n",
       "      <td>19</td>\n",
       "      <td>31</td>\n",
       "      <td>2012-10-26</td>\n",
       "      <td>3128.17</td>\n",
       "      <td>False</td>\n",
       "      <td>1351220400.00</td>\n",
       "      <td>19_31</td>\n",
       "    </tr>\n",
       "    <tr>\n",
       "      <td>181599</td>\n",
       "      <td>19</td>\n",
       "      <td>33</td>\n",
       "      <td>2012-10-26</td>\n",
       "      <td>5740.14</td>\n",
       "      <td>False</td>\n",
       "      <td>1351220400.00</td>\n",
       "      <td>19_33</td>\n",
       "    </tr>\n",
       "    <tr>\n",
       "      <td>421569</td>\n",
       "      <td>45</td>\n",
       "      <td>98</td>\n",
       "      <td>2012-10-26</td>\n",
       "      <td>1076.80</td>\n",
       "      <td>False</td>\n",
       "      <td>1351220400.00</td>\n",
       "      <td>45_98</td>\n",
       "    </tr>\n",
       "  </tbody>\n",
       "</table>\n",
       "</div>"
      ],
      "text/plain": [
       "       Store Dept        Date  Weekly_Sales  IsHoliday     timestamp  \\\n",
       "0          1    1  2010-02-05      24924.50      False 1265338800.00   \n",
       "277665    29    5  2010-02-05      15552.08      False 1265338800.00   \n",
       "277808    29    6  2010-02-05       3200.22      False 1265338800.00   \n",
       "181313    19   31  2012-10-26       3128.17      False 1351220400.00   \n",
       "181599    19   33  2012-10-26       5740.14      False 1351220400.00   \n",
       "421569    45   98  2012-10-26       1076.80      False 1351220400.00   \n",
       "\n",
       "       store_dept  \n",
       "0             1_1  \n",
       "277665       29_5  \n",
       "277808       29_6  \n",
       "181313      19_31  \n",
       "181599      19_33  \n",
       "421569      45_98  "
      ]
     },
     "execution_count": 7,
     "metadata": {},
     "output_type": "execute_result"
    }
   ],
   "source": [
    "train.head(3).append(train.tail(3))"
   ]
  },
  {
   "cell_type": "markdown",
   "metadata": {},
   "source": [
    "# <font color=\"navy\">Overview</font>"
   ]
  },
  {
   "cell_type": "markdown",
   "metadata": {},
   "source": [
    "#### Weekly Sales"
   ]
  },
  {
   "cell_type": "code",
   "execution_count": 8,
   "metadata": {},
   "outputs": [
    {
     "data": {
      "text/plain": [
       "count   421570.00\n",
       "mean     15981.26\n",
       "std      22711.18\n",
       "min      -4988.94\n",
       "25%       2079.65\n",
       "50%       7612.03\n",
       "75%      20205.85\n",
       "max     693099.36\n",
       "Name: Weekly_Sales, dtype: float64"
      ]
     },
     "execution_count": 8,
     "metadata": {},
     "output_type": "execute_result"
    }
   ],
   "source": [
    "train[\"Weekly_Sales\"].describe()"
   ]
  },
  {
   "cell_type": "markdown",
   "metadata": {},
   "source": [
    "<b>Negative Sales</b> <br>\n",
    "https://www.kaggle.com/c/walmart-recruiting-store-sales-forecasting/discussion/7152"
   ]
  },
  {
   "cell_type": "code",
   "execution_count": 9,
   "metadata": {},
   "outputs": [
    {
     "data": {
      "text/html": [
       "<div>\n",
       "<style scoped>\n",
       "    .dataframe tbody tr th:only-of-type {\n",
       "        vertical-align: middle;\n",
       "    }\n",
       "\n",
       "    .dataframe tbody tr th {\n",
       "        vertical-align: top;\n",
       "    }\n",
       "\n",
       "    .dataframe thead th {\n",
       "        text-align: right;\n",
       "    }\n",
       "</style>\n",
       "<table border=\"1\" class=\"dataframe\">\n",
       "  <thead>\n",
       "    <tr style=\"text-align: right;\">\n",
       "      <th></th>\n",
       "      <th>freq_absolute</th>\n",
       "      <th>freq_relative</th>\n",
       "    </tr>\n",
       "  </thead>\n",
       "  <tbody>\n",
       "    <tr>\n",
       "      <td>False</td>\n",
       "      <td>420285</td>\n",
       "      <td>99.70%</td>\n",
       "    </tr>\n",
       "    <tr>\n",
       "      <td>True</td>\n",
       "      <td>1285</td>\n",
       "      <td>0.30%</td>\n",
       "    </tr>\n",
       "  </tbody>\n",
       "</table>\n",
       "</div>"
      ],
      "text/plain": [
       "       freq_absolute freq_relative\n",
       "False         420285        99.70%\n",
       "True            1285         0.30%"
      ]
     },
     "execution_count": 9,
     "metadata": {},
     "output_type": "execute_result"
    }
   ],
   "source": [
    "stats.freq(train[\"Weekly_Sales\"] < 0)"
   ]
  },
  {
   "cell_type": "markdown",
   "metadata": {},
   "source": [
    "<b>Zero Sales</b>"
   ]
  },
  {
   "cell_type": "code",
   "execution_count": 10,
   "metadata": {},
   "outputs": [
    {
     "data": {
      "text/html": [
       "<div>\n",
       "<style scoped>\n",
       "    .dataframe tbody tr th:only-of-type {\n",
       "        vertical-align: middle;\n",
       "    }\n",
       "\n",
       "    .dataframe tbody tr th {\n",
       "        vertical-align: top;\n",
       "    }\n",
       "\n",
       "    .dataframe thead th {\n",
       "        text-align: right;\n",
       "    }\n",
       "</style>\n",
       "<table border=\"1\" class=\"dataframe\">\n",
       "  <thead>\n",
       "    <tr style=\"text-align: right;\">\n",
       "      <th></th>\n",
       "      <th>freq_absolute</th>\n",
       "      <th>freq_relative</th>\n",
       "    </tr>\n",
       "  </thead>\n",
       "  <tbody>\n",
       "    <tr>\n",
       "      <td>False</td>\n",
       "      <td>421497</td>\n",
       "      <td>99.98%</td>\n",
       "    </tr>\n",
       "    <tr>\n",
       "      <td>True</td>\n",
       "      <td>73</td>\n",
       "      <td>0.02%</td>\n",
       "    </tr>\n",
       "  </tbody>\n",
       "</table>\n",
       "</div>"
      ],
      "text/plain": [
       "       freq_absolute freq_relative\n",
       "False         421497        99.98%\n",
       "True              73         0.02%"
      ]
     },
     "execution_count": 10,
     "metadata": {},
     "output_type": "execute_result"
    }
   ],
   "source": [
    "stats.freq(train[\"Weekly_Sales\"] == 0)"
   ]
  },
  {
   "cell_type": "markdown",
   "metadata": {},
   "source": [
    "<b>No Outliers</b>"
   ]
  },
  {
   "cell_type": "code",
   "execution_count": 11,
   "metadata": {},
   "outputs": [
    {
     "data": {
      "text/plain": [
       "<matplotlib.axes._subplots.AxesSubplot at 0x7f9231b18610>"
      ]
     },
     "execution_count": 11,
     "metadata": {},
     "output_type": "execute_result"
    }
   ],
   "source": [
    "train[\"Weekly_Sales\"].plot.hist(title=\"Weekly Sales Overview\", figsize=(6,3))"
   ]
  },
  {
   "cell_type": "code",
   "execution_count": 12,
   "metadata": {},
   "outputs": [
    {
     "data": {
      "text/plain": [
       "<matplotlib.axes._subplots.AxesSubplot at 0x7f923035da90>"
      ]
     },
     "execution_count": 12,
     "metadata": {},
     "output_type": "execute_result"
    },
    {
     "data": {
      "image/png": "[encoded data removed]",
      "text/plain": [
       "<Figure size 432x216 with 1 Axes>"
      ]
     },
     "metadata": {
      "needs_background": "light"
     },
     "output_type": "display_data"
    }
   ],
   "source": [
    "outliers_thresh_quantile = 0.90\n",
    "no_outliers = train[train[\"Weekly_Sales\"] <= train[\"Weekly_Sales\"].quantile(outliers_thresh_quantile)]\n",
    "no_outliers[\"Weekly_Sales\"].plot.hist(title=\"Weekly Sales Overview - No Outliers ({}%)\".format(100 * outliers_thresh_quantile), figsize=(6,3))"
   ]
  },
  {
   "cell_type": "markdown",
   "metadata": {},
   "source": [
    " "
   ]
  },
  {
   "cell_type": "markdown",
   "metadata": {},
   "source": [
    "# <font color=\"navy\">Stores</font>"
   ]
  },
  {
   "cell_type": "code",
   "execution_count": 13,
   "metadata": {},
   "outputs": [
    {
     "data": {
      "text/plain": [
       "'45 stores'"
      ]
     },
     "execution_count": 13,
     "metadata": {},
     "output_type": "execute_result"
    }
   ],
   "source": [
    "\"{} stores\".format(len(train[\"Store\"].drop_duplicates()))"
   ]
  },
  {
   "cell_type": "code",
   "execution_count": 14,
   "metadata": {},
   "outputs": [
    {
     "data": {
      "text/plain": [
       "<matplotlib.axes._subplots.AxesSubplot at 0x7f9230359c50>"
      ]
     },
     "execution_count": 14,
     "metadata": {},
     "output_type": "execute_result"
    },
    {
     "data": {
      "image/png": "[encoded data removed]",
      "text/plain": [
       "<Figure size 720x216 with 1 Axes>"
      ]
     },
     "metadata": {
      "needs_background": "light"
     },
     "output_type": "display_data"
    }
   ],
   "source": [
    "train.groupby(\"Store\")[\"Weekly_Sales\"].sum().sort_values().plot.bar(title=\"Sales grouped by store\", figsize=(10,3))"
   ]
  },
  {
   "cell_type": "markdown",
   "metadata": {},
   "source": [
    " "
   ]
  },
  {
   "cell_type": "markdown",
   "metadata": {},
   "source": [
    "# <font color=\"navy\">Dates</font>"
   ]
  },
  {
   "cell_type": "code",
   "execution_count": 15,
   "metadata": {},
   "outputs": [],
   "source": [
    "date_diff = time_utils.time_resolution(train)"
   ]
  },
  {
   "cell_type": "code",
   "execution_count": 16,
   "metadata": {},
   "outputs": [
    {
     "name": "stdout",
     "output_type": "stream",
     "text": [
      "time between dates\n"
     ]
    },
    {
     "data": {
      "text/plain": [
       "7 days    141\n",
       "Name: Date, dtype: int64"
      ]
     },
     "execution_count": 16,
     "metadata": {},
     "output_type": "execute_result"
    }
   ],
   "source": [
    "print(\"time between dates\")\n",
    "date_diff.value_counts()"
   ]
  },
  {
   "cell_type": "code",
   "execution_count": 17,
   "metadata": {},
   "outputs": [
    {
     "name": "stderr",
     "output_type": "stream",
     "text": [
      "/home/tales/anaconda3/lib/python3.7/site-packages/bokeh/plotting/helpers.py:628: UserWarning: WheelZoomTool are being repeated\n",
      "  warnings.warn(\"%s are being repeated\" % \",\".join(repeated_tools))\n"
     ]
    },
    {
     "data": {
      "text/html": [
       "\n",
       "\n",
       "\n",
       "\n",
       "\n",
       "\n",
       "  <div class=\"bk-root\" id=\"9a4d0274-a8fc-4b7e-9566-efccaa59eaf7\" data-root-id=\"1002\"></div>\n"
      ]
     },
     "metadata": {},
     "output_type": "display_data"
    },
    {
     "data": {
      "application/javascript": [
       "(function(root) {\n",
       "  function embed_document(root) {\n",
       "    \n",
       "  var docs_json = {\"b6e9f2f9-c239-4a65-b655-9a1403761616\":{\"roots\":{\"references\":[{\"attributes\":{\"below\":[{\"id\":\"1013\",\"type\":\"DatetimeAxis\"}],\"center\":[{\"id\":\"1017\",\"type\":\"Grid\"},{\"id\":\"1022\",\"type\":\"Grid\"}],\"left\":[{\"id\":\"1018\",\"type\":\"LinearAxis\"}],\"plot_height\":300,\"plot_width\":900,\"renderers\":[{\"id\":\"1039\",\"type\":\"GlyphRenderer\"},{\"id\":\"1044\",\"type\":\"GlyphRenderer\"}],\"title\":{\"id\":\"1003\",\"type\":\"Title\"},\"toolbar\":{\"id\":\"1028\",\"type\":\"Toolbar\"},\"x_range\":{\"id\":\"1005\",\"type\":\"DataRange1d\"},\"x_scale\":{\"id\":\"1009\",\"type\":\"LinearScale\"},\"y_range\":{\"id\":\"1046\",\"type\":\"Range1d\"},\"y_scale\":{\"id\":\"1011\",\"type\":\"LinearScale\"}},\"id\":\"1002\",\"subtype\":\"Figure\",\"type\":\"Plot\"},{\"attributes\":{\"dimension\":1,\"ticker\":{\"id\":\"1019\",\"type\":\"BasicTicker\"}},\"id\":\"1022\",\"type\":\"Grid\"},{\"attributes\":{\"active_drag\":\"auto\",\"active_inspect\":\"auto\",\"active_multi\":null,\"active_scroll\":\"auto\",\"active_tap\":\"auto\",\"tools\":[{\"id\":\"1023\",\"type\":\"PanTool\"},{\"id\":\"1024\",\"type\":\"WheelZoomTool\"},{\"id\":\"1025\",\"type\":\"WheelZoomTool\"},{\"id\":\"1026\",\"type\":\"ResetTool\"},{\"id\":\"1027\",\"type\":\"SaveTool\"}]},\"id\":\"1028\",\"type\":\"Toolbar\"},{\"attributes\":{\"num_minor_ticks\":5,\"tickers\":[{\"id\":\"1051\",\"type\":\"AdaptiveTicker\"},{\"id\":\"1052\",\"type\":\"AdaptiveTicker\"},{\"id\":\"1053\",\"type\":\"AdaptiveTicker\"},{\"id\":\"1054\",\"type\":\"DaysTicker\"},{\"id\":\"1055\",\"type\":\"DaysTicker\"},{\"id\":\"1056\",\"type\":\"DaysTicker\"},{\"id\":\"1057\",\"type\":\"DaysTicker\"},{\"id\":\"1058\",\"type\":\"MonthsTicker\"},{\"id\":\"1059\",\"type\":\"MonthsTicker\"},{\"id\":\"1060\",\"type\":\"MonthsTicker\"},{\"id\":\"1061\",\"type\":\"MonthsTicker\"},{\"id\":\"1062\",\"type\":\"YearsTicker\"}]},\"id\":\"1014\",\"type\":\"DatetimeTicker\"},{\"attributes\":{\"source\":{\"id\":\"1041\",\"type\":\"ColumnDataSource\"}},\"id\":\"1045\",\"type\":\"CDSView\"},{\"attributes\":{\"months\":[0,4,8]},\"id\":\"1060\",\"type\":\"MonthsTicker\"},{\"attributes\":{\"data_source\":{\"id\":\"1041\",\"type\":\"ColumnDataSource\"},\"glyph\":{\"id\":\"1042\",\"type\":\"Line\"},\"hover_glyph\":null,\"muted_glyph\":null,\"nonselection_glyph\":{\"id\":\"1043\",\"type\":\"Line\"},\"selection_glyph\":null,\"view\":{\"id\":\"1045\",\"type\":\"CDSView\"}},\"id\":\"1044\",\"type\":\"GlyphRenderer\"},{\"attributes\":{\"data_source\":{\"id\":\"1036\",\"type\":\"ColumnDataSource\"},\"glyph\":{\"id\":\"1037\",\"type\":\"Circle\"},\"hover_glyph\":null,\"muted_glyph\":null,\"nonselection_glyph\":{\"id\":\"1038\",\"type\":\"Circle\"},\"selection_glyph\":null,\"view\":{\"id\":\"1040\",\"type\":\"CDSView\"}},\"id\":\"1039\",\"type\":\"GlyphRenderer\"},{\"attributes\":{\"callback\":null},\"id\":\"1005\",\"type\":\"DataRange1d\"},{\"attributes\":{},\"id\":\"1011\",\"type\":\"LinearScale\"},{\"attributes\":{\"months\":[0,6]},\"id\":\"1061\",\"type\":\"MonthsTicker\"},{\"attributes\":{\"dimensions\":\"height\"},\"id\":\"1024\",\"type\":\"WheelZoomTool\"},{\"attributes\":{},\"id\":\"1064\",\"type\":\"UnionRenderers\"},{\"attributes\":{\"callback\":null,\"data\":{\"x\":{\"__ndarray__\":\"AADA0LZpckIAAACZ92tyQgAAQGE4bnJCAACAKXlwckIAAMDxuXJyQgAAALr6dHJCAABAgjt3ckIAAIBKfHlyQgAAwBK9e3JCAAAA2/19ckIAAECjPoByQgAAgGt/gnJCAADAM8CEckIAAAD8AIdyQgAAQMRBiXJCAACAjIKLckIAAMBUw41yQgAAAB0EkHJCAABA5USSckIAAICthZRyQgAAwHXGlnJCAAAAPgeZckIAAEAGSJtyQgAAgM6InXJCAADAlsmfckIAAABfCqJyQgAAQCdLpHJCAACA74umckIAAMC3zKhyQgAAAIANq3JCAABASE6tckIAAIAQj69yQgAAwNjPsXJCAAAAoRC0ckIAAEBpUbZyQgAAgDGSuHJCAADA+dK6ckIAAADCE71yQgAAQIpUv3JCAACAUpXBckIAAMAa1sNyQgAAAOMWxnJCAABAq1fIckIAAIBzmMpyQgAAwDvZzHJCAAAABBrPckIAAEDMWtFyQgAAgJSb03JCAADAXNzVckIAAAAlHdhyQgAAQO1d2nJCAACAtZ7cckIAAMB9395yQgAAAEYg4XJCAABADmHjckIAAIDWoeVyQgAAwJ7i53JCAAAAZyPqckIAAEAvZOxyQgAAgPek7nJCAADAv+XwckIAAACIJvNyQgAAQFBn9XJCAACAGKj3ckIAAMDg6PlyQgAAAKkp/HJCAABAcWr+ckIAAIA5qwBzQgAAwAHsAnNCAAAAyiwFc0IAAECSbQdzQgAAgFquCXNCAADAIu8Lc0IAAADrLw5zQgAAQLNwEHNCAACAe7ESc0IAAMBD8hRzQgAAAAwzF3NCAABA1HMZc0IAAICctBtzQgAAwGT1HXNCAAAALTYgc0IAAED1diJzQgAAgL23JHNCAADAhfgmc0IAAABOOSlzQgAAQBZ6K3NCAACA3rotc0IAAMCm+y9zQgAAAG88MnNCAABAN300c0IAAID/vTZzQgAAwMf+OHNCAAAAkD87c0IAAEBYgD1zQgAAgCDBP3NCAADA6AFCc0IAAACxQkRzQgAAQHmDRnNCAACAQcRIc0IAAMAJBUtzQgAAANJFTXNCAABAmoZPc0IAAIBix1FzQgAAwCoIVHNCAAAA80hWc0IAAEC7iVhzQgAAgIPKWnNCAADASwtdc0IAAAAUTF9zQgAAQNyMYXNCAACApM1jc0IAAMBsDmZzQgAAADVPaHNCAABA/Y9qc0IAAIDF0GxzQgAAwI0Rb3NCAAAAVlJxc0IAAEAek3NzQgAAgObTdXNCAADArhR4c0IAAAB3VXpzQgAAQD+WfHNCAACAB9d+c0IAAMDPF4FzQgAAAJhYg3NCAABAYJmFc0IAAIAo2odzQgAAwPAainNCAAAAuVuMc0IAAECBnI5zQgAAgEndkHNCAADAER6Tc0IAAADaXpVzQgAAQKKfl3NCAACAauCZc0IAAMAyIZxzQgAAAPthnnNCAABAw6Kgc0IAAICL46JzQgAAwFMkpXNCAAAAHGWnc0IAAEDkpalzQg==\",\"dtype\":\"float64\",\"shape\":[143]},\"y\":{\"__ndarray__\":\"9P//oxa5h0FsPQoteQyHQZlwPQ4wBYdBYT0K2UH3hEFtZmZynVmGQeR6FKQg5oVBSrgeddFzhUFiZmZIcguFQfJ6FLpAC4hBvB6FU+WVhkEA16OYlYuFQUDheqS/VIVBcxSuNRnXhEHJ9ShcziCHQZaZmQF1nYVBSOF6YNODhUFS4Xr0xcWGQYvC9fiH7odBZo/ClTPOhkE7CtfxPLWGQYzrUWKUOYZBDwAAZF9Th0GawvVKHNeGQQnXo9wBDYZBsEfhiJhnhUH2KFzbCkiFQZHC9Thm/IZBF65HE+0nhkH3KFzHvnCGQcAehWM35IVBs0fhjASBhkHqUbjumsKFQeR6FLTgioRBIq5Hk6W4g0GBwvUePCSEQU0K1/G7gYVBlpmZC0WThEHC9ShsKYmEQZWZmXecyoRBWLge757UhUED16MGeP6FQeGjcIF+hIVBJ4XrWcpij0F9PQofacyHQU+4HpNCi4pBwMzM/nt6jUFmZmZeqUuTQf///zecR4NBxvUoXqdlhEGC61FwDGWDQZRwPcC5YoNBGIXrZ/fhgkGHwvW47AGGQXzrUQZYkoZBmML1IMw6h0HwUbgedQqFQSGF693vZoZBSDMzu6tHhUFmj8IvlGWFQeKjcDnpcYRBvB6FeQ25hEFoZmZWf+GFQVS4HoHocYVBPOF6oPo1h0G3cD2GucGEQZjrUTJ0WIZBMVyPBqCrhUHlehQwyACFQYzrUYj8mIVB0KNw0ZxBh0Elrkc1D7uGQcb1KE7wn4ZBHdej9BXhhUH7//+77K+GQaBwPf4x0oZB+yhczyS0hUFguB5bqZaFQaVwPVJu1IRBZ4/CV0PlhkFoFK4Jsw2GQYvC9Rw3X4ZBkJmZozOchkG59Sh6I6OFQalwPdxmTIZBB9ejQPHhhEE0CteFnF6EQULherbbHoRBvUfhQiWDhkFZZmYi2SiFQagehUsi2YVBaWZmaKLdhUFuZmbCZTOHQfn//4VDHYdBN+F6JNIkhkHZehQqGsGPQRaF6+MejYdBnJmZ3V1+ikGxHoX/raaMQahwPYWZW5JBdOtR6Gr0hUGOmZnvuG+FQTYK1zPFCYRBTuF6JNcQhEHxKFz1qv6CQe5RuECv+YVB3ihc/6nYh0FmFK4Hku+HQSlcj5RX04VBZ4/CV1dYhkGpR+Ew9KOGQbUehQdIXYZBlJmZE2h0hUG/9SjweJaFQYzC9V4Lg4lBGq5Haww8hkGycD2OBH6FQUy4HveF2IRB46NwL3d4hkEfheu3QWCGQVuPwhnQU4ZBTOF6ej/WhkFaj8KNwQWHQaVwPR7vrIdBjJmZda4Vh0FUj8Ln4bqGQZbC9cAfOIZBZz0K73hwiEHazMygaPuFQaaZmbuA9oVBVo/CF/QGhUFE4XpcnqSGQYPrUdiNmoZBZGZmoJKUhkHMzMzc6J+GQdGjcLvKfIZBTeF6WqoLh0ExMzO1rxaFQbZH4ZhfJoVBKjMzm7vahEFZ4Xp6ea6GQQoAABLs/oVBMlyPVBuEhUGL61GilbeFQQ==\",\"dtype\":\"float64\",\"shape\":[143]}},\"selected\":{\"id\":\"1063\",\"type\":\"Selection\"},\"selection_policy\":{\"id\":\"1064\",\"type\":\"UnionRenderers\"}},\"id\":\"1036\",\"type\":\"ColumnDataSource\"},{\"attributes\":{},\"id\":\"1062\",\"type\":\"YearsTicker\"},{\"attributes\":{\"callback\":null,\"end\":89024557.16},\"id\":\"1046\",\"type\":\"Range1d\"},{\"attributes\":{\"days\":[\"%d/%b\"],\"hours\":[\"%H:%M %d/%b\"],\"months\":[\"%d/%b/%Y\"],\"years\":[\"%d/%b/%Y\"]},\"id\":\"1034\",\"type\":\"DatetimeTickFormatter\"},{\"attributes\":{\"months\":[0,2,4,6,8,10]},\"id\":\"1059\",\"type\":\"MonthsTicker\"},{\"attributes\":{},\"id\":\"1023\",\"type\":\"PanTool\"},{\"attributes\":{},\"id\":\"1063\",\"type\":\"Selection\"},{\"attributes\":{},\"id\":\"1065\",\"type\":\"Selection\"},{\"attributes\":{\"formatter\":{\"id\":\"1049\",\"type\":\"BasicTickFormatter\"},\"ticker\":{\"id\":\"1019\",\"type\":\"BasicTicker\"}},\"id\":\"1018\",\"type\":\"LinearAxis\"},{\"attributes\":{\"callback\":null,\"data\":{\"x\":{\"__ndarray__\":\"AADA0LZpckIAAACZ92tyQgAAQGE4bnJCAACAKXlwckIAAMDxuXJyQgAAALr6dHJCAABAgjt3ckIAAIBKfHlyQgAAwBK9e3JCAAAA2/19ckIAAECjPoByQgAAgGt/gnJCAADAM8CEckIAAAD8AIdyQgAAQMRBiXJCAACAjIKLckIAAMBUw41yQgAAAB0EkHJCAABA5USSckIAAICthZRyQgAAwHXGlnJCAAAAPgeZckIAAEAGSJtyQgAAgM6InXJCAADAlsmfckIAAABfCqJyQgAAQCdLpHJCAACA74umckIAAMC3zKhyQgAAAIANq3JCAABASE6tckIAAIAQj69yQgAAwNjPsXJCAAAAoRC0ckIAAEBpUbZyQgAAgDGSuHJCAADA+dK6ckIAAADCE71yQgAAQIpUv3JCAACAUpXBckIAAMAa1sNyQgAAAOMWxnJCAABAq1fIckIAAIBzmMpyQgAAwDvZzHJCAAAABBrPckIAAEDMWtFyQgAAgJSb03JCAADAXNzVckIAAAAlHdhyQgAAQO1d2nJCAACAtZ7cckIAAMB9395yQgAAAEYg4XJCAABADmHjckIAAIDWoeVyQgAAwJ7i53JCAAAAZyPqckIAAEAvZOxyQgAAgPek7nJCAADAv+XwckIAAACIJvNyQgAAQFBn9XJCAACAGKj3ckIAAMDg6PlyQgAAAKkp/HJCAABAcWr+ckIAAIA5qwBzQgAAwAHsAnNCAAAAyiwFc0IAAECSbQdzQgAAgFquCXNCAADAIu8Lc0IAAADrLw5zQgAAQLNwEHNCAACAe7ESc0IAAMBD8hRzQgAAAAwzF3NCAABA1HMZc0IAAICctBtzQgAAwGT1HXNCAAAALTYgc0IAAED1diJzQgAAgL23JHNCAADAhfgmc0IAAABOOSlzQgAAQBZ6K3NCAACA3rotc0IAAMCm+y9zQgAAAG88MnNCAABAN300c0IAAID/vTZzQgAAwMf+OHNCAAAAkD87c0IAAEBYgD1zQgAAgCDBP3NCAADA6AFCc0IAAACxQkRzQgAAQHmDRnNCAACAQcRIc0IAAMAJBUtzQgAAANJFTXNCAABAmoZPc0IAAIBix1FzQgAAwCoIVHNCAAAA80hWc0IAAEC7iVhzQgAAgIPKWnNCAADASwtdc0IAAAAUTF9zQgAAQNyMYXNCAACApM1jc0IAAMBsDmZzQgAAADVPaHNCAABA/Y9qc0IAAIDF0GxzQgAAwI0Rb3NCAAAAVlJxc0IAAEAek3NzQgAAgObTdXNCAADArhR4c0IAAAB3VXpzQgAAQD+WfHNCAACAB9d+c0IAAMDPF4FzQgAAAJhYg3NCAABAYJmFc0IAAIAo2odzQgAAwPAainNCAAAAuVuMc0IAAECBnI5zQgAAgEndkHNCAADAER6Tc0IAAADaXpVzQgAAQKKfl3NCAACAauCZc0IAAMAyIZxzQgAAAPthnnNCAABAw6Kgc0IAAICL46JzQgAAwFMkpXNCAAAAHGWnc0IAAEDkpalzQg==\",\"dtype\":\"float64\",\"shape\":[143]},\"y\":{\"__ndarray__\":\"9P//oxa5h0FsPQoteQyHQZlwPQ4wBYdBYT0K2UH3hEFtZmZynVmGQeR6FKQg5oVBSrgeddFzhUFiZmZIcguFQfJ6FLpAC4hBvB6FU+WVhkEA16OYlYuFQUDheqS/VIVBcxSuNRnXhEHJ9ShcziCHQZaZmQF1nYVBSOF6YNODhUFS4Xr0xcWGQYvC9fiH7odBZo/ClTPOhkE7CtfxPLWGQYzrUWKUOYZBDwAAZF9Th0GawvVKHNeGQQnXo9wBDYZBsEfhiJhnhUH2KFzbCkiFQZHC9Thm/IZBF65HE+0nhkH3KFzHvnCGQcAehWM35IVBs0fhjASBhkHqUbjumsKFQeR6FLTgioRBIq5Hk6W4g0GBwvUePCSEQU0K1/G7gYVBlpmZC0WThEHC9ShsKYmEQZWZmXecyoRBWLge757UhUED16MGeP6FQeGjcIF+hIVBJ4XrWcpij0F9PQofacyHQU+4HpNCi4pBwMzM/nt6jUFmZmZeqUuTQf///zecR4NBxvUoXqdlhEGC61FwDGWDQZRwPcC5YoNBGIXrZ/fhgkGHwvW47AGGQXzrUQZYkoZBmML1IMw6h0HwUbgedQqFQSGF693vZoZBSDMzu6tHhUFmj8IvlGWFQeKjcDnpcYRBvB6FeQ25hEFoZmZWf+GFQVS4HoHocYVBPOF6oPo1h0G3cD2GucGEQZjrUTJ0WIZBMVyPBqCrhUHlehQwyACFQYzrUYj8mIVB0KNw0ZxBh0Elrkc1D7uGQcb1KE7wn4ZBHdej9BXhhUH7//+77K+GQaBwPf4x0oZB+yhczyS0hUFguB5bqZaFQaVwPVJu1IRBZ4/CV0PlhkFoFK4Jsw2GQYvC9Rw3X4ZBkJmZozOchkG59Sh6I6OFQalwPdxmTIZBB9ejQPHhhEE0CteFnF6EQULherbbHoRBvUfhQiWDhkFZZmYi2SiFQagehUsi2YVBaWZmaKLdhUFuZmbCZTOHQfn//4VDHYdBN+F6JNIkhkHZehQqGsGPQRaF6+MejYdBnJmZ3V1+ikGxHoX/raaMQahwPYWZW5JBdOtR6Gr0hUGOmZnvuG+FQTYK1zPFCYRBTuF6JNcQhEHxKFz1qv6CQe5RuECv+YVB3ihc/6nYh0FmFK4Hku+HQSlcj5RX04VBZ4/CV1dYhkGpR+Ew9KOGQbUehQdIXYZBlJmZE2h0hUG/9SjweJaFQYzC9V4Lg4lBGq5Haww8hkGycD2OBH6FQUy4HveF2IRB46NwL3d4hkEfheu3QWCGQVuPwhnQU4ZBTOF6ej/WhkFaj8KNwQWHQaVwPR7vrIdBjJmZda4Vh0FUj8Ln4bqGQZbC9cAfOIZBZz0K73hwiEHazMygaPuFQaaZmbuA9oVBVo/CF/QGhUFE4XpcnqSGQYPrUdiNmoZBZGZmoJKUhkHMzMzc6J+GQdGjcLvKfIZBTeF6WqoLh0ExMzO1rxaFQbZH4ZhfJoVBKjMzm7vahEFZ4Xp6ea6GQQoAABLs/oVBMlyPVBuEhUGL61GilbeFQQ==\",\"dtype\":\"float64\",\"shape\":[143]}},\"selected\":{\"id\":\"1065\",\"type\":\"Selection\"},\"selection_policy\":{\"id\":\"1066\",\"type\":\"UnionRenderers\"}},\"id\":\"1041\",\"type\":\"ColumnDataSource\"},{\"attributes\":{},\"id\":\"1066\",\"type\":\"UnionRenderers\"},{\"attributes\":{\"dimensions\":\"width\"},\"id\":\"1025\",\"type\":\"WheelZoomTool\"},{\"attributes\":{\"months\":[0,1,2,3,4,5,6,7,8,9,10,11]},\"id\":\"1058\",\"type\":\"MonthsTicker\"},{\"attributes\":{},\"id\":\"1049\",\"type\":\"BasicTickFormatter\"},{\"attributes\":{\"fill_alpha\":{\"value\":0.8},\"fill_color\":{\"value\":\"navy\"},\"line_alpha\":{\"value\":0.8},\"line_color\":{\"value\":\"navy\"},\"size\":{\"units\":\"screen\",\"value\":3},\"x\":{\"field\":\"x\"},\"y\":{\"field\":\"y\"}},\"id\":\"1037\",\"type\":\"Circle\"},{\"attributes\":{\"mantissas\":[1,2,5],\"max_interval\":500.0,\"num_minor_ticks\":0},\"id\":\"1051\",\"type\":\"AdaptiveTicker\"},{\"attributes\":{\"fill_alpha\":{\"value\":0.1},\"fill_color\":{\"value\":\"#1f77b4\"},\"line_alpha\":{\"value\":0.1},\"line_color\":{\"value\":\"#1f77b4\"},\"size\":{\"units\":\"screen\",\"value\":3},\"x\":{\"field\":\"x\"},\"y\":{\"field\":\"y\"}},\"id\":\"1038\",\"type\":\"Circle\"},{\"attributes\":{\"line_alpha\":0.1,\"line_color\":\"#1f77b4\",\"x\":{\"field\":\"x\"},\"y\":{\"field\":\"y\"}},\"id\":\"1043\",\"type\":\"Line\"},{\"attributes\":{},\"id\":\"1026\",\"type\":\"ResetTool\"},{\"attributes\":{\"base\":24,\"mantissas\":[1,2,4,6,8,12],\"max_interval\":43200000.0,\"min_interval\":3600000.0,\"num_minor_ticks\":0},\"id\":\"1053\",\"type\":\"AdaptiveTicker\"},{\"attributes\":{\"base\":60,\"mantissas\":[1,2,5,10,15,20,30],\"max_interval\":1800000.0,\"min_interval\":1000.0,\"num_minor_ticks\":0},\"id\":\"1052\",\"type\":\"AdaptiveTicker\"},{\"attributes\":{\"source\":{\"id\":\"1036\",\"type\":\"ColumnDataSource\"}},\"id\":\"1040\",\"type\":\"CDSView\"},{\"attributes\":{\"days\":[1,2,3,4,5,6,7,8,9,10,11,12,13,14,15,16,17,18,19,20,21,22,23,24,25,26,27,28,29,30,31]},\"id\":\"1054\",\"type\":\"DaysTicker\"},{\"attributes\":{\"formatter\":{\"id\":\"1034\",\"type\":\"DatetimeTickFormatter\"},\"ticker\":{\"id\":\"1014\",\"type\":\"DatetimeTicker\"}},\"id\":\"1013\",\"type\":\"DatetimeAxis\"},{\"attributes\":{\"text\":\"Sales vs Datetime\"},\"id\":\"1003\",\"type\":\"Title\"},{\"attributes\":{\"days\":[1,4,7,10,13,16,19,22,25,28]},\"id\":\"1055\",\"type\":\"DaysTicker\"},{\"attributes\":{},\"id\":\"1009\",\"type\":\"LinearScale\"},{\"attributes\":{},\"id\":\"1027\",\"type\":\"SaveTool\"},{\"attributes\":{\"days\":[1,8,15,22]},\"id\":\"1056\",\"type\":\"DaysTicker\"},{\"attributes\":{},\"id\":\"1019\",\"type\":\"BasicTicker\"},{\"attributes\":{\"days\":[1,15]},\"id\":\"1057\",\"type\":\"DaysTicker\"},{\"attributes\":{\"line_alpha\":0.8,\"line_color\":\"navy\",\"x\":{\"field\":\"x\"},\"y\":{\"field\":\"y\"}},\"id\":\"1042\",\"type\":\"Line\"},{\"attributes\":{\"ticker\":{\"id\":\"1014\",\"type\":\"DatetimeTicker\"}},\"id\":\"1017\",\"type\":\"Grid\"}],\"root_ids\":[\"1002\"]},\"title\":\"Bokeh Application\",\"version\":\"1.3.4\"}};\n",
       "  var render_items = [{\"docid\":\"b6e9f2f9-c239-4a65-b655-9a1403761616\",\"roots\":{\"1002\":\"9a4d0274-a8fc-4b7e-9566-efccaa59eaf7\"}}];\n",
       "  root.Bokeh.embed.embed_items_notebook(docs_json, render_items);\n",
       "\n",
       "  }\n",
       "  if (root.Bokeh !== undefined) {\n",
       "    embed_document(root);\n",
       "  } else {\n",
       "    var attempts = 0;\n",
       "    var timer = setInterval(function(root) {\n",
       "      if (root.Bokeh !== undefined) {\n",
       "        embed_document(root);\n",
       "        clearInterval(timer);\n",
       "      }\n",
       "      attempts++;\n",
       "      if (attempts > 100) {\n",
       "        console.log(\"Bokeh: ERROR: Unable to run BokehJS code because BokehJS library is missing\");\n",
       "        clearInterval(timer);\n",
       "      }\n",
       "    }, 10, root)\n",
       "  }\n",
       "})(window);"
      ],
      "application/vnd.bokehjs_exec.v0+json": ""
     },
     "metadata": {
      "application/vnd.bokehjs_exec.v0+json": {
       "id": "1002"
      }
     },
     "output_type": "display_data"
    }
   ],
   "source": [
    "grouped_sales = train.groupby(\"Date\")[\"Weekly_Sales\"].sum()\n",
    "p = plot.plot_time_series_count(grouped_sales.index, grouped_sales, color=\"navy\", title=\"Sales vs Datetime\")\n",
    "show(p)"
   ]
  },
  {
   "cell_type": "markdown",
   "metadata": {},
   "source": [
    "<b>Questions</b> <br>\n",
    "Does each the stores follow the same sales variance behavior of all together? <br>\n",
    "Can departments be grouped by sales seasonality similarity?"
   ]
  },
  {
   "cell_type": "markdown",
   "metadata": {},
   "source": [
    " "
   ]
  },
  {
   "cell_type": "markdown",
   "metadata": {},
   "source": [
    "# <font color=\"navy\">Holidays</font>"
   ]
  },
  {
   "cell_type": "code",
   "execution_count": 18,
   "metadata": {},
   "outputs": [
    {
     "data": {
      "text/plain": [
       "'Store Dates With Holidays'"
      ]
     },
     "metadata": {},
     "output_type": "display_data"
    },
    {
     "data": {
      "text/html": [
       "<div>\n",
       "<style scoped>\n",
       "    .dataframe tbody tr th:only-of-type {\n",
       "        vertical-align: middle;\n",
       "    }\n",
       "\n",
       "    .dataframe tbody tr th {\n",
       "        vertical-align: top;\n",
       "    }\n",
       "\n",
       "    .dataframe thead th {\n",
       "        text-align: right;\n",
       "    }\n",
       "</style>\n",
       "<table border=\"1\" class=\"dataframe\">\n",
       "  <thead>\n",
       "    <tr style=\"text-align: right;\">\n",
       "      <th></th>\n",
       "      <th>freq_absolute</th>\n",
       "      <th>freq_relative</th>\n",
       "    </tr>\n",
       "  </thead>\n",
       "  <tbody>\n",
       "    <tr>\n",
       "      <td>False</td>\n",
       "      <td>5985</td>\n",
       "      <td>93.01%</td>\n",
       "    </tr>\n",
       "    <tr>\n",
       "      <td>True</td>\n",
       "      <td>450</td>\n",
       "      <td>6.99%</td>\n",
       "    </tr>\n",
       "  </tbody>\n",
       "</table>\n",
       "</div>"
      ],
      "text/plain": [
       "       freq_absolute freq_relative\n",
       "False           5985        93.01%\n",
       "True             450         6.99%"
      ]
     },
     "execution_count": 18,
     "metadata": {},
     "output_type": "execute_result"
    }
   ],
   "source": [
    "display(\"Store Dates With Holidays\")\n",
    "stats.freq(train.drop_duplicates([\"Store\", \"Date\"])[\"IsHoliday\"])"
   ]
  },
  {
   "cell_type": "code",
   "execution_count": 19,
   "metadata": {},
   "outputs": [
    {
     "data": {
      "text/plain": [
       "<matplotlib.axes._subplots.AxesSubplot at 0x7f92301d74d0>"
      ]
     },
     "execution_count": 19,
     "metadata": {},
     "output_type": "execute_result"
    },
    {
     "data": {
      "image/png": "[encoded data removed]",
      "text/plain": [
       "<Figure size 432x288 with 1 Axes>"
      ]
     },
     "metadata": {
      "needs_background": "light"
     },
     "output_type": "display_data"
    }
   ],
   "source": [
    "grouped_sales = train.groupby(\"IsHoliday\")[\"Weekly_Sales\"].mean()\n",
    "grouped_sales.plot.bar(title=\"Median Sales Comparison Between Holiday and Ordinary Days\")"
   ]
  },
  {
   "cell_type": "markdown",
   "metadata": {},
   "source": [
    "<b>Notes</b> <br>\n",
    "It seems that not all the holidays have a huge effect in increasing sales, among all stores and all departments"
   ]
  },
  {
   "cell_type": "code",
   "execution_count": null,
   "metadata": {},
   "outputs": [],
   "source": []
  },
  {
   "cell_type": "markdown",
   "metadata": {},
   "source": [
    "# <font color=\"navy\">Departments</font>"
   ]
  },
  {
   "cell_type": "code",
   "execution_count": 20,
   "metadata": {},
   "outputs": [
    {
     "data": {
      "text/plain": [
       "'81 department labels'"
      ]
     },
     "execution_count": 20,
     "metadata": {},
     "output_type": "execute_result"
    }
   ],
   "source": [
    "\"{} department labels\".format(len(train[\"Dept\"].drop_duplicates()))"
   ]
  },
  {
   "cell_type": "code",
   "execution_count": 21,
   "metadata": {},
   "outputs": [
    {
     "data": {
      "text/plain": [
       "'3331 departments'"
      ]
     },
     "execution_count": 21,
     "metadata": {},
     "output_type": "execute_result"
    }
   ],
   "source": [
    "\"{} departments\".format(len(train[\"store_dept\"].drop_duplicates()))"
   ]
  },
  {
   "cell_type": "code",
   "execution_count": 22,
   "metadata": {},
   "outputs": [],
   "source": [
    "store_dept_amount_dates = train.groupby(\"Date\")[\"store_dept\"].apply(len).reset_index()\n",
    "store_dept_amount_dates[\"Date\"] = store_dept_amount_dates[\"Date\"].apply(pd.to_datetime)"
   ]
  },
  {
   "cell_type": "code",
   "execution_count": 23,
   "metadata": {},
   "outputs": [
    {
     "data": {
      "text/plain": [
       "<matplotlib.axes._subplots.AxesSubplot at 0x7f9230065f10>"
      ]
     },
     "execution_count": 23,
     "metadata": {},
     "output_type": "execute_result"
    },
    {
     "data": {
      "image/png": "[encoded data removed]",
      "text/plain": [
       "<Figure size 432x288 with 1 Axes>"
      ]
     },
     "metadata": {
      "needs_background": "light"
     },
     "output_type": "display_data"
    }
   ],
   "source": [
    "store_dept_amount_dates.sort_values(\"Date\").set_index(\"Date\").plot.hist(bins=10)"
   ]
  },
  {
   "cell_type": "markdown",
   "metadata": {},
   "source": [
    "<b>Questions</b> <br>\n",
    "Can we assume that the same Dept number corresponds the same department accross all stores?\n",
    "https://www.kaggle.com/c/walmart-recruiting-store-sales-forecasting/discussion/7159\n",
    "(hypothesis testing) <br>\n",
    "Can we group Store Departments by it Weekly Sales behavior?"
   ]
  },
  {
   "cell_type": "code",
   "execution_count": 24,
   "metadata": {},
   "outputs": [],
   "source": [
    "store_dept_time_diff = train.groupby(\"store_dept\").apply(lambda store_dept_data : time_utils.time_resolution(store_dept_data).value_counts())"
   ]
  },
  {
   "cell_type": "code",
   "execution_count": 25,
   "metadata": {
    "scrolled": false
   },
   "outputs": [],
   "source": [
    "# help(pd.to_datetime(\"2020-05-21\") - pd.to_datetime(\"2020-06-21\"))"
   ]
  },
  {
   "cell_type": "code",
   "execution_count": 26,
   "metadata": {},
   "outputs": [
    {
     "data": {
      "text/plain": [
       "store_dept          \n",
       "10_1        7 days      141\n",
       "10_10       7 days      141\n",
       "10_11       7 days      141\n",
       "10_12       7 days      141\n",
       "10_13       7 days      141\n",
       "10_14       7 days      141\n",
       "10_16       7 days      141\n",
       "10_17       7 days      141\n",
       "10_18       7 days       96\n",
       "            49 days       2\n",
       "            21 days       2\n",
       "            119 days      1\n",
       "            42 days       1\n",
       "            14 days       1\n",
       "10_19       7 days      141\n",
       "10_2        7 days      141\n",
       "10_20       7 days      141\n",
       "10_21       7 days      141\n",
       "10_22       7 days      141\n",
       "10_23       7 days      141\n",
       "10_24       7 days      141\n",
       "10_25       7 days      141\n",
       "10_26       7 days      141\n",
       "10_27       7 days      141\n",
       "10_28       7 days      141\n",
       "10_29       7 days      141\n",
       "10_3        7 days      141\n",
       "10_30       7 days      141\n",
       "10_31       7 days      141\n",
       "10_32       7 days      141\n",
       "10_33       7 days      141\n",
       "10_34       7 days      141\n",
       "10_35       7 days      141\n",
       "10_36       7 days      141\n",
       "10_37       7 days      141\n",
       "10_38       7 days      141\n",
       "10_4        7 days      141\n",
       "10_40       7 days      141\n",
       "10_41       7 days      141\n",
       "10_42       7 days      141\n",
       "10_44       7 days      141\n",
       "10_45       7 days       56\n",
       "            14 days      13\n",
       "            35 days       2\n",
       "            28 days       2\n",
       "            21 days       2\n",
       "            119 days      1\n",
       "            49 days       1\n",
       "10_46       7 days      141\n",
       "10_47       7 days        8\n",
       "Name: Date, dtype: int64"
      ]
     },
     "execution_count": 26,
     "metadata": {},
     "output_type": "execute_result"
    }
   ],
   "source": [
    "store_dept_time_diff.head(50)"
   ]
  },
  {
   "cell_type": "markdown",
   "metadata": {},
   "source": [
    "# Test"
   ]
  },
  {
   "cell_type": "markdown",
   "metadata": {},
   "source": [
    "### test.csv"
   ]
  },
  {
   "cell_type": "code",
   "execution_count": 27,
   "metadata": {},
   "outputs": [],
   "source": [
    "test = dao.load_dataset(\"test\")"
   ]
  },
  {
   "cell_type": "code",
   "execution_count": 28,
   "metadata": {},
   "outputs": [
    {
     "data": {
      "text/html": [
       "<div>\n",
       "<style scoped>\n",
       "    .dataframe tbody tr th:only-of-type {\n",
       "        vertical-align: middle;\n",
       "    }\n",
       "\n",
       "    .dataframe tbody tr th {\n",
       "        vertical-align: top;\n",
       "    }\n",
       "\n",
       "    .dataframe thead th {\n",
       "        text-align: right;\n",
       "    }\n",
       "</style>\n",
       "<table border=\"1\" class=\"dataframe\">\n",
       "  <thead>\n",
       "    <tr style=\"text-align: right;\">\n",
       "      <th></th>\n",
       "      <th>Store</th>\n",
       "      <th>Dept</th>\n",
       "      <th>Date</th>\n",
       "      <th>IsHoliday</th>\n",
       "      <th>timestamp</th>\n",
       "      <th>store_dept</th>\n",
       "    </tr>\n",
       "  </thead>\n",
       "  <tbody>\n",
       "    <tr>\n",
       "      <td>0</td>\n",
       "      <td>1</td>\n",
       "      <td>1</td>\n",
       "      <td>2012-11-02</td>\n",
       "      <td>False</td>\n",
       "      <td>1351825200.00</td>\n",
       "      <td>1_1</td>\n",
       "    </tr>\n",
       "    <tr>\n",
       "      <td>48640</td>\n",
       "      <td>19</td>\n",
       "      <td>10</td>\n",
       "      <td>2012-11-02</td>\n",
       "      <td>False</td>\n",
       "      <td>1351825200.00</td>\n",
       "      <td>19_10</td>\n",
       "    </tr>\n",
       "    <tr>\n",
       "      <td>42002</td>\n",
       "      <td>16</td>\n",
       "      <td>55</td>\n",
       "      <td>2012-11-02</td>\n",
       "      <td>False</td>\n",
       "      <td>1351825200.00</td>\n",
       "      <td>16_55</td>\n",
       "    </tr>\n",
       "    <tr>\n",
       "      <td>61235</td>\n",
       "      <td>23</td>\n",
       "      <td>79</td>\n",
       "      <td>2013-07-26</td>\n",
       "      <td>False</td>\n",
       "      <td>1374807600.00</td>\n",
       "      <td>23_79</td>\n",
       "    </tr>\n",
       "    <tr>\n",
       "      <td>62308</td>\n",
       "      <td>24</td>\n",
       "      <td>13</td>\n",
       "      <td>2013-07-26</td>\n",
       "      <td>False</td>\n",
       "      <td>1374807600.00</td>\n",
       "      <td>24_13</td>\n",
       "    </tr>\n",
       "    <tr>\n",
       "      <td>115063</td>\n",
       "      <td>45</td>\n",
       "      <td>98</td>\n",
       "      <td>2013-07-26</td>\n",
       "      <td>False</td>\n",
       "      <td>1374807600.00</td>\n",
       "      <td>45_98</td>\n",
       "    </tr>\n",
       "  </tbody>\n",
       "</table>\n",
       "</div>"
      ],
      "text/plain": [
       "       Store Dept        Date  IsHoliday     timestamp store_dept\n",
       "0          1    1  2012-11-02      False 1351825200.00        1_1\n",
       "48640     19   10  2012-11-02      False 1351825200.00      19_10\n",
       "42002     16   55  2012-11-02      False 1351825200.00      16_55\n",
       "61235     23   79  2013-07-26      False 1374807600.00      23_79\n",
       "62308     24   13  2013-07-26      False 1374807600.00      24_13\n",
       "115063    45   98  2013-07-26      False 1374807600.00      45_98"
      ]
     },
     "execution_count": 28,
     "metadata": {},
     "output_type": "execute_result"
    }
   ],
   "source": [
    "test.head(3).append(test.tail(3))"
   ]
  },
  {
   "cell_type": "code",
   "execution_count": 29,
   "metadata": {},
   "outputs": [
    {
     "data": {
      "text/plain": [
       "45"
      ]
     },
     "execution_count": 29,
     "metadata": {},
     "output_type": "execute_result"
    }
   ],
   "source": [
    "len(train[\"Store\"].drop_duplicates())"
   ]
  },
  {
   "cell_type": "code",
   "execution_count": 30,
   "metadata": {},
   "outputs": [
    {
     "data": {
      "text/plain": [
       "3331"
      ]
     },
     "execution_count": 30,
     "metadata": {},
     "output_type": "execute_result"
    }
   ],
   "source": [
    "len(train[\"store_dept\"].drop_duplicates())"
   ]
  },
  {
   "cell_type": "code",
   "execution_count": 31,
   "metadata": {},
   "outputs": [
    {
     "data": {
      "text/html": [
       "<div>\n",
       "<style scoped>\n",
       "    .dataframe tbody tr th:only-of-type {\n",
       "        vertical-align: middle;\n",
       "    }\n",
       "\n",
       "    .dataframe tbody tr th {\n",
       "        vertical-align: top;\n",
       "    }\n",
       "\n",
       "    .dataframe thead th {\n",
       "        text-align: right;\n",
       "    }\n",
       "</style>\n",
       "<table border=\"1\" class=\"dataframe\">\n",
       "  <thead>\n",
       "    <tr style=\"text-align: right;\">\n",
       "      <th></th>\n",
       "      <th>Store</th>\n",
       "      <th>Dept</th>\n",
       "      <th>Date</th>\n",
       "      <th>IsHoliday</th>\n",
       "      <th>timestamp</th>\n",
       "      <th>store_dept</th>\n",
       "    </tr>\n",
       "  </thead>\n",
       "  <tbody>\n",
       "    <tr>\n",
       "      <td>0</td>\n",
       "      <td>1</td>\n",
       "      <td>1</td>\n",
       "      <td>2012-11-02</td>\n",
       "      <td>False</td>\n",
       "      <td>1351825200.00</td>\n",
       "      <td>1_1</td>\n",
       "    </tr>\n",
       "    <tr>\n",
       "      <td>48640</td>\n",
       "      <td>19</td>\n",
       "      <td>10</td>\n",
       "      <td>2012-11-02</td>\n",
       "      <td>False</td>\n",
       "      <td>1351825200.00</td>\n",
       "      <td>19_10</td>\n",
       "    </tr>\n",
       "    <tr>\n",
       "      <td>62308</td>\n",
       "      <td>24</td>\n",
       "      <td>13</td>\n",
       "      <td>2013-07-26</td>\n",
       "      <td>False</td>\n",
       "      <td>1374807600.00</td>\n",
       "      <td>24_13</td>\n",
       "    </tr>\n",
       "    <tr>\n",
       "      <td>115063</td>\n",
       "      <td>45</td>\n",
       "      <td>98</td>\n",
       "      <td>2013-07-26</td>\n",
       "      <td>False</td>\n",
       "      <td>1374807600.00</td>\n",
       "      <td>45_98</td>\n",
       "    </tr>\n",
       "  </tbody>\n",
       "</table>\n",
       "</div>"
      ],
      "text/plain": [
       "       Store Dept        Date  IsHoliday     timestamp store_dept\n",
       "0          1    1  2012-11-02      False 1351825200.00        1_1\n",
       "48640     19   10  2012-11-02      False 1351825200.00      19_10\n",
       "62308     24   13  2013-07-26      False 1374807600.00      24_13\n",
       "115063    45   98  2013-07-26      False 1374807600.00      45_98"
      ]
     },
     "execution_count": 31,
     "metadata": {},
     "output_type": "execute_result"
    }
   ],
   "source": [
    "test.head(2).append(test.tail(2))"
   ]
  },
  {
   "cell_type": "code",
   "execution_count": null,
   "metadata": {},
   "outputs": [],
   "source": []
  }
 ],
 "metadata": {
  "kernelspec": {
   "display_name": "Python 3",
   "language": "python",
   "name": "python3"
  },
  "language_info": {
   "codemirror_mode": {
    "name": "ipython",
    "version": 3
   },
   "file_extension": ".py",
   "mimetype": "text/x-python",
   "name": "python",
   "nbconvert_exporter": "python",
   "pygments_lexer": "ipython3",
   "version": "3.7.4"
  }
 },
 "nbformat": 4,
 "nbformat_minor": 2
}
