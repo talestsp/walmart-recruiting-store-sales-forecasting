{
 "cells": [
  {
   "cell_type": "code",
   "execution_count": 1,
   "metadata": {},
   "outputs": [
    {
     "name": "stdout",
     "output_type": "stream",
     "text": [
      "working dir: '/home/tales/ds/walmart-recruiting-store-sales-forecasting'\n"
     ]
    }
   ],
   "source": [
    "#Setting working path required for relative package loading\n",
    "\n",
    "import os\n",
    "os.chdir(\"/home/tales/ds/walmart-recruiting-store-sales-forecasting/\")\n",
    "print(\"working dir:\", \"\\'\" + os.getcwd() + \"\\'\")"
   ]
  },
  {
   "cell_type": "code",
   "execution_count": 2,
   "metadata": {},
   "outputs": [],
   "source": [
    "import pandas as pd\n",
    "\n",
    "from src.data import dao\n",
    "from src.processment import process\n",
    "from src.utils import pretties, time_utils, stats\n",
    "from src.visualization import plot\n",
    "from bokeh.plotting import show, output_notebook"
   ]
  },
  {
   "cell_type": "code",
   "execution_count": 3,
   "metadata": {},
   "outputs": [
    {
     "data": {
      "text/html": [
       "\n",
       "    <div class=\"bk-root\">\n",
       "        <a href=\"https://bokeh.pydata.org\" target=\"_blank\" class=\"bk-logo bk-logo-small bk-logo-notebook\"></a>\n",
       "        <span id=\"1001\">Loading BokehJS ...</span>\n",
       "    </div>"
      ]
     },
     "metadata": {},
     "output_type": "display_data"
    },
    {
     "data": {
      "application/javascript": [
       "\n",
       "(function(root) {\n",
       "  function now() {\n",
       "    return new Date();\n",
       "  }\n",
       "\n",
       "  var force = true;\n",
       "\n",
       "  if (typeof root._bokeh_onload_callbacks === \"undefined\" || force === true) {\n",
       "    root._bokeh_onload_callbacks = [];\n",
       "    root._bokeh_is_loading = undefined;\n",
       "  }\n",
       "\n",
       "  var JS_MIME_TYPE = 'application/javascript';\n",
       "  var HTML_MIME_TYPE = 'text/html';\n",
       "  var EXEC_MIME_TYPE = 'application/vnd.bokehjs_exec.v0+json';\n",
       "  var CLASS_NAME = 'output_bokeh rendered_html';\n",
       "\n",
       "  /**\n",
       "   * Render data to the DOM node\n",
       "   */\n",
       "  function render(props, node) {\n",
       "    var script = document.createElement(\"script\");\n",
       "    node.appendChild(script);\n",
       "  }\n",
       "\n",
       "  /**\n",
       "   * Handle when an output is cleared or removed\n",
       "   */\n",
       "  function handleClearOutput(event, handle) {\n",
       "    var cell = handle.cell;\n",
       "\n",
       "    var id = cell.output_area._bokeh_element_id;\n",
       "    var server_id = cell.output_area._bokeh_server_id;\n",
       "    // Clean up Bokeh references\n",
       "    if (id != null && id in Bokeh.index) {\n",
       "      Bokeh.index[id].model.document.clear();\n",
       "      delete Bokeh.index[id];\n",
       "    }\n",
       "\n",
       "    if (server_id !== undefined) {\n",
       "      // Clean up Bokeh references\n",
       "      var cmd = \"from bokeh.io.state import curstate; print(curstate().uuid_to_server['\" + server_id + \"'].get_sessions()[0].document.roots[0]._id)\";\n",
       "      cell.notebook.kernel.execute(cmd, {\n",
       "        iopub: {\n",
       "          output: function(msg) {\n",
       "            var id = msg.content.text.trim();\n",
       "            if (id in Bokeh.index) {\n",
       "              Bokeh.index[id].model.document.clear();\n",
       "              delete Bokeh.index[id];\n",
       "            }\n",
       "          }\n",
       "        }\n",
       "      });\n",
       "      // Destroy server and session\n",
       "      var cmd = \"import bokeh.io.notebook as ion; ion.destroy_server('\" + server_id + \"')\";\n",
       "      cell.notebook.kernel.execute(cmd);\n",
       "    }\n",
       "  }\n",
       "\n",
       "  /**\n",
       "   * Handle when a new output is added\n",
       "   */\n",
       "  function handleAddOutput(event, handle) {\n",
       "    var output_area = handle.output_area;\n",
       "    var output = handle.output;\n",
       "\n",
       "    // limit handleAddOutput to display_data with EXEC_MIME_TYPE content only\n",
       "    if ((output.output_type != \"display_data\") || (!output.data.hasOwnProperty(EXEC_MIME_TYPE))) {\n",
       "      return\n",
       "    }\n",
       "\n",
       "    var toinsert = output_area.element.find(\".\" + CLASS_NAME.split(' ')[0]);\n",
       "\n",
       "    if (output.metadata[EXEC_MIME_TYPE][\"id\"] !== undefined) {\n",
       "      toinsert[toinsert.length - 1].firstChild.textContent = output.data[JS_MIME_TYPE];\n",
       "      // store reference to embed id on output_area\n",
       "      output_area._bokeh_element_id = output.metadata[EXEC_MIME_TYPE][\"id\"];\n",
       "    }\n",
       "    if (output.metadata[EXEC_MIME_TYPE][\"server_id\"] !== undefined) {\n",
       "      var bk_div = document.createElement(\"div\");\n",
       "      bk_div.innerHTML = output.data[HTML_MIME_TYPE];\n",
       "      var script_attrs = bk_div.children[0].attributes;\n",
       "      for (var i = 0; i < script_attrs.length; i++) {\n",
       "        toinsert[toinsert.length - 1].firstChild.setAttribute(script_attrs[i].name, script_attrs[i].value);\n",
       "      }\n",
       "      // store reference to server id on output_area\n",
       "      output_area._bokeh_server_id = output.metadata[EXEC_MIME_TYPE][\"server_id\"];\n",
       "    }\n",
       "  }\n",
       "\n",
       "  function register_renderer(events, OutputArea) {\n",
       "\n",
       "    function append_mime(data, metadata, element) {\n",
       "      // create a DOM node to render to\n",
       "      var toinsert = this.create_output_subarea(\n",
       "        metadata,\n",
       "        CLASS_NAME,\n",
       "        EXEC_MIME_TYPE\n",
       "      );\n",
       "      this.keyboard_manager.register_events(toinsert);\n",
       "      // Render to node\n",
       "      var props = {data: data, metadata: metadata[EXEC_MIME_TYPE]};\n",
       "      render(props, toinsert[toinsert.length - 1]);\n",
       "      element.append(toinsert);\n",
       "      return toinsert\n",
       "    }\n",
       "\n",
       "    /* Handle when an output is cleared or removed */\n",
       "    events.on('clear_output.CodeCell', handleClearOutput);\n",
       "    events.on('delete.Cell', handleClearOutput);\n",
       "\n",
       "    /* Handle when a new output is added */\n",
       "    events.on('output_added.OutputArea', handleAddOutput);\n",
       "\n",
       "    /**\n",
       "     * Register the mime type and append_mime function with output_area\n",
       "     */\n",
       "    OutputArea.prototype.register_mime_type(EXEC_MIME_TYPE, append_mime, {\n",
       "      /* Is output safe? */\n",
       "      safe: true,\n",
       "      /* Index of renderer in `output_area.display_order` */\n",
       "      index: 0\n",
       "    });\n",
       "  }\n",
       "\n",
       "  // register the mime type if in Jupyter Notebook environment and previously unregistered\n",
       "  if (root.Jupyter !== undefined) {\n",
       "    var events = require('base/js/events');\n",
       "    var OutputArea = require('notebook/js/outputarea').OutputArea;\n",
       "\n",
       "    if (OutputArea.prototype.mime_types().indexOf(EXEC_MIME_TYPE) == -1) {\n",
       "      register_renderer(events, OutputArea);\n",
       "    }\n",
       "  }\n",
       "\n",
       "  \n",
       "  if (typeof (root._bokeh_timeout) === \"undefined\" || force === true) {\n",
       "    root._bokeh_timeout = Date.now() + 5000;\n",
       "    root._bokeh_failed_load = false;\n",
       "  }\n",
       "\n",
       "  var NB_LOAD_WARNING = {'data': {'text/html':\n",
       "     \"<div style='background-color: #fdd'>\\n\"+\n",
       "     \"<p>\\n\"+\n",
       "     \"BokehJS does not appear to have successfully loaded. If loading BokehJS from CDN, this \\n\"+\n",
       "     \"may be due to a slow or bad network connection. Possible fixes:\\n\"+\n",
       "     \"</p>\\n\"+\n",
       "     \"<ul>\\n\"+\n",
       "     \"<li>re-rerun `output_notebook()` to attempt to load from CDN again, or</li>\\n\"+\n",
       "     \"<li>use INLINE resources instead, as so:</li>\\n\"+\n",
       "     \"</ul>\\n\"+\n",
       "     \"<code>\\n\"+\n",
       "     \"from bokeh.resources import INLINE\\n\"+\n",
       "     \"output_notebook(resources=INLINE)\\n\"+\n",
       "     \"</code>\\n\"+\n",
       "     \"</div>\"}};\n",
       "\n",
       "  function display_loaded() {\n",
       "    var el = document.getElementById(\"1001\");\n",
       "    if (el != null) {\n",
       "      el.textContent = \"BokehJS is loading...\";\n",
       "    }\n",
       "    if (root.Bokeh !== undefined) {\n",
       "      if (el != null) {\n",
       "        el.textContent = \"BokehJS \" + root.Bokeh.version + \" successfully loaded.\";\n",
       "      }\n",
       "    } else if (Date.now() < root._bokeh_timeout) {\n",
       "      setTimeout(display_loaded, 100)\n",
       "    }\n",
       "  }\n",
       "\n",
       "\n",
       "  function run_callbacks() {\n",
       "    try {\n",
       "      root._bokeh_onload_callbacks.forEach(function(callback) {\n",
       "        if (callback != null)\n",
       "          callback();\n",
       "      });\n",
       "    } finally {\n",
       "      delete root._bokeh_onload_callbacks\n",
       "    }\n",
       "    console.debug(\"Bokeh: all callbacks have finished\");\n",
       "  }\n",
       "\n",
       "  function load_libs(css_urls, js_urls, callback) {\n",
       "    if (css_urls == null) css_urls = [];\n",
       "    if (js_urls == null) js_urls = [];\n",
       "\n",
       "    root._bokeh_onload_callbacks.push(callback);\n",
       "    if (root._bokeh_is_loading > 0) {\n",
       "      console.debug(\"Bokeh: BokehJS is being loaded, scheduling callback at\", now());\n",
       "      return null;\n",
       "    }\n",
       "    if (js_urls == null || js_urls.length === 0) {\n",
       "      run_callbacks();\n",
       "      return null;\n",
       "    }\n",
       "    console.debug(\"Bokeh: BokehJS not loaded, scheduling load and callback at\", now());\n",
       "    root._bokeh_is_loading = css_urls.length + js_urls.length;\n",
       "\n",
       "    function on_load() {\n",
       "      root._bokeh_is_loading--;\n",
       "      if (root._bokeh_is_loading === 0) {\n",
       "        console.debug(\"Bokeh: all BokehJS libraries/stylesheets loaded\");\n",
       "        run_callbacks()\n",
       "      }\n",
       "    }\n",
       "\n",
       "    function on_error() {\n",
       "      console.error(\"failed to load \" + url);\n",
       "    }\n",
       "\n",
       "    for (var i = 0; i < css_urls.length; i++) {\n",
       "      var url = css_urls[i];\n",
       "      const element = document.createElement(\"link\");\n",
       "      element.onload = on_load;\n",
       "      element.onerror = on_error;\n",
       "      element.rel = \"stylesheet\";\n",
       "      element.type = \"text/css\";\n",
       "      element.href = url;\n",
       "      console.debug(\"Bokeh: injecting link tag for BokehJS stylesheet: \", url);\n",
       "      document.body.appendChild(element);\n",
       "    }\n",
       "\n",
       "    for (var i = 0; i < js_urls.length; i++) {\n",
       "      var url = js_urls[i];\n",
       "      var element = document.createElement('script');\n",
       "      element.onload = on_load;\n",
       "      element.onerror = on_error;\n",
       "      element.async = false;\n",
       "      element.src = url;\n",
       "      console.debug(\"Bokeh: injecting script tag for BokehJS library: \", url);\n",
       "      document.head.appendChild(element);\n",
       "    }\n",
       "  };var element = document.getElementById(\"1001\");\n",
       "  if (element == null) {\n",
       "    console.error(\"Bokeh: ERROR: autoload.js configured with elementid '1001' but no matching script tag was found. \")\n",
       "    return false;\n",
       "  }\n",
       "\n",
       "  function inject_raw_css(css) {\n",
       "    const element = document.createElement(\"style\");\n",
       "    element.appendChild(document.createTextNode(css));\n",
       "    document.body.appendChild(element);\n",
       "  }\n",
       "\n",
       "  var js_urls = [\"https://cdn.pydata.org/bokeh/release/bokeh-1.3.4.min.js\", \"https://cdn.pydata.org/bokeh/release/bokeh-widgets-1.3.4.min.js\", \"https://cdn.pydata.org/bokeh/release/bokeh-tables-1.3.4.min.js\", \"https://cdn.pydata.org/bokeh/release/bokeh-gl-1.3.4.min.js\"];\n",
       "  var css_urls = [];\n",
       "\n",
       "  var inline_js = [\n",
       "    function(Bokeh) {\n",
       "      Bokeh.set_log_level(\"info\");\n",
       "    },\n",
       "    \n",
       "    function(Bokeh) {\n",
       "      \n",
       "    },\n",
       "    function(Bokeh) {} // ensure no trailing comma for IE\n",
       "  ];\n",
       "\n",
       "  function run_inline_js() {\n",
       "    \n",
       "    if ((root.Bokeh !== undefined) || (force === true)) {\n",
       "      for (var i = 0; i < inline_js.length; i++) {\n",
       "        inline_js[i].call(root, root.Bokeh);\n",
       "      }if (force === true) {\n",
       "        display_loaded();\n",
       "      }} else if (Date.now() < root._bokeh_timeout) {\n",
       "      setTimeout(run_inline_js, 100);\n",
       "    } else if (!root._bokeh_failed_load) {\n",
       "      console.log(\"Bokeh: BokehJS failed to load within specified timeout.\");\n",
       "      root._bokeh_failed_load = true;\n",
       "    } else if (force !== true) {\n",
       "      var cell = $(document.getElementById(\"1001\")).parents('.cell').data().cell;\n",
       "      cell.output_area.append_execute_result(NB_LOAD_WARNING)\n",
       "    }\n",
       "\n",
       "  }\n",
       "\n",
       "  if (root._bokeh_is_loading === 0) {\n",
       "    console.debug(\"Bokeh: BokehJS loaded, going straight to plotting\");\n",
       "    run_inline_js();\n",
       "  } else {\n",
       "    load_libs(css_urls, js_urls, function() {\n",
       "      console.debug(\"Bokeh: BokehJS plotting callback run at\", now());\n",
       "      run_inline_js();\n",
       "    });\n",
       "  }\n",
       "}(window));"
      ],
      "application/vnd.bokehjs_load.v0+json": "\n(function(root) {\n  function now() {\n    return new Date();\n  }\n\n  var force = true;\n\n  if (typeof root._bokeh_onload_callbacks === \"undefined\" || force === true) {\n    root._bokeh_onload_callbacks = [];\n    root._bokeh_is_loading = undefined;\n  }\n\n  \n\n  \n  if (typeof (root._bokeh_timeout) === \"undefined\" || force === true) {\n    root._bokeh_timeout = Date.now() + 5000;\n    root._bokeh_failed_load = false;\n  }\n\n  var NB_LOAD_WARNING = {'data': {'text/html':\n     \"<div style='background-color: #fdd'>\\n\"+\n     \"<p>\\n\"+\n     \"BokehJS does not appear to have successfully loaded. If loading BokehJS from CDN, this \\n\"+\n     \"may be due to a slow or bad network connection. Possible fixes:\\n\"+\n     \"</p>\\n\"+\n     \"<ul>\\n\"+\n     \"<li>re-rerun `output_notebook()` to attempt to load from CDN again, or</li>\\n\"+\n     \"<li>use INLINE resources instead, as so:</li>\\n\"+\n     \"</ul>\\n\"+\n     \"<code>\\n\"+\n     \"from bokeh.resources import INLINE\\n\"+\n     \"output_notebook(resources=INLINE)\\n\"+\n     \"</code>\\n\"+\n     \"</div>\"}};\n\n  function display_loaded() {\n    var el = document.getElementById(\"1001\");\n    if (el != null) {\n      el.textContent = \"BokehJS is loading...\";\n    }\n    if (root.Bokeh !== undefined) {\n      if (el != null) {\n        el.textContent = \"BokehJS \" + root.Bokeh.version + \" successfully loaded.\";\n      }\n    } else if (Date.now() < root._bokeh_timeout) {\n      setTimeout(display_loaded, 100)\n    }\n  }\n\n\n  function run_callbacks() {\n    try {\n      root._bokeh_onload_callbacks.forEach(function(callback) {\n        if (callback != null)\n          callback();\n      });\n    } finally {\n      delete root._bokeh_onload_callbacks\n    }\n    console.debug(\"Bokeh: all callbacks have finished\");\n  }\n\n  function load_libs(css_urls, js_urls, callback) {\n    if (css_urls == null) css_urls = [];\n    if (js_urls == null) js_urls = [];\n\n    root._bokeh_onload_callbacks.push(callback);\n    if (root._bokeh_is_loading > 0) {\n      console.debug(\"Bokeh: BokehJS is being loaded, scheduling callback at\", now());\n      return null;\n    }\n    if (js_urls == null || js_urls.length === 0) {\n      run_callbacks();\n      return null;\n    }\n    console.debug(\"Bokeh: BokehJS not loaded, scheduling load and callback at\", now());\n    root._bokeh_is_loading = css_urls.length + js_urls.length;\n\n    function on_load() {\n      root._bokeh_is_loading--;\n      if (root._bokeh_is_loading === 0) {\n        console.debug(\"Bokeh: all BokehJS libraries/stylesheets loaded\");\n        run_callbacks()\n      }\n    }\n\n    function on_error() {\n      console.error(\"failed to load \" + url);\n    }\n\n    for (var i = 0; i < css_urls.length; i++) {\n      var url = css_urls[i];\n      const element = document.createElement(\"link\");\n      element.onload = on_load;\n      element.onerror = on_error;\n      element.rel = \"stylesheet\";\n      element.type = \"text/css\";\n      element.href = url;\n      console.debug(\"Bokeh: injecting link tag for BokehJS stylesheet: \", url);\n      document.body.appendChild(element);\n    }\n\n    for (var i = 0; i < js_urls.length; i++) {\n      var url = js_urls[i];\n      var element = document.createElement('script');\n      element.onload = on_load;\n      element.onerror = on_error;\n      element.async = false;\n      element.src = url;\n      console.debug(\"Bokeh: injecting script tag for BokehJS library: \", url);\n      document.head.appendChild(element);\n    }\n  };var element = document.getElementById(\"1001\");\n  if (element == null) {\n    console.error(\"Bokeh: ERROR: autoload.js configured with elementid '1001' but no matching script tag was found. \")\n    return false;\n  }\n\n  function inject_raw_css(css) {\n    const element = document.createElement(\"style\");\n    element.appendChild(document.createTextNode(css));\n    document.body.appendChild(element);\n  }\n\n  var js_urls = [\"https://cdn.pydata.org/bokeh/release/bokeh-1.3.4.min.js\", \"https://cdn.pydata.org/bokeh/release/bokeh-widgets-1.3.4.min.js\", \"https://cdn.pydata.org/bokeh/release/bokeh-tables-1.3.4.min.js\", \"https://cdn.pydata.org/bokeh/release/bokeh-gl-1.3.4.min.js\"];\n  var css_urls = [];\n\n  var inline_js = [\n    function(Bokeh) {\n      Bokeh.set_log_level(\"info\");\n    },\n    \n    function(Bokeh) {\n      \n    },\n    function(Bokeh) {} // ensure no trailing comma for IE\n  ];\n\n  function run_inline_js() {\n    \n    if ((root.Bokeh !== undefined) || (force === true)) {\n      for (var i = 0; i < inline_js.length; i++) {\n        inline_js[i].call(root, root.Bokeh);\n      }if (force === true) {\n        display_loaded();\n      }} else if (Date.now() < root._bokeh_timeout) {\n      setTimeout(run_inline_js, 100);\n    } else if (!root._bokeh_failed_load) {\n      console.log(\"Bokeh: BokehJS failed to load within specified timeout.\");\n      root._bokeh_failed_load = true;\n    } else if (force !== true) {\n      var cell = $(document.getElementById(\"1001\")).parents('.cell').data().cell;\n      cell.output_area.append_execute_result(NB_LOAD_WARNING)\n    }\n\n  }\n\n  if (root._bokeh_is_loading === 0) {\n    console.debug(\"Bokeh: BokehJS loaded, going straight to plotting\");\n    run_inline_js();\n  } else {\n    load_libs(css_urls, js_urls, function() {\n      console.debug(\"Bokeh: BokehJS plotting callback run at\", now());\n      run_inline_js();\n    });\n  }\n}(window));"
     },
     "metadata": {},
     "output_type": "display_data"
    }
   ],
   "source": [
    "pretties.max_data_frame_columns()\n",
    "pretties.decimal_notation()\n",
    "output_notebook()"
   ]
  },
  {
   "cell_type": "markdown",
   "metadata": {},
   "source": [
    "# <font color=\"darkred\">Relations</font>\n",
    "with target variable"
   ]
  },
  {
   "cell_type": "markdown",
   "metadata": {},
   "source": [
    "# walmart-recruiting-store-sales-forecasting\n",
    "https://www.kaggle.com/c/walmart-recruiting-store-sales-forecasting"
   ]
  },
  {
   "cell_type": "code",
   "execution_count": 4,
   "metadata": {
    "scrolled": false
   },
   "outputs": [],
   "source": [
    "train = dao.load_dataset(\"train\")\n",
    "train = train.groupby(\"store_dept\").apply(process.train_semantic_enrichment)\n",
    "train = train.groupby(\"Store\").apply(process.holiday_pre_pos).reset_index(drop=True)\n",
    "\n",
    "feat = dao.load_features()\n",
    "feat = process.features_semantic_enrichment(feat)\n",
    "# feat[\"celsius_diff\"] = feat.groupby(\"Store\").apply(process.temperature_diff)\n",
    "\n",
    "stores = dao.load_stores()"
   ]
  },
  {
   "cell_type": "code",
   "execution_count": 5,
   "metadata": {},
   "outputs": [],
   "source": [
    "train = train.merge(feat, how=\"left\", left_on=[\"Store\", \"Date\"], right_on=[\"Store\", \"Date\"], suffixes=[\"\", \"_y\"])\n",
    "del train[\"IsHoliday_y\"]\n",
    "del train[\"timestamp_y\"]\n",
    "train = train.merge(stores, how=\"left\", left_on=[\"Store\"], right_on=[\"Store\"])"
   ]
  },
  {
   "cell_type": "code",
   "execution_count": 6,
   "metadata": {},
   "outputs": [],
   "source": [
    "cols = ['Date', 'Store', 'Dept', 'Weekly_Sales', 'pre_holiday', 'IsHoliday', 'pos_holiday', 'Fuel_Price', \n",
    "        'CPI', 'Unemployment', 'celsius', 'datetime', 'Type', 'sales_diff', 'sales_diff_p',\n",
    "        'MarkDown1', 'MarkDown2', 'MarkDown3', 'MarkDown4', 'MarkDown5', \n",
    "        'Size', 'Temperature', 'timestamp', 'store_dept', \"day_n\", \"week_n\", \"month_n\", \"up_diff\", \"celsius_diff\"]"
   ]
  },
  {
   "cell_type": "code",
   "execution_count": 7,
   "metadata": {},
   "outputs": [],
   "source": [
    "train = train[cols].sort_values(\"timestamp\")"
   ]
  },
  {
   "cell_type": "code",
   "execution_count": 8,
   "metadata": {},
   "outputs": [
    {
     "data": {
      "text/html": [
       "<div>\n",
       "<style scoped>\n",
       "    .dataframe tbody tr th:only-of-type {\n",
       "        vertical-align: middle;\n",
       "    }\n",
       "\n",
       "    .dataframe tbody tr th {\n",
       "        vertical-align: top;\n",
       "    }\n",
       "\n",
       "    .dataframe thead th {\n",
       "        text-align: right;\n",
       "    }\n",
       "</style>\n",
       "<table border=\"1\" class=\"dataframe\">\n",
       "  <thead>\n",
       "    <tr style=\"text-align: right;\">\n",
       "      <th></th>\n",
       "      <th>Date</th>\n",
       "      <th>Store</th>\n",
       "      <th>Dept</th>\n",
       "      <th>Weekly_Sales</th>\n",
       "      <th>pre_holiday</th>\n",
       "      <th>IsHoliday</th>\n",
       "      <th>pos_holiday</th>\n",
       "      <th>Fuel_Price</th>\n",
       "      <th>CPI</th>\n",
       "      <th>Unemployment</th>\n",
       "      <th>celsius</th>\n",
       "      <th>datetime</th>\n",
       "      <th>Type</th>\n",
       "      <th>sales_diff</th>\n",
       "      <th>sales_diff_p</th>\n",
       "      <th>MarkDown1</th>\n",
       "      <th>MarkDown2</th>\n",
       "      <th>MarkDown3</th>\n",
       "      <th>MarkDown4</th>\n",
       "      <th>MarkDown5</th>\n",
       "      <th>Size</th>\n",
       "      <th>Temperature</th>\n",
       "      <th>timestamp</th>\n",
       "      <th>store_dept</th>\n",
       "      <th>day_n</th>\n",
       "      <th>week_n</th>\n",
       "      <th>month_n</th>\n",
       "      <th>up_diff</th>\n",
       "      <th>celsius_diff</th>\n",
       "    </tr>\n",
       "  </thead>\n",
       "  <tbody>\n",
       "    <tr>\n",
       "      <td>176989</td>\n",
       "      <td>2012-01-13</td>\n",
       "      <td>25</td>\n",
       "      <td>40</td>\n",
       "      <td>44762.74</td>\n",
       "      <td>False</td>\n",
       "      <td>False</td>\n",
       "      <td>False</td>\n",
       "      <td>3.51</td>\n",
       "      <td>212.74</td>\n",
       "      <td>6.96</td>\n",
       "      <td>1.44</td>\n",
       "      <td>2012-01-13</td>\n",
       "      <td>B</td>\n",
       "      <td>-2578.60</td>\n",
       "      <td>-0.05</td>\n",
       "      <td>2459.51</td>\n",
       "      <td>10718.26</td>\n",
       "      <td>0.92</td>\n",
       "      <td>506.45</td>\n",
       "      <td>3277.12</td>\n",
       "      <td>128107</td>\n",
       "      <td>34.60</td>\n",
       "      <td>1326423600.00</td>\n",
       "      <td>25_40</td>\n",
       "      <td>13</td>\n",
       "      <td>2</td>\n",
       "      <td>01</td>\n",
       "      <td>False</td>\n",
       "      <td>NaN</td>\n",
       "    </tr>\n",
       "    <tr>\n",
       "      <td>241333</td>\n",
       "      <td>2011-08-12</td>\n",
       "      <td>31</td>\n",
       "      <td>4</td>\n",
       "      <td>36618.64</td>\n",
       "      <td>False</td>\n",
       "      <td>False</td>\n",
       "      <td>False</td>\n",
       "      <td>3.64</td>\n",
       "      <td>215.26</td>\n",
       "      <td>7.85</td>\n",
       "      <td>33.51</td>\n",
       "      <td>2011-08-12</td>\n",
       "      <td>A</td>\n",
       "      <td>1068.85</td>\n",
       "      <td>0.03</td>\n",
       "      <td>nan</td>\n",
       "      <td>nan</td>\n",
       "      <td>nan</td>\n",
       "      <td>nan</td>\n",
       "      <td>nan</td>\n",
       "      <td>203750</td>\n",
       "      <td>92.32</td>\n",
       "      <td>1313118000.00</td>\n",
       "      <td>31_4</td>\n",
       "      <td>12</td>\n",
       "      <td>2</td>\n",
       "      <td>08</td>\n",
       "      <td>True</td>\n",
       "      <td>NaN</td>\n",
       "    </tr>\n",
       "    <tr>\n",
       "      <td>390325</td>\n",
       "      <td>2012-02-03</td>\n",
       "      <td>6</td>\n",
       "      <td>27</td>\n",
       "      <td>2267.98</td>\n",
       "      <td>True</td>\n",
       "      <td>False</td>\n",
       "      <td>False</td>\n",
       "      <td>3.36</td>\n",
       "      <td>221.77</td>\n",
       "      <td>6.13</td>\n",
       "      <td>14.14</td>\n",
       "      <td>2012-02-03</td>\n",
       "      <td>A</td>\n",
       "      <td>644.99</td>\n",
       "      <td>0.40</td>\n",
       "      <td>36848.38</td>\n",
       "      <td>1772.68</td>\n",
       "      <td>161.55</td>\n",
       "      <td>28199.34</td>\n",
       "      <td>7151.33</td>\n",
       "      <td>202505</td>\n",
       "      <td>57.45</td>\n",
       "      <td>1328238000.00</td>\n",
       "      <td>6_27</td>\n",
       "      <td>3</td>\n",
       "      <td>1</td>\n",
       "      <td>02</td>\n",
       "      <td>True</td>\n",
       "      <td>NaN</td>\n",
       "    </tr>\n",
       "    <tr>\n",
       "      <td>222149</td>\n",
       "      <td>2010-11-19</td>\n",
       "      <td>3</td>\n",
       "      <td>34</td>\n",
       "      <td>3684.00</td>\n",
       "      <td>True</td>\n",
       "      <td>False</td>\n",
       "      <td>False</td>\n",
       "      <td>2.77</td>\n",
       "      <td>215.21</td>\n",
       "      <td>7.56</td>\n",
       "      <td>14.29</td>\n",
       "      <td>2010-11-19</td>\n",
       "      <td>B</td>\n",
       "      <td>98.75</td>\n",
       "      <td>0.03</td>\n",
       "      <td>nan</td>\n",
       "      <td>nan</td>\n",
       "      <td>nan</td>\n",
       "      <td>nan</td>\n",
       "      <td>nan</td>\n",
       "      <td>37392</td>\n",
       "      <td>57.72</td>\n",
       "      <td>1290135600.00</td>\n",
       "      <td>3_34</td>\n",
       "      <td>19</td>\n",
       "      <td>3</td>\n",
       "      <td>11</td>\n",
       "      <td>True</td>\n",
       "      <td>NaN</td>\n",
       "    </tr>\n",
       "    <tr>\n",
       "      <td>126846</td>\n",
       "      <td>2011-11-04</td>\n",
       "      <td>20</td>\n",
       "      <td>5</td>\n",
       "      <td>48799.61</td>\n",
       "      <td>False</td>\n",
       "      <td>False</td>\n",
       "      <td>False</td>\n",
       "      <td>3.55</td>\n",
       "      <td>210.84</td>\n",
       "      <td>7.08</td>\n",
       "      <td>6.60</td>\n",
       "      <td>2011-11-04</td>\n",
       "      <td>A</td>\n",
       "      <td>5029.18</td>\n",
       "      <td>0.11</td>\n",
       "      <td>nan</td>\n",
       "      <td>nan</td>\n",
       "      <td>nan</td>\n",
       "      <td>nan</td>\n",
       "      <td>nan</td>\n",
       "      <td>203742</td>\n",
       "      <td>43.88</td>\n",
       "      <td>1320375600.00</td>\n",
       "      <td>20_5</td>\n",
       "      <td>4</td>\n",
       "      <td>1</td>\n",
       "      <td>11</td>\n",
       "      <td>True</td>\n",
       "      <td>NaN</td>\n",
       "    </tr>\n",
       "    <tr>\n",
       "      <td>367713</td>\n",
       "      <td>2011-02-04</td>\n",
       "      <td>45</td>\n",
       "      <td>16</td>\n",
       "      <td>8142.46</td>\n",
       "      <td>True</td>\n",
       "      <td>False</td>\n",
       "      <td>False</td>\n",
       "      <td>3.23</td>\n",
       "      <td>183.44</td>\n",
       "      <td>8.55</td>\n",
       "      <td>-1.82</td>\n",
       "      <td>2011-02-04</td>\n",
       "      <td>B</td>\n",
       "      <td>-967.67</td>\n",
       "      <td>-0.11</td>\n",
       "      <td>nan</td>\n",
       "      <td>nan</td>\n",
       "      <td>nan</td>\n",
       "      <td>nan</td>\n",
       "      <td>nan</td>\n",
       "      <td>118221</td>\n",
       "      <td>28.73</td>\n",
       "      <td>1296788400.00</td>\n",
       "      <td>45_16</td>\n",
       "      <td>4</td>\n",
       "      <td>1</td>\n",
       "      <td>02</td>\n",
       "      <td>False</td>\n",
       "      <td>NaN</td>\n",
       "    </tr>\n",
       "  </tbody>\n",
       "</table>\n",
       "</div>"
      ],
      "text/plain": [
       "              Date Store Dept  Weekly_Sales pre_holiday  IsHoliday  \\\n",
       "176989  2012-01-13    25   40      44762.74       False      False   \n",
       "241333  2011-08-12    31    4      36618.64       False      False   \n",
       "390325  2012-02-03     6   27       2267.98        True      False   \n",
       "222149  2010-11-19     3   34       3684.00        True      False   \n",
       "126846  2011-11-04    20    5      48799.61       False      False   \n",
       "367713  2011-02-04    45   16       8142.46        True      False   \n",
       "\n",
       "       pos_holiday  Fuel_Price    CPI  Unemployment  celsius   datetime Type  \\\n",
       "176989       False        3.51 212.74          6.96     1.44 2012-01-13    B   \n",
       "241333       False        3.64 215.26          7.85    33.51 2011-08-12    A   \n",
       "390325       False        3.36 221.77          6.13    14.14 2012-02-03    A   \n",
       "222149       False        2.77 215.21          7.56    14.29 2010-11-19    B   \n",
       "126846       False        3.55 210.84          7.08     6.60 2011-11-04    A   \n",
       "367713       False        3.23 183.44          8.55    -1.82 2011-02-04    B   \n",
       "\n",
       "        sales_diff  sales_diff_p  MarkDown1  MarkDown2  MarkDown3  MarkDown4  \\\n",
       "176989    -2578.60         -0.05    2459.51   10718.26       0.92     506.45   \n",
       "241333     1068.85          0.03        nan        nan        nan        nan   \n",
       "390325      644.99          0.40   36848.38    1772.68     161.55   28199.34   \n",
       "222149       98.75          0.03        nan        nan        nan        nan   \n",
       "126846     5029.18          0.11        nan        nan        nan        nan   \n",
       "367713     -967.67         -0.11        nan        nan        nan        nan   \n",
       "\n",
       "        MarkDown5    Size  Temperature     timestamp store_dept  day_n  \\\n",
       "176989    3277.12  128107        34.60 1326423600.00      25_40     13   \n",
       "241333        nan  203750        92.32 1313118000.00       31_4     12   \n",
       "390325    7151.33  202505        57.45 1328238000.00       6_27      3   \n",
       "222149        nan   37392        57.72 1290135600.00       3_34     19   \n",
       "126846        nan  203742        43.88 1320375600.00       20_5      4   \n",
       "367713        nan  118221        28.73 1296788400.00      45_16      4   \n",
       "\n",
       "        week_n month_n  up_diff celsius_diff  \n",
       "176989       2      01    False          NaN  \n",
       "241333       2      08     True          NaN  \n",
       "390325       1      02     True          NaN  \n",
       "222149       3      11     True          NaN  \n",
       "126846       1      11     True          NaN  \n",
       "367713       1      02    False          NaN  "
      ]
     },
     "execution_count": 8,
     "metadata": {},
     "output_type": "execute_result"
    }
   ],
   "source": [
    "train.sample(6)"
   ]
  },
  {
   "cell_type": "markdown",
   "metadata": {},
   "source": [
    " "
   ]
  },
  {
   "cell_type": "markdown",
   "metadata": {},
   "source": [
    "# <font color=\"navy\">Date</font>"
   ]
  },
  {
   "cell_type": "code",
   "execution_count": 9,
   "metadata": {},
   "outputs": [
    {
     "name": "stderr",
     "output_type": "stream",
     "text": [
      "/home/tales/anaconda3/lib/python3.7/site-packages/bokeh/plotting/helpers.py:628: UserWarning: WheelZoomTool are being repeated\n",
      "  warnings.warn(\"%s are being repeated\" % \",\".join(repeated_tools))\n"
     ]
    },
    {
     "data": {
      "text/html": [
       "\n",
       "\n",
       "\n",
       "\n",
       "\n",
       "\n",
       "  <div class=\"bk-root\" id=\"c787a4ed-935a-48cb-9b85-012de84cbbd0\" data-root-id=\"1002\"></div>\n"
      ]
     },
     "metadata": {},
     "output_type": "display_data"
    },
    {
     "data": {
      "application/javascript": [
       "(function(root) {\n",
       "  function embed_document(root) {\n",
       "    \n",
       "  var docs_json = {\"10a996ee-f0ed-45e0-83f7-8262c2a10de0\":{\"roots\":{\"references\":[{\"attributes\":{\"below\":[{\"id\":\"1013\",\"type\":\"DatetimeAxis\"}],\"center\":[{\"id\":\"1017\",\"type\":\"Grid\"},{\"id\":\"1022\",\"type\":\"Grid\"}],\"left\":[{\"id\":\"1018\",\"type\":\"LinearAxis\"}],\"plot_height\":200,\"plot_width\":900,\"renderers\":[{\"id\":\"1039\",\"type\":\"GlyphRenderer\"},{\"id\":\"1044\",\"type\":\"GlyphRenderer\"}],\"title\":{\"id\":\"1003\",\"type\":\"Title\"},\"toolbar\":{\"id\":\"1028\",\"type\":\"Toolbar\"},\"x_range\":{\"id\":\"1005\",\"type\":\"DataRange1d\"},\"x_scale\":{\"id\":\"1009\",\"type\":\"LinearScale\"},\"y_range\":{\"id\":\"1007\",\"type\":\"DataRange1d\"},\"y_scale\":{\"id\":\"1011\",\"type\":\"LinearScale\"}},\"id\":\"1002\",\"subtype\":\"Figure\",\"type\":\"Plot\"},{\"attributes\":{\"dimension\":1,\"ticker\":{\"id\":\"1019\",\"type\":\"BasicTicker\"}},\"id\":\"1022\",\"type\":\"Grid\"},{\"attributes\":{\"days\":[\"%d/%b\"],\"hours\":[\"%H:%M %d/%b\"],\"months\":[\"%d/%b/%Y\"],\"years\":[\"%d/%b/%Y\"]},\"id\":\"1034\",\"type\":\"DatetimeTickFormatter\"},{\"attributes\":{\"ticker\":{\"id\":\"1014\",\"type\":\"DatetimeTicker\"}},\"id\":\"1017\",\"type\":\"Grid\"},{\"attributes\":{\"data_source\":{\"id\":\"1036\",\"type\":\"ColumnDataSource\"},\"glyph\":{\"id\":\"1037\",\"type\":\"Circle\"},\"hover_glyph\":null,\"muted_glyph\":null,\"nonselection_glyph\":{\"id\":\"1038\",\"type\":\"Circle\"},\"selection_glyph\":null,\"view\":{\"id\":\"1040\",\"type\":\"CDSView\"}},\"id\":\"1039\",\"type\":\"GlyphRenderer\"},{\"attributes\":{\"months\":[0,1,2,3,4,5,6,7,8,9,10,11]},\"id\":\"1057\",\"type\":\"MonthsTicker\"},{\"attributes\":{},\"id\":\"1065\",\"type\":\"Selection\"},{\"attributes\":{},\"id\":\"1019\",\"type\":\"BasicTicker\"},{\"attributes\":{\"active_drag\":\"auto\",\"active_inspect\":\"auto\",\"active_multi\":null,\"active_scroll\":\"auto\",\"active_tap\":\"auto\",\"tools\":[{\"id\":\"1023\",\"type\":\"PanTool\"},{\"id\":\"1024\",\"type\":\"WheelZoomTool\"},{\"id\":\"1025\",\"type\":\"WheelZoomTool\"},{\"id\":\"1026\",\"type\":\"ResetTool\"},{\"id\":\"1027\",\"type\":\"SaveTool\"}]},\"id\":\"1028\",\"type\":\"Toolbar\"},{\"attributes\":{\"num_minor_ticks\":5,\"tickers\":[{\"id\":\"1050\",\"type\":\"AdaptiveTicker\"},{\"id\":\"1051\",\"type\":\"AdaptiveTicker\"},{\"id\":\"1052\",\"type\":\"AdaptiveTicker\"},{\"id\":\"1053\",\"type\":\"DaysTicker\"},{\"id\":\"1054\",\"type\":\"DaysTicker\"},{\"id\":\"1055\",\"type\":\"DaysTicker\"},{\"id\":\"1056\",\"type\":\"DaysTicker\"},{\"id\":\"1057\",\"type\":\"MonthsTicker\"},{\"id\":\"1058\",\"type\":\"MonthsTicker\"},{\"id\":\"1059\",\"type\":\"MonthsTicker\"},{\"id\":\"1060\",\"type\":\"MonthsTicker\"},{\"id\":\"1061\",\"type\":\"YearsTicker\"}]},\"id\":\"1014\",\"type\":\"DatetimeTicker\"},{\"attributes\":{},\"id\":\"1023\",\"type\":\"PanTool\"},{\"attributes\":{},\"id\":\"1048\",\"type\":\"BasicTickFormatter\"},{\"attributes\":{\"fill_alpha\":{\"value\":0.8},\"fill_color\":{\"value\":\"navy\"},\"line_alpha\":{\"value\":0.8},\"line_color\":{\"value\":\"navy\"},\"size\":{\"units\":\"screen\",\"value\":3},\"x\":{\"field\":\"x\"},\"y\":{\"field\":\"y\"}},\"id\":\"1037\",\"type\":\"Circle\"},{\"attributes\":{\"source\":{\"id\":\"1041\",\"type\":\"ColumnDataSource\"}},\"id\":\"1045\",\"type\":\"CDSView\"},{\"attributes\":{\"callback\":null},\"id\":\"1005\",\"type\":\"DataRange1d\"},{\"attributes\":{},\"id\":\"1011\",\"type\":\"LinearScale\"},{\"attributes\":{\"line_alpha\":0.8,\"line_color\":\"navy\",\"x\":{\"field\":\"x\"},\"y\":{\"field\":\"y\"}},\"id\":\"1042\",\"type\":\"Line\"},{\"attributes\":{\"months\":[0,6]},\"id\":\"1060\",\"type\":\"MonthsTicker\"},{\"attributes\":{\"data_source\":{\"id\":\"1041\",\"type\":\"ColumnDataSource\"},\"glyph\":{\"id\":\"1042\",\"type\":\"Line\"},\"hover_glyph\":null,\"muted_glyph\":null,\"nonselection_glyph\":{\"id\":\"1043\",\"type\":\"Line\"},\"selection_glyph\":null,\"view\":{\"id\":\"1045\",\"type\":\"CDSView\"}},\"id\":\"1044\",\"type\":\"GlyphRenderer\"},{\"attributes\":{\"formatter\":{\"id\":\"1034\",\"type\":\"DatetimeTickFormatter\"},\"ticker\":{\"id\":\"1014\",\"type\":\"DatetimeTicker\"}},\"id\":\"1013\",\"type\":\"DatetimeAxis\"},{\"attributes\":{\"mantissas\":[1,2,5],\"max_interval\":500.0,\"num_minor_ticks\":0},\"id\":\"1050\",\"type\":\"AdaptiveTicker\"},{\"attributes\":{\"formatter\":{\"id\":\"1048\",\"type\":\"BasicTickFormatter\"},\"ticker\":{\"id\":\"1019\",\"type\":\"BasicTicker\"}},\"id\":\"1018\",\"type\":\"LinearAxis\"},{\"attributes\":{\"text\":\"Weekly_Sales vs Datetime\"},\"id\":\"1003\",\"type\":\"Title\"},{\"attributes\":{\"callback\":null,\"data\":{\"x\":{\"__ndarray__\":\"AADA0LZpckIAAACZ92tyQgAAQGE4bnJCAACAKXlwckIAAMDxuXJyQgAAALr6dHJCAABAgjt3ckIAAIBKfHlyQgAAwBK9e3JCAAAA2/19ckIAAECjPoByQgAAgGt/gnJCAADAM8CEckIAAAD8AIdyQgAAQMRBiXJCAACAjIKLckIAAMBUw41yQgAAAB0EkHJCAABA5USSckIAAICthZRyQgAAwHXGlnJCAAAAPgeZckIAAEAGSJtyQgAAgM6InXJCAADAlsmfckIAAABfCqJyQgAAQCdLpHJCAACA74umckIAAMC3zKhyQgAAAIANq3JCAABASE6tckIAAIAQj69yQgAAwNjPsXJCAAAAoRC0ckIAAEBpUbZyQgAAgDGSuHJCAADA+dK6ckIAAADCE71yQgAAQIpUv3JCAACAUpXBckIAAMAa1sNyQgAAAOMWxnJCAABAq1fIckIAAIBzmMpyQgAAwDvZzHJCAAAABBrPckIAAEDMWtFyQgAAgJSb03JCAADAXNzVckIAAAAlHdhyQgAAQO1d2nJCAACAtZ7cckIAAMB9395yQgAAAEYg4XJCAABADmHjckIAAIDWoeVyQgAAwJ7i53JCAAAAZyPqckIAAEAvZOxyQgAAgPek7nJCAADAv+XwckIAAACIJvNyQgAAQFBn9XJCAACAGKj3ckIAAMDg6PlyQgAAAKkp/HJCAABAcWr+ckIAAIA5qwBzQgAAwAHsAnNCAAAAyiwFc0IAAECSbQdzQgAAgFquCXNCAADAIu8Lc0IAAADrLw5zQgAAQLNwEHNCAACAe7ESc0IAAMBD8hRzQgAAAAwzF3NCAABA1HMZc0IAAICctBtzQgAAwGT1HXNCAAAALTYgc0IAAED1diJzQgAAgL23JHNCAADAhfgmc0IAAABOOSlzQgAAQBZ6K3NCAACA3rotc0IAAMCm+y9zQgAAAG88MnNCAABAN300c0IAAID/vTZzQgAAwMf+OHNCAAAAkD87c0IAAEBYgD1zQgAAgCDBP3NCAADA6AFCc0IAAACxQkRzQgAAQHmDRnNCAACAQcRIc0IAAMAJBUtzQgAAANJFTXNCAABAmoZPc0IAAIBix1FzQgAAwCoIVHNCAAAA80hWc0IAAEC7iVhzQgAAgIPKWnNCAADASwtdc0IAAAAUTF9zQgAAQNyMYXNCAACApM1jc0IAAMBsDmZzQgAAADVPaHNCAABA/Y9qc0IAAIDF0GxzQgAAwI0Rb3NCAAAAVlJxc0IAAEAek3NzQgAAgObTdXNCAADArhR4c0IAAAB3VXpzQgAAQD+WfHNCAACAB9d+c0IAAMDPF4FzQgAAAJhYg3NCAABAYJmFc0IAAIAo2odzQgAAwPAainNCAAAAuVuMc0IAAECBnI5zQgAAgEndkHNCAADAER6Tc0IAAADaXpVzQgAAQKKfl3NCAACAauCZc0IAAMAyIZxzQgAAAPthnnNCAABAw6Kgc0IAAICL46JzQgAAwFMkpXNCAAAAHGWnc0IAAEDkpalzQg==\",\"dtype\":\"float64\",\"shape\":[143]},\"y\":{\"__ndarray__\":\"PQrXo7DgvkCQwvUojFbAQAAAAACgbcBAzczMzMxDvECamZmZ+SW+QMzMzMyMab1AmpmZmZnrvkB7FK5HIbG8QLgehetx6cBA7FG4HkVGv0CkcD0Kl1K9QBSuR+H63L1AZmZmZubYvEDhehSuh4nAQML1KFzvVr9AcT0K1yOnvkDNzMzMTDnAQHsUrkcBysBAexSuR+Gyv0B7FK5Hob+/QDMzMzNzg79A16NwPUq1v0Bcj8L1qLu+QAAAAACAlL5ApHA9CpeXvUD2KFyPwk2+QHE9CtfjlcBA16NwPZobwEC4HoXrEUXAQIXrUbjep79AUrgehQuEvkCF61G43uu8QBSuR+H6IrxAuB6F6zFdu0AK16NwvRy7QKRwPQrXP71AKVyPwjUMvEBI4XoUjjm8QD0K16MQ97xAPgrXozAGvkDC9Shcbxe+QArXo3C9H75A4noUrjcsxECamZmZWRm/QOxRuB7VEcJAAAAAAGC7xEA0MzMzIwTLQFyPwvUoPrlACtejcP3wuEApXI/CtUm3QD4K16NQ+7dAFK5H4fpTuEAK16NwHZC8QJqZmZl5v75Aw/UoXC+QwEAUrkfheke8QFyPwvUo0b1AKVyPwjXAu0DsUbgeRZq9QHA9CteDKLxA9ihcjwKIu0BxPQrXI968QM3MzMyMAL1ArkfhetTnv0Bcj8L1yA29QOxRuB4luL1AmpmZmZkWvUAK16NwvZa8QKRwPQqXp71A9ihcj4JCv0AAAAAAYOS+QLgehetRPb5AkML1KBxwvUAAAAAAAEq+QBSuR+H6pL1AKVyPwvVRvECF61G4/tC8QIXrUbjeKLxAuB6F6xHdvkAzMzMzc2a9QK5H4XqUrb1A9ihcj4K3vUAAAAAAAKK8QML1KFxvQ71AAAAAAOBTu0AK16Nw/WC7QKRwPQpXfbpASOF6FK40vUAzMzMzM767QML1KFyv3LxAZmZmZqbvvECuR+F69Om9QHE9CtdjdL1AUrgehevsvEDhehSuJ9DCQM3MzMxs6L1ApHA9CmcOwUAzMzMzMzbDQB+F61HYxshAj8L1KByKvUCF61G4Xrq5QJDC9SjcGrdAw/UoXE8CuECkcD0K15m2QGZmZmamy7pA16NwPQobvkDsUbgehVO/QI/C9ShcwLxAFK5H4RquvECuR+F69CK9QFK4HoWrSr5AMzMzMzM/vUCamZmZ2QS9QFK4HoULrcBAexSuRyFTvUApXI/Cdbi7QHA9CtdDJ7tA4XoUrsf2vEBSuB6Fa229QArXo3D9+L1AMzMzMzN5vkAK16NwPQy+QML1KFxvn75AUrgehWsPvkAK16NwvWa9QM3MzMzMTL1ApHA9ChdqvkDMzMzMTJa8QAAAAABg7bxAZmZmZmYcvEC4HoXrUUe9QAAAAACAhb1AFK5H4brQvUApXI/CNQi+QJDC9ShciL5AAAAAAOCrvUAAAAAAALO6QKRwPQoXYrtAhutRuB4tu0AehetR2D69QClcj8L1nLxAMzMzM7POvEAUrkfhOnu9QA==\",\"dtype\":\"float64\",\"shape\":[143]}},\"selected\":{\"id\":\"1065\",\"type\":\"Selection\"},\"selection_policy\":{\"id\":\"1064\",\"type\":\"UnionRenderers\"}},\"id\":\"1041\",\"type\":\"ColumnDataSource\"},{\"attributes\":{\"months\":[0,2,4,6,8,10]},\"id\":\"1058\",\"type\":\"MonthsTicker\"},{\"attributes\":{},\"id\":\"1026\",\"type\":\"ResetTool\"},{\"attributes\":{},\"id\":\"1062\",\"type\":\"UnionRenderers\"},{\"attributes\":{\"callback\":null},\"id\":\"1007\",\"type\":\"DataRange1d\"},{\"attributes\":{},\"id\":\"1064\",\"type\":\"UnionRenderers\"},{\"attributes\":{\"days\":[1,15]},\"id\":\"1056\",\"type\":\"DaysTicker\"},{\"attributes\":{\"base\":60,\"mantissas\":[1,2,5,10,15,20,30],\"max_interval\":1800000.0,\"min_interval\":1000.0,\"num_minor_ticks\":0},\"id\":\"1051\",\"type\":\"AdaptiveTicker\"},{\"attributes\":{\"days\":[1,8,15,22]},\"id\":\"1055\",\"type\":\"DaysTicker\"},{\"attributes\":{\"months\":[0,4,8]},\"id\":\"1059\",\"type\":\"MonthsTicker\"},{\"attributes\":{\"callback\":null,\"data\":{\"x\":{\"__ndarray__\":\"AADA0LZpckIAAACZ92tyQgAAQGE4bnJCAACAKXlwckIAAMDxuXJyQgAAALr6dHJCAABAgjt3ckIAAIBKfHlyQgAAwBK9e3JCAAAA2/19ckIAAECjPoByQgAAgGt/gnJCAADAM8CEckIAAAD8AIdyQgAAQMRBiXJCAACAjIKLckIAAMBUw41yQgAAAB0EkHJCAABA5USSckIAAICthZRyQgAAwHXGlnJCAAAAPgeZckIAAEAGSJtyQgAAgM6InXJCAADAlsmfckIAAABfCqJyQgAAQCdLpHJCAACA74umckIAAMC3zKhyQgAAAIANq3JCAABASE6tckIAAIAQj69yQgAAwNjPsXJCAAAAoRC0ckIAAEBpUbZyQgAAgDGSuHJCAADA+dK6ckIAAADCE71yQgAAQIpUv3JCAACAUpXBckIAAMAa1sNyQgAAAOMWxnJCAABAq1fIckIAAIBzmMpyQgAAwDvZzHJCAAAABBrPckIAAEDMWtFyQgAAgJSb03JCAADAXNzVckIAAAAlHdhyQgAAQO1d2nJCAACAtZ7cckIAAMB9395yQgAAAEYg4XJCAABADmHjckIAAIDWoeVyQgAAwJ7i53JCAAAAZyPqckIAAEAvZOxyQgAAgPek7nJCAADAv+XwckIAAACIJvNyQgAAQFBn9XJCAACAGKj3ckIAAMDg6PlyQgAAAKkp/HJCAABAcWr+ckIAAIA5qwBzQgAAwAHsAnNCAAAAyiwFc0IAAECSbQdzQgAAgFquCXNCAADAIu8Lc0IAAADrLw5zQgAAQLNwEHNCAACAe7ESc0IAAMBD8hRzQgAAAAwzF3NCAABA1HMZc0IAAICctBtzQgAAwGT1HXNCAAAALTYgc0IAAED1diJzQgAAgL23JHNCAADAhfgmc0IAAABOOSlzQgAAQBZ6K3NCAACA3rotc0IAAMCm+y9zQgAAAG88MnNCAABAN300c0IAAID/vTZzQgAAwMf+OHNCAAAAkD87c0IAAEBYgD1zQgAAgCDBP3NCAADA6AFCc0IAAACxQkRzQgAAQHmDRnNCAACAQcRIc0IAAMAJBUtzQgAAANJFTXNCAABAmoZPc0IAAIBix1FzQgAAwCoIVHNCAAAA80hWc0IAAEC7iVhzQgAAgIPKWnNCAADASwtdc0IAAAAUTF9zQgAAQNyMYXNCAACApM1jc0IAAMBsDmZzQgAAADVPaHNCAABA/Y9qc0IAAIDF0GxzQgAAwI0Rb3NCAAAAVlJxc0IAAEAek3NzQgAAgObTdXNCAADArhR4c0IAAAB3VXpzQgAAQD+WfHNCAACAB9d+c0IAAMDPF4FzQgAAAJhYg3NCAABAYJmFc0IAAIAo2odzQgAAwPAainNCAAAAuVuMc0IAAECBnI5zQgAAgEndkHNCAADAER6Tc0IAAADaXpVzQgAAQKKfl3NCAACAauCZc0IAAMAyIZxzQgAAAPthnnNCAABAw6Kgc0IAAICL46JzQgAAwFMkpXNCAAAAHGWnc0IAAEDkpalzQg==\",\"dtype\":\"float64\",\"shape\":[143]},\"y\":{\"__ndarray__\":\"PQrXo7DgvkCQwvUojFbAQAAAAACgbcBAzczMzMxDvECamZmZ+SW+QMzMzMyMab1AmpmZmZnrvkB7FK5HIbG8QLgehetx6cBA7FG4HkVGv0CkcD0Kl1K9QBSuR+H63L1AZmZmZubYvEDhehSuh4nAQML1KFzvVr9AcT0K1yOnvkDNzMzMTDnAQHsUrkcBysBAexSuR+Gyv0B7FK5Hob+/QDMzMzNzg79A16NwPUq1v0Bcj8L1qLu+QAAAAACAlL5ApHA9CpeXvUD2KFyPwk2+QHE9CtfjlcBA16NwPZobwEC4HoXrEUXAQIXrUbjep79AUrgehQuEvkCF61G43uu8QBSuR+H6IrxAuB6F6zFdu0AK16NwvRy7QKRwPQrXP71AKVyPwjUMvEBI4XoUjjm8QD0K16MQ97xAPgrXozAGvkDC9Shcbxe+QArXo3C9H75A4noUrjcsxECamZmZWRm/QOxRuB7VEcJAAAAAAGC7xEA0MzMzIwTLQFyPwvUoPrlACtejcP3wuEApXI/CtUm3QD4K16NQ+7dAFK5H4fpTuEAK16NwHZC8QJqZmZl5v75Aw/UoXC+QwEAUrkfheke8QFyPwvUo0b1AKVyPwjXAu0DsUbgeRZq9QHA9CteDKLxA9ihcjwKIu0BxPQrXI968QM3MzMyMAL1ArkfhetTnv0Bcj8L1yA29QOxRuB4luL1AmpmZmZkWvUAK16NwvZa8QKRwPQqXp71A9ihcj4JCv0AAAAAAYOS+QLgehetRPb5AkML1KBxwvUAAAAAAAEq+QBSuR+H6pL1AKVyPwvVRvECF61G4/tC8QIXrUbjeKLxAuB6F6xHdvkAzMzMzc2a9QK5H4XqUrb1A9ihcj4K3vUAAAAAAAKK8QML1KFxvQ71AAAAAAOBTu0AK16Nw/WC7QKRwPQpXfbpASOF6FK40vUAzMzMzM767QML1KFyv3LxAZmZmZqbvvECuR+F69Om9QHE9CtdjdL1AUrgehevsvEDhehSuJ9DCQM3MzMxs6L1ApHA9CmcOwUAzMzMzMzbDQB+F61HYxshAj8L1KByKvUCF61G4Xrq5QJDC9SjcGrdAw/UoXE8CuECkcD0K15m2QGZmZmamy7pA16NwPQobvkDsUbgehVO/QI/C9ShcwLxAFK5H4RquvECuR+F69CK9QFK4HoWrSr5AMzMzMzM/vUCamZmZ2QS9QFK4HoULrcBAexSuRyFTvUApXI/Cdbi7QHA9CtdDJ7tA4XoUrsf2vEBSuB6Fa229QArXo3D9+L1AMzMzMzN5vkAK16NwPQy+QML1KFxvn75AUrgehWsPvkAK16NwvWa9QM3MzMzMTL1ApHA9ChdqvkDMzMzMTJa8QAAAAABg7bxAZmZmZmYcvEC4HoXrUUe9QAAAAACAhb1AFK5H4brQvUApXI/CNQi+QJDC9ShciL5AAAAAAOCrvUAAAAAAALO6QKRwPQoXYrtAhutRuB4tu0AehetR2D69QClcj8L1nLxAMzMzM7POvEAUrkfhOnu9QA==\",\"dtype\":\"float64\",\"shape\":[143]}},\"selected\":{\"id\":\"1063\",\"type\":\"Selection\"},\"selection_policy\":{\"id\":\"1062\",\"type\":\"UnionRenderers\"}},\"id\":\"1036\",\"type\":\"ColumnDataSource\"},{\"attributes\":{\"days\":[1,2,3,4,5,6,7,8,9,10,11,12,13,14,15,16,17,18,19,20,21,22,23,24,25,26,27,28,29,30,31]},\"id\":\"1053\",\"type\":\"DaysTicker\"},{\"attributes\":{\"dimensions\":\"height\"},\"id\":\"1024\",\"type\":\"WheelZoomTool\"},{\"attributes\":{},\"id\":\"1027\",\"type\":\"SaveTool\"},{\"attributes\":{},\"id\":\"1063\",\"type\":\"Selection\"},{\"attributes\":{\"dimensions\":\"width\"},\"id\":\"1025\",\"type\":\"WheelZoomTool\"},{\"attributes\":{\"fill_alpha\":{\"value\":0.1},\"fill_color\":{\"value\":\"#1f77b4\"},\"line_alpha\":{\"value\":0.1},\"line_color\":{\"value\":\"#1f77b4\"},\"size\":{\"units\":\"screen\",\"value\":3},\"x\":{\"field\":\"x\"},\"y\":{\"field\":\"y\"}},\"id\":\"1038\",\"type\":\"Circle\"},{\"attributes\":{\"days\":[1,4,7,10,13,16,19,22,25,28]},\"id\":\"1054\",\"type\":\"DaysTicker\"},{\"attributes\":{\"base\":24,\"mantissas\":[1,2,4,6,8,12],\"max_interval\":43200000.0,\"min_interval\":3600000.0,\"num_minor_ticks\":0},\"id\":\"1052\",\"type\":\"AdaptiveTicker\"},{\"attributes\":{},\"id\":\"1061\",\"type\":\"YearsTicker\"},{\"attributes\":{},\"id\":\"1009\",\"type\":\"LinearScale\"},{\"attributes\":{\"line_alpha\":0.1,\"line_color\":\"#1f77b4\",\"x\":{\"field\":\"x\"},\"y\":{\"field\":\"y\"}},\"id\":\"1043\",\"type\":\"Line\"},{\"attributes\":{\"source\":{\"id\":\"1036\",\"type\":\"ColumnDataSource\"}},\"id\":\"1040\",\"type\":\"CDSView\"}],\"root_ids\":[\"1002\"]},\"title\":\"Bokeh Application\",\"version\":\"1.3.4\"}};\n",
       "  var render_items = [{\"docid\":\"10a996ee-f0ed-45e0-83f7-8262c2a10de0\",\"roots\":{\"1002\":\"c787a4ed-935a-48cb-9b85-012de84cbbd0\"}}];\n",
       "  root.Bokeh.embed.embed_items_notebook(docs_json, render_items);\n",
       "\n",
       "  }\n",
       "  if (root.Bokeh !== undefined) {\n",
       "    embed_document(root);\n",
       "  } else {\n",
       "    var attempts = 0;\n",
       "    var timer = setInterval(function(root) {\n",
       "      if (root.Bokeh !== undefined) {\n",
       "        embed_document(root);\n",
       "        clearInterval(timer);\n",
       "      }\n",
       "      attempts++;\n",
       "      if (attempts > 100) {\n",
       "        console.log(\"Bokeh: ERROR: Unable to run BokehJS code because BokehJS library is missing\");\n",
       "        clearInterval(timer);\n",
       "      }\n",
       "    }, 10, root)\n",
       "  }\n",
       "})(window);"
      ],
      "application/vnd.bokehjs_exec.v0+json": ""
     },
     "metadata": {
      "application/vnd.bokehjs_exec.v0+json": {
       "id": "1002"
      }
     },
     "output_type": "display_data"
    }
   ],
   "source": [
    "grouped_sales = train.groupby(\"Date\")[\"Weekly_Sales\"].median()\n",
    "p = plot.plot_time_series_count(grouped_sales.index, grouped_sales, color=\"navy\", title=\"Weekly_Sales vs Datetime\", relative_y_axis=True, height=200)\n",
    "show(p)"
   ]
  },
  {
   "cell_type": "code",
   "execution_count": 10,
   "metadata": {},
   "outputs": [],
   "source": [
    "# grouped_sales = train.groupby(\"Date\")[\"sales_diff_p\"].median()\n",
    "# p = plot.plot_time_series_count(grouped_sales.index, grouped_sales, color=\"navy\", title=\"sales_diff_p vs Datetime\", relative_y_axis=True, height=200)\n",
    "# show(p)"
   ]
  },
  {
   "cell_type": "code",
   "execution_count": 11,
   "metadata": {},
   "outputs": [
    {
     "data": {
      "text/html": [
       "\n",
       "\n",
       "\n",
       "\n",
       "\n",
       "\n",
       "  <div class=\"bk-root\" id=\"58e56bb8-059c-4463-b0ae-c921f3286ba4\" data-root-id=\"1186\"></div>\n"
      ]
     },
     "metadata": {},
     "output_type": "display_data"
    },
    {
     "data": {
      "application/javascript": [
       "(function(root) {\n",
       "  function embed_document(root) {\n",
       "    \n",
       "  var docs_json = {\"5a756998-dd94-4740-b57f-d9e06f959b1a\":{\"roots\":{\"references\":[{\"attributes\":{\"below\":[{\"id\":\"1197\",\"type\":\"CategoricalAxis\"}],\"center\":[{\"id\":\"1200\",\"type\":\"Grid\"},{\"id\":\"1205\",\"type\":\"Grid\"}],\"left\":[{\"id\":\"1201\",\"type\":\"LinearAxis\"}],\"plot_height\":300,\"plot_width\":400,\"renderers\":[{\"id\":\"1218\",\"type\":\"GlyphRenderer\"},{\"id\":\"1223\",\"type\":\"GlyphRenderer\"},{\"id\":\"1228\",\"type\":\"GlyphRenderer\"}],\"title\":{\"id\":\"1187\",\"type\":\"Title\"},\"toolbar\":{\"id\":\"1210\",\"type\":\"Toolbar\"},\"x_range\":{\"id\":\"1189\",\"type\":\"FactorRange\"},\"x_scale\":{\"id\":\"1193\",\"type\":\"CategoricalScale\"},\"y_range\":{\"id\":\"1191\",\"type\":\"DataRange1d\"},\"y_scale\":{\"id\":\"1195\",\"type\":\"LinearScale\"}},\"id\":\"1186\",\"subtype\":\"Figure\",\"type\":\"Plot\"},{\"attributes\":{\"data_source\":{\"id\":\"1225\",\"type\":\"ColumnDataSource\"},\"glyph\":{\"id\":\"1226\",\"type\":\"MultiLine\"},\"hover_glyph\":null,\"muted_glyph\":null,\"nonselection_glyph\":{\"id\":\"1227\",\"type\":\"MultiLine\"},\"selection_glyph\":null,\"view\":{\"id\":\"1229\",\"type\":\"CDSView\"}},\"id\":\"1228\",\"type\":\"GlyphRenderer\"},{\"attributes\":{},\"id\":\"1209\",\"type\":\"SaveTool\"},{\"attributes\":{},\"id\":\"1258\",\"type\":\"Selection\"},{\"attributes\":{\"callback\":null,\"data\":{\"xs\":[[\"1\",\"1\"],[\"2\",\"2\"],[\"3\",\"3\"],[\"4\",\"4\"]],\"ys\":[[1328.4859999999999,25513.096000000005],[1341.0480000000002,25006.666000000012],[1365.0,25323.488000000016],[1326.1300000000006,25047.414000000008]]},\"selected\":{\"id\":\"1260\",\"type\":\"Selection\"},\"selection_policy\":{\"id\":\"1259\",\"type\":\"UnionRenderers\"}},\"id\":\"1225\",\"type\":\"ColumnDataSource\"},{\"attributes\":{},\"id\":\"1195\",\"type\":\"LinearScale\"},{\"attributes\":{\"dimensions\":\"height\"},\"id\":\"1207\",\"type\":\"WheelZoomTool\"},{\"attributes\":{\"callback\":null},\"id\":\"1191\",\"type\":\"DataRange1d\"},{\"attributes\":{},\"id\":\"1202\",\"type\":\"BasicTicker\"},{\"attributes\":{\"source\":{\"id\":\"1225\",\"type\":\"ColumnDataSource\"}},\"id\":\"1229\",\"type\":\"CDSView\"},{\"attributes\":{\"callback\":null,\"factors\":[\"1\",\"2\",\"3\",\"4\"]},\"id\":\"1189\",\"type\":\"FactorRange\"},{\"attributes\":{},\"id\":\"1193\",\"type\":\"CategoricalScale\"},{\"attributes\":{},\"id\":\"1260\",\"type\":\"Selection\"},{\"attributes\":{\"data_source\":{\"id\":\"1215\",\"type\":\"ColumnDataSource\"},\"glyph\":{\"id\":\"1216\",\"type\":\"Circle\"},\"hover_glyph\":null,\"muted_glyph\":null,\"nonselection_glyph\":{\"id\":\"1217\",\"type\":\"Circle\"},\"selection_glyph\":null,\"view\":{\"id\":\"1219\",\"type\":\"CDSView\"}},\"id\":\"1218\",\"type\":\"GlyphRenderer\"},{\"attributes\":{},\"id\":\"1259\",\"type\":\"UnionRenderers\"},{\"attributes\":{},\"id\":\"1206\",\"type\":\"PanTool\"},{\"attributes\":{\"callback\":null,\"data\":{\"x\":[\"1\",\"2\",\"3\",\"4\"],\"y\":{\"__ndarray__\":\"pHA9CpfdvUBI4XoUDnm9QIXrUbjeJb5ACtejcP1zvUA=\",\"dtype\":\"float64\",\"shape\":[4]}},\"selected\":{\"id\":\"1258\",\"type\":\"Selection\"},\"selection_policy\":{\"id\":\"1257\",\"type\":\"UnionRenderers\"}},\"id\":\"1220\",\"type\":\"ColumnDataSource\"},{\"attributes\":{\"line_color\":{\"value\":\"magenta\"},\"line_width\":{\"value\":2},\"xs\":{\"field\":\"xs\"},\"ys\":{\"field\":\"ys\"}},\"id\":\"1226\",\"type\":\"MultiLine\"},{\"attributes\":{},\"id\":\"1251\",\"type\":\"CategoricalTickFormatter\"},{\"attributes\":{},\"id\":\"1256\",\"type\":\"Selection\"},{\"attributes\":{\"fill_color\":{\"value\":\"magenta\"},\"line_alpha\":{\"value\":0},\"line_color\":{\"value\":\"magenta\"},\"size\":{\"units\":\"screen\",\"value\":5},\"x\":{\"field\":\"x\"},\"y\":{\"field\":\"y\"}},\"id\":\"1221\",\"type\":\"Circle\"},{\"attributes\":{\"line_alpha\":{\"value\":0.1},\"line_color\":{\"value\":\"#1f77b4\"},\"line_width\":{\"value\":2},\"xs\":{\"field\":\"xs\"},\"ys\":{\"field\":\"ys\"}},\"id\":\"1227\",\"type\":\"MultiLine\"},{\"attributes\":{\"fill_color\":{\"value\":\"navy\"},\"line_alpha\":{\"value\":0},\"line_color\":{\"value\":\"navy\"},\"size\":{\"units\":\"screen\",\"value\":10},\"x\":{\"field\":\"x\"},\"y\":{\"field\":\"y\"}},\"id\":\"1216\",\"type\":\"Circle\"},{\"attributes\":{\"axis_label\":\"week_n\",\"formatter\":{\"id\":\"1251\",\"type\":\"CategoricalTickFormatter\"},\"ticker\":{\"id\":\"1198\",\"type\":\"CategoricalTicker\"}},\"id\":\"1197\",\"type\":\"CategoricalAxis\"},{\"attributes\":{\"active_drag\":\"auto\",\"active_inspect\":\"auto\",\"active_multi\":null,\"active_scroll\":\"auto\",\"active_tap\":\"auto\",\"tools\":[{\"id\":\"1206\",\"type\":\"PanTool\"},{\"id\":\"1207\",\"type\":\"WheelZoomTool\"},{\"id\":\"1208\",\"type\":\"ResetTool\"},{\"id\":\"1209\",\"type\":\"SaveTool\"}]},\"id\":\"1210\",\"type\":\"Toolbar\"},{\"attributes\":{\"axis_label\":\"Weekly_Sales\",\"formatter\":{\"id\":\"1253\",\"type\":\"BasicTickFormatter\"},\"ticker\":{\"id\":\"1202\",\"type\":\"BasicTicker\"}},\"id\":\"1201\",\"type\":\"LinearAxis\"},{\"attributes\":{\"text\":\"Weekly_Sales errors grouped by week_n\"},\"id\":\"1187\",\"type\":\"Title\"},{\"attributes\":{},\"id\":\"1208\",\"type\":\"ResetTool\"},{\"attributes\":{\"dimension\":1,\"ticker\":{\"id\":\"1202\",\"type\":\"BasicTicker\"}},\"id\":\"1205\",\"type\":\"Grid\"},{\"attributes\":{\"data_source\":{\"id\":\"1220\",\"type\":\"ColumnDataSource\"},\"glyph\":{\"id\":\"1221\",\"type\":\"Circle\"},\"hover_glyph\":null,\"muted_glyph\":null,\"nonselection_glyph\":{\"id\":\"1222\",\"type\":\"Circle\"},\"selection_glyph\":null,\"view\":{\"id\":\"1224\",\"type\":\"CDSView\"}},\"id\":\"1223\",\"type\":\"GlyphRenderer\"},{\"attributes\":{},\"id\":\"1253\",\"type\":\"BasicTickFormatter\"},{\"attributes\":{\"fill_alpha\":{\"value\":0.1},\"fill_color\":{\"value\":\"#1f77b4\"},\"line_alpha\":{\"value\":0.1},\"line_color\":{\"value\":\"#1f77b4\"},\"size\":{\"units\":\"screen\",\"value\":10},\"x\":{\"field\":\"x\"},\"y\":{\"field\":\"y\"}},\"id\":\"1217\",\"type\":\"Circle\"},{\"attributes\":{\"source\":{\"id\":\"1215\",\"type\":\"ColumnDataSource\"}},\"id\":\"1219\",\"type\":\"CDSView\"},{\"attributes\":{},\"id\":\"1255\",\"type\":\"UnionRenderers\"},{\"attributes\":{},\"id\":\"1257\",\"type\":\"UnionRenderers\"},{\"attributes\":{\"callback\":null,\"data\":{\"x\":[\"1\",\"2\",\"3\",\"4\"],\"y\":{\"__ndarray__\":\"pHA9CpfdvUBI4XoUDnm9QIXrUbjeJb5ACtejcP1zvUA=\",\"dtype\":\"float64\",\"shape\":[4]}},\"selected\":{\"id\":\"1256\",\"type\":\"Selection\"},\"selection_policy\":{\"id\":\"1255\",\"type\":\"UnionRenderers\"}},\"id\":\"1215\",\"type\":\"ColumnDataSource\"},{\"attributes\":{\"source\":{\"id\":\"1220\",\"type\":\"ColumnDataSource\"}},\"id\":\"1224\",\"type\":\"CDSView\"},{\"attributes\":{\"ticker\":{\"id\":\"1198\",\"type\":\"CategoricalTicker\"}},\"id\":\"1200\",\"type\":\"Grid\"},{\"attributes\":{},\"id\":\"1198\",\"type\":\"CategoricalTicker\"},{\"attributes\":{\"fill_alpha\":{\"value\":0.1},\"fill_color\":{\"value\":\"#1f77b4\"},\"line_alpha\":{\"value\":0.1},\"line_color\":{\"value\":\"#1f77b4\"},\"size\":{\"units\":\"screen\",\"value\":5},\"x\":{\"field\":\"x\"},\"y\":{\"field\":\"y\"}},\"id\":\"1222\",\"type\":\"Circle\"}],\"root_ids\":[\"1186\"]},\"title\":\"Bokeh Application\",\"version\":\"1.3.4\"}};\n",
       "  var render_items = [{\"docid\":\"5a756998-dd94-4740-b57f-d9e06f959b1a\",\"roots\":{\"1186\":\"58e56bb8-059c-4463-b0ae-c921f3286ba4\"}}];\n",
       "  root.Bokeh.embed.embed_items_notebook(docs_json, render_items);\n",
       "\n",
       "  }\n",
       "  if (root.Bokeh !== undefined) {\n",
       "    embed_document(root);\n",
       "  } else {\n",
       "    var attempts = 0;\n",
       "    var timer = setInterval(function(root) {\n",
       "      if (root.Bokeh !== undefined) {\n",
       "        embed_document(root);\n",
       "        clearInterval(timer);\n",
       "      }\n",
       "      attempts++;\n",
       "      if (attempts > 100) {\n",
       "        console.log(\"Bokeh: ERROR: Unable to run BokehJS code because BokehJS library is missing\");\n",
       "        clearInterval(timer);\n",
       "      }\n",
       "    }, 10, root)\n",
       "  }\n",
       "})(window);"
      ],
      "application/vnd.bokehjs_exec.v0+json": ""
     },
     "metadata": {
      "application/vnd.bokehjs_exec.v0+json": {
       "id": "1186"
      }
     },
     "output_type": "display_data"
    }
   ],
   "source": [
    "p = plot.plot_error_values(train, \"week_n\", \"Weekly_Sales\", drop_quantile=0.20, \n",
    "                           title=\"Weekly_Sales errors grouped by week_n\")\n",
    "show(p)"
   ]
  },
  {
   "cell_type": "code",
   "execution_count": 12,
   "metadata": {},
   "outputs": [],
   "source": [
    "# p = plot.plot_error_values(train, \"week_n\", \"sales_diff_p\", drop_quantile=0.15, \n",
    "#                            title=\"Weekly_Sales errors grouped by week_n\")\n",
    "# show(p)"
   ]
  },
  {
   "cell_type": "code",
   "execution_count": 13,
   "metadata": {},
   "outputs": [],
   "source": [
    "train[\"wm_date\"] = train[\"month_n\"] + \"/\" + train[\"week_n\"].astype(str)"
   ]
  },
  {
   "cell_type": "code",
   "execution_count": 14,
   "metadata": {},
   "outputs": [
    {
     "data": {
      "text/html": [
       "\n",
       "\n",
       "\n",
       "\n",
       "\n",
       "\n",
       "  <div class=\"bk-root\" id=\"acbdba62-a438-4aa0-a811-5f3e216982dd\" data-root-id=\"1327\"></div>\n"
      ]
     },
     "metadata": {},
     "output_type": "display_data"
    },
    {
     "data": {
      "application/javascript": [
       "(function(root) {\n",
       "  function embed_document(root) {\n",
       "    \n",
       "  var docs_json = {\"0a782577-df9f-4354-8f20-d054b81f70a5\":{\"roots\":{\"references\":[{\"attributes\":{\"below\":[{\"id\":\"1338\",\"type\":\"CategoricalAxis\"}],\"center\":[{\"id\":\"1341\",\"type\":\"Grid\"},{\"id\":\"1346\",\"type\":\"Grid\"}],\"left\":[{\"id\":\"1342\",\"type\":\"LinearAxis\"}],\"plot_height\":300,\"plot_width\":1200,\"renderers\":[{\"id\":\"1359\",\"type\":\"GlyphRenderer\"},{\"id\":\"1364\",\"type\":\"GlyphRenderer\"},{\"id\":\"1369\",\"type\":\"GlyphRenderer\"}],\"title\":{\"id\":\"1328\",\"type\":\"Title\"},\"toolbar\":{\"id\":\"1351\",\"type\":\"Toolbar\"},\"x_range\":{\"id\":\"1330\",\"type\":\"FactorRange\"},\"x_scale\":{\"id\":\"1334\",\"type\":\"CategoricalScale\"},\"y_range\":{\"id\":\"1332\",\"type\":\"DataRange1d\"},\"y_scale\":{\"id\":\"1336\",\"type\":\"LinearScale\"}},\"id\":\"1327\",\"subtype\":\"Figure\",\"type\":\"Plot\"},{\"attributes\":{\"ticker\":{\"id\":\"1339\",\"type\":\"CategoricalTicker\"}},\"id\":\"1341\",\"type\":\"Grid\"},{\"attributes\":{\"fill_color\":{\"value\":\"navy\"},\"line_alpha\":{\"value\":0},\"line_color\":{\"value\":\"navy\"},\"size\":{\"units\":\"screen\",\"value\":10},\"x\":{\"field\":\"x\"},\"y\":{\"field\":\"y\"}},\"id\":\"1357\",\"type\":\"Circle\"},{\"attributes\":{},\"id\":\"1403\",\"type\":\"CategoricalTickFormatter\"},{\"attributes\":{},\"id\":\"1339\",\"type\":\"CategoricalTicker\"},{\"attributes\":{\"callback\":null,\"data\":{\"x\":[\"01/1\",\"01/2\",\"01/3\",\"01/4\",\"02/1\",\"02/2\",\"02/3\",\"02/4\",\"03/1\",\"03/2\",\"03/3\",\"03/4\",\"04/1\",\"04/2\",\"04/3\",\"04/4\",\"05/1\",\"05/2\",\"05/3\",\"05/4\",\"06/1\",\"06/2\",\"06/3\",\"06/4\",\"07/1\",\"07/2\",\"07/3\",\"07/4\",\"08/1\",\"08/2\",\"08/3\",\"08/4\",\"09/1\",\"09/2\",\"09/3\",\"09/4\",\"10/1\",\"10/2\",\"10/3\",\"10/4\",\"11/1\",\"11/2\",\"11/3\",\"11/4\",\"12/1\",\"12/2\",\"12/3\",\"12/4\"],\"y\":{\"__ndarray__\":\"KVyPwnVNuUA+Ctej0DW3QDMzMzMzALhA4XoUrkd0t0CQwvUofJ28QBSuR+E6Ib9A7FG4HgUjwEAzMzMzM2m8QML1KFzvfr1APgrXo1C7vEDhehSux+G9QFyPwvUImrxAcT0K12OVv0AfhetRmLy9QDMzMzPzuL1A9ihcjyKHvECPwvUo3H6+QJqZmZl5771ACtejcF2vvUDNzMzMjAO/QKRwPQqXb79APQrXo/C3vkCamZmZGU6+QJDC9Si8/L1A4XoUroezvkAfhetROCG9QPYoXI8Cer1AFK5H4fqbvECPwvUo3Ny+QPYoXI9CNL5AAAAAAACMvkBI4XoUrom+QIXrUbgeqb1A7FG4HiVWvEBmZmZmJqS7QClcj8J1ErtAw/UoXM+uvECuR+F6tGG8QGZmZmYmpLxAj8L1KBwavUAK16NwHfO9QBSuR+H6vr1AhetRuB7DvUA9CtejsIvDQHsUrkehur5AcD0K16OGwUCPwvUoHFLFQFyPwvWY88BA\",\"dtype\":\"float64\",\"shape\":[48]}},\"selected\":{\"id\":\"1408\",\"type\":\"Selection\"},\"selection_policy\":{\"id\":\"1407\",\"type\":\"UnionRenderers\"}},\"id\":\"1356\",\"type\":\"ColumnDataSource\"},{\"attributes\":{},\"id\":\"1336\",\"type\":\"LinearScale\"},{\"attributes\":{\"fill_color\":{\"value\":\"magenta\"},\"line_alpha\":{\"value\":0},\"line_color\":{\"value\":\"magenta\"},\"size\":{\"units\":\"screen\",\"value\":5},\"x\":{\"field\":\"x\"},\"y\":{\"field\":\"y\"}},\"id\":\"1362\",\"type\":\"Circle\"},{\"attributes\":{},\"id\":\"1409\",\"type\":\"UnionRenderers\"},{\"attributes\":{},\"id\":\"1412\",\"type\":\"Selection\"},{\"attributes\":{\"callback\":null,\"data\":{\"x\":[\"01/1\",\"01/2\",\"01/3\",\"01/4\",\"02/1\",\"02/2\",\"02/3\",\"02/4\",\"03/1\",\"03/2\",\"03/3\",\"03/4\",\"04/1\",\"04/2\",\"04/3\",\"04/4\",\"05/1\",\"05/2\",\"05/3\",\"05/4\",\"06/1\",\"06/2\",\"06/3\",\"06/4\",\"07/1\",\"07/2\",\"07/3\",\"07/4\",\"08/1\",\"08/2\",\"08/3\",\"08/4\",\"09/1\",\"09/2\",\"09/3\",\"09/4\",\"10/1\",\"10/2\",\"10/3\",\"10/4\",\"11/1\",\"11/2\",\"11/3\",\"11/4\",\"12/1\",\"12/2\",\"12/3\",\"12/4\"],\"y\":{\"__ndarray__\":\"KVyPwnVNuUA+Ctej0DW3QDMzMzMzALhA4XoUrkd0t0CQwvUofJ28QBSuR+E6Ib9A7FG4HgUjwEAzMzMzM2m8QML1KFzvfr1APgrXo1C7vEDhehSux+G9QFyPwvUImrxAcT0K12OVv0AfhetRmLy9QDMzMzPzuL1A9ihcjyKHvECPwvUo3H6+QJqZmZl5771ACtejcF2vvUDNzMzMjAO/QKRwPQqXb79APQrXo/C3vkCamZmZGU6+QJDC9Si8/L1A4XoUroezvkAfhetROCG9QPYoXI8Cer1AFK5H4fqbvECPwvUo3Ny+QPYoXI9CNL5AAAAAAACMvkBI4XoUrom+QIXrUbgeqb1A7FG4HiVWvEBmZmZmJqS7QClcj8J1ErtAw/UoXM+uvECuR+F6tGG8QGZmZmYmpLxAj8L1KBwavUAK16NwHfO9QBSuR+H6vr1AhetRuB7DvUA9CtejsIvDQHsUrkehur5AcD0K16OGwUCPwvUoHFLFQFyPwvWY88BA\",\"dtype\":\"float64\",\"shape\":[48]}},\"selected\":{\"id\":\"1410\",\"type\":\"Selection\"},\"selection_policy\":{\"id\":\"1409\",\"type\":\"UnionRenderers\"}},\"id\":\"1361\",\"type\":\"ColumnDataSource\"},{\"attributes\":{},\"id\":\"1347\",\"type\":\"PanTool\"},{\"attributes\":{\"callback\":null,\"factors\":[\"01/1\",\"01/2\",\"01/3\",\"01/4\",\"02/1\",\"02/2\",\"02/3\",\"02/4\",\"03/1\",\"03/2\",\"03/3\",\"03/4\",\"04/1\",\"04/2\",\"04/3\",\"04/4\",\"05/1\",\"05/2\",\"05/3\",\"05/4\",\"06/1\",\"06/2\",\"06/3\",\"06/4\",\"07/1\",\"07/2\",\"07/3\",\"07/4\",\"08/1\",\"08/2\",\"08/3\",\"08/4\",\"09/1\",\"09/2\",\"09/3\",\"09/4\",\"10/1\",\"10/2\",\"10/3\",\"10/4\",\"11/1\",\"11/2\",\"11/3\",\"11/4\",\"12/1\",\"12/2\",\"12/3\",\"12/4\"]},\"id\":\"1330\",\"type\":\"FactorRange\"},{\"attributes\":{\"dimensions\":\"height\"},\"id\":\"1348\",\"type\":\"WheelZoomTool\"},{\"attributes\":{\"active_drag\":\"auto\",\"active_inspect\":\"auto\",\"active_multi\":null,\"active_scroll\":\"auto\",\"active_tap\":\"auto\",\"tools\":[{\"id\":\"1347\",\"type\":\"PanTool\"},{\"id\":\"1348\",\"type\":\"WheelZoomTool\"},{\"id\":\"1349\",\"type\":\"ResetTool\"},{\"id\":\"1350\",\"type\":\"SaveTool\"}]},\"id\":\"1351\",\"type\":\"Toolbar\"},{\"attributes\":{},\"id\":\"1343\",\"type\":\"BasicTicker\"},{\"attributes\":{},\"id\":\"1349\",\"type\":\"ResetTool\"},{\"attributes\":{},\"id\":\"1350\",\"type\":\"SaveTool\"},{\"attributes\":{},\"id\":\"1334\",\"type\":\"CategoricalScale\"},{\"attributes\":{},\"id\":\"1408\",\"type\":\"Selection\"},{\"attributes\":{},\"id\":\"1411\",\"type\":\"UnionRenderers\"},{\"attributes\":{\"fill_alpha\":{\"value\":0.1},\"fill_color\":{\"value\":\"#1f77b4\"},\"line_alpha\":{\"value\":0.1},\"line_color\":{\"value\":\"#1f77b4\"},\"size\":{\"units\":\"screen\",\"value\":10},\"x\":{\"field\":\"x\"},\"y\":{\"field\":\"y\"}},\"id\":\"1358\",\"type\":\"Circle\"},{\"attributes\":{\"callback\":null},\"id\":\"1332\",\"type\":\"DataRange1d\"},{\"attributes\":{\"source\":{\"id\":\"1356\",\"type\":\"ColumnDataSource\"}},\"id\":\"1360\",\"type\":\"CDSView\"},{\"attributes\":{\"axis_label\":\"Weekly_Sales\",\"formatter\":{\"id\":\"1405\",\"type\":\"BasicTickFormatter\"},\"ticker\":{\"id\":\"1343\",\"type\":\"BasicTicker\"}},\"id\":\"1342\",\"type\":\"LinearAxis\"},{\"attributes\":{},\"id\":\"1405\",\"type\":\"BasicTickFormatter\"},{\"attributes\":{\"axis_label\":\"wm_date\",\"formatter\":{\"id\":\"1403\",\"type\":\"CategoricalTickFormatter\"},\"ticker\":{\"id\":\"1339\",\"type\":\"CategoricalTicker\"}},\"id\":\"1338\",\"type\":\"CategoricalAxis\"},{\"attributes\":{\"callback\":null,\"data\":{\"xs\":[[\"01/1\",\"01/1\"],[\"01/2\",\"01/2\"],[\"01/3\",\"01/3\"],[\"01/4\",\"01/4\"],[\"02/1\",\"02/1\"],[\"02/2\",\"02/2\"],[\"02/3\",\"02/3\"],[\"02/4\",\"02/4\"],[\"03/1\",\"03/1\"],[\"03/2\",\"03/2\"],[\"03/3\",\"03/3\"],[\"03/4\",\"03/4\"],[\"04/1\",\"04/1\"],[\"04/2\",\"04/2\"],[\"04/3\",\"04/3\"],[\"04/4\",\"04/4\"],[\"05/1\",\"05/1\"],[\"05/2\",\"05/2\"],[\"05/3\",\"05/3\"],[\"05/4\",\"05/4\"],[\"06/1\",\"06/1\"],[\"06/2\",\"06/2\"],[\"06/3\",\"06/3\"],[\"06/4\",\"06/4\"],[\"07/1\",\"07/1\"],[\"07/2\",\"07/2\"],[\"07/3\",\"07/3\"],[\"07/4\",\"07/4\"],[\"08/1\",\"08/1\"],[\"08/2\",\"08/2\"],[\"08/3\",\"08/3\"],[\"08/4\",\"08/4\"],[\"09/1\",\"09/1\"],[\"09/2\",\"09/2\"],[\"09/3\",\"09/3\"],[\"09/4\",\"09/4\"],[\"10/1\",\"10/1\"],[\"10/2\",\"10/2\"],[\"10/3\",\"10/3\"],[\"10/4\",\"10/4\"],[\"11/1\",\"11/1\"],[\"11/2\",\"11/2\"],[\"11/3\",\"11/3\"],[\"11/4\",\"11/4\"],[\"12/1\",\"12/1\"],[\"12/2\",\"12/2\"],[\"12/3\",\"12/3\"],[\"12/4\",\"12/4\"]],\"ys\":[[1769.23,17812.735],[1590.2025,16780.3125],[1612.39,16799.38],[1573.315,16267.08],[1920.04,19390.767499999998],[2070.7349999999997,20516.61],[2189.75,20895.68],[1876.8600000000001,18657.71],[1895.8249999999998,19413.1175],[1986.1825,19135.8725],[2117.56,19439.35],[2094.4449999999997,18982.207499999997],[2212.6800000000003,20905.86],[2161.92,19907.704999999998],[2016.24,19592.51],[1989.6525,18827.3425],[2105.59,20421.97],[2156.4300000000003,19740.3125],[2161.1075,19728.800000000003],[2212.3199999999997,20968.165],[2248.74,22233.64],[2203.0,21448.2],[2213.775,21274.675000000003],[2165.4700000000003,21116.52],[2149.0,22148.06],[2072.37,20896.625],[2004.4675,20550.8075],[1932.53,19729.29],[2024.0375,21057.8525],[1985.07,20437.21],[1997.4,20366.05],[2010.1550000000002,20460.205],[1901.8,20145.79],[1906.4125,19071.3975],[2022.295,18086.035],[2006.0,17848.52],[2109.54,19195.09],[2143.0325,19067.165],[2089.58,19086.524999999998],[2165.4300000000003,19667.004999999997],[2258.5099999999998,20548.255],[2161.63,20231.63],[2160.87,19478.99],[2592.625,25892.79],[2298.125,21470.2],[2555.2825000000003,24046.57],[2880.35,28464.27],[2300.035,24490.309999999998]]},\"selected\":{\"id\":\"1412\",\"type\":\"Selection\"},\"selection_policy\":{\"id\":\"1411\",\"type\":\"UnionRenderers\"}},\"id\":\"1366\",\"type\":\"ColumnDataSource\"},{\"attributes\":{\"dimension\":1,\"ticker\":{\"id\":\"1343\",\"type\":\"BasicTicker\"}},\"id\":\"1346\",\"type\":\"Grid\"},{\"attributes\":{\"line_color\":{\"value\":\"magenta\"},\"line_width\":{\"value\":2},\"xs\":{\"field\":\"xs\"},\"ys\":{\"field\":\"ys\"}},\"id\":\"1367\",\"type\":\"MultiLine\"},{\"attributes\":{\"fill_alpha\":{\"value\":0.1},\"fill_color\":{\"value\":\"#1f77b4\"},\"line_alpha\":{\"value\":0.1},\"line_color\":{\"value\":\"#1f77b4\"},\"size\":{\"units\":\"screen\",\"value\":5},\"x\":{\"field\":\"x\"},\"y\":{\"field\":\"y\"}},\"id\":\"1363\",\"type\":\"Circle\"},{\"attributes\":{\"line_alpha\":{\"value\":0.1},\"line_color\":{\"value\":\"#1f77b4\"},\"line_width\":{\"value\":2},\"xs\":{\"field\":\"xs\"},\"ys\":{\"field\":\"ys\"}},\"id\":\"1368\",\"type\":\"MultiLine\"},{\"attributes\":{\"source\":{\"id\":\"1361\",\"type\":\"ColumnDataSource\"}},\"id\":\"1365\",\"type\":\"CDSView\"},{\"attributes\":{\"data_source\":{\"id\":\"1361\",\"type\":\"ColumnDataSource\"},\"glyph\":{\"id\":\"1362\",\"type\":\"Circle\"},\"hover_glyph\":null,\"muted_glyph\":null,\"nonselection_glyph\":{\"id\":\"1363\",\"type\":\"Circle\"},\"selection_glyph\":null,\"view\":{\"id\":\"1365\",\"type\":\"CDSView\"}},\"id\":\"1364\",\"type\":\"GlyphRenderer\"},{\"attributes\":{\"source\":{\"id\":\"1366\",\"type\":\"ColumnDataSource\"}},\"id\":\"1370\",\"type\":\"CDSView\"},{\"attributes\":{},\"id\":\"1407\",\"type\":\"UnionRenderers\"},{\"attributes\":{\"data_source\":{\"id\":\"1366\",\"type\":\"ColumnDataSource\"},\"glyph\":{\"id\":\"1367\",\"type\":\"MultiLine\"},\"hover_glyph\":null,\"muted_glyph\":null,\"nonselection_glyph\":{\"id\":\"1368\",\"type\":\"MultiLine\"},\"selection_glyph\":null,\"view\":{\"id\":\"1370\",\"type\":\"CDSView\"}},\"id\":\"1369\",\"type\":\"GlyphRenderer\"},{\"attributes\":{\"text\":\"Weekly_Sales errors grouped by wm_date\"},\"id\":\"1328\",\"type\":\"Title\"},{\"attributes\":{},\"id\":\"1410\",\"type\":\"Selection\"},{\"attributes\":{\"data_source\":{\"id\":\"1356\",\"type\":\"ColumnDataSource\"},\"glyph\":{\"id\":\"1357\",\"type\":\"Circle\"},\"hover_glyph\":null,\"muted_glyph\":null,\"nonselection_glyph\":{\"id\":\"1358\",\"type\":\"Circle\"},\"selection_glyph\":null,\"view\":{\"id\":\"1360\",\"type\":\"CDSView\"}},\"id\":\"1359\",\"type\":\"GlyphRenderer\"}],\"root_ids\":[\"1327\"]},\"title\":\"Bokeh Application\",\"version\":\"1.3.4\"}};\n",
       "  var render_items = [{\"docid\":\"0a782577-df9f-4354-8f20-d054b81f70a5\",\"roots\":{\"1327\":\"acbdba62-a438-4aa0-a811-5f3e216982dd\"}}];\n",
       "  root.Bokeh.embed.embed_items_notebook(docs_json, render_items);\n",
       "\n",
       "  }\n",
       "  if (root.Bokeh !== undefined) {\n",
       "    embed_document(root);\n",
       "  } else {\n",
       "    var attempts = 0;\n",
       "    var timer = setInterval(function(root) {\n",
       "      if (root.Bokeh !== undefined) {\n",
       "        embed_document(root);\n",
       "        clearInterval(timer);\n",
       "      }\n",
       "      attempts++;\n",
       "      if (attempts > 100) {\n",
       "        console.log(\"Bokeh: ERROR: Unable to run BokehJS code because BokehJS library is missing\");\n",
       "        clearInterval(timer);\n",
       "      }\n",
       "    }, 10, root)\n",
       "  }\n",
       "})(window);"
      ],
      "application/vnd.bokehjs_exec.v0+json": ""
     },
     "metadata": {
      "application/vnd.bokehjs_exec.v0+json": {
       "id": "1327"
      }
     },
     "output_type": "display_data"
    }
   ],
   "source": [
    "p = plot.plot_error_values(train, \"wm_date\", \"Weekly_Sales\", drop_quantile=0.25, \n",
    "                           title=\"Weekly_Sales errors grouped by wm_date\", width=1200)\n",
    "show(p)"
   ]
  },
  {
   "cell_type": "code",
   "execution_count": 15,
   "metadata": {},
   "outputs": [],
   "source": [
    "# p = plot.plot_error_values(train, \"wm_date\", \"sales_diff_p\", drop_quantile=0.25, \n",
    "#                            title=\"sales_diff_p errors grouped by wm_date\", width=1200)\n",
    "# show(p)"
   ]
  },
  {
   "cell_type": "markdown",
   "metadata": {},
   "source": [
    "# <font color=\"navy\">Store</font>"
   ]
  },
  {
   "cell_type": "code",
   "execution_count": 16,
   "metadata": {},
   "outputs": [
    {
     "data": {
      "text/plain": [
       "<matplotlib.axes._subplots.AxesSubplot at 0x7fa9e99d2690>"
      ]
     },
     "execution_count": 16,
     "metadata": {},
     "output_type": "execute_result"
    }
   ],
   "source": [
    "train.groupby(\"Store\")[\"Weekly_Sales\"].mean().sort_values().plot.bar(title=\"Sales amout per store\", figsize=(10, 3))"
   ]
  },
  {
   "cell_type": "code",
   "execution_count": 17,
   "metadata": {},
   "outputs": [
    {
     "data": {
      "text/plain": [
       "<matplotlib.axes._subplots.AxesSubplot at 0x7fa9e173d5d0>"
      ]
     },
     "execution_count": 17,
     "metadata": {},
     "output_type": "execute_result"
    },
    {
     "data": {
      "image/png": "[encoded data removed]",
      "text/plain": [
       "<Figure size 648x216 with 1 Axes>"
      ]
     },
     "metadata": {
      "needs_background": "light"
     },
     "output_type": "display_data"
    }
   ],
   "source": [
    "train.plot.scatter(\"Size\", \"Weekly_Sales\", title=\"Scatter Plot - Store Size vs Weekly_Sales\",figsize=(9,3))"
   ]
  },
  {
   "cell_type": "markdown",
   "metadata": {},
   "source": [
    "# <font color=\"navy\">IsHoliday</font>\n",
    "holiday evaluation weight = 5 <br>\n",
    "not holiday evaluation weight = 1"
   ]
  },
  {
   "cell_type": "code",
   "execution_count": 18,
   "metadata": {},
   "outputs": [
    {
     "data": {
      "text/plain": [
       "<matplotlib.axes._subplots.AxesSubplot at 0x7fa9e3287310>"
      ]
     },
     "execution_count": 18,
     "metadata": {},
     "output_type": "execute_result"
    },
    {
     "data": {
      "image/png": "[encoded data removed]",
      "text/plain": [
       "<Figure size 1296x216 with 1 Axes>"
      ]
     },
     "metadata": {
      "needs_background": "light"
     },
     "output_type": "display_data"
    }
   ],
   "source": [
    "train.drop_duplicates([\"Store\", \"Date\"]).groupby(\"Store\")[\"IsHoliday\"].value_counts().plot.bar(title=\"Holidays count by store\",figsize=(18,3))"
   ]
  },
  {
   "cell_type": "code",
   "execution_count": 19,
   "metadata": {},
   "outputs": [
    {
     "data": {
      "text/html": [
       "<div>\n",
       "<style scoped>\n",
       "    .dataframe tbody tr th:only-of-type {\n",
       "        vertical-align: middle;\n",
       "    }\n",
       "\n",
       "    .dataframe tbody tr th {\n",
       "        vertical-align: top;\n",
       "    }\n",
       "\n",
       "    .dataframe thead th {\n",
       "        text-align: right;\n",
       "    }\n",
       "</style>\n",
       "<table border=\"1\" class=\"dataframe\">\n",
       "  <thead>\n",
       "    <tr style=\"text-align: right;\">\n",
       "      <th></th>\n",
       "      <th>freq_absolute</th>\n",
       "      <th>freq_relative</th>\n",
       "    </tr>\n",
       "  </thead>\n",
       "  <tbody>\n",
       "    <tr>\n",
       "      <td>False</td>\n",
       "      <td>5985</td>\n",
       "      <td>93.01%</td>\n",
       "    </tr>\n",
       "    <tr>\n",
       "      <td>True</td>\n",
       "      <td>450</td>\n",
       "      <td>6.99%</td>\n",
       "    </tr>\n",
       "  </tbody>\n",
       "</table>\n",
       "</div>"
      ],
      "text/plain": [
       "       freq_absolute freq_relative\n",
       "False           5985        93.01%\n",
       "True             450         6.99%"
      ]
     },
     "execution_count": 19,
     "metadata": {},
     "output_type": "execute_result"
    }
   ],
   "source": [
    "stats.freq(train.drop_duplicates([\"Store\", \"Date\"])[\"IsHoliday\"])"
   ]
  },
  {
   "cell_type": "code",
   "execution_count": 20,
   "metadata": {},
   "outputs": [
    {
     "data": {
      "text/plain": [
       "<matplotlib.axes._subplots.AxesSubplot at 0x7fa9e13ffa90>"
      ]
     },
     "execution_count": 20,
     "metadata": {},
     "output_type": "execute_result"
    },
    {
     "data": {
      "image/png": "[encoded data removed]",
      "text/plain": [
       "<Figure size 432x288 with 1 Axes>"
      ]
     },
     "metadata": {
      "needs_background": "light"
     },
     "output_type": "display_data"
    }
   ],
   "source": [
    "train.groupby(\"IsHoliday\")[\"Weekly_Sales\"].median().plot.bar(title=\"Weekly_Sales grouped by Holidays\")"
   ]
  },
  {
   "cell_type": "code",
   "execution_count": 21,
   "metadata": {},
   "outputs": [
    {
     "data": {
      "text/html": [
       "\n",
       "\n",
       "\n",
       "\n",
       "\n",
       "\n",
       "  <div class=\"bk-root\" id=\"2ddf89cb-a136-42de-bf54-9a9e2271a5b8\" data-root-id=\"1479\"></div>\n"
      ]
     },
     "metadata": {},
     "output_type": "display_data"
    },
    {
     "data": {
      "application/javascript": [
       "(function(root) {\n",
       "  function embed_document(root) {\n",
       "    \n",
       "  var docs_json = {\"40dea4f4-3341-4947-83a1-e0d322f0b3a5\":{\"roots\":{\"references\":[{\"attributes\":{\"below\":[{\"id\":\"1490\",\"type\":\"CategoricalAxis\"}],\"center\":[{\"id\":\"1493\",\"type\":\"Grid\"},{\"id\":\"1498\",\"type\":\"Grid\"}],\"left\":[{\"id\":\"1494\",\"type\":\"LinearAxis\"}],\"plot_height\":300,\"plot_width\":400,\"renderers\":[{\"id\":\"1511\",\"type\":\"GlyphRenderer\"},{\"id\":\"1516\",\"type\":\"GlyphRenderer\"},{\"id\":\"1521\",\"type\":\"GlyphRenderer\"}],\"title\":{\"id\":\"1480\",\"type\":\"Title\"},\"toolbar\":{\"id\":\"1503\",\"type\":\"Toolbar\"},\"x_range\":{\"id\":\"1482\",\"type\":\"FactorRange\"},\"x_scale\":{\"id\":\"1486\",\"type\":\"CategoricalScale\"},\"y_range\":{\"id\":\"1484\",\"type\":\"DataRange1d\"},\"y_scale\":{\"id\":\"1488\",\"type\":\"LinearScale\"}},\"id\":\"1479\",\"subtype\":\"Figure\",\"type\":\"Plot\"},{\"attributes\":{\"callback\":null,\"factors\":[\"False\",\"True\"]},\"id\":\"1482\",\"type\":\"FactorRange\"},{\"attributes\":{\"callback\":null,\"data\":{\"xs\":[[\"False\",\"False\"],[\"True\",\"True\"]],\"ys\":[[2079.75,20131.21],[2078.54,21189.25]]},\"selected\":{\"id\":\"1575\",\"type\":\"Selection\"},\"selection_policy\":{\"id\":\"1574\",\"type\":\"UnionRenderers\"}},\"id\":\"1518\",\"type\":\"ColumnDataSource\"},{\"attributes\":{\"text\":\"Weekly_Sales errors grouped by IsHoliday\"},\"id\":\"1480\",\"type\":\"Title\"},{\"attributes\":{},\"id\":\"1574\",\"type\":\"UnionRenderers\"},{\"attributes\":{\"fill_alpha\":{\"value\":0.1},\"fill_color\":{\"value\":\"#1f77b4\"},\"line_alpha\":{\"value\":0.1},\"line_color\":{\"value\":\"#1f77b4\"},\"size\":{\"units\":\"screen\",\"value\":10},\"x\":{\"field\":\"x\"},\"y\":{\"field\":\"y\"}},\"id\":\"1510\",\"type\":\"Circle\"},{\"attributes\":{\"ticker\":{\"id\":\"1491\",\"type\":\"CategoricalTicker\"}},\"id\":\"1493\",\"type\":\"Grid\"},{\"attributes\":{\"axis_label\":\"Weekly_Sales\",\"formatter\":{\"id\":\"1568\",\"type\":\"BasicTickFormatter\"},\"ticker\":{\"id\":\"1495\",\"type\":\"BasicTicker\"}},\"id\":\"1494\",\"type\":\"LinearAxis\"},{\"attributes\":{},\"id\":\"1566\",\"type\":\"CategoricalTickFormatter\"},{\"attributes\":{\"callback\":null},\"id\":\"1484\",\"type\":\"DataRange1d\"},{\"attributes\":{\"dimensions\":\"height\"},\"id\":\"1500\",\"type\":\"WheelZoomTool\"},{\"attributes\":{},\"id\":\"1575\",\"type\":\"Selection\"},{\"attributes\":{\"data_source\":{\"id\":\"1508\",\"type\":\"ColumnDataSource\"},\"glyph\":{\"id\":\"1509\",\"type\":\"Circle\"},\"hover_glyph\":null,\"muted_glyph\":null,\"nonselection_glyph\":{\"id\":\"1510\",\"type\":\"Circle\"},\"selection_glyph\":null,\"view\":{\"id\":\"1512\",\"type\":\"CDSView\"}},\"id\":\"1511\",\"type\":\"GlyphRenderer\"},{\"attributes\":{\"fill_alpha\":{\"value\":0.1},\"fill_color\":{\"value\":\"#1f77b4\"},\"line_alpha\":{\"value\":0.1},\"line_color\":{\"value\":\"#1f77b4\"},\"size\":{\"units\":\"screen\",\"value\":5},\"x\":{\"field\":\"x\"},\"y\":{\"field\":\"y\"}},\"id\":\"1515\",\"type\":\"Circle\"},{\"attributes\":{},\"id\":\"1491\",\"type\":\"CategoricalTicker\"},{\"attributes\":{\"callback\":null,\"data\":{\"x\":[\"False\",\"True\"],\"y\":{\"__ndarray__\":\"MzMzM/OlvUAK16NwvQu/QA==\",\"dtype\":\"float64\",\"shape\":[2]}},\"selected\":{\"id\":\"1571\",\"type\":\"Selection\"},\"selection_policy\":{\"id\":\"1570\",\"type\":\"UnionRenderers\"}},\"id\":\"1508\",\"type\":\"ColumnDataSource\"},{\"attributes\":{\"data_source\":{\"id\":\"1518\",\"type\":\"ColumnDataSource\"},\"glyph\":{\"id\":\"1519\",\"type\":\"MultiLine\"},\"hover_glyph\":null,\"muted_glyph\":null,\"nonselection_glyph\":{\"id\":\"1520\",\"type\":\"MultiLine\"},\"selection_glyph\":null,\"view\":{\"id\":\"1522\",\"type\":\"CDSView\"}},\"id\":\"1521\",\"type\":\"GlyphRenderer\"},{\"attributes\":{\"dimension\":1,\"ticker\":{\"id\":\"1495\",\"type\":\"BasicTicker\"}},\"id\":\"1498\",\"type\":\"Grid\"},{\"attributes\":{},\"id\":\"1572\",\"type\":\"UnionRenderers\"},{\"attributes\":{\"data_source\":{\"id\":\"1513\",\"type\":\"ColumnDataSource\"},\"glyph\":{\"id\":\"1514\",\"type\":\"Circle\"},\"hover_glyph\":null,\"muted_glyph\":null,\"nonselection_glyph\":{\"id\":\"1515\",\"type\":\"Circle\"},\"selection_glyph\":null,\"view\":{\"id\":\"1517\",\"type\":\"CDSView\"}},\"id\":\"1516\",\"type\":\"GlyphRenderer\"},{\"attributes\":{},\"id\":\"1568\",\"type\":\"BasicTickFormatter\"},{\"attributes\":{\"axis_label\":\"IsHoliday\",\"formatter\":{\"id\":\"1566\",\"type\":\"CategoricalTickFormatter\"},\"ticker\":{\"id\":\"1491\",\"type\":\"CategoricalTicker\"}},\"id\":\"1490\",\"type\":\"CategoricalAxis\"},{\"attributes\":{\"active_drag\":\"auto\",\"active_inspect\":\"auto\",\"active_multi\":null,\"active_scroll\":\"auto\",\"active_tap\":\"auto\",\"tools\":[{\"id\":\"1499\",\"type\":\"PanTool\"},{\"id\":\"1500\",\"type\":\"WheelZoomTool\"},{\"id\":\"1501\",\"type\":\"ResetTool\"},{\"id\":\"1502\",\"type\":\"SaveTool\"}]},\"id\":\"1503\",\"type\":\"Toolbar\"},{\"attributes\":{\"fill_color\":{\"value\":\"magenta\"},\"line_alpha\":{\"value\":0},\"line_color\":{\"value\":\"magenta\"},\"size\":{\"units\":\"screen\",\"value\":5},\"x\":{\"field\":\"x\"},\"y\":{\"field\":\"y\"}},\"id\":\"1514\",\"type\":\"Circle\"},{\"attributes\":{},\"id\":\"1499\",\"type\":\"PanTool\"},{\"attributes\":{\"fill_color\":{\"value\":\"navy\"},\"line_alpha\":{\"value\":0},\"line_color\":{\"value\":\"navy\"},\"size\":{\"units\":\"screen\",\"value\":10},\"x\":{\"field\":\"x\"},\"y\":{\"field\":\"y\"}},\"id\":\"1509\",\"type\":\"Circle\"},{\"attributes\":{\"source\":{\"id\":\"1508\",\"type\":\"ColumnDataSource\"}},\"id\":\"1512\",\"type\":\"CDSView\"},{\"attributes\":{\"line_color\":{\"value\":\"magenta\"},\"line_width\":{\"value\":2},\"xs\":{\"field\":\"xs\"},\"ys\":{\"field\":\"ys\"}},\"id\":\"1519\",\"type\":\"MultiLine\"},{\"attributes\":{\"callback\":null,\"data\":{\"x\":[\"False\",\"True\"],\"y\":{\"__ndarray__\":\"MzMzM/OlvUAK16NwvQu/QA==\",\"dtype\":\"float64\",\"shape\":[2]}},\"selected\":{\"id\":\"1573\",\"type\":\"Selection\"},\"selection_policy\":{\"id\":\"1572\",\"type\":\"UnionRenderers\"}},\"id\":\"1513\",\"type\":\"ColumnDataSource\"},{\"attributes\":{\"source\":{\"id\":\"1513\",\"type\":\"ColumnDataSource\"}},\"id\":\"1517\",\"type\":\"CDSView\"},{\"attributes\":{\"line_alpha\":{\"value\":0.1},\"line_color\":{\"value\":\"#1f77b4\"},\"line_width\":{\"value\":2},\"xs\":{\"field\":\"xs\"},\"ys\":{\"field\":\"ys\"}},\"id\":\"1520\",\"type\":\"MultiLine\"},{\"attributes\":{},\"id\":\"1573\",\"type\":\"Selection\"},{\"attributes\":{},\"id\":\"1486\",\"type\":\"CategoricalScale\"},{\"attributes\":{},\"id\":\"1495\",\"type\":\"BasicTicker\"},{\"attributes\":{\"source\":{\"id\":\"1518\",\"type\":\"ColumnDataSource\"}},\"id\":\"1522\",\"type\":\"CDSView\"},{\"attributes\":{},\"id\":\"1571\",\"type\":\"Selection\"},{\"attributes\":{},\"id\":\"1501\",\"type\":\"ResetTool\"},{\"attributes\":{},\"id\":\"1570\",\"type\":\"UnionRenderers\"},{\"attributes\":{},\"id\":\"1488\",\"type\":\"LinearScale\"},{\"attributes\":{},\"id\":\"1502\",\"type\":\"SaveTool\"}],\"root_ids\":[\"1479\"]},\"title\":\"Bokeh Application\",\"version\":\"1.3.4\"}};\n",
       "  var render_items = [{\"docid\":\"40dea4f4-3341-4947-83a1-e0d322f0b3a5\",\"roots\":{\"1479\":\"2ddf89cb-a136-42de-bf54-9a9e2271a5b8\"}}];\n",
       "  root.Bokeh.embed.embed_items_notebook(docs_json, render_items);\n",
       "\n",
       "  }\n",
       "  if (root.Bokeh !== undefined) {\n",
       "    embed_document(root);\n",
       "  } else {\n",
       "    var attempts = 0;\n",
       "    var timer = setInterval(function(root) {\n",
       "      if (root.Bokeh !== undefined) {\n",
       "        embed_document(root);\n",
       "        clearInterval(timer);\n",
       "      }\n",
       "      attempts++;\n",
       "      if (attempts > 100) {\n",
       "        console.log(\"Bokeh: ERROR: Unable to run BokehJS code because BokehJS library is missing\");\n",
       "        clearInterval(timer);\n",
       "      }\n",
       "    }, 10, root)\n",
       "  }\n",
       "})(window);"
      ],
      "application/vnd.bokehjs_exec.v0+json": ""
     },
     "metadata": {
      "application/vnd.bokehjs_exec.v0+json": {
       "id": "1479"
      }
     },
     "output_type": "display_data"
    }
   ],
   "source": [
    "p = plot.plot_error_values(train, \"IsHoliday\", \"Weekly_Sales\", drop_quantile=0.25, \n",
    "                           title=\"Weekly_Sales errors grouped by IsHoliday\")\n",
    "show(p)"
   ]
  },
  {
   "cell_type": "markdown",
   "metadata": {},
   "source": [
    "#### Before Holiday"
   ]
  },
  {
   "cell_type": "code",
   "execution_count": 22,
   "metadata": {},
   "outputs": [
    {
     "data": {
      "text/plain": [
       "<matplotlib.axes._subplots.AxesSubplot at 0x7fa9e14d09d0>"
      ]
     },
     "execution_count": 22,
     "metadata": {},
     "output_type": "execute_result"
    },
    {
     "data": {
      "image/png": "[encoded data removed]",
      "text/plain": [
       "<Figure size 360x144 with 1 Axes>"
      ]
     },
     "metadata": {
      "needs_background": "light"
     },
     "output_type": "display_data"
    }
   ],
   "source": [
    "train.groupby(\"pre_holiday\")[\"Weekly_Sales\"].median().plot.bar(title=\"Weekly_Sales BEFORE Holidays\", figsize=(5,2))"
   ]
  },
  {
   "cell_type": "code",
   "execution_count": 23,
   "metadata": {},
   "outputs": [
    {
     "data": {
      "text/html": [
       "\n",
       "\n",
       "\n",
       "\n",
       "\n",
       "\n",
       "  <div class=\"bk-root\" id=\"b7eb03f4-4372-494d-9236-51bf66c9d064\" data-root-id=\"1642\"></div>\n"
      ]
     },
     "metadata": {},
     "output_type": "display_data"
    },
    {
     "data": {
      "application/javascript": [
       "(function(root) {\n",
       "  function embed_document(root) {\n",
       "    \n",
       "  var docs_json = {\"cc196ba0-a276-4aed-a305-45beffc2e0db\":{\"roots\":{\"references\":[{\"attributes\":{\"below\":[{\"id\":\"1653\",\"type\":\"CategoricalAxis\"}],\"center\":[{\"id\":\"1656\",\"type\":\"Grid\"},{\"id\":\"1661\",\"type\":\"Grid\"}],\"left\":[{\"id\":\"1657\",\"type\":\"LinearAxis\"}],\"plot_height\":200,\"plot_width\":350,\"renderers\":[{\"id\":\"1674\",\"type\":\"GlyphRenderer\"},{\"id\":\"1679\",\"type\":\"GlyphRenderer\"},{\"id\":\"1684\",\"type\":\"GlyphRenderer\"}],\"title\":{\"id\":\"1643\",\"type\":\"Title\"},\"toolbar\":{\"id\":\"1666\",\"type\":\"Toolbar\"},\"x_range\":{\"id\":\"1645\",\"type\":\"FactorRange\"},\"x_scale\":{\"id\":\"1649\",\"type\":\"CategoricalScale\"},\"y_range\":{\"id\":\"1647\",\"type\":\"DataRange1d\"},\"y_scale\":{\"id\":\"1651\",\"type\":\"LinearScale\"}},\"id\":\"1642\",\"subtype\":\"Figure\",\"type\":\"Plot\"},{\"attributes\":{\"ticker\":{\"id\":\"1654\",\"type\":\"CategoricalTicker\"}},\"id\":\"1656\",\"type\":\"Grid\"},{\"attributes\":{\"source\":{\"id\":\"1671\",\"type\":\"ColumnDataSource\"}},\"id\":\"1675\",\"type\":\"CDSView\"},{\"attributes\":{\"source\":{\"id\":\"1676\",\"type\":\"ColumnDataSource\"}},\"id\":\"1680\",\"type\":\"CDSView\"},{\"attributes\":{\"active_drag\":\"auto\",\"active_inspect\":\"auto\",\"active_multi\":null,\"active_scroll\":\"auto\",\"active_tap\":\"auto\",\"tools\":[{\"id\":\"1662\",\"type\":\"PanTool\"},{\"id\":\"1663\",\"type\":\"WheelZoomTool\"},{\"id\":\"1664\",\"type\":\"ResetTool\"},{\"id\":\"1665\",\"type\":\"SaveTool\"}]},\"id\":\"1666\",\"type\":\"Toolbar\"},{\"attributes\":{},\"id\":\"1662\",\"type\":\"PanTool\"},{\"attributes\":{},\"id\":\"1749\",\"type\":\"Selection\"},{\"attributes\":{\"data_source\":{\"id\":\"1681\",\"type\":\"ColumnDataSource\"},\"glyph\":{\"id\":\"1682\",\"type\":\"MultiLine\"},\"hover_glyph\":null,\"muted_glyph\":null,\"nonselection_glyph\":{\"id\":\"1683\",\"type\":\"MultiLine\"},\"selection_glyph\":null,\"view\":{\"id\":\"1685\",\"type\":\"CDSView\"}},\"id\":\"1684\",\"type\":\"GlyphRenderer\"},{\"attributes\":{},\"id\":\"1740\",\"type\":\"CategoricalTickFormatter\"},{\"attributes\":{},\"id\":\"1665\",\"type\":\"SaveTool\"},{\"attributes\":{\"callback\":null,\"data\":{\"xs\":[[\"False\",\"False\"],[\"True\",\"True\"]],\"ys\":[[2071.3025,20062.267499999998],[2194.91,22219.489999999998]]},\"selected\":{\"id\":\"1749\",\"type\":\"Selection\"},\"selection_policy\":{\"id\":\"1748\",\"type\":\"UnionRenderers\"}},\"id\":\"1681\",\"type\":\"ColumnDataSource\"},{\"attributes\":{},\"id\":\"1742\",\"type\":\"BasicTickFormatter\"},{\"attributes\":{},\"id\":\"1651\",\"type\":\"LinearScale\"},{\"attributes\":{},\"id\":\"1654\",\"type\":\"CategoricalTicker\"},{\"attributes\":{},\"id\":\"1746\",\"type\":\"UnionRenderers\"},{\"attributes\":{\"callback\":null,\"factors\":[\"False\",\"True\"]},\"id\":\"1645\",\"type\":\"FactorRange\"},{\"attributes\":{\"fill_color\":{\"value\":\"navy\"},\"line_alpha\":{\"value\":0},\"line_color\":{\"value\":\"navy\"},\"size\":{\"units\":\"screen\",\"value\":10},\"x\":{\"field\":\"x\"},\"y\":{\"field\":\"y\"}},\"id\":\"1672\",\"type\":\"Circle\"},{\"attributes\":{\"line_color\":{\"value\":\"magenta\"},\"line_width\":{\"value\":2},\"xs\":{\"field\":\"xs\"},\"ys\":{\"field\":\"ys\"}},\"id\":\"1682\",\"type\":\"MultiLine\"},{\"attributes\":{\"line_alpha\":{\"value\":0.1},\"line_color\":{\"value\":\"#1f77b4\"},\"line_width\":{\"value\":2},\"xs\":{\"field\":\"xs\"},\"ys\":{\"field\":\"ys\"}},\"id\":\"1683\",\"type\":\"MultiLine\"},{\"attributes\":{},\"id\":\"1744\",\"type\":\"UnionRenderers\"},{\"attributes\":{\"callback\":null},\"id\":\"1647\",\"type\":\"DataRange1d\"},{\"attributes\":{\"fill_alpha\":{\"value\":0.1},\"fill_color\":{\"value\":\"#1f77b4\"},\"line_alpha\":{\"value\":0.1},\"line_color\":{\"value\":\"#1f77b4\"},\"size\":{\"units\":\"screen\",\"value\":5},\"x\":{\"field\":\"x\"},\"y\":{\"field\":\"y\"}},\"id\":\"1678\",\"type\":\"Circle\"},{\"attributes\":{},\"id\":\"1747\",\"type\":\"Selection\"},{\"attributes\":{\"dimension\":1,\"ticker\":{\"id\":\"1658\",\"type\":\"BasicTicker\"}},\"id\":\"1661\",\"type\":\"Grid\"},{\"attributes\":{},\"id\":\"1649\",\"type\":\"CategoricalScale\"},{\"attributes\":{\"text\":\"Weekly_Sales errors grouped by pre_holiday\"},\"id\":\"1643\",\"type\":\"Title\"},{\"attributes\":{\"data_source\":{\"id\":\"1671\",\"type\":\"ColumnDataSource\"},\"glyph\":{\"id\":\"1672\",\"type\":\"Circle\"},\"hover_glyph\":null,\"muted_glyph\":null,\"nonselection_glyph\":{\"id\":\"1673\",\"type\":\"Circle\"},\"selection_glyph\":null,\"view\":{\"id\":\"1675\",\"type\":\"CDSView\"}},\"id\":\"1674\",\"type\":\"GlyphRenderer\"},{\"attributes\":{\"dimensions\":\"height\"},\"id\":\"1663\",\"type\":\"WheelZoomTool\"},{\"attributes\":{},\"id\":\"1745\",\"type\":\"Selection\"},{\"attributes\":{\"data_source\":{\"id\":\"1676\",\"type\":\"ColumnDataSource\"},\"glyph\":{\"id\":\"1677\",\"type\":\"Circle\"},\"hover_glyph\":null,\"muted_glyph\":null,\"nonselection_glyph\":{\"id\":\"1678\",\"type\":\"Circle\"},\"selection_glyph\":null,\"view\":{\"id\":\"1680\",\"type\":\"CDSView\"}},\"id\":\"1679\",\"type\":\"GlyphRenderer\"},{\"attributes\":{},\"id\":\"1664\",\"type\":\"ResetTool\"},{\"attributes\":{\"fill_alpha\":{\"value\":0.1},\"fill_color\":{\"value\":\"#1f77b4\"},\"line_alpha\":{\"value\":0.1},\"line_color\":{\"value\":\"#1f77b4\"},\"size\":{\"units\":\"screen\",\"value\":10},\"x\":{\"field\":\"x\"},\"y\":{\"field\":\"y\"}},\"id\":\"1673\",\"type\":\"Circle\"},{\"attributes\":{\"fill_color\":{\"value\":\"magenta\"},\"line_alpha\":{\"value\":0},\"line_color\":{\"value\":\"magenta\"},\"size\":{\"units\":\"screen\",\"value\":5},\"x\":{\"field\":\"x\"},\"y\":{\"field\":\"y\"}},\"id\":\"1677\",\"type\":\"Circle\"},{\"attributes\":{\"source\":{\"id\":\"1681\",\"type\":\"ColumnDataSource\"}},\"id\":\"1685\",\"type\":\"CDSView\"},{\"attributes\":{\"callback\":null,\"data\":{\"x\":[\"False\",\"True\"],\"y\":{\"__ndarray__\":\"AAAAAACSvUA9CtejsBfAQA==\",\"dtype\":\"float64\",\"shape\":[2]}},\"selected\":{\"id\":\"1745\",\"type\":\"Selection\"},\"selection_policy\":{\"id\":\"1744\",\"type\":\"UnionRenderers\"}},\"id\":\"1671\",\"type\":\"ColumnDataSource\"},{\"attributes\":{},\"id\":\"1658\",\"type\":\"BasicTicker\"},{\"attributes\":{\"callback\":null,\"data\":{\"x\":[\"False\",\"True\"],\"y\":{\"__ndarray__\":\"AAAAAACSvUA9CtejsBfAQA==\",\"dtype\":\"float64\",\"shape\":[2]}},\"selected\":{\"id\":\"1747\",\"type\":\"Selection\"},\"selection_policy\":{\"id\":\"1746\",\"type\":\"UnionRenderers\"}},\"id\":\"1676\",\"type\":\"ColumnDataSource\"},{\"attributes\":{},\"id\":\"1748\",\"type\":\"UnionRenderers\"},{\"attributes\":{\"axis_label\":\"pre_holiday\",\"formatter\":{\"id\":\"1740\",\"type\":\"CategoricalTickFormatter\"},\"ticker\":{\"id\":\"1654\",\"type\":\"CategoricalTicker\"}},\"id\":\"1653\",\"type\":\"CategoricalAxis\"},{\"attributes\":{\"axis_label\":\"Weekly_Sales\",\"formatter\":{\"id\":\"1742\",\"type\":\"BasicTickFormatter\"},\"ticker\":{\"id\":\"1658\",\"type\":\"BasicTicker\"}},\"id\":\"1657\",\"type\":\"LinearAxis\"}],\"root_ids\":[\"1642\"]},\"title\":\"Bokeh Application\",\"version\":\"1.3.4\"}};\n",
       "  var render_items = [{\"docid\":\"cc196ba0-a276-4aed-a305-45beffc2e0db\",\"roots\":{\"1642\":\"b7eb03f4-4372-494d-9236-51bf66c9d064\"}}];\n",
       "  root.Bokeh.embed.embed_items_notebook(docs_json, render_items);\n",
       "\n",
       "  }\n",
       "  if (root.Bokeh !== undefined) {\n",
       "    embed_document(root);\n",
       "  } else {\n",
       "    var attempts = 0;\n",
       "    var timer = setInterval(function(root) {\n",
       "      if (root.Bokeh !== undefined) {\n",
       "        embed_document(root);\n",
       "        clearInterval(timer);\n",
       "      }\n",
       "      attempts++;\n",
       "      if (attempts > 100) {\n",
       "        console.log(\"Bokeh: ERROR: Unable to run BokehJS code because BokehJS library is missing\");\n",
       "        clearInterval(timer);\n",
       "      }\n",
       "    }, 10, root)\n",
       "  }\n",
       "})(window);"
      ],
      "application/vnd.bokehjs_exec.v0+json": ""
     },
     "metadata": {
      "application/vnd.bokehjs_exec.v0+json": {
       "id": "1642"
      }
     },
     "output_type": "display_data"
    }
   ],
   "source": [
    "p = plot.plot_error_values(train, \"pre_holiday\", \"Weekly_Sales\", drop_quantile=0.25, \n",
    "                           title=\"Weekly_Sales errors grouped by pre_holiday\", width=350, height=200)\n",
    "show(p)"
   ]
  },
  {
   "cell_type": "markdown",
   "metadata": {},
   "source": [
    "#### After Holiday"
   ]
  },
  {
   "cell_type": "code",
   "execution_count": 24,
   "metadata": {},
   "outputs": [
    {
     "data": {
      "text/plain": [
       "<matplotlib.axes._subplots.AxesSubplot at 0x7fa9e96ac7d0>"
      ]
     },
     "execution_count": 24,
     "metadata": {},
     "output_type": "execute_result"
    },
    {
     "data": {
      "image/png": "[encoded data removed]",
      "text/plain": [
       "<Figure size 360x144 with 1 Axes>"
      ]
     },
     "metadata": {
      "needs_background": "light"
     },
     "output_type": "display_data"
    }
   ],
   "source": [
    "train.groupby(\"pos_holiday\")[\"Weekly_Sales\"].median().plot.bar(title=\"Weekly_Sales AFTER Holidays\", figsize=(5,2))"
   ]
  },
  {
   "cell_type": "code",
   "execution_count": 25,
   "metadata": {},
   "outputs": [
    {
     "data": {
      "text/html": [
       "\n",
       "\n",
       "\n",
       "\n",
       "\n",
       "\n",
       "  <div class=\"bk-root\" id=\"c58e07a2-ab17-4fd5-a426-7d4c95b3e785\" data-root-id=\"1816\"></div>\n"
      ]
     },
     "metadata": {},
     "output_type": "display_data"
    },
    {
     "data": {
      "application/javascript": [
       "(function(root) {\n",
       "  function embed_document(root) {\n",
       "    \n",
       "  var docs_json = {\"c95e4549-5c9a-446f-906e-435638f28c9d\":{\"roots\":{\"references\":[{\"attributes\":{\"below\":[{\"id\":\"1827\",\"type\":\"CategoricalAxis\"}],\"center\":[{\"id\":\"1830\",\"type\":\"Grid\"},{\"id\":\"1835\",\"type\":\"Grid\"}],\"left\":[{\"id\":\"1831\",\"type\":\"LinearAxis\"}],\"plot_height\":200,\"plot_width\":350,\"renderers\":[{\"id\":\"1848\",\"type\":\"GlyphRenderer\"},{\"id\":\"1853\",\"type\":\"GlyphRenderer\"},{\"id\":\"1858\",\"type\":\"GlyphRenderer\"}],\"title\":{\"id\":\"1817\",\"type\":\"Title\"},\"toolbar\":{\"id\":\"1840\",\"type\":\"Toolbar\"},\"x_range\":{\"id\":\"1819\",\"type\":\"FactorRange\"},\"x_scale\":{\"id\":\"1823\",\"type\":\"CategoricalScale\"},\"y_range\":{\"id\":\"1821\",\"type\":\"DataRange1d\"},\"y_scale\":{\"id\":\"1825\",\"type\":\"LinearScale\"}},\"id\":\"1816\",\"subtype\":\"Figure\",\"type\":\"Plot\"},{\"attributes\":{\"data_source\":{\"id\":\"1845\",\"type\":\"ColumnDataSource\"},\"glyph\":{\"id\":\"1846\",\"type\":\"Circle\"},\"hover_glyph\":null,\"muted_glyph\":null,\"nonselection_glyph\":{\"id\":\"1847\",\"type\":\"Circle\"},\"selection_glyph\":null,\"view\":{\"id\":\"1849\",\"type\":\"CDSView\"}},\"id\":\"1848\",\"type\":\"GlyphRenderer\"},{\"attributes\":{\"data_source\":{\"id\":\"1855\",\"type\":\"ColumnDataSource\"},\"glyph\":{\"id\":\"1856\",\"type\":\"MultiLine\"},\"hover_glyph\":null,\"muted_glyph\":null,\"nonselection_glyph\":{\"id\":\"1857\",\"type\":\"MultiLine\"},\"selection_glyph\":null,\"view\":{\"id\":\"1859\",\"type\":\"CDSView\"}},\"id\":\"1858\",\"type\":\"GlyphRenderer\"},{\"attributes\":{\"callback\":null,\"factors\":[\"False\",\"True\"]},\"id\":\"1819\",\"type\":\"FactorRange\"},{\"attributes\":{\"callback\":null,\"data\":{\"x\":[\"False\",\"True\"],\"y\":{\"__ndarray__\":\"2KNwPQrKvUD2KFyPQuq8QA==\",\"dtype\":\"float64\",\"shape\":[2]}},\"selected\":{\"id\":\"1932\",\"type\":\"Selection\"},\"selection_policy\":{\"id\":\"1931\",\"type\":\"UnionRenderers\"}},\"id\":\"1850\",\"type\":\"ColumnDataSource\"},{\"attributes\":{\"source\":{\"id\":\"1855\",\"type\":\"ColumnDataSource\"}},\"id\":\"1859\",\"type\":\"CDSView\"},{\"attributes\":{\"callback\":null,\"data\":{\"x\":[\"False\",\"True\"],\"y\":{\"__ndarray__\":\"2KNwPQrKvUD2KFyPQuq8QA==\",\"dtype\":\"float64\",\"shape\":[2]}},\"selected\":{\"id\":\"1930\",\"type\":\"Selection\"},\"selection_policy\":{\"id\":\"1929\",\"type\":\"UnionRenderers\"}},\"id\":\"1845\",\"type\":\"ColumnDataSource\"},{\"attributes\":{\"fill_alpha\":{\"value\":0.1},\"fill_color\":{\"value\":\"#1f77b4\"},\"line_alpha\":{\"value\":0.1},\"line_color\":{\"value\":\"#1f77b4\"},\"size\":{\"units\":\"screen\",\"value\":5},\"x\":{\"field\":\"x\"},\"y\":{\"field\":\"y\"}},\"id\":\"1852\",\"type\":\"Circle\"},{\"attributes\":{\"line_alpha\":{\"value\":0.1},\"line_color\":{\"value\":\"#1f77b4\"},\"line_width\":{\"value\":2},\"xs\":{\"field\":\"xs\"},\"ys\":{\"field\":\"ys\"}},\"id\":\"1857\",\"type\":\"MultiLine\"},{\"attributes\":{\"dimension\":1,\"ticker\":{\"id\":\"1832\",\"type\":\"BasicTicker\"}},\"id\":\"1835\",\"type\":\"Grid\"},{\"attributes\":{},\"id\":\"1832\",\"type\":\"BasicTicker\"},{\"attributes\":{},\"id\":\"1930\",\"type\":\"Selection\"},{\"attributes\":{},\"id\":\"1836\",\"type\":\"PanTool\"},{\"attributes\":{\"source\":{\"id\":\"1850\",\"type\":\"ColumnDataSource\"}},\"id\":\"1854\",\"type\":\"CDSView\"},{\"attributes\":{\"fill_color\":{\"value\":\"navy\"},\"line_alpha\":{\"value\":0},\"line_color\":{\"value\":\"navy\"},\"size\":{\"units\":\"screen\",\"value\":10},\"x\":{\"field\":\"x\"},\"y\":{\"field\":\"y\"}},\"id\":\"1846\",\"type\":\"Circle\"},{\"attributes\":{\"axis_label\":\"pos_holiday\",\"formatter\":{\"id\":\"1925\",\"type\":\"CategoricalTickFormatter\"},\"ticker\":{\"id\":\"1828\",\"type\":\"CategoricalTicker\"}},\"id\":\"1827\",\"type\":\"CategoricalAxis\"},{\"attributes\":{},\"id\":\"1838\",\"type\":\"ResetTool\"},{\"attributes\":{\"data_source\":{\"id\":\"1850\",\"type\":\"ColumnDataSource\"},\"glyph\":{\"id\":\"1851\",\"type\":\"Circle\"},\"hover_glyph\":null,\"muted_glyph\":null,\"nonselection_glyph\":{\"id\":\"1852\",\"type\":\"Circle\"},\"selection_glyph\":null,\"view\":{\"id\":\"1854\",\"type\":\"CDSView\"}},\"id\":\"1853\",\"type\":\"GlyphRenderer\"},{\"attributes\":{},\"id\":\"1925\",\"type\":\"CategoricalTickFormatter\"},{\"attributes\":{\"dimensions\":\"height\"},\"id\":\"1837\",\"type\":\"WheelZoomTool\"},{\"attributes\":{},\"id\":\"1932\",\"type\":\"Selection\"},{\"attributes\":{\"callback\":null},\"id\":\"1821\",\"type\":\"DataRange1d\"},{\"attributes\":{},\"id\":\"1828\",\"type\":\"CategoricalTicker\"},{\"attributes\":{\"axis_label\":\"Weekly_Sales\",\"formatter\":{\"id\":\"1927\",\"type\":\"BasicTickFormatter\"},\"ticker\":{\"id\":\"1832\",\"type\":\"BasicTicker\"}},\"id\":\"1831\",\"type\":\"LinearAxis\"},{\"attributes\":{},\"id\":\"1929\",\"type\":\"UnionRenderers\"},{\"attributes\":{\"ticker\":{\"id\":\"1828\",\"type\":\"CategoricalTicker\"}},\"id\":\"1830\",\"type\":\"Grid\"},{\"attributes\":{\"line_color\":{\"value\":\"magenta\"},\"line_width\":{\"value\":2},\"xs\":{\"field\":\"xs\"},\"ys\":{\"field\":\"ys\"}},\"id\":\"1856\",\"type\":\"MultiLine\"},{\"attributes\":{},\"id\":\"1839\",\"type\":\"SaveTool\"},{\"attributes\":{},\"id\":\"1933\",\"type\":\"UnionRenderers\"},{\"attributes\":{},\"id\":\"1934\",\"type\":\"Selection\"},{\"attributes\":{},\"id\":\"1927\",\"type\":\"BasicTickFormatter\"},{\"attributes\":{\"source\":{\"id\":\"1845\",\"type\":\"ColumnDataSource\"}},\"id\":\"1849\",\"type\":\"CDSView\"},{\"attributes\":{\"text\":\"Weekly_Sales errors grouped by pos_holiday\"},\"id\":\"1817\",\"type\":\"Title\"},{\"attributes\":{\"fill_color\":{\"value\":\"magenta\"},\"line_alpha\":{\"value\":0},\"line_color\":{\"value\":\"magenta\"},\"size\":{\"units\":\"screen\",\"value\":5},\"x\":{\"field\":\"x\"},\"y\":{\"field\":\"y\"}},\"id\":\"1851\",\"type\":\"Circle\"},{\"attributes\":{\"callback\":null,\"data\":{\"xs\":[[\"False\",\"False\"],[\"True\",\"True\"]],\"ys\":[[2081.82,20256.335],[2055.2,19554.4]]},\"selected\":{\"id\":\"1934\",\"type\":\"Selection\"},\"selection_policy\":{\"id\":\"1933\",\"type\":\"UnionRenderers\"}},\"id\":\"1855\",\"type\":\"ColumnDataSource\"},{\"attributes\":{},\"id\":\"1931\",\"type\":\"UnionRenderers\"},{\"attributes\":{},\"id\":\"1823\",\"type\":\"CategoricalScale\"},{\"attributes\":{\"active_drag\":\"auto\",\"active_inspect\":\"auto\",\"active_multi\":null,\"active_scroll\":\"auto\",\"active_tap\":\"auto\",\"tools\":[{\"id\":\"1836\",\"type\":\"PanTool\"},{\"id\":\"1837\",\"type\":\"WheelZoomTool\"},{\"id\":\"1838\",\"type\":\"ResetTool\"},{\"id\":\"1839\",\"type\":\"SaveTool\"}]},\"id\":\"1840\",\"type\":\"Toolbar\"},{\"attributes\":{},\"id\":\"1825\",\"type\":\"LinearScale\"},{\"attributes\":{\"fill_alpha\":{\"value\":0.1},\"fill_color\":{\"value\":\"#1f77b4\"},\"line_alpha\":{\"value\":0.1},\"line_color\":{\"value\":\"#1f77b4\"},\"size\":{\"units\":\"screen\",\"value\":10},\"x\":{\"field\":\"x\"},\"y\":{\"field\":\"y\"}},\"id\":\"1847\",\"type\":\"Circle\"}],\"root_ids\":[\"1816\"]},\"title\":\"Bokeh Application\",\"version\":\"1.3.4\"}};\n",
       "  var render_items = [{\"docid\":\"c95e4549-5c9a-446f-906e-435638f28c9d\",\"roots\":{\"1816\":\"c58e07a2-ab17-4fd5-a426-7d4c95b3e785\"}}];\n",
       "  root.Bokeh.embed.embed_items_notebook(docs_json, render_items);\n",
       "\n",
       "  }\n",
       "  if (root.Bokeh !== undefined) {\n",
       "    embed_document(root);\n",
       "  } else {\n",
       "    var attempts = 0;\n",
       "    var timer = setInterval(function(root) {\n",
       "      if (root.Bokeh !== undefined) {\n",
       "        embed_document(root);\n",
       "        clearInterval(timer);\n",
       "      }\n",
       "      attempts++;\n",
       "      if (attempts > 100) {\n",
       "        console.log(\"Bokeh: ERROR: Unable to run BokehJS code because BokehJS library is missing\");\n",
       "        clearInterval(timer);\n",
       "      }\n",
       "    }, 10, root)\n",
       "  }\n",
       "})(window);"
      ],
      "application/vnd.bokehjs_exec.v0+json": ""
     },
     "metadata": {
      "application/vnd.bokehjs_exec.v0+json": {
       "id": "1816"
      }
     },
     "output_type": "display_data"
    }
   ],
   "source": [
    "p = plot.plot_error_values(train, \"pos_holiday\", \"Weekly_Sales\", drop_quantile=0.25, \n",
    "                           title=\"Weekly_Sales errors grouped by pos_holiday\", width=350, height=200)\n",
    "show(p)"
   ]
  },
  {
   "cell_type": "markdown",
   "metadata": {},
   "source": [
    "# <font color=\"navy\">Fuel_Price</font>"
   ]
  },
  {
   "cell_type": "code",
   "execution_count": 26,
   "metadata": {},
   "outputs": [
    {
     "data": {
      "text/plain": [
       "<matplotlib.axes._subplots.AxesSubplot at 0x7fa9ebff4750>"
      ]
     },
     "execution_count": 26,
     "metadata": {},
     "output_type": "execute_result"
    },
    {
     "data": {
      "image/png": "[encoded data removed]",
      "text/plain": [
       "<Figure size 432x288 with 1 Axes>"
      ]
     },
     "metadata": {
      "needs_background": "light"
     },
     "output_type": "display_data"
    }
   ],
   "source": [
    "train.groupby([\"Store\", \"wm_date\"]).apply(lambda g : g[\"Fuel_Price\"].corr(g[\"Weekly_Sales\"])).hist(bins=20)"
   ]
  },
  {
   "cell_type": "markdown",
   "metadata": {},
   "source": [
    "It seems that Fuel_Price variation for the same date over years is not strong related to Weekly_Sales variation"
   ]
  },
  {
   "cell_type": "markdown",
   "metadata": {},
   "source": [
    "# <font color=\"navy\">CPI</font>"
   ]
  },
  {
   "cell_type": "code",
   "execution_count": 27,
   "metadata": {},
   "outputs": [
    {
     "data": {
      "text/plain": [
       "<matplotlib.axes._subplots.AxesSubplot at 0x7fa9ebff4790>"
      ]
     },
     "execution_count": 27,
     "metadata": {},
     "output_type": "execute_result"
    },
    {
     "data": {
      "image/png": "[encoded data removed]",
      "text/plain": [
       "<Figure size 432x288 with 1 Axes>"
      ]
     },
     "metadata": {
      "needs_background": "light"
     },
     "output_type": "display_data"
    }
   ],
   "source": [
    "train.groupby([\"Store\", \"wm_date\"]).apply(lambda g : g[\"CPI\"].corr(g[\"Weekly_Sales\"])).hist(bins=20)"
   ]
  },
  {
   "cell_type": "markdown",
   "metadata": {},
   "source": [
    "It seems that Fuel_Price variation for the same date over years is not strong related to Weekly_Sales variation"
   ]
  },
  {
   "cell_type": "markdown",
   "metadata": {},
   "source": [
    "# <font color=\"navy\">Unemployment</font>"
   ]
  },
  {
   "cell_type": "code",
   "execution_count": 28,
   "metadata": {},
   "outputs": [
    {
     "data": {
      "text/plain": [
       "<matplotlib.axes._subplots.AxesSubplot at 0x7fa9eb63e750>"
      ]
     },
     "execution_count": 28,
     "metadata": {},
     "output_type": "execute_result"
    },
    {
     "data": {
      "image/png": "[encoded data removed]",
      "text/plain": [
       "<Figure size 432x288 with 1 Axes>"
      ]
     },
     "metadata": {
      "needs_background": "light"
     },
     "output_type": "display_data"
    }
   ],
   "source": [
    "train.groupby([\"Store\", \"wm_date\"]).apply(lambda g : g[\"Unemployment\"].corr(g[\"Weekly_Sales\"])).hist(bins=20)"
   ]
  },
  {
   "cell_type": "markdown",
   "metadata": {},
   "source": [
    "It seems that Fuel_Price variation for the same date over years is not strong related to Weekly_Sales variation"
   ]
  },
  {
   "cell_type": "code",
   "execution_count": null,
   "metadata": {},
   "outputs": [],
   "source": []
  },
  {
   "cell_type": "code",
   "execution_count": null,
   "metadata": {},
   "outputs": [],
   "source": []
  },
  {
   "cell_type": "markdown",
   "metadata": {},
   "source": [
    "# <font color=\"navy\">Temperature</font>"
   ]
  },
  {
   "cell_type": "code",
   "execution_count": 29,
   "metadata": {},
   "outputs": [
    {
     "data": {
      "text/plain": [
       "<matplotlib.axes._subplots.AxesSubplot at 0x7fa9e9fd69d0>"
      ]
     },
     "execution_count": 29,
     "metadata": {},
     "output_type": "execute_result"
    },
    {
     "data": {
      "image/png": "[encoded data removed]",
      "text/plain": [
       "<Figure size 432x288 with 1 Axes>"
      ]
     },
     "metadata": {
      "needs_background": "light"
     },
     "output_type": "display_data"
    }
   ],
   "source": [
    "train.plot.scatter(\"celsius\", \"Weekly_Sales\")"
   ]
  },
  {
   "cell_type": "code",
   "execution_count": 30,
   "metadata": {},
   "outputs": [
    {
     "name": "stderr",
     "output_type": "stream",
     "text": [
      "/home/tales/anaconda3/lib/python3.7/site-packages/bokeh/plotting/helpers.py:628: UserWarning: WheelZoomTool are being repeated\n",
      "  warnings.warn(\"%s are being repeated\" % \",\".join(repeated_tools))\n"
     ]
    },
    {
     "data": {
      "text/html": [
       "\n",
       "\n",
       "\n",
       "\n",
       "\n",
       "\n",
       "  <div class=\"bk-root\" id=\"5583a736-32ea-47ca-aad1-1389bde5cadf\" data-root-id=\"2001\"></div>\n"
      ]
     },
     "metadata": {},
     "output_type": "display_data"
    },
    {
     "data": {
      "application/javascript": [
       "(function(root) {\n",
       "  function embed_document(root) {\n",
       "    \n",
       "  var docs_json = {\"acea31a8-15ed-4674-b113-62720c9c744b\":{\"roots\":{\"references\":[{\"attributes\":{\"below\":[{\"id\":\"2012\",\"type\":\"DatetimeAxis\"}],\"center\":[{\"id\":\"2016\",\"type\":\"Grid\"},{\"id\":\"2021\",\"type\":\"Grid\"}],\"left\":[{\"id\":\"2017\",\"type\":\"LinearAxis\"}],\"plot_height\":200,\"plot_width\":900,\"renderers\":[{\"id\":\"2038\",\"type\":\"GlyphRenderer\"},{\"id\":\"2043\",\"type\":\"GlyphRenderer\"}],\"title\":{\"id\":\"2002\",\"type\":\"Title\"},\"toolbar\":{\"id\":\"2027\",\"type\":\"Toolbar\"},\"x_range\":{\"id\":\"2004\",\"type\":\"DataRange1d\"},\"x_scale\":{\"id\":\"2008\",\"type\":\"LinearScale\"},\"y_range\":{\"id\":\"2006\",\"type\":\"DataRange1d\"},\"y_scale\":{\"id\":\"2010\",\"type\":\"LinearScale\"}},\"id\":\"2001\",\"subtype\":\"Figure\",\"type\":\"Plot\"},{\"attributes\":{},\"id\":\"2010\",\"type\":\"LinearScale\"},{\"attributes\":{\"fill_alpha\":{\"value\":0.8},\"fill_color\":{\"value\":\"magenta\"},\"line_alpha\":{\"value\":0.8},\"line_color\":{\"value\":\"magenta\"},\"size\":{\"units\":\"screen\",\"value\":3},\"x\":{\"field\":\"x\"},\"y\":{\"field\":\"y\"}},\"id\":\"2036\",\"type\":\"Circle\"},{\"attributes\":{},\"id\":\"2018\",\"type\":\"BasicTicker\"},{\"attributes\":{\"dimensions\":\"width\"},\"id\":\"2024\",\"type\":\"WheelZoomTool\"},{\"attributes\":{\"data_source\":{\"id\":\"2035\",\"type\":\"ColumnDataSource\"},\"glyph\":{\"id\":\"2036\",\"type\":\"Circle\"},\"hover_glyph\":null,\"muted_glyph\":null,\"nonselection_glyph\":{\"id\":\"2037\",\"type\":\"Circle\"},\"selection_glyph\":null,\"view\":{\"id\":\"2039\",\"type\":\"CDSView\"}},\"id\":\"2038\",\"type\":\"GlyphRenderer\"},{\"attributes\":{},\"id\":\"2136\",\"type\":\"UnionRenderers\"},{\"attributes\":{},\"id\":\"2122\",\"type\":\"BasicTickFormatter\"},{\"attributes\":{\"callback\":null,\"data\":{\"x\":{\"__ndarray__\":\"AADA0LZpckIAAACZ92tyQgAAQGE4bnJCAACAKXlwckIAAMDxuXJyQgAAALr6dHJCAABAgjt3ckIAAIBKfHlyQgAAwBK9e3JCAAAA2/19ckIAAECjPoByQgAAgGt/gnJCAADAM8CEckIAAAD8AIdyQgAAQMRBiXJCAACAjIKLckIAAMBUw41yQgAAAB0EkHJCAABA5USSckIAAICthZRyQgAAwHXGlnJCAAAAPgeZckIAAEAGSJtyQgAAgM6InXJCAADAlsmfckIAAABfCqJyQgAAQCdLpHJCAACA74umckIAAMC3zKhyQgAAAIANq3JCAABASE6tckIAAIAQj69yQgAAwNjPsXJCAAAAoRC0ckIAAEBpUbZyQgAAgDGSuHJCAADA+dK6ckIAAADCE71yQgAAQIpUv3JCAACAUpXBckIAAMAa1sNyQgAAAOMWxnJCAABAq1fIckIAAIBzmMpyQgAAwDvZzHJCAAAABBrPckIAAEDMWtFyQgAAgJSb03JCAADAXNzVckIAAAAlHdhyQgAAQO1d2nJCAACAtZ7cckIAAMB9395yQgAAAEYg4XJCAABADmHjckIAAIDWoeVyQgAAwJ7i53JCAAAAZyPqckIAAEAvZOxyQgAAgPek7nJCAADAv+XwckIAAACIJvNyQgAAQFBn9XJCAACAGKj3ckIAAMDg6PlyQgAAAKkp/HJCAABAcWr+ckIAAIA5qwBzQgAAwAHsAnNCAAAAyiwFc0IAAECSbQdzQgAAgFquCXNCAADAIu8Lc0IAAADrLw5zQgAAQLNwEHNCAACAe7ESc0IAAMBD8hRzQgAAAAwzF3NCAABA1HMZc0IAAICctBtzQgAAwGT1HXNCAAAALTYgc0IAAED1diJzQgAAgL23JHNCAADAhfgmc0IAAABOOSlzQgAAQBZ6K3NCAACA3rotc0IAAMCm+y9zQgAAAG88MnNCAABAN300c0IAAID/vTZzQgAAwMf+OHNCAAAAkD87c0IAAEBYgD1zQgAAgCDBP3NCAADA6AFCc0IAAACxQkRzQgAAQHmDRnNCAACAQcRIc0IAAMAJBUtzQgAAANJFTXNCAABAmoZPc0IAAIBix1FzQgAAwCoIVHNCAAAA80hWc0IAAEC7iVhzQgAAgIPKWnNCAADASwtdc0IAAAAUTF9zQgAAQNyMYXNCAACApM1jc0IAAMBsDmZzQgAAADVPaHNCAABA/Y9qc0IAAIDF0GxzQgAAwI0Rb3NCAAAAVlJxc0IAAEAek3NzQgAAgObTdXNCAADArhR4c0IAAAB3VXpzQgAAQD+WfHNCAACAB9d+c0IAAMDPF4FzQgAAAJhYg3NCAABAYJmFc0IAAIAo2odzQgAAwPAainNCAAAAuVuMc0IAAECBnI5zQgAAgEndkHNCAADAER6Tc0IAAADaXpVzQgAAQKKfl3NCAACAauCZc0IAAMAyIZxzQgAAAPthnnNCAABAw6Kgc0IAAICL46JzQgAAwFMkpXNCAAAAHGWnc0IAAEDkpalzQg==\",\"dtype\":\"float64\",\"shape\":[143]},\"y\":{\"__ndarray__\":\"XLAFW7AF8z/kSZ/0SZ/kPyDHcRzHcQBAchzHcRzHAUCN4ziO4zgTQA4RERERER9AfNInfdKnIkBlZmZmZmYlQCQiIiIioiJA+6RP+qRPMECJiIiIiAgqQJ70SZ/0SSpAHMdxHMfxJ0CIiIiIiIgzQBARERERkSpAUPqkT/pkMUBJn/RJn7Q0QOuTPumTfjdAbMEWbMGWNUASEREREZE2QJ70SZ/0STpAiYiIiIjIOEDGcRzHcdw6QDQzMzMzszlAiYiIiIiIO0C2YAu2YIs6QAAAAAAAQDlAmZmZmZmZOUAjIiIiIqI4QIQt2IIt2DdALtiCLdjCOUCELdiCLZg1QLEFW7AFWzNAP+mTPulTNEClT/qkT7o0QNMnfdInPTFAB1uwBVswLkB90id90qcrQPVJn/RJHzBAS5/0SZ/0I0DCFmzBFmwfQEuf9Emf9CNAzczMzMxMIEDOzMzMzMwVQOuTPumTPgVAbMEWbMEWAkBuHMdxHMf5P1wLtmALtvS/MtiCLdiC9T8BAAAAAAAMwDKO4ziO4/g/J33SJ33S9z9XVVVVVVX9v+c4juM4juu/V1VVVVVVGEDOzMzMzMwAQODd3d3d3Q9Akj7pkz7pHECe9Emf9EkgQFZVVVVVVSBALNiCLdiCHEDZgi3Ygq0iQJmZmZmZGShAC7ZgC7ZgJ0BKn/RJnzQxQPVJn/RJHy1A+qRP+qTPMEAofdInfdIwQBzHcRzH8TRA2YIt2IJtN0BEREREREQ3QLu7u7u7uzRA4ziO4zjON0Drkz7pk343QFuwBVuwRTlAERERERHROUBgC7ZgC/Y7QFD6pE/6ZDtA2IIt2IKtOUAAAAAAAAA5QCl90id90jhAvLu7u7t7O0AAAAAAAAA5QAy2YAu2oDVAZ2ZmZmamNEA5juM4jqMxQPVJn/RJnzVAzMzMzMzML0DYgi3Ygq0xQAVbsAVbsC5ALtiCLdgCJkAnfdInfdIcQFuwBVuwBSJA1Cd90id9JUC8u7u7u7shQD7pkz7pkyJABFuwBVuwFUD0SZ/0SZ8RQPykT/qkTxVAu7u7u7u7CUDHcRzHcRwFQGZmZmZmZhRAmZmZmZmZBUCwBVuwBVsKQA22YAu2YBdAjuM4juM4BkCi9Emf9EkHQFH6pE/6pBVAjOM4juM4FUC5YAu2YAseQHIcx3EcxyZABVuwBVuwLEBFRERERMQqQH7SJ33SpyVAd3d3d3d3JkC2YAu2YEsxQI7jOI7jODJAP+mTPukTMUD1SZ/0SZ8wQNmCLdiCbTJAJCIiIiIiNUCbmZmZmZk3QOmTPumTvjVA8O7u7u4uNkClT/qkT7o4QHIcx3EcxztAsAVbsAVbO0BJn/RJn7Q5QMzMzMzMDDpAZ2ZmZmbmOkBbsAVbsMU7QLAFW7AFmztAVlVVVVVVOkBJn/RJnzQ3QC7Ygi3YgjhAUPqkT/qkOEDkOI7jOE40QMAWbMEWbDNAoPRJn/RJMkDkOI7jOA4yQAAAAAAAACpAF2zBFmxBK0DUJ33SJ/0tQA==\",\"dtype\":\"float64\",\"shape\":[143]}},\"selected\":{\"id\":\"2137\",\"type\":\"Selection\"},\"selection_policy\":{\"id\":\"2136\",\"type\":\"UnionRenderers\"}},\"id\":\"2035\",\"type\":\"ColumnDataSource\"},{\"attributes\":{\"base\":24,\"mantissas\":[1,2,4,6,8,12],\"max_interval\":43200000.0,\"min_interval\":3600000.0,\"num_minor_ticks\":0},\"id\":\"2126\",\"type\":\"AdaptiveTicker\"},{\"attributes\":{\"months\":[0,2,4,6,8,10]},\"id\":\"2132\",\"type\":\"MonthsTicker\"},{\"attributes\":{\"formatter\":{\"id\":\"2033\",\"type\":\"DatetimeTickFormatter\"},\"ticker\":{\"id\":\"2013\",\"type\":\"DatetimeTicker\"}},\"id\":\"2012\",\"type\":\"DatetimeAxis\"},{\"attributes\":{\"callback\":null,\"data\":{\"x\":{\"__ndarray__\":\"AADA0LZpckIAAACZ92tyQgAAQGE4bnJCAACAKXlwckIAAMDxuXJyQgAAALr6dHJCAABAgjt3ckIAAIBKfHlyQgAAwBK9e3JCAAAA2/19ckIAAECjPoByQgAAgGt/gnJCAADAM8CEckIAAAD8AIdyQgAAQMRBiXJCAACAjIKLckIAAMBUw41yQgAAAB0EkHJCAABA5USSckIAAICthZRyQgAAwHXGlnJCAAAAPgeZckIAAEAGSJtyQgAAgM6InXJCAADAlsmfckIAAABfCqJyQgAAQCdLpHJCAACA74umckIAAMC3zKhyQgAAAIANq3JCAABASE6tckIAAIAQj69yQgAAwNjPsXJCAAAAoRC0ckIAAEBpUbZyQgAAgDGSuHJCAADA+dK6ckIAAADCE71yQgAAQIpUv3JCAACAUpXBckIAAMAa1sNyQgAAAOMWxnJCAABAq1fIckIAAIBzmMpyQgAAwDvZzHJCAAAABBrPckIAAEDMWtFyQgAAgJSb03JCAADAXNzVckIAAAAlHdhyQgAAQO1d2nJCAACAtZ7cckIAAMB9395yQgAAAEYg4XJCAABADmHjckIAAIDWoeVyQgAAwJ7i53JCAAAAZyPqckIAAEAvZOxyQgAAgPek7nJCAADAv+XwckIAAACIJvNyQgAAQFBn9XJCAACAGKj3ckIAAMDg6PlyQgAAAKkp/HJCAABAcWr+ckIAAIA5qwBzQgAAwAHsAnNCAAAAyiwFc0IAAECSbQdzQgAAgFquCXNCAADAIu8Lc0IAAADrLw5zQgAAQLNwEHNCAACAe7ESc0IAAMBD8hRzQgAAAAwzF3NCAABA1HMZc0IAAICctBtzQgAAwGT1HXNCAAAALTYgc0IAAED1diJzQgAAgL23JHNCAADAhfgmc0IAAABOOSlzQgAAQBZ6K3NCAACA3rotc0IAAMCm+y9zQgAAAG88MnNCAABAN300c0IAAID/vTZzQgAAwMf+OHNCAAAAkD87c0IAAEBYgD1zQgAAgCDBP3NCAADA6AFCc0IAAACxQkRzQgAAQHmDRnNCAACAQcRIc0IAAMAJBUtzQgAAANJFTXNCAABAmoZPc0IAAIBix1FzQgAAwCoIVHNCAAAA80hWc0IAAEC7iVhzQgAAgIPKWnNCAADASwtdc0IAAAAUTF9zQgAAQNyMYXNCAACApM1jc0IAAMBsDmZzQgAAADVPaHNCAABA/Y9qc0IAAIDF0GxzQgAAwI0Rb3NCAAAAVlJxc0IAAEAek3NzQgAAgObTdXNCAADArhR4c0IAAAB3VXpzQgAAQD+WfHNCAACAB9d+c0IAAMDPF4FzQgAAAJhYg3NCAABAYJmFc0IAAIAo2odzQgAAwPAainNCAAAAuVuMc0IAAECBnI5zQgAAgEndkHNCAADAER6Tc0IAAADaXpVzQgAAQKKfl3NCAACAauCZc0IAAMAyIZxzQgAAAPthnnNCAABAw6Kgc0IAAICL46JzQgAAwFMkpXNCAAAAHGWnc0IAAEDkpalzQg==\",\"dtype\":\"float64\",\"shape\":[143]},\"y\":{\"__ndarray__\":\"XLAFW7AF8z/kSZ/0SZ/kPyDHcRzHcQBAchzHcRzHAUCN4ziO4zgTQA4RERERER9AfNInfdKnIkBlZmZmZmYlQCQiIiIioiJA+6RP+qRPMECJiIiIiAgqQJ70SZ/0SSpAHMdxHMfxJ0CIiIiIiIgzQBARERERkSpAUPqkT/pkMUBJn/RJn7Q0QOuTPumTfjdAbMEWbMGWNUASEREREZE2QJ70SZ/0STpAiYiIiIjIOEDGcRzHcdw6QDQzMzMzszlAiYiIiIiIO0C2YAu2YIs6QAAAAAAAQDlAmZmZmZmZOUAjIiIiIqI4QIQt2IIt2DdALtiCLdjCOUCELdiCLZg1QLEFW7AFWzNAP+mTPulTNEClT/qkT7o0QNMnfdInPTFAB1uwBVswLkB90id90qcrQPVJn/RJHzBAS5/0SZ/0I0DCFmzBFmwfQEuf9Emf9CNAzczMzMxMIEDOzMzMzMwVQOuTPumTPgVAbMEWbMEWAkBuHMdxHMf5P1wLtmALtvS/MtiCLdiC9T8BAAAAAAAMwDKO4ziO4/g/J33SJ33S9z9XVVVVVVX9v+c4juM4juu/V1VVVVVVGEDOzMzMzMwAQODd3d3d3Q9Akj7pkz7pHECe9Emf9EkgQFZVVVVVVSBALNiCLdiCHEDZgi3Ygq0iQJmZmZmZGShAC7ZgC7ZgJ0BKn/RJnzQxQPVJn/RJHy1A+qRP+qTPMEAofdInfdIwQBzHcRzH8TRA2YIt2IJtN0BEREREREQ3QLu7u7u7uzRA4ziO4zjON0Drkz7pk343QFuwBVuwRTlAERERERHROUBgC7ZgC/Y7QFD6pE/6ZDtA2IIt2IKtOUAAAAAAAAA5QCl90id90jhAvLu7u7t7O0AAAAAAAAA5QAy2YAu2oDVAZ2ZmZmamNEA5juM4jqMxQPVJn/RJnzVAzMzMzMzML0DYgi3Ygq0xQAVbsAVbsC5ALtiCLdgCJkAnfdInfdIcQFuwBVuwBSJA1Cd90id9JUC8u7u7u7shQD7pkz7pkyJABFuwBVuwFUD0SZ/0SZ8RQPykT/qkTxVAu7u7u7u7CUDHcRzHcRwFQGZmZmZmZhRAmZmZmZmZBUCwBVuwBVsKQA22YAu2YBdAjuM4juM4BkCi9Emf9EkHQFH6pE/6pBVAjOM4juM4FUC5YAu2YAseQHIcx3EcxyZABVuwBVuwLEBFRERERMQqQH7SJ33SpyVAd3d3d3d3JkC2YAu2YEsxQI7jOI7jODJAP+mTPukTMUD1SZ/0SZ8wQNmCLdiCbTJAJCIiIiIiNUCbmZmZmZk3QOmTPumTvjVA8O7u7u4uNkClT/qkT7o4QHIcx3EcxztAsAVbsAVbO0BJn/RJn7Q5QMzMzMzMDDpAZ2ZmZmbmOkBbsAVbsMU7QLAFW7AFmztAVlVVVVVVOkBJn/RJnzQ3QC7Ygi3YgjhAUPqkT/qkOEDkOI7jOE40QMAWbMEWbDNAoPRJn/RJMkDkOI7jOA4yQAAAAAAAACpAF2zBFmxBK0DUJ33SJ/0tQA==\",\"dtype\":\"float64\",\"shape\":[143]}},\"selected\":{\"id\":\"2139\",\"type\":\"Selection\"},\"selection_policy\":{\"id\":\"2138\",\"type\":\"UnionRenderers\"}},\"id\":\"2040\",\"type\":\"ColumnDataSource\"},{\"attributes\":{\"days\":[1,2,3,4,5,6,7,8,9,10,11,12,13,14,15,16,17,18,19,20,21,22,23,24,25,26,27,28,29,30,31]},\"id\":\"2127\",\"type\":\"DaysTicker\"},{\"attributes\":{},\"id\":\"2135\",\"type\":\"YearsTicker\"},{\"attributes\":{\"callback\":null},\"id\":\"2006\",\"type\":\"DataRange1d\"},{\"attributes\":{},\"id\":\"2139\",\"type\":\"Selection\"},{\"attributes\":{\"ticker\":{\"id\":\"2013\",\"type\":\"DatetimeTicker\"}},\"id\":\"2016\",\"type\":\"Grid\"},{\"attributes\":{\"source\":{\"id\":\"2040\",\"type\":\"ColumnDataSource\"}},\"id\":\"2044\",\"type\":\"CDSView\"},{\"attributes\":{\"days\":[1,8,15,22]},\"id\":\"2129\",\"type\":\"DaysTicker\"},{\"attributes\":{\"line_alpha\":0.8,\"line_color\":\"magenta\",\"x\":{\"field\":\"x\"},\"y\":{\"field\":\"y\"}},\"id\":\"2041\",\"type\":\"Line\"},{\"attributes\":{},\"id\":\"2025\",\"type\":\"ResetTool\"},{\"attributes\":{\"base\":60,\"mantissas\":[1,2,5,10,15,20,30],\"max_interval\":1800000.0,\"min_interval\":1000.0,\"num_minor_ticks\":0},\"id\":\"2125\",\"type\":\"AdaptiveTicker\"},{\"attributes\":{\"dimensions\":\"height\"},\"id\":\"2023\",\"type\":\"WheelZoomTool\"},{\"attributes\":{\"dimension\":1,\"ticker\":{\"id\":\"2018\",\"type\":\"BasicTicker\"}},\"id\":\"2021\",\"type\":\"Grid\"},{\"attributes\":{\"months\":[0,4,8]},\"id\":\"2133\",\"type\":\"MonthsTicker\"},{\"attributes\":{\"months\":[0,6]},\"id\":\"2134\",\"type\":\"MonthsTicker\"},{\"attributes\":{\"mantissas\":[1,2,5],\"max_interval\":500.0,\"num_minor_ticks\":0},\"id\":\"2124\",\"type\":\"AdaptiveTicker\"},{\"attributes\":{\"days\":[1,4,7,10,13,16,19,22,25,28]},\"id\":\"2128\",\"type\":\"DaysTicker\"},{\"attributes\":{\"text\":\"Temperature vs Datetime\"},\"id\":\"2002\",\"type\":\"Title\"},{\"attributes\":{\"days\":[\"%d/%b\"],\"hours\":[\"%H:%M %d/%b\"],\"months\":[\"%d/%b/%Y\"],\"years\":[\"%d/%b/%Y\"]},\"id\":\"2033\",\"type\":\"DatetimeTickFormatter\"},{\"attributes\":{},\"id\":\"2026\",\"type\":\"SaveTool\"},{\"attributes\":{\"source\":{\"id\":\"2035\",\"type\":\"ColumnDataSource\"}},\"id\":\"2039\",\"type\":\"CDSView\"},{\"attributes\":{\"days\":[1,15]},\"id\":\"2130\",\"type\":\"DaysTicker\"},{\"attributes\":{\"fill_alpha\":{\"value\":0.1},\"fill_color\":{\"value\":\"#1f77b4\"},\"line_alpha\":{\"value\":0.1},\"line_color\":{\"value\":\"#1f77b4\"},\"size\":{\"units\":\"screen\",\"value\":3},\"x\":{\"field\":\"x\"},\"y\":{\"field\":\"y\"}},\"id\":\"2037\",\"type\":\"Circle\"},{\"attributes\":{},\"id\":\"2137\",\"type\":\"Selection\"},{\"attributes\":{\"num_minor_ticks\":5,\"tickers\":[{\"id\":\"2124\",\"type\":\"AdaptiveTicker\"},{\"id\":\"2125\",\"type\":\"AdaptiveTicker\"},{\"id\":\"2126\",\"type\":\"AdaptiveTicker\"},{\"id\":\"2127\",\"type\":\"DaysTicker\"},{\"id\":\"2128\",\"type\":\"DaysTicker\"},{\"id\":\"2129\",\"type\":\"DaysTicker\"},{\"id\":\"2130\",\"type\":\"DaysTicker\"},{\"id\":\"2131\",\"type\":\"MonthsTicker\"},{\"id\":\"2132\",\"type\":\"MonthsTicker\"},{\"id\":\"2133\",\"type\":\"MonthsTicker\"},{\"id\":\"2134\",\"type\":\"MonthsTicker\"},{\"id\":\"2135\",\"type\":\"YearsTicker\"}]},\"id\":\"2013\",\"type\":\"DatetimeTicker\"},{\"attributes\":{\"line_alpha\":0.1,\"line_color\":\"#1f77b4\",\"x\":{\"field\":\"x\"},\"y\":{\"field\":\"y\"}},\"id\":\"2042\",\"type\":\"Line\"},{\"attributes\":{},\"id\":\"2022\",\"type\":\"PanTool\"},{\"attributes\":{},\"id\":\"2138\",\"type\":\"UnionRenderers\"},{\"attributes\":{\"callback\":null},\"id\":\"2004\",\"type\":\"DataRange1d\"},{\"attributes\":{\"active_drag\":\"auto\",\"active_inspect\":\"auto\",\"active_multi\":null,\"active_scroll\":\"auto\",\"active_tap\":\"auto\",\"tools\":[{\"id\":\"2022\",\"type\":\"PanTool\"},{\"id\":\"2023\",\"type\":\"WheelZoomTool\"},{\"id\":\"2024\",\"type\":\"WheelZoomTool\"},{\"id\":\"2025\",\"type\":\"ResetTool\"},{\"id\":\"2026\",\"type\":\"SaveTool\"}]},\"id\":\"2027\",\"type\":\"Toolbar\"},{\"attributes\":{\"data_source\":{\"id\":\"2040\",\"type\":\"ColumnDataSource\"},\"glyph\":{\"id\":\"2041\",\"type\":\"Line\"},\"hover_glyph\":null,\"muted_glyph\":null,\"nonselection_glyph\":{\"id\":\"2042\",\"type\":\"Line\"},\"selection_glyph\":null,\"view\":{\"id\":\"2044\",\"type\":\"CDSView\"}},\"id\":\"2043\",\"type\":\"GlyphRenderer\"},{\"attributes\":{\"months\":[0,1,2,3,4,5,6,7,8,9,10,11]},\"id\":\"2131\",\"type\":\"MonthsTicker\"},{\"attributes\":{},\"id\":\"2008\",\"type\":\"LinearScale\"},{\"attributes\":{\"formatter\":{\"id\":\"2122\",\"type\":\"BasicTickFormatter\"},\"ticker\":{\"id\":\"2018\",\"type\":\"BasicTicker\"}},\"id\":\"2017\",\"type\":\"LinearAxis\"}],\"root_ids\":[\"2001\"]},\"title\":\"Bokeh Application\",\"version\":\"1.3.4\"}};\n",
       "  var render_items = [{\"docid\":\"acea31a8-15ed-4674-b113-62720c9c744b\",\"roots\":{\"2001\":\"5583a736-32ea-47ca-aad1-1389bde5cadf\"}}];\n",
       "  root.Bokeh.embed.embed_items_notebook(docs_json, render_items);\n",
       "\n",
       "  }\n",
       "  if (root.Bokeh !== undefined) {\n",
       "    embed_document(root);\n",
       "  } else {\n",
       "    var attempts = 0;\n",
       "    var timer = setInterval(function(root) {\n",
       "      if (root.Bokeh !== undefined) {\n",
       "        embed_document(root);\n",
       "        clearInterval(timer);\n",
       "      }\n",
       "      attempts++;\n",
       "      if (attempts > 100) {\n",
       "        console.log(\"Bokeh: ERROR: Unable to run BokehJS code because BokehJS library is missing\");\n",
       "        clearInterval(timer);\n",
       "      }\n",
       "    }, 10, root)\n",
       "  }\n",
       "})(window);"
      ],
      "application/vnd.bokehjs_exec.v0+json": ""
     },
     "metadata": {
      "application/vnd.bokehjs_exec.v0+json": {
       "id": "2001"
      }
     },
     "output_type": "display_data"
    }
   ],
   "source": [
    "grouped_sales = train.groupby(\"Date\")[\"celsius\"].median()\n",
    "p = plot.plot_time_series_count(grouped_sales.index, grouped_sales, color=\"magenta\", title=\"Temperature vs Datetime\", relative_y_axis=True, height=200)\n",
    "show(p)"
   ]
  },
  {
   "cell_type": "code",
   "execution_count": 31,
   "metadata": {},
   "outputs": [
    {
     "data": {
      "text/html": [
       "\n",
       "\n",
       "\n",
       "\n",
       "\n",
       "\n",
       "  <div class=\"bk-root\" id=\"d1a54a16-1e32-480f-bcd8-157353898fb1\" data-root-id=\"2260\"></div>\n"
      ]
     },
     "metadata": {},
     "output_type": "display_data"
    },
    {
     "data": {
      "application/javascript": [
       "(function(root) {\n",
       "  function embed_document(root) {\n",
       "    \n",
       "  var docs_json = {\"2b830597-83ab-4c34-b643-7f4c5f1ca01c\":{\"roots\":{\"references\":[{\"attributes\":{\"below\":[{\"id\":\"2271\",\"type\":\"DatetimeAxis\"}],\"center\":[{\"id\":\"2275\",\"type\":\"Grid\"},{\"id\":\"2280\",\"type\":\"Grid\"}],\"left\":[{\"id\":\"2276\",\"type\":\"LinearAxis\"}],\"plot_height\":200,\"plot_width\":900,\"renderers\":[{\"id\":\"2297\",\"type\":\"GlyphRenderer\"},{\"id\":\"2302\",\"type\":\"GlyphRenderer\"}],\"title\":{\"id\":\"2261\",\"type\":\"Title\"},\"toolbar\":{\"id\":\"2286\",\"type\":\"Toolbar\"},\"x_range\":{\"id\":\"2263\",\"type\":\"DataRange1d\"},\"x_scale\":{\"id\":\"2267\",\"type\":\"LinearScale\"},\"y_range\":{\"id\":\"2265\",\"type\":\"DataRange1d\"},\"y_scale\":{\"id\":\"2269\",\"type\":\"LinearScale\"}},\"id\":\"2260\",\"subtype\":\"Figure\",\"type\":\"Plot\"},{\"attributes\":{\"line_alpha\":0.1,\"line_color\":\"#1f77b4\",\"x\":{\"field\":\"x\"},\"y\":{\"field\":\"y\"}},\"id\":\"2301\",\"type\":\"Line\"},{\"attributes\":{\"ticker\":{\"id\":\"2272\",\"type\":\"DatetimeTicker\"}},\"id\":\"2275\",\"type\":\"Grid\"},{\"attributes\":{},\"id\":\"2414\",\"type\":\"YearsTicker\"},{\"attributes\":{},\"id\":\"2401\",\"type\":\"BasicTickFormatter\"},{\"attributes\":{},\"id\":\"2415\",\"type\":\"UnionRenderers\"},{\"attributes\":{\"active_drag\":\"auto\",\"active_inspect\":\"auto\",\"active_multi\":null,\"active_scroll\":\"auto\",\"active_tap\":\"auto\",\"tools\":[{\"id\":\"2281\",\"type\":\"PanTool\"},{\"id\":\"2282\",\"type\":\"WheelZoomTool\"},{\"id\":\"2283\",\"type\":\"WheelZoomTool\"},{\"id\":\"2284\",\"type\":\"ResetTool\"},{\"id\":\"2285\",\"type\":\"SaveTool\"}]},\"id\":\"2286\",\"type\":\"Toolbar\"},{\"attributes\":{\"callback\":null},\"id\":\"2263\",\"type\":\"DataRange1d\"},{\"attributes\":{},\"id\":\"2416\",\"type\":\"Selection\"},{\"attributes\":{},\"id\":\"2281\",\"type\":\"PanTool\"},{\"attributes\":{},\"id\":\"2277\",\"type\":\"BasicTicker\"},{\"attributes\":{},\"id\":\"2417\",\"type\":\"UnionRenderers\"},{\"attributes\":{\"dimensions\":\"height\"},\"id\":\"2282\",\"type\":\"WheelZoomTool\"},{\"attributes\":{},\"id\":\"2269\",\"type\":\"LinearScale\"},{\"attributes\":{\"formatter\":{\"id\":\"2292\",\"type\":\"DatetimeTickFormatter\"},\"ticker\":{\"id\":\"2272\",\"type\":\"DatetimeTicker\"}},\"id\":\"2271\",\"type\":\"DatetimeAxis\"},{\"attributes\":{\"days\":[1,4,7,10,13,16,19,22,25,28]},\"id\":\"2407\",\"type\":\"DaysTicker\"},{\"attributes\":{},\"id\":\"2418\",\"type\":\"Selection\"},{\"attributes\":{\"dimensions\":\"width\"},\"id\":\"2283\",\"type\":\"WheelZoomTool\"},{\"attributes\":{},\"id\":\"2267\",\"type\":\"LinearScale\"},{\"attributes\":{\"source\":{\"id\":\"2299\",\"type\":\"ColumnDataSource\"}},\"id\":\"2303\",\"type\":\"CDSView\"},{\"attributes\":{},\"id\":\"2284\",\"type\":\"ResetTool\"},{\"attributes\":{\"base\":24,\"mantissas\":[1,2,4,6,8,12],\"max_interval\":43200000.0,\"min_interval\":3600000.0,\"num_minor_ticks\":0},\"id\":\"2405\",\"type\":\"AdaptiveTicker\"},{\"attributes\":{\"callback\":null},\"id\":\"2265\",\"type\":\"DataRange1d\"},{\"attributes\":{\"mantissas\":[1,2,5],\"max_interval\":500.0,\"num_minor_ticks\":0},\"id\":\"2403\",\"type\":\"AdaptiveTicker\"},{\"attributes\":{},\"id\":\"2285\",\"type\":\"SaveTool\"},{\"attributes\":{\"days\":[1,2,3,4,5,6,7,8,9,10,11,12,13,14,15,16,17,18,19,20,21,22,23,24,25,26,27,28,29,30,31]},\"id\":\"2406\",\"type\":\"DaysTicker\"},{\"attributes\":{\"months\":[0,6]},\"id\":\"2413\",\"type\":\"MonthsTicker\"},{\"attributes\":{\"data_source\":{\"id\":\"2299\",\"type\":\"ColumnDataSource\"},\"glyph\":{\"id\":\"2300\",\"type\":\"Line\"},\"hover_glyph\":null,\"muted_glyph\":null,\"nonselection_glyph\":{\"id\":\"2301\",\"type\":\"Line\"},\"selection_glyph\":null,\"view\":{\"id\":\"2303\",\"type\":\"CDSView\"}},\"id\":\"2302\",\"type\":\"GlyphRenderer\"},{\"attributes\":{\"base\":60,\"mantissas\":[1,2,5,10,15,20,30],\"max_interval\":1800000.0,\"min_interval\":1000.0,\"num_minor_ticks\":0},\"id\":\"2404\",\"type\":\"AdaptiveTicker\"},{\"attributes\":{\"fill_alpha\":{\"value\":0.1},\"fill_color\":{\"value\":\"#1f77b4\"},\"line_alpha\":{\"value\":0.1},\"line_color\":{\"value\":\"#1f77b4\"},\"size\":{\"units\":\"screen\",\"value\":3},\"x\":{\"field\":\"x\"},\"y\":{\"field\":\"y\"}},\"id\":\"2296\",\"type\":\"Circle\"},{\"attributes\":{\"dimension\":1,\"ticker\":{\"id\":\"2277\",\"type\":\"BasicTicker\"}},\"id\":\"2280\",\"type\":\"Grid\"},{\"attributes\":{\"days\":[1,8,15,22]},\"id\":\"2408\",\"type\":\"DaysTicker\"},{\"attributes\":{\"days\":[\"%d/%b\"],\"hours\":[\"%H:%M %d/%b\"],\"months\":[\"%d/%b/%Y\"],\"years\":[\"%d/%b/%Y\"]},\"id\":\"2292\",\"type\":\"DatetimeTickFormatter\"},{\"attributes\":{\"data_source\":{\"id\":\"2294\",\"type\":\"ColumnDataSource\"},\"glyph\":{\"id\":\"2295\",\"type\":\"Circle\"},\"hover_glyph\":null,\"muted_glyph\":null,\"nonselection_glyph\":{\"id\":\"2296\",\"type\":\"Circle\"},\"selection_glyph\":null,\"view\":{\"id\":\"2298\",\"type\":\"CDSView\"}},\"id\":\"2297\",\"type\":\"GlyphRenderer\"},{\"attributes\":{\"formatter\":{\"id\":\"2401\",\"type\":\"BasicTickFormatter\"},\"ticker\":{\"id\":\"2277\",\"type\":\"BasicTicker\"}},\"id\":\"2276\",\"type\":\"LinearAxis\"},{\"attributes\":{\"callback\":null,\"data\":{\"x\":{\"__ndarray__\":\"AADA0LZpckIAAACZ92tyQgAAQGE4bnJCAACAKXlwckIAAMDxuXJyQgAAALr6dHJCAABAgjt3ckIAAIBKfHlyQgAAwBK9e3JCAAAA2/19ckIAAECjPoByQgAAgGt/gnJCAADAM8CEckIAAAD8AIdyQgAAQMRBiXJCAACAjIKLckIAAMBUw41yQgAAAB0EkHJCAABA5USSckIAAICthZRyQgAAwHXGlnJCAAAAPgeZckIAAEAGSJtyQgAAgM6InXJCAADAlsmfckIAAABfCqJyQgAAQCdLpHJCAACA74umckIAAMC3zKhyQgAAAIANq3JCAABASE6tckIAAIAQj69yQgAAwNjPsXJCAAAAoRC0ckIAAEBpUbZyQgAAgDGSuHJCAADA+dK6ckIAAADCE71yQgAAQIpUv3JCAACAUpXBckIAAMAa1sNyQgAAAOMWxnJCAABAq1fIckIAAIBzmMpyQgAAwDvZzHJCAAAABBrPckIAAEDMWtFyQgAAgJSb03JCAADAXNzVckIAAAAlHdhyQgAAQO1d2nJCAACAtZ7cckIAAMB9395yQgAAAEYg4XJCAABADmHjckIAAIDWoeVyQgAAwJ7i53JCAAAAZyPqckIAAEAvZOxyQgAAgPek7nJCAADAv+XwckIAAACIJvNyQgAAQFBn9XJCAACAGKj3ckIAAMDg6PlyQgAAAKkp/HJCAABAcWr+ckIAAIA5qwBzQgAAwAHsAnNCAAAAyiwFc0IAAECSbQdzQgAAgFquCXNCAADAIu8Lc0IAAADrLw5zQgAAQLNwEHNCAACAe7ESc0IAAMBD8hRzQgAAAAwzF3NCAABA1HMZc0IAAICctBtzQgAAwGT1HXNCAAAALTYgc0IAAED1diJzQgAAgL23JHNCAADAhfgmc0IAAABOOSlzQgAAQBZ6K3NCAACA3rotc0IAAMCm+y9zQgAAAG88MnNCAABAN300c0IAAID/vTZzQgAAwMf+OHNCAAAAkD87c0IAAEBYgD1zQgAAgCDBP3NCAADA6AFCc0IAAACxQkRzQgAAQHmDRnNCAACAQcRIc0IAAMAJBUtzQgAAANJFTXNCAABAmoZPc0IAAIBix1FzQgAAwCoIVHNCAAAA80hWc0IAAEC7iVhzQgAAgIPKWnNCAADASwtdc0IAAAAUTF9zQgAAQNyMYXNCAACApM1jc0IAAMBsDmZzQgAAADVPaHNCAABA/Y9qc0IAAIDF0GxzQgAAwI0Rb3NCAAAAVlJxc0IAAEAek3NzQgAAgObTdXNCAADArhR4c0IAAAB3VXpzQgAAQD+WfHNCAACAB9d+c0IAAMDPF4FzQgAAAJhYg3NCAABAYJmFc0IAAIAo2odzQgAAwPAainNCAAAAuVuMc0IAAECBnI5zQgAAgEndkHNCAADAER6Tc0IAAADaXpVzQgAAQKKfl3NCAACAauCZc0IAAMAyIZxzQgAAAPthnnNCAABAw6Kgc0IAAICL46JzQgAAwFMkpXNCAAAAHGWnc0IAAEDkpalzQg==\",\"dtype\":\"float64\",\"shape\":[143]},\"y\":{\"__ndarray__\":\"PQrXo7DgvkCQwvUojFbAQAAAAACgbcBAzczMzMxDvECamZmZ+SW+QMzMzMyMab1AmpmZmZnrvkB7FK5HIbG8QLgehetx6cBA7FG4HkVGv0CkcD0Kl1K9QBSuR+H63L1AZmZmZubYvEDhehSuh4nAQML1KFzvVr9AcT0K1yOnvkDNzMzMTDnAQHsUrkcBysBAexSuR+Gyv0B7FK5Hob+/QDMzMzNzg79A16NwPUq1v0Bcj8L1qLu+QAAAAACAlL5ApHA9CpeXvUD2KFyPwk2+QHE9CtfjlcBA16NwPZobwEC4HoXrEUXAQIXrUbjep79AUrgehQuEvkCF61G43uu8QBSuR+H6IrxAuB6F6zFdu0AK16NwvRy7QKRwPQrXP71AKVyPwjUMvEBI4XoUjjm8QD0K16MQ97xAPgrXozAGvkDC9Shcbxe+QArXo3C9H75A4noUrjcsxECamZmZWRm/QOxRuB7VEcJAAAAAAGC7xEA0MzMzIwTLQFyPwvUoPrlACtejcP3wuEApXI/CtUm3QD4K16NQ+7dAFK5H4fpTuEAK16NwHZC8QJqZmZl5v75Aw/UoXC+QwEAUrkfheke8QFyPwvUo0b1AKVyPwjXAu0DsUbgeRZq9QHA9CteDKLxA9ihcjwKIu0BxPQrXI968QM3MzMyMAL1ArkfhetTnv0Bcj8L1yA29QOxRuB4luL1AmpmZmZkWvUAK16NwvZa8QKRwPQqXp71A9ihcj4JCv0AAAAAAYOS+QLgehetRPb5AkML1KBxwvUAAAAAAAEq+QBSuR+H6pL1AKVyPwvVRvECF61G4/tC8QIXrUbjeKLxAuB6F6xHdvkAzMzMzc2a9QK5H4XqUrb1A9ihcj4K3vUAAAAAAAKK8QML1KFxvQ71AAAAAAOBTu0AK16Nw/WC7QKRwPQpXfbpASOF6FK40vUAzMzMzM767QML1KFyv3LxAZmZmZqbvvECuR+F69Om9QHE9CtdjdL1AUrgehevsvEDhehSuJ9DCQM3MzMxs6L1ApHA9CmcOwUAzMzMzMzbDQB+F61HYxshAj8L1KByKvUCF61G4Xrq5QJDC9SjcGrdAw/UoXE8CuECkcD0K15m2QGZmZmamy7pA16NwPQobvkDsUbgehVO/QI/C9ShcwLxAFK5H4RquvECuR+F69CK9QFK4HoWrSr5AMzMzMzM/vUCamZmZ2QS9QFK4HoULrcBAexSuRyFTvUApXI/Cdbi7QHA9CtdDJ7tA4XoUrsf2vEBSuB6Fa229QArXo3D9+L1AMzMzMzN5vkAK16NwPQy+QML1KFxvn75AUrgehWsPvkAK16NwvWa9QM3MzMzMTL1ApHA9ChdqvkDMzMzMTJa8QAAAAABg7bxAZmZmZmYcvEC4HoXrUUe9QAAAAACAhb1AFK5H4brQvUApXI/CNQi+QJDC9ShciL5AAAAAAOCrvUAAAAAAALO6QKRwPQoXYrtAhutRuB4tu0AehetR2D69QClcj8L1nLxAMzMzM7POvEAUrkfhOnu9QA==\",\"dtype\":\"float64\",\"shape\":[143]}},\"selected\":{\"id\":\"2416\",\"type\":\"Selection\"},\"selection_policy\":{\"id\":\"2415\",\"type\":\"UnionRenderers\"}},\"id\":\"2294\",\"type\":\"ColumnDataSource\"},{\"attributes\":{\"days\":[1,15]},\"id\":\"2409\",\"type\":\"DaysTicker\"},{\"attributes\":{\"fill_alpha\":{\"value\":0.8},\"fill_color\":{\"value\":\"navy\"},\"line_alpha\":{\"value\":0.8},\"line_color\":{\"value\":\"navy\"},\"size\":{\"units\":\"screen\",\"value\":3},\"x\":{\"field\":\"x\"},\"y\":{\"field\":\"y\"}},\"id\":\"2295\",\"type\":\"Circle\"},{\"attributes\":{\"line_alpha\":0.8,\"line_color\":\"navy\",\"x\":{\"field\":\"x\"},\"y\":{\"field\":\"y\"}},\"id\":\"2300\",\"type\":\"Line\"},{\"attributes\":{\"text\":\"Weekly_Sales vs Datetime\"},\"id\":\"2261\",\"type\":\"Title\"},{\"attributes\":{\"source\":{\"id\":\"2294\",\"type\":\"ColumnDataSource\"}},\"id\":\"2298\",\"type\":\"CDSView\"},{\"attributes\":{\"months\":[0,1,2,3,4,5,6,7,8,9,10,11]},\"id\":\"2410\",\"type\":\"MonthsTicker\"},{\"attributes\":{\"callback\":null,\"data\":{\"x\":{\"__ndarray__\":\"AADA0LZpckIAAACZ92tyQgAAQGE4bnJCAACAKXlwckIAAMDxuXJyQgAAALr6dHJCAABAgjt3ckIAAIBKfHlyQgAAwBK9e3JCAAAA2/19ckIAAECjPoByQgAAgGt/gnJCAADAM8CEckIAAAD8AIdyQgAAQMRBiXJCAACAjIKLckIAAMBUw41yQgAAAB0EkHJCAABA5USSckIAAICthZRyQgAAwHXGlnJCAAAAPgeZckIAAEAGSJtyQgAAgM6InXJCAADAlsmfckIAAABfCqJyQgAAQCdLpHJCAACA74umckIAAMC3zKhyQgAAAIANq3JCAABASE6tckIAAIAQj69yQgAAwNjPsXJCAAAAoRC0ckIAAEBpUbZyQgAAgDGSuHJCAADA+dK6ckIAAADCE71yQgAAQIpUv3JCAACAUpXBckIAAMAa1sNyQgAAAOMWxnJCAABAq1fIckIAAIBzmMpyQgAAwDvZzHJCAAAABBrPckIAAEDMWtFyQgAAgJSb03JCAADAXNzVckIAAAAlHdhyQgAAQO1d2nJCAACAtZ7cckIAAMB9395yQgAAAEYg4XJCAABADmHjckIAAIDWoeVyQgAAwJ7i53JCAAAAZyPqckIAAEAvZOxyQgAAgPek7nJCAADAv+XwckIAAACIJvNyQgAAQFBn9XJCAACAGKj3ckIAAMDg6PlyQgAAAKkp/HJCAABAcWr+ckIAAIA5qwBzQgAAwAHsAnNCAAAAyiwFc0IAAECSbQdzQgAAgFquCXNCAADAIu8Lc0IAAADrLw5zQgAAQLNwEHNCAACAe7ESc0IAAMBD8hRzQgAAAAwzF3NCAABA1HMZc0IAAICctBtzQgAAwGT1HXNCAAAALTYgc0IAAED1diJzQgAAgL23JHNCAADAhfgmc0IAAABOOSlzQgAAQBZ6K3NCAACA3rotc0IAAMCm+y9zQgAAAG88MnNCAABAN300c0IAAID/vTZzQgAAwMf+OHNCAAAAkD87c0IAAEBYgD1zQgAAgCDBP3NCAADA6AFCc0IAAACxQkRzQgAAQHmDRnNCAACAQcRIc0IAAMAJBUtzQgAAANJFTXNCAABAmoZPc0IAAIBix1FzQgAAwCoIVHNCAAAA80hWc0IAAEC7iVhzQgAAgIPKWnNCAADASwtdc0IAAAAUTF9zQgAAQNyMYXNCAACApM1jc0IAAMBsDmZzQgAAADVPaHNCAABA/Y9qc0IAAIDF0GxzQgAAwI0Rb3NCAAAAVlJxc0IAAEAek3NzQgAAgObTdXNCAADArhR4c0IAAAB3VXpzQgAAQD+WfHNCAACAB9d+c0IAAMDPF4FzQgAAAJhYg3NCAABAYJmFc0IAAIAo2odzQgAAwPAainNCAAAAuVuMc0IAAECBnI5zQgAAgEndkHNCAADAER6Tc0IAAADaXpVzQgAAQKKfl3NCAACAauCZc0IAAMAyIZxzQgAAAPthnnNCAABAw6Kgc0IAAICL46JzQgAAwFMkpXNCAAAAHGWnc0IAAEDkpalzQg==\",\"dtype\":\"float64\",\"shape\":[143]},\"y\":{\"__ndarray__\":\"PQrXo7DgvkCQwvUojFbAQAAAAACgbcBAzczMzMxDvECamZmZ+SW+QMzMzMyMab1AmpmZmZnrvkB7FK5HIbG8QLgehetx6cBA7FG4HkVGv0CkcD0Kl1K9QBSuR+H63L1AZmZmZubYvEDhehSuh4nAQML1KFzvVr9AcT0K1yOnvkDNzMzMTDnAQHsUrkcBysBAexSuR+Gyv0B7FK5Hob+/QDMzMzNzg79A16NwPUq1v0Bcj8L1qLu+QAAAAACAlL5ApHA9CpeXvUD2KFyPwk2+QHE9CtfjlcBA16NwPZobwEC4HoXrEUXAQIXrUbjep79AUrgehQuEvkCF61G43uu8QBSuR+H6IrxAuB6F6zFdu0AK16NwvRy7QKRwPQrXP71AKVyPwjUMvEBI4XoUjjm8QD0K16MQ97xAPgrXozAGvkDC9Shcbxe+QArXo3C9H75A4noUrjcsxECamZmZWRm/QOxRuB7VEcJAAAAAAGC7xEA0MzMzIwTLQFyPwvUoPrlACtejcP3wuEApXI/CtUm3QD4K16NQ+7dAFK5H4fpTuEAK16NwHZC8QJqZmZl5v75Aw/UoXC+QwEAUrkfheke8QFyPwvUo0b1AKVyPwjXAu0DsUbgeRZq9QHA9CteDKLxA9ihcjwKIu0BxPQrXI968QM3MzMyMAL1ArkfhetTnv0Bcj8L1yA29QOxRuB4luL1AmpmZmZkWvUAK16NwvZa8QKRwPQqXp71A9ihcj4JCv0AAAAAAYOS+QLgehetRPb5AkML1KBxwvUAAAAAAAEq+QBSuR+H6pL1AKVyPwvVRvECF61G4/tC8QIXrUbjeKLxAuB6F6xHdvkAzMzMzc2a9QK5H4XqUrb1A9ihcj4K3vUAAAAAAAKK8QML1KFxvQ71AAAAAAOBTu0AK16Nw/WC7QKRwPQpXfbpASOF6FK40vUAzMzMzM767QML1KFyv3LxAZmZmZqbvvECuR+F69Om9QHE9CtdjdL1AUrgehevsvEDhehSuJ9DCQM3MzMxs6L1ApHA9CmcOwUAzMzMzMzbDQB+F61HYxshAj8L1KByKvUCF61G4Xrq5QJDC9SjcGrdAw/UoXE8CuECkcD0K15m2QGZmZmamy7pA16NwPQobvkDsUbgehVO/QI/C9ShcwLxAFK5H4RquvECuR+F69CK9QFK4HoWrSr5AMzMzMzM/vUCamZmZ2QS9QFK4HoULrcBAexSuRyFTvUApXI/Cdbi7QHA9CtdDJ7tA4XoUrsf2vEBSuB6Fa229QArXo3D9+L1AMzMzMzN5vkAK16NwPQy+QML1KFxvn75AUrgehWsPvkAK16NwvWa9QM3MzMzMTL1ApHA9ChdqvkDMzMzMTJa8QAAAAABg7bxAZmZmZmYcvEC4HoXrUUe9QAAAAACAhb1AFK5H4brQvUApXI/CNQi+QJDC9ShciL5AAAAAAOCrvUAAAAAAALO6QKRwPQoXYrtAhutRuB4tu0AehetR2D69QClcj8L1nLxAMzMzM7POvEAUrkfhOnu9QA==\",\"dtype\":\"float64\",\"shape\":[143]}},\"selected\":{\"id\":\"2418\",\"type\":\"Selection\"},\"selection_policy\":{\"id\":\"2417\",\"type\":\"UnionRenderers\"}},\"id\":\"2299\",\"type\":\"ColumnDataSource\"},{\"attributes\":{\"months\":[0,2,4,6,8,10]},\"id\":\"2411\",\"type\":\"MonthsTicker\"},{\"attributes\":{\"num_minor_ticks\":5,\"tickers\":[{\"id\":\"2403\",\"type\":\"AdaptiveTicker\"},{\"id\":\"2404\",\"type\":\"AdaptiveTicker\"},{\"id\":\"2405\",\"type\":\"AdaptiveTicker\"},{\"id\":\"2406\",\"type\":\"DaysTicker\"},{\"id\":\"2407\",\"type\":\"DaysTicker\"},{\"id\":\"2408\",\"type\":\"DaysTicker\"},{\"id\":\"2409\",\"type\":\"DaysTicker\"},{\"id\":\"2410\",\"type\":\"MonthsTicker\"},{\"id\":\"2411\",\"type\":\"MonthsTicker\"},{\"id\":\"2412\",\"type\":\"MonthsTicker\"},{\"id\":\"2413\",\"type\":\"MonthsTicker\"},{\"id\":\"2414\",\"type\":\"YearsTicker\"}]},\"id\":\"2272\",\"type\":\"DatetimeTicker\"},{\"attributes\":{\"months\":[0,4,8]},\"id\":\"2412\",\"type\":\"MonthsTicker\"}],\"root_ids\":[\"2260\"]},\"title\":\"Bokeh Application\",\"version\":\"1.3.4\"}};\n",
       "  var render_items = [{\"docid\":\"2b830597-83ab-4c34-b643-7f4c5f1ca01c\",\"roots\":{\"2260\":\"d1a54a16-1e32-480f-bcd8-157353898fb1\"}}];\n",
       "  root.Bokeh.embed.embed_items_notebook(docs_json, render_items);\n",
       "\n",
       "  }\n",
       "  if (root.Bokeh !== undefined) {\n",
       "    embed_document(root);\n",
       "  } else {\n",
       "    var attempts = 0;\n",
       "    var timer = setInterval(function(root) {\n",
       "      if (root.Bokeh !== undefined) {\n",
       "        embed_document(root);\n",
       "        clearInterval(timer);\n",
       "      }\n",
       "      attempts++;\n",
       "      if (attempts > 100) {\n",
       "        console.log(\"Bokeh: ERROR: Unable to run BokehJS code because BokehJS library is missing\");\n",
       "        clearInterval(timer);\n",
       "      }\n",
       "    }, 10, root)\n",
       "  }\n",
       "})(window);"
      ],
      "application/vnd.bokehjs_exec.v0+json": ""
     },
     "metadata": {
      "application/vnd.bokehjs_exec.v0+json": {
       "id": "2260"
      }
     },
     "output_type": "display_data"
    }
   ],
   "source": [
    "grouped_sales = train.groupby(\"Date\")[\"Weekly_Sales\"].median()\n",
    "p = plot.plot_time_series_count(grouped_sales.index, grouped_sales, color=\"navy\", title=\"Weekly_Sales vs Datetime\", relative_y_axis=True, height=200)\n",
    "show(p)"
   ]
  },
  {
   "cell_type": "code",
   "execution_count": 32,
   "metadata": {},
   "outputs": [
    {
     "data": {
      "text/plain": [
       "-0.0023124470102593706"
      ]
     },
     "execution_count": 32,
     "metadata": {},
     "output_type": "execute_result"
    }
   ],
   "source": [
    "train[\"celsius\"].corr(train[\"Weekly_Sales\"])"
   ]
  },
  {
   "cell_type": "code",
   "execution_count": 33,
   "metadata": {},
   "outputs": [
    {
     "data": {
      "text/html": [
       "<div>\n",
       "<style scoped>\n",
       "    .dataframe tbody tr th:only-of-type {\n",
       "        vertical-align: middle;\n",
       "    }\n",
       "\n",
       "    .dataframe tbody tr th {\n",
       "        vertical-align: top;\n",
       "    }\n",
       "\n",
       "    .dataframe thead th {\n",
       "        text-align: right;\n",
       "    }\n",
       "</style>\n",
       "<table border=\"1\" class=\"dataframe\">\n",
       "  <thead>\n",
       "    <tr style=\"text-align: right;\">\n",
       "      <th></th>\n",
       "      <th>Date</th>\n",
       "      <th>celsius</th>\n",
       "      <th>celsius_diff</th>\n",
       "    </tr>\n",
       "  </thead>\n",
       "  <tbody>\n",
       "    <tr>\n",
       "      <td>70764</td>\n",
       "      <td>2010-02-05</td>\n",
       "      <td>-6.78</td>\n",
       "      <td>NaN</td>\n",
       "    </tr>\n",
       "    <tr>\n",
       "      <td>70856</td>\n",
       "      <td>2010-02-12</td>\n",
       "      <td>-6.18</td>\n",
       "      <td>NaN</td>\n",
       "    </tr>\n",
       "    <tr>\n",
       "      <td>70934</td>\n",
       "      <td>2010-02-19</td>\n",
       "      <td>-6.04</td>\n",
       "      <td>NaN</td>\n",
       "    </tr>\n",
       "    <tr>\n",
       "      <td>70944</td>\n",
       "      <td>2010-02-26</td>\n",
       "      <td>-7.71</td>\n",
       "      <td>NaN</td>\n",
       "    </tr>\n",
       "    <tr>\n",
       "      <td>71056</td>\n",
       "      <td>2010-03-05</td>\n",
       "      <td>-2.27</td>\n",
       "      <td>NaN</td>\n",
       "    </tr>\n",
       "    <tr>\n",
       "      <td>...</td>\n",
       "      <td>...</td>\n",
       "      <td>...</td>\n",
       "      <td>...</td>\n",
       "    </tr>\n",
       "    <tr>\n",
       "      <td>79897</td>\n",
       "      <td>2012-09-28</td>\n",
       "      <td>10.78</td>\n",
       "      <td>NaN</td>\n",
       "    </tr>\n",
       "    <tr>\n",
       "      <td>79930</td>\n",
       "      <td>2012-10-05</td>\n",
       "      <td>10.26</td>\n",
       "      <td>NaN</td>\n",
       "    </tr>\n",
       "    <tr>\n",
       "      <td>79983</td>\n",
       "      <td>2012-10-12</td>\n",
       "      <td>6.26</td>\n",
       "      <td>NaN</td>\n",
       "    </tr>\n",
       "    <tr>\n",
       "      <td>80059</td>\n",
       "      <td>2012-10-19</td>\n",
       "      <td>4.77</td>\n",
       "      <td>NaN</td>\n",
       "    </tr>\n",
       "    <tr>\n",
       "      <td>80131</td>\n",
       "      <td>2012-10-26</td>\n",
       "      <td>4.99</td>\n",
       "      <td>NaN</td>\n",
       "    </tr>\n",
       "  </tbody>\n",
       "</table>\n",
       "<p>143 rows × 3 columns</p>\n",
       "</div>"
      ],
      "text/plain": [
       "             Date  celsius celsius_diff\n",
       "70764  2010-02-05    -6.78          NaN\n",
       "70856  2010-02-12    -6.18          NaN\n",
       "70934  2010-02-19    -6.04          NaN\n",
       "70944  2010-02-26    -7.71          NaN\n",
       "71056  2010-03-05    -2.27          NaN\n",
       "...           ...      ...          ...\n",
       "79897  2012-09-28    10.78          NaN\n",
       "79930  2012-10-05    10.26          NaN\n",
       "79983  2012-10-12     6.26          NaN\n",
       "80059  2012-10-19     4.77          NaN\n",
       "80131  2012-10-26     4.99          NaN\n",
       "\n",
       "[143 rows x 3 columns]"
      ]
     },
     "execution_count": 33,
     "metadata": {},
     "output_type": "execute_result"
    }
   ],
   "source": [
    "train[train[\"store_dept\"] == \"16_5\"][[\"Date\", \"celsius\", \"celsius_diff\"]]"
   ]
  }
 ],
 "metadata": {
  "kernelspec": {
   "display_name": "Python 3",
   "language": "python",
   "name": "python3"
  },
  "language_info": {
   "codemirror_mode": {
    "name": "ipython",
    "version": 3
   },
   "file_extension": ".py",
   "mimetype": "text/x-python",
   "name": "python",
   "nbconvert_exporter": "python",
   "pygments_lexer": "ipython3",
   "version": "3.7.4"
  }
 },
 "nbformat": 4,
 "nbformat_minor": 2
}
