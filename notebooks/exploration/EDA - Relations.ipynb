{
 "cells": [
  {
   "cell_type": "code",
   "execution_count": 1,
   "metadata": {},
   "outputs": [
    {
     "name": "stdout",
     "output_type": "stream",
     "text": [
      "working dir: '/home/tales/ds/walmart-recruiting-store-sales-forecasting'\n"
     ]
    }
   ],
   "source": [
    "#Setting working path required for relative package loading\n",
    "\n",
    "import os\n",
    "os.chdir(\"/home/tales/ds/walmart-recruiting-store-sales-forecasting/\")\n",
    "print(\"working dir:\", \"\\'\" + os.getcwd() + \"\\'\")"
   ]
  },
  {
   "cell_type": "code",
   "execution_count": 2,
   "metadata": {},
   "outputs": [],
   "source": [
    "import pandas as pd\n",
    "\n",
    "from src.data import dao\n",
    "from src.processment import process\n",
    "from src.utils import pretties, time_utils, stats\n",
    "from src.visualization import plot\n",
    "from bokeh.plotting import show, output_notebook"
   ]
  },
  {
   "cell_type": "code",
   "execution_count": 3,
   "metadata": {},
   "outputs": [
    {
     "data": {
      "text/html": [
       "\n",
       "    <div class=\"bk-root\">\n",
       "        <a href=\"https://bokeh.pydata.org\" target=\"_blank\" class=\"bk-logo bk-logo-small bk-logo-notebook\"></a>\n",
       "        <span id=\"1001\">Loading BokehJS ...</span>\n",
       "    </div>"
      ]
     },
     "metadata": {},
     "output_type": "display_data"
    },
    {
     "data": {
      "application/javascript": [
       "\n",
       "(function(root) {\n",
       "  function now() {\n",
       "    return new Date();\n",
       "  }\n",
       "\n",
       "  var force = true;\n",
       "\n",
       "  if (typeof root._bokeh_onload_callbacks === \"undefined\" || force === true) {\n",
       "    root._bokeh_onload_callbacks = [];\n",
       "    root._bokeh_is_loading = undefined;\n",
       "  }\n",
       "\n",
       "  var JS_MIME_TYPE = 'application/javascript';\n",
       "  var HTML_MIME_TYPE = 'text/html';\n",
       "  var EXEC_MIME_TYPE = 'application/vnd.bokehjs_exec.v0+json';\n",
       "  var CLASS_NAME = 'output_bokeh rendered_html';\n",
       "\n",
       "  /**\n",
       "   * Render data to the DOM node\n",
       "   */\n",
       "  function render(props, node) {\n",
       "    var script = document.createElement(\"script\");\n",
       "    node.appendChild(script);\n",
       "  }\n",
       "\n",
       "  /**\n",
       "   * Handle when an output is cleared or removed\n",
       "   */\n",
       "  function handleClearOutput(event, handle) {\n",
       "    var cell = handle.cell;\n",
       "\n",
       "    var id = cell.output_area._bokeh_element_id;\n",
       "    var server_id = cell.output_area._bokeh_server_id;\n",
       "    // Clean up Bokeh references\n",
       "    if (id != null && id in Bokeh.index) {\n",
       "      Bokeh.index[id].model.document.clear();\n",
       "      delete Bokeh.index[id];\n",
       "    }\n",
       "\n",
       "    if (server_id !== undefined) {\n",
       "      // Clean up Bokeh references\n",
       "      var cmd = \"from bokeh.io.state import curstate; print(curstate().uuid_to_server['\" + server_id + \"'].get_sessions()[0].document.roots[0]._id)\";\n",
       "      cell.notebook.kernel.execute(cmd, {\n",
       "        iopub: {\n",
       "          output: function(msg) {\n",
       "            var id = msg.content.text.trim();\n",
       "            if (id in Bokeh.index) {\n",
       "              Bokeh.index[id].model.document.clear();\n",
       "              delete Bokeh.index[id];\n",
       "            }\n",
       "          }\n",
       "        }\n",
       "      });\n",
       "      // Destroy server and session\n",
       "      var cmd = \"import bokeh.io.notebook as ion; ion.destroy_server('\" + server_id + \"')\";\n",
       "      cell.notebook.kernel.execute(cmd);\n",
       "    }\n",
       "  }\n",
       "\n",
       "  /**\n",
       "   * Handle when a new output is added\n",
       "   */\n",
       "  function handleAddOutput(event, handle) {\n",
       "    var output_area = handle.output_area;\n",
       "    var output = handle.output;\n",
       "\n",
       "    // limit handleAddOutput to display_data with EXEC_MIME_TYPE content only\n",
       "    if ((output.output_type != \"display_data\") || (!output.data.hasOwnProperty(EXEC_MIME_TYPE))) {\n",
       "      return\n",
       "    }\n",
       "\n",
       "    var toinsert = output_area.element.find(\".\" + CLASS_NAME.split(' ')[0]);\n",
       "\n",
       "    if (output.metadata[EXEC_MIME_TYPE][\"id\"] !== undefined) {\n",
       "      toinsert[toinsert.length - 1].firstChild.textContent = output.data[JS_MIME_TYPE];\n",
       "      // store reference to embed id on output_area\n",
       "      output_area._bokeh_element_id = output.metadata[EXEC_MIME_TYPE][\"id\"];\n",
       "    }\n",
       "    if (output.metadata[EXEC_MIME_TYPE][\"server_id\"] !== undefined) {\n",
       "      var bk_div = document.createElement(\"div\");\n",
       "      bk_div.innerHTML = output.data[HTML_MIME_TYPE];\n",
       "      var script_attrs = bk_div.children[0].attributes;\n",
       "      for (var i = 0; i < script_attrs.length; i++) {\n",
       "        toinsert[toinsert.length - 1].firstChild.setAttribute(script_attrs[i].name, script_attrs[i].value);\n",
       "      }\n",
       "      // store reference to server id on output_area\n",
       "      output_area._bokeh_server_id = output.metadata[EXEC_MIME_TYPE][\"server_id\"];\n",
       "    }\n",
       "  }\n",
       "\n",
       "  function register_renderer(events, OutputArea) {\n",
       "\n",
       "    function append_mime(data, metadata, element) {\n",
       "      // create a DOM node to render to\n",
       "      var toinsert = this.create_output_subarea(\n",
       "        metadata,\n",
       "        CLASS_NAME,\n",
       "        EXEC_MIME_TYPE\n",
       "      );\n",
       "      this.keyboard_manager.register_events(toinsert);\n",
       "      // Render to node\n",
       "      var props = {data: data, metadata: metadata[EXEC_MIME_TYPE]};\n",
       "      render(props, toinsert[toinsert.length - 1]);\n",
       "      element.append(toinsert);\n",
       "      return toinsert\n",
       "    }\n",
       "\n",
       "    /* Handle when an output is cleared or removed */\n",
       "    events.on('clear_output.CodeCell', handleClearOutput);\n",
       "    events.on('delete.Cell', handleClearOutput);\n",
       "\n",
       "    /* Handle when a new output is added */\n",
       "    events.on('output_added.OutputArea', handleAddOutput);\n",
       "\n",
       "    /**\n",
       "     * Register the mime type and append_mime function with output_area\n",
       "     */\n",
       "    OutputArea.prototype.register_mime_type(EXEC_MIME_TYPE, append_mime, {\n",
       "      /* Is output safe? */\n",
       "      safe: true,\n",
       "      /* Index of renderer in `output_area.display_order` */\n",
       "      index: 0\n",
       "    });\n",
       "  }\n",
       "\n",
       "  // register the mime type if in Jupyter Notebook environment and previously unregistered\n",
       "  if (root.Jupyter !== undefined) {\n",
       "    var events = require('base/js/events');\n",
       "    var OutputArea = require('notebook/js/outputarea').OutputArea;\n",
       "\n",
       "    if (OutputArea.prototype.mime_types().indexOf(EXEC_MIME_TYPE) == -1) {\n",
       "      register_renderer(events, OutputArea);\n",
       "    }\n",
       "  }\n",
       "\n",
       "  \n",
       "  if (typeof (root._bokeh_timeout) === \"undefined\" || force === true) {\n",
       "    root._bokeh_timeout = Date.now() + 5000;\n",
       "    root._bokeh_failed_load = false;\n",
       "  }\n",
       "\n",
       "  var NB_LOAD_WARNING = {'data': {'text/html':\n",
       "     \"<div style='background-color: #fdd'>\\n\"+\n",
       "     \"<p>\\n\"+\n",
       "     \"BokehJS does not appear to have successfully loaded. If loading BokehJS from CDN, this \\n\"+\n",
       "     \"may be due to a slow or bad network connection. Possible fixes:\\n\"+\n",
       "     \"</p>\\n\"+\n",
       "     \"<ul>\\n\"+\n",
       "     \"<li>re-rerun `output_notebook()` to attempt to load from CDN again, or</li>\\n\"+\n",
       "     \"<li>use INLINE resources instead, as so:</li>\\n\"+\n",
       "     \"</ul>\\n\"+\n",
       "     \"<code>\\n\"+\n",
       "     \"from bokeh.resources import INLINE\\n\"+\n",
       "     \"output_notebook(resources=INLINE)\\n\"+\n",
       "     \"</code>\\n\"+\n",
       "     \"</div>\"}};\n",
       "\n",
       "  function display_loaded() {\n",
       "    var el = document.getElementById(\"1001\");\n",
       "    if (el != null) {\n",
       "      el.textContent = \"BokehJS is loading...\";\n",
       "    }\n",
       "    if (root.Bokeh !== undefined) {\n",
       "      if (el != null) {\n",
       "        el.textContent = \"BokehJS \" + root.Bokeh.version + \" successfully loaded.\";\n",
       "      }\n",
       "    } else if (Date.now() < root._bokeh_timeout) {\n",
       "      setTimeout(display_loaded, 100)\n",
       "    }\n",
       "  }\n",
       "\n",
       "\n",
       "  function run_callbacks() {\n",
       "    try {\n",
       "      root._bokeh_onload_callbacks.forEach(function(callback) {\n",
       "        if (callback != null)\n",
       "          callback();\n",
       "      });\n",
       "    } finally {\n",
       "      delete root._bokeh_onload_callbacks\n",
       "    }\n",
       "    console.debug(\"Bokeh: all callbacks have finished\");\n",
       "  }\n",
       "\n",
       "  function load_libs(css_urls, js_urls, callback) {\n",
       "    if (css_urls == null) css_urls = [];\n",
       "    if (js_urls == null) js_urls = [];\n",
       "\n",
       "    root._bokeh_onload_callbacks.push(callback);\n",
       "    if (root._bokeh_is_loading > 0) {\n",
       "      console.debug(\"Bokeh: BokehJS is being loaded, scheduling callback at\", now());\n",
       "      return null;\n",
       "    }\n",
       "    if (js_urls == null || js_urls.length === 0) {\n",
       "      run_callbacks();\n",
       "      return null;\n",
       "    }\n",
       "    console.debug(\"Bokeh: BokehJS not loaded, scheduling load and callback at\", now());\n",
       "    root._bokeh_is_loading = css_urls.length + js_urls.length;\n",
       "\n",
       "    function on_load() {\n",
       "      root._bokeh_is_loading--;\n",
       "      if (root._bokeh_is_loading === 0) {\n",
       "        console.debug(\"Bokeh: all BokehJS libraries/stylesheets loaded\");\n",
       "        run_callbacks()\n",
       "      }\n",
       "    }\n",
       "\n",
       "    function on_error() {\n",
       "      console.error(\"failed to load \" + url);\n",
       "    }\n",
       "\n",
       "    for (var i = 0; i < css_urls.length; i++) {\n",
       "      var url = css_urls[i];\n",
       "      const element = document.createElement(\"link\");\n",
       "      element.onload = on_load;\n",
       "      element.onerror = on_error;\n",
       "      element.rel = \"stylesheet\";\n",
       "      element.type = \"text/css\";\n",
       "      element.href = url;\n",
       "      console.debug(\"Bokeh: injecting link tag for BokehJS stylesheet: \", url);\n",
       "      document.body.appendChild(element);\n",
       "    }\n",
       "\n",
       "    for (var i = 0; i < js_urls.length; i++) {\n",
       "      var url = js_urls[i];\n",
       "      var element = document.createElement('script');\n",
       "      element.onload = on_load;\n",
       "      element.onerror = on_error;\n",
       "      element.async = false;\n",
       "      element.src = url;\n",
       "      console.debug(\"Bokeh: injecting script tag for BokehJS library: \", url);\n",
       "      document.head.appendChild(element);\n",
       "    }\n",
       "  };var element = document.getElementById(\"1001\");\n",
       "  if (element == null) {\n",
       "    console.error(\"Bokeh: ERROR: autoload.js configured with elementid '1001' but no matching script tag was found. \")\n",
       "    return false;\n",
       "  }\n",
       "\n",
       "  function inject_raw_css(css) {\n",
       "    const element = document.createElement(\"style\");\n",
       "    element.appendChild(document.createTextNode(css));\n",
       "    document.body.appendChild(element);\n",
       "  }\n",
       "\n",
       "  var js_urls = [\"https://cdn.pydata.org/bokeh/release/bokeh-1.3.4.min.js\", \"https://cdn.pydata.org/bokeh/release/bokeh-widgets-1.3.4.min.js\", \"https://cdn.pydata.org/bokeh/release/bokeh-tables-1.3.4.min.js\", \"https://cdn.pydata.org/bokeh/release/bokeh-gl-1.3.4.min.js\"];\n",
       "  var css_urls = [];\n",
       "\n",
       "  var inline_js = [\n",
       "    function(Bokeh) {\n",
       "      Bokeh.set_log_level(\"info\");\n",
       "    },\n",
       "    \n",
       "    function(Bokeh) {\n",
       "      \n",
       "    },\n",
       "    function(Bokeh) {} // ensure no trailing comma for IE\n",
       "  ];\n",
       "\n",
       "  function run_inline_js() {\n",
       "    \n",
       "    if ((root.Bokeh !== undefined) || (force === true)) {\n",
       "      for (var i = 0; i < inline_js.length; i++) {\n",
       "        inline_js[i].call(root, root.Bokeh);\n",
       "      }if (force === true) {\n",
       "        display_loaded();\n",
       "      }} else if (Date.now() < root._bokeh_timeout) {\n",
       "      setTimeout(run_inline_js, 100);\n",
       "    } else if (!root._bokeh_failed_load) {\n",
       "      console.log(\"Bokeh: BokehJS failed to load within specified timeout.\");\n",
       "      root._bokeh_failed_load = true;\n",
       "    } else if (force !== true) {\n",
       "      var cell = $(document.getElementById(\"1001\")).parents('.cell').data().cell;\n",
       "      cell.output_area.append_execute_result(NB_LOAD_WARNING)\n",
       "    }\n",
       "\n",
       "  }\n",
       "\n",
       "  if (root._bokeh_is_loading === 0) {\n",
       "    console.debug(\"Bokeh: BokehJS loaded, going straight to plotting\");\n",
       "    run_inline_js();\n",
       "  } else {\n",
       "    load_libs(css_urls, js_urls, function() {\n",
       "      console.debug(\"Bokeh: BokehJS plotting callback run at\", now());\n",
       "      run_inline_js();\n",
       "    });\n",
       "  }\n",
       "}(window));"
      ],
      "application/vnd.bokehjs_load.v0+json": "\n(function(root) {\n  function now() {\n    return new Date();\n  }\n\n  var force = true;\n\n  if (typeof root._bokeh_onload_callbacks === \"undefined\" || force === true) {\n    root._bokeh_onload_callbacks = [];\n    root._bokeh_is_loading = undefined;\n  }\n\n  \n\n  \n  if (typeof (root._bokeh_timeout) === \"undefined\" || force === true) {\n    root._bokeh_timeout = Date.now() + 5000;\n    root._bokeh_failed_load = false;\n  }\n\n  var NB_LOAD_WARNING = {'data': {'text/html':\n     \"<div style='background-color: #fdd'>\\n\"+\n     \"<p>\\n\"+\n     \"BokehJS does not appear to have successfully loaded. If loading BokehJS from CDN, this \\n\"+\n     \"may be due to a slow or bad network connection. Possible fixes:\\n\"+\n     \"</p>\\n\"+\n     \"<ul>\\n\"+\n     \"<li>re-rerun `output_notebook()` to attempt to load from CDN again, or</li>\\n\"+\n     \"<li>use INLINE resources instead, as so:</li>\\n\"+\n     \"</ul>\\n\"+\n     \"<code>\\n\"+\n     \"from bokeh.resources import INLINE\\n\"+\n     \"output_notebook(resources=INLINE)\\n\"+\n     \"</code>\\n\"+\n     \"</div>\"}};\n\n  function display_loaded() {\n    var el = document.getElementById(\"1001\");\n    if (el != null) {\n      el.textContent = \"BokehJS is loading...\";\n    }\n    if (root.Bokeh !== undefined) {\n      if (el != null) {\n        el.textContent = \"BokehJS \" + root.Bokeh.version + \" successfully loaded.\";\n      }\n    } else if (Date.now() < root._bokeh_timeout) {\n      setTimeout(display_loaded, 100)\n    }\n  }\n\n\n  function run_callbacks() {\n    try {\n      root._bokeh_onload_callbacks.forEach(function(callback) {\n        if (callback != null)\n          callback();\n      });\n    } finally {\n      delete root._bokeh_onload_callbacks\n    }\n    console.debug(\"Bokeh: all callbacks have finished\");\n  }\n\n  function load_libs(css_urls, js_urls, callback) {\n    if (css_urls == null) css_urls = [];\n    if (js_urls == null) js_urls = [];\n\n    root._bokeh_onload_callbacks.push(callback);\n    if (root._bokeh_is_loading > 0) {\n      console.debug(\"Bokeh: BokehJS is being loaded, scheduling callback at\", now());\n      return null;\n    }\n    if (js_urls == null || js_urls.length === 0) {\n      run_callbacks();\n      return null;\n    }\n    console.debug(\"Bokeh: BokehJS not loaded, scheduling load and callback at\", now());\n    root._bokeh_is_loading = css_urls.length + js_urls.length;\n\n    function on_load() {\n      root._bokeh_is_loading--;\n      if (root._bokeh_is_loading === 0) {\n        console.debug(\"Bokeh: all BokehJS libraries/stylesheets loaded\");\n        run_callbacks()\n      }\n    }\n\n    function on_error() {\n      console.error(\"failed to load \" + url);\n    }\n\n    for (var i = 0; i < css_urls.length; i++) {\n      var url = css_urls[i];\n      const element = document.createElement(\"link\");\n      element.onload = on_load;\n      element.onerror = on_error;\n      element.rel = \"stylesheet\";\n      element.type = \"text/css\";\n      element.href = url;\n      console.debug(\"Bokeh: injecting link tag for BokehJS stylesheet: \", url);\n      document.body.appendChild(element);\n    }\n\n    for (var i = 0; i < js_urls.length; i++) {\n      var url = js_urls[i];\n      var element = document.createElement('script');\n      element.onload = on_load;\n      element.onerror = on_error;\n      element.async = false;\n      element.src = url;\n      console.debug(\"Bokeh: injecting script tag for BokehJS library: \", url);\n      document.head.appendChild(element);\n    }\n  };var element = document.getElementById(\"1001\");\n  if (element == null) {\n    console.error(\"Bokeh: ERROR: autoload.js configured with elementid '1001' but no matching script tag was found. \")\n    return false;\n  }\n\n  function inject_raw_css(css) {\n    const element = document.createElement(\"style\");\n    element.appendChild(document.createTextNode(css));\n    document.body.appendChild(element);\n  }\n\n  var js_urls = [\"https://cdn.pydata.org/bokeh/release/bokeh-1.3.4.min.js\", \"https://cdn.pydata.org/bokeh/release/bokeh-widgets-1.3.4.min.js\", \"https://cdn.pydata.org/bokeh/release/bokeh-tables-1.3.4.min.js\", \"https://cdn.pydata.org/bokeh/release/bokeh-gl-1.3.4.min.js\"];\n  var css_urls = [];\n\n  var inline_js = [\n    function(Bokeh) {\n      Bokeh.set_log_level(\"info\");\n    },\n    \n    function(Bokeh) {\n      \n    },\n    function(Bokeh) {} // ensure no trailing comma for IE\n  ];\n\n  function run_inline_js() {\n    \n    if ((root.Bokeh !== undefined) || (force === true)) {\n      for (var i = 0; i < inline_js.length; i++) {\n        inline_js[i].call(root, root.Bokeh);\n      }if (force === true) {\n        display_loaded();\n      }} else if (Date.now() < root._bokeh_timeout) {\n      setTimeout(run_inline_js, 100);\n    } else if (!root._bokeh_failed_load) {\n      console.log(\"Bokeh: BokehJS failed to load within specified timeout.\");\n      root._bokeh_failed_load = true;\n    } else if (force !== true) {\n      var cell = $(document.getElementById(\"1001\")).parents('.cell').data().cell;\n      cell.output_area.append_execute_result(NB_LOAD_WARNING)\n    }\n\n  }\n\n  if (root._bokeh_is_loading === 0) {\n    console.debug(\"Bokeh: BokehJS loaded, going straight to plotting\");\n    run_inline_js();\n  } else {\n    load_libs(css_urls, js_urls, function() {\n      console.debug(\"Bokeh: BokehJS plotting callback run at\", now());\n      run_inline_js();\n    });\n  }\n}(window));"
     },
     "metadata": {},
     "output_type": "display_data"
    }
   ],
   "source": [
    "pretties.max_data_frame_columns()\n",
    "pretties.decimal_notation()\n",
    "output_notebook()"
   ]
  },
  {
   "cell_type": "markdown",
   "metadata": {},
   "source": [
    "# <font color=\"darkred\">Relations</font>\n",
    "with target variable"
   ]
  },
  {
   "cell_type": "markdown",
   "metadata": {},
   "source": [
    "# walmart-recruiting-store-sales-forecasting\n",
    "https://www.kaggle.com/c/walmart-recruiting-store-sales-forecasting"
   ]
  },
  {
   "cell_type": "code",
   "execution_count": 4,
   "metadata": {
    "scrolled": false
   },
   "outputs": [],
   "source": [
    "train = dao.load_dataset(\"train\")\n",
    "train = train.groupby(\"store_dept\").apply(process.train_sales_semantic_enrichment)\n",
    "\n",
    "feat = dao.load_features()\n",
    "feat = process.features_semantic_enrichment(feat)\n",
    "\n",
    "stores = dao.load_stores()"
   ]
  },
  {
   "cell_type": "code",
   "execution_count": 5,
   "metadata": {},
   "outputs": [],
   "source": [
    "train = train.merge(feat, how=\"left\", left_on=[\"Store\", \"Date\"], right_on=[\"Store\", \"Date\"], suffixes=[\"\", \"_y\"])\n",
    "del train[\"IsHoliday_y\"]\n",
    "del train[\"timestamp_y\"]\n",
    "train = train.merge(stores, how=\"left\", left_on=[\"Store\"], right_on=[\"Store\"])"
   ]
  },
  {
   "cell_type": "code",
   "execution_count": 6,
   "metadata": {},
   "outputs": [],
   "source": [
    "cols = ['Date', 'Store', 'Dept', 'Weekly_Sales', 'pre_holiday', 'IsHoliday', 'pos_holiday', 'Fuel_Price', \n",
    "        'CPI', 'Unemployment', 'celsius', 'datetime', 'Type', 'sales_diff', 'sales_diff_p',\n",
    "        'MarkDown1', 'MarkDown2', 'MarkDown3', 'MarkDown4', 'MarkDown5', \n",
    "        'Size', 'Temperature', 'timestamp', 'store_dept', \"day_n\", \"week_n\", \"month_n\", \"year\", \"wm_date\", \"up_diff\", \"celsius_diff\"]"
   ]
  },
  {
   "cell_type": "code",
   "execution_count": 7,
   "metadata": {},
   "outputs": [],
   "source": [
    "train = train[cols].sort_values(\"timestamp\")"
   ]
  },
  {
   "cell_type": "code",
   "execution_count": 8,
   "metadata": {},
   "outputs": [
    {
     "data": {
      "text/html": [
       "<div>\n",
       "<style scoped>\n",
       "    .dataframe tbody tr th:only-of-type {\n",
       "        vertical-align: middle;\n",
       "    }\n",
       "\n",
       "    .dataframe tbody tr th {\n",
       "        vertical-align: top;\n",
       "    }\n",
       "\n",
       "    .dataframe thead th {\n",
       "        text-align: right;\n",
       "    }\n",
       "</style>\n",
       "<table border=\"1\" class=\"dataframe\">\n",
       "  <thead>\n",
       "    <tr style=\"text-align: right;\">\n",
       "      <th></th>\n",
       "      <th>Date</th>\n",
       "      <th>Store</th>\n",
       "      <th>Dept</th>\n",
       "      <th>Weekly_Sales</th>\n",
       "      <th>pre_holiday</th>\n",
       "      <th>IsHoliday</th>\n",
       "      <th>pos_holiday</th>\n",
       "      <th>Fuel_Price</th>\n",
       "      <th>CPI</th>\n",
       "      <th>Unemployment</th>\n",
       "      <th>celsius</th>\n",
       "      <th>datetime</th>\n",
       "      <th>Type</th>\n",
       "      <th>sales_diff</th>\n",
       "      <th>sales_diff_p</th>\n",
       "      <th>MarkDown1</th>\n",
       "      <th>MarkDown2</th>\n",
       "      <th>MarkDown3</th>\n",
       "      <th>MarkDown4</th>\n",
       "      <th>MarkDown5</th>\n",
       "      <th>Size</th>\n",
       "      <th>Temperature</th>\n",
       "      <th>timestamp</th>\n",
       "      <th>store_dept</th>\n",
       "      <th>day_n</th>\n",
       "      <th>week_n</th>\n",
       "      <th>month_n</th>\n",
       "      <th>year</th>\n",
       "      <th>wm_date</th>\n",
       "      <th>up_diff</th>\n",
       "      <th>celsius_diff</th>\n",
       "    </tr>\n",
       "  </thead>\n",
       "  <tbody>\n",
       "    <tr>\n",
       "      <td>348040</td>\n",
       "      <td>2012-05-11</td>\n",
       "      <td>16</td>\n",
       "      <td>3</td>\n",
       "      <td>5801.69</td>\n",
       "      <td>False</td>\n",
       "      <td>False</td>\n",
       "      <td>False</td>\n",
       "      <td>3.87</td>\n",
       "      <td>197.55</td>\n",
       "      <td>6.17</td>\n",
       "      <td>11.98</td>\n",
       "      <td>2012-05-11</td>\n",
       "      <td>B</td>\n",
       "      <td>519.50</td>\n",
       "      <td>0.10</td>\n",
       "      <td>4814.92</td>\n",
       "      <td>nan</td>\n",
       "      <td>61.11</td>\n",
       "      <td>343.64</td>\n",
       "      <td>837.48</td>\n",
       "      <td>57197</td>\n",
       "      <td>53.57</td>\n",
       "      <td>1336705200.00</td>\n",
       "      <td>16_3</td>\n",
       "      <td>11</td>\n",
       "      <td>2</td>\n",
       "      <td>05</td>\n",
       "      <td>2012</td>\n",
       "      <td>05/2</td>\n",
       "      <td>True</td>\n",
       "      <td>1.24</td>\n",
       "    </tr>\n",
       "    <tr>\n",
       "      <td>334319</td>\n",
       "      <td>2012-04-06</td>\n",
       "      <td>12</td>\n",
       "      <td>58</td>\n",
       "      <td>2880.00</td>\n",
       "      <td>False</td>\n",
       "      <td>False</td>\n",
       "      <td>False</td>\n",
       "      <td>4.12</td>\n",
       "      <td>131.04</td>\n",
       "      <td>11.63</td>\n",
       "      <td>17.81</td>\n",
       "      <td>2012-04-06</td>\n",
       "      <td>B</td>\n",
       "      <td>2235.00</td>\n",
       "      <td>3.47</td>\n",
       "      <td>11772.46</td>\n",
       "      <td>nan</td>\n",
       "      <td>61.63</td>\n",
       "      <td>3885.06</td>\n",
       "      <td>4225.11</td>\n",
       "      <td>112238</td>\n",
       "      <td>64.05</td>\n",
       "      <td>1333681200.00</td>\n",
       "      <td>12_58</td>\n",
       "      <td>6</td>\n",
       "      <td>1</td>\n",
       "      <td>04</td>\n",
       "      <td>2012</td>\n",
       "      <td>04/1</td>\n",
       "      <td>True</td>\n",
       "      <td>-0.17</td>\n",
       "    </tr>\n",
       "    <tr>\n",
       "      <td>395035</td>\n",
       "      <td>2012-08-31</td>\n",
       "      <td>45</td>\n",
       "      <td>23</td>\n",
       "      <td>19834.21</td>\n",
       "      <td>True</td>\n",
       "      <td>False</td>\n",
       "      <td>False</td>\n",
       "      <td>3.87</td>\n",
       "      <td>191.46</td>\n",
       "      <td>8.68</td>\n",
       "      <td>23.94</td>\n",
       "      <td>2012-08-31</td>\n",
       "      <td>B</td>\n",
       "      <td>-472.03</td>\n",
       "      <td>-0.02</td>\n",
       "      <td>23641.30</td>\n",
       "      <td>6.00</td>\n",
       "      <td>92.93</td>\n",
       "      <td>6988.31</td>\n",
       "      <td>3992.13</td>\n",
       "      <td>118221</td>\n",
       "      <td>75.09</td>\n",
       "      <td>1346382000.00</td>\n",
       "      <td>45_23</td>\n",
       "      <td>31</td>\n",
       "      <td>5</td>\n",
       "      <td>08</td>\n",
       "      <td>2012</td>\n",
       "      <td>08/5</td>\n",
       "      <td>False</td>\n",
       "      <td>1.37</td>\n",
       "    </tr>\n",
       "    <tr>\n",
       "      <td>163058</td>\n",
       "      <td>2011-02-25</td>\n",
       "      <td>23</td>\n",
       "      <td>97</td>\n",
       "      <td>5861.24</td>\n",
       "      <td>False</td>\n",
       "      <td>False</td>\n",
       "      <td>False</td>\n",
       "      <td>3.28</td>\n",
       "      <td>133.49</td>\n",
       "      <td>5.11</td>\n",
       "      <td>-8.33</td>\n",
       "      <td>2011-02-25</td>\n",
       "      <td>B</td>\n",
       "      <td>-651.96</td>\n",
       "      <td>-0.10</td>\n",
       "      <td>nan</td>\n",
       "      <td>nan</td>\n",
       "      <td>nan</td>\n",
       "      <td>nan</td>\n",
       "      <td>nan</td>\n",
       "      <td>114533</td>\n",
       "      <td>17.00</td>\n",
       "      <td>1298602800.00</td>\n",
       "      <td>23_97</td>\n",
       "      <td>25</td>\n",
       "      <td>4</td>\n",
       "      <td>02</td>\n",
       "      <td>2011</td>\n",
       "      <td>02/4</td>\n",
       "      <td>False</td>\n",
       "      <td>-5.33</td>\n",
       "    </tr>\n",
       "    <tr>\n",
       "      <td>19815</td>\n",
       "      <td>2010-03-19</td>\n",
       "      <td>8</td>\n",
       "      <td>14</td>\n",
       "      <td>10423.26</td>\n",
       "      <td>False</td>\n",
       "      <td>False</td>\n",
       "      <td>False</td>\n",
       "      <td>2.72</td>\n",
       "      <td>214.58</td>\n",
       "      <td>6.30</td>\n",
       "      <td>8.48</td>\n",
       "      <td>2010-03-19</td>\n",
       "      <td>A</td>\n",
       "      <td>575.23</td>\n",
       "      <td>0.06</td>\n",
       "      <td>nan</td>\n",
       "      <td>nan</td>\n",
       "      <td>nan</td>\n",
       "      <td>nan</td>\n",
       "      <td>nan</td>\n",
       "      <td>155078</td>\n",
       "      <td>47.26</td>\n",
       "      <td>1268967600.00</td>\n",
       "      <td>8_14</td>\n",
       "      <td>19</td>\n",
       "      <td>3</td>\n",
       "      <td>03</td>\n",
       "      <td>2010</td>\n",
       "      <td>03/3</td>\n",
       "      <td>True</td>\n",
       "      <td>-1.39</td>\n",
       "    </tr>\n",
       "    <tr>\n",
       "      <td>210763</td>\n",
       "      <td>2011-06-17</td>\n",
       "      <td>6</td>\n",
       "      <td>56</td>\n",
       "      <td>4127.88</td>\n",
       "      <td>False</td>\n",
       "      <td>False</td>\n",
       "      <td>False</td>\n",
       "      <td>3.64</td>\n",
       "      <td>216.54</td>\n",
       "      <td>6.86</td>\n",
       "      <td>30.60</td>\n",
       "      <td>2011-06-17</td>\n",
       "      <td>A</td>\n",
       "      <td>324.38</td>\n",
       "      <td>0.09</td>\n",
       "      <td>nan</td>\n",
       "      <td>nan</td>\n",
       "      <td>nan</td>\n",
       "      <td>nan</td>\n",
       "      <td>nan</td>\n",
       "      <td>202505</td>\n",
       "      <td>87.08</td>\n",
       "      <td>1308279600.00</td>\n",
       "      <td>6_56</td>\n",
       "      <td>17</td>\n",
       "      <td>3</td>\n",
       "      <td>06</td>\n",
       "      <td>2011</td>\n",
       "      <td>06/3</td>\n",
       "      <td>True</td>\n",
       "      <td>1.44</td>\n",
       "    </tr>\n",
       "  </tbody>\n",
       "</table>\n",
       "</div>"
      ],
      "text/plain": [
       "              Date Store Dept  Weekly_Sales pre_holiday  IsHoliday  \\\n",
       "348040  2012-05-11    16    3       5801.69       False      False   \n",
       "334319  2012-04-06    12   58       2880.00       False      False   \n",
       "395035  2012-08-31    45   23      19834.21        True      False   \n",
       "163058  2011-02-25    23   97       5861.24       False      False   \n",
       "19815   2010-03-19     8   14      10423.26       False      False   \n",
       "210763  2011-06-17     6   56       4127.88       False      False   \n",
       "\n",
       "       pos_holiday  Fuel_Price    CPI  Unemployment  celsius   datetime Type  \\\n",
       "348040       False        3.87 197.55          6.17    11.98 2012-05-11    B   \n",
       "334319       False        4.12 131.04         11.63    17.81 2012-04-06    B   \n",
       "395035       False        3.87 191.46          8.68    23.94 2012-08-31    B   \n",
       "163058       False        3.28 133.49          5.11    -8.33 2011-02-25    B   \n",
       "19815        False        2.72 214.58          6.30     8.48 2010-03-19    A   \n",
       "210763       False        3.64 216.54          6.86    30.60 2011-06-17    A   \n",
       "\n",
       "        sales_diff  sales_diff_p  MarkDown1  MarkDown2  MarkDown3  MarkDown4  \\\n",
       "348040      519.50          0.10    4814.92        nan      61.11     343.64   \n",
       "334319     2235.00          3.47   11772.46        nan      61.63    3885.06   \n",
       "395035     -472.03         -0.02   23641.30       6.00      92.93    6988.31   \n",
       "163058     -651.96         -0.10        nan        nan        nan        nan   \n",
       "19815       575.23          0.06        nan        nan        nan        nan   \n",
       "210763      324.38          0.09        nan        nan        nan        nan   \n",
       "\n",
       "        MarkDown5    Size  Temperature     timestamp store_dept  day_n  \\\n",
       "348040     837.48   57197        53.57 1336705200.00       16_3     11   \n",
       "334319    4225.11  112238        64.05 1333681200.00      12_58      6   \n",
       "395035    3992.13  118221        75.09 1346382000.00      45_23     31   \n",
       "163058        nan  114533        17.00 1298602800.00      23_97     25   \n",
       "19815         nan  155078        47.26 1268967600.00       8_14     19   \n",
       "210763        nan  202505        87.08 1308279600.00       6_56     17   \n",
       "\n",
       "        week_n month_n  year wm_date  up_diff  celsius_diff  \n",
       "348040       2      05  2012    05/2     True          1.24  \n",
       "334319       1      04  2012    04/1     True         -0.17  \n",
       "395035       5      08  2012    08/5    False          1.37  \n",
       "163058       4      02  2011    02/4    False         -5.33  \n",
       "19815        3      03  2010    03/3     True         -1.39  \n",
       "210763       3      06  2011    06/3     True          1.44  "
      ]
     },
     "execution_count": 8,
     "metadata": {},
     "output_type": "execute_result"
    }
   ],
   "source": [
    "train.sample(6)"
   ]
  },
  {
   "cell_type": "markdown",
   "metadata": {},
   "source": [
    " "
   ]
  },
  {
   "cell_type": "markdown",
   "metadata": {},
   "source": [
    "# <font color=\"navy\">Date</font>"
   ]
  },
  {
   "cell_type": "code",
   "execution_count": 9,
   "metadata": {},
   "outputs": [
    {
     "data": {
      "text/plain": [
       "0         2010-02-05\n",
       "421569    2012-10-26\n",
       "Name: Date, dtype: object"
      ]
     },
     "execution_count": 9,
     "metadata": {},
     "output_type": "execute_result"
    }
   ],
   "source": [
    "train[\"Date\"].head(1).append(train[\"Date\"].tail(1))"
   ]
  },
  {
   "cell_type": "code",
   "execution_count": 10,
   "metadata": {},
   "outputs": [
    {
     "name": "stderr",
     "output_type": "stream",
     "text": [
      "/home/tales/anaconda3/lib/python3.7/site-packages/bokeh/plotting/helpers.py:628: UserWarning: WheelZoomTool are being repeated\n",
      "  warnings.warn(\"%s are being repeated\" % \",\".join(repeated_tools))\n",
      "/home/tales/ds/walmart-recruiting-store-sales-forecasting/src/visualization/plot.py:38: SettingWithCopyWarning: \n",
      "A value is trying to be set on a copy of a slice from a DataFrame.\n",
      "Try using .loc[row_indexer,col_indexer] = value instead\n",
      "\n",
      "See the caveats in the documentation: http://pandas.pydata.org/pandas-docs/stable/user_guide/indexing.html#returning-a-view-versus-a-copy\n",
      "  holidays[\"Date\"] = holidays[\"Date\"].apply(pd.to_datetime)\n"
     ]
    },
    {
     "data": {
      "text/html": [
       "\n",
       "\n",
       "\n",
       "\n",
       "\n",
       "\n",
       "  <div class=\"bk-root\" id=\"211b6b30-230e-4a85-a5ce-76106b5dfb14\" data-root-id=\"1002\"></div>\n"
      ]
     },
     "metadata": {},
     "output_type": "display_data"
    },
    {
     "data": {
      "application/javascript": [
       "(function(root) {\n",
       "  function embed_document(root) {\n",
       "    \n",
       "  var docs_json = {\"80954a12-970a-44b6-87bb-0c7fcb85be54\":{\"roots\":{\"references\":[{\"attributes\":{\"below\":[{\"id\":\"1013\",\"type\":\"DatetimeAxis\"}],\"center\":[{\"id\":\"1017\",\"type\":\"Grid\"},{\"id\":\"1022\",\"type\":\"Grid\"},{\"id\":\"1058\",\"type\":\"Legend\"}],\"left\":[{\"id\":\"1018\",\"type\":\"LinearAxis\"}],\"plot_height\":300,\"plot_width\":900,\"renderers\":[{\"id\":\"1040\",\"type\":\"GlyphRenderer\"},{\"id\":\"1063\",\"type\":\"GlyphRenderer\"},{\"id\":\"1069\",\"type\":\"GlyphRenderer\"}],\"title\":{\"id\":\"1003\",\"type\":\"Title\"},\"toolbar\":{\"id\":\"1028\",\"type\":\"Toolbar\"},\"x_range\":{\"id\":\"1005\",\"type\":\"DataRange1d\"},\"x_scale\":{\"id\":\"1009\",\"type\":\"LinearScale\"},\"y_range\":{\"id\":\"1007\",\"type\":\"DataRange1d\"},\"y_scale\":{\"id\":\"1011\",\"type\":\"LinearScale\"}},\"id\":\"1002\",\"subtype\":\"Figure\",\"type\":\"Plot\"},{\"attributes\":{\"days\":[\"%d/%b\"],\"hours\":[\"%H:%M %d/%b\"],\"months\":[\"%d/%b/%Y\"],\"years\":[\"%d/%b/%Y\"]},\"id\":\"1034\",\"type\":\"DatetimeTickFormatter\"},{\"attributes\":{\"text\":\"Weekly_Sales vs Datetime\"},\"id\":\"1003\",\"type\":\"Title\"},{\"attributes\":{\"data_source\":{\"id\":\"1065\",\"type\":\"ColumnDataSource\"},\"glyph\":{\"id\":\"1067\",\"type\":\"Diamond\"},\"hover_glyph\":null,\"muted_glyph\":null,\"nonselection_glyph\":{\"id\":\"1068\",\"type\":\"Diamond\"},\"selection_glyph\":null,\"view\":{\"id\":\"1070\",\"type\":\"CDSView\"}},\"id\":\"1069\",\"type\":\"GlyphRenderer\"},{\"attributes\":{},\"id\":\"1019\",\"type\":\"BasicTicker\"},{\"attributes\":{\"active_drag\":\"auto\",\"active_inspect\":\"auto\",\"active_multi\":null,\"active_scroll\":\"auto\",\"active_tap\":\"auto\",\"tools\":[{\"id\":\"1023\",\"type\":\"PanTool\"},{\"id\":\"1024\",\"type\":\"WheelZoomTool\"},{\"id\":\"1025\",\"type\":\"WheelZoomTool\"},{\"id\":\"1026\",\"type\":\"ResetTool\"},{\"id\":\"1027\",\"type\":\"SaveTool\"}]},\"id\":\"1028\",\"type\":\"Toolbar\"},{\"attributes\":{\"dimensions\":\"width\"},\"id\":\"1025\",\"type\":\"WheelZoomTool\"},{\"attributes\":{\"base\":24,\"mantissas\":[1,2,4,6,8,12],\"max_interval\":43200000.0,\"min_interval\":3600000.0,\"num_minor_ticks\":0},\"id\":\"1048\",\"type\":\"AdaptiveTicker\"},{\"attributes\":{},\"id\":\"1009\",\"type\":\"LinearScale\"},{\"attributes\":{\"base\":60,\"mantissas\":[1,2,5,10,15,20,30],\"max_interval\":1800000.0,\"min_interval\":1000.0,\"num_minor_ticks\":0},\"id\":\"1047\",\"type\":\"AdaptiveTicker\"},{\"attributes\":{\"fill_alpha\":{\"value\":0.1},\"fill_color\":{\"value\":\"#1f77b4\"},\"line_alpha\":{\"value\":0.1},\"line_color\":{\"value\":\"#1f77b4\"},\"line_width\":{\"value\":2},\"size\":{\"units\":\"screen\",\"value\":12},\"x\":{\"field\":\"Date\"},\"y\":{\"field\":\"Weekly_Sales\"}},\"id\":\"1068\",\"type\":\"Diamond\"},{\"attributes\":{\"source\":{\"id\":\"1065\",\"type\":\"ColumnDataSource\"}},\"id\":\"1070\",\"type\":\"CDSView\"},{\"attributes\":{\"days\":[1,8,15,22]},\"id\":\"1051\",\"type\":\"DaysTicker\"},{\"attributes\":{\"days\":[1,2,3,4,5,6,7,8,9,10,11,12,13,14,15,16,17,18,19,20,21,22,23,24,25,26,27,28,29,30,31]},\"id\":\"1049\",\"type\":\"DaysTicker\"},{\"attributes\":{\"callback\":null,\"data\":{\"Date\":{\"__ndarray__\":\"AADA0LZpckIAAACZ92tyQgAAQGE4bnJCAACAKXlwckIAAMDxuXJyQgAAALr6dHJCAABAgjt3ckIAAIBKfHlyQgAAwBK9e3JCAAAA2/19ckIAAECjPoByQgAAgGt/gnJCAADAM8CEckIAAAD8AIdyQgAAQMRBiXJCAACAjIKLckIAAMBUw41yQgAAAB0EkHJCAABA5USSckIAAICthZRyQgAAwHXGlnJCAAAAPgeZckIAAEAGSJtyQgAAgM6InXJCAADAlsmfckIAAABfCqJyQgAAQCdLpHJCAACA74umckIAAMC3zKhyQgAAAIANq3JCAABASE6tckIAAIAQj69yQgAAwNjPsXJCAAAAoRC0ckIAAEBpUbZyQgAAgDGSuHJCAADA+dK6ckIAAADCE71yQgAAQIpUv3JCAACAUpXBckIAAMAa1sNyQgAAAOMWxnJCAABAq1fIckIAAIBzmMpyQgAAwDvZzHJCAAAABBrPckIAAEDMWtFyQgAAgJSb03JCAADAXNzVckIAAAAlHdhyQgAAQO1d2nJCAACAtZ7cckIAAMB9395yQgAAAEYg4XJCAABADmHjckIAAIDWoeVyQgAAwJ7i53JCAAAAZyPqckIAAEAvZOxyQgAAgPek7nJCAADAv+XwckIAAACIJvNyQgAAQFBn9XJCAACAGKj3ckIAAMDg6PlyQgAAAKkp/HJCAABAcWr+ckIAAIA5qwBzQgAAwAHsAnNCAAAAyiwFc0IAAECSbQdzQgAAgFquCXNCAADAIu8Lc0IAAADrLw5zQgAAQLNwEHNCAACAe7ESc0IAAMBD8hRzQgAAAAwzF3NCAABA1HMZc0IAAICctBtzQgAAwGT1HXNCAAAALTYgc0IAAED1diJzQgAAgL23JHNCAADAhfgmc0IAAABOOSlzQgAAQBZ6K3NCAACA3rotc0IAAMCm+y9zQgAAAG88MnNCAABAN300c0IAAID/vTZzQgAAwMf+OHNCAAAAkD87c0IAAEBYgD1zQgAAgCDBP3NCAADA6AFCc0IAAACxQkRzQgAAQHmDRnNCAACAQcRIc0IAAMAJBUtzQgAAANJFTXNCAABAmoZPc0IAAIBix1FzQgAAwCoIVHNCAAAA80hWc0IAAEC7iVhzQgAAgIPKWnNCAADASwtdc0IAAAAUTF9zQgAAQNyMYXNCAACApM1jc0IAAMBsDmZzQgAAADVPaHNCAABA/Y9qc0IAAIDF0GxzQgAAwI0Rb3NCAAAAVlJxc0IAAEAek3NzQgAAgObTdXNCAADArhR4c0IAAAB3VXpzQgAAQD+WfHNCAACAB9d+c0IAAMDPF4FzQgAAAJhYg3NCAABAYJmFc0IAAIAo2odzQgAAwPAainNCAAAAuVuMc0IAAECBnI5zQgAAgEndkHNCAADAER6Tc0IAAADaXpVzQgAAQKKfl3NCAACAauCZc0IAAMAyIZxzQgAAAPthnnNCAABAw6Kgc0IAAICL46JzQgAAwFMkpXNCAAAAHGWnc0IAAEDkpalzQg==\",\"dtype\":\"float64\",\"shape\":[143]},\"Weekly_Sales\":{\"__ndarray__\":\"PQrXo7DgvkCQwvUojFbAQAAAAACgbcBAzczMzMxDvECamZmZ+SW+QMzMzMyMab1AmpmZmZnrvkB7FK5HIbG8QLgehetx6cBA7FG4HkVGv0CkcD0Kl1K9QBSuR+H63L1AZmZmZubYvEDhehSuh4nAQML1KFzvVr9AcT0K1yOnvkDNzMzMTDnAQHsUrkcBysBAexSuR+Gyv0B7FK5Hob+/QDMzMzNzg79A16NwPUq1v0Bcj8L1qLu+QAAAAACAlL5ApHA9CpeXvUD2KFyPwk2+QHE9CtfjlcBA16NwPZobwEC4HoXrEUXAQIXrUbjep79AUrgehQuEvkCF61G43uu8QBSuR+H6IrxAuB6F6zFdu0AK16NwvRy7QKRwPQrXP71AKVyPwjUMvEBI4XoUjjm8QD0K16MQ97xAPgrXozAGvkDC9Shcbxe+QArXo3C9H75A4noUrjcsxECamZmZWRm/QOxRuB7VEcJAAAAAAGC7xEA0MzMzIwTLQFyPwvUoPrlACtejcP3wuEApXI/CtUm3QD4K16NQ+7dAFK5H4fpTuEAK16NwHZC8QJqZmZl5v75Aw/UoXC+QwEAUrkfheke8QFyPwvUo0b1AKVyPwjXAu0DsUbgeRZq9QHA9CteDKLxA9ihcjwKIu0BxPQrXI968QM3MzMyMAL1ArkfhetTnv0Bcj8L1yA29QOxRuB4luL1AmpmZmZkWvUAK16NwvZa8QKRwPQqXp71A9ihcj4JCv0AAAAAAYOS+QLgehetRPb5AkML1KBxwvUAAAAAAAEq+QBSuR+H6pL1AKVyPwvVRvECF61G4/tC8QIXrUbjeKLxAuB6F6xHdvkAzMzMzc2a9QK5H4XqUrb1A9ihcj4K3vUAAAAAAAKK8QML1KFxvQ71AAAAAAOBTu0AK16Nw/WC7QKRwPQpXfbpASOF6FK40vUAzMzMzM767QML1KFyv3LxAZmZmZqbvvECuR+F69Om9QHE9CtdjdL1AUrgehevsvEDhehSuJ9DCQM3MzMxs6L1ApHA9CmcOwUAzMzMzMzbDQB+F61HYxshAj8L1KByKvUCF61G4Xrq5QJDC9SjcGrdAw/UoXE8CuECkcD0K15m2QGZmZmamy7pA16NwPQobvkDsUbgehVO/QI/C9ShcwLxAFK5H4RquvECuR+F69CK9QFK4HoWrSr5AMzMzMzM/vUCamZmZ2QS9QFK4HoULrcBAexSuRyFTvUApXI/Cdbi7QHA9CtdDJ7tA4XoUrsf2vEBSuB6Fa229QArXo3D9+L1AMzMzMzN5vkAK16NwPQy+QML1KFxvn75AUrgehWsPvkAK16NwvWa9QM3MzMzMTL1ApHA9ChdqvkDMzMzMTJa8QAAAAABg7bxAZmZmZmYcvEC4HoXrUUe9QAAAAACAhb1AFK5H4brQvUApXI/CNQi+QJDC9ShciL5AAAAAAOCrvUAAAAAAALO6QKRwPQoXYrtAhutRuB4tu0AehetR2D69QClcj8L1nLxAMzMzM7POvEAUrkfhOnu9QA==\",\"dtype\":\"float64\",\"shape\":[143]},\"index\":[0,1,2,3,4,5,6,7,8,9,10,11,12,13,14,15,16,17,18,19,20,21,22,23,24,25,26,27,28,29,30,31,32,33,34,35,36,37,38,39,40,41,42,43,44,45,46,47,48,49,50,51,52,53,54,55,56,57,58,59,60,61,62,63,64,65,66,67,68,69,70,71,72,73,74,75,76,77,78,79,80,81,82,83,84,85,86,87,88,89,90,91,92,93,94,95,96,97,98,99,100,101,102,103,104,105,106,107,108,109,110,111,112,113,114,115,116,117,118,119,120,121,122,123,124,125,126,127,128,129,130,131,132,133,134,135,136,137,138,139,140,141,142],\"week_color\":[\"#581845\",\"#900C3F\",\"#C70039\",\"#FF5733\",\"#581845\",\"#900C3F\",\"#C70039\",\"#FF5733\",\"#581845\",\"#900C3F\",\"#C70039\",\"#FF5733\",\"#FFC300\",\"#581845\",\"#900C3F\",\"#C70039\",\"#FF5733\",\"#581845\",\"#900C3F\",\"#C70039\",\"#FF5733\",\"#581845\",\"#900C3F\",\"#C70039\",\"#FF5733\",\"#FFC300\",\"#581845\",\"#900C3F\",\"#C70039\",\"#FF5733\",\"#581845\",\"#900C3F\",\"#C70039\",\"#FF5733\",\"#581845\",\"#900C3F\",\"#C70039\",\"#FF5733\",\"#FFC300\",\"#581845\",\"#900C3F\",\"#C70039\",\"#FF5733\",\"#581845\",\"#900C3F\",\"#C70039\",\"#FF5733\",\"#FFC300\",\"#581845\",\"#900C3F\",\"#C70039\",\"#FF5733\",\"#581845\",\"#900C3F\",\"#C70039\",\"#FF5733\",\"#581845\",\"#900C3F\",\"#C70039\",\"#FF5733\",\"#581845\",\"#900C3F\",\"#C70039\",\"#FF5733\",\"#FFC300\",\"#581845\",\"#900C3F\",\"#C70039\",\"#FF5733\",\"#581845\",\"#900C3F\",\"#C70039\",\"#FF5733\",\"#581845\",\"#900C3F\",\"#C70039\",\"#FF5733\",\"#FFC300\",\"#581845\",\"#900C3F\",\"#C70039\",\"#FF5733\",\"#581845\",\"#900C3F\",\"#C70039\",\"#FF5733\",\"#FFC300\",\"#581845\",\"#900C3F\",\"#C70039\",\"#FF5733\",\"#581845\",\"#900C3F\",\"#C70039\",\"#FF5733\",\"#581845\",\"#900C3F\",\"#C70039\",\"#FF5733\",\"#FFC300\",\"#581845\",\"#900C3F\",\"#C70039\",\"#FF5733\",\"#581845\",\"#900C3F\",\"#C70039\",\"#FF5733\",\"#581845\",\"#900C3F\",\"#C70039\",\"#FF5733\",\"#FFC300\",\"#581845\",\"#900C3F\",\"#C70039\",\"#FF5733\",\"#581845\",\"#900C3F\",\"#C70039\",\"#FF5733\",\"#581845\",\"#900C3F\",\"#C70039\",\"#FF5733\",\"#FFC300\",\"#581845\",\"#900C3F\",\"#C70039\",\"#FF5733\",\"#581845\",\"#900C3F\",\"#C70039\",\"#FF5733\",\"#FFC300\",\"#581845\",\"#900C3F\",\"#C70039\",\"#FF5733\",\"#581845\",\"#900C3F\",\"#C70039\",\"#FF5733\"],\"week_n\":[1,2,3,4,1,2,3,4,1,2,3,4,5,1,2,3,4,1,2,3,4,1,2,3,4,5,1,2,3,4,1,2,3,4,1,2,3,4,5,1,2,3,4,1,2,3,4,5,1,2,3,4,1,2,3,4,1,2,3,4,1,2,3,4,5,1,2,3,4,1,2,3,4,1,2,3,4,5,1,2,3,4,1,2,3,4,5,1,2,3,4,1,2,3,4,1,2,3,4,5,1,2,3,4,1,2,3,4,1,2,3,4,5,1,2,3,4,1,2,3,4,1,2,3,4,5,1,2,3,4,1,2,3,4,5,1,2,3,4,1,2,3,4]},\"selected\":{\"id\":\"1075\",\"type\":\"Selection\"},\"selection_policy\":{\"id\":\"1076\",\"type\":\"UnionRenderers\"}},\"id\":\"1036\",\"type\":\"ColumnDataSource\"},{\"attributes\":{\"callback\":null,\"data\":{\"Date\":{\"__ndarray__\":\"AAAAmfdrckIAAIAQj69yQgAAQKtXyHJCAACAlJvTckIAAABGIOFyQgAAgL23JHNCAABAWIA9c0IAAIBBxEhzQgAAAPNIVnNCAACAauCZc0I=\",\"dtype\":\"float64\",\"shape\":[10]},\"Weekly_Sales\":{\"__ndarray__\":\"kML1KIxWwECF61G43uu8QOJ6FK43LMRAXI/C9Sg+uUCamZmZeb++QML1KFxvQ71A4XoUrifQwkCPwvUoHIq9QNejcD0KG75AAAAAAOCrvUA=\",\"dtype\":\"float64\",\"shape\":[10]}},\"selected\":{\"id\":\"1077\",\"type\":\"Selection\"},\"selection_policy\":{\"id\":\"1078\",\"type\":\"UnionRenderers\"}},\"id\":\"1065\",\"type\":\"ColumnDataSource\"},{\"attributes\":{},\"id\":\"1078\",\"type\":\"UnionRenderers\"},{\"attributes\":{\"days\":[1,4,7,10,13,16,19,22,25,28]},\"id\":\"1050\",\"type\":\"DaysTicker\"},{\"attributes\":{\"callback\":null},\"id\":\"1007\",\"type\":\"DataRange1d\"},{\"attributes\":{\"fill_alpha\":{\"value\":0.9},\"fill_color\":{\"field\":\"week_color\"},\"line_alpha\":{\"value\":0.9},\"line_color\":{\"field\":\"week_color\"},\"x\":{\"field\":\"Date\"},\"y\":{\"field\":\"Weekly_Sales\"}},\"id\":\"1038\",\"type\":\"Circle\"},{\"attributes\":{\"days\":[1,15]},\"id\":\"1052\",\"type\":\"DaysTicker\"},{\"attributes\":{},\"id\":\"1044\",\"type\":\"BasicTickFormatter\"},{\"attributes\":{},\"id\":\"1027\",\"type\":\"SaveTool\"},{\"attributes\":{},\"id\":\"1023\",\"type\":\"PanTool\"},{\"attributes\":{\"months\":[0,1,2,3,4,5,6,7,8,9,10,11]},\"id\":\"1053\",\"type\":\"MonthsTicker\"},{\"attributes\":{\"data_source\":{\"id\":\"1036\",\"type\":\"ColumnDataSource\"},\"glyph\":{\"id\":\"1038\",\"type\":\"Circle\"},\"hover_glyph\":null,\"muted_glyph\":null,\"nonselection_glyph\":{\"id\":\"1039\",\"type\":\"Circle\"},\"selection_glyph\":null,\"view\":{\"id\":\"1041\",\"type\":\"CDSView\"}},\"id\":\"1040\",\"type\":\"GlyphRenderer\"},{\"attributes\":{},\"id\":\"1077\",\"type\":\"Selection\"},{\"attributes\":{\"label\":{\"field\":\"week_n\"},\"renderers\":[{\"id\":\"1040\",\"type\":\"GlyphRenderer\"}]},\"id\":\"1059\",\"type\":\"LegendItem\"},{\"attributes\":{\"months\":[0,2,4,6,8,10]},\"id\":\"1054\",\"type\":\"MonthsTicker\"},{\"attributes\":{\"fill_alpha\":{\"value\":0.1},\"fill_color\":{\"value\":\"#1f77b4\"},\"line_alpha\":{\"value\":0.1},\"line_color\":{\"value\":\"#1f77b4\"},\"x\":{\"field\":\"Date\"},\"y\":{\"field\":\"Weekly_Sales\"}},\"id\":\"1039\",\"type\":\"Circle\"},{\"attributes\":{\"line_alpha\":0.3,\"line_color\":\"gray\",\"x\":{\"field\":\"Date\"},\"y\":{\"field\":\"Weekly_Sales\"}},\"id\":\"1061\",\"type\":\"Line\"},{\"attributes\":{},\"id\":\"1026\",\"type\":\"ResetTool\"},{\"attributes\":{\"months\":[0,4,8]},\"id\":\"1055\",\"type\":\"MonthsTicker\"},{\"attributes\":{\"formatter\":{\"id\":\"1044\",\"type\":\"BasicTickFormatter\"},\"ticker\":{\"id\":\"1019\",\"type\":\"BasicTicker\"}},\"id\":\"1018\",\"type\":\"LinearAxis\"},{\"attributes\":{\"source\":{\"id\":\"1036\",\"type\":\"ColumnDataSource\"}},\"id\":\"1064\",\"type\":\"CDSView\"},{\"attributes\":{},\"id\":\"1075\",\"type\":\"Selection\"},{\"attributes\":{},\"id\":\"1076\",\"type\":\"UnionRenderers\"},{\"attributes\":{\"formatter\":{\"id\":\"1034\",\"type\":\"DatetimeTickFormatter\"},\"ticker\":{\"id\":\"1014\",\"type\":\"DatetimeTicker\"}},\"id\":\"1013\",\"type\":\"DatetimeAxis\"},{\"attributes\":{\"dimensions\":\"height\"},\"id\":\"1024\",\"type\":\"WheelZoomTool\"},{\"attributes\":{\"num_minor_ticks\":5,\"tickers\":[{\"id\":\"1046\",\"type\":\"AdaptiveTicker\"},{\"id\":\"1047\",\"type\":\"AdaptiveTicker\"},{\"id\":\"1048\",\"type\":\"AdaptiveTicker\"},{\"id\":\"1049\",\"type\":\"DaysTicker\"},{\"id\":\"1050\",\"type\":\"DaysTicker\"},{\"id\":\"1051\",\"type\":\"DaysTicker\"},{\"id\":\"1052\",\"type\":\"DaysTicker\"},{\"id\":\"1053\",\"type\":\"MonthsTicker\"},{\"id\":\"1054\",\"type\":\"MonthsTicker\"},{\"id\":\"1055\",\"type\":\"MonthsTicker\"},{\"id\":\"1056\",\"type\":\"MonthsTicker\"},{\"id\":\"1057\",\"type\":\"YearsTicker\"}]},\"id\":\"1014\",\"type\":\"DatetimeTicker\"},{\"attributes\":{\"mantissas\":[1,2,5],\"max_interval\":500.0,\"num_minor_ticks\":0},\"id\":\"1046\",\"type\":\"AdaptiveTicker\"},{\"attributes\":{\"months\":[0,6]},\"id\":\"1056\",\"type\":\"MonthsTicker\"},{\"attributes\":{\"callback\":null},\"id\":\"1005\",\"type\":\"DataRange1d\"},{\"attributes\":{},\"id\":\"1057\",\"type\":\"YearsTicker\"},{\"attributes\":{\"ticker\":{\"id\":\"1014\",\"type\":\"DatetimeTicker\"}},\"id\":\"1017\",\"type\":\"Grid\"},{\"attributes\":{\"source\":{\"id\":\"1036\",\"type\":\"ColumnDataSource\"}},\"id\":\"1041\",\"type\":\"CDSView\"},{\"attributes\":{\"fill_alpha\":{\"value\":0.9},\"fill_color\":{\"value\":null},\"line_alpha\":{\"value\":0.9},\"line_color\":{\"value\":\"cyan\"},\"line_width\":{\"value\":2},\"size\":{\"units\":\"screen\",\"value\":12},\"x\":{\"field\":\"Date\"},\"y\":{\"field\":\"Weekly_Sales\"}},\"id\":\"1067\",\"type\":\"Diamond\"},{\"attributes\":{},\"id\":\"1011\",\"type\":\"LinearScale\"},{\"attributes\":{\"items\":[{\"id\":\"1059\",\"type\":\"LegendItem\"}],\"title\":\"week_n sales\"},\"id\":\"1058\",\"type\":\"Legend\"},{\"attributes\":{\"line_alpha\":0.1,\"line_color\":\"#1f77b4\",\"x\":{\"field\":\"Date\"},\"y\":{\"field\":\"Weekly_Sales\"}},\"id\":\"1062\",\"type\":\"Line\"},{\"attributes\":{\"dimension\":1,\"ticker\":{\"id\":\"1019\",\"type\":\"BasicTicker\"}},\"id\":\"1022\",\"type\":\"Grid\"},{\"attributes\":{\"data_source\":{\"id\":\"1036\",\"type\":\"ColumnDataSource\"},\"glyph\":{\"id\":\"1061\",\"type\":\"Line\"},\"hover_glyph\":null,\"muted_glyph\":null,\"nonselection_glyph\":{\"id\":\"1062\",\"type\":\"Line\"},\"selection_glyph\":null,\"view\":{\"id\":\"1064\",\"type\":\"CDSView\"}},\"id\":\"1063\",\"type\":\"GlyphRenderer\"}],\"root_ids\":[\"1002\"]},\"title\":\"Bokeh Application\",\"version\":\"1.3.4\"}};\n",
       "  var render_items = [{\"docid\":\"80954a12-970a-44b6-87bb-0c7fcb85be54\",\"roots\":{\"1002\":\"211b6b30-230e-4a85-a5ce-76106b5dfb14\"}}];\n",
       "  root.Bokeh.embed.embed_items_notebook(docs_json, render_items);\n",
       "\n",
       "  }\n",
       "  if (root.Bokeh !== undefined) {\n",
       "    embed_document(root);\n",
       "  } else {\n",
       "    var attempts = 0;\n",
       "    var timer = setInterval(function(root) {\n",
       "      if (root.Bokeh !== undefined) {\n",
       "        embed_document(root);\n",
       "        clearInterval(timer);\n",
       "      }\n",
       "      attempts++;\n",
       "      if (attempts > 100) {\n",
       "        console.log(\"Bokeh: ERROR: Unable to run BokehJS code because BokehJS library is missing\");\n",
       "        clearInterval(timer);\n",
       "      }\n",
       "    }, 10, root)\n",
       "  }\n",
       "})(window);"
      ],
      "application/vnd.bokehjs_exec.v0+json": ""
     },
     "metadata": {
      "application/vnd.bokehjs_exec.v0+json": {
       "id": "1002"
      }
     },
     "output_type": "display_data"
    }
   ],
   "source": [
    "p = plot.time_series_count_painted(train, title=\"Weekly_Sales vs Datetime\", height=300, width=900)\n",
    "p = plot.time_series_count_painted_holidays(train, p=p, color=\"cyan\", alpha=0.9)\n",
    "show(p)"
   ]
  },
  {
   "cell_type": "code",
   "execution_count": 11,
   "metadata": {},
   "outputs": [
    {
     "data": {
      "text/html": [
       "\n",
       "\n",
       "\n",
       "\n",
       "\n",
       "\n",
       "  <div class=\"bk-root\" id=\"c0f917bb-cbba-4460-8571-cf1b46091472\" data-root-id=\"1211\"></div>\n"
      ]
     },
     "metadata": {},
     "output_type": "display_data"
    },
    {
     "data": {
      "application/javascript": [
       "(function(root) {\n",
       "  function embed_document(root) {\n",
       "    \n",
       "  var docs_json = {\"d929af48-d102-41d3-8b49-c9288ba150f4\":{\"roots\":{\"references\":[{\"attributes\":{\"below\":[{\"id\":\"1222\",\"type\":\"DatetimeAxis\"}],\"center\":[{\"id\":\"1226\",\"type\":\"Grid\"},{\"id\":\"1231\",\"type\":\"Grid\"},{\"id\":\"1266\",\"type\":\"Legend\"}],\"left\":[{\"id\":\"1227\",\"type\":\"LinearAxis\"}],\"plot_height\":300,\"plot_width\":900,\"renderers\":[{\"id\":\"1248\",\"type\":\"GlyphRenderer\"},{\"id\":\"1271\",\"type\":\"GlyphRenderer\"},{\"id\":\"1277\",\"type\":\"GlyphRenderer\"}],\"title\":{\"id\":\"1212\",\"type\":\"Title\"},\"toolbar\":{\"id\":\"1237\",\"type\":\"Toolbar\"},\"x_range\":{\"id\":\"1214\",\"type\":\"DataRange1d\"},\"x_scale\":{\"id\":\"1218\",\"type\":\"LinearScale\"},\"y_range\":{\"id\":\"1216\",\"type\":\"DataRange1d\"},\"y_scale\":{\"id\":\"1220\",\"type\":\"LinearScale\"}},\"id\":\"1211\",\"subtype\":\"Figure\",\"type\":\"Plot\"},{\"attributes\":{\"base\":60,\"mantissas\":[1,2,5,10,15,20,30],\"max_interval\":1800000.0,\"min_interval\":1000.0,\"num_minor_ticks\":0},\"id\":\"1255\",\"type\":\"AdaptiveTicker\"},{\"attributes\":{\"data_source\":{\"id\":\"1245\",\"type\":\"ColumnDataSource\"},\"glyph\":{\"id\":\"1246\",\"type\":\"Circle\"},\"hover_glyph\":null,\"muted_glyph\":null,\"nonselection_glyph\":{\"id\":\"1247\",\"type\":\"Circle\"},\"selection_glyph\":null,\"view\":{\"id\":\"1249\",\"type\":\"CDSView\"}},\"id\":\"1248\",\"type\":\"GlyphRenderer\"},{\"attributes\":{\"data_source\":{\"id\":\"1268\",\"type\":\"ColumnDataSource\"},\"glyph\":{\"id\":\"1269\",\"type\":\"Line\"},\"hover_glyph\":null,\"muted_glyph\":null,\"nonselection_glyph\":{\"id\":\"1270\",\"type\":\"Line\"},\"selection_glyph\":null,\"view\":{\"id\":\"1272\",\"type\":\"CDSView\"}},\"id\":\"1271\",\"type\":\"GlyphRenderer\"},{\"attributes\":{},\"id\":\"1218\",\"type\":\"LinearScale\"},{\"attributes\":{},\"id\":\"1235\",\"type\":\"ResetTool\"},{\"attributes\":{\"fill_alpha\":{\"value\":0.8},\"fill_color\":{\"value\":\"navy\"},\"line_alpha\":{\"value\":0.8},\"line_color\":{\"value\":\"navy\"},\"size\":{\"units\":\"screen\",\"value\":3},\"x\":{\"field\":\"x\"},\"y\":{\"field\":\"y\"}},\"id\":\"1246\",\"type\":\"Circle\"},{\"attributes\":{\"base\":24,\"mantissas\":[1,2,4,6,8,12],\"max_interval\":43200000.0,\"min_interval\":3600000.0,\"num_minor_ticks\":0},\"id\":\"1256\",\"type\":\"AdaptiveTicker\"},{\"attributes\":{\"line_alpha\":0.1,\"line_color\":\"#1f77b4\",\"x\":{\"field\":\"x\"},\"y\":{\"field\":\"y\"}},\"id\":\"1270\",\"type\":\"Line\"},{\"attributes\":{},\"id\":\"1236\",\"type\":\"SaveTool\"},{\"attributes\":{\"fill_alpha\":{\"value\":0.9},\"fill_color\":{\"value\":null},\"line_alpha\":{\"value\":0.9},\"line_color\":{\"value\":\"cyan\"},\"line_width\":{\"value\":2},\"size\":{\"units\":\"screen\",\"value\":12},\"x\":{\"field\":\"Date\"},\"y\":{\"field\":\"Weekly_Sales\"}},\"id\":\"1275\",\"type\":\"Diamond\"},{\"attributes\":{\"callback\":null},\"id\":\"1214\",\"type\":\"DataRange1d\"},{\"attributes\":{\"callback\":null,\"data\":{\"x\":{\"__ndarray__\":\"AADA0LZpckIAAACZ92tyQgAAQGE4bnJCAACAKXlwckIAAMDxuXJyQgAAALr6dHJCAABAgjt3ckIAAIBKfHlyQgAAwBK9e3JCAAAA2/19ckIAAECjPoByQgAAgGt/gnJCAADAM8CEckIAAAD8AIdyQgAAQMRBiXJCAACAjIKLckIAAMBUw41yQgAAAB0EkHJCAABA5USSckIAAICthZRyQgAAwHXGlnJCAAAAPgeZckIAAEAGSJtyQgAAgM6InXJCAADAlsmfckIAAABfCqJyQgAAQCdLpHJCAACA74umckIAAMC3zKhyQgAAAIANq3JCAABASE6tckIAAIAQj69yQgAAwNjPsXJCAAAAoRC0ckIAAEBpUbZyQgAAgDGSuHJCAADA+dK6ckIAAADCE71yQgAAQIpUv3JCAACAUpXBckIAAMAa1sNyQgAAAOMWxnJCAABAq1fIckIAAIBzmMpyQgAAwDvZzHJCAAAABBrPckIAAEDMWtFyQgAAgJSb03JCAADAXNzVckIAAAAlHdhyQgAAQO1d2nJCAACAtZ7cckIAAMB9395yQgAAAEYg4XJCAABADmHjckIAAIDWoeVyQgAAwJ7i53JCAAAAZyPqckIAAEAvZOxyQgAAgPek7nJCAADAv+XwckIAAACIJvNyQgAAQFBn9XJCAACAGKj3ckIAAMDg6PlyQgAAAKkp/HJCAABAcWr+ckIAAIA5qwBzQgAAwAHsAnNCAAAAyiwFc0IAAECSbQdzQgAAgFquCXNCAADAIu8Lc0IAAADrLw5zQgAAQLNwEHNCAACAe7ESc0IAAMBD8hRzQgAAAAwzF3NCAABA1HMZc0IAAICctBtzQgAAwGT1HXNCAAAALTYgc0IAAED1diJzQgAAgL23JHNCAADAhfgmc0IAAABOOSlzQgAAQBZ6K3NCAACA3rotc0IAAMCm+y9zQgAAAG88MnNCAABAN300c0IAAID/vTZzQgAAwMf+OHNCAAAAkD87c0IAAEBYgD1zQgAAgCDBP3NCAADA6AFCc0IAAACxQkRzQgAAQHmDRnNCAACAQcRIc0IAAMAJBUtzQgAAANJFTXNCAABAmoZPc0IAAIBix1FzQgAAwCoIVHNCAAAA80hWc0IAAEC7iVhzQgAAgIPKWnNCAADASwtdc0IAAAAUTF9zQgAAQNyMYXNCAACApM1jc0IAAMBsDmZzQgAAADVPaHNCAABA/Y9qc0IAAIDF0GxzQgAAwI0Rb3NCAAAAVlJxc0IAAEAek3NzQgAAgObTdXNCAADArhR4c0IAAAB3VXpzQgAAQD+WfHNCAACAB9d+c0IAAMDPF4FzQgAAAJhYg3NCAABAYJmFc0IAAIAo2odzQgAAwPAainNCAAAAuVuMc0IAAECBnI5zQgAAgEndkHNCAADAER6Tc0IAAADaXpVzQgAAQKKfl3NCAACAauCZc0IAAMAyIZxzQgAAAPthnnNCAABAw6Kgc0IAAICL46JzQgAAwFMkpXNCAAAAHGWnc0IAAEDkpalzQg==\",\"dtype\":\"float64\",\"shape\":[143]},\"y\":{\"__ndarray__\":\"PQrXo7DgvkCQwvUojFbAQAAAAACgbcBAzczMzMxDvECamZmZ+SW+QMzMzMyMab1AmpmZmZnrvkB7FK5HIbG8QLgehetx6cBA7FG4HkVGv0CkcD0Kl1K9QBSuR+H63L1AZmZmZubYvEDhehSuh4nAQML1KFzvVr9AcT0K1yOnvkDNzMzMTDnAQHsUrkcBysBAexSuR+Gyv0B7FK5Hob+/QDMzMzNzg79A16NwPUq1v0Bcj8L1qLu+QAAAAACAlL5ApHA9CpeXvUD2KFyPwk2+QHE9CtfjlcBA16NwPZobwEC4HoXrEUXAQIXrUbjep79AUrgehQuEvkCF61G43uu8QBSuR+H6IrxAuB6F6zFdu0AK16NwvRy7QKRwPQrXP71AKVyPwjUMvEBI4XoUjjm8QD0K16MQ97xAPgrXozAGvkDC9Shcbxe+QArXo3C9H75A4noUrjcsxECamZmZWRm/QOxRuB7VEcJAAAAAAGC7xEA0MzMzIwTLQFyPwvUoPrlACtejcP3wuEApXI/CtUm3QD4K16NQ+7dAFK5H4fpTuEAK16NwHZC8QJqZmZl5v75Aw/UoXC+QwEAUrkfheke8QFyPwvUo0b1AKVyPwjXAu0DsUbgeRZq9QHA9CteDKLxA9ihcjwKIu0BxPQrXI968QM3MzMyMAL1ArkfhetTnv0Bcj8L1yA29QOxRuB4luL1AmpmZmZkWvUAK16NwvZa8QKRwPQqXp71A9ihcj4JCv0AAAAAAYOS+QLgehetRPb5AkML1KBxwvUAAAAAAAEq+QBSuR+H6pL1AKVyPwvVRvECF61G4/tC8QIXrUbjeKLxAuB6F6xHdvkAzMzMzc2a9QK5H4XqUrb1A9ihcj4K3vUAAAAAAAKK8QML1KFxvQ71AAAAAAOBTu0AK16Nw/WC7QKRwPQpXfbpASOF6FK40vUAzMzMzM767QML1KFyv3LxAZmZmZqbvvECuR+F69Om9QHE9CtdjdL1AUrgehevsvEDhehSuJ9DCQM3MzMxs6L1ApHA9CmcOwUAzMzMzMzbDQB+F61HYxshAj8L1KByKvUCF61G4Xrq5QJDC9SjcGrdAw/UoXE8CuECkcD0K15m2QGZmZmamy7pA16NwPQobvkDsUbgehVO/QI/C9ShcwLxAFK5H4RquvECuR+F69CK9QFK4HoWrSr5AMzMzMzM/vUCamZmZ2QS9QFK4HoULrcBAexSuRyFTvUApXI/Cdbi7QHA9CtdDJ7tA4XoUrsf2vEBSuB6Fa229QArXo3D9+L1AMzMzMzN5vkAK16NwPQy+QML1KFxvn75AUrgehWsPvkAK16NwvWa9QM3MzMzMTL1ApHA9ChdqvkDMzMzMTJa8QAAAAABg7bxAZmZmZmYcvEC4HoXrUUe9QAAAAACAhb1AFK5H4brQvUApXI/CNQi+QJDC9ShciL5AAAAAAOCrvUAAAAAAALO6QKRwPQoXYrtAhutRuB4tu0AehetR2D69QClcj8L1nLxAMzMzM7POvEAUrkfhOnu9QA==\",\"dtype\":\"float64\",\"shape\":[143]}},\"selected\":{\"id\":\"1303\",\"type\":\"Selection\"},\"selection_policy\":{\"id\":\"1304\",\"type\":\"UnionRenderers\"}},\"id\":\"1245\",\"type\":\"ColumnDataSource\"},{\"attributes\":{\"source\":{\"id\":\"1268\",\"type\":\"ColumnDataSource\"}},\"id\":\"1272\",\"type\":\"CDSView\"},{\"attributes\":{\"callback\":null},\"id\":\"1216\",\"type\":\"DataRange1d\"},{\"attributes\":{\"days\":[1,8,15,22]},\"id\":\"1259\",\"type\":\"DaysTicker\"},{\"attributes\":{},\"id\":\"1220\",\"type\":\"LinearScale\"},{\"attributes\":{},\"id\":\"1305\",\"type\":\"Selection\"},{\"attributes\":{\"days\":[1,4,7,10,13,16,19,22,25,28]},\"id\":\"1258\",\"type\":\"DaysTicker\"},{\"attributes\":{\"formatter\":{\"id\":\"1243\",\"type\":\"DatetimeTickFormatter\"},\"ticker\":{\"id\":\"1223\",\"type\":\"DatetimeTicker\"}},\"id\":\"1222\",\"type\":\"DatetimeAxis\"},{\"attributes\":{\"dimensions\":\"width\"},\"id\":\"1234\",\"type\":\"WheelZoomTool\"},{\"attributes\":{\"dimension\":1,\"ticker\":{\"id\":\"1228\",\"type\":\"BasicTicker\"}},\"id\":\"1231\",\"type\":\"Grid\"},{\"attributes\":{\"label\":{\"value\":\"All depts median\"},\"renderers\":[{\"id\":\"1248\",\"type\":\"GlyphRenderer\"}]},\"id\":\"1267\",\"type\":\"LegendItem\"},{\"attributes\":{\"fill_alpha\":{\"value\":0.1},\"fill_color\":{\"value\":\"#1f77b4\"},\"line_alpha\":{\"value\":0.1},\"line_color\":{\"value\":\"#1f77b4\"},\"size\":{\"units\":\"screen\",\"value\":3},\"x\":{\"field\":\"x\"},\"y\":{\"field\":\"y\"}},\"id\":\"1247\",\"type\":\"Circle\"},{\"attributes\":{\"num_minor_ticks\":5,\"tickers\":[{\"id\":\"1254\",\"type\":\"AdaptiveTicker\"},{\"id\":\"1255\",\"type\":\"AdaptiveTicker\"},{\"id\":\"1256\",\"type\":\"AdaptiveTicker\"},{\"id\":\"1257\",\"type\":\"DaysTicker\"},{\"id\":\"1258\",\"type\":\"DaysTicker\"},{\"id\":\"1259\",\"type\":\"DaysTicker\"},{\"id\":\"1260\",\"type\":\"DaysTicker\"},{\"id\":\"1261\",\"type\":\"MonthsTicker\"},{\"id\":\"1262\",\"type\":\"MonthsTicker\"},{\"id\":\"1263\",\"type\":\"MonthsTicker\"},{\"id\":\"1264\",\"type\":\"MonthsTicker\"},{\"id\":\"1265\",\"type\":\"YearsTicker\"}]},\"id\":\"1223\",\"type\":\"DatetimeTicker\"},{\"attributes\":{\"source\":{\"id\":\"1245\",\"type\":\"ColumnDataSource\"}},\"id\":\"1249\",\"type\":\"CDSView\"},{\"attributes\":{\"days\":[\"%d/%b\"],\"hours\":[\"%H:%M %d/%b\"],\"months\":[\"%d/%b/%Y\"],\"years\":[\"%d/%b/%Y\"]},\"id\":\"1243\",\"type\":\"DatetimeTickFormatter\"},{\"attributes\":{},\"id\":\"1304\",\"type\":\"UnionRenderers\"},{\"attributes\":{\"ticker\":{\"id\":\"1223\",\"type\":\"DatetimeTicker\"}},\"id\":\"1226\",\"type\":\"Grid\"},{\"attributes\":{},\"id\":\"1252\",\"type\":\"BasicTickFormatter\"},{\"attributes\":{\"fill_alpha\":{\"value\":0.1},\"fill_color\":{\"value\":\"#1f77b4\"},\"line_alpha\":{\"value\":0.1},\"line_color\":{\"value\":\"#1f77b4\"},\"line_width\":{\"value\":2},\"size\":{\"units\":\"screen\",\"value\":12},\"x\":{\"field\":\"Date\"},\"y\":{\"field\":\"Weekly_Sales\"}},\"id\":\"1276\",\"type\":\"Diamond\"},{\"attributes\":{\"items\":[{\"id\":\"1267\",\"type\":\"LegendItem\"}]},\"id\":\"1266\",\"type\":\"Legend\"},{\"attributes\":{},\"id\":\"1228\",\"type\":\"BasicTicker\"},{\"attributes\":{},\"id\":\"1303\",\"type\":\"Selection\"},{\"attributes\":{\"formatter\":{\"id\":\"1252\",\"type\":\"BasicTickFormatter\"},\"ticker\":{\"id\":\"1228\",\"type\":\"BasicTicker\"}},\"id\":\"1227\",\"type\":\"LinearAxis\"},{\"attributes\":{\"callback\":null,\"data\":{\"Date\":{\"__ndarray__\":\"AAAAmfdrckIAAIAQj69yQgAAQKtXyHJCAACAlJvTckIAAABGIOFyQgAAgL23JHNCAABAWIA9c0IAAIBBxEhzQgAAAPNIVnNCAACAauCZc0I=\",\"dtype\":\"float64\",\"shape\":[10]},\"Weekly_Sales\":{\"__ndarray__\":\"kML1KIxWwECF61G43uu8QOJ6FK43LMRAXI/C9Sg+uUCamZmZeb++QML1KFxvQ71A4XoUrifQwkCPwvUoHIq9QNejcD0KG75AAAAAAOCrvUA=\",\"dtype\":\"float64\",\"shape\":[10]}},\"selected\":{\"id\":\"1307\",\"type\":\"Selection\"},\"selection_policy\":{\"id\":\"1308\",\"type\":\"UnionRenderers\"}},\"id\":\"1273\",\"type\":\"ColumnDataSource\"},{\"attributes\":{\"line_alpha\":0.8,\"line_color\":\"navy\",\"x\":{\"field\":\"x\"},\"y\":{\"field\":\"y\"}},\"id\":\"1269\",\"type\":\"Line\"},{\"attributes\":{\"source\":{\"id\":\"1273\",\"type\":\"ColumnDataSource\"}},\"id\":\"1278\",\"type\":\"CDSView\"},{\"attributes\":{\"days\":[1,2,3,4,5,6,7,8,9,10,11,12,13,14,15,16,17,18,19,20,21,22,23,24,25,26,27,28,29,30,31]},\"id\":\"1257\",\"type\":\"DaysTicker\"},{\"attributes\":{\"months\":[0,1,2,3,4,5,6,7,8,9,10,11]},\"id\":\"1261\",\"type\":\"MonthsTicker\"},{\"attributes\":{\"data_source\":{\"id\":\"1273\",\"type\":\"ColumnDataSource\"},\"glyph\":{\"id\":\"1275\",\"type\":\"Diamond\"},\"hover_glyph\":null,\"muted_glyph\":null,\"nonselection_glyph\":{\"id\":\"1276\",\"type\":\"Diamond\"},\"selection_glyph\":null,\"view\":{\"id\":\"1278\",\"type\":\"CDSView\"}},\"id\":\"1277\",\"type\":\"GlyphRenderer\"},{\"attributes\":{\"mantissas\":[1,2,5],\"max_interval\":500.0,\"num_minor_ticks\":0},\"id\":\"1254\",\"type\":\"AdaptiveTicker\"},{\"attributes\":{},\"id\":\"1308\",\"type\":\"UnionRenderers\"},{\"attributes\":{\"months\":[0,2,4,6,8,10]},\"id\":\"1262\",\"type\":\"MonthsTicker\"},{\"attributes\":{\"active_drag\":\"auto\",\"active_inspect\":\"auto\",\"active_multi\":null,\"active_scroll\":\"auto\",\"active_tap\":\"auto\",\"tools\":[{\"id\":\"1232\",\"type\":\"PanTool\"},{\"id\":\"1233\",\"type\":\"WheelZoomTool\"},{\"id\":\"1234\",\"type\":\"WheelZoomTool\"},{\"id\":\"1235\",\"type\":\"ResetTool\"},{\"id\":\"1236\",\"type\":\"SaveTool\"}]},\"id\":\"1237\",\"type\":\"Toolbar\"},{\"attributes\":{\"days\":[1,15]},\"id\":\"1260\",\"type\":\"DaysTicker\"},{\"attributes\":{\"months\":[0,4,8]},\"id\":\"1263\",\"type\":\"MonthsTicker\"},{\"attributes\":{},\"id\":\"1232\",\"type\":\"PanTool\"},{\"attributes\":{},\"id\":\"1306\",\"type\":\"UnionRenderers\"},{\"attributes\":{\"months\":[0,6]},\"id\":\"1264\",\"type\":\"MonthsTicker\"},{\"attributes\":{\"dimensions\":\"height\"},\"id\":\"1233\",\"type\":\"WheelZoomTool\"},{\"attributes\":{},\"id\":\"1307\",\"type\":\"Selection\"},{\"attributes\":{},\"id\":\"1265\",\"type\":\"YearsTicker\"},{\"attributes\":{\"text\":\"Weekly_Sales vs Datetime\"},\"id\":\"1212\",\"type\":\"Title\"},{\"attributes\":{\"callback\":null,\"data\":{\"x\":{\"__ndarray__\":\"AADA0LZpckIAAACZ92tyQgAAQGE4bnJCAACAKXlwckIAAMDxuXJyQgAAALr6dHJCAABAgjt3ckIAAIBKfHlyQgAAwBK9e3JCAAAA2/19ckIAAECjPoByQgAAgGt/gnJCAADAM8CEckIAAAD8AIdyQgAAQMRBiXJCAACAjIKLckIAAMBUw41yQgAAAB0EkHJCAABA5USSckIAAICthZRyQgAAwHXGlnJCAAAAPgeZckIAAEAGSJtyQgAAgM6InXJCAADAlsmfckIAAABfCqJyQgAAQCdLpHJCAACA74umckIAAMC3zKhyQgAAAIANq3JCAABASE6tckIAAIAQj69yQgAAwNjPsXJCAAAAoRC0ckIAAEBpUbZyQgAAgDGSuHJCAADA+dK6ckIAAADCE71yQgAAQIpUv3JCAACAUpXBckIAAMAa1sNyQgAAAOMWxnJCAABAq1fIckIAAIBzmMpyQgAAwDvZzHJCAAAABBrPckIAAEDMWtFyQgAAgJSb03JCAADAXNzVckIAAAAlHdhyQgAAQO1d2nJCAACAtZ7cckIAAMB9395yQgAAAEYg4XJCAABADmHjckIAAIDWoeVyQgAAwJ7i53JCAAAAZyPqckIAAEAvZOxyQgAAgPek7nJCAADAv+XwckIAAACIJvNyQgAAQFBn9XJCAACAGKj3ckIAAMDg6PlyQgAAAKkp/HJCAABAcWr+ckIAAIA5qwBzQgAAwAHsAnNCAAAAyiwFc0IAAECSbQdzQgAAgFquCXNCAADAIu8Lc0IAAADrLw5zQgAAQLNwEHNCAACAe7ESc0IAAMBD8hRzQgAAAAwzF3NCAABA1HMZc0IAAICctBtzQgAAwGT1HXNCAAAALTYgc0IAAED1diJzQgAAgL23JHNCAADAhfgmc0IAAABOOSlzQgAAQBZ6K3NCAACA3rotc0IAAMCm+y9zQgAAAG88MnNCAABAN300c0IAAID/vTZzQgAAwMf+OHNCAAAAkD87c0IAAEBYgD1zQgAAgCDBP3NCAADA6AFCc0IAAACxQkRzQgAAQHmDRnNCAACAQcRIc0IAAMAJBUtzQgAAANJFTXNCAABAmoZPc0IAAIBix1FzQgAAwCoIVHNCAAAA80hWc0IAAEC7iVhzQgAAgIPKWnNCAADASwtdc0IAAAAUTF9zQgAAQNyMYXNCAACApM1jc0IAAMBsDmZzQgAAADVPaHNCAABA/Y9qc0IAAIDF0GxzQgAAwI0Rb3NCAAAAVlJxc0IAAEAek3NzQgAAgObTdXNCAADArhR4c0IAAAB3VXpzQgAAQD+WfHNCAACAB9d+c0IAAMDPF4FzQgAAAJhYg3NCAABAYJmFc0IAAIAo2odzQgAAwPAainNCAAAAuVuMc0IAAECBnI5zQgAAgEndkHNCAADAER6Tc0IAAADaXpVzQgAAQKKfl3NCAACAauCZc0IAAMAyIZxzQgAAAPthnnNCAABAw6Kgc0IAAICL46JzQgAAwFMkpXNCAAAAHGWnc0IAAEDkpalzQg==\",\"dtype\":\"float64\",\"shape\":[143]},\"y\":{\"__ndarray__\":\"PQrXo7DgvkCQwvUojFbAQAAAAACgbcBAzczMzMxDvECamZmZ+SW+QMzMzMyMab1AmpmZmZnrvkB7FK5HIbG8QLgehetx6cBA7FG4HkVGv0CkcD0Kl1K9QBSuR+H63L1AZmZmZubYvEDhehSuh4nAQML1KFzvVr9AcT0K1yOnvkDNzMzMTDnAQHsUrkcBysBAexSuR+Gyv0B7FK5Hob+/QDMzMzNzg79A16NwPUq1v0Bcj8L1qLu+QAAAAACAlL5ApHA9CpeXvUD2KFyPwk2+QHE9CtfjlcBA16NwPZobwEC4HoXrEUXAQIXrUbjep79AUrgehQuEvkCF61G43uu8QBSuR+H6IrxAuB6F6zFdu0AK16NwvRy7QKRwPQrXP71AKVyPwjUMvEBI4XoUjjm8QD0K16MQ97xAPgrXozAGvkDC9Shcbxe+QArXo3C9H75A4noUrjcsxECamZmZWRm/QOxRuB7VEcJAAAAAAGC7xEA0MzMzIwTLQFyPwvUoPrlACtejcP3wuEApXI/CtUm3QD4K16NQ+7dAFK5H4fpTuEAK16NwHZC8QJqZmZl5v75Aw/UoXC+QwEAUrkfheke8QFyPwvUo0b1AKVyPwjXAu0DsUbgeRZq9QHA9CteDKLxA9ihcjwKIu0BxPQrXI968QM3MzMyMAL1ArkfhetTnv0Bcj8L1yA29QOxRuB4luL1AmpmZmZkWvUAK16NwvZa8QKRwPQqXp71A9ihcj4JCv0AAAAAAYOS+QLgehetRPb5AkML1KBxwvUAAAAAAAEq+QBSuR+H6pL1AKVyPwvVRvECF61G4/tC8QIXrUbjeKLxAuB6F6xHdvkAzMzMzc2a9QK5H4XqUrb1A9ihcj4K3vUAAAAAAAKK8QML1KFxvQ71AAAAAAOBTu0AK16Nw/WC7QKRwPQpXfbpASOF6FK40vUAzMzMzM767QML1KFyv3LxAZmZmZqbvvECuR+F69Om9QHE9CtdjdL1AUrgehevsvEDhehSuJ9DCQM3MzMxs6L1ApHA9CmcOwUAzMzMzMzbDQB+F61HYxshAj8L1KByKvUCF61G4Xrq5QJDC9SjcGrdAw/UoXE8CuECkcD0K15m2QGZmZmamy7pA16NwPQobvkDsUbgehVO/QI/C9ShcwLxAFK5H4RquvECuR+F69CK9QFK4HoWrSr5AMzMzMzM/vUCamZmZ2QS9QFK4HoULrcBAexSuRyFTvUApXI/Cdbi7QHA9CtdDJ7tA4XoUrsf2vEBSuB6Fa229QArXo3D9+L1AMzMzMzN5vkAK16NwPQy+QML1KFxvn75AUrgehWsPvkAK16NwvWa9QM3MzMzMTL1ApHA9ChdqvkDMzMzMTJa8QAAAAABg7bxAZmZmZmYcvEC4HoXrUUe9QAAAAACAhb1AFK5H4brQvUApXI/CNQi+QJDC9ShciL5AAAAAAOCrvUAAAAAAALO6QKRwPQoXYrtAhutRuB4tu0AehetR2D69QClcj8L1nLxAMzMzM7POvEAUrkfhOnu9QA==\",\"dtype\":\"float64\",\"shape\":[143]}},\"selected\":{\"id\":\"1305\",\"type\":\"Selection\"},\"selection_policy\":{\"id\":\"1306\",\"type\":\"UnionRenderers\"}},\"id\":\"1268\",\"type\":\"ColumnDataSource\"}],\"root_ids\":[\"1211\"]},\"title\":\"Bokeh Application\",\"version\":\"1.3.4\"}};\n",
       "  var render_items = [{\"docid\":\"d929af48-d102-41d3-8b49-c9288ba150f4\",\"roots\":{\"1211\":\"c0f917bb-cbba-4460-8571-cf1b46091472\"}}];\n",
       "  root.Bokeh.embed.embed_items_notebook(docs_json, render_items);\n",
       "\n",
       "  }\n",
       "  if (root.Bokeh !== undefined) {\n",
       "    embed_document(root);\n",
       "  } else {\n",
       "    var attempts = 0;\n",
       "    var timer = setInterval(function(root) {\n",
       "      if (root.Bokeh !== undefined) {\n",
       "        embed_document(root);\n",
       "        clearInterval(timer);\n",
       "      }\n",
       "      attempts++;\n",
       "      if (attempts > 100) {\n",
       "        console.log(\"Bokeh: ERROR: Unable to run BokehJS code because BokehJS library is missing\");\n",
       "        clearInterval(timer);\n",
       "      }\n",
       "    }, 10, root)\n",
       "  }\n",
       "})(window);"
      ],
      "application/vnd.bokehjs_exec.v0+json": ""
     },
     "metadata": {
      "application/vnd.bokehjs_exec.v0+json": {
       "id": "1211"
      }
     },
     "output_type": "display_data"
    }
   ],
   "source": [
    "grouped_sales = train.groupby(\"Date\")[\"Weekly_Sales\"].median()\n",
    "p = plot.plot_time_series_count(grouped_sales.index, grouped_sales, color=\"navy\", title=\"Weekly_Sales vs Datetime\", legend=\"All depts median\", relative_y_axis=True, height=300)\n",
    "p = plot.time_series_count_painted_holidays(train, p=p, color=\"cyan\", alpha=0.9)\n",
    "show(p)"
   ]
  },
  {
   "cell_type": "code",
   "execution_count": 12,
   "metadata": {},
   "outputs": [
    {
     "data": {
      "text/html": [
       "\n",
       "\n",
       "\n",
       "\n",
       "\n",
       "\n",
       "  <div class=\"bk-root\" id=\"50351739-2de3-4398-8f54-b68d40cda2ed\" data-root-id=\"1211\"></div>\n"
      ]
     },
     "metadata": {},
     "output_type": "display_data"
    },
    {
     "data": {
      "application/javascript": [
       "(function(root) {\n",
       "  function embed_document(root) {\n",
       "    \n",
       "  var docs_json = {\"255ca7b7-89b4-4dfd-bbf4-86cb6eb16a82\":{\"roots\":{\"references\":[{\"attributes\":{\"below\":[{\"id\":\"1222\",\"type\":\"DatetimeAxis\"}],\"center\":[{\"id\":\"1226\",\"type\":\"Grid\"},{\"id\":\"1231\",\"type\":\"Grid\"},{\"id\":\"1266\",\"type\":\"Legend\"}],\"left\":[{\"id\":\"1227\",\"type\":\"LinearAxis\"}],\"plot_height\":300,\"plot_width\":900,\"renderers\":[{\"id\":\"1248\",\"type\":\"GlyphRenderer\"},{\"id\":\"1271\",\"type\":\"GlyphRenderer\"},{\"id\":\"1277\",\"type\":\"GlyphRenderer\"},{\"id\":\"1456\",\"type\":\"GlyphRenderer\"},{\"id\":\"1505\",\"type\":\"GlyphRenderer\"}],\"title\":{\"id\":\"1212\",\"type\":\"Title\"},\"toolbar\":{\"id\":\"1237\",\"type\":\"Toolbar\"},\"x_range\":{\"id\":\"1214\",\"type\":\"DataRange1d\"},\"x_scale\":{\"id\":\"1218\",\"type\":\"LinearScale\"},\"y_range\":{\"id\":\"1216\",\"type\":\"DataRange1d\"},\"y_scale\":{\"id\":\"1220\",\"type\":\"LinearScale\"}},\"id\":\"1211\",\"subtype\":\"Figure\",\"type\":\"Plot\"},{\"attributes\":{\"data_source\":{\"id\":\"1502\",\"type\":\"ColumnDataSource\"},\"glyph\":{\"id\":\"1503\",\"type\":\"Line\"},\"hover_glyph\":null,\"muted_glyph\":null,\"nonselection_glyph\":{\"id\":\"1504\",\"type\":\"Line\"},\"selection_glyph\":null,\"view\":{\"id\":\"1506\",\"type\":\"CDSView\"}},\"id\":\"1505\",\"type\":\"GlyphRenderer\"},{\"attributes\":{\"base\":60,\"mantissas\":[1,2,5,10,15,20,30],\"max_interval\":1800000.0,\"min_interval\":1000.0,\"num_minor_ticks\":0},\"id\":\"1255\",\"type\":\"AdaptiveTicker\"},{\"attributes\":{\"data_source\":{\"id\":\"1245\",\"type\":\"ColumnDataSource\"},\"glyph\":{\"id\":\"1246\",\"type\":\"Circle\"},\"hover_glyph\":null,\"muted_glyph\":null,\"nonselection_glyph\":{\"id\":\"1247\",\"type\":\"Circle\"},\"selection_glyph\":null,\"view\":{\"id\":\"1249\",\"type\":\"CDSView\"}},\"id\":\"1248\",\"type\":\"GlyphRenderer\"},{\"attributes\":{\"data_source\":{\"id\":\"1268\",\"type\":\"ColumnDataSource\"},\"glyph\":{\"id\":\"1269\",\"type\":\"Line\"},\"hover_glyph\":null,\"muted_glyph\":null,\"nonselection_glyph\":{\"id\":\"1270\",\"type\":\"Line\"},\"selection_glyph\":null,\"view\":{\"id\":\"1272\",\"type\":\"CDSView\"}},\"id\":\"1271\",\"type\":\"GlyphRenderer\"},{\"attributes\":{},\"id\":\"1218\",\"type\":\"LinearScale\"},{\"attributes\":{\"line_alpha\":0.8,\"line_color\":\"magenta\",\"x\":{\"field\":\"x\"},\"y\":{\"field\":\"y\"}},\"id\":\"1503\",\"type\":\"Line\"},{\"attributes\":{},\"id\":\"1235\",\"type\":\"ResetTool\"},{\"attributes\":{\"fill_alpha\":{\"value\":0.8},\"fill_color\":{\"value\":\"navy\"},\"line_alpha\":{\"value\":0.8},\"line_color\":{\"value\":\"navy\"},\"size\":{\"units\":\"screen\",\"value\":3},\"x\":{\"field\":\"x\"},\"y\":{\"field\":\"y\"}},\"id\":\"1246\",\"type\":\"Circle\"},{\"attributes\":{\"source\":{\"id\":\"1502\",\"type\":\"ColumnDataSource\"}},\"id\":\"1506\",\"type\":\"CDSView\"},{\"attributes\":{\"base\":24,\"mantissas\":[1,2,4,6,8,12],\"max_interval\":43200000.0,\"min_interval\":3600000.0,\"num_minor_ticks\":0},\"id\":\"1256\",\"type\":\"AdaptiveTicker\"},{\"attributes\":{\"line_alpha\":0.1,\"line_color\":\"#1f77b4\",\"x\":{\"field\":\"x\"},\"y\":{\"field\":\"y\"}},\"id\":\"1270\",\"type\":\"Line\"},{\"attributes\":{},\"id\":\"1236\",\"type\":\"SaveTool\"},{\"attributes\":{\"fill_alpha\":{\"value\":0.9},\"fill_color\":{\"value\":null},\"line_alpha\":{\"value\":0.9},\"line_color\":{\"value\":\"cyan\"},\"line_width\":{\"value\":2},\"size\":{\"units\":\"screen\",\"value\":12},\"x\":{\"field\":\"Date\"},\"y\":{\"field\":\"Weekly_Sales\"}},\"id\":\"1275\",\"type\":\"Diamond\"},{\"attributes\":{\"callback\":null,\"data\":{\"x\":{\"__ndarray__\":\"AADA0LZpckIAAACZ92tyQgAAQGE4bnJCAACAKXlwckIAAMDxuXJyQgAAALr6dHJCAABAgjt3ckIAAIBKfHlyQgAAwBK9e3JCAAAA2/19ckIAAECjPoByQgAAgGt/gnJCAADAM8CEckIAAAD8AIdyQgAAQMRBiXJCAACAjIKLckIAAMBUw41yQgAAAB0EkHJCAABA5USSckIAAICthZRyQgAAwHXGlnJCAAAAPgeZckIAAEAGSJtyQgAAgM6InXJCAADAlsmfckIAAABfCqJyQgAAQCdLpHJCAACA74umckIAAMC3zKhyQgAAAIANq3JCAABASE6tckIAAIAQj69yQgAAwNjPsXJCAAAAoRC0ckIAAEBpUbZyQgAAgDGSuHJCAADA+dK6ckIAAADCE71yQgAAQIpUv3JCAACAUpXBckIAAMAa1sNyQgAAAOMWxnJCAABAq1fIckIAAIBzmMpyQgAAwDvZzHJCAAAABBrPckIAAEDMWtFyQgAAgJSb03JCAADAXNzVckIAAAAlHdhyQgAAQO1d2nJCAACAtZ7cckIAAMB9395yQgAAAEYg4XJCAABADmHjckIAAIDWoeVyQgAAwJ7i53JCAAAAZyPqckIAAEAvZOxyQgAAgPek7nJCAADAv+XwckIAAACIJvNyQgAAQFBn9XJCAACAGKj3ckIAAMDg6PlyQgAAAKkp/HJCAABAcWr+ckIAAIA5qwBzQgAAwAHsAnNCAAAAyiwFc0IAAECSbQdzQgAAgFquCXNCAADAIu8Lc0IAAADrLw5zQgAAQLNwEHNCAACAe7ESc0IAAMBD8hRzQgAAAAwzF3NCAABA1HMZc0IAAICctBtzQgAAwGT1HXNCAAAALTYgc0IAAED1diJzQgAAgL23JHNCAADAhfgmc0IAAABOOSlzQgAAQBZ6K3NCAACA3rotc0IAAMCm+y9zQgAAAG88MnNCAABAN300c0IAAID/vTZzQgAAwMf+OHNCAAAAkD87c0IAAEBYgD1zQgAAgCDBP3NCAADA6AFCc0IAAACxQkRzQgAAQHmDRnNCAACAQcRIc0IAAMAJBUtzQgAAANJFTXNCAABAmoZPc0IAAIBix1FzQgAAwCoIVHNCAAAA80hWc0IAAEC7iVhzQgAAgIPKWnNCAADASwtdc0IAAAAUTF9zQgAAQNyMYXNCAACApM1jc0IAAMBsDmZzQgAAADVPaHNCAABA/Y9qc0IAAIDF0GxzQgAAwI0Rb3NCAAAAVlJxc0IAAEAek3NzQgAAgObTdXNCAADArhR4c0IAAAB3VXpzQgAAQD+WfHNCAACAB9d+c0IAAMDPF4FzQgAAAJhYg3NCAABAYJmFc0IAAIAo2odzQgAAwPAainNCAAAAuVuMc0IAAECBnI5zQgAAgEndkHNCAADAER6Tc0IAAADaXpVzQgAAQKKfl3NCAACAauCZc0IAAMAyIZxzQgAAAPthnnNCAABAw6Kgc0IAAICL46JzQgAAwFMkpXNCAAAAHGWnc0IAAEDkpalzQg==\",\"dtype\":\"float64\",\"shape\":[143]},\"y\":{\"__ndarray__\":\"oudVJz6hv0AxDkd00OG/QFxXuT3VYb9Aq1zS3QYsvkBJYP5wisS9QIIUpAJLx71A8mTFxqIxvkB99Yy7LaO+QLCe+bF+db9AFlgrBxwQv0D3t1I98Te+QHBOLe4S6L1AQ2RjgDs2vkDdobdNDS2/QMmx75XVeb9Ad5JCp+Ovv0AoQxBL0B/AQFq9YNNaSMBAJzhrkOIewEACFqs0vuS/QOW+YjmsmL9AjLwjmX1Hv0DS1OS358m+QOC06Z1sZr5AZsRTkU9VvkAytlo65/y+QKn0D93oAsBAzRdjQ8Q0wEA2djKFvSPAQESbLqPEjL9Angj7eylpvkA4UcXUhye9QIRBrPafLbxAPkBbDomlu0C5IBkzta67QL+UVlk/ILxAcQQPs0o/vEDasyQjknC8QLs++pu75bxASG5IAWmZvUA516Q+kZe+QB3VGXF5LMBAQ5vOSxVrwUAS/HzMT+fBQC4Vd/L+QcNA+NRevVXBxECUZhdZXXvEQC0gJTQpgMBAJklQLiXRukAyfPkivNi3QAj8Uad4prdAJsv7u7U6uUBD+h1epuq7QAJ9K7DCJL5A0CMd5/n8vkCw21kh8iG+QGZZfU62Zb1AICQRHtq/vED7+OPmY5O8QCfNQqS1Q7xAxe5OiRI7vEA9HPH7i8i8QC1OH2gjiL1AcZ7oFHIrvkCApQmuety9QBWlN0Wigb1AycjgM5wyvUAS6fOsnj29QDSvGEnd1L1AbbKmZKqDvkBySxodEqi+QHxJpbr4Xr5AWjBfaJABvkAdWT+CZMe9QAuv0ySMVr1AVMRq6rnXvEA2KscpD8K8QMAJ0BHpBr1AVU33X5SmvUAYwTB4U8O9QJMC/knmtb1AbSHjfyx6vUBuckf1swO9QOlRC5Vgg7xAwanHVGLIu0C4BzPx92G7QM5PPNLdartAUzVD39X8u0ByjKg3G0S8QEvVBDDBpLxAvTZ7GPP8vEAl+FJtymK9QIyQvvgT371AhsZ+ksYBv0DFBlB4FHjAQHBl511T3cBABCYgBOkQwkA38JN9AYrDQGK2+eJGvcNA3K2nApXLwEBstcszsr67QOPonu/yOLhANJuFW2VJt0AmS5PTaxW4QBLSfrRSe7pAzi6pkdHdvECL9Fqw8++9QIErpAH9ob1ATDny5MJHvUCcGgTheVO9QOZA7niunb1AtEqiyWfOvUD9TUL8qTq+QEBJgaNEqL5AmoZp7zanvUCRd8F2Unm8QI0blChTDLxAjVa6PxiNvEBzLoOlcUO9QHvNl7He4L1AxOc8m9hAvkD6OsNY91a+QEHQcXgtT75A0UxwoLMKvkBfe51aBLu9QCSShhVSlr1ABCO/VYh+vUCO+iBXDQy9QPEyBArWwrxAnbhs1BaxvEARRVoSjg+9QJ4/xrFJgr1AP+nUeRvlvUBRQ+R/Cxe+QAEUxUDB4r1AXTrzew4EvUD+QxvZX9y7QCOE9oPzdLtACQojz6etu0B40YWTflO8QLa3MpPwsrxAvE2jTtADvUDqyK119We9QA==\",\"dtype\":\"float64\",\"shape\":[143]}},\"selected\":{\"id\":\"1488\",\"type\":\"Selection\"},\"selection_policy\":{\"id\":\"1489\",\"type\":\"UnionRenderers\"}},\"id\":\"1453\",\"type\":\"ColumnDataSource\"},{\"attributes\":{\"callback\":null},\"id\":\"1214\",\"type\":\"DataRange1d\"},{\"attributes\":{\"callback\":null,\"data\":{\"x\":{\"__ndarray__\":\"AADA0LZpckIAAACZ92tyQgAAQGE4bnJCAACAKXlwckIAAMDxuXJyQgAAALr6dHJCAABAgjt3ckIAAIBKfHlyQgAAwBK9e3JCAAAA2/19ckIAAECjPoByQgAAgGt/gnJCAADAM8CEckIAAAD8AIdyQgAAQMRBiXJCAACAjIKLckIAAMBUw41yQgAAAB0EkHJCAABA5USSckIAAICthZRyQgAAwHXGlnJCAAAAPgeZckIAAEAGSJtyQgAAgM6InXJCAADAlsmfckIAAABfCqJyQgAAQCdLpHJCAACA74umckIAAMC3zKhyQgAAAIANq3JCAABASE6tckIAAIAQj69yQgAAwNjPsXJCAAAAoRC0ckIAAEBpUbZyQgAAgDGSuHJCAADA+dK6ckIAAADCE71yQgAAQIpUv3JCAACAUpXBckIAAMAa1sNyQgAAAOMWxnJCAABAq1fIckIAAIBzmMpyQgAAwDvZzHJCAAAABBrPckIAAEDMWtFyQgAAgJSb03JCAADAXNzVckIAAAAlHdhyQgAAQO1d2nJCAACAtZ7cckIAAMB9395yQgAAAEYg4XJCAABADmHjckIAAIDWoeVyQgAAwJ7i53JCAAAAZyPqckIAAEAvZOxyQgAAgPek7nJCAADAv+XwckIAAACIJvNyQgAAQFBn9XJCAACAGKj3ckIAAMDg6PlyQgAAAKkp/HJCAABAcWr+ckIAAIA5qwBzQgAAwAHsAnNCAAAAyiwFc0IAAECSbQdzQgAAgFquCXNCAADAIu8Lc0IAAADrLw5zQgAAQLNwEHNCAACAe7ESc0IAAMBD8hRzQgAAAAwzF3NCAABA1HMZc0IAAICctBtzQgAAwGT1HXNCAAAALTYgc0IAAED1diJzQgAAgL23JHNCAADAhfgmc0IAAABOOSlzQgAAQBZ6K3NCAACA3rotc0IAAMCm+y9zQgAAAG88MnNCAABAN300c0IAAID/vTZzQgAAwMf+OHNCAAAAkD87c0IAAEBYgD1zQgAAgCDBP3NCAADA6AFCc0IAAACxQkRzQgAAQHmDRnNCAACAQcRIc0IAAMAJBUtzQgAAANJFTXNCAABAmoZPc0IAAIBix1FzQgAAwCoIVHNCAAAA80hWc0IAAEC7iVhzQgAAgIPKWnNCAADASwtdc0IAAAAUTF9zQgAAQNyMYXNCAACApM1jc0IAAMBsDmZzQgAAADVPaHNCAABA/Y9qc0IAAIDF0GxzQgAAwI0Rb3NCAAAAVlJxc0IAAEAek3NzQgAAgObTdXNCAADArhR4c0IAAAB3VXpzQgAAQD+WfHNCAACAB9d+c0IAAMDPF4FzQgAAAJhYg3NCAABAYJmFc0IAAIAo2odzQgAAwPAainNCAAAAuVuMc0IAAECBnI5zQgAAgEndkHNCAADAER6Tc0IAAADaXpVzQgAAQKKfl3NCAACAauCZc0IAAMAyIZxzQgAAAPthnnNCAABAw6Kgc0IAAICL46JzQgAAwFMkpXNCAAAAHGWnc0IAAEDkpalzQg==\",\"dtype\":\"float64\",\"shape\":[143]},\"y\":{\"__ndarray__\":\"PQrXo7DgvkCQwvUojFbAQAAAAACgbcBAzczMzMxDvECamZmZ+SW+QMzMzMyMab1AmpmZmZnrvkB7FK5HIbG8QLgehetx6cBA7FG4HkVGv0CkcD0Kl1K9QBSuR+H63L1AZmZmZubYvEDhehSuh4nAQML1KFzvVr9AcT0K1yOnvkDNzMzMTDnAQHsUrkcBysBAexSuR+Gyv0B7FK5Hob+/QDMzMzNzg79A16NwPUq1v0Bcj8L1qLu+QAAAAACAlL5ApHA9CpeXvUD2KFyPwk2+QHE9CtfjlcBA16NwPZobwEC4HoXrEUXAQIXrUbjep79AUrgehQuEvkCF61G43uu8QBSuR+H6IrxAuB6F6zFdu0AK16NwvRy7QKRwPQrXP71AKVyPwjUMvEBI4XoUjjm8QD0K16MQ97xAPgrXozAGvkDC9Shcbxe+QArXo3C9H75A4noUrjcsxECamZmZWRm/QOxRuB7VEcJAAAAAAGC7xEA0MzMzIwTLQFyPwvUoPrlACtejcP3wuEApXI/CtUm3QD4K16NQ+7dAFK5H4fpTuEAK16NwHZC8QJqZmZl5v75Aw/UoXC+QwEAUrkfheke8QFyPwvUo0b1AKVyPwjXAu0DsUbgeRZq9QHA9CteDKLxA9ihcjwKIu0BxPQrXI968QM3MzMyMAL1ArkfhetTnv0Bcj8L1yA29QOxRuB4luL1AmpmZmZkWvUAK16NwvZa8QKRwPQqXp71A9ihcj4JCv0AAAAAAYOS+QLgehetRPb5AkML1KBxwvUAAAAAAAEq+QBSuR+H6pL1AKVyPwvVRvECF61G4/tC8QIXrUbjeKLxAuB6F6xHdvkAzMzMzc2a9QK5H4XqUrb1A9ihcj4K3vUAAAAAAAKK8QML1KFxvQ71AAAAAAOBTu0AK16Nw/WC7QKRwPQpXfbpASOF6FK40vUAzMzMzM767QML1KFyv3LxAZmZmZqbvvECuR+F69Om9QHE9CtdjdL1AUrgehevsvEDhehSuJ9DCQM3MzMxs6L1ApHA9CmcOwUAzMzMzMzbDQB+F61HYxshAj8L1KByKvUCF61G4Xrq5QJDC9SjcGrdAw/UoXE8CuECkcD0K15m2QGZmZmamy7pA16NwPQobvkDsUbgehVO/QI/C9ShcwLxAFK5H4RquvECuR+F69CK9QFK4HoWrSr5AMzMzMzM/vUCamZmZ2QS9QFK4HoULrcBAexSuRyFTvUApXI/Cdbi7QHA9CtdDJ7tA4XoUrsf2vEBSuB6Fa229QArXo3D9+L1AMzMzMzN5vkAK16NwPQy+QML1KFxvn75AUrgehWsPvkAK16NwvWa9QM3MzMzMTL1ApHA9ChdqvkDMzMzMTJa8QAAAAABg7bxAZmZmZmYcvEC4HoXrUUe9QAAAAACAhb1AFK5H4brQvUApXI/CNQi+QJDC9ShciL5AAAAAAOCrvUAAAAAAALO6QKRwPQoXYrtAhutRuB4tu0AehetR2D69QClcj8L1nLxAMzMzM7POvEAUrkfhOnu9QA==\",\"dtype\":\"float64\",\"shape\":[143]}},\"selected\":{\"id\":\"1303\",\"type\":\"Selection\"},\"selection_policy\":{\"id\":\"1304\",\"type\":\"UnionRenderers\"}},\"id\":\"1245\",\"type\":\"ColumnDataSource\"},{\"attributes\":{\"source\":{\"id\":\"1268\",\"type\":\"ColumnDataSource\"}},\"id\":\"1272\",\"type\":\"CDSView\"},{\"attributes\":{\"callback\":null},\"id\":\"1216\",\"type\":\"DataRange1d\"},{\"attributes\":{\"days\":[1,8,15,22]},\"id\":\"1259\",\"type\":\"DaysTicker\"},{\"attributes\":{},\"id\":\"1220\",\"type\":\"LinearScale\"},{\"attributes\":{},\"id\":\"1305\",\"type\":\"Selection\"},{\"attributes\":{\"fill_alpha\":{\"value\":0.8},\"fill_color\":{\"value\":\"magenta\"},\"line_alpha\":{\"value\":0.8},\"line_color\":{\"value\":\"magenta\"},\"size\":{\"units\":\"screen\",\"value\":3},\"x\":{\"field\":\"x\"},\"y\":{\"field\":\"y\"}},\"id\":\"1454\",\"type\":\"Circle\"},{\"attributes\":{\"days\":[1,4,7,10,13,16,19,22,25,28]},\"id\":\"1258\",\"type\":\"DaysTicker\"},{\"attributes\":{\"formatter\":{\"id\":\"1243\",\"type\":\"DatetimeTickFormatter\"},\"ticker\":{\"id\":\"1223\",\"type\":\"DatetimeTicker\"}},\"id\":\"1222\",\"type\":\"DatetimeAxis\"},{\"attributes\":{\"dimensions\":\"width\"},\"id\":\"1234\",\"type\":\"WheelZoomTool\"},{\"attributes\":{\"dimension\":1,\"ticker\":{\"id\":\"1228\",\"type\":\"BasicTicker\"}},\"id\":\"1231\",\"type\":\"Grid\"},{\"attributes\":{\"label\":{\"value\":\"All depts median\"},\"renderers\":[{\"id\":\"1248\",\"type\":\"GlyphRenderer\"}]},\"id\":\"1267\",\"type\":\"LegendItem\"},{\"attributes\":{\"fill_alpha\":{\"value\":0.1},\"fill_color\":{\"value\":\"#1f77b4\"},\"line_alpha\":{\"value\":0.1},\"line_color\":{\"value\":\"#1f77b4\"},\"size\":{\"units\":\"screen\",\"value\":3},\"x\":{\"field\":\"x\"},\"y\":{\"field\":\"y\"}},\"id\":\"1247\",\"type\":\"Circle\"},{\"attributes\":{\"num_minor_ticks\":5,\"tickers\":[{\"id\":\"1254\",\"type\":\"AdaptiveTicker\"},{\"id\":\"1255\",\"type\":\"AdaptiveTicker\"},{\"id\":\"1256\",\"type\":\"AdaptiveTicker\"},{\"id\":\"1257\",\"type\":\"DaysTicker\"},{\"id\":\"1258\",\"type\":\"DaysTicker\"},{\"id\":\"1259\",\"type\":\"DaysTicker\"},{\"id\":\"1260\",\"type\":\"DaysTicker\"},{\"id\":\"1261\",\"type\":\"MonthsTicker\"},{\"id\":\"1262\",\"type\":\"MonthsTicker\"},{\"id\":\"1263\",\"type\":\"MonthsTicker\"},{\"id\":\"1264\",\"type\":\"MonthsTicker\"},{\"id\":\"1265\",\"type\":\"YearsTicker\"}]},\"id\":\"1223\",\"type\":\"DatetimeTicker\"},{\"attributes\":{},\"id\":\"1539\",\"type\":\"Selection\"},{\"attributes\":{\"source\":{\"id\":\"1245\",\"type\":\"ColumnDataSource\"}},\"id\":\"1249\",\"type\":\"CDSView\"},{\"attributes\":{\"days\":[\"%d/%b\"],\"hours\":[\"%H:%M %d/%b\"],\"months\":[\"%d/%b/%Y\"],\"years\":[\"%d/%b/%Y\"]},\"id\":\"1243\",\"type\":\"DatetimeTickFormatter\"},{\"attributes\":{},\"id\":\"1304\",\"type\":\"UnionRenderers\"},{\"attributes\":{\"ticker\":{\"id\":\"1223\",\"type\":\"DatetimeTicker\"}},\"id\":\"1226\",\"type\":\"Grid\"},{\"attributes\":{},\"id\":\"1252\",\"type\":\"BasicTickFormatter\"},{\"attributes\":{\"fill_alpha\":{\"value\":0.1},\"fill_color\":{\"value\":\"#1f77b4\"},\"line_alpha\":{\"value\":0.1},\"line_color\":{\"value\":\"#1f77b4\"},\"line_width\":{\"value\":2},\"size\":{\"units\":\"screen\",\"value\":12},\"x\":{\"field\":\"Date\"},\"y\":{\"field\":\"Weekly_Sales\"}},\"id\":\"1276\",\"type\":\"Diamond\"},{\"attributes\":{\"items\":[{\"id\":\"1267\",\"type\":\"LegendItem\"}]},\"id\":\"1266\",\"type\":\"Legend\"},{\"attributes\":{},\"id\":\"1228\",\"type\":\"BasicTicker\"},{\"attributes\":{},\"id\":\"1303\",\"type\":\"Selection\"},{\"attributes\":{\"formatter\":{\"id\":\"1252\",\"type\":\"BasicTickFormatter\"},\"ticker\":{\"id\":\"1228\",\"type\":\"BasicTicker\"}},\"id\":\"1227\",\"type\":\"LinearAxis\"},{\"attributes\":{\"callback\":null,\"data\":{\"Date\":{\"__ndarray__\":\"AAAAmfdrckIAAIAQj69yQgAAQKtXyHJCAACAlJvTckIAAABGIOFyQgAAgL23JHNCAABAWIA9c0IAAIBBxEhzQgAAAPNIVnNCAACAauCZc0I=\",\"dtype\":\"float64\",\"shape\":[10]},\"Weekly_Sales\":{\"__ndarray__\":\"kML1KIxWwECF61G43uu8QOJ6FK43LMRAXI/C9Sg+uUCamZmZeb++QML1KFxvQ71A4XoUrifQwkCPwvUoHIq9QNejcD0KG75AAAAAAOCrvUA=\",\"dtype\":\"float64\",\"shape\":[10]}},\"selected\":{\"id\":\"1307\",\"type\":\"Selection\"},\"selection_policy\":{\"id\":\"1308\",\"type\":\"UnionRenderers\"}},\"id\":\"1273\",\"type\":\"ColumnDataSource\"},{\"attributes\":{\"line_alpha\":0.1,\"line_color\":\"#1f77b4\",\"x\":{\"field\":\"x\"},\"y\":{\"field\":\"y\"}},\"id\":\"1504\",\"type\":\"Line\"},{\"attributes\":{},\"id\":\"1540\",\"type\":\"UnionRenderers\"},{\"attributes\":{\"data_source\":{\"id\":\"1453\",\"type\":\"ColumnDataSource\"},\"glyph\":{\"id\":\"1454\",\"type\":\"Circle\"},\"hover_glyph\":null,\"muted_glyph\":null,\"nonselection_glyph\":{\"id\":\"1455\",\"type\":\"Circle\"},\"selection_glyph\":null,\"view\":{\"id\":\"1457\",\"type\":\"CDSView\"}},\"id\":\"1456\",\"type\":\"GlyphRenderer\"},{\"attributes\":{\"line_alpha\":0.8,\"line_color\":\"navy\",\"x\":{\"field\":\"x\"},\"y\":{\"field\":\"y\"}},\"id\":\"1269\",\"type\":\"Line\"},{\"attributes\":{\"source\":{\"id\":\"1273\",\"type\":\"ColumnDataSource\"}},\"id\":\"1278\",\"type\":\"CDSView\"},{\"attributes\":{\"fill_alpha\":{\"value\":0.1},\"fill_color\":{\"value\":\"#1f77b4\"},\"line_alpha\":{\"value\":0.1},\"line_color\":{\"value\":\"#1f77b4\"},\"size\":{\"units\":\"screen\",\"value\":3},\"x\":{\"field\":\"x\"},\"y\":{\"field\":\"y\"}},\"id\":\"1455\",\"type\":\"Circle\"},{\"attributes\":{\"data_source\":{\"id\":\"1273\",\"type\":\"ColumnDataSource\"},\"glyph\":{\"id\":\"1275\",\"type\":\"Diamond\"},\"hover_glyph\":null,\"muted_glyph\":null,\"nonselection_glyph\":{\"id\":\"1276\",\"type\":\"Diamond\"},\"selection_glyph\":null,\"view\":{\"id\":\"1278\",\"type\":\"CDSView\"}},\"id\":\"1277\",\"type\":\"GlyphRenderer\"},{\"attributes\":{\"callback\":null,\"data\":{\"x\":{\"__ndarray__\":\"AADA0LZpckIAAACZ92tyQgAAQGE4bnJCAACAKXlwckIAAMDxuXJyQgAAALr6dHJCAABAgjt3ckIAAIBKfHlyQgAAwBK9e3JCAAAA2/19ckIAAECjPoByQgAAgGt/gnJCAADAM8CEckIAAAD8AIdyQgAAQMRBiXJCAACAjIKLckIAAMBUw41yQgAAAB0EkHJCAABA5USSckIAAICthZRyQgAAwHXGlnJCAAAAPgeZckIAAEAGSJtyQgAAgM6InXJCAADAlsmfckIAAABfCqJyQgAAQCdLpHJCAACA74umckIAAMC3zKhyQgAAAIANq3JCAABASE6tckIAAIAQj69yQgAAwNjPsXJCAAAAoRC0ckIAAEBpUbZyQgAAgDGSuHJCAADA+dK6ckIAAADCE71yQgAAQIpUv3JCAACAUpXBckIAAMAa1sNyQgAAAOMWxnJCAABAq1fIckIAAIBzmMpyQgAAwDvZzHJCAAAABBrPckIAAEDMWtFyQgAAgJSb03JCAADAXNzVckIAAAAlHdhyQgAAQO1d2nJCAACAtZ7cckIAAMB9395yQgAAAEYg4XJCAABADmHjckIAAIDWoeVyQgAAwJ7i53JCAAAAZyPqckIAAEAvZOxyQgAAgPek7nJCAADAv+XwckIAAACIJvNyQgAAQFBn9XJCAACAGKj3ckIAAMDg6PlyQgAAAKkp/HJCAABAcWr+ckIAAIA5qwBzQgAAwAHsAnNCAAAAyiwFc0IAAECSbQdzQgAAgFquCXNCAADAIu8Lc0IAAADrLw5zQgAAQLNwEHNCAACAe7ESc0IAAMBD8hRzQgAAAAwzF3NCAABA1HMZc0IAAICctBtzQgAAwGT1HXNCAAAALTYgc0IAAED1diJzQgAAgL23JHNCAADAhfgmc0IAAABOOSlzQgAAQBZ6K3NCAACA3rotc0IAAMCm+y9zQgAAAG88MnNCAABAN300c0IAAID/vTZzQgAAwMf+OHNCAAAAkD87c0IAAEBYgD1zQgAAgCDBP3NCAADA6AFCc0IAAACxQkRzQgAAQHmDRnNCAACAQcRIc0IAAMAJBUtzQgAAANJFTXNCAABAmoZPc0IAAIBix1FzQgAAwCoIVHNCAAAA80hWc0IAAEC7iVhzQgAAgIPKWnNCAADASwtdc0IAAAAUTF9zQgAAQNyMYXNCAACApM1jc0IAAMBsDmZzQgAAADVPaHNCAABA/Y9qc0IAAIDF0GxzQgAAwI0Rb3NCAAAAVlJxc0IAAEAek3NzQgAAgObTdXNCAADArhR4c0IAAAB3VXpzQgAAQD+WfHNCAACAB9d+c0IAAMDPF4FzQgAAAJhYg3NCAABAYJmFc0IAAIAo2odzQgAAwPAainNCAAAAuVuMc0IAAECBnI5zQgAAgEndkHNCAADAER6Tc0IAAADaXpVzQgAAQKKfl3NCAACAauCZc0IAAMAyIZxzQgAAAPthnnNCAABAw6Kgc0IAAICL46JzQgAAwFMkpXNCAAAAHGWnc0IAAEDkpalzQg==\",\"dtype\":\"float64\",\"shape\":[143]},\"y\":{\"__ndarray__\":\"oudVJz6hv0AxDkd00OG/QFxXuT3VYb9Aq1zS3QYsvkBJYP5wisS9QIIUpAJLx71A8mTFxqIxvkB99Yy7LaO+QLCe+bF+db9AFlgrBxwQv0D3t1I98Te+QHBOLe4S6L1AQ2RjgDs2vkDdobdNDS2/QMmx75XVeb9Ad5JCp+Ovv0AoQxBL0B/AQFq9YNNaSMBAJzhrkOIewEACFqs0vuS/QOW+YjmsmL9AjLwjmX1Hv0DS1OS358m+QOC06Z1sZr5AZsRTkU9VvkAytlo65/y+QKn0D93oAsBAzRdjQ8Q0wEA2djKFvSPAQESbLqPEjL9Angj7eylpvkA4UcXUhye9QIRBrPafLbxAPkBbDomlu0C5IBkzta67QL+UVlk/ILxAcQQPs0o/vEDasyQjknC8QLs++pu75bxASG5IAWmZvUA516Q+kZe+QB3VGXF5LMBAQ5vOSxVrwUAS/HzMT+fBQC4Vd/L+QcNA+NRevVXBxECUZhdZXXvEQC0gJTQpgMBAJklQLiXRukAyfPkivNi3QAj8Uad4prdAJsv7u7U6uUBD+h1epuq7QAJ9K7DCJL5A0CMd5/n8vkCw21kh8iG+QGZZfU62Zb1AICQRHtq/vED7+OPmY5O8QCfNQqS1Q7xAxe5OiRI7vEA9HPH7i8i8QC1OH2gjiL1AcZ7oFHIrvkCApQmuety9QBWlN0Wigb1AycjgM5wyvUAS6fOsnj29QDSvGEnd1L1AbbKmZKqDvkBySxodEqi+QHxJpbr4Xr5AWjBfaJABvkAdWT+CZMe9QAuv0ySMVr1AVMRq6rnXvEA2KscpD8K8QMAJ0BHpBr1AVU33X5SmvUAYwTB4U8O9QJMC/knmtb1AbSHjfyx6vUBuckf1swO9QOlRC5Vgg7xAwanHVGLIu0C4BzPx92G7QM5PPNLdartAUzVD39X8u0ByjKg3G0S8QEvVBDDBpLxAvTZ7GPP8vEAl+FJtymK9QIyQvvgT371AhsZ+ksYBv0DFBlB4FHjAQHBl511T3cBABCYgBOkQwkA38JN9AYrDQGK2+eJGvcNA3K2nApXLwEBstcszsr67QOPonu/yOLhANJuFW2VJt0AmS5PTaxW4QBLSfrRSe7pAzi6pkdHdvECL9Fqw8++9QIErpAH9ob1ATDny5MJHvUCcGgTheVO9QOZA7niunb1AtEqiyWfOvUD9TUL8qTq+QEBJgaNEqL5AmoZp7zanvUCRd8F2Unm8QI0blChTDLxAjVa6PxiNvEBzLoOlcUO9QHvNl7He4L1AxOc8m9hAvkD6OsNY91a+QEHQcXgtT75A0UxwoLMKvkBfe51aBLu9QCSShhVSlr1ABCO/VYh+vUCO+iBXDQy9QPEyBArWwrxAnbhs1BaxvEARRVoSjg+9QJ4/xrFJgr1AP+nUeRvlvUBRQ+R/Cxe+QAEUxUDB4r1AXTrzew4EvUD+QxvZX9y7QCOE9oPzdLtACQojz6etu0B40YWTflO8QLa3MpPwsrxAvE2jTtADvUDqyK119We9QA==\",\"dtype\":\"float64\",\"shape\":[143]}},\"selected\":{\"id\":\"1539\",\"type\":\"Selection\"},\"selection_policy\":{\"id\":\"1540\",\"type\":\"UnionRenderers\"}},\"id\":\"1502\",\"type\":\"ColumnDataSource\"},{\"attributes\":{\"mantissas\":[1,2,5],\"max_interval\":500.0,\"num_minor_ticks\":0},\"id\":\"1254\",\"type\":\"AdaptiveTicker\"},{\"attributes\":{\"days\":[1,2,3,4,5,6,7,8,9,10,11,12,13,14,15,16,17,18,19,20,21,22,23,24,25,26,27,28,29,30,31]},\"id\":\"1257\",\"type\":\"DaysTicker\"},{\"attributes\":{\"source\":{\"id\":\"1453\",\"type\":\"ColumnDataSource\"}},\"id\":\"1457\",\"type\":\"CDSView\"},{\"attributes\":{},\"id\":\"1308\",\"type\":\"UnionRenderers\"},{\"attributes\":{\"months\":[0,2,4,6,8,10]},\"id\":\"1262\",\"type\":\"MonthsTicker\"},{\"attributes\":{\"active_drag\":\"auto\",\"active_inspect\":\"auto\",\"active_multi\":null,\"active_scroll\":\"auto\",\"active_tap\":\"auto\",\"tools\":[{\"id\":\"1232\",\"type\":\"PanTool\"},{\"id\":\"1233\",\"type\":\"WheelZoomTool\"},{\"id\":\"1234\",\"type\":\"WheelZoomTool\"},{\"id\":\"1235\",\"type\":\"ResetTool\"},{\"id\":\"1236\",\"type\":\"SaveTool\"}]},\"id\":\"1237\",\"type\":\"Toolbar\"},{\"attributes\":{\"days\":[1,15]},\"id\":\"1260\",\"type\":\"DaysTicker\"},{\"attributes\":{\"months\":[0,4,8]},\"id\":\"1263\",\"type\":\"MonthsTicker\"},{\"attributes\":{},\"id\":\"1232\",\"type\":\"PanTool\"},{\"attributes\":{},\"id\":\"1306\",\"type\":\"UnionRenderers\"},{\"attributes\":{},\"id\":\"1488\",\"type\":\"Selection\"},{\"attributes\":{\"months\":[0,6]},\"id\":\"1264\",\"type\":\"MonthsTicker\"},{\"attributes\":{\"dimensions\":\"height\"},\"id\":\"1233\",\"type\":\"WheelZoomTool\"},{\"attributes\":{},\"id\":\"1489\",\"type\":\"UnionRenderers\"},{\"attributes\":{},\"id\":\"1307\",\"type\":\"Selection\"},{\"attributes\":{},\"id\":\"1265\",\"type\":\"YearsTicker\"},{\"attributes\":{\"months\":[0,1,2,3,4,5,6,7,8,9,10,11]},\"id\":\"1261\",\"type\":\"MonthsTicker\"},{\"attributes\":{\"text\":\"Weekly_Sales vs Datetime\"},\"id\":\"1212\",\"type\":\"Title\"},{\"attributes\":{\"callback\":null,\"data\":{\"x\":{\"__ndarray__\":\"AADA0LZpckIAAACZ92tyQgAAQGE4bnJCAACAKXlwckIAAMDxuXJyQgAAALr6dHJCAABAgjt3ckIAAIBKfHlyQgAAwBK9e3JCAAAA2/19ckIAAECjPoByQgAAgGt/gnJCAADAM8CEckIAAAD8AIdyQgAAQMRBiXJCAACAjIKLckIAAMBUw41yQgAAAB0EkHJCAABA5USSckIAAICthZRyQgAAwHXGlnJCAAAAPgeZckIAAEAGSJtyQgAAgM6InXJCAADAlsmfckIAAABfCqJyQgAAQCdLpHJCAACA74umckIAAMC3zKhyQgAAAIANq3JCAABASE6tckIAAIAQj69yQgAAwNjPsXJCAAAAoRC0ckIAAEBpUbZyQgAAgDGSuHJCAADA+dK6ckIAAADCE71yQgAAQIpUv3JCAACAUpXBckIAAMAa1sNyQgAAAOMWxnJCAABAq1fIckIAAIBzmMpyQgAAwDvZzHJCAAAABBrPckIAAEDMWtFyQgAAgJSb03JCAADAXNzVckIAAAAlHdhyQgAAQO1d2nJCAACAtZ7cckIAAMB9395yQgAAAEYg4XJCAABADmHjckIAAIDWoeVyQgAAwJ7i53JCAAAAZyPqckIAAEAvZOxyQgAAgPek7nJCAADAv+XwckIAAACIJvNyQgAAQFBn9XJCAACAGKj3ckIAAMDg6PlyQgAAAKkp/HJCAABAcWr+ckIAAIA5qwBzQgAAwAHsAnNCAAAAyiwFc0IAAECSbQdzQgAAgFquCXNCAADAIu8Lc0IAAADrLw5zQgAAQLNwEHNCAACAe7ESc0IAAMBD8hRzQgAAAAwzF3NCAABA1HMZc0IAAICctBtzQgAAwGT1HXNCAAAALTYgc0IAAED1diJzQgAAgL23JHNCAADAhfgmc0IAAABOOSlzQgAAQBZ6K3NCAACA3rotc0IAAMCm+y9zQgAAAG88MnNCAABAN300c0IAAID/vTZzQgAAwMf+OHNCAAAAkD87c0IAAEBYgD1zQgAAgCDBP3NCAADA6AFCc0IAAACxQkRzQgAAQHmDRnNCAACAQcRIc0IAAMAJBUtzQgAAANJFTXNCAABAmoZPc0IAAIBix1FzQgAAwCoIVHNCAAAA80hWc0IAAEC7iVhzQgAAgIPKWnNCAADASwtdc0IAAAAUTF9zQgAAQNyMYXNCAACApM1jc0IAAMBsDmZzQgAAADVPaHNCAABA/Y9qc0IAAIDF0GxzQgAAwI0Rb3NCAAAAVlJxc0IAAEAek3NzQgAAgObTdXNCAADArhR4c0IAAAB3VXpzQgAAQD+WfHNCAACAB9d+c0IAAMDPF4FzQgAAAJhYg3NCAABAYJmFc0IAAIAo2odzQgAAwPAainNCAAAAuVuMc0IAAECBnI5zQgAAgEndkHNCAADAER6Tc0IAAADaXpVzQgAAQKKfl3NCAACAauCZc0IAAMAyIZxzQgAAAPthnnNCAABAw6Kgc0IAAICL46JzQgAAwFMkpXNCAAAAHGWnc0IAAEDkpalzQg==\",\"dtype\":\"float64\",\"shape\":[143]},\"y\":{\"__ndarray__\":\"PQrXo7DgvkCQwvUojFbAQAAAAACgbcBAzczMzMxDvECamZmZ+SW+QMzMzMyMab1AmpmZmZnrvkB7FK5HIbG8QLgehetx6cBA7FG4HkVGv0CkcD0Kl1K9QBSuR+H63L1AZmZmZubYvEDhehSuh4nAQML1KFzvVr9AcT0K1yOnvkDNzMzMTDnAQHsUrkcBysBAexSuR+Gyv0B7FK5Hob+/QDMzMzNzg79A16NwPUq1v0Bcj8L1qLu+QAAAAACAlL5ApHA9CpeXvUD2KFyPwk2+QHE9CtfjlcBA16NwPZobwEC4HoXrEUXAQIXrUbjep79AUrgehQuEvkCF61G43uu8QBSuR+H6IrxAuB6F6zFdu0AK16NwvRy7QKRwPQrXP71AKVyPwjUMvEBI4XoUjjm8QD0K16MQ97xAPgrXozAGvkDC9Shcbxe+QArXo3C9H75A4noUrjcsxECamZmZWRm/QOxRuB7VEcJAAAAAAGC7xEA0MzMzIwTLQFyPwvUoPrlACtejcP3wuEApXI/CtUm3QD4K16NQ+7dAFK5H4fpTuEAK16NwHZC8QJqZmZl5v75Aw/UoXC+QwEAUrkfheke8QFyPwvUo0b1AKVyPwjXAu0DsUbgeRZq9QHA9CteDKLxA9ihcjwKIu0BxPQrXI968QM3MzMyMAL1ArkfhetTnv0Bcj8L1yA29QOxRuB4luL1AmpmZmZkWvUAK16NwvZa8QKRwPQqXp71A9ihcj4JCv0AAAAAAYOS+QLgehetRPb5AkML1KBxwvUAAAAAAAEq+QBSuR+H6pL1AKVyPwvVRvECF61G4/tC8QIXrUbjeKLxAuB6F6xHdvkAzMzMzc2a9QK5H4XqUrb1A9ihcj4K3vUAAAAAAAKK8QML1KFxvQ71AAAAAAOBTu0AK16Nw/WC7QKRwPQpXfbpASOF6FK40vUAzMzMzM767QML1KFyv3LxAZmZmZqbvvECuR+F69Om9QHE9CtdjdL1AUrgehevsvEDhehSuJ9DCQM3MzMxs6L1ApHA9CmcOwUAzMzMzMzbDQB+F61HYxshAj8L1KByKvUCF61G4Xrq5QJDC9SjcGrdAw/UoXE8CuECkcD0K15m2QGZmZmamy7pA16NwPQobvkDsUbgehVO/QI/C9ShcwLxAFK5H4RquvECuR+F69CK9QFK4HoWrSr5AMzMzMzM/vUCamZmZ2QS9QFK4HoULrcBAexSuRyFTvUApXI/Cdbi7QHA9CtdDJ7tA4XoUrsf2vEBSuB6Fa229QArXo3D9+L1AMzMzMzN5vkAK16NwPQy+QML1KFxvn75AUrgehWsPvkAK16NwvWa9QM3MzMzMTL1ApHA9ChdqvkDMzMzMTJa8QAAAAABg7bxAZmZmZmYcvEC4HoXrUUe9QAAAAACAhb1AFK5H4brQvUApXI/CNQi+QJDC9ShciL5AAAAAAOCrvUAAAAAAALO6QKRwPQoXYrtAhutRuB4tu0AehetR2D69QClcj8L1nLxAMzMzM7POvEAUrkfhOnu9QA==\",\"dtype\":\"float64\",\"shape\":[143]}},\"selected\":{\"id\":\"1305\",\"type\":\"Selection\"},\"selection_policy\":{\"id\":\"1306\",\"type\":\"UnionRenderers\"}},\"id\":\"1268\",\"type\":\"ColumnDataSource\"}],\"root_ids\":[\"1211\"]},\"title\":\"Bokeh Application\",\"version\":\"1.3.4\"}};\n",
       "  var render_items = [{\"docid\":\"255ca7b7-89b4-4dfd-bbf4-86cb6eb16a82\",\"roots\":{\"1211\":\"50351739-2de3-4398-8f54-b68d40cda2ed\"}}];\n",
       "  root.Bokeh.embed.embed_items_notebook(docs_json, render_items);\n",
       "\n",
       "  }\n",
       "  if (root.Bokeh !== undefined) {\n",
       "    embed_document(root);\n",
       "  } else {\n",
       "    var attempts = 0;\n",
       "    var timer = setInterval(function(root) {\n",
       "      if (root.Bokeh !== undefined) {\n",
       "        embed_document(root);\n",
       "        clearInterval(timer);\n",
       "      }\n",
       "      attempts++;\n",
       "      if (attempts > 100) {\n",
       "        console.log(\"Bokeh: ERROR: Unable to run BokehJS code because BokehJS library is missing\");\n",
       "        clearInterval(timer);\n",
       "      }\n",
       "    }, 10, root)\n",
       "  }\n",
       "})(window);"
      ],
      "application/vnd.bokehjs_exec.v0+json": ""
     },
     "metadata": {
      "application/vnd.bokehjs_exec.v0+json": {
       "id": "1211"
      }
     },
     "output_type": "display_data"
    }
   ],
   "source": [
    "from statsmodels.tsa.filters.hp_filter import hpfilter\n",
    "\n",
    "gdp_cycle, gdp_trend = hpfilter(grouped_sales, lamb=1)\n",
    "\n",
    "grouped_sales = train.groupby(\"Date\")[\"Weekly_Sales\"].median()\n",
    "p = plot.plot_time_series_count(grouped_sales.index, gdp_trend, color=\"magenta\", title=\"Weekly_Sales vs Datetime\", relative_y_axis=True, height=300, p=p)\n",
    "show(p)"
   ]
  },
  {
   "cell_type": "code",
   "execution_count": 13,
   "metadata": {},
   "outputs": [
    {
     "data": {
      "text/html": [
       "\n",
       "\n",
       "\n",
       "\n",
       "\n",
       "\n",
       "  <div class=\"bk-root\" id=\"8fdc2e28-d0b2-4b7c-be4a-7101571f9afa\" data-root-id=\"1709\"></div>\n"
      ]
     },
     "metadata": {},
     "output_type": "display_data"
    },
    {
     "data": {
      "application/javascript": [
       "(function(root) {\n",
       "  function embed_document(root) {\n",
       "    \n",
       "  var docs_json = {\"8a411844-57c1-4c3c-b683-5be6c102b1eb\":{\"roots\":{\"references\":[{\"attributes\":{\"below\":[{\"id\":\"1720\",\"type\":\"CategoricalAxis\"}],\"center\":[{\"id\":\"1723\",\"type\":\"Grid\"},{\"id\":\"1728\",\"type\":\"Grid\"}],\"left\":[{\"id\":\"1724\",\"type\":\"LinearAxis\"}],\"plot_height\":300,\"plot_width\":400,\"renderers\":[{\"id\":\"1741\",\"type\":\"GlyphRenderer\"},{\"id\":\"1746\",\"type\":\"GlyphRenderer\"},{\"id\":\"1751\",\"type\":\"GlyphRenderer\"}],\"title\":{\"id\":\"1710\",\"type\":\"Title\"},\"toolbar\":{\"id\":\"1733\",\"type\":\"Toolbar\"},\"x_range\":{\"id\":\"1712\",\"type\":\"FactorRange\"},\"x_scale\":{\"id\":\"1716\",\"type\":\"CategoricalScale\"},\"y_range\":{\"id\":\"1714\",\"type\":\"DataRange1d\"},\"y_scale\":{\"id\":\"1718\",\"type\":\"LinearScale\"}},\"id\":\"1709\",\"subtype\":\"Figure\",\"type\":\"Plot\"},{\"attributes\":{},\"id\":\"1806\",\"type\":\"Selection\"},{\"attributes\":{\"data_source\":{\"id\":\"1738\",\"type\":\"ColumnDataSource\"},\"glyph\":{\"id\":\"1739\",\"type\":\"Circle\"},\"hover_glyph\":null,\"muted_glyph\":null,\"nonselection_glyph\":{\"id\":\"1740\",\"type\":\"Circle\"},\"selection_glyph\":null,\"view\":{\"id\":\"1742\",\"type\":\"CDSView\"}},\"id\":\"1741\",\"type\":\"GlyphRenderer\"},{\"attributes\":{\"fill_color\":{\"value\":\"navy\"},\"line_alpha\":{\"value\":0},\"line_color\":{\"value\":\"navy\"},\"size\":{\"units\":\"screen\",\"value\":10},\"x\":{\"field\":\"x\"},\"y\":{\"field\":\"y\"}},\"id\":\"1739\",\"type\":\"Circle\"},{\"attributes\":{},\"id\":\"1803\",\"type\":\"CategoricalTickFormatter\"},{\"attributes\":{},\"id\":\"1729\",\"type\":\"PanTool\"},{\"attributes\":{\"line_alpha\":{\"value\":0.1},\"line_color\":{\"value\":\"#1f77b4\"},\"line_width\":{\"value\":2},\"xs\":{\"field\":\"xs\"},\"ys\":{\"field\":\"ys\"}},\"id\":\"1750\",\"type\":\"MultiLine\"},{\"attributes\":{\"dimension\":1,\"ticker\":{\"id\":\"1725\",\"type\":\"BasicTicker\"}},\"id\":\"1728\",\"type\":\"Grid\"},{\"attributes\":{\"axis_label\":\"Weekly_Sales\",\"formatter\":{\"id\":\"1801\",\"type\":\"BasicTickFormatter\"},\"ticker\":{\"id\":\"1725\",\"type\":\"BasicTicker\"}},\"id\":\"1724\",\"type\":\"LinearAxis\"},{\"attributes\":{\"data_source\":{\"id\":\"1748\",\"type\":\"ColumnDataSource\"},\"glyph\":{\"id\":\"1749\",\"type\":\"MultiLine\"},\"hover_glyph\":null,\"muted_glyph\":null,\"nonselection_glyph\":{\"id\":\"1750\",\"type\":\"MultiLine\"},\"selection_glyph\":null,\"view\":{\"id\":\"1752\",\"type\":\"CDSView\"}},\"id\":\"1751\",\"type\":\"GlyphRenderer\"},{\"attributes\":{\"axis_label\":\"week_n\",\"formatter\":{\"id\":\"1803\",\"type\":\"CategoricalTickFormatter\"},\"ticker\":{\"id\":\"1721\",\"type\":\"CategoricalTicker\"}},\"id\":\"1720\",\"type\":\"CategoricalAxis\"},{\"attributes\":{\"text\":\"Weekly_Sales errors grouped by week_n\"},\"id\":\"1710\",\"type\":\"Title\"},{\"attributes\":{\"dimensions\":\"height\"},\"id\":\"1730\",\"type\":\"WheelZoomTool\"},{\"attributes\":{\"active_drag\":\"auto\",\"active_inspect\":\"auto\",\"active_multi\":null,\"active_scroll\":\"auto\",\"active_tap\":\"auto\",\"tools\":[{\"id\":\"1729\",\"type\":\"PanTool\"},{\"id\":\"1730\",\"type\":\"WheelZoomTool\"},{\"id\":\"1731\",\"type\":\"ResetTool\"},{\"id\":\"1732\",\"type\":\"SaveTool\"}]},\"id\":\"1733\",\"type\":\"Toolbar\"},{\"attributes\":{\"ticker\":{\"id\":\"1721\",\"type\":\"CategoricalTicker\"}},\"id\":\"1723\",\"type\":\"Grid\"},{\"attributes\":{},\"id\":\"1808\",\"type\":\"Selection\"},{\"attributes\":{},\"id\":\"1731\",\"type\":\"ResetTool\"},{\"attributes\":{\"callback\":null,\"data\":{\"x\":[\"1\",\"2\",\"3\",\"4\",\"5\"],\"y\":{\"__ndarray__\":\"pHA9CpfdvUBcj8L16JG9QDMzMzPzx71AcT0K12MWvkDsUbgehay8QA==\",\"dtype\":\"float64\",\"shape\":[5]}},\"selected\":{\"id\":\"1804\",\"type\":\"Selection\"},\"selection_policy\":{\"id\":\"1805\",\"type\":\"UnionRenderers\"}},\"id\":\"1738\",\"type\":\"ColumnDataSource\"},{\"attributes\":{\"source\":{\"id\":\"1748\",\"type\":\"ColumnDataSource\"}},\"id\":\"1752\",\"type\":\"CDSView\"},{\"attributes\":{\"fill_color\":{\"value\":\"magenta\"},\"line_alpha\":{\"value\":0},\"line_color\":{\"value\":\"magenta\"},\"size\":{\"units\":\"screen\",\"value\":5},\"x\":{\"field\":\"x\"},\"y\":{\"field\":\"y\"}},\"id\":\"1744\",\"type\":\"Circle\"},{\"attributes\":{},\"id\":\"1721\",\"type\":\"CategoricalTicker\"},{\"attributes\":{\"callback\":null},\"id\":\"1714\",\"type\":\"DataRange1d\"},{\"attributes\":{},\"id\":\"1732\",\"type\":\"SaveTool\"},{\"attributes\":{},\"id\":\"1716\",\"type\":\"CategoricalScale\"},{\"attributes\":{\"fill_alpha\":{\"value\":0.1},\"fill_color\":{\"value\":\"#1f77b4\"},\"line_alpha\":{\"value\":0.1},\"line_color\":{\"value\":\"#1f77b4\"},\"size\":{\"units\":\"screen\",\"value\":10},\"x\":{\"field\":\"x\"},\"y\":{\"field\":\"y\"}},\"id\":\"1740\",\"type\":\"Circle\"},{\"attributes\":{},\"id\":\"1718\",\"type\":\"LinearScale\"},{\"attributes\":{\"callback\":null,\"factors\":[\"1\",\"2\",\"3\",\"4\",\"5\"]},\"id\":\"1712\",\"type\":\"FactorRange\"},{\"attributes\":{\"source\":{\"id\":\"1738\",\"type\":\"ColumnDataSource\"}},\"id\":\"1742\",\"type\":\"CDSView\"},{\"attributes\":{\"callback\":null,\"data\":{\"x\":[\"1\",\"2\",\"3\",\"4\",\"5\"],\"y\":{\"__ndarray__\":\"pHA9CpfdvUBcj8L16JG9QDMzMzPzx71AcT0K12MWvkDsUbgehay8QA==\",\"dtype\":\"float64\",\"shape\":[5]}},\"selected\":{\"id\":\"1806\",\"type\":\"Selection\"},\"selection_policy\":{\"id\":\"1807\",\"type\":\"UnionRenderers\"}},\"id\":\"1743\",\"type\":\"ColumnDataSource\"},{\"attributes\":{},\"id\":\"1801\",\"type\":\"BasicTickFormatter\"},{\"attributes\":{\"fill_alpha\":{\"value\":0.1},\"fill_color\":{\"value\":\"#1f77b4\"},\"line_alpha\":{\"value\":0.1},\"line_color\":{\"value\":\"#1f77b4\"},\"size\":{\"units\":\"screen\",\"value\":5},\"x\":{\"field\":\"x\"},\"y\":{\"field\":\"y\"}},\"id\":\"1745\",\"type\":\"Circle\"},{\"attributes\":{},\"id\":\"1807\",\"type\":\"UnionRenderers\"},{\"attributes\":{\"data_source\":{\"id\":\"1743\",\"type\":\"ColumnDataSource\"},\"glyph\":{\"id\":\"1744\",\"type\":\"Circle\"},\"hover_glyph\":null,\"muted_glyph\":null,\"nonselection_glyph\":{\"id\":\"1745\",\"type\":\"Circle\"},\"selection_glyph\":null,\"view\":{\"id\":\"1747\",\"type\":\"CDSView\"}},\"id\":\"1746\",\"type\":\"GlyphRenderer\"},{\"attributes\":{},\"id\":\"1804\",\"type\":\"Selection\"},{\"attributes\":{\"line_color\":{\"value\":\"magenta\"},\"line_width\":{\"value\":2},\"xs\":{\"field\":\"xs\"},\"ys\":{\"field\":\"ys\"}},\"id\":\"1749\",\"type\":\"MultiLine\"},{\"attributes\":{},\"id\":\"1805\",\"type\":\"UnionRenderers\"},{\"attributes\":{},\"id\":\"1725\",\"type\":\"BasicTicker\"},{\"attributes\":{\"source\":{\"id\":\"1743\",\"type\":\"ColumnDataSource\"}},\"id\":\"1747\",\"type\":\"CDSView\"},{\"attributes\":{\"callback\":null,\"data\":{\"xs\":[[\"1\",\"1\"],[\"2\",\"2\"],[\"3\",\"3\"],[\"4\",\"4\"],[\"5\",\"5\"]],\"ys\":[[1328.4859999999999,25513.096000000005],[1340.7759999999998,25044.075999999997],[1360.0,24963.94],[1350.462,25689.508000000013],[1293.4540000000002,24252.512000000013]]},\"selected\":{\"id\":\"1808\",\"type\":\"Selection\"},\"selection_policy\":{\"id\":\"1809\",\"type\":\"UnionRenderers\"}},\"id\":\"1748\",\"type\":\"ColumnDataSource\"},{\"attributes\":{},\"id\":\"1809\",\"type\":\"UnionRenderers\"}],\"root_ids\":[\"1709\"]},\"title\":\"Bokeh Application\",\"version\":\"1.3.4\"}};\n",
       "  var render_items = [{\"docid\":\"8a411844-57c1-4c3c-b683-5be6c102b1eb\",\"roots\":{\"1709\":\"8fdc2e28-d0b2-4b7c-be4a-7101571f9afa\"}}];\n",
       "  root.Bokeh.embed.embed_items_notebook(docs_json, render_items);\n",
       "\n",
       "  }\n",
       "  if (root.Bokeh !== undefined) {\n",
       "    embed_document(root);\n",
       "  } else {\n",
       "    var attempts = 0;\n",
       "    var timer = setInterval(function(root) {\n",
       "      if (root.Bokeh !== undefined) {\n",
       "        embed_document(root);\n",
       "        clearInterval(timer);\n",
       "      }\n",
       "      attempts++;\n",
       "      if (attempts > 100) {\n",
       "        console.log(\"Bokeh: ERROR: Unable to run BokehJS code because BokehJS library is missing\");\n",
       "        clearInterval(timer);\n",
       "      }\n",
       "    }, 10, root)\n",
       "  }\n",
       "})(window);"
      ],
      "application/vnd.bokehjs_exec.v0+json": ""
     },
     "metadata": {
      "application/vnd.bokehjs_exec.v0+json": {
       "id": "1709"
      }
     },
     "output_type": "display_data"
    }
   ],
   "source": [
    "p = plot.plot_error_values(train, \"week_n\", \"Weekly_Sales\", drop_quantile=0.20, \n",
    "                           title=\"Weekly_Sales errors grouped by week_n\")\n",
    "show(p)"
   ]
  },
  {
   "cell_type": "code",
   "execution_count": 14,
   "metadata": {},
   "outputs": [],
   "source": [
    "# p = plot.plot_error_values(train, \"week_n\", \"sales_diff_p\", drop_quantile=0.15, \n",
    "#                            title=\"Weekly_Sales errors grouped by week_n\")\n",
    "# show(p)"
   ]
  },
  {
   "cell_type": "code",
   "execution_count": 15,
   "metadata": {},
   "outputs": [],
   "source": [
    "# train[\"wm_date\"] = train[\"month_n\"] + \"/\" + train[\"week_n\"].astype(str)"
   ]
  },
  {
   "cell_type": "code",
   "execution_count": 16,
   "metadata": {},
   "outputs": [
    {
     "data": {
      "text/html": [
       "\n",
       "\n",
       "\n",
       "\n",
       "\n",
       "\n",
       "  <div class=\"bk-root\" id=\"992fe83f-58bc-454d-8bd8-a5cdf2b344fe\" data-root-id=\"1876\"></div>\n"
      ]
     },
     "metadata": {},
     "output_type": "display_data"
    },
    {
     "data": {
      "application/javascript": [
       "(function(root) {\n",
       "  function embed_document(root) {\n",
       "    \n",
       "  var docs_json = {\"df6cfada-0a7a-4cf8-b07a-874d35c350ba\":{\"roots\":{\"references\":[{\"attributes\":{\"below\":[{\"id\":\"1887\",\"type\":\"CategoricalAxis\"}],\"center\":[{\"id\":\"1890\",\"type\":\"Grid\"},{\"id\":\"1895\",\"type\":\"Grid\"}],\"left\":[{\"id\":\"1891\",\"type\":\"LinearAxis\"}],\"plot_height\":300,\"plot_width\":1200,\"renderers\":[{\"id\":\"1908\",\"type\":\"GlyphRenderer\"},{\"id\":\"1913\",\"type\":\"GlyphRenderer\"},{\"id\":\"1918\",\"type\":\"GlyphRenderer\"}],\"title\":{\"id\":\"1877\",\"type\":\"Title\"},\"toolbar\":{\"id\":\"1900\",\"type\":\"Toolbar\"},\"x_range\":{\"id\":\"1879\",\"type\":\"FactorRange\"},\"x_scale\":{\"id\":\"1883\",\"type\":\"CategoricalScale\"},\"y_range\":{\"id\":\"1881\",\"type\":\"DataRange1d\"},\"y_scale\":{\"id\":\"1885\",\"type\":\"LinearScale\"}},\"id\":\"1876\",\"subtype\":\"Figure\",\"type\":\"Plot\"},{\"attributes\":{},\"id\":\"1982\",\"type\":\"Selection\"},{\"attributes\":{\"fill_color\":{\"value\":\"magenta\"},\"line_alpha\":{\"value\":0},\"line_color\":{\"value\":\"magenta\"},\"size\":{\"units\":\"screen\",\"value\":5},\"x\":{\"field\":\"x\"},\"y\":{\"field\":\"y\"}},\"id\":\"1911\",\"type\":\"Circle\"},{\"attributes\":{\"axis_label\":\"Weekly_Sales\",\"formatter\":{\"id\":\"1979\",\"type\":\"BasicTickFormatter\"},\"ticker\":{\"id\":\"1892\",\"type\":\"BasicTicker\"}},\"id\":\"1891\",\"type\":\"LinearAxis\"},{\"attributes\":{},\"id\":\"1987\",\"type\":\"UnionRenderers\"},{\"attributes\":{\"line_color\":{\"value\":\"magenta\"},\"line_width\":{\"value\":2},\"xs\":{\"field\":\"xs\"},\"ys\":{\"field\":\"ys\"}},\"id\":\"1916\",\"type\":\"MultiLine\"},{\"attributes\":{\"dimension\":1,\"ticker\":{\"id\":\"1892\",\"type\":\"BasicTicker\"}},\"id\":\"1895\",\"type\":\"Grid\"},{\"attributes\":{\"source\":{\"id\":\"1910\",\"type\":\"ColumnDataSource\"}},\"id\":\"1914\",\"type\":\"CDSView\"},{\"attributes\":{},\"id\":\"1885\",\"type\":\"LinearScale\"},{\"attributes\":{\"axis_label\":\"wm_date\",\"formatter\":{\"id\":\"1981\",\"type\":\"CategoricalTickFormatter\"},\"ticker\":{\"id\":\"1888\",\"type\":\"CategoricalTicker\"}},\"id\":\"1887\",\"type\":\"CategoricalAxis\"},{\"attributes\":{\"dimensions\":\"height\"},\"id\":\"1897\",\"type\":\"WheelZoomTool\"},{\"attributes\":{},\"id\":\"1883\",\"type\":\"CategoricalScale\"},{\"attributes\":{\"data_source\":{\"id\":\"1905\",\"type\":\"ColumnDataSource\"},\"glyph\":{\"id\":\"1906\",\"type\":\"Circle\"},\"hover_glyph\":null,\"muted_glyph\":null,\"nonselection_glyph\":{\"id\":\"1907\",\"type\":\"Circle\"},\"selection_glyph\":null,\"view\":{\"id\":\"1909\",\"type\":\"CDSView\"}},\"id\":\"1908\",\"type\":\"GlyphRenderer\"},{\"attributes\":{},\"id\":\"1898\",\"type\":\"ResetTool\"},{\"attributes\":{\"fill_alpha\":{\"value\":0.1},\"fill_color\":{\"value\":\"#1f77b4\"},\"line_alpha\":{\"value\":0.1},\"line_color\":{\"value\":\"#1f77b4\"},\"size\":{\"units\":\"screen\",\"value\":5},\"x\":{\"field\":\"x\"},\"y\":{\"field\":\"y\"}},\"id\":\"1912\",\"type\":\"Circle\"},{\"attributes\":{\"fill_color\":{\"value\":\"navy\"},\"line_alpha\":{\"value\":0},\"line_color\":{\"value\":\"navy\"},\"size\":{\"units\":\"screen\",\"value\":10},\"x\":{\"field\":\"x\"},\"y\":{\"field\":\"y\"}},\"id\":\"1906\",\"type\":\"Circle\"},{\"attributes\":{\"line_alpha\":{\"value\":0.1},\"line_color\":{\"value\":\"#1f77b4\"},\"line_width\":{\"value\":2},\"xs\":{\"field\":\"xs\"},\"ys\":{\"field\":\"ys\"}},\"id\":\"1917\",\"type\":\"MultiLine\"},{\"attributes\":{\"callback\":null,\"factors\":[\"01/1\",\"01/2\",\"01/3\",\"01/4\",\"02/1\",\"02/2\",\"02/3\",\"02/4\",\"03/1\",\"03/2\",\"03/3\",\"03/4\",\"03/5\",\"04/1\",\"04/2\",\"04/3\",\"04/4\",\"04/5\",\"05/1\",\"05/2\",\"05/3\",\"05/4\",\"06/1\",\"06/2\",\"06/3\",\"06/4\",\"06/5\",\"07/1\",\"07/2\",\"07/3\",\"07/4\",\"07/5\",\"08/1\",\"08/2\",\"08/3\",\"08/4\",\"08/5\",\"09/1\",\"09/2\",\"09/3\",\"09/4\",\"09/5\",\"10/1\",\"10/2\",\"10/3\",\"10/4\",\"10/5\",\"11/1\",\"11/2\",\"11/3\",\"11/4\",\"12/1\",\"12/2\",\"12/3\",\"12/4\",\"12/5\"]},\"id\":\"1879\",\"type\":\"FactorRange\"},{\"attributes\":{\"data_source\":{\"id\":\"1915\",\"type\":\"ColumnDataSource\"},\"glyph\":{\"id\":\"1916\",\"type\":\"MultiLine\"},\"hover_glyph\":null,\"muted_glyph\":null,\"nonselection_glyph\":{\"id\":\"1917\",\"type\":\"MultiLine\"},\"selection_glyph\":null,\"view\":{\"id\":\"1919\",\"type\":\"CDSView\"}},\"id\":\"1918\",\"type\":\"GlyphRenderer\"},{\"attributes\":{},\"id\":\"1888\",\"type\":\"CategoricalTicker\"},{\"attributes\":{\"ticker\":{\"id\":\"1888\",\"type\":\"CategoricalTicker\"}},\"id\":\"1890\",\"type\":\"Grid\"},{\"attributes\":{},\"id\":\"1899\",\"type\":\"SaveTool\"},{\"attributes\":{\"callback\":null,\"data\":{\"x\":[\"01/1\",\"01/2\",\"01/3\",\"01/4\",\"02/1\",\"02/2\",\"02/3\",\"02/4\",\"03/1\",\"03/2\",\"03/3\",\"03/4\",\"03/5\",\"04/1\",\"04/2\",\"04/3\",\"04/4\",\"04/5\",\"05/1\",\"05/2\",\"05/3\",\"05/4\",\"06/1\",\"06/2\",\"06/3\",\"06/4\",\"06/5\",\"07/1\",\"07/2\",\"07/3\",\"07/4\",\"07/5\",\"08/1\",\"08/2\",\"08/3\",\"08/4\",\"08/5\",\"09/1\",\"09/2\",\"09/3\",\"09/4\",\"09/5\",\"10/1\",\"10/2\",\"10/3\",\"10/4\",\"10/5\",\"11/1\",\"11/2\",\"11/3\",\"11/4\",\"12/1\",\"12/2\",\"12/3\",\"12/4\",\"12/5\"],\"y\":{\"__ndarray__\":\"KVyPwnVNuUA+Ctej0DW3QDMzMzMzALhA4XoUrkd0t0CQwvUofJ28QBSuR+E6Ib9A7FG4HgUjwEAzMzMzM2m8QML1KFzvfr1APgrXo1C7vEDiehSuhzy+QIXrUbi+trxAmpmZmdkEvUBxPQrXY5W/QMP1KFwPAr5ApHA9ClfNvEDhehSu58e9QBSuR+G6/LxAj8L1KNx+vkCamZmZee+9QArXo3Bdr71AzczMzIwDv0CkcD0Kl2+/QJqZmZnZA79AmpmZmVmTvkApXI/C9e+9QM3MzMzMTL1A4XoUroezvkBSuB6Fi2q9QNejcD3KRL1AexSuR4HivEB7FK5HofC8QI/C9Sjc3L5A9ihcj0I0vkAAAAAAAIy+QHsUrkfhir5AkML1KFyIvkCF61G4Hqm9QOxRuB4lVrxAAAAAAIC7u0ApXI/CdU67QKRwPQpXfbpAw/UoXM+uvEAfhetRGJK8QNejcD0qg7xAPQrXo3DsvEA9CtejEPe8QArXo3Ad871AFK5H4fq+vUCF61G4HsO9QD0K16Owi8NAexSuR6G6vkBwPQrXo4bBQNejcD3qD8RAuB6F65EVykD2KFyPQoa7QA==\",\"dtype\":\"float64\",\"shape\":[56]}},\"selected\":{\"id\":\"1982\",\"type\":\"Selection\"},\"selection_policy\":{\"id\":\"1983\",\"type\":\"UnionRenderers\"}},\"id\":\"1905\",\"type\":\"ColumnDataSource\"},{\"attributes\":{},\"id\":\"1985\",\"type\":\"UnionRenderers\"},{\"attributes\":{\"source\":{\"id\":\"1915\",\"type\":\"ColumnDataSource\"}},\"id\":\"1919\",\"type\":\"CDSView\"},{\"attributes\":{\"active_drag\":\"auto\",\"active_inspect\":\"auto\",\"active_multi\":null,\"active_scroll\":\"auto\",\"active_tap\":\"auto\",\"tools\":[{\"id\":\"1896\",\"type\":\"PanTool\"},{\"id\":\"1897\",\"type\":\"WheelZoomTool\"},{\"id\":\"1898\",\"type\":\"ResetTool\"},{\"id\":\"1899\",\"type\":\"SaveTool\"}]},\"id\":\"1900\",\"type\":\"Toolbar\"},{\"attributes\":{},\"id\":\"1986\",\"type\":\"Selection\"},{\"attributes\":{},\"id\":\"1983\",\"type\":\"UnionRenderers\"},{\"attributes\":{},\"id\":\"1984\",\"type\":\"Selection\"},{\"attributes\":{\"fill_alpha\":{\"value\":0.1},\"fill_color\":{\"value\":\"#1f77b4\"},\"line_alpha\":{\"value\":0.1},\"line_color\":{\"value\":\"#1f77b4\"},\"size\":{\"units\":\"screen\",\"value\":10},\"x\":{\"field\":\"x\"},\"y\":{\"field\":\"y\"}},\"id\":\"1907\",\"type\":\"Circle\"},{\"attributes\":{},\"id\":\"1896\",\"type\":\"PanTool\"},{\"attributes\":{\"callback\":null,\"data\":{\"xs\":[[\"01/1\",\"01/1\"],[\"01/2\",\"01/2\"],[\"01/3\",\"01/3\"],[\"01/4\",\"01/4\"],[\"02/1\",\"02/1\"],[\"02/2\",\"02/2\"],[\"02/3\",\"02/3\"],[\"02/4\",\"02/4\"],[\"03/1\",\"03/1\"],[\"03/2\",\"03/2\"],[\"03/3\",\"03/3\"],[\"03/4\",\"03/4\"],[\"03/5\",\"03/5\"],[\"04/1\",\"04/1\"],[\"04/2\",\"04/2\"],[\"04/3\",\"04/3\"],[\"04/4\",\"04/4\"],[\"04/5\",\"04/5\"],[\"05/1\",\"05/1\"],[\"05/2\",\"05/2\"],[\"05/3\",\"05/3\"],[\"05/4\",\"05/4\"],[\"06/1\",\"06/1\"],[\"06/2\",\"06/2\"],[\"06/3\",\"06/3\"],[\"06/4\",\"06/4\"],[\"06/5\",\"06/5\"],[\"07/1\",\"07/1\"],[\"07/2\",\"07/2\"],[\"07/3\",\"07/3\"],[\"07/4\",\"07/4\"],[\"07/5\",\"07/5\"],[\"08/1\",\"08/1\"],[\"08/2\",\"08/2\"],[\"08/3\",\"08/3\"],[\"08/4\",\"08/4\"],[\"08/5\",\"08/5\"],[\"09/1\",\"09/1\"],[\"09/2\",\"09/2\"],[\"09/3\",\"09/3\"],[\"09/4\",\"09/4\"],[\"09/5\",\"09/5\"],[\"10/1\",\"10/1\"],[\"10/2\",\"10/2\"],[\"10/3\",\"10/3\"],[\"10/4\",\"10/4\"],[\"10/5\",\"10/5\"],[\"11/1\",\"11/1\"],[\"11/2\",\"11/2\"],[\"11/3\",\"11/3\"],[\"11/4\",\"11/4\"],[\"12/1\",\"12/1\"],[\"12/2\",\"12/2\"],[\"12/3\",\"12/3\"],[\"12/4\",\"12/4\"],[\"12/5\",\"12/5\"]],\"ys\":[[1769.23,17812.735],[1590.2025,16780.3125],[1612.39,16799.38],[1573.315,16267.08],[1920.04,19390.767499999998],[2070.7349999999997,20516.61],[2189.75,20895.68],[1876.8600000000001,18657.71],[1895.8249999999998,19413.1175],[1986.1825,19135.8725],[2138.7725,19406.0975],[2079.6975,18900.997499999998],[2118.15,19690.21],[2212.6800000000003,20905.86],[2168.285,19978.985],[1999.385,19395.905],[2067.505,19548.667500000003],[2025.135,18956.9075],[2105.59,20421.97],[2156.4300000000003,19740.3125],[2161.1075,19728.800000000003],[2212.3199999999997,20968.165],[2248.74,22233.64],[2220.1,21436.82],[2216.2425,21300.425],[2199.955,21149.9775],[2021.08,21137.62],[2149.0,22148.06],[2080.5175,21115.3825],[2026.77,20504.64],[1939.7649999999999,20161.5975],[1964.5224999999998,19862.8],[2024.0375,21057.8525],[1985.07,20437.21],[1997.4,20366.05],[2068.77,20485.56],[1918.07,20298.267499999998],[1901.8,20145.79],[1906.4125,19071.3975],[2048.29,18199.497499999998],[2000.585,17877.375],[1989.32,17611.055],[2109.54,19195.09],[2140.9025,19219.295],[2110.415,19108.8325],[2115.2,19410.93],[2201.3999999999996,19137.8075],[2258.5099999999998,20548.255],[2161.63,20231.63],[2160.87,19478.99],[2592.625,25892.79],[2298.125,21470.2],[2555.2825000000003,24046.57],[2769.965,26455.145],[3382.99,34147.19],[1944.0125,19589.107500000002]]},\"selected\":{\"id\":\"1986\",\"type\":\"Selection\"},\"selection_policy\":{\"id\":\"1987\",\"type\":\"UnionRenderers\"}},\"id\":\"1915\",\"type\":\"ColumnDataSource\"},{\"attributes\":{},\"id\":\"1981\",\"type\":\"CategoricalTickFormatter\"},{\"attributes\":{\"source\":{\"id\":\"1905\",\"type\":\"ColumnDataSource\"}},\"id\":\"1909\",\"type\":\"CDSView\"},{\"attributes\":{\"text\":\"Weekly_Sales errors grouped by wm_date\"},\"id\":\"1877\",\"type\":\"Title\"},{\"attributes\":{},\"id\":\"1979\",\"type\":\"BasicTickFormatter\"},{\"attributes\":{\"callback\":null},\"id\":\"1881\",\"type\":\"DataRange1d\"},{\"attributes\":{\"data_source\":{\"id\":\"1910\",\"type\":\"ColumnDataSource\"},\"glyph\":{\"id\":\"1911\",\"type\":\"Circle\"},\"hover_glyph\":null,\"muted_glyph\":null,\"nonselection_glyph\":{\"id\":\"1912\",\"type\":\"Circle\"},\"selection_glyph\":null,\"view\":{\"id\":\"1914\",\"type\":\"CDSView\"}},\"id\":\"1913\",\"type\":\"GlyphRenderer\"},{\"attributes\":{\"callback\":null,\"data\":{\"x\":[\"01/1\",\"01/2\",\"01/3\",\"01/4\",\"02/1\",\"02/2\",\"02/3\",\"02/4\",\"03/1\",\"03/2\",\"03/3\",\"03/4\",\"03/5\",\"04/1\",\"04/2\",\"04/3\",\"04/4\",\"04/5\",\"05/1\",\"05/2\",\"05/3\",\"05/4\",\"06/1\",\"06/2\",\"06/3\",\"06/4\",\"06/5\",\"07/1\",\"07/2\",\"07/3\",\"07/4\",\"07/5\",\"08/1\",\"08/2\",\"08/3\",\"08/4\",\"08/5\",\"09/1\",\"09/2\",\"09/3\",\"09/4\",\"09/5\",\"10/1\",\"10/2\",\"10/3\",\"10/4\",\"10/5\",\"11/1\",\"11/2\",\"11/3\",\"11/4\",\"12/1\",\"12/2\",\"12/3\",\"12/4\",\"12/5\"],\"y\":{\"__ndarray__\":\"KVyPwnVNuUA+Ctej0DW3QDMzMzMzALhA4XoUrkd0t0CQwvUofJ28QBSuR+E6Ib9A7FG4HgUjwEAzMzMzM2m8QML1KFzvfr1APgrXo1C7vEDiehSuhzy+QIXrUbi+trxAmpmZmdkEvUBxPQrXY5W/QMP1KFwPAr5ApHA9ClfNvEDhehSu58e9QBSuR+G6/LxAj8L1KNx+vkCamZmZee+9QArXo3Bdr71AzczMzIwDv0CkcD0Kl2+/QJqZmZnZA79AmpmZmVmTvkApXI/C9e+9QM3MzMzMTL1A4XoUroezvkBSuB6Fi2q9QNejcD3KRL1AexSuR4HivEB7FK5HofC8QI/C9Sjc3L5A9ihcj0I0vkAAAAAAAIy+QHsUrkfhir5AkML1KFyIvkCF61G4Hqm9QOxRuB4lVrxAAAAAAIC7u0ApXI/CdU67QKRwPQpXfbpAw/UoXM+uvEAfhetRGJK8QNejcD0qg7xAPQrXo3DsvEA9CtejEPe8QArXo3Ad871AFK5H4fq+vUCF61G4HsO9QD0K16Owi8NAexSuR6G6vkBwPQrXo4bBQNejcD3qD8RAuB6F65EVykD2KFyPQoa7QA==\",\"dtype\":\"float64\",\"shape\":[56]}},\"selected\":{\"id\":\"1984\",\"type\":\"Selection\"},\"selection_policy\":{\"id\":\"1985\",\"type\":\"UnionRenderers\"}},\"id\":\"1910\",\"type\":\"ColumnDataSource\"},{\"attributes\":{},\"id\":\"1892\",\"type\":\"BasicTicker\"}],\"root_ids\":[\"1876\"]},\"title\":\"Bokeh Application\",\"version\":\"1.3.4\"}};\n",
       "  var render_items = [{\"docid\":\"df6cfada-0a7a-4cf8-b07a-874d35c350ba\",\"roots\":{\"1876\":\"992fe83f-58bc-454d-8bd8-a5cdf2b344fe\"}}];\n",
       "  root.Bokeh.embed.embed_items_notebook(docs_json, render_items);\n",
       "\n",
       "  }\n",
       "  if (root.Bokeh !== undefined) {\n",
       "    embed_document(root);\n",
       "  } else {\n",
       "    var attempts = 0;\n",
       "    var timer = setInterval(function(root) {\n",
       "      if (root.Bokeh !== undefined) {\n",
       "        embed_document(root);\n",
       "        clearInterval(timer);\n",
       "      }\n",
       "      attempts++;\n",
       "      if (attempts > 100) {\n",
       "        console.log(\"Bokeh: ERROR: Unable to run BokehJS code because BokehJS library is missing\");\n",
       "        clearInterval(timer);\n",
       "      }\n",
       "    }, 10, root)\n",
       "  }\n",
       "})(window);"
      ],
      "application/vnd.bokehjs_exec.v0+json": ""
     },
     "metadata": {
      "application/vnd.bokehjs_exec.v0+json": {
       "id": "1876"
      }
     },
     "output_type": "display_data"
    }
   ],
   "source": [
    "p = plot.plot_error_values(train, \"wm_date\", \"Weekly_Sales\", drop_quantile=0.25, \n",
    "                           title=\"Weekly_Sales errors grouped by wm_date\", width=1200)\n",
    "show(p)"
   ]
  },
  {
   "cell_type": "code",
   "execution_count": 17,
   "metadata": {},
   "outputs": [],
   "source": [
    "# p = plot.plot_error_values(train, \"wm_date\", \"sales_diff_p\", drop_quantile=0.25, \n",
    "#                            title=\"sales_diff_p errors grouped by wm_date\", width=1200)\n",
    "# show(p)"
   ]
  },
  {
   "cell_type": "markdown",
   "metadata": {},
   "source": [
    "# <font color=\"navy\">Store</font>"
   ]
  },
  {
   "cell_type": "code",
   "execution_count": 18,
   "metadata": {},
   "outputs": [
    {
     "data": {
      "text/plain": [
       "<matplotlib.axes._subplots.AxesSubplot at 0x7f795a1b96d0>"
      ]
     },
     "execution_count": 18,
     "metadata": {},
     "output_type": "execute_result"
    }
   ],
   "source": [
    "train.groupby(\"Store\")[\"Weekly_Sales\"].mean().sort_values().plot.bar(title=\"Sales amout per store\", figsize=(10, 3))"
   ]
  },
  {
   "cell_type": "code",
   "execution_count": 19,
   "metadata": {},
   "outputs": [
    {
     "data": {
      "text/plain": [
       "<matplotlib.axes._subplots.AxesSubplot at 0x7f795cca2350>"
      ]
     },
     "execution_count": 19,
     "metadata": {},
     "output_type": "execute_result"
    },
    {
     "data": {
      "image/png": "[encoded data removed]",
      "text/plain": [
       "<Figure size 648x216 with 1 Axes>"
      ]
     },
     "metadata": {
      "needs_background": "light"
     },
     "output_type": "display_data"
    }
   ],
   "source": [
    "train.plot.scatter(\"Size\", \"Weekly_Sales\", title=\"Scatter Plot - Store Size vs Weekly_Sales\",figsize=(9,3))"
   ]
  },
  {
   "cell_type": "markdown",
   "metadata": {},
   "source": [
    "# <font color=\"navy\">IsHoliday</font>\n",
    "holiday evaluation weight = 5 <br>\n",
    "not holiday evaluation weight = 1"
   ]
  },
  {
   "cell_type": "code",
   "execution_count": 20,
   "metadata": {},
   "outputs": [
    {
     "data": {
      "text/plain": [
       "<matplotlib.axes._subplots.AxesSubplot at 0x7f795e5db110>"
      ]
     },
     "execution_count": 20,
     "metadata": {},
     "output_type": "execute_result"
    },
    {
     "data": {
      "image/png": "[encoded data removed]",
      "text/plain": [
       "<Figure size 1296x216 with 1 Axes>"
      ]
     },
     "metadata": {
      "needs_background": "light"
     },
     "output_type": "display_data"
    }
   ],
   "source": [
    "train.drop_duplicates([\"Store\", \"Date\"]).groupby(\"Store\")[\"IsHoliday\"].value_counts().plot.bar(title=\"Holidays count by store\",figsize=(18,3))"
   ]
  },
  {
   "cell_type": "code",
   "execution_count": 21,
   "metadata": {},
   "outputs": [
    {
     "data": {
      "text/html": [
       "<div>\n",
       "<style scoped>\n",
       "    .dataframe tbody tr th:only-of-type {\n",
       "        vertical-align: middle;\n",
       "    }\n",
       "\n",
       "    .dataframe tbody tr th {\n",
       "        vertical-align: top;\n",
       "    }\n",
       "\n",
       "    .dataframe thead th {\n",
       "        text-align: right;\n",
       "    }\n",
       "</style>\n",
       "<table border=\"1\" class=\"dataframe\">\n",
       "  <thead>\n",
       "    <tr style=\"text-align: right;\">\n",
       "      <th></th>\n",
       "      <th>freq_absolute</th>\n",
       "      <th>freq_relative</th>\n",
       "    </tr>\n",
       "  </thead>\n",
       "  <tbody>\n",
       "    <tr>\n",
       "      <td>False</td>\n",
       "      <td>5985</td>\n",
       "      <td>93.01%</td>\n",
       "    </tr>\n",
       "    <tr>\n",
       "      <td>True</td>\n",
       "      <td>450</td>\n",
       "      <td>6.99%</td>\n",
       "    </tr>\n",
       "  </tbody>\n",
       "</table>\n",
       "</div>"
      ],
      "text/plain": [
       "       freq_absolute freq_relative\n",
       "False           5985        93.01%\n",
       "True             450         6.99%"
      ]
     },
     "execution_count": 21,
     "metadata": {},
     "output_type": "execute_result"
    }
   ],
   "source": [
    "stats.freq(train.drop_duplicates([\"Store\", \"Date\"])[\"IsHoliday\"])"
   ]
  },
  {
   "cell_type": "code",
   "execution_count": 22,
   "metadata": {},
   "outputs": [
    {
     "data": {
      "text/plain": [
       "<matplotlib.axes._subplots.AxesSubplot at 0x7f795d7b9a50>"
      ]
     },
     "execution_count": 22,
     "metadata": {},
     "output_type": "execute_result"
    },
    {
     "data": {
      "image/png": "[encoded data removed]",
      "text/plain": [
       "<Figure size 432x288 with 1 Axes>"
      ]
     },
     "metadata": {
      "needs_background": "light"
     },
     "output_type": "display_data"
    }
   ],
   "source": [
    "train.groupby(\"IsHoliday\")[\"Weekly_Sales\"].median().plot.bar(title=\"Weekly_Sales grouped by Holidays\")"
   ]
  },
  {
   "cell_type": "code",
   "execution_count": 23,
   "metadata": {},
   "outputs": [
    {
     "data": {
      "text/html": [
       "\n",
       "\n",
       "\n",
       "\n",
       "\n",
       "\n",
       "  <div class=\"bk-root\" id=\"52f9f8e3-b16c-4afb-b536-ecec8d461cd4\" data-root-id=\"2054\"></div>\n"
      ]
     },
     "metadata": {},
     "output_type": "display_data"
    },
    {
     "data": {
      "application/javascript": [
       "(function(root) {\n",
       "  function embed_document(root) {\n",
       "    \n",
       "  var docs_json = {\"d1f67923-4e13-4655-bc83-7cca6b3a11cf\":{\"roots\":{\"references\":[{\"attributes\":{\"below\":[{\"id\":\"2065\",\"type\":\"CategoricalAxis\"}],\"center\":[{\"id\":\"2068\",\"type\":\"Grid\"},{\"id\":\"2073\",\"type\":\"Grid\"}],\"left\":[{\"id\":\"2069\",\"type\":\"LinearAxis\"}],\"plot_height\":300,\"plot_width\":400,\"renderers\":[{\"id\":\"2086\",\"type\":\"GlyphRenderer\"},{\"id\":\"2091\",\"type\":\"GlyphRenderer\"},{\"id\":\"2096\",\"type\":\"GlyphRenderer\"}],\"title\":{\"id\":\"2055\",\"type\":\"Title\"},\"toolbar\":{\"id\":\"2078\",\"type\":\"Toolbar\"},\"x_range\":{\"id\":\"2057\",\"type\":\"FactorRange\"},\"x_scale\":{\"id\":\"2061\",\"type\":\"CategoricalScale\"},\"y_range\":{\"id\":\"2059\",\"type\":\"DataRange1d\"},\"y_scale\":{\"id\":\"2063\",\"type\":\"LinearScale\"}},\"id\":\"2054\",\"subtype\":\"Figure\",\"type\":\"Plot\"},{\"attributes\":{\"data_source\":{\"id\":\"2088\",\"type\":\"ColumnDataSource\"},\"glyph\":{\"id\":\"2089\",\"type\":\"Circle\"},\"hover_glyph\":null,\"muted_glyph\":null,\"nonselection_glyph\":{\"id\":\"2090\",\"type\":\"Circle\"},\"selection_glyph\":null,\"view\":{\"id\":\"2092\",\"type\":\"CDSView\"}},\"id\":\"2091\",\"type\":\"GlyphRenderer\"},{\"attributes\":{\"fill_alpha\":{\"value\":0.1},\"fill_color\":{\"value\":\"#1f77b4\"},\"line_alpha\":{\"value\":0.1},\"line_color\":{\"value\":\"#1f77b4\"},\"size\":{\"units\":\"screen\",\"value\":5},\"x\":{\"field\":\"x\"},\"y\":{\"field\":\"y\"}},\"id\":\"2090\",\"type\":\"Circle\"},{\"attributes\":{\"callback\":null,\"data\":{\"xs\":[[\"False\",\"False\"],[\"True\",\"True\"]],\"ys\":[[2079.75,20131.21],[2078.54,21189.25]]},\"selected\":{\"id\":\"2175\",\"type\":\"Selection\"},\"selection_policy\":{\"id\":\"2176\",\"type\":\"UnionRenderers\"}},\"id\":\"2093\",\"type\":\"ColumnDataSource\"},{\"attributes\":{\"axis_label\":\"IsHoliday\",\"formatter\":{\"id\":\"2170\",\"type\":\"CategoricalTickFormatter\"},\"ticker\":{\"id\":\"2066\",\"type\":\"CategoricalTicker\"}},\"id\":\"2065\",\"type\":\"CategoricalAxis\"},{\"attributes\":{\"callback\":null,\"data\":{\"x\":[\"False\",\"True\"],\"y\":{\"__ndarray__\":\"MzMzM/OlvUAK16NwvQu/QA==\",\"dtype\":\"float64\",\"shape\":[2]}},\"selected\":{\"id\":\"2173\",\"type\":\"Selection\"},\"selection_policy\":{\"id\":\"2174\",\"type\":\"UnionRenderers\"}},\"id\":\"2088\",\"type\":\"ColumnDataSource\"},{\"attributes\":{\"line_color\":{\"value\":\"magenta\"},\"line_width\":{\"value\":2},\"xs\":{\"field\":\"xs\"},\"ys\":{\"field\":\"ys\"}},\"id\":\"2094\",\"type\":\"MultiLine\"},{\"attributes\":{\"ticker\":{\"id\":\"2066\",\"type\":\"CategoricalTicker\"}},\"id\":\"2068\",\"type\":\"Grid\"},{\"attributes\":{\"callback\":null},\"id\":\"2059\",\"type\":\"DataRange1d\"},{\"attributes\":{\"data_source\":{\"id\":\"2093\",\"type\":\"ColumnDataSource\"},\"glyph\":{\"id\":\"2094\",\"type\":\"MultiLine\"},\"hover_glyph\":null,\"muted_glyph\":null,\"nonselection_glyph\":{\"id\":\"2095\",\"type\":\"MultiLine\"},\"selection_glyph\":null,\"view\":{\"id\":\"2097\",\"type\":\"CDSView\"}},\"id\":\"2096\",\"type\":\"GlyphRenderer\"},{\"attributes\":{},\"id\":\"2168\",\"type\":\"BasicTickFormatter\"},{\"attributes\":{},\"id\":\"2070\",\"type\":\"BasicTicker\"},{\"attributes\":{},\"id\":\"2076\",\"type\":\"ResetTool\"},{\"attributes\":{\"source\":{\"id\":\"2083\",\"type\":\"ColumnDataSource\"}},\"id\":\"2087\",\"type\":\"CDSView\"},{\"attributes\":{\"line_alpha\":{\"value\":0.1},\"line_color\":{\"value\":\"#1f77b4\"},\"line_width\":{\"value\":2},\"xs\":{\"field\":\"xs\"},\"ys\":{\"field\":\"ys\"}},\"id\":\"2095\",\"type\":\"MultiLine\"},{\"attributes\":{\"active_drag\":\"auto\",\"active_inspect\":\"auto\",\"active_multi\":null,\"active_scroll\":\"auto\",\"active_tap\":\"auto\",\"tools\":[{\"id\":\"2074\",\"type\":\"PanTool\"},{\"id\":\"2075\",\"type\":\"WheelZoomTool\"},{\"id\":\"2076\",\"type\":\"ResetTool\"},{\"id\":\"2077\",\"type\":\"SaveTool\"}]},\"id\":\"2078\",\"type\":\"Toolbar\"},{\"attributes\":{},\"id\":\"2077\",\"type\":\"SaveTool\"},{\"attributes\":{\"callback\":null,\"data\":{\"x\":[\"False\",\"True\"],\"y\":{\"__ndarray__\":\"MzMzM/OlvUAK16NwvQu/QA==\",\"dtype\":\"float64\",\"shape\":[2]}},\"selected\":{\"id\":\"2171\",\"type\":\"Selection\"},\"selection_policy\":{\"id\":\"2172\",\"type\":\"UnionRenderers\"}},\"id\":\"2083\",\"type\":\"ColumnDataSource\"},{\"attributes\":{\"fill_alpha\":{\"value\":0.1},\"fill_color\":{\"value\":\"#1f77b4\"},\"line_alpha\":{\"value\":0.1},\"line_color\":{\"value\":\"#1f77b4\"},\"size\":{\"units\":\"screen\",\"value\":10},\"x\":{\"field\":\"x\"},\"y\":{\"field\":\"y\"}},\"id\":\"2085\",\"type\":\"Circle\"},{\"attributes\":{\"dimension\":1,\"ticker\":{\"id\":\"2070\",\"type\":\"BasicTicker\"}},\"id\":\"2073\",\"type\":\"Grid\"},{\"attributes\":{},\"id\":\"2171\",\"type\":\"Selection\"},{\"attributes\":{\"fill_color\":{\"value\":\"navy\"},\"line_alpha\":{\"value\":0},\"line_color\":{\"value\":\"navy\"},\"size\":{\"units\":\"screen\",\"value\":10},\"x\":{\"field\":\"x\"},\"y\":{\"field\":\"y\"}},\"id\":\"2084\",\"type\":\"Circle\"},{\"attributes\":{\"callback\":null,\"factors\":[\"False\",\"True\"]},\"id\":\"2057\",\"type\":\"FactorRange\"},{\"attributes\":{},\"id\":\"2063\",\"type\":\"LinearScale\"},{\"attributes\":{},\"id\":\"2172\",\"type\":\"UnionRenderers\"},{\"attributes\":{},\"id\":\"2175\",\"type\":\"Selection\"},{\"attributes\":{\"source\":{\"id\":\"2093\",\"type\":\"ColumnDataSource\"}},\"id\":\"2097\",\"type\":\"CDSView\"},{\"attributes\":{\"axis_label\":\"Weekly_Sales\",\"formatter\":{\"id\":\"2168\",\"type\":\"BasicTickFormatter\"},\"ticker\":{\"id\":\"2070\",\"type\":\"BasicTicker\"}},\"id\":\"2069\",\"type\":\"LinearAxis\"},{\"attributes\":{\"data_source\":{\"id\":\"2083\",\"type\":\"ColumnDataSource\"},\"glyph\":{\"id\":\"2084\",\"type\":\"Circle\"},\"hover_glyph\":null,\"muted_glyph\":null,\"nonselection_glyph\":{\"id\":\"2085\",\"type\":\"Circle\"},\"selection_glyph\":null,\"view\":{\"id\":\"2087\",\"type\":\"CDSView\"}},\"id\":\"2086\",\"type\":\"GlyphRenderer\"},{\"attributes\":{},\"id\":\"2170\",\"type\":\"CategoricalTickFormatter\"},{\"attributes\":{},\"id\":\"2174\",\"type\":\"UnionRenderers\"},{\"attributes\":{\"dimensions\":\"height\"},\"id\":\"2075\",\"type\":\"WheelZoomTool\"},{\"attributes\":{\"fill_color\":{\"value\":\"magenta\"},\"line_alpha\":{\"value\":0},\"line_color\":{\"value\":\"magenta\"},\"size\":{\"units\":\"screen\",\"value\":5},\"x\":{\"field\":\"x\"},\"y\":{\"field\":\"y\"}},\"id\":\"2089\",\"type\":\"Circle\"},{\"attributes\":{},\"id\":\"2066\",\"type\":\"CategoricalTicker\"},{\"attributes\":{\"source\":{\"id\":\"2088\",\"type\":\"ColumnDataSource\"}},\"id\":\"2092\",\"type\":\"CDSView\"},{\"attributes\":{},\"id\":\"2061\",\"type\":\"CategoricalScale\"},{\"attributes\":{},\"id\":\"2074\",\"type\":\"PanTool\"},{\"attributes\":{},\"id\":\"2173\",\"type\":\"Selection\"},{\"attributes\":{},\"id\":\"2176\",\"type\":\"UnionRenderers\"},{\"attributes\":{\"text\":\"Weekly_Sales errors grouped by IsHoliday\"},\"id\":\"2055\",\"type\":\"Title\"}],\"root_ids\":[\"2054\"]},\"title\":\"Bokeh Application\",\"version\":\"1.3.4\"}};\n",
       "  var render_items = [{\"docid\":\"d1f67923-4e13-4655-bc83-7cca6b3a11cf\",\"roots\":{\"2054\":\"52f9f8e3-b16c-4afb-b536-ecec8d461cd4\"}}];\n",
       "  root.Bokeh.embed.embed_items_notebook(docs_json, render_items);\n",
       "\n",
       "  }\n",
       "  if (root.Bokeh !== undefined) {\n",
       "    embed_document(root);\n",
       "  } else {\n",
       "    var attempts = 0;\n",
       "    var timer = setInterval(function(root) {\n",
       "      if (root.Bokeh !== undefined) {\n",
       "        embed_document(root);\n",
       "        clearInterval(timer);\n",
       "      }\n",
       "      attempts++;\n",
       "      if (attempts > 100) {\n",
       "        console.log(\"Bokeh: ERROR: Unable to run BokehJS code because BokehJS library is missing\");\n",
       "        clearInterval(timer);\n",
       "      }\n",
       "    }, 10, root)\n",
       "  }\n",
       "})(window);"
      ],
      "application/vnd.bokehjs_exec.v0+json": ""
     },
     "metadata": {
      "application/vnd.bokehjs_exec.v0+json": {
       "id": "2054"
      }
     },
     "output_type": "display_data"
    }
   ],
   "source": [
    "p = plot.plot_error_values(train, \"IsHoliday\", \"Weekly_Sales\", drop_quantile=0.25, \n",
    "                           title=\"Weekly_Sales errors grouped by IsHoliday\")\n",
    "show(p)"
   ]
  },
  {
   "cell_type": "markdown",
   "metadata": {},
   "source": [
    "#### Before Holiday"
   ]
  },
  {
   "cell_type": "code",
   "execution_count": 24,
   "metadata": {},
   "outputs": [
    {
     "data": {
      "text/plain": [
       "<matplotlib.axes._subplots.AxesSubplot at 0x7f798c4b8c50>"
      ]
     },
     "execution_count": 24,
     "metadata": {},
     "output_type": "execute_result"
    },
    {
     "data": {
      "image/png": "[encoded data removed]",
      "text/plain": [
       "<Figure size 360x144 with 1 Axes>"
      ]
     },
     "metadata": {
      "needs_background": "light"
     },
     "output_type": "display_data"
    }
   ],
   "source": [
    "train.groupby(\"pre_holiday\")[\"Weekly_Sales\"].median().plot.bar(title=\"Weekly_Sales BEFORE Holidays\", figsize=(5,2))"
   ]
  },
  {
   "cell_type": "code",
   "execution_count": 25,
   "metadata": {},
   "outputs": [
    {
     "data": {
      "text/html": [
       "\n",
       "\n",
       "\n",
       "\n",
       "\n",
       "\n",
       "  <div class=\"bk-root\" id=\"f2d1bfea-e7f1-4f1a-a678-4d0b4101e4b3\" data-root-id=\"2243\"></div>\n"
      ]
     },
     "metadata": {},
     "output_type": "display_data"
    },
    {
     "data": {
      "application/javascript": [
       "(function(root) {\n",
       "  function embed_document(root) {\n",
       "    \n",
       "  var docs_json = {\"9f85290b-2a81-47cf-a08c-cc1dab984bd3\":{\"roots\":{\"references\":[{\"attributes\":{\"below\":[{\"id\":\"2254\",\"type\":\"CategoricalAxis\"}],\"center\":[{\"id\":\"2257\",\"type\":\"Grid\"},{\"id\":\"2262\",\"type\":\"Grid\"}],\"left\":[{\"id\":\"2258\",\"type\":\"LinearAxis\"}],\"plot_height\":200,\"plot_width\":350,\"renderers\":[{\"id\":\"2275\",\"type\":\"GlyphRenderer\"},{\"id\":\"2280\",\"type\":\"GlyphRenderer\"},{\"id\":\"2285\",\"type\":\"GlyphRenderer\"}],\"title\":{\"id\":\"2244\",\"type\":\"Title\"},\"toolbar\":{\"id\":\"2267\",\"type\":\"Toolbar\"},\"x_range\":{\"id\":\"2246\",\"type\":\"FactorRange\"},\"x_scale\":{\"id\":\"2250\",\"type\":\"CategoricalScale\"},\"y_range\":{\"id\":\"2248\",\"type\":\"DataRange1d\"},\"y_scale\":{\"id\":\"2252\",\"type\":\"LinearScale\"}},\"id\":\"2243\",\"subtype\":\"Figure\",\"type\":\"Plot\"},{\"attributes\":{},\"id\":\"2371\",\"type\":\"Selection\"},{\"attributes\":{},\"id\":\"2375\",\"type\":\"Selection\"},{\"attributes\":{\"source\":{\"id\":\"2277\",\"type\":\"ColumnDataSource\"}},\"id\":\"2281\",\"type\":\"CDSView\"},{\"attributes\":{\"data_source\":{\"id\":\"2272\",\"type\":\"ColumnDataSource\"},\"glyph\":{\"id\":\"2273\",\"type\":\"Circle\"},\"hover_glyph\":null,\"muted_glyph\":null,\"nonselection_glyph\":{\"id\":\"2274\",\"type\":\"Circle\"},\"selection_glyph\":null,\"view\":{\"id\":\"2276\",\"type\":\"CDSView\"}},\"id\":\"2275\",\"type\":\"GlyphRenderer\"},{\"attributes\":{\"fill_color\":{\"value\":\"magenta\"},\"line_alpha\":{\"value\":0},\"line_color\":{\"value\":\"magenta\"},\"size\":{\"units\":\"screen\",\"value\":5},\"x\":{\"field\":\"x\"},\"y\":{\"field\":\"y\"}},\"id\":\"2278\",\"type\":\"Circle\"},{\"attributes\":{\"callback\":null,\"factors\":[\"False\",\"True\"]},\"id\":\"2246\",\"type\":\"FactorRange\"},{\"attributes\":{},\"id\":\"2376\",\"type\":\"UnionRenderers\"},{\"attributes\":{\"data_source\":{\"id\":\"2282\",\"type\":\"ColumnDataSource\"},\"glyph\":{\"id\":\"2283\",\"type\":\"MultiLine\"},\"hover_glyph\":null,\"muted_glyph\":null,\"nonselection_glyph\":{\"id\":\"2284\",\"type\":\"MultiLine\"},\"selection_glyph\":null,\"view\":{\"id\":\"2286\",\"type\":\"CDSView\"}},\"id\":\"2285\",\"type\":\"GlyphRenderer\"},{\"attributes\":{\"dimension\":1,\"ticker\":{\"id\":\"2259\",\"type\":\"BasicTicker\"}},\"id\":\"2262\",\"type\":\"Grid\"},{\"attributes\":{\"axis_label\":\"pre_holiday\",\"formatter\":{\"id\":\"2370\",\"type\":\"CategoricalTickFormatter\"},\"ticker\":{\"id\":\"2255\",\"type\":\"CategoricalTicker\"}},\"id\":\"2254\",\"type\":\"CategoricalAxis\"},{\"attributes\":{},\"id\":\"2368\",\"type\":\"BasicTickFormatter\"},{\"attributes\":{\"ticker\":{\"id\":\"2255\",\"type\":\"CategoricalTicker\"}},\"id\":\"2257\",\"type\":\"Grid\"},{\"attributes\":{\"fill_alpha\":{\"value\":0.1},\"fill_color\":{\"value\":\"#1f77b4\"},\"line_alpha\":{\"value\":0.1},\"line_color\":{\"value\":\"#1f77b4\"},\"size\":{\"units\":\"screen\",\"value\":10},\"x\":{\"field\":\"x\"},\"y\":{\"field\":\"y\"}},\"id\":\"2274\",\"type\":\"Circle\"},{\"attributes\":{\"source\":{\"id\":\"2272\",\"type\":\"ColumnDataSource\"}},\"id\":\"2276\",\"type\":\"CDSView\"},{\"attributes\":{},\"id\":\"2374\",\"type\":\"UnionRenderers\"},{\"attributes\":{\"callback\":null,\"data\":{\"x\":[\"False\",\"True\"],\"y\":{\"__ndarray__\":\"AAAAAACSvUA9CtejsBfAQA==\",\"dtype\":\"float64\",\"shape\":[2]}},\"selected\":{\"id\":\"2371\",\"type\":\"Selection\"},\"selection_policy\":{\"id\":\"2372\",\"type\":\"UnionRenderers\"}},\"id\":\"2272\",\"type\":\"ColumnDataSource\"},{\"attributes\":{\"callback\":null,\"data\":{\"xs\":[[\"False\",\"False\"],[\"True\",\"True\"]],\"ys\":[[2071.4449999999997,20062.14],[2194.91,22219.489999999998]]},\"selected\":{\"id\":\"2375\",\"type\":\"Selection\"},\"selection_policy\":{\"id\":\"2376\",\"type\":\"UnionRenderers\"}},\"id\":\"2282\",\"type\":\"ColumnDataSource\"},{\"attributes\":{},\"id\":\"2370\",\"type\":\"CategoricalTickFormatter\"},{\"attributes\":{},\"id\":\"2265\",\"type\":\"ResetTool\"},{\"attributes\":{\"fill_color\":{\"value\":\"navy\"},\"line_alpha\":{\"value\":0},\"line_color\":{\"value\":\"navy\"},\"size\":{\"units\":\"screen\",\"value\":10},\"x\":{\"field\":\"x\"},\"y\":{\"field\":\"y\"}},\"id\":\"2273\",\"type\":\"Circle\"},{\"attributes\":{\"source\":{\"id\":\"2282\",\"type\":\"ColumnDataSource\"}},\"id\":\"2286\",\"type\":\"CDSView\"},{\"attributes\":{\"line_alpha\":{\"value\":0.1},\"line_color\":{\"value\":\"#1f77b4\"},\"line_width\":{\"value\":2},\"xs\":{\"field\":\"xs\"},\"ys\":{\"field\":\"ys\"}},\"id\":\"2284\",\"type\":\"MultiLine\"},{\"attributes\":{\"active_drag\":\"auto\",\"active_inspect\":\"auto\",\"active_multi\":null,\"active_scroll\":\"auto\",\"active_tap\":\"auto\",\"tools\":[{\"id\":\"2263\",\"type\":\"PanTool\"},{\"id\":\"2264\",\"type\":\"WheelZoomTool\"},{\"id\":\"2265\",\"type\":\"ResetTool\"},{\"id\":\"2266\",\"type\":\"SaveTool\"}]},\"id\":\"2267\",\"type\":\"Toolbar\"},{\"attributes\":{},\"id\":\"2259\",\"type\":\"BasicTicker\"},{\"attributes\":{},\"id\":\"2250\",\"type\":\"CategoricalScale\"},{\"attributes\":{\"callback\":null,\"data\":{\"x\":[\"False\",\"True\"],\"y\":{\"__ndarray__\":\"AAAAAACSvUA9CtejsBfAQA==\",\"dtype\":\"float64\",\"shape\":[2]}},\"selected\":{\"id\":\"2373\",\"type\":\"Selection\"},\"selection_policy\":{\"id\":\"2374\",\"type\":\"UnionRenderers\"}},\"id\":\"2277\",\"type\":\"ColumnDataSource\"},{\"attributes\":{\"dimensions\":\"height\"},\"id\":\"2264\",\"type\":\"WheelZoomTool\"},{\"attributes\":{},\"id\":\"2263\",\"type\":\"PanTool\"},{\"attributes\":{},\"id\":\"2255\",\"type\":\"CategoricalTicker\"},{\"attributes\":{},\"id\":\"2252\",\"type\":\"LinearScale\"},{\"attributes\":{\"data_source\":{\"id\":\"2277\",\"type\":\"ColumnDataSource\"},\"glyph\":{\"id\":\"2278\",\"type\":\"Circle\"},\"hover_glyph\":null,\"muted_glyph\":null,\"nonselection_glyph\":{\"id\":\"2279\",\"type\":\"Circle\"},\"selection_glyph\":null,\"view\":{\"id\":\"2281\",\"type\":\"CDSView\"}},\"id\":\"2280\",\"type\":\"GlyphRenderer\"},{\"attributes\":{\"text\":\"Weekly_Sales errors grouped by pre_holiday\"},\"id\":\"2244\",\"type\":\"Title\"},{\"attributes\":{\"line_color\":{\"value\":\"magenta\"},\"line_width\":{\"value\":2},\"xs\":{\"field\":\"xs\"},\"ys\":{\"field\":\"ys\"}},\"id\":\"2283\",\"type\":\"MultiLine\"},{\"attributes\":{},\"id\":\"2373\",\"type\":\"Selection\"},{\"attributes\":{\"callback\":null},\"id\":\"2248\",\"type\":\"DataRange1d\"},{\"attributes\":{},\"id\":\"2266\",\"type\":\"SaveTool\"},{\"attributes\":{\"fill_alpha\":{\"value\":0.1},\"fill_color\":{\"value\":\"#1f77b4\"},\"line_alpha\":{\"value\":0.1},\"line_color\":{\"value\":\"#1f77b4\"},\"size\":{\"units\":\"screen\",\"value\":5},\"x\":{\"field\":\"x\"},\"y\":{\"field\":\"y\"}},\"id\":\"2279\",\"type\":\"Circle\"},{\"attributes\":{},\"id\":\"2372\",\"type\":\"UnionRenderers\"},{\"attributes\":{\"axis_label\":\"Weekly_Sales\",\"formatter\":{\"id\":\"2368\",\"type\":\"BasicTickFormatter\"},\"ticker\":{\"id\":\"2259\",\"type\":\"BasicTicker\"}},\"id\":\"2258\",\"type\":\"LinearAxis\"}],\"root_ids\":[\"2243\"]},\"title\":\"Bokeh Application\",\"version\":\"1.3.4\"}};\n",
       "  var render_items = [{\"docid\":\"9f85290b-2a81-47cf-a08c-cc1dab984bd3\",\"roots\":{\"2243\":\"f2d1bfea-e7f1-4f1a-a678-4d0b4101e4b3\"}}];\n",
       "  root.Bokeh.embed.embed_items_notebook(docs_json, render_items);\n",
       "\n",
       "  }\n",
       "  if (root.Bokeh !== undefined) {\n",
       "    embed_document(root);\n",
       "  } else {\n",
       "    var attempts = 0;\n",
       "    var timer = setInterval(function(root) {\n",
       "      if (root.Bokeh !== undefined) {\n",
       "        embed_document(root);\n",
       "        clearInterval(timer);\n",
       "      }\n",
       "      attempts++;\n",
       "      if (attempts > 100) {\n",
       "        console.log(\"Bokeh: ERROR: Unable to run BokehJS code because BokehJS library is missing\");\n",
       "        clearInterval(timer);\n",
       "      }\n",
       "    }, 10, root)\n",
       "  }\n",
       "})(window);"
      ],
      "application/vnd.bokehjs_exec.v0+json": ""
     },
     "metadata": {
      "application/vnd.bokehjs_exec.v0+json": {
       "id": "2243"
      }
     },
     "output_type": "display_data"
    }
   ],
   "source": [
    "p = plot.plot_error_values(train, \"pre_holiday\", \"Weekly_Sales\", drop_quantile=0.25, \n",
    "                           title=\"Weekly_Sales errors grouped by pre_holiday\", width=350, height=200)\n",
    "show(p)"
   ]
  },
  {
   "cell_type": "markdown",
   "metadata": {},
   "source": [
    "#### After Holiday"
   ]
  },
  {
   "cell_type": "code",
   "execution_count": 26,
   "metadata": {},
   "outputs": [
    {
     "data": {
      "text/plain": [
       "<matplotlib.axes._subplots.AxesSubplot at 0x7f795d817250>"
      ]
     },
     "execution_count": 26,
     "metadata": {},
     "output_type": "execute_result"
    },
    {
     "data": {
      "image/png": "[encoded data removed]",
      "text/plain": [
       "<Figure size 360x144 with 1 Axes>"
      ]
     },
     "metadata": {
      "needs_background": "light"
     },
     "output_type": "display_data"
    }
   ],
   "source": [
    "train.groupby(\"pos_holiday\")[\"Weekly_Sales\"].median().plot.bar(title=\"Weekly_Sales AFTER Holidays\", figsize=(5,2))"
   ]
  },
  {
   "cell_type": "code",
   "execution_count": 27,
   "metadata": {},
   "outputs": [
    {
     "data": {
      "text/html": [
       "\n",
       "\n",
       "\n",
       "\n",
       "\n",
       "\n",
       "  <div class=\"bk-root\" id=\"a1f46f3b-5bfb-4bd9-8d66-b4e1e910566c\" data-root-id=\"2443\"></div>\n"
      ]
     },
     "metadata": {},
     "output_type": "display_data"
    },
    {
     "data": {
      "application/javascript": [
       "(function(root) {\n",
       "  function embed_document(root) {\n",
       "    \n",
       "  var docs_json = {\"4a05cc95-8560-4ed4-b31c-1721040bc701\":{\"roots\":{\"references\":[{\"attributes\":{\"below\":[{\"id\":\"2454\",\"type\":\"CategoricalAxis\"}],\"center\":[{\"id\":\"2457\",\"type\":\"Grid\"},{\"id\":\"2462\",\"type\":\"Grid\"}],\"left\":[{\"id\":\"2458\",\"type\":\"LinearAxis\"}],\"plot_height\":200,\"plot_width\":350,\"renderers\":[{\"id\":\"2475\",\"type\":\"GlyphRenderer\"},{\"id\":\"2480\",\"type\":\"GlyphRenderer\"},{\"id\":\"2485\",\"type\":\"GlyphRenderer\"}],\"title\":{\"id\":\"2444\",\"type\":\"Title\"},\"toolbar\":{\"id\":\"2467\",\"type\":\"Toolbar\"},\"x_range\":{\"id\":\"2446\",\"type\":\"FactorRange\"},\"x_scale\":{\"id\":\"2450\",\"type\":\"CategoricalScale\"},\"y_range\":{\"id\":\"2448\",\"type\":\"DataRange1d\"},\"y_scale\":{\"id\":\"2452\",\"type\":\"LinearScale\"}},\"id\":\"2443\",\"subtype\":\"Figure\",\"type\":\"Plot\"},{\"attributes\":{\"fill_color\":{\"value\":\"magenta\"},\"line_alpha\":{\"value\":0},\"line_color\":{\"value\":\"magenta\"},\"size\":{\"units\":\"screen\",\"value\":5},\"x\":{\"field\":\"x\"},\"y\":{\"field\":\"y\"}},\"id\":\"2478\",\"type\":\"Circle\"},{\"attributes\":{},\"id\":\"2466\",\"type\":\"SaveTool\"},{\"attributes\":{\"fill_color\":{\"value\":\"navy\"},\"line_alpha\":{\"value\":0},\"line_color\":{\"value\":\"navy\"},\"size\":{\"units\":\"screen\",\"value\":10},\"x\":{\"field\":\"x\"},\"y\":{\"field\":\"y\"}},\"id\":\"2473\",\"type\":\"Circle\"},{\"attributes\":{\"source\":{\"id\":\"2477\",\"type\":\"ColumnDataSource\"}},\"id\":\"2481\",\"type\":\"CDSView\"},{\"attributes\":{\"text\":\"Weekly_Sales errors grouped by pos_holiday\"},\"id\":\"2444\",\"type\":\"Title\"},{\"attributes\":{\"callback\":null,\"factors\":[\"False\",\"True\"]},\"id\":\"2446\",\"type\":\"FactorRange\"},{\"attributes\":{\"axis_label\":\"pos_holiday\",\"formatter\":{\"id\":\"2581\",\"type\":\"CategoricalTickFormatter\"},\"ticker\":{\"id\":\"2455\",\"type\":\"CategoricalTicker\"}},\"id\":\"2454\",\"type\":\"CategoricalAxis\"},{\"attributes\":{\"active_drag\":\"auto\",\"active_inspect\":\"auto\",\"active_multi\":null,\"active_scroll\":\"auto\",\"active_tap\":\"auto\",\"tools\":[{\"id\":\"2463\",\"type\":\"PanTool\"},{\"id\":\"2464\",\"type\":\"WheelZoomTool\"},{\"id\":\"2465\",\"type\":\"ResetTool\"},{\"id\":\"2466\",\"type\":\"SaveTool\"}]},\"id\":\"2467\",\"type\":\"Toolbar\"},{\"attributes\":{\"dimensions\":\"height\"},\"id\":\"2464\",\"type\":\"WheelZoomTool\"},{\"attributes\":{},\"id\":\"2587\",\"type\":\"UnionRenderers\"},{\"attributes\":{\"dimension\":1,\"ticker\":{\"id\":\"2459\",\"type\":\"BasicTicker\"}},\"id\":\"2462\",\"type\":\"Grid\"},{\"attributes\":{\"source\":{\"id\":\"2482\",\"type\":\"ColumnDataSource\"}},\"id\":\"2486\",\"type\":\"CDSView\"},{\"attributes\":{},\"id\":\"2586\",\"type\":\"Selection\"},{\"attributes\":{\"data_source\":{\"id\":\"2472\",\"type\":\"ColumnDataSource\"},\"glyph\":{\"id\":\"2473\",\"type\":\"Circle\"},\"hover_glyph\":null,\"muted_glyph\":null,\"nonselection_glyph\":{\"id\":\"2474\",\"type\":\"Circle\"},\"selection_glyph\":null,\"view\":{\"id\":\"2476\",\"type\":\"CDSView\"}},\"id\":\"2475\",\"type\":\"GlyphRenderer\"},{\"attributes\":{\"data_source\":{\"id\":\"2482\",\"type\":\"ColumnDataSource\"},\"glyph\":{\"id\":\"2483\",\"type\":\"MultiLine\"},\"hover_glyph\":null,\"muted_glyph\":null,\"nonselection_glyph\":{\"id\":\"2484\",\"type\":\"MultiLine\"},\"selection_glyph\":null,\"view\":{\"id\":\"2486\",\"type\":\"CDSView\"}},\"id\":\"2485\",\"type\":\"GlyphRenderer\"},{\"attributes\":{\"callback\":null,\"data\":{\"xs\":[[\"False\",\"False\"],[\"True\",\"True\"]],\"ys\":[[2081.82,20256.335],[2055.2,19554.4]]},\"selected\":{\"id\":\"2586\",\"type\":\"Selection\"},\"selection_policy\":{\"id\":\"2587\",\"type\":\"UnionRenderers\"}},\"id\":\"2482\",\"type\":\"ColumnDataSource\"},{\"attributes\":{},\"id\":\"2582\",\"type\":\"Selection\"},{\"attributes\":{},\"id\":\"2583\",\"type\":\"UnionRenderers\"},{\"attributes\":{},\"id\":\"2450\",\"type\":\"CategoricalScale\"},{\"attributes\":{\"line_alpha\":{\"value\":0.1},\"line_color\":{\"value\":\"#1f77b4\"},\"line_width\":{\"value\":2},\"xs\":{\"field\":\"xs\"},\"ys\":{\"field\":\"ys\"}},\"id\":\"2484\",\"type\":\"MultiLine\"},{\"attributes\":{},\"id\":\"2579\",\"type\":\"BasicTickFormatter\"},{\"attributes\":{},\"id\":\"2585\",\"type\":\"UnionRenderers\"},{\"attributes\":{\"callback\":null},\"id\":\"2448\",\"type\":\"DataRange1d\"},{\"attributes\":{},\"id\":\"2459\",\"type\":\"BasicTicker\"},{\"attributes\":{},\"id\":\"2584\",\"type\":\"Selection\"},{\"attributes\":{\"line_color\":{\"value\":\"magenta\"},\"line_width\":{\"value\":2},\"xs\":{\"field\":\"xs\"},\"ys\":{\"field\":\"ys\"}},\"id\":\"2483\",\"type\":\"MultiLine\"},{\"attributes\":{\"callback\":null,\"data\":{\"x\":[\"False\",\"True\"],\"y\":{\"__ndarray__\":\"2KNwPQrKvUD2KFyPQuq8QA==\",\"dtype\":\"float64\",\"shape\":[2]}},\"selected\":{\"id\":\"2584\",\"type\":\"Selection\"},\"selection_policy\":{\"id\":\"2585\",\"type\":\"UnionRenderers\"}},\"id\":\"2477\",\"type\":\"ColumnDataSource\"},{\"attributes\":{},\"id\":\"2581\",\"type\":\"CategoricalTickFormatter\"},{\"attributes\":{\"fill_alpha\":{\"value\":0.1},\"fill_color\":{\"value\":\"#1f77b4\"},\"line_alpha\":{\"value\":0.1},\"line_color\":{\"value\":\"#1f77b4\"},\"size\":{\"units\":\"screen\",\"value\":10},\"x\":{\"field\":\"x\"},\"y\":{\"field\":\"y\"}},\"id\":\"2474\",\"type\":\"Circle\"},{\"attributes\":{\"axis_label\":\"Weekly_Sales\",\"formatter\":{\"id\":\"2579\",\"type\":\"BasicTickFormatter\"},\"ticker\":{\"id\":\"2459\",\"type\":\"BasicTicker\"}},\"id\":\"2458\",\"type\":\"LinearAxis\"},{\"attributes\":{\"callback\":null,\"data\":{\"x\":[\"False\",\"True\"],\"y\":{\"__ndarray__\":\"2KNwPQrKvUD2KFyPQuq8QA==\",\"dtype\":\"float64\",\"shape\":[2]}},\"selected\":{\"id\":\"2582\",\"type\":\"Selection\"},\"selection_policy\":{\"id\":\"2583\",\"type\":\"UnionRenderers\"}},\"id\":\"2472\",\"type\":\"ColumnDataSource\"},{\"attributes\":{\"fill_alpha\":{\"value\":0.1},\"fill_color\":{\"value\":\"#1f77b4\"},\"line_alpha\":{\"value\":0.1},\"line_color\":{\"value\":\"#1f77b4\"},\"size\":{\"units\":\"screen\",\"value\":5},\"x\":{\"field\":\"x\"},\"y\":{\"field\":\"y\"}},\"id\":\"2479\",\"type\":\"Circle\"},{\"attributes\":{},\"id\":\"2455\",\"type\":\"CategoricalTicker\"},{\"attributes\":{},\"id\":\"2452\",\"type\":\"LinearScale\"},{\"attributes\":{},\"id\":\"2465\",\"type\":\"ResetTool\"},{\"attributes\":{\"source\":{\"id\":\"2472\",\"type\":\"ColumnDataSource\"}},\"id\":\"2476\",\"type\":\"CDSView\"},{\"attributes\":{\"ticker\":{\"id\":\"2455\",\"type\":\"CategoricalTicker\"}},\"id\":\"2457\",\"type\":\"Grid\"},{\"attributes\":{\"data_source\":{\"id\":\"2477\",\"type\":\"ColumnDataSource\"},\"glyph\":{\"id\":\"2478\",\"type\":\"Circle\"},\"hover_glyph\":null,\"muted_glyph\":null,\"nonselection_glyph\":{\"id\":\"2479\",\"type\":\"Circle\"},\"selection_glyph\":null,\"view\":{\"id\":\"2481\",\"type\":\"CDSView\"}},\"id\":\"2480\",\"type\":\"GlyphRenderer\"},{\"attributes\":{},\"id\":\"2463\",\"type\":\"PanTool\"}],\"root_ids\":[\"2443\"]},\"title\":\"Bokeh Application\",\"version\":\"1.3.4\"}};\n",
       "  var render_items = [{\"docid\":\"4a05cc95-8560-4ed4-b31c-1721040bc701\",\"roots\":{\"2443\":\"a1f46f3b-5bfb-4bd9-8d66-b4e1e910566c\"}}];\n",
       "  root.Bokeh.embed.embed_items_notebook(docs_json, render_items);\n",
       "\n",
       "  }\n",
       "  if (root.Bokeh !== undefined) {\n",
       "    embed_document(root);\n",
       "  } else {\n",
       "    var attempts = 0;\n",
       "    var timer = setInterval(function(root) {\n",
       "      if (root.Bokeh !== undefined) {\n",
       "        embed_document(root);\n",
       "        clearInterval(timer);\n",
       "      }\n",
       "      attempts++;\n",
       "      if (attempts > 100) {\n",
       "        console.log(\"Bokeh: ERROR: Unable to run BokehJS code because BokehJS library is missing\");\n",
       "        clearInterval(timer);\n",
       "      }\n",
       "    }, 10, root)\n",
       "  }\n",
       "})(window);"
      ],
      "application/vnd.bokehjs_exec.v0+json": ""
     },
     "metadata": {
      "application/vnd.bokehjs_exec.v0+json": {
       "id": "2443"
      }
     },
     "output_type": "display_data"
    }
   ],
   "source": [
    "p = plot.plot_error_values(train, \"pos_holiday\", \"Weekly_Sales\", drop_quantile=0.25, \n",
    "                           title=\"Weekly_Sales errors grouped by pos_holiday\", width=350, height=200)\n",
    "show(p)"
   ]
  },
  {
   "cell_type": "markdown",
   "metadata": {},
   "source": [
    "# <font color=\"navy\">Fuel_Price</font>"
   ]
  },
  {
   "cell_type": "code",
   "execution_count": 28,
   "metadata": {},
   "outputs": [
    {
     "data": {
      "text/plain": [
       "<matplotlib.axes._subplots.AxesSubplot at 0x7f795ceedc90>"
      ]
     },
     "execution_count": 28,
     "metadata": {},
     "output_type": "execute_result"
    },
    {
     "data": {
      "image/png": "[encoded data removed]",
      "text/plain": [
       "<Figure size 432x288 with 1 Axes>"
      ]
     },
     "metadata": {
      "needs_background": "light"
     },
     "output_type": "display_data"
    }
   ],
   "source": [
    "train.groupby([\"Store\", \"wm_date\"]).apply(lambda g : g[\"Fuel_Price\"].corr(g[\"Weekly_Sales\"])).hist(bins=20)"
   ]
  },
  {
   "cell_type": "markdown",
   "metadata": {},
   "source": [
    "It seems that Fuel_Price variation for the same date over years is not strong related to Weekly_Sales variation"
   ]
  },
  {
   "cell_type": "markdown",
   "metadata": {},
   "source": [
    "# <font color=\"navy\">CPI</font>"
   ]
  },
  {
   "cell_type": "code",
   "execution_count": 29,
   "metadata": {},
   "outputs": [
    {
     "data": {
      "text/plain": [
       "<matplotlib.axes._subplots.AxesSubplot at 0x7f795cce7c90>"
      ]
     },
     "execution_count": 29,
     "metadata": {},
     "output_type": "execute_result"
    },
    {
     "data": {
      "image/png": "[encoded data removed]",
      "text/plain": [
       "<Figure size 432x288 with 1 Axes>"
      ]
     },
     "metadata": {
      "needs_background": "light"
     },
     "output_type": "display_data"
    }
   ],
   "source": [
    "train.groupby([\"Store\", \"wm_date\"]).apply(lambda g : g[\"CPI\"].corr(g[\"Weekly_Sales\"])).hist(bins=20)"
   ]
  },
  {
   "cell_type": "markdown",
   "metadata": {},
   "source": [
    "It seems that Fuel_Price variation for the same date over years is not strong related to Weekly_Sales variation"
   ]
  },
  {
   "cell_type": "markdown",
   "metadata": {},
   "source": [
    "# <font color=\"navy\">Unemployment</font>"
   ]
  },
  {
   "cell_type": "code",
   "execution_count": 30,
   "metadata": {},
   "outputs": [
    {
     "data": {
      "text/plain": [
       "<matplotlib.axes._subplots.AxesSubplot at 0x7f795e5cd590>"
      ]
     },
     "execution_count": 30,
     "metadata": {},
     "output_type": "execute_result"
    },
    {
     "data": {
      "image/png": "[encoded data removed]",
      "text/plain": [
       "<Figure size 432x288 with 1 Axes>"
      ]
     },
     "metadata": {
      "needs_background": "light"
     },
     "output_type": "display_data"
    }
   ],
   "source": [
    "train.groupby([\"Store\", \"wm_date\"]).apply(lambda g : g[\"Unemployment\"].corr(g[\"Weekly_Sales\"])).hist(bins=20)"
   ]
  },
  {
   "cell_type": "markdown",
   "metadata": {},
   "source": [
    "It seems that Fuel_Price variation for the same date over years is not strong related to Weekly_Sales variation"
   ]
  },
  {
   "cell_type": "code",
   "execution_count": null,
   "metadata": {},
   "outputs": [],
   "source": []
  },
  {
   "cell_type": "code",
   "execution_count": null,
   "metadata": {},
   "outputs": [],
   "source": []
  },
  {
   "cell_type": "markdown",
   "metadata": {},
   "source": [
    "# <font color=\"navy\">Temperature</font>"
   ]
  },
  {
   "cell_type": "code",
   "execution_count": 31,
   "metadata": {},
   "outputs": [
    {
     "data": {
      "text/plain": [
       "<matplotlib.axes._subplots.AxesSubplot at 0x7f795c850850>"
      ]
     },
     "execution_count": 31,
     "metadata": {},
     "output_type": "execute_result"
    },
    {
     "data": {
      "image/png": "[encoded data removed]",
      "text/plain": [
       "<Figure size 432x288 with 1 Axes>"
      ]
     },
     "metadata": {
      "needs_background": "light"
     },
     "output_type": "display_data"
    }
   ],
   "source": [
    "train.plot.scatter(\"celsius\", \"Weekly_Sales\")"
   ]
  },
  {
   "cell_type": "code",
   "execution_count": 32,
   "metadata": {},
   "outputs": [
    {
     "name": "stderr",
     "output_type": "stream",
     "text": [
      "/home/tales/anaconda3/lib/python3.7/site-packages/bokeh/plotting/helpers.py:628: UserWarning: WheelZoomTool are being repeated\n",
      "  warnings.warn(\"%s are being repeated\" % \",\".join(repeated_tools))\n"
     ]
    },
    {
     "data": {
      "text/html": [
       "\n",
       "\n",
       "\n",
       "\n",
       "\n",
       "\n",
       "  <div class=\"bk-root\" id=\"ea5fa584-e9a9-46ef-ab9e-076d2572bf82\" data-root-id=\"2654\"></div>\n"
      ]
     },
     "metadata": {},
     "output_type": "display_data"
    },
    {
     "data": {
      "application/javascript": [
       "(function(root) {\n",
       "  function embed_document(root) {\n",
       "    \n",
       "  var docs_json = {\"2b41fc60-9e08-4843-9281-870cc277a13c\":{\"roots\":{\"references\":[{\"attributes\":{\"below\":[{\"id\":\"2665\",\"type\":\"DatetimeAxis\"}],\"center\":[{\"id\":\"2669\",\"type\":\"Grid\"},{\"id\":\"2674\",\"type\":\"Grid\"}],\"left\":[{\"id\":\"2670\",\"type\":\"LinearAxis\"}],\"plot_height\":200,\"plot_width\":900,\"renderers\":[{\"id\":\"2691\",\"type\":\"GlyphRenderer\"},{\"id\":\"2696\",\"type\":\"GlyphRenderer\"}],\"title\":{\"id\":\"2655\",\"type\":\"Title\"},\"toolbar\":{\"id\":\"2680\",\"type\":\"Toolbar\"},\"x_range\":{\"id\":\"2657\",\"type\":\"DataRange1d\"},\"x_scale\":{\"id\":\"2661\",\"type\":\"LinearScale\"},\"y_range\":{\"id\":\"2659\",\"type\":\"DataRange1d\"},\"y_scale\":{\"id\":\"2663\",\"type\":\"LinearScale\"}},\"id\":\"2654\",\"subtype\":\"Figure\",\"type\":\"Plot\"},{\"attributes\":{\"callback\":null,\"data\":{\"x\":{\"__ndarray__\":\"AADA0LZpckIAAACZ92tyQgAAQGE4bnJCAACAKXlwckIAAMDxuXJyQgAAALr6dHJCAABAgjt3ckIAAIBKfHlyQgAAwBK9e3JCAAAA2/19ckIAAECjPoByQgAAgGt/gnJCAADAM8CEckIAAAD8AIdyQgAAQMRBiXJCAACAjIKLckIAAMBUw41yQgAAAB0EkHJCAABA5USSckIAAICthZRyQgAAwHXGlnJCAAAAPgeZckIAAEAGSJtyQgAAgM6InXJCAADAlsmfckIAAABfCqJyQgAAQCdLpHJCAACA74umckIAAMC3zKhyQgAAAIANq3JCAABASE6tckIAAIAQj69yQgAAwNjPsXJCAAAAoRC0ckIAAEBpUbZyQgAAgDGSuHJCAADA+dK6ckIAAADCE71yQgAAQIpUv3JCAACAUpXBckIAAMAa1sNyQgAAAOMWxnJCAABAq1fIckIAAIBzmMpyQgAAwDvZzHJCAAAABBrPckIAAEDMWtFyQgAAgJSb03JCAADAXNzVckIAAAAlHdhyQgAAQO1d2nJCAACAtZ7cckIAAMB9395yQgAAAEYg4XJCAABADmHjckIAAIDWoeVyQgAAwJ7i53JCAAAAZyPqckIAAEAvZOxyQgAAgPek7nJCAADAv+XwckIAAACIJvNyQgAAQFBn9XJCAACAGKj3ckIAAMDg6PlyQgAAAKkp/HJCAABAcWr+ckIAAIA5qwBzQgAAwAHsAnNCAAAAyiwFc0IAAECSbQdzQgAAgFquCXNCAADAIu8Lc0IAAADrLw5zQgAAQLNwEHNCAACAe7ESc0IAAMBD8hRzQgAAAAwzF3NCAABA1HMZc0IAAICctBtzQgAAwGT1HXNCAAAALTYgc0IAAED1diJzQgAAgL23JHNCAADAhfgmc0IAAABOOSlzQgAAQBZ6K3NCAACA3rotc0IAAMCm+y9zQgAAAG88MnNCAABAN300c0IAAID/vTZzQgAAwMf+OHNCAAAAkD87c0IAAEBYgD1zQgAAgCDBP3NCAADA6AFCc0IAAACxQkRzQgAAQHmDRnNCAACAQcRIc0IAAMAJBUtzQgAAANJFTXNCAABAmoZPc0IAAIBix1FzQgAAwCoIVHNCAAAA80hWc0IAAEC7iVhzQgAAgIPKWnNCAADASwtdc0IAAAAUTF9zQgAAQNyMYXNCAACApM1jc0IAAMBsDmZzQgAAADVPaHNCAABA/Y9qc0IAAIDF0GxzQgAAwI0Rb3NCAAAAVlJxc0IAAEAek3NzQgAAgObTdXNCAADArhR4c0IAAAB3VXpzQgAAQD+WfHNCAACAB9d+c0IAAMDPF4FzQgAAAJhYg3NCAABAYJmFc0IAAIAo2odzQgAAwPAainNCAAAAuVuMc0IAAECBnI5zQgAAgEndkHNCAADAER6Tc0IAAADaXpVzQgAAQKKfl3NCAACAauCZc0IAAMAyIZxzQgAAAPthnnNCAABAw6Kgc0IAAICL46JzQgAAwFMkpXNCAAAAHGWnc0IAAEDkpalzQg==\",\"dtype\":\"float64\",\"shape\":[143]},\"y\":{\"__ndarray__\":\"XLAFW7AF8z/kSZ/0SZ/kPyDHcRzHcQBAchzHcRzHAUCN4ziO4zgTQA4RERERER9AfNInfdKnIkBlZmZmZmYlQCQiIiIioiJA+6RP+qRPMECJiIiIiAgqQJ70SZ/0SSpAHMdxHMfxJ0CIiIiIiIgzQBARERERkSpAUPqkT/pkMUBJn/RJn7Q0QOuTPumTfjdAbMEWbMGWNUASEREREZE2QJ70SZ/0STpAiYiIiIjIOEDGcRzHcdw6QDQzMzMzszlAiYiIiIiIO0C2YAu2YIs6QAAAAAAAQDlAmZmZmZmZOUAjIiIiIqI4QIQt2IIt2DdALtiCLdjCOUCELdiCLZg1QLEFW7AFWzNAP+mTPulTNEClT/qkT7o0QNMnfdInPTFAB1uwBVswLkB90id90qcrQPVJn/RJHzBAS5/0SZ/0I0DCFmzBFmwfQEuf9Emf9CNAzczMzMxMIEDOzMzMzMwVQOuTPumTPgVAbMEWbMEWAkBuHMdxHMf5P1wLtmALtvS/MtiCLdiC9T8BAAAAAAAMwDKO4ziO4/g/J33SJ33S9z9XVVVVVVX9v+c4juM4juu/V1VVVVVVGEDOzMzMzMwAQODd3d3d3Q9Akj7pkz7pHECe9Emf9EkgQFZVVVVVVSBALNiCLdiCHEDZgi3Ygq0iQJmZmZmZGShAC7ZgC7ZgJ0BKn/RJnzQxQPVJn/RJHy1A+qRP+qTPMEAofdInfdIwQBzHcRzH8TRA2YIt2IJtN0BEREREREQ3QLu7u7u7uzRA4ziO4zjON0Drkz7pk343QFuwBVuwRTlAERERERHROUBgC7ZgC/Y7QFD6pE/6ZDtA2IIt2IKtOUAAAAAAAAA5QCl90id90jhAvLu7u7t7O0AAAAAAAAA5QAy2YAu2oDVAZ2ZmZmamNEA5juM4jqMxQPVJn/RJnzVAzMzMzMzML0DYgi3Ygq0xQAVbsAVbsC5ALtiCLdgCJkAnfdInfdIcQFuwBVuwBSJA1Cd90id9JUC8u7u7u7shQD7pkz7pkyJABFuwBVuwFUD0SZ/0SZ8RQPykT/qkTxVAu7u7u7u7CUDHcRzHcRwFQGZmZmZmZhRAmZmZmZmZBUCwBVuwBVsKQA22YAu2YBdAjuM4juM4BkCi9Emf9EkHQFH6pE/6pBVAjOM4juM4FUC5YAu2YAseQHIcx3EcxyZABVuwBVuwLEBFRERERMQqQH7SJ33SpyVAd3d3d3d3JkC2YAu2YEsxQI7jOI7jODJAP+mTPukTMUD1SZ/0SZ8wQNmCLdiCbTJAJCIiIiIiNUCbmZmZmZk3QOmTPumTvjVA8O7u7u4uNkClT/qkT7o4QHIcx3EcxztAsAVbsAVbO0BJn/RJn7Q5QMzMzMzMDDpAZ2ZmZmbmOkBbsAVbsMU7QLAFW7AFmztAVlVVVVVVOkBJn/RJnzQ3QC7Ygi3YgjhAUPqkT/qkOEDkOI7jOE40QMAWbMEWbDNAoPRJn/RJMkDkOI7jOA4yQAAAAAAAACpAF2zBFmxBK0DUJ33SJ/0tQA==\",\"dtype\":\"float64\",\"shape\":[143]}},\"selected\":{\"id\":\"2805\",\"type\":\"Selection\"},\"selection_policy\":{\"id\":\"2806\",\"type\":\"UnionRenderers\"}},\"id\":\"2693\",\"type\":\"ColumnDataSource\"},{\"attributes\":{\"callback\":null},\"id\":\"2657\",\"type\":\"DataRange1d\"},{\"attributes\":{\"callback\":null},\"id\":\"2659\",\"type\":\"DataRange1d\"},{\"attributes\":{},\"id\":\"2678\",\"type\":\"ResetTool\"},{\"attributes\":{},\"id\":\"2671\",\"type\":\"BasicTicker\"},{\"attributes\":{\"base\":24,\"mantissas\":[1,2,4,6,8,12],\"max_interval\":43200000.0,\"min_interval\":3600000.0,\"num_minor_ticks\":0},\"id\":\"2809\",\"type\":\"AdaptiveTicker\"},{\"attributes\":{\"source\":{\"id\":\"2688\",\"type\":\"ColumnDataSource\"}},\"id\":\"2692\",\"type\":\"CDSView\"},{\"attributes\":{\"days\":[\"%d/%b\"],\"hours\":[\"%H:%M %d/%b\"],\"months\":[\"%d/%b/%Y\"],\"years\":[\"%d/%b/%Y\"]},\"id\":\"2686\",\"type\":\"DatetimeTickFormatter\"},{\"attributes\":{\"mantissas\":[1,2,5],\"max_interval\":500.0,\"num_minor_ticks\":0},\"id\":\"2807\",\"type\":\"AdaptiveTicker\"},{\"attributes\":{\"source\":{\"id\":\"2693\",\"type\":\"ColumnDataSource\"}},\"id\":\"2697\",\"type\":\"CDSView\"},{\"attributes\":{\"days\":[1,8,15,22]},\"id\":\"2812\",\"type\":\"DaysTicker\"},{\"attributes\":{\"months\":[0,1,2,3,4,5,6,7,8,9,10,11]},\"id\":\"2814\",\"type\":\"MonthsTicker\"},{\"attributes\":{\"dimension\":1,\"ticker\":{\"id\":\"2671\",\"type\":\"BasicTicker\"}},\"id\":\"2674\",\"type\":\"Grid\"},{\"attributes\":{\"formatter\":{\"id\":\"2686\",\"type\":\"DatetimeTickFormatter\"},\"ticker\":{\"id\":\"2666\",\"type\":\"DatetimeTicker\"}},\"id\":\"2665\",\"type\":\"DatetimeAxis\"},{\"attributes\":{\"fill_alpha\":{\"value\":0.8},\"fill_color\":{\"value\":\"magenta\"},\"line_alpha\":{\"value\":0.8},\"line_color\":{\"value\":\"magenta\"},\"size\":{\"units\":\"screen\",\"value\":3},\"x\":{\"field\":\"x\"},\"y\":{\"field\":\"y\"}},\"id\":\"2689\",\"type\":\"Circle\"},{\"attributes\":{},\"id\":\"2805\",\"type\":\"Selection\"},{\"attributes\":{},\"id\":\"2818\",\"type\":\"YearsTicker\"},{\"attributes\":{},\"id\":\"2801\",\"type\":\"BasicTickFormatter\"},{\"attributes\":{\"line_alpha\":0.1,\"line_color\":\"#1f77b4\",\"x\":{\"field\":\"x\"},\"y\":{\"field\":\"y\"}},\"id\":\"2695\",\"type\":\"Line\"},{\"attributes\":{\"num_minor_ticks\":5,\"tickers\":[{\"id\":\"2807\",\"type\":\"AdaptiveTicker\"},{\"id\":\"2808\",\"type\":\"AdaptiveTicker\"},{\"id\":\"2809\",\"type\":\"AdaptiveTicker\"},{\"id\":\"2810\",\"type\":\"DaysTicker\"},{\"id\":\"2811\",\"type\":\"DaysTicker\"},{\"id\":\"2812\",\"type\":\"DaysTicker\"},{\"id\":\"2813\",\"type\":\"DaysTicker\"},{\"id\":\"2814\",\"type\":\"MonthsTicker\"},{\"id\":\"2815\",\"type\":\"MonthsTicker\"},{\"id\":\"2816\",\"type\":\"MonthsTicker\"},{\"id\":\"2817\",\"type\":\"MonthsTicker\"},{\"id\":\"2818\",\"type\":\"YearsTicker\"}]},\"id\":\"2666\",\"type\":\"DatetimeTicker\"},{\"attributes\":{},\"id\":\"2803\",\"type\":\"Selection\"},{\"attributes\":{\"days\":[1,15]},\"id\":\"2813\",\"type\":\"DaysTicker\"},{\"attributes\":{\"text\":\"Temperature vs Datetime\"},\"id\":\"2655\",\"type\":\"Title\"},{\"attributes\":{\"formatter\":{\"id\":\"2801\",\"type\":\"BasicTickFormatter\"},\"ticker\":{\"id\":\"2671\",\"type\":\"BasicTicker\"}},\"id\":\"2670\",\"type\":\"LinearAxis\"},{\"attributes\":{},\"id\":\"2663\",\"type\":\"LinearScale\"},{\"attributes\":{\"ticker\":{\"id\":\"2666\",\"type\":\"DatetimeTicker\"}},\"id\":\"2669\",\"type\":\"Grid\"},{\"attributes\":{\"days\":[1,2,3,4,5,6,7,8,9,10,11,12,13,14,15,16,17,18,19,20,21,22,23,24,25,26,27,28,29,30,31]},\"id\":\"2810\",\"type\":\"DaysTicker\"},{\"attributes\":{\"line_alpha\":0.8,\"line_color\":\"magenta\",\"x\":{\"field\":\"x\"},\"y\":{\"field\":\"y\"}},\"id\":\"2694\",\"type\":\"Line\"},{\"attributes\":{\"months\":[0,4,8]},\"id\":\"2816\",\"type\":\"MonthsTicker\"},{\"attributes\":{\"months\":[0,6]},\"id\":\"2817\",\"type\":\"MonthsTicker\"},{\"attributes\":{\"dimensions\":\"height\"},\"id\":\"2676\",\"type\":\"WheelZoomTool\"},{\"attributes\":{},\"id\":\"2679\",\"type\":\"SaveTool\"},{\"attributes\":{},\"id\":\"2806\",\"type\":\"UnionRenderers\"},{\"attributes\":{},\"id\":\"2661\",\"type\":\"LinearScale\"},{\"attributes\":{\"months\":[0,2,4,6,8,10]},\"id\":\"2815\",\"type\":\"MonthsTicker\"},{\"attributes\":{},\"id\":\"2675\",\"type\":\"PanTool\"},{\"attributes\":{\"base\":60,\"mantissas\":[1,2,5,10,15,20,30],\"max_interval\":1800000.0,\"min_interval\":1000.0,\"num_minor_ticks\":0},\"id\":\"2808\",\"type\":\"AdaptiveTicker\"},{\"attributes\":{\"fill_alpha\":{\"value\":0.1},\"fill_color\":{\"value\":\"#1f77b4\"},\"line_alpha\":{\"value\":0.1},\"line_color\":{\"value\":\"#1f77b4\"},\"size\":{\"units\":\"screen\",\"value\":3},\"x\":{\"field\":\"x\"},\"y\":{\"field\":\"y\"}},\"id\":\"2690\",\"type\":\"Circle\"},{\"attributes\":{\"dimensions\":\"width\"},\"id\":\"2677\",\"type\":\"WheelZoomTool\"},{\"attributes\":{\"callback\":null,\"data\":{\"x\":{\"__ndarray__\":\"AADA0LZpckIAAACZ92tyQgAAQGE4bnJCAACAKXlwckIAAMDxuXJyQgAAALr6dHJCAABAgjt3ckIAAIBKfHlyQgAAwBK9e3JCAAAA2/19ckIAAECjPoByQgAAgGt/gnJCAADAM8CEckIAAAD8AIdyQgAAQMRBiXJCAACAjIKLckIAAMBUw41yQgAAAB0EkHJCAABA5USSckIAAICthZRyQgAAwHXGlnJCAAAAPgeZckIAAEAGSJtyQgAAgM6InXJCAADAlsmfckIAAABfCqJyQgAAQCdLpHJCAACA74umckIAAMC3zKhyQgAAAIANq3JCAABASE6tckIAAIAQj69yQgAAwNjPsXJCAAAAoRC0ckIAAEBpUbZyQgAAgDGSuHJCAADA+dK6ckIAAADCE71yQgAAQIpUv3JCAACAUpXBckIAAMAa1sNyQgAAAOMWxnJCAABAq1fIckIAAIBzmMpyQgAAwDvZzHJCAAAABBrPckIAAEDMWtFyQgAAgJSb03JCAADAXNzVckIAAAAlHdhyQgAAQO1d2nJCAACAtZ7cckIAAMB9395yQgAAAEYg4XJCAABADmHjckIAAIDWoeVyQgAAwJ7i53JCAAAAZyPqckIAAEAvZOxyQgAAgPek7nJCAADAv+XwckIAAACIJvNyQgAAQFBn9XJCAACAGKj3ckIAAMDg6PlyQgAAAKkp/HJCAABAcWr+ckIAAIA5qwBzQgAAwAHsAnNCAAAAyiwFc0IAAECSbQdzQgAAgFquCXNCAADAIu8Lc0IAAADrLw5zQgAAQLNwEHNCAACAe7ESc0IAAMBD8hRzQgAAAAwzF3NCAABA1HMZc0IAAICctBtzQgAAwGT1HXNCAAAALTYgc0IAAED1diJzQgAAgL23JHNCAADAhfgmc0IAAABOOSlzQgAAQBZ6K3NCAACA3rotc0IAAMCm+y9zQgAAAG88MnNCAABAN300c0IAAID/vTZzQgAAwMf+OHNCAAAAkD87c0IAAEBYgD1zQgAAgCDBP3NCAADA6AFCc0IAAACxQkRzQgAAQHmDRnNCAACAQcRIc0IAAMAJBUtzQgAAANJFTXNCAABAmoZPc0IAAIBix1FzQgAAwCoIVHNCAAAA80hWc0IAAEC7iVhzQgAAgIPKWnNCAADASwtdc0IAAAAUTF9zQgAAQNyMYXNCAACApM1jc0IAAMBsDmZzQgAAADVPaHNCAABA/Y9qc0IAAIDF0GxzQgAAwI0Rb3NCAAAAVlJxc0IAAEAek3NzQgAAgObTdXNCAADArhR4c0IAAAB3VXpzQgAAQD+WfHNCAACAB9d+c0IAAMDPF4FzQgAAAJhYg3NCAABAYJmFc0IAAIAo2odzQgAAwPAainNCAAAAuVuMc0IAAECBnI5zQgAAgEndkHNCAADAER6Tc0IAAADaXpVzQgAAQKKfl3NCAACAauCZc0IAAMAyIZxzQgAAAPthnnNCAABAw6Kgc0IAAICL46JzQgAAwFMkpXNCAAAAHGWnc0IAAEDkpalzQg==\",\"dtype\":\"float64\",\"shape\":[143]},\"y\":{\"__ndarray__\":\"XLAFW7AF8z/kSZ/0SZ/kPyDHcRzHcQBAchzHcRzHAUCN4ziO4zgTQA4RERERER9AfNInfdKnIkBlZmZmZmYlQCQiIiIioiJA+6RP+qRPMECJiIiIiAgqQJ70SZ/0SSpAHMdxHMfxJ0CIiIiIiIgzQBARERERkSpAUPqkT/pkMUBJn/RJn7Q0QOuTPumTfjdAbMEWbMGWNUASEREREZE2QJ70SZ/0STpAiYiIiIjIOEDGcRzHcdw6QDQzMzMzszlAiYiIiIiIO0C2YAu2YIs6QAAAAAAAQDlAmZmZmZmZOUAjIiIiIqI4QIQt2IIt2DdALtiCLdjCOUCELdiCLZg1QLEFW7AFWzNAP+mTPulTNEClT/qkT7o0QNMnfdInPTFAB1uwBVswLkB90id90qcrQPVJn/RJHzBAS5/0SZ/0I0DCFmzBFmwfQEuf9Emf9CNAzczMzMxMIEDOzMzMzMwVQOuTPumTPgVAbMEWbMEWAkBuHMdxHMf5P1wLtmALtvS/MtiCLdiC9T8BAAAAAAAMwDKO4ziO4/g/J33SJ33S9z9XVVVVVVX9v+c4juM4juu/V1VVVVVVGEDOzMzMzMwAQODd3d3d3Q9Akj7pkz7pHECe9Emf9EkgQFZVVVVVVSBALNiCLdiCHEDZgi3Ygq0iQJmZmZmZGShAC7ZgC7ZgJ0BKn/RJnzQxQPVJn/RJHy1A+qRP+qTPMEAofdInfdIwQBzHcRzH8TRA2YIt2IJtN0BEREREREQ3QLu7u7u7uzRA4ziO4zjON0Drkz7pk343QFuwBVuwRTlAERERERHROUBgC7ZgC/Y7QFD6pE/6ZDtA2IIt2IKtOUAAAAAAAAA5QCl90id90jhAvLu7u7t7O0AAAAAAAAA5QAy2YAu2oDVAZ2ZmZmamNEA5juM4jqMxQPVJn/RJnzVAzMzMzMzML0DYgi3Ygq0xQAVbsAVbsC5ALtiCLdgCJkAnfdInfdIcQFuwBVuwBSJA1Cd90id9JUC8u7u7u7shQD7pkz7pkyJABFuwBVuwFUD0SZ/0SZ8RQPykT/qkTxVAu7u7u7u7CUDHcRzHcRwFQGZmZmZmZhRAmZmZmZmZBUCwBVuwBVsKQA22YAu2YBdAjuM4juM4BkCi9Emf9EkHQFH6pE/6pBVAjOM4juM4FUC5YAu2YAseQHIcx3EcxyZABVuwBVuwLEBFRERERMQqQH7SJ33SpyVAd3d3d3d3JkC2YAu2YEsxQI7jOI7jODJAP+mTPukTMUD1SZ/0SZ8wQNmCLdiCbTJAJCIiIiIiNUCbmZmZmZk3QOmTPumTvjVA8O7u7u4uNkClT/qkT7o4QHIcx3EcxztAsAVbsAVbO0BJn/RJn7Q5QMzMzMzMDDpAZ2ZmZmbmOkBbsAVbsMU7QLAFW7AFmztAVlVVVVVVOkBJn/RJnzQ3QC7Ygi3YgjhAUPqkT/qkOEDkOI7jOE40QMAWbMEWbDNAoPRJn/RJMkDkOI7jOA4yQAAAAAAAACpAF2zBFmxBK0DUJ33SJ/0tQA==\",\"dtype\":\"float64\",\"shape\":[143]}},\"selected\":{\"id\":\"2803\",\"type\":\"Selection\"},\"selection_policy\":{\"id\":\"2804\",\"type\":\"UnionRenderers\"}},\"id\":\"2688\",\"type\":\"ColumnDataSource\"},{\"attributes\":{\"data_source\":{\"id\":\"2693\",\"type\":\"ColumnDataSource\"},\"glyph\":{\"id\":\"2694\",\"type\":\"Line\"},\"hover_glyph\":null,\"muted_glyph\":null,\"nonselection_glyph\":{\"id\":\"2695\",\"type\":\"Line\"},\"selection_glyph\":null,\"view\":{\"id\":\"2697\",\"type\":\"CDSView\"}},\"id\":\"2696\",\"type\":\"GlyphRenderer\"},{\"attributes\":{},\"id\":\"2804\",\"type\":\"UnionRenderers\"},{\"attributes\":{\"days\":[1,4,7,10,13,16,19,22,25,28]},\"id\":\"2811\",\"type\":\"DaysTicker\"},{\"attributes\":{\"active_drag\":\"auto\",\"active_inspect\":\"auto\",\"active_multi\":null,\"active_scroll\":\"auto\",\"active_tap\":\"auto\",\"tools\":[{\"id\":\"2675\",\"type\":\"PanTool\"},{\"id\":\"2676\",\"type\":\"WheelZoomTool\"},{\"id\":\"2677\",\"type\":\"WheelZoomTool\"},{\"id\":\"2678\",\"type\":\"ResetTool\"},{\"id\":\"2679\",\"type\":\"SaveTool\"}]},\"id\":\"2680\",\"type\":\"Toolbar\"},{\"attributes\":{\"data_source\":{\"id\":\"2688\",\"type\":\"ColumnDataSource\"},\"glyph\":{\"id\":\"2689\",\"type\":\"Circle\"},\"hover_glyph\":null,\"muted_glyph\":null,\"nonselection_glyph\":{\"id\":\"2690\",\"type\":\"Circle\"},\"selection_glyph\":null,\"view\":{\"id\":\"2692\",\"type\":\"CDSView\"}},\"id\":\"2691\",\"type\":\"GlyphRenderer\"}],\"root_ids\":[\"2654\"]},\"title\":\"Bokeh Application\",\"version\":\"1.3.4\"}};\n",
       "  var render_items = [{\"docid\":\"2b41fc60-9e08-4843-9281-870cc277a13c\",\"roots\":{\"2654\":\"ea5fa584-e9a9-46ef-ab9e-076d2572bf82\"}}];\n",
       "  root.Bokeh.embed.embed_items_notebook(docs_json, render_items);\n",
       "\n",
       "  }\n",
       "  if (root.Bokeh !== undefined) {\n",
       "    embed_document(root);\n",
       "  } else {\n",
       "    var attempts = 0;\n",
       "    var timer = setInterval(function(root) {\n",
       "      if (root.Bokeh !== undefined) {\n",
       "        embed_document(root);\n",
       "        clearInterval(timer);\n",
       "      }\n",
       "      attempts++;\n",
       "      if (attempts > 100) {\n",
       "        console.log(\"Bokeh: ERROR: Unable to run BokehJS code because BokehJS library is missing\");\n",
       "        clearInterval(timer);\n",
       "      }\n",
       "    }, 10, root)\n",
       "  }\n",
       "})(window);"
      ],
      "application/vnd.bokehjs_exec.v0+json": ""
     },
     "metadata": {
      "application/vnd.bokehjs_exec.v0+json": {
       "id": "2654"
      }
     },
     "output_type": "display_data"
    }
   ],
   "source": [
    "grouped_sales = train.groupby(\"Date\")[\"celsius\"].median()\n",
    "p = plot.plot_time_series_count(grouped_sales.index, grouped_sales, color=\"magenta\", title=\"Temperature vs Datetime\", relative_y_axis=True, height=200)\n",
    "show(p)"
   ]
  },
  {
   "cell_type": "code",
   "execution_count": 33,
   "metadata": {},
   "outputs": [
    {
     "data": {
      "text/html": [
       "\n",
       "\n",
       "\n",
       "\n",
       "\n",
       "\n",
       "  <div class=\"bk-root\" id=\"055918df-7f3a-408c-a79f-eec9f1b00eeb\" data-root-id=\"2939\"></div>\n"
      ]
     },
     "metadata": {},
     "output_type": "display_data"
    },
    {
     "data": {
      "application/javascript": [
       "(function(root) {\n",
       "  function embed_document(root) {\n",
       "    \n",
       "  var docs_json = {\"a12b96e3-ebb6-4346-b84d-92d558bb4f05\":{\"roots\":{\"references\":[{\"attributes\":{\"below\":[{\"id\":\"2950\",\"type\":\"DatetimeAxis\"}],\"center\":[{\"id\":\"2954\",\"type\":\"Grid\"},{\"id\":\"2959\",\"type\":\"Grid\"}],\"left\":[{\"id\":\"2955\",\"type\":\"LinearAxis\"}],\"plot_height\":200,\"plot_width\":900,\"renderers\":[{\"id\":\"2976\",\"type\":\"GlyphRenderer\"},{\"id\":\"2981\",\"type\":\"GlyphRenderer\"}],\"title\":{\"id\":\"2940\",\"type\":\"Title\"},\"toolbar\":{\"id\":\"2965\",\"type\":\"Toolbar\"},\"x_range\":{\"id\":\"2942\",\"type\":\"DataRange1d\"},\"x_scale\":{\"id\":\"2946\",\"type\":\"LinearScale\"},\"y_range\":{\"id\":\"2944\",\"type\":\"DataRange1d\"},\"y_scale\":{\"id\":\"2948\",\"type\":\"LinearScale\"}},\"id\":\"2939\",\"subtype\":\"Figure\",\"type\":\"Plot\"},{\"attributes\":{},\"id\":\"3110\",\"type\":\"Selection\"},{\"attributes\":{},\"id\":\"2946\",\"type\":\"LinearScale\"},{\"attributes\":{},\"id\":\"3109\",\"type\":\"UnionRenderers\"},{\"attributes\":{\"base\":60,\"mantissas\":[1,2,5,10,15,20,30],\"max_interval\":1800000.0,\"min_interval\":1000.0,\"num_minor_ticks\":0},\"id\":\"3113\",\"type\":\"AdaptiveTicker\"},{\"attributes\":{},\"id\":\"2963\",\"type\":\"ResetTool\"},{\"attributes\":{\"days\":[\"%d/%b\"],\"hours\":[\"%H:%M %d/%b\"],\"months\":[\"%d/%b/%Y\"],\"years\":[\"%d/%b/%Y\"]},\"id\":\"2971\",\"type\":\"DatetimeTickFormatter\"},{\"attributes\":{\"days\":[1,15]},\"id\":\"3118\",\"type\":\"DaysTicker\"},{\"attributes\":{\"line_alpha\":0.8,\"line_color\":\"navy\",\"x\":{\"field\":\"x\"},\"y\":{\"field\":\"y\"}},\"id\":\"2979\",\"type\":\"Line\"},{\"attributes\":{\"months\":[0,2,4,6,8,10]},\"id\":\"3120\",\"type\":\"MonthsTicker\"},{\"attributes\":{\"callback\":null,\"data\":{\"x\":{\"__ndarray__\":\"AADA0LZpckIAAACZ92tyQgAAQGE4bnJCAACAKXlwckIAAMDxuXJyQgAAALr6dHJCAABAgjt3ckIAAIBKfHlyQgAAwBK9e3JCAAAA2/19ckIAAECjPoByQgAAgGt/gnJCAADAM8CEckIAAAD8AIdyQgAAQMRBiXJCAACAjIKLckIAAMBUw41yQgAAAB0EkHJCAABA5USSckIAAICthZRyQgAAwHXGlnJCAAAAPgeZckIAAEAGSJtyQgAAgM6InXJCAADAlsmfckIAAABfCqJyQgAAQCdLpHJCAACA74umckIAAMC3zKhyQgAAAIANq3JCAABASE6tckIAAIAQj69yQgAAwNjPsXJCAAAAoRC0ckIAAEBpUbZyQgAAgDGSuHJCAADA+dK6ckIAAADCE71yQgAAQIpUv3JCAACAUpXBckIAAMAa1sNyQgAAAOMWxnJCAABAq1fIckIAAIBzmMpyQgAAwDvZzHJCAAAABBrPckIAAEDMWtFyQgAAgJSb03JCAADAXNzVckIAAAAlHdhyQgAAQO1d2nJCAACAtZ7cckIAAMB9395yQgAAAEYg4XJCAABADmHjckIAAIDWoeVyQgAAwJ7i53JCAAAAZyPqckIAAEAvZOxyQgAAgPek7nJCAADAv+XwckIAAACIJvNyQgAAQFBn9XJCAACAGKj3ckIAAMDg6PlyQgAAAKkp/HJCAABAcWr+ckIAAIA5qwBzQgAAwAHsAnNCAAAAyiwFc0IAAECSbQdzQgAAgFquCXNCAADAIu8Lc0IAAADrLw5zQgAAQLNwEHNCAACAe7ESc0IAAMBD8hRzQgAAAAwzF3NCAABA1HMZc0IAAICctBtzQgAAwGT1HXNCAAAALTYgc0IAAED1diJzQgAAgL23JHNCAADAhfgmc0IAAABOOSlzQgAAQBZ6K3NCAACA3rotc0IAAMCm+y9zQgAAAG88MnNCAABAN300c0IAAID/vTZzQgAAwMf+OHNCAAAAkD87c0IAAEBYgD1zQgAAgCDBP3NCAADA6AFCc0IAAACxQkRzQgAAQHmDRnNCAACAQcRIc0IAAMAJBUtzQgAAANJFTXNCAABAmoZPc0IAAIBix1FzQgAAwCoIVHNCAAAA80hWc0IAAEC7iVhzQgAAgIPKWnNCAADASwtdc0IAAAAUTF9zQgAAQNyMYXNCAACApM1jc0IAAMBsDmZzQgAAADVPaHNCAABA/Y9qc0IAAIDF0GxzQgAAwI0Rb3NCAAAAVlJxc0IAAEAek3NzQgAAgObTdXNCAADArhR4c0IAAAB3VXpzQgAAQD+WfHNCAACAB9d+c0IAAMDPF4FzQgAAAJhYg3NCAABAYJmFc0IAAIAo2odzQgAAwPAainNCAAAAuVuMc0IAAECBnI5zQgAAgEndkHNCAADAER6Tc0IAAADaXpVzQgAAQKKfl3NCAACAauCZc0IAAMAyIZxzQgAAAPthnnNCAABAw6Kgc0IAAICL46JzQgAAwFMkpXNCAAAAHGWnc0IAAEDkpalzQg==\",\"dtype\":\"float64\",\"shape\":[143]},\"y\":{\"__ndarray__\":\"PQrXo7DgvkCQwvUojFbAQAAAAACgbcBAzczMzMxDvECamZmZ+SW+QMzMzMyMab1AmpmZmZnrvkB7FK5HIbG8QLgehetx6cBA7FG4HkVGv0CkcD0Kl1K9QBSuR+H63L1AZmZmZubYvEDhehSuh4nAQML1KFzvVr9AcT0K1yOnvkDNzMzMTDnAQHsUrkcBysBAexSuR+Gyv0B7FK5Hob+/QDMzMzNzg79A16NwPUq1v0Bcj8L1qLu+QAAAAACAlL5ApHA9CpeXvUD2KFyPwk2+QHE9CtfjlcBA16NwPZobwEC4HoXrEUXAQIXrUbjep79AUrgehQuEvkCF61G43uu8QBSuR+H6IrxAuB6F6zFdu0AK16NwvRy7QKRwPQrXP71AKVyPwjUMvEBI4XoUjjm8QD0K16MQ97xAPgrXozAGvkDC9Shcbxe+QArXo3C9H75A4noUrjcsxECamZmZWRm/QOxRuB7VEcJAAAAAAGC7xEA0MzMzIwTLQFyPwvUoPrlACtejcP3wuEApXI/CtUm3QD4K16NQ+7dAFK5H4fpTuEAK16NwHZC8QJqZmZl5v75Aw/UoXC+QwEAUrkfheke8QFyPwvUo0b1AKVyPwjXAu0DsUbgeRZq9QHA9CteDKLxA9ihcjwKIu0BxPQrXI968QM3MzMyMAL1ArkfhetTnv0Bcj8L1yA29QOxRuB4luL1AmpmZmZkWvUAK16NwvZa8QKRwPQqXp71A9ihcj4JCv0AAAAAAYOS+QLgehetRPb5AkML1KBxwvUAAAAAAAEq+QBSuR+H6pL1AKVyPwvVRvECF61G4/tC8QIXrUbjeKLxAuB6F6xHdvkAzMzMzc2a9QK5H4XqUrb1A9ihcj4K3vUAAAAAAAKK8QML1KFxvQ71AAAAAAOBTu0AK16Nw/WC7QKRwPQpXfbpASOF6FK40vUAzMzMzM767QML1KFyv3LxAZmZmZqbvvECuR+F69Om9QHE9CtdjdL1AUrgehevsvEDhehSuJ9DCQM3MzMxs6L1ApHA9CmcOwUAzMzMzMzbDQB+F61HYxshAj8L1KByKvUCF61G4Xrq5QJDC9SjcGrdAw/UoXE8CuECkcD0K15m2QGZmZmamy7pA16NwPQobvkDsUbgehVO/QI/C9ShcwLxAFK5H4RquvECuR+F69CK9QFK4HoWrSr5AMzMzMzM/vUCamZmZ2QS9QFK4HoULrcBAexSuRyFTvUApXI/Cdbi7QHA9CtdDJ7tA4XoUrsf2vEBSuB6Fa229QArXo3D9+L1AMzMzMzN5vkAK16NwPQy+QML1KFxvn75AUrgehWsPvkAK16NwvWa9QM3MzMzMTL1ApHA9ChdqvkDMzMzMTJa8QAAAAABg7bxAZmZmZmYcvEC4HoXrUUe9QAAAAACAhb1AFK5H4brQvUApXI/CNQi+QJDC9ShciL5AAAAAAOCrvUAAAAAAALO6QKRwPQoXYrtAhutRuB4tu0AehetR2D69QClcj8L1nLxAMzMzM7POvEAUrkfhOnu9QA==\",\"dtype\":\"float64\",\"shape\":[143]}},\"selected\":{\"id\":\"3110\",\"type\":\"Selection\"},\"selection_policy\":{\"id\":\"3111\",\"type\":\"UnionRenderers\"}},\"id\":\"2978\",\"type\":\"ColumnDataSource\"},{\"attributes\":{\"months\":[0,1,2,3,4,5,6,7,8,9,10,11]},\"id\":\"3119\",\"type\":\"MonthsTicker\"},{\"attributes\":{\"source\":{\"id\":\"2973\",\"type\":\"ColumnDataSource\"}},\"id\":\"2977\",\"type\":\"CDSView\"},{\"attributes\":{},\"id\":\"3123\",\"type\":\"YearsTicker\"},{\"attributes\":{\"data_source\":{\"id\":\"2978\",\"type\":\"ColumnDataSource\"},\"glyph\":{\"id\":\"2979\",\"type\":\"Line\"},\"hover_glyph\":null,\"muted_glyph\":null,\"nonselection_glyph\":{\"id\":\"2980\",\"type\":\"Line\"},\"selection_glyph\":null,\"view\":{\"id\":\"2982\",\"type\":\"CDSView\"}},\"id\":\"2981\",\"type\":\"GlyphRenderer\"},{\"attributes\":{},\"id\":\"3106\",\"type\":\"BasicTickFormatter\"},{\"attributes\":{\"source\":{\"id\":\"2978\",\"type\":\"ColumnDataSource\"}},\"id\":\"2982\",\"type\":\"CDSView\"},{\"attributes\":{},\"id\":\"2956\",\"type\":\"BasicTicker\"},{\"attributes\":{\"callback\":null},\"id\":\"2942\",\"type\":\"DataRange1d\"},{\"attributes\":{\"ticker\":{\"id\":\"2951\",\"type\":\"DatetimeTicker\"}},\"id\":\"2954\",\"type\":\"Grid\"},{\"attributes\":{\"dimensions\":\"height\"},\"id\":\"2961\",\"type\":\"WheelZoomTool\"},{\"attributes\":{\"fill_alpha\":{\"value\":0.1},\"fill_color\":{\"value\":\"#1f77b4\"},\"line_alpha\":{\"value\":0.1},\"line_color\":{\"value\":\"#1f77b4\"},\"size\":{\"units\":\"screen\",\"value\":3},\"x\":{\"field\":\"x\"},\"y\":{\"field\":\"y\"}},\"id\":\"2975\",\"type\":\"Circle\"},{\"attributes\":{\"dimensions\":\"width\"},\"id\":\"2962\",\"type\":\"WheelZoomTool\"},{\"attributes\":{\"text\":\"Weekly_Sales vs Datetime\"},\"id\":\"2940\",\"type\":\"Title\"},{\"attributes\":{},\"id\":\"3108\",\"type\":\"Selection\"},{\"attributes\":{\"num_minor_ticks\":5,\"tickers\":[{\"id\":\"3112\",\"type\":\"AdaptiveTicker\"},{\"id\":\"3113\",\"type\":\"AdaptiveTicker\"},{\"id\":\"3114\",\"type\":\"AdaptiveTicker\"},{\"id\":\"3115\",\"type\":\"DaysTicker\"},{\"id\":\"3116\",\"type\":\"DaysTicker\"},{\"id\":\"3117\",\"type\":\"DaysTicker\"},{\"id\":\"3118\",\"type\":\"DaysTicker\"},{\"id\":\"3119\",\"type\":\"MonthsTicker\"},{\"id\":\"3120\",\"type\":\"MonthsTicker\"},{\"id\":\"3121\",\"type\":\"MonthsTicker\"},{\"id\":\"3122\",\"type\":\"MonthsTicker\"},{\"id\":\"3123\",\"type\":\"YearsTicker\"}]},\"id\":\"2951\",\"type\":\"DatetimeTicker\"},{\"attributes\":{},\"id\":\"2964\",\"type\":\"SaveTool\"},{\"attributes\":{\"callback\":null},\"id\":\"2944\",\"type\":\"DataRange1d\"},{\"attributes\":{\"active_drag\":\"auto\",\"active_inspect\":\"auto\",\"active_multi\":null,\"active_scroll\":\"auto\",\"active_tap\":\"auto\",\"tools\":[{\"id\":\"2960\",\"type\":\"PanTool\"},{\"id\":\"2961\",\"type\":\"WheelZoomTool\"},{\"id\":\"2962\",\"type\":\"WheelZoomTool\"},{\"id\":\"2963\",\"type\":\"ResetTool\"},{\"id\":\"2964\",\"type\":\"SaveTool\"}]},\"id\":\"2965\",\"type\":\"Toolbar\"},{\"attributes\":{\"base\":24,\"mantissas\":[1,2,4,6,8,12],\"max_interval\":43200000.0,\"min_interval\":3600000.0,\"num_minor_ticks\":0},\"id\":\"3114\",\"type\":\"AdaptiveTicker\"},{\"attributes\":{},\"id\":\"2960\",\"type\":\"PanTool\"},{\"attributes\":{\"callback\":null,\"data\":{\"x\":{\"__ndarray__\":\"AADA0LZpckIAAACZ92tyQgAAQGE4bnJCAACAKXlwckIAAMDxuXJyQgAAALr6dHJCAABAgjt3ckIAAIBKfHlyQgAAwBK9e3JCAAAA2/19ckIAAECjPoByQgAAgGt/gnJCAADAM8CEckIAAAD8AIdyQgAAQMRBiXJCAACAjIKLckIAAMBUw41yQgAAAB0EkHJCAABA5USSckIAAICthZRyQgAAwHXGlnJCAAAAPgeZckIAAEAGSJtyQgAAgM6InXJCAADAlsmfckIAAABfCqJyQgAAQCdLpHJCAACA74umckIAAMC3zKhyQgAAAIANq3JCAABASE6tckIAAIAQj69yQgAAwNjPsXJCAAAAoRC0ckIAAEBpUbZyQgAAgDGSuHJCAADA+dK6ckIAAADCE71yQgAAQIpUv3JCAACAUpXBckIAAMAa1sNyQgAAAOMWxnJCAABAq1fIckIAAIBzmMpyQgAAwDvZzHJCAAAABBrPckIAAEDMWtFyQgAAgJSb03JCAADAXNzVckIAAAAlHdhyQgAAQO1d2nJCAACAtZ7cckIAAMB9395yQgAAAEYg4XJCAABADmHjckIAAIDWoeVyQgAAwJ7i53JCAAAAZyPqckIAAEAvZOxyQgAAgPek7nJCAADAv+XwckIAAACIJvNyQgAAQFBn9XJCAACAGKj3ckIAAMDg6PlyQgAAAKkp/HJCAABAcWr+ckIAAIA5qwBzQgAAwAHsAnNCAAAAyiwFc0IAAECSbQdzQgAAgFquCXNCAADAIu8Lc0IAAADrLw5zQgAAQLNwEHNCAACAe7ESc0IAAMBD8hRzQgAAAAwzF3NCAABA1HMZc0IAAICctBtzQgAAwGT1HXNCAAAALTYgc0IAAED1diJzQgAAgL23JHNCAADAhfgmc0IAAABOOSlzQgAAQBZ6K3NCAACA3rotc0IAAMCm+y9zQgAAAG88MnNCAABAN300c0IAAID/vTZzQgAAwMf+OHNCAAAAkD87c0IAAEBYgD1zQgAAgCDBP3NCAADA6AFCc0IAAACxQkRzQgAAQHmDRnNCAACAQcRIc0IAAMAJBUtzQgAAANJFTXNCAABAmoZPc0IAAIBix1FzQgAAwCoIVHNCAAAA80hWc0IAAEC7iVhzQgAAgIPKWnNCAADASwtdc0IAAAAUTF9zQgAAQNyMYXNCAACApM1jc0IAAMBsDmZzQgAAADVPaHNCAABA/Y9qc0IAAIDF0GxzQgAAwI0Rb3NCAAAAVlJxc0IAAEAek3NzQgAAgObTdXNCAADArhR4c0IAAAB3VXpzQgAAQD+WfHNCAACAB9d+c0IAAMDPF4FzQgAAAJhYg3NCAABAYJmFc0IAAIAo2odzQgAAwPAainNCAAAAuVuMc0IAAECBnI5zQgAAgEndkHNCAADAER6Tc0IAAADaXpVzQgAAQKKfl3NCAACAauCZc0IAAMAyIZxzQgAAAPthnnNCAABAw6Kgc0IAAICL46JzQgAAwFMkpXNCAAAAHGWnc0IAAEDkpalzQg==\",\"dtype\":\"float64\",\"shape\":[143]},\"y\":{\"__ndarray__\":\"PQrXo7DgvkCQwvUojFbAQAAAAACgbcBAzczMzMxDvECamZmZ+SW+QMzMzMyMab1AmpmZmZnrvkB7FK5HIbG8QLgehetx6cBA7FG4HkVGv0CkcD0Kl1K9QBSuR+H63L1AZmZmZubYvEDhehSuh4nAQML1KFzvVr9AcT0K1yOnvkDNzMzMTDnAQHsUrkcBysBAexSuR+Gyv0B7FK5Hob+/QDMzMzNzg79A16NwPUq1v0Bcj8L1qLu+QAAAAACAlL5ApHA9CpeXvUD2KFyPwk2+QHE9CtfjlcBA16NwPZobwEC4HoXrEUXAQIXrUbjep79AUrgehQuEvkCF61G43uu8QBSuR+H6IrxAuB6F6zFdu0AK16NwvRy7QKRwPQrXP71AKVyPwjUMvEBI4XoUjjm8QD0K16MQ97xAPgrXozAGvkDC9Shcbxe+QArXo3C9H75A4noUrjcsxECamZmZWRm/QOxRuB7VEcJAAAAAAGC7xEA0MzMzIwTLQFyPwvUoPrlACtejcP3wuEApXI/CtUm3QD4K16NQ+7dAFK5H4fpTuEAK16NwHZC8QJqZmZl5v75Aw/UoXC+QwEAUrkfheke8QFyPwvUo0b1AKVyPwjXAu0DsUbgeRZq9QHA9CteDKLxA9ihcjwKIu0BxPQrXI968QM3MzMyMAL1ArkfhetTnv0Bcj8L1yA29QOxRuB4luL1AmpmZmZkWvUAK16NwvZa8QKRwPQqXp71A9ihcj4JCv0AAAAAAYOS+QLgehetRPb5AkML1KBxwvUAAAAAAAEq+QBSuR+H6pL1AKVyPwvVRvECF61G4/tC8QIXrUbjeKLxAuB6F6xHdvkAzMzMzc2a9QK5H4XqUrb1A9ihcj4K3vUAAAAAAAKK8QML1KFxvQ71AAAAAAOBTu0AK16Nw/WC7QKRwPQpXfbpASOF6FK40vUAzMzMzM767QML1KFyv3LxAZmZmZqbvvECuR+F69Om9QHE9CtdjdL1AUrgehevsvEDhehSuJ9DCQM3MzMxs6L1ApHA9CmcOwUAzMzMzMzbDQB+F61HYxshAj8L1KByKvUCF61G4Xrq5QJDC9SjcGrdAw/UoXE8CuECkcD0K15m2QGZmZmamy7pA16NwPQobvkDsUbgehVO/QI/C9ShcwLxAFK5H4RquvECuR+F69CK9QFK4HoWrSr5AMzMzMzM/vUCamZmZ2QS9QFK4HoULrcBAexSuRyFTvUApXI/Cdbi7QHA9CtdDJ7tA4XoUrsf2vEBSuB6Fa229QArXo3D9+L1AMzMzMzN5vkAK16NwPQy+QML1KFxvn75AUrgehWsPvkAK16NwvWa9QM3MzMzMTL1ApHA9ChdqvkDMzMzMTJa8QAAAAABg7bxAZmZmZmYcvEC4HoXrUUe9QAAAAACAhb1AFK5H4brQvUApXI/CNQi+QJDC9ShciL5AAAAAAOCrvUAAAAAAALO6QKRwPQoXYrtAhutRuB4tu0AehetR2D69QClcj8L1nLxAMzMzM7POvEAUrkfhOnu9QA==\",\"dtype\":\"float64\",\"shape\":[143]}},\"selected\":{\"id\":\"3108\",\"type\":\"Selection\"},\"selection_policy\":{\"id\":\"3109\",\"type\":\"UnionRenderers\"}},\"id\":\"2973\",\"type\":\"ColumnDataSource\"},{\"attributes\":{},\"id\":\"3111\",\"type\":\"UnionRenderers\"},{\"attributes\":{\"days\":[1,4,7,10,13,16,19,22,25,28]},\"id\":\"3116\",\"type\":\"DaysTicker\"},{\"attributes\":{\"months\":[0,4,8]},\"id\":\"3121\",\"type\":\"MonthsTicker\"},{\"attributes\":{\"formatter\":{\"id\":\"2971\",\"type\":\"DatetimeTickFormatter\"},\"ticker\":{\"id\":\"2951\",\"type\":\"DatetimeTicker\"}},\"id\":\"2950\",\"type\":\"DatetimeAxis\"},{\"attributes\":{\"line_alpha\":0.1,\"line_color\":\"#1f77b4\",\"x\":{\"field\":\"x\"},\"y\":{\"field\":\"y\"}},\"id\":\"2980\",\"type\":\"Line\"},{\"attributes\":{\"months\":[0,6]},\"id\":\"3122\",\"type\":\"MonthsTicker\"},{\"attributes\":{\"data_source\":{\"id\":\"2973\",\"type\":\"ColumnDataSource\"},\"glyph\":{\"id\":\"2974\",\"type\":\"Circle\"},\"hover_glyph\":null,\"muted_glyph\":null,\"nonselection_glyph\":{\"id\":\"2975\",\"type\":\"Circle\"},\"selection_glyph\":null,\"view\":{\"id\":\"2977\",\"type\":\"CDSView\"}},\"id\":\"2976\",\"type\":\"GlyphRenderer\"},{\"attributes\":{\"fill_alpha\":{\"value\":0.8},\"fill_color\":{\"value\":\"navy\"},\"line_alpha\":{\"value\":0.8},\"line_color\":{\"value\":\"navy\"},\"size\":{\"units\":\"screen\",\"value\":3},\"x\":{\"field\":\"x\"},\"y\":{\"field\":\"y\"}},\"id\":\"2974\",\"type\":\"Circle\"},{\"attributes\":{\"formatter\":{\"id\":\"3106\",\"type\":\"BasicTickFormatter\"},\"ticker\":{\"id\":\"2956\",\"type\":\"BasicTicker\"}},\"id\":\"2955\",\"type\":\"LinearAxis\"},{\"attributes\":{\"days\":[1,2,3,4,5,6,7,8,9,10,11,12,13,14,15,16,17,18,19,20,21,22,23,24,25,26,27,28,29,30,31]},\"id\":\"3115\",\"type\":\"DaysTicker\"},{\"attributes\":{\"dimension\":1,\"ticker\":{\"id\":\"2956\",\"type\":\"BasicTicker\"}},\"id\":\"2959\",\"type\":\"Grid\"},{\"attributes\":{},\"id\":\"2948\",\"type\":\"LinearScale\"},{\"attributes\":{\"mantissas\":[1,2,5],\"max_interval\":500.0,\"num_minor_ticks\":0},\"id\":\"3112\",\"type\":\"AdaptiveTicker\"},{\"attributes\":{\"days\":[1,8,15,22]},\"id\":\"3117\",\"type\":\"DaysTicker\"}],\"root_ids\":[\"2939\"]},\"title\":\"Bokeh Application\",\"version\":\"1.3.4\"}};\n",
       "  var render_items = [{\"docid\":\"a12b96e3-ebb6-4346-b84d-92d558bb4f05\",\"roots\":{\"2939\":\"055918df-7f3a-408c-a79f-eec9f1b00eeb\"}}];\n",
       "  root.Bokeh.embed.embed_items_notebook(docs_json, render_items);\n",
       "\n",
       "  }\n",
       "  if (root.Bokeh !== undefined) {\n",
       "    embed_document(root);\n",
       "  } else {\n",
       "    var attempts = 0;\n",
       "    var timer = setInterval(function(root) {\n",
       "      if (root.Bokeh !== undefined) {\n",
       "        embed_document(root);\n",
       "        clearInterval(timer);\n",
       "      }\n",
       "      attempts++;\n",
       "      if (attempts > 100) {\n",
       "        console.log(\"Bokeh: ERROR: Unable to run BokehJS code because BokehJS library is missing\");\n",
       "        clearInterval(timer);\n",
       "      }\n",
       "    }, 10, root)\n",
       "  }\n",
       "})(window);"
      ],
      "application/vnd.bokehjs_exec.v0+json": ""
     },
     "metadata": {
      "application/vnd.bokehjs_exec.v0+json": {
       "id": "2939"
      }
     },
     "output_type": "display_data"
    }
   ],
   "source": [
    "grouped_sales = train.groupby(\"Date\")[\"Weekly_Sales\"].median()\n",
    "p = plot.plot_time_series_count(grouped_sales.index, grouped_sales, color=\"navy\", title=\"Weekly_Sales vs Datetime\", relative_y_axis=True, height=200)\n",
    "show(p)"
   ]
  },
  {
   "cell_type": "code",
   "execution_count": 34,
   "metadata": {},
   "outputs": [
    {
     "data": {
      "text/plain": [
       "-0.0023124470102593737"
      ]
     },
     "execution_count": 34,
     "metadata": {},
     "output_type": "execute_result"
    }
   ],
   "source": [
    "train[\"celsius\"].corr(train[\"Weekly_Sales\"])"
   ]
  },
  {
   "cell_type": "code",
   "execution_count": 35,
   "metadata": {},
   "outputs": [
    {
     "data": {
      "text/plain": [
       "-0.0007430589483357949"
      ]
     },
     "execution_count": 35,
     "metadata": {},
     "output_type": "execute_result"
    }
   ],
   "source": [
    "train[\"celsius_diff\"].corr(train[\"Weekly_Sales\"])"
   ]
  },
  {
   "cell_type": "code",
   "execution_count": null,
   "metadata": {},
   "outputs": [],
   "source": []
  },
  {
   "cell_type": "markdown",
   "metadata": {},
   "source": [
    "# <font color=\"navy\">Size</font>"
   ]
  },
  {
   "cell_type": "code",
   "execution_count": 36,
   "metadata": {},
   "outputs": [
    {
     "name": "stdout",
     "output_type": "stream",
     "text": [
      "0.8276068405388468\n"
     ]
    },
    {
     "data": {
      "text/plain": [
       "<matplotlib.axes._subplots.AxesSubplot at 0x7f795c694f90>"
      ]
     },
     "execution_count": 36,
     "metadata": {},
     "output_type": "execute_result"
    },
    {
     "data": {
      "image/png": "[encoded data removed]",
      "text/plain": [
       "<Figure size 432x288 with 1 Axes>"
      ]
     },
     "metadata": {
      "needs_background": "light"
     },
     "output_type": "display_data"
    }
   ],
   "source": [
    "size_sales = train.groupby(\"Size\")[\"Weekly_Sales\"].median().reset_index()\n",
    "print(size_sales[\"Size\"].corr(size_sales[\"Weekly_Sales\"]))\n",
    "size_sales.plot.scatter(\"Size\", \"Weekly_Sales\", title=\"Weekly_Sales median vs Size\")"
   ]
  },
  {
   "cell_type": "markdown",
   "metadata": {},
   "source": [
    "# <font color=\"navy\">Markdown</font>"
   ]
  },
  {
   "cell_type": "code",
   "execution_count": 37,
   "metadata": {},
   "outputs": [],
   "source": [
    "mds = [\"MarkDown1\", \"MarkDown2\", \"MarkDown3\", \"MarkDown4\", \"MarkDown5\"]"
   ]
  },
  {
   "cell_type": "code",
   "execution_count": 38,
   "metadata": {},
   "outputs": [
    {
     "name": "stdout",
     "output_type": "stream",
     "text": [
      "MarkDown1: 0.0853\n",
      "MarkDown2: 0.0241\n",
      "MarkDown3: 0.0604\n",
      "MarkDown4: 0.0454\n",
      "MarkDown5: 0.0904\n"
     ]
    }
   ],
   "source": [
    "for md in mds:\n",
    "    print(md+\":\", round(train[md].corr(train[\"Weekly_Sales\"]), 4))"
   ]
  },
  {
   "cell_type": "code",
   "execution_count": null,
   "metadata": {},
   "outputs": [],
   "source": []
  },
  {
   "cell_type": "markdown",
   "metadata": {},
   "source": [
    "# Exploring Transformations"
   ]
  },
  {
   "cell_type": "markdown",
   "metadata": {},
   "source": [
    "Overlaying year Store-Dept Sales Plot"
   ]
  },
  {
   "cell_type": "code",
   "execution_count": 39,
   "metadata": {},
   "outputs": [],
   "source": [
    "from statsmodels.tsa.filters.hp_filter import hpfilter"
   ]
  },
  {
   "cell_type": "code",
   "execution_count": 40,
   "metadata": {},
   "outputs": [
    {
     "data": {
      "text/plain": [
       "'6_27'"
      ]
     },
     "execution_count": 40,
     "metadata": {},
     "output_type": "execute_result"
    }
   ],
   "source": [
    "store_dept = train[\"store_dept\"].sample().iloc[0]\n",
    "store_dept"
   ]
  },
  {
   "cell_type": "code",
   "execution_count": 41,
   "metadata": {},
   "outputs": [
    {
     "data": {
      "text/plain": [
       "[2010, 2011]"
      ]
     },
     "execution_count": 41,
     "metadata": {},
     "output_type": "execute_result"
    }
   ],
   "source": [
    "store_dept_sales = train[train[\"store_dept\"] == store_dept].set_index(\"Date\")\n",
    "years = store_dept_sales[\"year\"].drop_duplicates().to_list()[0:2]\n",
    "years"
   ]
  },
  {
   "cell_type": "code",
   "execution_count": 42,
   "metadata": {},
   "outputs": [],
   "source": [
    "dy1 = store_dept_sales[store_dept_sales[\"year\"] == years[0]]\n",
    "dy2 = store_dept_sales[store_dept_sales[\"year\"] == years[1]].reset_index()\n",
    "dy2[\"Date\"] = dy2[\"Date\"].str.slice(4,10).apply(lambda dt : str(years[0]) + str(dt))\n",
    "dy2 = dy2.set_index(\"Date\")"
   ]
  },
  {
   "cell_type": "code",
   "execution_count": 43,
   "metadata": {},
   "outputs": [
    {
     "data": {
      "text/markdown": [
       "#### Store-Dept: 6_27"
      ],
      "text/plain": [
       "<IPython.core.display.Markdown object>"
      ]
     },
     "metadata": {},
     "output_type": "display_data"
    }
   ],
   "source": [
    "pretties.display_md(\"#### Store-Dept: {}\".format(store_dept))"
   ]
  },
  {
   "cell_type": "code",
   "execution_count": 65,
   "metadata": {},
   "outputs": [
    {
     "data": {
      "text/html": [
       "\n",
       "\n",
       "\n",
       "\n",
       "\n",
       "\n",
       "  <div class=\"bk-root\" id=\"0313a3e4-0abf-460b-afb0-c2b6903ca0af\" data-root-id=\"33798\"></div>\n"
      ]
     },
     "metadata": {},
     "output_type": "display_data"
    },
    {
     "data": {
      "application/javascript": [
       "(function(root) {\n",
       "  function embed_document(root) {\n",
       "    \n",
       "  var docs_json = {\"0cc05f12-8bb1-43b1-877f-48e00087417b\":{\"roots\":{\"references\":[{\"attributes\":{\"below\":[{\"id\":\"33809\",\"type\":\"DatetimeAxis\"}],\"center\":[{\"id\":\"33813\",\"type\":\"Grid\"},{\"id\":\"33818\",\"type\":\"Grid\"},{\"id\":\"33853\",\"type\":\"Legend\"}],\"left\":[{\"id\":\"33814\",\"type\":\"LinearAxis\"}],\"plot_height\":300,\"plot_width\":900,\"renderers\":[{\"id\":\"33835\",\"type\":\"GlyphRenderer\"},{\"id\":\"33858\",\"type\":\"GlyphRenderer\"},{\"id\":\"33863\",\"type\":\"GlyphRenderer\"},{\"id\":\"33889\",\"type\":\"GlyphRenderer\"}],\"title\":{\"id\":\"33799\",\"type\":\"Title\"},\"toolbar\":{\"id\":\"33824\",\"type\":\"Toolbar\"},\"x_range\":{\"id\":\"33801\",\"type\":\"DataRange1d\"},\"x_scale\":{\"id\":\"33805\",\"type\":\"LinearScale\"},\"y_range\":{\"id\":\"33803\",\"type\":\"DataRange1d\"},\"y_scale\":{\"id\":\"33807\",\"type\":\"LinearScale\"}},\"id\":\"33798\",\"subtype\":\"Figure\",\"type\":\"Plot\"},{\"attributes\":{\"data_source\":{\"id\":\"33855\",\"type\":\"ColumnDataSource\"},\"glyph\":{\"id\":\"33856\",\"type\":\"Line\"},\"hover_glyph\":null,\"muted_glyph\":null,\"nonselection_glyph\":{\"id\":\"33857\",\"type\":\"Line\"},\"selection_glyph\":null,\"view\":{\"id\":\"33859\",\"type\":\"CDSView\"}},\"id\":\"33858\",\"type\":\"GlyphRenderer\"},{\"attributes\":{\"fill_alpha\":{\"value\":0.1},\"fill_color\":{\"value\":\"#1f77b4\"},\"line_alpha\":{\"value\":0.1},\"line_color\":{\"value\":\"#1f77b4\"},\"size\":{\"units\":\"screen\",\"value\":3},\"x\":{\"field\":\"x\"},\"y\":{\"field\":\"y\"}},\"id\":\"33862\",\"type\":\"Circle\"},{\"attributes\":{\"active_drag\":\"auto\",\"active_inspect\":\"auto\",\"active_multi\":null,\"active_scroll\":\"auto\",\"active_tap\":\"auto\",\"tools\":[{\"id\":\"33819\",\"type\":\"PanTool\"},{\"id\":\"33820\",\"type\":\"WheelZoomTool\"},{\"id\":\"33821\",\"type\":\"WheelZoomTool\"},{\"id\":\"33822\",\"type\":\"ResetTool\"},{\"id\":\"33823\",\"type\":\"SaveTool\"}]},\"id\":\"33824\",\"type\":\"Toolbar\"},{\"attributes\":{\"label\":{\"value\":\"2010\"},\"renderers\":[{\"id\":\"33835\",\"type\":\"GlyphRenderer\"}]},\"id\":\"33854\",\"type\":\"LegendItem\"},{\"attributes\":{},\"id\":\"33852\",\"type\":\"YearsTicker\"},{\"attributes\":{\"data_source\":{\"id\":\"33886\",\"type\":\"ColumnDataSource\"},\"glyph\":{\"id\":\"33887\",\"type\":\"Line\"},\"hover_glyph\":null,\"muted_glyph\":null,\"nonselection_glyph\":{\"id\":\"33888\",\"type\":\"Line\"},\"selection_glyph\":null,\"view\":{\"id\":\"33890\",\"type\":\"CDSView\"}},\"id\":\"33889\",\"type\":\"GlyphRenderer\"},{\"attributes\":{},\"id\":\"33807\",\"type\":\"LinearScale\"},{\"attributes\":{\"fill_alpha\":{\"value\":0.8},\"fill_color\":{\"value\":\"magenta\"},\"line_alpha\":{\"value\":0.8},\"line_color\":{\"value\":\"magenta\"},\"size\":{\"units\":\"screen\",\"value\":3},\"x\":{\"field\":\"x\"},\"y\":{\"field\":\"y\"}},\"id\":\"33861\",\"type\":\"Circle\"},{\"attributes\":{\"source\":{\"id\":\"33886\",\"type\":\"ColumnDataSource\"}},\"id\":\"33890\",\"type\":\"CDSView\"},{\"attributes\":{\"mantissas\":[1,2,5],\"max_interval\":500.0,\"num_minor_ticks\":0},\"id\":\"33841\",\"type\":\"AdaptiveTicker\"},{\"attributes\":{\"dimension\":1,\"ticker\":{\"id\":\"33815\",\"type\":\"BasicTicker\"}},\"id\":\"33818\",\"type\":\"Grid\"},{\"attributes\":{},\"id\":\"33839\",\"type\":\"BasicTickFormatter\"},{\"attributes\":{\"source\":{\"id\":\"33860\",\"type\":\"ColumnDataSource\"}},\"id\":\"33864\",\"type\":\"CDSView\"},{\"attributes\":{\"num_minor_ticks\":5,\"tickers\":[{\"id\":\"33841\",\"type\":\"AdaptiveTicker\"},{\"id\":\"33842\",\"type\":\"AdaptiveTicker\"},{\"id\":\"33843\",\"type\":\"AdaptiveTicker\"},{\"id\":\"33844\",\"type\":\"DaysTicker\"},{\"id\":\"33845\",\"type\":\"DaysTicker\"},{\"id\":\"33846\",\"type\":\"DaysTicker\"},{\"id\":\"33847\",\"type\":\"DaysTicker\"},{\"id\":\"33848\",\"type\":\"MonthsTicker\"},{\"id\":\"33849\",\"type\":\"MonthsTicker\"},{\"id\":\"33850\",\"type\":\"MonthsTicker\"},{\"id\":\"33851\",\"type\":\"MonthsTicker\"},{\"id\":\"33852\",\"type\":\"YearsTicker\"}]},\"id\":\"33810\",\"type\":\"DatetimeTicker\"},{\"attributes\":{\"line_alpha\":0.8,\"line_color\":\"navy\",\"x\":{\"field\":\"x\"},\"y\":{\"field\":\"y\"}},\"id\":\"33856\",\"type\":\"Line\"},{\"attributes\":{},\"id\":\"33870\",\"type\":\"UnionRenderers\"},{\"attributes\":{\"callback\":null,\"data\":{\"x\":{\"__ndarray__\":\"AAAASmFgckIAAEASomJyQgAAgNriZHJCAADAoiNnckIAAABrZGlyQgAAQDOla3JCAACA++VtckIAAMDDJnByQgAAAIxncnJCAABAVKh0ckIAAIAc6XZyQgAAwOQpeXJCAAAArWp7ckIAAEB1q31yQgAAgD3sf3JCAADABS2CckIAAADObYRyQgAAQJauhnJCAACAXu+IckIAAMAmMItyQgAAAO9wjXJCAABAt7GPckIAAIB/8pFyQgAAwEczlHJCAAAAEHSWckIAAEDYtJhyQgAAgKD1mnJCAADAaDadckIAAAAxd59yQgAAQPm3oXJCAACAwfijckIAAMCJOaZyQgAAAFJ6qHJCAABAGruqckIAAIDi+6xyQgAAwKo8r3JCAAAAc32xckIAAEA7vrNyQgAAgAP/tXJCAADAyz+4ckIAAACUgLpyQgAAQFzBvHJCAACAJAK/ckIAAMDsQsFyQgAAALWDw3JCAABAfcTFckIAAIBFBchyQgAAwA1GynJCAAAA1obMckIAAECex85yQgAAgGYI0XJCAADALknTckI=\",\"dtype\":\"float64\",\"shape\":[52]},\"y\":{\"__ndarray__\":\"mpmZmZnKnkApXI/C9XykQKRwPQrXGZ9AMzMzMzMGnUDD9ShcjyCkQOF6FK5H+aFArkfhehTPoEDXo3A9CiWeQLgehetRVZlAXI/C9SgumkBSuB6F6ymaQFyPwvUoe5ZA16NwPQoYmECuR+F6FPKXQB+F61G4TJRAAAAAAAC9k0CamZmZmceSQOF6FK5HJ5RAFK5H4XrelEDNzMzMzGGSQNejcD0KJJJAH4XrUbjGlECuR+F6FHeSQClcj8L1mpFASOF6FK7hjUAzMzMzM7uQQHE9Ctej+pNA7FG4HoWfkUDD9ShcjzOSQD0K16NwV5VACtejcD2amEBI4XoUriaXQKRwPQrX9ZtArkfhehTDnECkcD0K126RQBSuR+F6rpBAUrgeheuOk0ApXI/C9U6SQBSuR+F615FA16NwPQqalECkcD0K1w6WQJqZmZmZV5ZAFK5H4XpXmUCkcD0K1xCfQOxRuB6FlqJA7FG4HgUookAfhetRuKusQNejcD2KyKlA7FG4HoVSskDXo3A9yoqyQK5H4XoU5bZAcT0K16Mop0A=\",\"dtype\":\"float64\",\"shape\":[52]}},\"selected\":{\"id\":\"34312\",\"type\":\"Selection\"},\"selection_policy\":{\"id\":\"34313\",\"type\":\"UnionRenderers\"}},\"id\":\"33886\",\"type\":\"ColumnDataSource\"},{\"attributes\":{\"text\":\"Weekly_Sales vs Datetime\"},\"id\":\"33799\",\"type\":\"Title\"},{\"attributes\":{\"callback\":null,\"data\":{\"x\":{\"__ndarray__\":\"AAAASmFgckIAAEASomJyQgAAgNriZHJCAADAoiNnckIAAABrZGlyQgAAQDOla3JCAACA++VtckIAAMDDJnByQgAAAIxncnJCAABAVKh0ckIAAIAc6XZyQgAAwOQpeXJCAAAArWp7ckIAAEB1q31yQgAAgD3sf3JCAADABS2CckIAAADObYRyQgAAQJauhnJCAACAXu+IckIAAMAmMItyQgAAAO9wjXJCAABAt7GPckIAAIB/8pFyQgAAwEczlHJCAAAAEHSWckIAAEDYtJhyQgAAgKD1mnJCAADAaDadckIAAAAxd59yQgAAQPm3oXJCAACAwfijckIAAMCJOaZyQgAAAFJ6qHJCAABAGruqckIAAIDi+6xyQgAAwKo8r3JCAAAAc32xckIAAEA7vrNyQgAAgAP/tXJCAADAyz+4ckIAAACUgLpyQgAAQFzBvHJCAACAJAK/ckIAAMDsQsFyQgAAALWDw3JCAABAfcTFckIAAIBFBchyQgAAwA1GynJCAAAA1obMckIAAECex85yQgAAgGYI0XJCAADALknTckI=\",\"dtype\":\"float64\",\"shape\":[52]},\"y\":{\"__ndarray__\":\"mpmZmZnKnkApXI/C9XykQKRwPQrXGZ9AMzMzMzMGnUDD9ShcjyCkQOF6FK5H+aFArkfhehTPoEDXo3A9CiWeQLgehetRVZlAXI/C9SgumkBSuB6F6ymaQFyPwvUoe5ZA16NwPQoYmECuR+F6FPKXQB+F61G4TJRAAAAAAAC9k0CamZmZmceSQOF6FK5HJ5RAFK5H4XrelEDNzMzMzGGSQNejcD0KJJJAH4XrUbjGlECuR+F6FHeSQClcj8L1mpFASOF6FK7hjUAzMzMzM7uQQHE9Ctej+pNA7FG4HoWfkUDD9ShcjzOSQD0K16NwV5VACtejcD2amEBI4XoUriaXQKRwPQrX9ZtArkfhehTDnECkcD0K126RQBSuR+F6rpBAUrgeheuOk0ApXI/C9U6SQBSuR+F615FA16NwPQqalECkcD0K1w6WQJqZmZmZV5ZAFK5H4XpXmUCkcD0K1xCfQOxRuB6FlqJA7FG4HgUookAfhetRuKusQNejcD2KyKlA7FG4HoVSskDXo3A9yoqyQK5H4XoU5bZAcT0K16Mop0A=\",\"dtype\":\"float64\",\"shape\":[52]}},\"selected\":{\"id\":\"34310\",\"type\":\"Selection\"},\"selection_policy\":{\"id\":\"34311\",\"type\":\"UnionRenderers\"}},\"id\":\"33860\",\"type\":\"ColumnDataSource\"},{\"attributes\":{},\"id\":\"33871\",\"type\":\"Selection\"},{\"attributes\":{\"ticker\":{\"id\":\"33810\",\"type\":\"DatetimeTicker\"}},\"id\":\"33813\",\"type\":\"Grid\"},{\"attributes\":{\"items\":[{\"id\":\"33854\",\"type\":\"LegendItem\"},{\"id\":\"33885\",\"type\":\"LegendItem\"}]},\"id\":\"33853\",\"type\":\"Legend\"},{\"attributes\":{},\"id\":\"33872\",\"type\":\"UnionRenderers\"},{\"attributes\":{\"base\":24,\"mantissas\":[1,2,4,6,8,12],\"max_interval\":43200000.0,\"min_interval\":3600000.0,\"num_minor_ticks\":0},\"id\":\"33843\",\"type\":\"AdaptiveTicker\"},{\"attributes\":{\"formatter\":{\"id\":\"33830\",\"type\":\"DatetimeTickFormatter\"},\"ticker\":{\"id\":\"33810\",\"type\":\"DatetimeTicker\"}},\"id\":\"33809\",\"type\":\"DatetimeAxis\"},{\"attributes\":{\"base\":60,\"mantissas\":[1,2,5,10,15,20,30],\"max_interval\":1800000.0,\"min_interval\":1000.0,\"num_minor_ticks\":0},\"id\":\"33842\",\"type\":\"AdaptiveTicker\"},{\"attributes\":{\"months\":[0,6]},\"id\":\"33851\",\"type\":\"MonthsTicker\"},{\"attributes\":{},\"id\":\"33869\",\"type\":\"Selection\"},{\"attributes\":{\"dimensions\":\"width\"},\"id\":\"33821\",\"type\":\"WheelZoomTool\"},{\"attributes\":{\"callback\":null,\"data\":{\"x\":{\"__ndarray__\":\"AADA0LZpckIAAACZ92tyQgAAQGE4bnJCAACAKXlwckIAAMDxuXJyQgAAALr6dHJCAABAgjt3ckIAAIBKfHlyQgAAwBK9e3JCAAAA2/19ckIAAECjPoByQgAAgGt/gnJCAADAM8CEckIAAAD8AIdyQgAAQMRBiXJCAACAjIKLckIAAMBUw41yQgAAAB0EkHJCAABA5USSckIAAICthZRyQgAAwHXGlnJCAAAAPgeZckIAAEAGSJtyQgAAgM6InXJCAADAlsmfckIAAABfCqJyQgAAQCdLpHJCAACA74umckIAAMC3zKhyQgAAAIANq3JCAABASE6tckIAAIAQj69yQgAAwNjPsXJCAAAAoRC0ckIAAEBpUbZyQgAAgDGSuHJCAADA+dK6ckIAAADCE71yQgAAQIpUv3JCAACAUpXBckIAAMAa1sNyQgAAAOMWxnJCAABAq1fIckIAAIBzmMpyQgAAwDvZzHJCAAAABBrPckIAAEDMWtFyQgAAgJSb03JC\",\"dtype\":\"float64\",\"shape\":[48]},\"y\":{\"__ndarray__\":\"AAAAAABWqEAAAAAAAKuiQAAAAAAAWaJAAAAAAAB0n0AAAAAAACadQAAAAAAANppAAAAAAABgnEAAAAAAAMyVQAAAAAAAPpNAAAAAAADok0AAAAAAAFSVQAAAAAAA+JZAAAAAAADQk0AAAAAAAM6WQAAAAAAAUpNAAAAAAAC8kUAAAAAAAFeVQAAAAAAAu5NAAAAAAABQmkAAAAAAANGQQAAAAAAA7ZJAAAAAAAChlEAAAAAAAAyZQAAAAAAAuZJAAAAAAAAQlUAUrkfhevKXQLgehetRjZZAFK5H4Xpjl0DD9Shcj0WfQB+F61E4c6FAmpmZmZmjkkCuR+F6FCqQQM3MzMzM0JBArkfhehSIkUA9CtejcGmSQEjhehSuu5tAhetRuB51m0ApXI/C9RCZQOF6FK5HnZtAmpmZmZnfokBmZmZmZmWjQFK4HoXrdahAUrgehessq0BSuB6F68CtQOxRuB6F5bBACtejcD3mtECuR+F6lJC6QFyPwvUoyaRA\",\"dtype\":\"float64\",\"shape\":[48]}},\"selected\":{\"id\":\"33871\",\"type\":\"Selection\"},\"selection_policy\":{\"id\":\"33872\",\"type\":\"UnionRenderers\"}},\"id\":\"33855\",\"type\":\"ColumnDataSource\"},{\"attributes\":{\"callback\":null,\"data\":{\"x\":{\"__ndarray__\":\"AADA0LZpckIAAACZ92tyQgAAQGE4bnJCAACAKXlwckIAAMDxuXJyQgAAALr6dHJCAABAgjt3ckIAAIBKfHlyQgAAwBK9e3JCAAAA2/19ckIAAECjPoByQgAAgGt/gnJCAADAM8CEckIAAAD8AIdyQgAAQMRBiXJCAACAjIKLckIAAMBUw41yQgAAAB0EkHJCAABA5USSckIAAICthZRyQgAAwHXGlnJCAAAAPgeZckIAAEAGSJtyQgAAgM6InXJCAADAlsmfckIAAABfCqJyQgAAQCdLpHJCAACA74umckIAAMC3zKhyQgAAAIANq3JCAABASE6tckIAAIAQj69yQgAAwNjPsXJCAAAAoRC0ckIAAEBpUbZyQgAAgDGSuHJCAADA+dK6ckIAAADCE71yQgAAQIpUv3JCAACAUpXBckIAAMAa1sNyQgAAAOMWxnJCAABAq1fIckIAAIBzmMpyQgAAwDvZzHJCAAAABBrPckIAAEDMWtFyQgAAgJSb03JC\",\"dtype\":\"float64\",\"shape\":[48]},\"y\":{\"__ndarray__\":\"AAAAAABWqEAAAAAAAKuiQAAAAAAAWaJAAAAAAAB0n0AAAAAAACadQAAAAAAANppAAAAAAABgnEAAAAAAAMyVQAAAAAAAPpNAAAAAAADok0AAAAAAAFSVQAAAAAAA+JZAAAAAAADQk0AAAAAAAM6WQAAAAAAAUpNAAAAAAAC8kUAAAAAAAFeVQAAAAAAAu5NAAAAAAABQmkAAAAAAANGQQAAAAAAA7ZJAAAAAAAChlEAAAAAAAAyZQAAAAAAAuZJAAAAAAAAQlUAUrkfhevKXQLgehetRjZZAFK5H4Xpjl0DD9Shcj0WfQB+F61E4c6FAmpmZmZmjkkCuR+F6FCqQQM3MzMzM0JBArkfhehSIkUA9CtejcGmSQEjhehSuu5tAhetRuB51m0ApXI/C9RCZQOF6FK5HnZtAmpmZmZnfokBmZmZmZmWjQFK4HoXrdahAUrgehessq0BSuB6F68CtQOxRuB6F5bBACtejcD3mtECuR+F6lJC6QFyPwvUoyaRA\",\"dtype\":\"float64\",\"shape\":[48]}},\"selected\":{\"id\":\"33869\",\"type\":\"Selection\"},\"selection_policy\":{\"id\":\"33870\",\"type\":\"UnionRenderers\"}},\"id\":\"33832\",\"type\":\"ColumnDataSource\"},{\"attributes\":{\"label\":{\"value\":\"2011\"},\"renderers\":[{\"id\":\"33863\",\"type\":\"GlyphRenderer\"}]},\"id\":\"33885\",\"type\":\"LegendItem\"},{\"attributes\":{\"days\":[1,2,3,4,5,6,7,8,9,10,11,12,13,14,15,16,17,18,19,20,21,22,23,24,25,26,27,28,29,30,31]},\"id\":\"33844\",\"type\":\"DaysTicker\"},{\"attributes\":{\"fill_alpha\":{\"value\":0.1},\"fill_color\":{\"value\":\"#1f77b4\"},\"line_alpha\":{\"value\":0.1},\"line_color\":{\"value\":\"#1f77b4\"},\"size\":{\"units\":\"screen\",\"value\":3},\"x\":{\"field\":\"x\"},\"y\":{\"field\":\"y\"}},\"id\":\"33834\",\"type\":\"Circle\"},{\"attributes\":{\"callback\":null},\"id\":\"33803\",\"type\":\"DataRange1d\"},{\"attributes\":{\"source\":{\"id\":\"33832\",\"type\":\"ColumnDataSource\"}},\"id\":\"33836\",\"type\":\"CDSView\"},{\"attributes\":{},\"id\":\"34310\",\"type\":\"Selection\"},{\"attributes\":{\"days\":[1,4,7,10,13,16,19,22,25,28]},\"id\":\"33845\",\"type\":\"DaysTicker\"},{\"attributes\":{\"formatter\":{\"id\":\"33839\",\"type\":\"BasicTickFormatter\"},\"ticker\":{\"id\":\"33815\",\"type\":\"BasicTicker\"}},\"id\":\"33814\",\"type\":\"LinearAxis\"},{\"attributes\":{},\"id\":\"33815\",\"type\":\"BasicTicker\"},{\"attributes\":{\"line_alpha\":0.1,\"line_color\":\"#1f77b4\",\"x\":{\"field\":\"x\"},\"y\":{\"field\":\"y\"}},\"id\":\"33888\",\"type\":\"Line\"},{\"attributes\":{\"days\":[1,8,15,22]},\"id\":\"33846\",\"type\":\"DaysTicker\"},{\"attributes\":{\"data_source\":{\"id\":\"33832\",\"type\":\"ColumnDataSource\"},\"glyph\":{\"id\":\"33833\",\"type\":\"Circle\"},\"hover_glyph\":null,\"muted_glyph\":null,\"nonselection_glyph\":{\"id\":\"33834\",\"type\":\"Circle\"},\"selection_glyph\":null,\"view\":{\"id\":\"33836\",\"type\":\"CDSView\"}},\"id\":\"33835\",\"type\":\"GlyphRenderer\"},{\"attributes\":{},\"id\":\"33805\",\"type\":\"LinearScale\"},{\"attributes\":{\"fill_alpha\":{\"value\":0.8},\"fill_color\":{\"value\":\"navy\"},\"line_alpha\":{\"value\":0.8},\"line_color\":{\"value\":\"navy\"},\"size\":{\"units\":\"screen\",\"value\":3},\"x\":{\"field\":\"x\"},\"y\":{\"field\":\"y\"}},\"id\":\"33833\",\"type\":\"Circle\"},{\"attributes\":{},\"id\":\"33819\",\"type\":\"PanTool\"},{\"attributes\":{\"days\":[\"%d/%b\"],\"hours\":[\"%H:%M %d/%b\"],\"months\":[\"%d/%b/%Y\"],\"years\":[\"%d/%b/%Y\"]},\"id\":\"33830\",\"type\":\"DatetimeTickFormatter\"},{\"attributes\":{\"days\":[1,15]},\"id\":\"33847\",\"type\":\"DaysTicker\"},{\"attributes\":{\"callback\":null},\"id\":\"33801\",\"type\":\"DataRange1d\"},{\"attributes\":{\"months\":[0,1,2,3,4,5,6,7,8,9,10,11]},\"id\":\"33848\",\"type\":\"MonthsTicker\"},{\"attributes\":{\"line_alpha\":0.1,\"line_color\":\"#1f77b4\",\"x\":{\"field\":\"x\"},\"y\":{\"field\":\"y\"}},\"id\":\"33857\",\"type\":\"Line\"},{\"attributes\":{},\"id\":\"34311\",\"type\":\"UnionRenderers\"},{\"attributes\":{\"dimensions\":\"height\"},\"id\":\"33820\",\"type\":\"WheelZoomTool\"},{\"attributes\":{\"months\":[0,2,4,6,8,10]},\"id\":\"33849\",\"type\":\"MonthsTicker\"},{\"attributes\":{},\"id\":\"33823\",\"type\":\"SaveTool\"},{\"attributes\":{\"source\":{\"id\":\"33855\",\"type\":\"ColumnDataSource\"}},\"id\":\"33859\",\"type\":\"CDSView\"},{\"attributes\":{\"line_alpha\":0.8,\"line_color\":\"magenta\",\"x\":{\"field\":\"x\"},\"y\":{\"field\":\"y\"}},\"id\":\"33887\",\"type\":\"Line\"},{\"attributes\":{},\"id\":\"33822\",\"type\":\"ResetTool\"},{\"attributes\":{},\"id\":\"34313\",\"type\":\"UnionRenderers\"},{\"attributes\":{\"months\":[0,4,8]},\"id\":\"33850\",\"type\":\"MonthsTicker\"},{\"attributes\":{\"data_source\":{\"id\":\"33860\",\"type\":\"ColumnDataSource\"},\"glyph\":{\"id\":\"33861\",\"type\":\"Circle\"},\"hover_glyph\":null,\"muted_glyph\":null,\"nonselection_glyph\":{\"id\":\"33862\",\"type\":\"Circle\"},\"selection_glyph\":null,\"view\":{\"id\":\"33864\",\"type\":\"CDSView\"}},\"id\":\"33863\",\"type\":\"GlyphRenderer\"},{\"attributes\":{},\"id\":\"34312\",\"type\":\"Selection\"}],\"root_ids\":[\"33798\"]},\"title\":\"Bokeh Application\",\"version\":\"1.3.4\"}};\n",
       "  var render_items = [{\"docid\":\"0cc05f12-8bb1-43b1-877f-48e00087417b\",\"roots\":{\"33798\":\"0313a3e4-0abf-460b-afb0-c2b6903ca0af\"}}];\n",
       "  root.Bokeh.embed.embed_items_notebook(docs_json, render_items);\n",
       "\n",
       "  }\n",
       "  if (root.Bokeh !== undefined) {\n",
       "    embed_document(root);\n",
       "  } else {\n",
       "    var attempts = 0;\n",
       "    var timer = setInterval(function(root) {\n",
       "      if (root.Bokeh !== undefined) {\n",
       "        embed_document(root);\n",
       "        clearInterval(timer);\n",
       "      }\n",
       "      attempts++;\n",
       "      if (attempts > 100) {\n",
       "        console.log(\"Bokeh: ERROR: Unable to run BokehJS code because BokehJS library is missing\");\n",
       "        clearInterval(timer);\n",
       "      }\n",
       "    }, 10, root)\n",
       "  }\n",
       "})(window);"
      ],
      "application/vnd.bokehjs_exec.v0+json": ""
     },
     "metadata": {
      "application/vnd.bokehjs_exec.v0+json": {
       "id": "33798"
      }
     },
     "output_type": "display_data"
    }
   ],
   "source": [
    "p = plot.plot_time_series_count(dy1.index, dy1[\"Weekly_Sales\"], color=\"navy\", title=\"Weekly_Sales vs Datetime\", \n",
    "                                relative_y_axis=True, height=300, legend=str(years[0]), p=None)\n",
    "p = plot.plot_time_series_count(dy2.index, dy2[\"Weekly_Sales\"], color=\"magenta\", title=\"Weekly_Sales vs Datetime\", \n",
    "                                relative_y_axis=True, height=300, legend=str(years[1]), p=p)\n",
    "\n",
    "show(p)"
   ]
  },
  {
   "cell_type": "code",
   "execution_count": 66,
   "metadata": {
    "scrolled": false
   },
   "outputs": [
    {
     "data": {
      "text/html": [
       "\n",
       "\n",
       "\n",
       "\n",
       "\n",
       "\n",
       "  <div class=\"bk-root\" id=\"312d850a-18b9-4611-bcaf-83a176b9bdaa\" data-root-id=\"33798\"></div>\n"
      ]
     },
     "metadata": {},
     "output_type": "display_data"
    },
    {
     "data": {
      "application/javascript": [
       "(function(root) {\n",
       "  function embed_document(root) {\n",
       "    \n",
       "  var docs_json = {\"2f5611db-3f8e-4994-920e-e40a02217322\":{\"roots\":{\"references\":[{\"attributes\":{\"below\":[{\"id\":\"33809\",\"type\":\"DatetimeAxis\"}],\"center\":[{\"id\":\"33813\",\"type\":\"Grid\"},{\"id\":\"33818\",\"type\":\"Grid\"},{\"id\":\"33853\",\"type\":\"Legend\"}],\"left\":[{\"id\":\"33814\",\"type\":\"LinearAxis\"}],\"plot_height\":300,\"plot_width\":900,\"renderers\":[{\"id\":\"33835\",\"type\":\"GlyphRenderer\"},{\"id\":\"33858\",\"type\":\"GlyphRenderer\"},{\"id\":\"33863\",\"type\":\"GlyphRenderer\"},{\"id\":\"33889\",\"type\":\"GlyphRenderer\"},{\"id\":\"34473\",\"type\":\"GlyphRenderer\"},{\"id\":\"35377\",\"type\":\"GlyphRenderer\"},{\"id\":\"35821\",\"type\":\"GlyphRenderer\"},{\"id\":\"36737\",\"type\":\"GlyphRenderer\"}],\"title\":{\"id\":\"33799\",\"type\":\"Title\"},\"toolbar\":{\"id\":\"33824\",\"type\":\"Toolbar\"},\"x_range\":{\"id\":\"33801\",\"type\":\"DataRange1d\"},\"x_scale\":{\"id\":\"33805\",\"type\":\"LinearScale\"},\"y_range\":{\"id\":\"33803\",\"type\":\"DataRange1d\"},\"y_scale\":{\"id\":\"33807\",\"type\":\"LinearScale\"}},\"id\":\"33798\",\"subtype\":\"Figure\",\"type\":\"Plot\"},{\"attributes\":{\"source\":{\"id\":\"34470\",\"type\":\"ColumnDataSource\"}},\"id\":\"34474\",\"type\":\"CDSView\"},{\"attributes\":{\"line_alpha\":0.1,\"line_color\":\"#1f77b4\",\"line_width\":3,\"x\":{\"field\":\"x\"},\"y\":{\"field\":\"y\"}},\"id\":\"35376\",\"type\":\"Line\"},{\"attributes\":{\"mantissas\":[1,2,5],\"max_interval\":500.0,\"num_minor_ticks\":0},\"id\":\"33841\",\"type\":\"AdaptiveTicker\"},{\"attributes\":{},\"id\":\"33839\",\"type\":\"BasicTickFormatter\"},{\"attributes\":{\"line_alpha\":0.8,\"line_color\":\"navy\",\"x\":{\"field\":\"x\"},\"y\":{\"field\":\"y\"}},\"id\":\"33856\",\"type\":\"Line\"},{\"attributes\":{\"callback\":null,\"data\":{\"x\":{\"__ndarray__\":\"AADA0LZpckIAAACZ92tyQgAAQGE4bnJCAACAKXlwckIAAMDxuXJyQgAAALr6dHJCAABAgjt3ckIAAIBKfHlyQgAAwBK9e3JCAAAA2/19ckIAAECjPoByQgAAgGt/gnJCAADAM8CEckIAAAD8AIdyQgAAQMRBiXJCAACAjIKLckIAAMBUw41yQgAAAB0EkHJCAABA5USSckIAAICthZRyQgAAwHXGlnJCAAAAPgeZckIAAEAGSJtyQgAAgM6InXJCAADAlsmfckIAAABfCqJyQgAAQCdLpHJCAACA74umckIAAMC3zKhyQgAAAIANq3JCAABASE6tckIAAIAQj69yQgAAwNjPsXJCAAAAoRC0ckIAAEBpUbZyQgAAgDGSuHJCAADA+dK6ckIAAADCE71yQgAAQIpUv3JCAACAUpXBckIAAMAa1sNyQgAAAOMWxnJCAABAq1fIckIAAIBzmMpyQgAAwDvZzHJCAAAABBrPckIAAEDMWtFyQgAAgJSb03JC\",\"dtype\":\"float64\",\"shape\":[48]},\"y\":{\"__ndarray__\":\"iQrp/qybp0DNWX70afCjQP2TQezMuaFA3uDH/k/Dn0Dx/CbdZiCdQB/ZbPeuPJtAd9gXFyvVmUDGq8wWgJmWQOlSAKP8TpRANXaOOu8flEAtGFIWrRSVQO5OCfqsxZVANwDOfAtKlUDoc6dBix2VQHDxAPLXx5NAd9j2s4Yxk0DDpaPJfFeUQC0lNA2SS5VADteNxaQelkBj8S0fb8CTQBD8dbthg5NAK5xr/Q7blECmfijRRQ6WQBwY7ye375RA4d+wUIhNlUAQHYFKcIiWQAhXEXMVhpdAKTegVTMAmkA49lNu/r6dQM+6oVA6UZ1Amqqoa8xSlkApivLUBoqRQAz86v3VXpBA4R3bo0F5kUDIrs8hP2WUQHzB4YBpzJhApB85zr5gmkCA0i8+xrKaQBJ7UdnGe51A1mZ0WLOYoUAiP+O/JkakQPAFqAJesKdASMl7zfj/qkD8+wTSseiuQHz3l5gUPLJA5zUOOTk2tUDo0jWasRS1QNhUFfbh0qtA\",\"dtype\":\"float64\",\"shape\":[48]}},\"selected\":{\"id\":\"34935\",\"type\":\"Selection\"},\"selection_policy\":{\"id\":\"34936\",\"type\":\"UnionRenderers\"}},\"id\":\"34470\",\"type\":\"ColumnDataSource\"},{\"attributes\":{\"label\":{\"value\":\"hp 2010\"},\"renderers\":[{\"id\":\"34473\",\"type\":\"GlyphRenderer\"}]},\"id\":\"34499\",\"type\":\"LegendItem\"},{\"attributes\":{\"data_source\":{\"id\":\"35374\",\"type\":\"ColumnDataSource\"},\"glyph\":{\"id\":\"35375\",\"type\":\"Line\"},\"hover_glyph\":null,\"muted_glyph\":null,\"nonselection_glyph\":{\"id\":\"35376\",\"type\":\"Line\"},\"selection_glyph\":null,\"view\":{\"id\":\"35378\",\"type\":\"CDSView\"}},\"id\":\"35377\",\"type\":\"GlyphRenderer\"},{\"attributes\":{\"fill_alpha\":{\"value\":0.1},\"fill_color\":{\"value\":\"#1f77b4\"},\"line_alpha\":{\"value\":0.1},\"line_color\":{\"value\":\"#1f77b4\"},\"size\":{\"units\":\"screen\",\"value\":3},\"x\":{\"field\":\"x\"},\"y\":{\"field\":\"y\"}},\"id\":\"34472\",\"type\":\"Circle\"},{\"attributes\":{},\"id\":\"34935\",\"type\":\"Selection\"},{\"attributes\":{\"fill_alpha\":{\"value\":0.8},\"fill_color\":{\"value\":\"cyan\"},\"line_alpha\":{\"value\":0.8},\"line_color\":{\"value\":\"cyan\"},\"size\":{\"units\":\"screen\",\"value\":3},\"x\":{\"field\":\"x\"},\"y\":{\"field\":\"y\"}},\"id\":\"34471\",\"type\":\"Circle\"},{\"attributes\":{\"base\":24,\"mantissas\":[1,2,4,6,8,12],\"max_interval\":43200000.0,\"min_interval\":3600000.0,\"num_minor_ticks\":0},\"id\":\"33843\",\"type\":\"AdaptiveTicker\"},{\"attributes\":{\"callback\":null,\"data\":{\"x\":{\"__ndarray__\":\"AADA0LZpckIAAACZ92tyQgAAQGE4bnJCAACAKXlwckIAAMDxuXJyQgAAALr6dHJCAABAgjt3ckIAAIBKfHlyQgAAwBK9e3JCAAAA2/19ckIAAECjPoByQgAAgGt/gnJCAADAM8CEckIAAAD8AIdyQgAAQMRBiXJCAACAjIKLckIAAMBUw41yQgAAAB0EkHJCAABA5USSckIAAICthZRyQgAAwHXGlnJCAAAAPgeZckIAAEAGSJtyQgAAgM6InXJCAADAlsmfckIAAABfCqJyQgAAQCdLpHJCAACA74umckIAAMC3zKhyQgAAAIANq3JCAABASE6tckIAAIAQj69yQgAAwNjPsXJCAAAAoRC0ckIAAEBpUbZyQgAAgDGSuHJCAADA+dK6ckIAAADCE71yQgAAQIpUv3JCAACAUpXBckIAAMAa1sNyQgAAAOMWxnJCAABAq1fIckIAAIBzmMpyQgAAwDvZzHJCAAAABBrPckIAAEDMWtFyQgAAgJSb03JC\",\"dtype\":\"float64\",\"shape\":[48]},\"y\":{\"__ndarray__\":\"iQrp/qybp0DNWX70afCjQP2TQezMuaFA3uDH/k/Dn0Dx/CbdZiCdQB/ZbPeuPJtAd9gXFyvVmUDGq8wWgJmWQOlSAKP8TpRANXaOOu8flEAtGFIWrRSVQO5OCfqsxZVANwDOfAtKlUDoc6dBix2VQHDxAPLXx5NAd9j2s4Yxk0DDpaPJfFeUQC0lNA2SS5VADteNxaQelkBj8S0fb8CTQBD8dbthg5NAK5xr/Q7blECmfijRRQ6WQBwY7ye375RA4d+wUIhNlUAQHYFKcIiWQAhXEXMVhpdAKTegVTMAmkA49lNu/r6dQM+6oVA6UZ1Amqqoa8xSlkApivLUBoqRQAz86v3VXpBA4R3bo0F5kUDIrs8hP2WUQHzB4YBpzJhApB85zr5gmkCA0i8+xrKaQBJ7UdnGe51A1mZ0WLOYoUAiP+O/JkakQPAFqAJesKdASMl7zfj/qkD8+wTSseiuQHz3l5gUPLJA5zUOOTk2tUDo0jWasRS1QNhUFfbh0qtA\",\"dtype\":\"float64\",\"shape\":[48]}},\"selected\":{\"id\":\"35804\",\"type\":\"Selection\"},\"selection_policy\":{\"id\":\"35805\",\"type\":\"UnionRenderers\"}},\"id\":\"35374\",\"type\":\"ColumnDataSource\"},{\"attributes\":{\"base\":60,\"mantissas\":[1,2,5,10,15,20,30],\"max_interval\":1800000.0,\"min_interval\":1000.0,\"num_minor_ticks\":0},\"id\":\"33842\",\"type\":\"AdaptiveTicker\"},{\"attributes\":{\"callback\":null,\"data\":{\"x\":{\"__ndarray__\":\"AADA0LZpckIAAACZ92tyQgAAQGE4bnJCAACAKXlwckIAAMDxuXJyQgAAALr6dHJCAABAgjt3ckIAAIBKfHlyQgAAwBK9e3JCAAAA2/19ckIAAECjPoByQgAAgGt/gnJCAADAM8CEckIAAAD8AIdyQgAAQMRBiXJCAACAjIKLckIAAMBUw41yQgAAAB0EkHJCAABA5USSckIAAICthZRyQgAAwHXGlnJCAAAAPgeZckIAAEAGSJtyQgAAgM6InXJCAADAlsmfckIAAABfCqJyQgAAQCdLpHJCAACA74umckIAAMC3zKhyQgAAAIANq3JCAABASE6tckIAAIAQj69yQgAAwNjPsXJCAAAAoRC0ckIAAEBpUbZyQgAAgDGSuHJCAADA+dK6ckIAAADCE71yQgAAQIpUv3JCAACAUpXBckIAAMAa1sNyQgAAAOMWxnJCAABAq1fIckIAAIBzmMpyQgAAwDvZzHJCAAAABBrPckIAAEDMWtFyQgAAgJSb03JC\",\"dtype\":\"float64\",\"shape\":[48]},\"y\":{\"__ndarray__\":\"AAAAAABWqEAAAAAAAKuiQAAAAAAAWaJAAAAAAAB0n0AAAAAAACadQAAAAAAANppAAAAAAABgnEAAAAAAAMyVQAAAAAAAPpNAAAAAAADok0AAAAAAAFSVQAAAAAAA+JZAAAAAAADQk0AAAAAAAM6WQAAAAAAAUpNAAAAAAAC8kUAAAAAAAFeVQAAAAAAAu5NAAAAAAABQmkAAAAAAANGQQAAAAAAA7ZJAAAAAAAChlEAAAAAAAAyZQAAAAAAAuZJAAAAAAAAQlUAUrkfhevKXQLgehetRjZZAFK5H4Xpjl0DD9Shcj0WfQB+F61E4c6FAmpmZmZmjkkCuR+F6FCqQQM3MzMzM0JBArkfhehSIkUA9CtejcGmSQEjhehSuu5tAhetRuB51m0ApXI/C9RCZQOF6FK5HnZtAmpmZmZnfokBmZmZmZmWjQFK4HoXrdahAUrgehessq0BSuB6F68CtQOxRuB6F5bBACtejcD3mtECuR+F6lJC6QFyPwvUoyaRA\",\"dtype\":\"float64\",\"shape\":[48]}},\"selected\":{\"id\":\"33869\",\"type\":\"Selection\"},\"selection_policy\":{\"id\":\"33870\",\"type\":\"UnionRenderers\"}},\"id\":\"33832\",\"type\":\"ColumnDataSource\"},{\"attributes\":{\"source\":{\"id\":\"35374\",\"type\":\"ColumnDataSource\"}},\"id\":\"35378\",\"type\":\"CDSView\"},{\"attributes\":{\"days\":[1,2,3,4,5,6,7,8,9,10,11,12,13,14,15,16,17,18,19,20,21,22,23,24,25,26,27,28,29,30,31]},\"id\":\"33844\",\"type\":\"DaysTicker\"},{\"attributes\":{\"days\":[1,4,7,10,13,16,19,22,25,28]},\"id\":\"33845\",\"type\":\"DaysTicker\"},{\"attributes\":{},\"id\":\"37168\",\"type\":\"Selection\"},{\"attributes\":{\"days\":[1,8,15,22]},\"id\":\"33846\",\"type\":\"DaysTicker\"},{\"attributes\":{},\"id\":\"34936\",\"type\":\"UnionRenderers\"},{\"attributes\":{\"days\":[1,15]},\"id\":\"33847\",\"type\":\"DaysTicker\"},{\"attributes\":{\"months\":[0,1,2,3,4,5,6,7,8,9,10,11]},\"id\":\"33848\",\"type\":\"MonthsTicker\"},{\"attributes\":{\"months\":[0,2,4,6,8,10]},\"id\":\"33849\",\"type\":\"MonthsTicker\"},{\"attributes\":{\"months\":[0,4,8]},\"id\":\"33850\",\"type\":\"MonthsTicker\"},{\"attributes\":{\"data_source\":{\"id\":\"33860\",\"type\":\"ColumnDataSource\"},\"glyph\":{\"id\":\"33861\",\"type\":\"Circle\"},\"hover_glyph\":null,\"muted_glyph\":null,\"nonselection_glyph\":{\"id\":\"33862\",\"type\":\"Circle\"},\"selection_glyph\":null,\"view\":{\"id\":\"33864\",\"type\":\"CDSView\"}},\"id\":\"33863\",\"type\":\"GlyphRenderer\"},{\"attributes\":{},\"id\":\"35804\",\"type\":\"Selection\"},{\"attributes\":{\"months\":[0,6]},\"id\":\"33851\",\"type\":\"MonthsTicker\"},{\"attributes\":{\"fill_alpha\":{\"value\":0.1},\"fill_color\":{\"value\":\"#1f77b4\"},\"line_alpha\":{\"value\":0.1},\"line_color\":{\"value\":\"#1f77b4\"},\"size\":{\"units\":\"screen\",\"value\":3},\"x\":{\"field\":\"x\"},\"y\":{\"field\":\"y\"}},\"id\":\"35820\",\"type\":\"Circle\"},{\"attributes\":{},\"id\":\"33852\",\"type\":\"YearsTicker\"},{\"attributes\":{},\"id\":\"35805\",\"type\":\"UnionRenderers\"},{\"attributes\":{\"data_source\":{\"id\":\"33886\",\"type\":\"ColumnDataSource\"},\"glyph\":{\"id\":\"33887\",\"type\":\"Line\"},\"hover_glyph\":null,\"muted_glyph\":null,\"nonselection_glyph\":{\"id\":\"33888\",\"type\":\"Line\"},\"selection_glyph\":null,\"view\":{\"id\":\"33890\",\"type\":\"CDSView\"}},\"id\":\"33889\",\"type\":\"GlyphRenderer\"},{\"attributes\":{\"source\":{\"id\":\"33886\",\"type\":\"ColumnDataSource\"}},\"id\":\"33890\",\"type\":\"CDSView\"},{\"attributes\":{\"fill_alpha\":{\"value\":0.8},\"fill_color\":{\"value\":\"#FFC0C8\"},\"line_alpha\":{\"value\":0.8},\"line_color\":{\"value\":\"#FFC0C8\"},\"size\":{\"units\":\"screen\",\"value\":3},\"x\":{\"field\":\"x\"},\"y\":{\"field\":\"y\"}},\"id\":\"35819\",\"type\":\"Circle\"},{\"attributes\":{},\"id\":\"36291\",\"type\":\"Selection\"},{\"attributes\":{\"source\":{\"id\":\"33860\",\"type\":\"ColumnDataSource\"}},\"id\":\"33864\",\"type\":\"CDSView\"},{\"attributes\":{},\"id\":\"33870\",\"type\":\"UnionRenderers\"},{\"attributes\":{\"callback\":null,\"data\":{\"x\":{\"__ndarray__\":\"AAAASmFgckIAAEASomJyQgAAgNriZHJCAADAoiNnckIAAABrZGlyQgAAQDOla3JCAACA++VtckIAAMDDJnByQgAAAIxncnJCAABAVKh0ckIAAIAc6XZyQgAAwOQpeXJCAAAArWp7ckIAAEB1q31yQgAAgD3sf3JCAADABS2CckIAAADObYRyQgAAQJauhnJCAACAXu+IckIAAMAmMItyQgAAAO9wjXJCAABAt7GPckIAAIB/8pFyQgAAwEczlHJCAAAAEHSWckIAAEDYtJhyQgAAgKD1mnJCAADAaDadckIAAAAxd59yQgAAQPm3oXJCAACAwfijckIAAMCJOaZyQgAAAFJ6qHJCAABAGruqckIAAIDi+6xyQgAAwKo8r3JCAAAAc32xckIAAEA7vrNyQgAAgAP/tXJCAADAyz+4ckIAAACUgLpyQgAAQFzBvHJCAACAJAK/ckIAAMDsQsFyQgAAALWDw3JCAABAfcTFckIAAIBFBchyQgAAwA1GynJCAAAA1obMckIAAECex85yQgAAgGYI0XJCAADALknTckI=\",\"dtype\":\"float64\",\"shape\":[52]},\"y\":{\"__ndarray__\":\"mpmZmZnKnkApXI/C9XykQKRwPQrXGZ9AMzMzMzMGnUDD9ShcjyCkQOF6FK5H+aFArkfhehTPoEDXo3A9CiWeQLgehetRVZlAXI/C9SgumkBSuB6F6ymaQFyPwvUoe5ZA16NwPQoYmECuR+F6FPKXQB+F61G4TJRAAAAAAAC9k0CamZmZmceSQOF6FK5HJ5RAFK5H4XrelEDNzMzMzGGSQNejcD0KJJJAH4XrUbjGlECuR+F6FHeSQClcj8L1mpFASOF6FK7hjUAzMzMzM7uQQHE9Ctej+pNA7FG4HoWfkUDD9ShcjzOSQD0K16NwV5VACtejcD2amEBI4XoUriaXQKRwPQrX9ZtArkfhehTDnECkcD0K126RQBSuR+F6rpBAUrgeheuOk0ApXI/C9U6SQBSuR+F615FA16NwPQqalECkcD0K1w6WQJqZmZmZV5ZAFK5H4XpXmUCkcD0K1xCfQOxRuB6FlqJA7FG4HgUookAfhetRuKusQNejcD2KyKlA7FG4HoVSskDXo3A9yoqyQK5H4XoU5bZAcT0K16Mop0A=\",\"dtype\":\"float64\",\"shape\":[52]}},\"selected\":{\"id\":\"34312\",\"type\":\"Selection\"},\"selection_policy\":{\"id\":\"34313\",\"type\":\"UnionRenderers\"}},\"id\":\"33886\",\"type\":\"ColumnDataSource\"},{\"attributes\":{\"label\":{\"value\":\"hp 2011\"},\"renderers\":[{\"id\":\"35821\",\"type\":\"GlyphRenderer\"}]},\"id\":\"35851\",\"type\":\"LegendItem\"},{\"attributes\":{\"data_source\":{\"id\":\"35818\",\"type\":\"ColumnDataSource\"},\"glyph\":{\"id\":\"35819\",\"type\":\"Circle\"},\"hover_glyph\":null,\"muted_glyph\":null,\"nonselection_glyph\":{\"id\":\"35820\",\"type\":\"Circle\"},\"selection_glyph\":null,\"view\":{\"id\":\"35822\",\"type\":\"CDSView\"}},\"id\":\"35821\",\"type\":\"GlyphRenderer\"},{\"attributes\":{},\"id\":\"33871\",\"type\":\"Selection\"},{\"attributes\":{\"source\":{\"id\":\"35818\",\"type\":\"ColumnDataSource\"}},\"id\":\"35822\",\"type\":\"CDSView\"},{\"attributes\":{},\"id\":\"33872\",\"type\":\"UnionRenderers\"},{\"attributes\":{\"dimensions\":\"width\"},\"id\":\"33821\",\"type\":\"WheelZoomTool\"},{\"attributes\":{\"callback\":null,\"data\":{\"x\":{\"__ndarray__\":\"AAAASmFgckIAAEASomJyQgAAgNriZHJCAADAoiNnckIAAABrZGlyQgAAQDOla3JCAACA++VtckIAAMDDJnByQgAAAIxncnJCAABAVKh0ckIAAIAc6XZyQgAAwOQpeXJCAAAArWp7ckIAAEB1q31yQgAAgD3sf3JCAADABS2CckIAAADObYRyQgAAQJauhnJCAACAXu+IckIAAMAmMItyQgAAAO9wjXJCAABAt7GPckIAAIB/8pFyQgAAwEczlHJCAAAAEHSWckIAAEDYtJhyQgAAgKD1mnJCAADAaDadckIAAAAxd59yQgAAQPm3oXJCAACAwfijckIAAMCJOaZyQgAAAFJ6qHJCAABAGruqckIAAIDi+6xyQgAAwKo8r3JCAAAAc32xckIAAEA7vrNyQgAAgAP/tXJCAADAyz+4ckIAAACUgLpyQgAAQFzBvHJCAACAJAK/ckIAAMDsQsFyQgAAALWDw3JCAABAfcTFckIAAIBFBchyQgAAwA1GynJCAAAA1obMckIAAECex85yQgAAgGYI0XJCAADALknTckI=\",\"dtype\":\"float64\",\"shape\":[52]},\"y\":{\"__ndarray__\":\"c8ClEB6IoEC7wi5VK8WhQLbdBRKWvKBA9Vw6mlCYoEA/QQ0n+CKiQKMEfvC7/KFAOIrDmPnAoEAmQ4N6TAieQGYqL3/Z7ZpAiiCkiGvNmUCXZKe4xBCZQDYTOwsi45dAgPBPFQ6il0DRuOVAIduWQDSPPUjsB5VAarSPWebPk0AEVXC2HmSTQMM0VO3Xz5NAmKACU0rlk0CoccO9jSWTQBGcaCAbBJNANsrWi+lsk0AEtgJLzouSQDuPCjU8QJFA8qjJgDJAkEAc8CSAI/eQQA/h6JfKMZJAUX7+kgJFkkArg5G6WBeTQBpSQW9fRJVAzDLcVBagl0A33Vt4nySZQNBRSR5rwJpAJ5lrwwZmmUB2+XG813KUQAoW98xe/pFAjYAsVBsYkkDA+uTZxC+SQOy110ezopJAMKYQWaAMlED9r3v71HKVQAuzxOVt9ZZAXxAb7IvsmUAd9ldKp3SeQOzmVhMLwKFAHPuME8ecpEDzvI+P1pKpQGVfd4cEe61A39IJwO+vsUATbhO1gHOzQHqlltgsILNAjBEY4v34q0A=\",\"dtype\":\"float64\",\"shape\":[52]}},\"selected\":{\"id\":\"36291\",\"type\":\"Selection\"},\"selection_policy\":{\"id\":\"36292\",\"type\":\"UnionRenderers\"}},\"id\":\"35818\",\"type\":\"ColumnDataSource\"},{\"attributes\":{},\"id\":\"37169\",\"type\":\"UnionRenderers\"},{\"attributes\":{\"source\":{\"id\":\"33832\",\"type\":\"ColumnDataSource\"}},\"id\":\"33836\",\"type\":\"CDSView\"},{\"attributes\":{},\"id\":\"34310\",\"type\":\"Selection\"},{\"attributes\":{\"line_alpha\":0.1,\"line_color\":\"#1f77b4\",\"x\":{\"field\":\"x\"},\"y\":{\"field\":\"y\"}},\"id\":\"33888\",\"type\":\"Line\"},{\"attributes\":{\"data_source\":{\"id\":\"33832\",\"type\":\"ColumnDataSource\"},\"glyph\":{\"id\":\"33833\",\"type\":\"Circle\"},\"hover_glyph\":null,\"muted_glyph\":null,\"nonselection_glyph\":{\"id\":\"33834\",\"type\":\"Circle\"},\"selection_glyph\":null,\"view\":{\"id\":\"33836\",\"type\":\"CDSView\"}},\"id\":\"33835\",\"type\":\"GlyphRenderer\"},{\"attributes\":{},\"id\":\"33819\",\"type\":\"PanTool\"},{\"attributes\":{},\"id\":\"34311\",\"type\":\"UnionRenderers\"},{\"attributes\":{},\"id\":\"36292\",\"type\":\"UnionRenderers\"},{\"attributes\":{\"dimensions\":\"height\"},\"id\":\"33820\",\"type\":\"WheelZoomTool\"},{\"attributes\":{},\"id\":\"33823\",\"type\":\"SaveTool\"},{\"attributes\":{},\"id\":\"33822\",\"type\":\"ResetTool\"},{\"attributes\":{},\"id\":\"34313\",\"type\":\"UnionRenderers\"},{\"attributes\":{\"active_drag\":\"auto\",\"active_inspect\":\"auto\",\"active_multi\":null,\"active_scroll\":\"auto\",\"active_tap\":\"auto\",\"tools\":[{\"id\":\"33819\",\"type\":\"PanTool\"},{\"id\":\"33820\",\"type\":\"WheelZoomTool\"},{\"id\":\"33821\",\"type\":\"WheelZoomTool\"},{\"id\":\"33822\",\"type\":\"ResetTool\"},{\"id\":\"33823\",\"type\":\"SaveTool\"}]},\"id\":\"33824\",\"type\":\"Toolbar\"},{\"attributes\":{},\"id\":\"34312\",\"type\":\"Selection\"},{\"attributes\":{\"ticker\":{\"id\":\"33810\",\"type\":\"DatetimeTicker\"}},\"id\":\"33813\",\"type\":\"Grid\"},{\"attributes\":{\"label\":{\"value\":\"2011\"},\"renderers\":[{\"id\":\"33863\",\"type\":\"GlyphRenderer\"}]},\"id\":\"33885\",\"type\":\"LegendItem\"},{\"attributes\":{\"formatter\":{\"id\":\"33839\",\"type\":\"BasicTickFormatter\"},\"ticker\":{\"id\":\"33815\",\"type\":\"BasicTicker\"}},\"id\":\"33814\",\"type\":\"LinearAxis\"},{\"attributes\":{},\"id\":\"33805\",\"type\":\"LinearScale\"},{\"attributes\":{\"days\":[\"%d/%b\"],\"hours\":[\"%H:%M %d/%b\"],\"months\":[\"%d/%b/%Y\"],\"years\":[\"%d/%b/%Y\"]},\"id\":\"33830\",\"type\":\"DatetimeTickFormatter\"},{\"attributes\":{\"callback\":null},\"id\":\"33801\",\"type\":\"DataRange1d\"},{\"attributes\":{\"source\":{\"id\":\"33855\",\"type\":\"ColumnDataSource\"}},\"id\":\"33859\",\"type\":\"CDSView\"},{\"attributes\":{\"line_alpha\":0.8,\"line_color\":\"#FFC0C8\",\"line_width\":3,\"x\":{\"field\":\"x\"},\"y\":{\"field\":\"y\"}},\"id\":\"36735\",\"type\":\"Line\"},{\"attributes\":{\"data_source\":{\"id\":\"33855\",\"type\":\"ColumnDataSource\"},\"glyph\":{\"id\":\"33856\",\"type\":\"Line\"},\"hover_glyph\":null,\"muted_glyph\":null,\"nonselection_glyph\":{\"id\":\"33857\",\"type\":\"Line\"},\"selection_glyph\":null,\"view\":{\"id\":\"33859\",\"type\":\"CDSView\"}},\"id\":\"33858\",\"type\":\"GlyphRenderer\"},{\"attributes\":{\"fill_alpha\":{\"value\":0.1},\"fill_color\":{\"value\":\"#1f77b4\"},\"line_alpha\":{\"value\":0.1},\"line_color\":{\"value\":\"#1f77b4\"},\"size\":{\"units\":\"screen\",\"value\":3},\"x\":{\"field\":\"x\"},\"y\":{\"field\":\"y\"}},\"id\":\"33862\",\"type\":\"Circle\"},{\"attributes\":{\"label\":{\"value\":\"2010\"},\"renderers\":[{\"id\":\"33835\",\"type\":\"GlyphRenderer\"}]},\"id\":\"33854\",\"type\":\"LegendItem\"},{\"attributes\":{},\"id\":\"33807\",\"type\":\"LinearScale\"},{\"attributes\":{\"fill_alpha\":{\"value\":0.8},\"fill_color\":{\"value\":\"magenta\"},\"line_alpha\":{\"value\":0.8},\"line_color\":{\"value\":\"magenta\"},\"size\":{\"units\":\"screen\",\"value\":3},\"x\":{\"field\":\"x\"},\"y\":{\"field\":\"y\"}},\"id\":\"33861\",\"type\":\"Circle\"},{\"attributes\":{\"dimension\":1,\"ticker\":{\"id\":\"33815\",\"type\":\"BasicTicker\"}},\"id\":\"33818\",\"type\":\"Grid\"},{\"attributes\":{\"data_source\":{\"id\":\"34470\",\"type\":\"ColumnDataSource\"},\"glyph\":{\"id\":\"34471\",\"type\":\"Circle\"},\"hover_glyph\":null,\"muted_glyph\":null,\"nonselection_glyph\":{\"id\":\"34472\",\"type\":\"Circle\"},\"selection_glyph\":null,\"view\":{\"id\":\"34474\",\"type\":\"CDSView\"}},\"id\":\"34473\",\"type\":\"GlyphRenderer\"},{\"attributes\":{\"num_minor_ticks\":5,\"tickers\":[{\"id\":\"33841\",\"type\":\"AdaptiveTicker\"},{\"id\":\"33842\",\"type\":\"AdaptiveTicker\"},{\"id\":\"33843\",\"type\":\"AdaptiveTicker\"},{\"id\":\"33844\",\"type\":\"DaysTicker\"},{\"id\":\"33845\",\"type\":\"DaysTicker\"},{\"id\":\"33846\",\"type\":\"DaysTicker\"},{\"id\":\"33847\",\"type\":\"DaysTicker\"},{\"id\":\"33848\",\"type\":\"MonthsTicker\"},{\"id\":\"33849\",\"type\":\"MonthsTicker\"},{\"id\":\"33850\",\"type\":\"MonthsTicker\"},{\"id\":\"33851\",\"type\":\"MonthsTicker\"},{\"id\":\"33852\",\"type\":\"YearsTicker\"}]},\"id\":\"33810\",\"type\":\"DatetimeTicker\"},{\"attributes\":{\"text\":\"Weekly_Sales vs Datetime\"},\"id\":\"33799\",\"type\":\"Title\"},{\"attributes\":{\"callback\":null,\"data\":{\"x\":{\"__ndarray__\":\"AAAASmFgckIAAEASomJyQgAAgNriZHJCAADAoiNnckIAAABrZGlyQgAAQDOla3JCAACA++VtckIAAMDDJnByQgAAAIxncnJCAABAVKh0ckIAAIAc6XZyQgAAwOQpeXJCAAAArWp7ckIAAEB1q31yQgAAgD3sf3JCAADABS2CckIAAADObYRyQgAAQJauhnJCAACAXu+IckIAAMAmMItyQgAAAO9wjXJCAABAt7GPckIAAIB/8pFyQgAAwEczlHJCAAAAEHSWckIAAEDYtJhyQgAAgKD1mnJCAADAaDadckIAAAAxd59yQgAAQPm3oXJCAACAwfijckIAAMCJOaZyQgAAAFJ6qHJCAABAGruqckIAAIDi+6xyQgAAwKo8r3JCAAAAc32xckIAAEA7vrNyQgAAgAP/tXJCAADAyz+4ckIAAACUgLpyQgAAQFzBvHJCAACAJAK/ckIAAMDsQsFyQgAAALWDw3JCAABAfcTFckIAAIBFBchyQgAAwA1GynJCAAAA1obMckIAAECex85yQgAAgGYI0XJCAADALknTckI=\",\"dtype\":\"float64\",\"shape\":[52]},\"y\":{\"__ndarray__\":\"mpmZmZnKnkApXI/C9XykQKRwPQrXGZ9AMzMzMzMGnUDD9ShcjyCkQOF6FK5H+aFArkfhehTPoEDXo3A9CiWeQLgehetRVZlAXI/C9SgumkBSuB6F6ymaQFyPwvUoe5ZA16NwPQoYmECuR+F6FPKXQB+F61G4TJRAAAAAAAC9k0CamZmZmceSQOF6FK5HJ5RAFK5H4XrelEDNzMzMzGGSQNejcD0KJJJAH4XrUbjGlECuR+F6FHeSQClcj8L1mpFASOF6FK7hjUAzMzMzM7uQQHE9Ctej+pNA7FG4HoWfkUDD9ShcjzOSQD0K16NwV5VACtejcD2amEBI4XoUriaXQKRwPQrX9ZtArkfhehTDnECkcD0K126RQBSuR+F6rpBAUrgeheuOk0ApXI/C9U6SQBSuR+F615FA16NwPQqalECkcD0K1w6WQJqZmZmZV5ZAFK5H4XpXmUCkcD0K1xCfQOxRuB6FlqJA7FG4HgUookAfhetRuKusQNejcD2KyKlA7FG4HoVSskDXo3A9yoqyQK5H4XoU5bZAcT0K16Mop0A=\",\"dtype\":\"float64\",\"shape\":[52]}},\"selected\":{\"id\":\"34310\",\"type\":\"Selection\"},\"selection_policy\":{\"id\":\"34311\",\"type\":\"UnionRenderers\"}},\"id\":\"33860\",\"type\":\"ColumnDataSource\"},{\"attributes\":{\"line_alpha\":0.1,\"line_color\":\"#1f77b4\",\"line_width\":3,\"x\":{\"field\":\"x\"},\"y\":{\"field\":\"y\"}},\"id\":\"36736\",\"type\":\"Line\"},{\"attributes\":{\"items\":[{\"id\":\"33854\",\"type\":\"LegendItem\"},{\"id\":\"33885\",\"type\":\"LegendItem\"},{\"id\":\"34499\",\"type\":\"LegendItem\"},{\"id\":\"35851\",\"type\":\"LegendItem\"}],\"location\":\"top_center\"},\"id\":\"33853\",\"type\":\"Legend\"},{\"attributes\":{\"formatter\":{\"id\":\"33830\",\"type\":\"DatetimeTickFormatter\"},\"ticker\":{\"id\":\"33810\",\"type\":\"DatetimeTicker\"}},\"id\":\"33809\",\"type\":\"DatetimeAxis\"},{\"attributes\":{\"line_alpha\":0.8,\"line_color\":\"cyan\",\"line_width\":3,\"x\":{\"field\":\"x\"},\"y\":{\"field\":\"y\"}},\"id\":\"35375\",\"type\":\"Line\"},{\"attributes\":{},\"id\":\"33869\",\"type\":\"Selection\"},{\"attributes\":{\"callback\":null,\"data\":{\"x\":{\"__ndarray__\":\"AADA0LZpckIAAACZ92tyQgAAQGE4bnJCAACAKXlwckIAAMDxuXJyQgAAALr6dHJCAABAgjt3ckIAAIBKfHlyQgAAwBK9e3JCAAAA2/19ckIAAECjPoByQgAAgGt/gnJCAADAM8CEckIAAAD8AIdyQgAAQMRBiXJCAACAjIKLckIAAMBUw41yQgAAAB0EkHJCAABA5USSckIAAICthZRyQgAAwHXGlnJCAAAAPgeZckIAAEAGSJtyQgAAgM6InXJCAADAlsmfckIAAABfCqJyQgAAQCdLpHJCAACA74umckIAAMC3zKhyQgAAAIANq3JCAABASE6tckIAAIAQj69yQgAAwNjPsXJCAAAAoRC0ckIAAEBpUbZyQgAAgDGSuHJCAADA+dK6ckIAAADCE71yQgAAQIpUv3JCAACAUpXBckIAAMAa1sNyQgAAAOMWxnJCAABAq1fIckIAAIBzmMpyQgAAwDvZzHJCAAAABBrPckIAAEDMWtFyQgAAgJSb03JC\",\"dtype\":\"float64\",\"shape\":[48]},\"y\":{\"__ndarray__\":\"AAAAAABWqEAAAAAAAKuiQAAAAAAAWaJAAAAAAAB0n0AAAAAAACadQAAAAAAANppAAAAAAABgnEAAAAAAAMyVQAAAAAAAPpNAAAAAAADok0AAAAAAAFSVQAAAAAAA+JZAAAAAAADQk0AAAAAAAM6WQAAAAAAAUpNAAAAAAAC8kUAAAAAAAFeVQAAAAAAAu5NAAAAAAABQmkAAAAAAANGQQAAAAAAA7ZJAAAAAAAChlEAAAAAAAAyZQAAAAAAAuZJAAAAAAAAQlUAUrkfhevKXQLgehetRjZZAFK5H4Xpjl0DD9Shcj0WfQB+F61E4c6FAmpmZmZmjkkCuR+F6FCqQQM3MzMzM0JBArkfhehSIkUA9CtejcGmSQEjhehSuu5tAhetRuB51m0ApXI/C9RCZQOF6FK5HnZtAmpmZmZnfokBmZmZmZmWjQFK4HoXrdahAUrgehessq0BSuB6F68CtQOxRuB6F5bBACtejcD3mtECuR+F6lJC6QFyPwvUoyaRA\",\"dtype\":\"float64\",\"shape\":[48]}},\"selected\":{\"id\":\"33871\",\"type\":\"Selection\"},\"selection_policy\":{\"id\":\"33872\",\"type\":\"UnionRenderers\"}},\"id\":\"33855\",\"type\":\"ColumnDataSource\"},{\"attributes\":{\"fill_alpha\":{\"value\":0.1},\"fill_color\":{\"value\":\"#1f77b4\"},\"line_alpha\":{\"value\":0.1},\"line_color\":{\"value\":\"#1f77b4\"},\"size\":{\"units\":\"screen\",\"value\":3},\"x\":{\"field\":\"x\"},\"y\":{\"field\":\"y\"}},\"id\":\"33834\",\"type\":\"Circle\"},{\"attributes\":{\"callback\":null},\"id\":\"33803\",\"type\":\"DataRange1d\"},{\"attributes\":{},\"id\":\"33815\",\"type\":\"BasicTicker\"},{\"attributes\":{\"fill_alpha\":{\"value\":0.8},\"fill_color\":{\"value\":\"navy\"},\"line_alpha\":{\"value\":0.8},\"line_color\":{\"value\":\"navy\"},\"size\":{\"units\":\"screen\",\"value\":3},\"x\":{\"field\":\"x\"},\"y\":{\"field\":\"y\"}},\"id\":\"33833\",\"type\":\"Circle\"},{\"attributes\":{\"data_source\":{\"id\":\"36734\",\"type\":\"ColumnDataSource\"},\"glyph\":{\"id\":\"36735\",\"type\":\"Line\"},\"hover_glyph\":null,\"muted_glyph\":null,\"nonselection_glyph\":{\"id\":\"36736\",\"type\":\"Line\"},\"selection_glyph\":null,\"view\":{\"id\":\"36738\",\"type\":\"CDSView\"}},\"id\":\"36737\",\"type\":\"GlyphRenderer\"},{\"attributes\":{\"source\":{\"id\":\"36734\",\"type\":\"ColumnDataSource\"}},\"id\":\"36738\",\"type\":\"CDSView\"},{\"attributes\":{\"line_alpha\":0.1,\"line_color\":\"#1f77b4\",\"x\":{\"field\":\"x\"},\"y\":{\"field\":\"y\"}},\"id\":\"33857\",\"type\":\"Line\"},{\"attributes\":{\"line_alpha\":0.8,\"line_color\":\"magenta\",\"x\":{\"field\":\"x\"},\"y\":{\"field\":\"y\"}},\"id\":\"33887\",\"type\":\"Line\"},{\"attributes\":{\"callback\":null,\"data\":{\"x\":{\"__ndarray__\":\"AAAASmFgckIAAEASomJyQgAAgNriZHJCAADAoiNnckIAAABrZGlyQgAAQDOla3JCAACA++VtckIAAMDDJnByQgAAAIxncnJCAABAVKh0ckIAAIAc6XZyQgAAwOQpeXJCAAAArWp7ckIAAEB1q31yQgAAgD3sf3JCAADABS2CckIAAADObYRyQgAAQJauhnJCAACAXu+IckIAAMAmMItyQgAAAO9wjXJCAABAt7GPckIAAIB/8pFyQgAAwEczlHJCAAAAEHSWckIAAEDYtJhyQgAAgKD1mnJCAADAaDadckIAAAAxd59yQgAAQPm3oXJCAACAwfijckIAAMCJOaZyQgAAAFJ6qHJCAABAGruqckIAAIDi+6xyQgAAwKo8r3JCAAAAc32xckIAAEA7vrNyQgAAgAP/tXJCAADAyz+4ckIAAACUgLpyQgAAQFzBvHJCAACAJAK/ckIAAMDsQsFyQgAAALWDw3JCAABAfcTFckIAAIBFBchyQgAAwA1GynJCAAAA1obMckIAAECex85yQgAAgGYI0XJCAADALknTckI=\",\"dtype\":\"float64\",\"shape\":[52]},\"y\":{\"__ndarray__\":\"c8ClEB6IoEC7wi5VK8WhQLbdBRKWvKBA9Vw6mlCYoEA/QQ0n+CKiQKMEfvC7/KFAOIrDmPnAoEAmQ4N6TAieQGYqL3/Z7ZpAiiCkiGvNmUCXZKe4xBCZQDYTOwsi45dAgPBPFQ6il0DRuOVAIduWQDSPPUjsB5VAarSPWebPk0AEVXC2HmSTQMM0VO3Xz5NAmKACU0rlk0CoccO9jSWTQBGcaCAbBJNANsrWi+lsk0AEtgJLzouSQDuPCjU8QJFA8qjJgDJAkEAc8CSAI/eQQA/h6JfKMZJAUX7+kgJFkkArg5G6WBeTQBpSQW9fRJVAzDLcVBagl0A33Vt4nySZQNBRSR5rwJpAJ5lrwwZmmUB2+XG813KUQAoW98xe/pFAjYAsVBsYkkDA+uTZxC+SQOy110ezopJAMKYQWaAMlED9r3v71HKVQAuzxOVt9ZZAXxAb7IvsmUAd9ldKp3SeQOzmVhMLwKFAHPuME8ecpEDzvI+P1pKpQGVfd4cEe61A39IJwO+vsUATbhO1gHOzQHqlltgsILNAjBEY4v34q0A=\",\"dtype\":\"float64\",\"shape\":[52]}},\"selected\":{\"id\":\"37168\",\"type\":\"Selection\"},\"selection_policy\":{\"id\":\"37169\",\"type\":\"UnionRenderers\"}},\"id\":\"36734\",\"type\":\"ColumnDataSource\"}],\"root_ids\":[\"33798\"]},\"title\":\"Bokeh Application\",\"version\":\"1.3.4\"}};\n",
       "  var render_items = [{\"docid\":\"2f5611db-3f8e-4994-920e-e40a02217322\",\"roots\":{\"33798\":\"312d850a-18b9-4611-bcaf-83a176b9bdaa\"}}];\n",
       "  root.Bokeh.embed.embed_items_notebook(docs_json, render_items);\n",
       "\n",
       "  }\n",
       "  if (root.Bokeh !== undefined) {\n",
       "    embed_document(root);\n",
       "  } else {\n",
       "    var attempts = 0;\n",
       "    var timer = setInterval(function(root) {\n",
       "      if (root.Bokeh !== undefined) {\n",
       "        embed_document(root);\n",
       "        clearInterval(timer);\n",
       "      }\n",
       "      attempts++;\n",
       "      if (attempts > 100) {\n",
       "        console.log(\"Bokeh: ERROR: Unable to run BokehJS code because BokehJS library is missing\");\n",
       "        clearInterval(timer);\n",
       "      }\n",
       "    }, 10, root)\n",
       "  }\n",
       "})(window);"
      ],
      "application/vnd.bokehjs_exec.v0+json": ""
     },
     "metadata": {
      "application/vnd.bokehjs_exec.v0+json": {
       "id": "33798"
      }
     },
     "output_type": "display_data"
    }
   ],
   "source": [
    "cycle1, trend1 = hpfilter(dy1[\"Weekly_Sales\"], lamb=0.5)\n",
    "cycle2, trend2 = hpfilter(dy2[\"Weekly_Sales\"], lamb=0.5)\n",
    "\n",
    "p = plot.plot_time_series_count(dy1.index, trend1, color=\"cyan\", title=\"Weekly_Sales vs Datetime\", \n",
    "                                relative_y_axis=True, height=300, line_width=3, legend=\"hp \" + str(years[0]), p=p)\n",
    "p = plot.plot_time_series_count(dy2.index, trend2, color=\"#FFC0C8\", title=\"Weekly_Sales vs Datetime\", \n",
    "                                relative_y_axis=True, height=300, line_width=3, legend=\"hp \" + str(years[1]), p=p)\n",
    "\n",
    "p.legend.location = 'top_center'\n",
    "show(p)"
   ]
  },
  {
   "cell_type": "code",
   "execution_count": null,
   "metadata": {},
   "outputs": [],
   "source": []
  },
  {
   "cell_type": "code",
   "execution_count": null,
   "metadata": {},
   "outputs": [],
   "source": [
    "\n",
    "\n",
    "grouped_sales = train.groupby(\"Date\")[\"Weekly_Sales\"].median()\n",
    "display(grouped_sales)\n",
    "gdp_cycle, gdp_trend = hpfilter(grouped_sales, lamb=1)\n",
    "\n",
    "p = plot.plot_time_series_count(grouped_sales.index, grouped_sales, color=\"navy\", title=\"Weekly_Sales vs Datetime\", relative_y_axis=True, height=300, p=None)\n",
    "p = plot.plot_time_series_count(grouped_sales.index, gdp_trend, color=\"magenta\", title=\"Weekly_Sales vs Datetime\", relative_y_axis=True, height=300, p=p)\n",
    "\n",
    "show(p)"
   ]
  }
 ],
 "metadata": {
  "kernelspec": {
   "display_name": "Python 3",
   "language": "python",
   "name": "python3"
  },
  "language_info": {
   "codemirror_mode": {
    "name": "ipython",
    "version": 3
   },
   "file_extension": ".py",
   "mimetype": "text/x-python",
   "name": "python",
   "nbconvert_exporter": "python",
   "pygments_lexer": "ipython3",
   "version": "3.7.4"
  }
 },
 "nbformat": 4,
 "nbformat_minor": 2
}
