{
 "cells": [
  {
   "cell_type": "code",
   "execution_count": 1,
   "metadata": {},
   "outputs": [
    {
     "name": "stdout",
     "output_type": "stream",
     "text": [
      "working dir: '/home/tales/ds/walmart-recruiting-store-sales-forecasting'\n"
     ]
    }
   ],
   "source": [
    "#Setting working path required for relative package loading\n",
    "\n",
    "import os\n",
    "os.chdir(\"/home/tales/ds/walmart-recruiting-store-sales-forecasting/\")\n",
    "print(\"working dir:\", \"\\'\" + os.getcwd() + \"\\'\")"
   ]
  },
  {
   "cell_type": "code",
   "execution_count": 2,
   "metadata": {},
   "outputs": [],
   "source": [
    "import pandas as pd\n",
    "\n",
    "from src.data import dao\n",
    "from src.processment import process\n",
    "from src.utils import pretties, time_utils, stats\n",
    "from src.visualization import plot\n",
    "from bokeh.plotting import show, output_notebook"
   ]
  },
  {
   "cell_type": "code",
   "execution_count": 3,
   "metadata": {},
   "outputs": [
    {
     "data": {
      "text/html": [
       "\n",
       "    <div class=\"bk-root\">\n",
       "        <a href=\"https://bokeh.pydata.org\" target=\"_blank\" class=\"bk-logo bk-logo-small bk-logo-notebook\"></a>\n",
       "        <span id=\"1001\">Loading BokehJS ...</span>\n",
       "    </div>"
      ]
     },
     "metadata": {},
     "output_type": "display_data"
    },
    {
     "data": {
      "application/javascript": [
       "\n",
       "(function(root) {\n",
       "  function now() {\n",
       "    return new Date();\n",
       "  }\n",
       "\n",
       "  var force = true;\n",
       "\n",
       "  if (typeof root._bokeh_onload_callbacks === \"undefined\" || force === true) {\n",
       "    root._bokeh_onload_callbacks = [];\n",
       "    root._bokeh_is_loading = undefined;\n",
       "  }\n",
       "\n",
       "  var JS_MIME_TYPE = 'application/javascript';\n",
       "  var HTML_MIME_TYPE = 'text/html';\n",
       "  var EXEC_MIME_TYPE = 'application/vnd.bokehjs_exec.v0+json';\n",
       "  var CLASS_NAME = 'output_bokeh rendered_html';\n",
       "\n",
       "  /**\n",
       "   * Render data to the DOM node\n",
       "   */\n",
       "  function render(props, node) {\n",
       "    var script = document.createElement(\"script\");\n",
       "    node.appendChild(script);\n",
       "  }\n",
       "\n",
       "  /**\n",
       "   * Handle when an output is cleared or removed\n",
       "   */\n",
       "  function handleClearOutput(event, handle) {\n",
       "    var cell = handle.cell;\n",
       "\n",
       "    var id = cell.output_area._bokeh_element_id;\n",
       "    var server_id = cell.output_area._bokeh_server_id;\n",
       "    // Clean up Bokeh references\n",
       "    if (id != null && id in Bokeh.index) {\n",
       "      Bokeh.index[id].model.document.clear();\n",
       "      delete Bokeh.index[id];\n",
       "    }\n",
       "\n",
       "    if (server_id !== undefined) {\n",
       "      // Clean up Bokeh references\n",
       "      var cmd = \"from bokeh.io.state import curstate; print(curstate().uuid_to_server['\" + server_id + \"'].get_sessions()[0].document.roots[0]._id)\";\n",
       "      cell.notebook.kernel.execute(cmd, {\n",
       "        iopub: {\n",
       "          output: function(msg) {\n",
       "            var id = msg.content.text.trim();\n",
       "            if (id in Bokeh.index) {\n",
       "              Bokeh.index[id].model.document.clear();\n",
       "              delete Bokeh.index[id];\n",
       "            }\n",
       "          }\n",
       "        }\n",
       "      });\n",
       "      // Destroy server and session\n",
       "      var cmd = \"import bokeh.io.notebook as ion; ion.destroy_server('\" + server_id + \"')\";\n",
       "      cell.notebook.kernel.execute(cmd);\n",
       "    }\n",
       "  }\n",
       "\n",
       "  /**\n",
       "   * Handle when a new output is added\n",
       "   */\n",
       "  function handleAddOutput(event, handle) {\n",
       "    var output_area = handle.output_area;\n",
       "    var output = handle.output;\n",
       "\n",
       "    // limit handleAddOutput to display_data with EXEC_MIME_TYPE content only\n",
       "    if ((output.output_type != \"display_data\") || (!output.data.hasOwnProperty(EXEC_MIME_TYPE))) {\n",
       "      return\n",
       "    }\n",
       "\n",
       "    var toinsert = output_area.element.find(\".\" + CLASS_NAME.split(' ')[0]);\n",
       "\n",
       "    if (output.metadata[EXEC_MIME_TYPE][\"id\"] !== undefined) {\n",
       "      toinsert[toinsert.length - 1].firstChild.textContent = output.data[JS_MIME_TYPE];\n",
       "      // store reference to embed id on output_area\n",
       "      output_area._bokeh_element_id = output.metadata[EXEC_MIME_TYPE][\"id\"];\n",
       "    }\n",
       "    if (output.metadata[EXEC_MIME_TYPE][\"server_id\"] !== undefined) {\n",
       "      var bk_div = document.createElement(\"div\");\n",
       "      bk_div.innerHTML = output.data[HTML_MIME_TYPE];\n",
       "      var script_attrs = bk_div.children[0].attributes;\n",
       "      for (var i = 0; i < script_attrs.length; i++) {\n",
       "        toinsert[toinsert.length - 1].firstChild.setAttribute(script_attrs[i].name, script_attrs[i].value);\n",
       "      }\n",
       "      // store reference to server id on output_area\n",
       "      output_area._bokeh_server_id = output.metadata[EXEC_MIME_TYPE][\"server_id\"];\n",
       "    }\n",
       "  }\n",
       "\n",
       "  function register_renderer(events, OutputArea) {\n",
       "\n",
       "    function append_mime(data, metadata, element) {\n",
       "      // create a DOM node to render to\n",
       "      var toinsert = this.create_output_subarea(\n",
       "        metadata,\n",
       "        CLASS_NAME,\n",
       "        EXEC_MIME_TYPE\n",
       "      );\n",
       "      this.keyboard_manager.register_events(toinsert);\n",
       "      // Render to node\n",
       "      var props = {data: data, metadata: metadata[EXEC_MIME_TYPE]};\n",
       "      render(props, toinsert[toinsert.length - 1]);\n",
       "      element.append(toinsert);\n",
       "      return toinsert\n",
       "    }\n",
       "\n",
       "    /* Handle when an output is cleared or removed */\n",
       "    events.on('clear_output.CodeCell', handleClearOutput);\n",
       "    events.on('delete.Cell', handleClearOutput);\n",
       "\n",
       "    /* Handle when a new output is added */\n",
       "    events.on('output_added.OutputArea', handleAddOutput);\n",
       "\n",
       "    /**\n",
       "     * Register the mime type and append_mime function with output_area\n",
       "     */\n",
       "    OutputArea.prototype.register_mime_type(EXEC_MIME_TYPE, append_mime, {\n",
       "      /* Is output safe? */\n",
       "      safe: true,\n",
       "      /* Index of renderer in `output_area.display_order` */\n",
       "      index: 0\n",
       "    });\n",
       "  }\n",
       "\n",
       "  // register the mime type if in Jupyter Notebook environment and previously unregistered\n",
       "  if (root.Jupyter !== undefined) {\n",
       "    var events = require('base/js/events');\n",
       "    var OutputArea = require('notebook/js/outputarea').OutputArea;\n",
       "\n",
       "    if (OutputArea.prototype.mime_types().indexOf(EXEC_MIME_TYPE) == -1) {\n",
       "      register_renderer(events, OutputArea);\n",
       "    }\n",
       "  }\n",
       "\n",
       "  \n",
       "  if (typeof (root._bokeh_timeout) === \"undefined\" || force === true) {\n",
       "    root._bokeh_timeout = Date.now() + 5000;\n",
       "    root._bokeh_failed_load = false;\n",
       "  }\n",
       "\n",
       "  var NB_LOAD_WARNING = {'data': {'text/html':\n",
       "     \"<div style='background-color: #fdd'>\\n\"+\n",
       "     \"<p>\\n\"+\n",
       "     \"BokehJS does not appear to have successfully loaded. If loading BokehJS from CDN, this \\n\"+\n",
       "     \"may be due to a slow or bad network connection. Possible fixes:\\n\"+\n",
       "     \"</p>\\n\"+\n",
       "     \"<ul>\\n\"+\n",
       "     \"<li>re-rerun `output_notebook()` to attempt to load from CDN again, or</li>\\n\"+\n",
       "     \"<li>use INLINE resources instead, as so:</li>\\n\"+\n",
       "     \"</ul>\\n\"+\n",
       "     \"<code>\\n\"+\n",
       "     \"from bokeh.resources import INLINE\\n\"+\n",
       "     \"output_notebook(resources=INLINE)\\n\"+\n",
       "     \"</code>\\n\"+\n",
       "     \"</div>\"}};\n",
       "\n",
       "  function display_loaded() {\n",
       "    var el = document.getElementById(\"1001\");\n",
       "    if (el != null) {\n",
       "      el.textContent = \"BokehJS is loading...\";\n",
       "    }\n",
       "    if (root.Bokeh !== undefined) {\n",
       "      if (el != null) {\n",
       "        el.textContent = \"BokehJS \" + root.Bokeh.version + \" successfully loaded.\";\n",
       "      }\n",
       "    } else if (Date.now() < root._bokeh_timeout) {\n",
       "      setTimeout(display_loaded, 100)\n",
       "    }\n",
       "  }\n",
       "\n",
       "\n",
       "  function run_callbacks() {\n",
       "    try {\n",
       "      root._bokeh_onload_callbacks.forEach(function(callback) {\n",
       "        if (callback != null)\n",
       "          callback();\n",
       "      });\n",
       "    } finally {\n",
       "      delete root._bokeh_onload_callbacks\n",
       "    }\n",
       "    console.debug(\"Bokeh: all callbacks have finished\");\n",
       "  }\n",
       "\n",
       "  function load_libs(css_urls, js_urls, callback) {\n",
       "    if (css_urls == null) css_urls = [];\n",
       "    if (js_urls == null) js_urls = [];\n",
       "\n",
       "    root._bokeh_onload_callbacks.push(callback);\n",
       "    if (root._bokeh_is_loading > 0) {\n",
       "      console.debug(\"Bokeh: BokehJS is being loaded, scheduling callback at\", now());\n",
       "      return null;\n",
       "    }\n",
       "    if (js_urls == null || js_urls.length === 0) {\n",
       "      run_callbacks();\n",
       "      return null;\n",
       "    }\n",
       "    console.debug(\"Bokeh: BokehJS not loaded, scheduling load and callback at\", now());\n",
       "    root._bokeh_is_loading = css_urls.length + js_urls.length;\n",
       "\n",
       "    function on_load() {\n",
       "      root._bokeh_is_loading--;\n",
       "      if (root._bokeh_is_loading === 0) {\n",
       "        console.debug(\"Bokeh: all BokehJS libraries/stylesheets loaded\");\n",
       "        run_callbacks()\n",
       "      }\n",
       "    }\n",
       "\n",
       "    function on_error() {\n",
       "      console.error(\"failed to load \" + url);\n",
       "    }\n",
       "\n",
       "    for (var i = 0; i < css_urls.length; i++) {\n",
       "      var url = css_urls[i];\n",
       "      const element = document.createElement(\"link\");\n",
       "      element.onload = on_load;\n",
       "      element.onerror = on_error;\n",
       "      element.rel = \"stylesheet\";\n",
       "      element.type = \"text/css\";\n",
       "      element.href = url;\n",
       "      console.debug(\"Bokeh: injecting link tag for BokehJS stylesheet: \", url);\n",
       "      document.body.appendChild(element);\n",
       "    }\n",
       "\n",
       "    for (var i = 0; i < js_urls.length; i++) {\n",
       "      var url = js_urls[i];\n",
       "      var element = document.createElement('script');\n",
       "      element.onload = on_load;\n",
       "      element.onerror = on_error;\n",
       "      element.async = false;\n",
       "      element.src = url;\n",
       "      console.debug(\"Bokeh: injecting script tag for BokehJS library: \", url);\n",
       "      document.head.appendChild(element);\n",
       "    }\n",
       "  };var element = document.getElementById(\"1001\");\n",
       "  if (element == null) {\n",
       "    console.error(\"Bokeh: ERROR: autoload.js configured with elementid '1001' but no matching script tag was found. \")\n",
       "    return false;\n",
       "  }\n",
       "\n",
       "  function inject_raw_css(css) {\n",
       "    const element = document.createElement(\"style\");\n",
       "    element.appendChild(document.createTextNode(css));\n",
       "    document.body.appendChild(element);\n",
       "  }\n",
       "\n",
       "  var js_urls = [\"https://cdn.pydata.org/bokeh/release/bokeh-1.3.4.min.js\", \"https://cdn.pydata.org/bokeh/release/bokeh-widgets-1.3.4.min.js\", \"https://cdn.pydata.org/bokeh/release/bokeh-tables-1.3.4.min.js\", \"https://cdn.pydata.org/bokeh/release/bokeh-gl-1.3.4.min.js\"];\n",
       "  var css_urls = [];\n",
       "\n",
       "  var inline_js = [\n",
       "    function(Bokeh) {\n",
       "      Bokeh.set_log_level(\"info\");\n",
       "    },\n",
       "    \n",
       "    function(Bokeh) {\n",
       "      \n",
       "    },\n",
       "    function(Bokeh) {} // ensure no trailing comma for IE\n",
       "  ];\n",
       "\n",
       "  function run_inline_js() {\n",
       "    \n",
       "    if ((root.Bokeh !== undefined) || (force === true)) {\n",
       "      for (var i = 0; i < inline_js.length; i++) {\n",
       "        inline_js[i].call(root, root.Bokeh);\n",
       "      }if (force === true) {\n",
       "        display_loaded();\n",
       "      }} else if (Date.now() < root._bokeh_timeout) {\n",
       "      setTimeout(run_inline_js, 100);\n",
       "    } else if (!root._bokeh_failed_load) {\n",
       "      console.log(\"Bokeh: BokehJS failed to load within specified timeout.\");\n",
       "      root._bokeh_failed_load = true;\n",
       "    } else if (force !== true) {\n",
       "      var cell = $(document.getElementById(\"1001\")).parents('.cell').data().cell;\n",
       "      cell.output_area.append_execute_result(NB_LOAD_WARNING)\n",
       "    }\n",
       "\n",
       "  }\n",
       "\n",
       "  if (root._bokeh_is_loading === 0) {\n",
       "    console.debug(\"Bokeh: BokehJS loaded, going straight to plotting\");\n",
       "    run_inline_js();\n",
       "  } else {\n",
       "    load_libs(css_urls, js_urls, function() {\n",
       "      console.debug(\"Bokeh: BokehJS plotting callback run at\", now());\n",
       "      run_inline_js();\n",
       "    });\n",
       "  }\n",
       "}(window));"
      ],
      "application/vnd.bokehjs_load.v0+json": "\n(function(root) {\n  function now() {\n    return new Date();\n  }\n\n  var force = true;\n\n  if (typeof root._bokeh_onload_callbacks === \"undefined\" || force === true) {\n    root._bokeh_onload_callbacks = [];\n    root._bokeh_is_loading = undefined;\n  }\n\n  \n\n  \n  if (typeof (root._bokeh_timeout) === \"undefined\" || force === true) {\n    root._bokeh_timeout = Date.now() + 5000;\n    root._bokeh_failed_load = false;\n  }\n\n  var NB_LOAD_WARNING = {'data': {'text/html':\n     \"<div style='background-color: #fdd'>\\n\"+\n     \"<p>\\n\"+\n     \"BokehJS does not appear to have successfully loaded. If loading BokehJS from CDN, this \\n\"+\n     \"may be due to a slow or bad network connection. Possible fixes:\\n\"+\n     \"</p>\\n\"+\n     \"<ul>\\n\"+\n     \"<li>re-rerun `output_notebook()` to attempt to load from CDN again, or</li>\\n\"+\n     \"<li>use INLINE resources instead, as so:</li>\\n\"+\n     \"</ul>\\n\"+\n     \"<code>\\n\"+\n     \"from bokeh.resources import INLINE\\n\"+\n     \"output_notebook(resources=INLINE)\\n\"+\n     \"</code>\\n\"+\n     \"</div>\"}};\n\n  function display_loaded() {\n    var el = document.getElementById(\"1001\");\n    if (el != null) {\n      el.textContent = \"BokehJS is loading...\";\n    }\n    if (root.Bokeh !== undefined) {\n      if (el != null) {\n        el.textContent = \"BokehJS \" + root.Bokeh.version + \" successfully loaded.\";\n      }\n    } else if (Date.now() < root._bokeh_timeout) {\n      setTimeout(display_loaded, 100)\n    }\n  }\n\n\n  function run_callbacks() {\n    try {\n      root._bokeh_onload_callbacks.forEach(function(callback) {\n        if (callback != null)\n          callback();\n      });\n    } finally {\n      delete root._bokeh_onload_callbacks\n    }\n    console.debug(\"Bokeh: all callbacks have finished\");\n  }\n\n  function load_libs(css_urls, js_urls, callback) {\n    if (css_urls == null) css_urls = [];\n    if (js_urls == null) js_urls = [];\n\n    root._bokeh_onload_callbacks.push(callback);\n    if (root._bokeh_is_loading > 0) {\n      console.debug(\"Bokeh: BokehJS is being loaded, scheduling callback at\", now());\n      return null;\n    }\n    if (js_urls == null || js_urls.length === 0) {\n      run_callbacks();\n      return null;\n    }\n    console.debug(\"Bokeh: BokehJS not loaded, scheduling load and callback at\", now());\n    root._bokeh_is_loading = css_urls.length + js_urls.length;\n\n    function on_load() {\n      root._bokeh_is_loading--;\n      if (root._bokeh_is_loading === 0) {\n        console.debug(\"Bokeh: all BokehJS libraries/stylesheets loaded\");\n        run_callbacks()\n      }\n    }\n\n    function on_error() {\n      console.error(\"failed to load \" + url);\n    }\n\n    for (var i = 0; i < css_urls.length; i++) {\n      var url = css_urls[i];\n      const element = document.createElement(\"link\");\n      element.onload = on_load;\n      element.onerror = on_error;\n      element.rel = \"stylesheet\";\n      element.type = \"text/css\";\n      element.href = url;\n      console.debug(\"Bokeh: injecting link tag for BokehJS stylesheet: \", url);\n      document.body.appendChild(element);\n    }\n\n    for (var i = 0; i < js_urls.length; i++) {\n      var url = js_urls[i];\n      var element = document.createElement('script');\n      element.onload = on_load;\n      element.onerror = on_error;\n      element.async = false;\n      element.src = url;\n      console.debug(\"Bokeh: injecting script tag for BokehJS library: \", url);\n      document.head.appendChild(element);\n    }\n  };var element = document.getElementById(\"1001\");\n  if (element == null) {\n    console.error(\"Bokeh: ERROR: autoload.js configured with elementid '1001' but no matching script tag was found. \")\n    return false;\n  }\n\n  function inject_raw_css(css) {\n    const element = document.createElement(\"style\");\n    element.appendChild(document.createTextNode(css));\n    document.body.appendChild(element);\n  }\n\n  var js_urls = [\"https://cdn.pydata.org/bokeh/release/bokeh-1.3.4.min.js\", \"https://cdn.pydata.org/bokeh/release/bokeh-widgets-1.3.4.min.js\", \"https://cdn.pydata.org/bokeh/release/bokeh-tables-1.3.4.min.js\", \"https://cdn.pydata.org/bokeh/release/bokeh-gl-1.3.4.min.js\"];\n  var css_urls = [];\n\n  var inline_js = [\n    function(Bokeh) {\n      Bokeh.set_log_level(\"info\");\n    },\n    \n    function(Bokeh) {\n      \n    },\n    function(Bokeh) {} // ensure no trailing comma for IE\n  ];\n\n  function run_inline_js() {\n    \n    if ((root.Bokeh !== undefined) || (force === true)) {\n      for (var i = 0; i < inline_js.length; i++) {\n        inline_js[i].call(root, root.Bokeh);\n      }if (force === true) {\n        display_loaded();\n      }} else if (Date.now() < root._bokeh_timeout) {\n      setTimeout(run_inline_js, 100);\n    } else if (!root._bokeh_failed_load) {\n      console.log(\"Bokeh: BokehJS failed to load within specified timeout.\");\n      root._bokeh_failed_load = true;\n    } else if (force !== true) {\n      var cell = $(document.getElementById(\"1001\")).parents('.cell').data().cell;\n      cell.output_area.append_execute_result(NB_LOAD_WARNING)\n    }\n\n  }\n\n  if (root._bokeh_is_loading === 0) {\n    console.debug(\"Bokeh: BokehJS loaded, going straight to plotting\");\n    run_inline_js();\n  } else {\n    load_libs(css_urls, js_urls, function() {\n      console.debug(\"Bokeh: BokehJS plotting callback run at\", now());\n      run_inline_js();\n    });\n  }\n}(window));"
     },
     "metadata": {},
     "output_type": "display_data"
    }
   ],
   "source": [
    "pretties.max_data_frame_columns()\n",
    "pretties.decimal_notation()\n",
    "output_notebook()"
   ]
  },
  {
   "cell_type": "markdown",
   "metadata": {},
   "source": [
    "# <font color=\"darkred\">Relations</font>\n",
    "with target variable"
   ]
  },
  {
   "cell_type": "markdown",
   "metadata": {},
   "source": [
    "# walmart-recruiting-store-sales-forecasting\n",
    "https://www.kaggle.com/c/walmart-recruiting-store-sales-forecasting"
   ]
  },
  {
   "cell_type": "code",
   "execution_count": 4,
   "metadata": {
    "scrolled": false
   },
   "outputs": [],
   "source": [
    "train = dao.load_dataset(\"train\")\n",
    "train = train.groupby(\"store_dept\").apply(process.train_sales_semantic_enrichment)\n",
    "\n",
    "feat = dao.load_features()\n",
    "feat = process.features_semantic_enrichment(feat)\n",
    "\n",
    "stores = dao.load_stores()"
   ]
  },
  {
   "cell_type": "code",
   "execution_count": 5,
   "metadata": {},
   "outputs": [],
   "source": [
    "train = train.merge(feat, how=\"left\", left_on=[\"Store\", \"Date\"], right_on=[\"Store\", \"Date\"], suffixes=[\"\", \"_y\"])\n",
    "del train[\"IsHoliday_y\"]\n",
    "del train[\"timestamp_y\"]\n",
    "train = train.merge(stores, how=\"left\", left_on=[\"Store\"], right_on=[\"Store\"])"
   ]
  },
  {
   "cell_type": "code",
   "execution_count": 6,
   "metadata": {},
   "outputs": [],
   "source": [
    "cols = ['Date', 'Store', 'Dept', 'Weekly_Sales', 'pre_holiday', 'IsHoliday', 'pos_holiday', 'Fuel_Price', \n",
    "        'CPI', 'Unemployment', 'celsius', 'datetime', 'Type', 'sales_diff', 'sales_diff_p',\n",
    "        'MarkDown1', 'MarkDown2', 'MarkDown3', 'MarkDown4', 'MarkDown5', \n",
    "        'Size', 'Temperature', 'timestamp', 'store_dept', \"day_n\", \"week_n\", \"month_n\", \"wm_date\", \"up_diff\", \"celsius_diff\"]"
   ]
  },
  {
   "cell_type": "code",
   "execution_count": 7,
   "metadata": {},
   "outputs": [],
   "source": [
    "train = train[cols].sort_values(\"timestamp\")"
   ]
  },
  {
   "cell_type": "code",
   "execution_count": 8,
   "metadata": {},
   "outputs": [
    {
     "data": {
      "text/html": [
       "<div>\n",
       "<style scoped>\n",
       "    .dataframe tbody tr th:only-of-type {\n",
       "        vertical-align: middle;\n",
       "    }\n",
       "\n",
       "    .dataframe tbody tr th {\n",
       "        vertical-align: top;\n",
       "    }\n",
       "\n",
       "    .dataframe thead th {\n",
       "        text-align: right;\n",
       "    }\n",
       "</style>\n",
       "<table border=\"1\" class=\"dataframe\">\n",
       "  <thead>\n",
       "    <tr style=\"text-align: right;\">\n",
       "      <th></th>\n",
       "      <th>Date</th>\n",
       "      <th>Store</th>\n",
       "      <th>Dept</th>\n",
       "      <th>Weekly_Sales</th>\n",
       "      <th>pre_holiday</th>\n",
       "      <th>IsHoliday</th>\n",
       "      <th>pos_holiday</th>\n",
       "      <th>Fuel_Price</th>\n",
       "      <th>CPI</th>\n",
       "      <th>Unemployment</th>\n",
       "      <th>celsius</th>\n",
       "      <th>datetime</th>\n",
       "      <th>Type</th>\n",
       "      <th>sales_diff</th>\n",
       "      <th>sales_diff_p</th>\n",
       "      <th>MarkDown1</th>\n",
       "      <th>MarkDown2</th>\n",
       "      <th>MarkDown3</th>\n",
       "      <th>MarkDown4</th>\n",
       "      <th>MarkDown5</th>\n",
       "      <th>Size</th>\n",
       "      <th>Temperature</th>\n",
       "      <th>timestamp</th>\n",
       "      <th>store_dept</th>\n",
       "      <th>day_n</th>\n",
       "      <th>week_n</th>\n",
       "      <th>month_n</th>\n",
       "      <th>wm_date</th>\n",
       "      <th>up_diff</th>\n",
       "      <th>celsius_diff</th>\n",
       "    </tr>\n",
       "  </thead>\n",
       "  <tbody>\n",
       "    <tr>\n",
       "      <td>383614</td>\n",
       "      <td>2012-08-03</td>\n",
       "      <td>25</td>\n",
       "      <td>20</td>\n",
       "      <td>5219.76</td>\n",
       "      <td>False</td>\n",
       "      <td>False</td>\n",
       "      <td>False</td>\n",
       "      <td>3.65</td>\n",
       "      <td>214.74</td>\n",
       "      <td>7.28</td>\n",
       "      <td>22.27</td>\n",
       "      <td>2012-08-03</td>\n",
       "      <td>B</td>\n",
       "      <td>-96.82</td>\n",
       "      <td>-0.02</td>\n",
       "      <td>14653.91</td>\n",
       "      <td>1155.02</td>\n",
       "      <td>13.07</td>\n",
       "      <td>10978.83</td>\n",
       "      <td>2021.96</td>\n",
       "      <td>128107</td>\n",
       "      <td>72.08</td>\n",
       "      <td>1343962800.00</td>\n",
       "      <td>25_20</td>\n",
       "      <td>3</td>\n",
       "      <td>1</td>\n",
       "      <td>08</td>\n",
       "      <td>08/1</td>\n",
       "      <td>False</td>\n",
       "      <td>-0.50</td>\n",
       "    </tr>\n",
       "    <tr>\n",
       "      <td>189661</td>\n",
       "      <td>2011-04-29</td>\n",
       "      <td>32</td>\n",
       "      <td>41</td>\n",
       "      <td>2470.00</td>\n",
       "      <td>False</td>\n",
       "      <td>False</td>\n",
       "      <td>False</td>\n",
       "      <td>3.66</td>\n",
       "      <td>192.62</td>\n",
       "      <td>8.60</td>\n",
       "      <td>7.14</td>\n",
       "      <td>2011-04-29</td>\n",
       "      <td>A</td>\n",
       "      <td>-1127.96</td>\n",
       "      <td>-0.31</td>\n",
       "      <td>nan</td>\n",
       "      <td>nan</td>\n",
       "      <td>nan</td>\n",
       "      <td>nan</td>\n",
       "      <td>nan</td>\n",
       "      <td>203007</td>\n",
       "      <td>44.86</td>\n",
       "      <td>1304046000.00</td>\n",
       "      <td>32_41</td>\n",
       "      <td>29</td>\n",
       "      <td>5</td>\n",
       "      <td>04</td>\n",
       "      <td>04/5</td>\n",
       "      <td>False</td>\n",
       "      <td>-2.13</td>\n",
       "    </tr>\n",
       "    <tr>\n",
       "      <td>75680</td>\n",
       "      <td>2010-07-30</td>\n",
       "      <td>15</td>\n",
       "      <td>95</td>\n",
       "      <td>29489.10</td>\n",
       "      <td>False</td>\n",
       "      <td>False</td>\n",
       "      <td>False</td>\n",
       "      <td>2.93</td>\n",
       "      <td>132.60</td>\n",
       "      <td>8.10</td>\n",
       "      <td>22.24</td>\n",
       "      <td>2010-07-30</td>\n",
       "      <td>B</td>\n",
       "      <td>22.50</td>\n",
       "      <td>0.00</td>\n",
       "      <td>nan</td>\n",
       "      <td>nan</td>\n",
       "      <td>nan</td>\n",
       "      <td>nan</td>\n",
       "      <td>nan</td>\n",
       "      <td>123737</td>\n",
       "      <td>72.04</td>\n",
       "      <td>1280458800.00</td>\n",
       "      <td>15_95</td>\n",
       "      <td>30</td>\n",
       "      <td>5</td>\n",
       "      <td>07</td>\n",
       "      <td>07/5</td>\n",
       "      <td>True</td>\n",
       "      <td>-0.64</td>\n",
       "    </tr>\n",
       "    <tr>\n",
       "      <td>30575</td>\n",
       "      <td>2010-04-16</td>\n",
       "      <td>40</td>\n",
       "      <td>32</td>\n",
       "      <td>2784.94</td>\n",
       "      <td>False</td>\n",
       "      <td>False</td>\n",
       "      <td>False</td>\n",
       "      <td>2.88</td>\n",
       "      <td>131.98</td>\n",
       "      <td>5.43</td>\n",
       "      <td>6.28</td>\n",
       "      <td>2010-04-16</td>\n",
       "      <td>A</td>\n",
       "      <td>-1777.46</td>\n",
       "      <td>-0.39</td>\n",
       "      <td>nan</td>\n",
       "      <td>nan</td>\n",
       "      <td>nan</td>\n",
       "      <td>nan</td>\n",
       "      <td>nan</td>\n",
       "      <td>155083</td>\n",
       "      <td>43.30</td>\n",
       "      <td>1271386800.00</td>\n",
       "      <td>40_32</td>\n",
       "      <td>16</td>\n",
       "      <td>3</td>\n",
       "      <td>04</td>\n",
       "      <td>04/3</td>\n",
       "      <td>False</td>\n",
       "      <td>-6.12</td>\n",
       "    </tr>\n",
       "    <tr>\n",
       "      <td>76144</td>\n",
       "      <td>2010-07-30</td>\n",
       "      <td>34</td>\n",
       "      <td>94</td>\n",
       "      <td>35176.24</td>\n",
       "      <td>False</td>\n",
       "      <td>False</td>\n",
       "      <td>False</td>\n",
       "      <td>2.65</td>\n",
       "      <td>126.11</td>\n",
       "      <td>9.82</td>\n",
       "      <td>22.37</td>\n",
       "      <td>2010-07-30</td>\n",
       "      <td>A</td>\n",
       "      <td>-3012.52</td>\n",
       "      <td>-0.08</td>\n",
       "      <td>nan</td>\n",
       "      <td>nan</td>\n",
       "      <td>nan</td>\n",
       "      <td>nan</td>\n",
       "      <td>nan</td>\n",
       "      <td>158114</td>\n",
       "      <td>72.26</td>\n",
       "      <td>1280458800.00</td>\n",
       "      <td>34_94</td>\n",
       "      <td>30</td>\n",
       "      <td>5</td>\n",
       "      <td>07</td>\n",
       "      <td>07/5</td>\n",
       "      <td>False</td>\n",
       "      <td>-4.07</td>\n",
       "    </tr>\n",
       "    <tr>\n",
       "      <td>296575</td>\n",
       "      <td>2012-01-06</td>\n",
       "      <td>1</td>\n",
       "      <td>54</td>\n",
       "      <td>20.12</td>\n",
       "      <td>False</td>\n",
       "      <td>False</td>\n",
       "      <td>True</td>\n",
       "      <td>3.16</td>\n",
       "      <td>219.71</td>\n",
       "      <td>7.35</td>\n",
       "      <td>9.45</td>\n",
       "      <td>2012-01-06</td>\n",
       "      <td>A</td>\n",
       "      <td>-100.06</td>\n",
       "      <td>-0.83</td>\n",
       "      <td>6277.39</td>\n",
       "      <td>21813.16</td>\n",
       "      <td>143.10</td>\n",
       "      <td>1450.13</td>\n",
       "      <td>8483.00</td>\n",
       "      <td>151315</td>\n",
       "      <td>49.01</td>\n",
       "      <td>1325818800.00</td>\n",
       "      <td>1_54</td>\n",
       "      <td>6</td>\n",
       "      <td>1</td>\n",
       "      <td>01</td>\n",
       "      <td>01/1</td>\n",
       "      <td>False</td>\n",
       "      <td>2.48</td>\n",
       "    </tr>\n",
       "  </tbody>\n",
       "</table>\n",
       "</div>"
      ],
      "text/plain": [
       "              Date Store Dept  Weekly_Sales pre_holiday  IsHoliday  \\\n",
       "383614  2012-08-03    25   20       5219.76       False      False   \n",
       "189661  2011-04-29    32   41       2470.00       False      False   \n",
       "75680   2010-07-30    15   95      29489.10       False      False   \n",
       "30575   2010-04-16    40   32       2784.94       False      False   \n",
       "76144   2010-07-30    34   94      35176.24       False      False   \n",
       "296575  2012-01-06     1   54         20.12       False      False   \n",
       "\n",
       "       pos_holiday  Fuel_Price    CPI  Unemployment  celsius   datetime Type  \\\n",
       "383614       False        3.65 214.74          7.28    22.27 2012-08-03    B   \n",
       "189661       False        3.66 192.62          8.60     7.14 2011-04-29    A   \n",
       "75680        False        2.93 132.60          8.10    22.24 2010-07-30    B   \n",
       "30575        False        2.88 131.98          5.43     6.28 2010-04-16    A   \n",
       "76144        False        2.65 126.11          9.82    22.37 2010-07-30    A   \n",
       "296575        True        3.16 219.71          7.35     9.45 2012-01-06    A   \n",
       "\n",
       "        sales_diff  sales_diff_p  MarkDown1  MarkDown2  MarkDown3  MarkDown4  \\\n",
       "383614      -96.82         -0.02   14653.91    1155.02      13.07   10978.83   \n",
       "189661    -1127.96         -0.31        nan        nan        nan        nan   \n",
       "75680        22.50          0.00        nan        nan        nan        nan   \n",
       "30575     -1777.46         -0.39        nan        nan        nan        nan   \n",
       "76144     -3012.52         -0.08        nan        nan        nan        nan   \n",
       "296575     -100.06         -0.83    6277.39   21813.16     143.10    1450.13   \n",
       "\n",
       "        MarkDown5    Size  Temperature     timestamp store_dept  day_n  \\\n",
       "383614    2021.96  128107        72.08 1343962800.00      25_20      3   \n",
       "189661        nan  203007        44.86 1304046000.00      32_41     29   \n",
       "75680         nan  123737        72.04 1280458800.00      15_95     30   \n",
       "30575         nan  155083        43.30 1271386800.00      40_32     16   \n",
       "76144         nan  158114        72.26 1280458800.00      34_94     30   \n",
       "296575    8483.00  151315        49.01 1325818800.00       1_54      6   \n",
       "\n",
       "        week_n month_n wm_date  up_diff  celsius_diff  \n",
       "383614       1      08    08/1    False         -0.50  \n",
       "189661       5      04    04/5    False         -2.13  \n",
       "75680        5      07    07/5     True         -0.64  \n",
       "30575        3      04    04/3    False         -6.12  \n",
       "76144        5      07    07/5    False         -4.07  \n",
       "296575       1      01    01/1    False          2.48  "
      ]
     },
     "execution_count": 8,
     "metadata": {},
     "output_type": "execute_result"
    }
   ],
   "source": [
    "train.sample(6)"
   ]
  },
  {
   "cell_type": "markdown",
   "metadata": {},
   "source": [
    " "
   ]
  },
  {
   "cell_type": "markdown",
   "metadata": {},
   "source": [
    "# <font color=\"navy\">Date</font>"
   ]
  },
  {
   "cell_type": "code",
   "execution_count": 38,
   "metadata": {},
   "outputs": [
    {
     "data": {
      "text/plain": [
       "0         2010-02-05\n",
       "421569    2012-10-26\n",
       "Name: Date, dtype: object"
      ]
     },
     "execution_count": 38,
     "metadata": {},
     "output_type": "execute_result"
    }
   ],
   "source": [
    "train[\"Date\"].head(1).append(train[\"Date\"].tail(1))"
   ]
  },
  {
   "cell_type": "code",
   "execution_count": 41,
   "metadata": {},
   "outputs": [
    {
     "data": {
      "text/html": [
       "\n",
       "\n",
       "\n",
       "\n",
       "\n",
       "\n",
       "  <div class=\"bk-root\" id=\"7ced7412-d46e-4075-a8b6-ad4db4e059ed\" data-root-id=\"3534\"></div>\n"
      ]
     },
     "metadata": {},
     "output_type": "display_data"
    },
    {
     "data": {
      "application/javascript": [
       "(function(root) {\n",
       "  function embed_document(root) {\n",
       "    \n",
       "  var docs_json = {\"846a20a6-15a8-4ced-addb-364e76ae14de\":{\"roots\":{\"references\":[{\"attributes\":{\"below\":[{\"id\":\"3545\",\"type\":\"DatetimeAxis\"}],\"center\":[{\"id\":\"3549\",\"type\":\"Grid\"},{\"id\":\"3554\",\"type\":\"Grid\"},{\"id\":\"3590\",\"type\":\"Legend\"}],\"left\":[{\"id\":\"3550\",\"type\":\"LinearAxis\"}],\"plot_height\":300,\"plot_width\":900,\"renderers\":[{\"id\":\"3572\",\"type\":\"GlyphRenderer\"},{\"id\":\"3595\",\"type\":\"GlyphRenderer\"}],\"title\":{\"id\":\"3535\",\"type\":\"Title\"},\"toolbar\":{\"id\":\"3560\",\"type\":\"Toolbar\"},\"x_range\":{\"id\":\"3537\",\"type\":\"DataRange1d\"},\"x_scale\":{\"id\":\"3541\",\"type\":\"LinearScale\"},\"y_range\":{\"id\":\"3539\",\"type\":\"DataRange1d\"},\"y_scale\":{\"id\":\"3543\",\"type\":\"LinearScale\"}},\"id\":\"3534\",\"subtype\":\"Figure\",\"type\":\"Plot\"},{\"attributes\":{},\"id\":\"3551\",\"type\":\"BasicTicker\"},{\"attributes\":{},\"id\":\"3543\",\"type\":\"LinearScale\"},{\"attributes\":{\"months\":[0,1,2,3,4,5,6,7,8,9,10,11]},\"id\":\"3585\",\"type\":\"MonthsTicker\"},{\"attributes\":{\"callback\":null,\"data\":{\"Date\":{\"__ndarray__\":\"AADA0LZpckIAAACZ92tyQgAAQGE4bnJCAACAKXlwckIAAMDxuXJyQgAAALr6dHJCAABAgjt3ckIAAIBKfHlyQgAAwBK9e3JCAAAA2/19ckIAAECjPoByQgAAgGt/gnJCAADAM8CEckIAAAD8AIdyQgAAQMRBiXJCAACAjIKLckIAAMBUw41yQgAAAB0EkHJCAABA5USSckIAAICthZRyQgAAwHXGlnJCAAAAPgeZckIAAEAGSJtyQgAAgM6InXJCAADAlsmfckIAAABfCqJyQgAAQCdLpHJCAACA74umckIAAMC3zKhyQgAAAIANq3JCAABASE6tckIAAIAQj69yQgAAwNjPsXJCAAAAoRC0ckIAAEBpUbZyQgAAgDGSuHJCAADA+dK6ckIAAADCE71yQgAAQIpUv3JCAACAUpXBckIAAMAa1sNyQgAAAOMWxnJCAABAq1fIckIAAIBzmMpyQgAAwDvZzHJCAAAABBrPckIAAEDMWtFyQgAAgJSb03JCAADAXNzVckIAAAAlHdhyQgAAQO1d2nJCAACAtZ7cckIAAMB9395yQgAAAEYg4XJCAABADmHjckIAAIDWoeVyQgAAwJ7i53JCAAAAZyPqckIAAEAvZOxyQgAAgPek7nJCAADAv+XwckIAAACIJvNyQgAAQFBn9XJCAACAGKj3ckIAAMDg6PlyQgAAAKkp/HJCAABAcWr+ckIAAIA5qwBzQgAAwAHsAnNCAAAAyiwFc0IAAECSbQdzQgAAgFquCXNCAADAIu8Lc0IAAADrLw5zQgAAQLNwEHNCAACAe7ESc0IAAMBD8hRzQgAAAAwzF3NCAABA1HMZc0IAAICctBtzQgAAwGT1HXNCAAAALTYgc0IAAED1diJzQgAAgL23JHNCAADAhfgmc0IAAABOOSlzQgAAQBZ6K3NCAACA3rotc0IAAMCm+y9zQgAAAG88MnNCAABAN300c0IAAID/vTZzQgAAwMf+OHNCAAAAkD87c0IAAEBYgD1zQgAAgCDBP3NCAADA6AFCc0IAAACxQkRzQgAAQHmDRnNCAACAQcRIc0IAAMAJBUtzQgAAANJFTXNCAABAmoZPc0IAAIBix1FzQgAAwCoIVHNCAAAA80hWc0IAAEC7iVhzQgAAgIPKWnNCAADASwtdc0IAAAAUTF9zQgAAQNyMYXNCAACApM1jc0IAAMBsDmZzQgAAADVPaHNCAABA/Y9qc0IAAIDF0GxzQgAAwI0Rb3NCAAAAVlJxc0IAAEAek3NzQgAAgObTdXNCAADArhR4c0IAAAB3VXpzQgAAQD+WfHNCAACAB9d+c0IAAMDPF4FzQgAAAJhYg3NCAABAYJmFc0IAAIAo2odzQgAAwPAainNCAAAAuVuMc0IAAECBnI5zQgAAgEndkHNCAADAER6Tc0IAAADaXpVzQgAAQKKfl3NCAACAauCZc0IAAMAyIZxzQgAAAPthnnNCAABAw6Kgc0IAAICL46JzQgAAwFMkpXNCAAAAHGWnc0IAAEDkpalzQg==\",\"dtype\":\"float64\",\"shape\":[143]},\"Weekly_Sales\":{\"__ndarray__\":\"PQrXo7DgvkCQwvUojFbAQAAAAACgbcBAzczMzMxDvECamZmZ+SW+QMzMzMyMab1AmpmZmZnrvkB7FK5HIbG8QLgehetx6cBA7FG4HkVGv0CkcD0Kl1K9QBSuR+H63L1AZmZmZubYvEDhehSuh4nAQML1KFzvVr9AcT0K1yOnvkDNzMzMTDnAQHsUrkcBysBAexSuR+Gyv0B7FK5Hob+/QDMzMzNzg79A16NwPUq1v0Bcj8L1qLu+QAAAAACAlL5ApHA9CpeXvUD2KFyPwk2+QHE9CtfjlcBA16NwPZobwEC4HoXrEUXAQIXrUbjep79AUrgehQuEvkCF61G43uu8QBSuR+H6IrxAuB6F6zFdu0AK16NwvRy7QKRwPQrXP71AKVyPwjUMvEBI4XoUjjm8QD0K16MQ97xAPgrXozAGvkDC9Shcbxe+QArXo3C9H75A4noUrjcsxECamZmZWRm/QOxRuB7VEcJAAAAAAGC7xEA0MzMzIwTLQFyPwvUoPrlACtejcP3wuEApXI/CtUm3QD4K16NQ+7dAFK5H4fpTuEAK16NwHZC8QJqZmZl5v75Aw/UoXC+QwEAUrkfheke8QFyPwvUo0b1AKVyPwjXAu0DsUbgeRZq9QHA9CteDKLxA9ihcjwKIu0BxPQrXI968QM3MzMyMAL1ArkfhetTnv0Bcj8L1yA29QOxRuB4luL1AmpmZmZkWvUAK16NwvZa8QKRwPQqXp71A9ihcj4JCv0AAAAAAYOS+QLgehetRPb5AkML1KBxwvUAAAAAAAEq+QBSuR+H6pL1AKVyPwvVRvECF61G4/tC8QIXrUbjeKLxAuB6F6xHdvkAzMzMzc2a9QK5H4XqUrb1A9ihcj4K3vUAAAAAAAKK8QML1KFxvQ71AAAAAAOBTu0AK16Nw/WC7QKRwPQpXfbpASOF6FK40vUAzMzMzM767QML1KFyv3LxAZmZmZqbvvECuR+F69Om9QHE9CtdjdL1AUrgehevsvEDhehSuJ9DCQM3MzMxs6L1ApHA9CmcOwUAzMzMzMzbDQB+F61HYxshAj8L1KByKvUCF61G4Xrq5QJDC9SjcGrdAw/UoXE8CuECkcD0K15m2QGZmZmamy7pA16NwPQobvkDsUbgehVO/QI/C9ShcwLxAFK5H4RquvECuR+F69CK9QFK4HoWrSr5AMzMzMzM/vUCamZmZ2QS9QFK4HoULrcBAexSuRyFTvUApXI/Cdbi7QHA9CtdDJ7tA4XoUrsf2vEBSuB6Fa229QArXo3D9+L1AMzMzMzN5vkAK16NwPQy+QML1KFxvn75AUrgehWsPvkAK16NwvWa9QM3MzMzMTL1ApHA9ChdqvkDMzMzMTJa8QAAAAABg7bxAZmZmZmYcvEC4HoXrUUe9QAAAAACAhb1AFK5H4brQvUApXI/CNQi+QJDC9ShciL5AAAAAAOCrvUAAAAAAALO6QKRwPQoXYrtAhutRuB4tu0AehetR2D69QClcj8L1nLxAMzMzM7POvEAUrkfhOnu9QA==\",\"dtype\":\"float64\",\"shape\":[143]},\"index\":[0,1,2,3,4,5,6,7,8,9,10,11,12,13,14,15,16,17,18,19,20,21,22,23,24,25,26,27,28,29,30,31,32,33,34,35,36,37,38,39,40,41,42,43,44,45,46,47,48,49,50,51,52,53,54,55,56,57,58,59,60,61,62,63,64,65,66,67,68,69,70,71,72,73,74,75,76,77,78,79,80,81,82,83,84,85,86,87,88,89,90,91,92,93,94,95,96,97,98,99,100,101,102,103,104,105,106,107,108,109,110,111,112,113,114,115,116,117,118,119,120,121,122,123,124,125,126,127,128,129,130,131,132,133,134,135,136,137,138,139,140,141,142],\"week_color\":[\"#581845\",\"#900C3F\",\"#C70039\",\"#FF5733\",\"#581845\",\"#900C3F\",\"#C70039\",\"#FF5733\",\"#581845\",\"#900C3F\",\"#C70039\",\"#FF5733\",\"#FFC300\",\"#581845\",\"#900C3F\",\"#C70039\",\"#FF5733\",\"#581845\",\"#900C3F\",\"#C70039\",\"#FF5733\",\"#581845\",\"#900C3F\",\"#C70039\",\"#FF5733\",\"#FFC300\",\"#581845\",\"#900C3F\",\"#C70039\",\"#FF5733\",\"#581845\",\"#900C3F\",\"#C70039\",\"#FF5733\",\"#581845\",\"#900C3F\",\"#C70039\",\"#FF5733\",\"#FFC300\",\"#581845\",\"#900C3F\",\"#C70039\",\"#FF5733\",\"#581845\",\"#900C3F\",\"#C70039\",\"#FF5733\",\"#FFC300\",\"#581845\",\"#900C3F\",\"#C70039\",\"#FF5733\",\"#581845\",\"#900C3F\",\"#C70039\",\"#FF5733\",\"#581845\",\"#900C3F\",\"#C70039\",\"#FF5733\",\"#581845\",\"#900C3F\",\"#C70039\",\"#FF5733\",\"#FFC300\",\"#581845\",\"#900C3F\",\"#C70039\",\"#FF5733\",\"#581845\",\"#900C3F\",\"#C70039\",\"#FF5733\",\"#581845\",\"#900C3F\",\"#C70039\",\"#FF5733\",\"#FFC300\",\"#581845\",\"#900C3F\",\"#C70039\",\"#FF5733\",\"#581845\",\"#900C3F\",\"#C70039\",\"#FF5733\",\"#FFC300\",\"#581845\",\"#900C3F\",\"#C70039\",\"#FF5733\",\"#581845\",\"#900C3F\",\"#C70039\",\"#FF5733\",\"#581845\",\"#900C3F\",\"#C70039\",\"#FF5733\",\"#FFC300\",\"#581845\",\"#900C3F\",\"#C70039\",\"#FF5733\",\"#581845\",\"#900C3F\",\"#C70039\",\"#FF5733\",\"#581845\",\"#900C3F\",\"#C70039\",\"#FF5733\",\"#FFC300\",\"#581845\",\"#900C3F\",\"#C70039\",\"#FF5733\",\"#581845\",\"#900C3F\",\"#C70039\",\"#FF5733\",\"#581845\",\"#900C3F\",\"#C70039\",\"#FF5733\",\"#FFC300\",\"#581845\",\"#900C3F\",\"#C70039\",\"#FF5733\",\"#581845\",\"#900C3F\",\"#C70039\",\"#FF5733\",\"#FFC300\",\"#581845\",\"#900C3F\",\"#C70039\",\"#FF5733\",\"#581845\",\"#900C3F\",\"#C70039\",\"#FF5733\"],\"week_n\":[1,2,3,4,1,2,3,4,1,2,3,4,5,1,2,3,4,1,2,3,4,1,2,3,4,5,1,2,3,4,1,2,3,4,1,2,3,4,5,1,2,3,4,1,2,3,4,5,1,2,3,4,1,2,3,4,1,2,3,4,1,2,3,4,5,1,2,3,4,1,2,3,4,1,2,3,4,5,1,2,3,4,1,2,3,4,5,1,2,3,4,1,2,3,4,1,2,3,4,5,1,2,3,4,1,2,3,4,1,2,3,4,5,1,2,3,4,1,2,3,4,1,2,3,4,5,1,2,3,4,1,2,3,4,5,1,2,3,4,1,2,3,4]},\"selected\":{\"id\":\"3783\",\"type\":\"Selection\"},\"selection_policy\":{\"id\":\"3782\",\"type\":\"UnionRenderers\"}},\"id\":\"3568\",\"type\":\"ColumnDataSource\"},{\"attributes\":{},\"id\":\"3589\",\"type\":\"YearsTicker\"},{\"attributes\":{\"data_source\":{\"id\":\"3568\",\"type\":\"ColumnDataSource\"},\"glyph\":{\"id\":\"3570\",\"type\":\"Circle\"},\"hover_glyph\":null,\"muted_glyph\":null,\"nonselection_glyph\":{\"id\":\"3571\",\"type\":\"Circle\"},\"selection_glyph\":null,\"view\":{\"id\":\"3573\",\"type\":\"CDSView\"}},\"id\":\"3572\",\"type\":\"GlyphRenderer\"},{\"attributes\":{\"days\":[1,15]},\"id\":\"3584\",\"type\":\"DaysTicker\"},{\"attributes\":{\"data_source\":{\"id\":\"3568\",\"type\":\"ColumnDataSource\"},\"glyph\":{\"id\":\"3593\",\"type\":\"Line\"},\"hover_glyph\":null,\"muted_glyph\":null,\"nonselection_glyph\":{\"id\":\"3594\",\"type\":\"Line\"},\"selection_glyph\":null,\"view\":{\"id\":\"3596\",\"type\":\"CDSView\"}},\"id\":\"3595\",\"type\":\"GlyphRenderer\"},{\"attributes\":{\"mantissas\":[1,2,5],\"max_interval\":500.0,\"num_minor_ticks\":0},\"id\":\"3578\",\"type\":\"AdaptiveTicker\"},{\"attributes\":{\"source\":{\"id\":\"3568\",\"type\":\"ColumnDataSource\"}},\"id\":\"3596\",\"type\":\"CDSView\"},{\"attributes\":{\"formatter\":{\"id\":\"3577\",\"type\":\"BasicTickFormatter\"},\"ticker\":{\"id\":\"3551\",\"type\":\"BasicTicker\"}},\"id\":\"3550\",\"type\":\"LinearAxis\"},{\"attributes\":{\"days\":[\"%d/%b\"],\"hours\":[\"%H:%M %d/%b\"],\"months\":[\"%d/%b/%Y\"],\"years\":[\"%d/%b/%Y\"]},\"id\":\"3566\",\"type\":\"DatetimeTickFormatter\"},{\"attributes\":{},\"id\":\"3558\",\"type\":\"ResetTool\"},{\"attributes\":{\"num_minor_ticks\":5,\"tickers\":[{\"id\":\"3578\",\"type\":\"AdaptiveTicker\"},{\"id\":\"3579\",\"type\":\"AdaptiveTicker\"},{\"id\":\"3580\",\"type\":\"AdaptiveTicker\"},{\"id\":\"3581\",\"type\":\"DaysTicker\"},{\"id\":\"3582\",\"type\":\"DaysTicker\"},{\"id\":\"3583\",\"type\":\"DaysTicker\"},{\"id\":\"3584\",\"type\":\"DaysTicker\"},{\"id\":\"3585\",\"type\":\"MonthsTicker\"},{\"id\":\"3586\",\"type\":\"MonthsTicker\"},{\"id\":\"3587\",\"type\":\"MonthsTicker\"},{\"id\":\"3588\",\"type\":\"MonthsTicker\"},{\"id\":\"3589\",\"type\":\"YearsTicker\"}]},\"id\":\"3546\",\"type\":\"DatetimeTicker\"},{\"attributes\":{},\"id\":\"3577\",\"type\":\"BasicTickFormatter\"},{\"attributes\":{\"fill_alpha\":{\"value\":0.9},\"fill_color\":{\"field\":\"week_color\"},\"line_alpha\":{\"value\":0.9},\"line_color\":{\"field\":\"week_color\"},\"size\":{\"units\":\"screen\",\"value\":5},\"x\":{\"field\":\"Date\"},\"y\":{\"field\":\"Weekly_Sales\"}},\"id\":\"3570\",\"type\":\"Circle\"},{\"attributes\":{\"text\":\"Weekly_Sales vs Datetime\"},\"id\":\"3535\",\"type\":\"Title\"},{\"attributes\":{\"dimensions\":\"width\"},\"id\":\"3557\",\"type\":\"WheelZoomTool\"},{\"attributes\":{\"source\":{\"id\":\"3568\",\"type\":\"ColumnDataSource\"}},\"id\":\"3573\",\"type\":\"CDSView\"},{\"attributes\":{\"days\":[1,4,7,10,13,16,19,22,25,28]},\"id\":\"3582\",\"type\":\"DaysTicker\"},{\"attributes\":{},\"id\":\"3541\",\"type\":\"LinearScale\"},{\"attributes\":{\"months\":[0,6]},\"id\":\"3588\",\"type\":\"MonthsTicker\"},{\"attributes\":{},\"id\":\"3559\",\"type\":\"SaveTool\"},{\"attributes\":{},\"id\":\"3783\",\"type\":\"Selection\"},{\"attributes\":{\"dimension\":1,\"ticker\":{\"id\":\"3551\",\"type\":\"BasicTicker\"}},\"id\":\"3554\",\"type\":\"Grid\"},{\"attributes\":{},\"id\":\"3782\",\"type\":\"UnionRenderers\"},{\"attributes\":{\"line_alpha\":0.3,\"line_color\":\"gray\",\"x\":{\"field\":\"Date\"},\"y\":{\"field\":\"Weekly_Sales\"}},\"id\":\"3593\",\"type\":\"Line\"},{\"attributes\":{\"base\":60,\"mantissas\":[1,2,5,10,15,20,30],\"max_interval\":1800000.0,\"min_interval\":1000.0,\"num_minor_ticks\":0},\"id\":\"3579\",\"type\":\"AdaptiveTicker\"},{\"attributes\":{},\"id\":\"3555\",\"type\":\"PanTool\"},{\"attributes\":{\"base\":24,\"mantissas\":[1,2,4,6,8,12],\"max_interval\":43200000.0,\"min_interval\":3600000.0,\"num_minor_ticks\":0},\"id\":\"3580\",\"type\":\"AdaptiveTicker\"},{\"attributes\":{\"callback\":null},\"id\":\"3537\",\"type\":\"DataRange1d\"},{\"attributes\":{\"days\":[1,2,3,4,5,6,7,8,9,10,11,12,13,14,15,16,17,18,19,20,21,22,23,24,25,26,27,28,29,30,31]},\"id\":\"3581\",\"type\":\"DaysTicker\"},{\"attributes\":{\"months\":[0,4,8]},\"id\":\"3587\",\"type\":\"MonthsTicker\"},{\"attributes\":{\"formatter\":{\"id\":\"3566\",\"type\":\"DatetimeTickFormatter\"},\"ticker\":{\"id\":\"3546\",\"type\":\"DatetimeTicker\"}},\"id\":\"3545\",\"type\":\"DatetimeAxis\"},{\"attributes\":{\"active_drag\":\"auto\",\"active_inspect\":\"auto\",\"active_multi\":null,\"active_scroll\":\"auto\",\"active_tap\":\"auto\",\"tools\":[{\"id\":\"3555\",\"type\":\"PanTool\"},{\"id\":\"3556\",\"type\":\"WheelZoomTool\"},{\"id\":\"3557\",\"type\":\"WheelZoomTool\"},{\"id\":\"3558\",\"type\":\"ResetTool\"},{\"id\":\"3559\",\"type\":\"SaveTool\"}]},\"id\":\"3560\",\"type\":\"Toolbar\"},{\"attributes\":{\"ticker\":{\"id\":\"3546\",\"type\":\"DatetimeTicker\"}},\"id\":\"3549\",\"type\":\"Grid\"},{\"attributes\":{\"fill_alpha\":{\"value\":0.1},\"fill_color\":{\"value\":\"#1f77b4\"},\"line_alpha\":{\"value\":0.1},\"line_color\":{\"value\":\"#1f77b4\"},\"size\":{\"units\":\"screen\",\"value\":5},\"x\":{\"field\":\"Date\"},\"y\":{\"field\":\"Weekly_Sales\"}},\"id\":\"3571\",\"type\":\"Circle\"},{\"attributes\":{\"dimensions\":\"height\"},\"id\":\"3556\",\"type\":\"WheelZoomTool\"},{\"attributes\":{\"months\":[0,2,4,6,8,10]},\"id\":\"3586\",\"type\":\"MonthsTicker\"},{\"attributes\":{\"label\":{\"field\":\"week_n\"},\"renderers\":[{\"id\":\"3572\",\"type\":\"GlyphRenderer\"}]},\"id\":\"3591\",\"type\":\"LegendItem\"},{\"attributes\":{\"days\":[1,8,15,22]},\"id\":\"3583\",\"type\":\"DaysTicker\"},{\"attributes\":{\"items\":[{\"id\":\"3591\",\"type\":\"LegendItem\"}]},\"id\":\"3590\",\"type\":\"Legend\"},{\"attributes\":{\"line_alpha\":0.1,\"line_color\":\"#1f77b4\",\"x\":{\"field\":\"Date\"},\"y\":{\"field\":\"Weekly_Sales\"}},\"id\":\"3594\",\"type\":\"Line\"},{\"attributes\":{\"callback\":null},\"id\":\"3539\",\"type\":\"DataRange1d\"}],\"root_ids\":[\"3534\"]},\"title\":\"Bokeh Application\",\"version\":\"1.3.4\"}};\n",
       "  var render_items = [{\"docid\":\"846a20a6-15a8-4ced-addb-364e76ae14de\",\"roots\":{\"3534\":\"7ced7412-d46e-4075-a8b6-ad4db4e059ed\"}}];\n",
       "  root.Bokeh.embed.embed_items_notebook(docs_json, render_items);\n",
       "\n",
       "  }\n",
       "  if (root.Bokeh !== undefined) {\n",
       "    embed_document(root);\n",
       "  } else {\n",
       "    var attempts = 0;\n",
       "    var timer = setInterval(function(root) {\n",
       "      if (root.Bokeh !== undefined) {\n",
       "        embed_document(root);\n",
       "        clearInterval(timer);\n",
       "      }\n",
       "      attempts++;\n",
       "      if (attempts > 100) {\n",
       "        console.log(\"Bokeh: ERROR: Unable to run BokehJS code because BokehJS library is missing\");\n",
       "        clearInterval(timer);\n",
       "      }\n",
       "    }, 10, root)\n",
       "  }\n",
       "})(window);"
      ],
      "application/vnd.bokehjs_exec.v0+json": ""
     },
     "metadata": {
      "application/vnd.bokehjs_exec.v0+json": {
       "id": "3534"
      }
     },
     "output_type": "display_data"
    }
   ],
   "source": [
    "p = plot.time_series_count_painted(train, title=\"Weekly_Sales vs Datetime\", height=300, width=900)\n",
    "show(p)"
   ]
  },
  {
   "cell_type": "code",
   "execution_count": null,
   "metadata": {},
   "outputs": [],
   "source": []
  },
  {
   "cell_type": "code",
   "execution_count": 11,
   "metadata": {},
   "outputs": [
    {
     "data": {
      "text/html": [
       "\n",
       "\n",
       "\n",
       "\n",
       "\n",
       "\n",
       "  <div class=\"bk-root\" id=\"1e1b68e5-7449-4f29-a429-cb128fb0ff34\" data-root-id=\"1191\"></div>\n"
      ]
     },
     "metadata": {},
     "output_type": "display_data"
    },
    {
     "data": {
      "application/javascript": [
       "(function(root) {\n",
       "  function embed_document(root) {\n",
       "    \n",
       "  var docs_json = {\"84e5426e-befa-42bd-8c02-d8ce4fc625d1\":{\"roots\":{\"references\":[{\"attributes\":{\"below\":[{\"id\":\"1202\",\"type\":\"DatetimeAxis\"}],\"center\":[{\"id\":\"1206\",\"type\":\"Grid\"},{\"id\":\"1211\",\"type\":\"Grid\"}],\"left\":[{\"id\":\"1207\",\"type\":\"LinearAxis\"}],\"plot_height\":200,\"plot_width\":900,\"renderers\":[{\"id\":\"1228\",\"type\":\"GlyphRenderer\"},{\"id\":\"1233\",\"type\":\"GlyphRenderer\"}],\"title\":{\"id\":\"1192\",\"type\":\"Title\"},\"toolbar\":{\"id\":\"1217\",\"type\":\"Toolbar\"},\"x_range\":{\"id\":\"1194\",\"type\":\"DataRange1d\"},\"x_scale\":{\"id\":\"1198\",\"type\":\"LinearScale\"},\"y_range\":{\"id\":\"1196\",\"type\":\"DataRange1d\"},\"y_scale\":{\"id\":\"1200\",\"type\":\"LinearScale\"}},\"id\":\"1191\",\"subtype\":\"Figure\",\"type\":\"Plot\"},{\"attributes\":{},\"id\":\"1198\",\"type\":\"LinearScale\"},{\"attributes\":{\"dimensions\":\"width\"},\"id\":\"1214\",\"type\":\"WheelZoomTool\"},{\"attributes\":{\"months\":[0,2,4,6,8,10]},\"id\":\"1265\",\"type\":\"MonthsTicker\"},{\"attributes\":{\"months\":[0,6]},\"id\":\"1267\",\"type\":\"MonthsTicker\"},{\"attributes\":{\"line_alpha\":0.8,\"line_color\":\"navy\",\"x\":{\"field\":\"x\"},\"y\":{\"field\":\"y\"}},\"id\":\"1231\",\"type\":\"Line\"},{\"attributes\":{\"callback\":null,\"data\":{\"x\":{\"__ndarray__\":\"AADA0LZpckIAAACZ92tyQgAAQGE4bnJCAACAKXlwckIAAMDxuXJyQgAAALr6dHJCAABAgjt3ckIAAIBKfHlyQgAAwBK9e3JCAAAA2/19ckIAAECjPoByQgAAgGt/gnJCAADAM8CEckIAAAD8AIdyQgAAQMRBiXJCAACAjIKLckIAAMBUw41yQgAAAB0EkHJCAABA5USSckIAAICthZRyQgAAwHXGlnJCAAAAPgeZckIAAEAGSJtyQgAAgM6InXJCAADAlsmfckIAAABfCqJyQgAAQCdLpHJCAACA74umckIAAMC3zKhyQgAAAIANq3JCAABASE6tckIAAIAQj69yQgAAwNjPsXJCAAAAoRC0ckIAAEBpUbZyQgAAgDGSuHJCAADA+dK6ckIAAADCE71yQgAAQIpUv3JCAACAUpXBckIAAMAa1sNyQgAAAOMWxnJCAABAq1fIckIAAIBzmMpyQgAAwDvZzHJCAAAABBrPckIAAEDMWtFyQgAAgJSb03JCAADAXNzVckIAAAAlHdhyQgAAQO1d2nJCAACAtZ7cckIAAMB9395yQgAAAEYg4XJCAABADmHjckIAAIDWoeVyQgAAwJ7i53JCAAAAZyPqckIAAEAvZOxyQgAAgPek7nJCAADAv+XwckIAAACIJvNyQgAAQFBn9XJCAACAGKj3ckIAAMDg6PlyQgAAAKkp/HJCAABAcWr+ckIAAIA5qwBzQgAAwAHsAnNCAAAAyiwFc0IAAECSbQdzQgAAgFquCXNCAADAIu8Lc0IAAADrLw5zQgAAQLNwEHNCAACAe7ESc0IAAMBD8hRzQgAAAAwzF3NCAABA1HMZc0IAAICctBtzQgAAwGT1HXNCAAAALTYgc0IAAED1diJzQgAAgL23JHNCAADAhfgmc0IAAABOOSlzQgAAQBZ6K3NCAACA3rotc0IAAMCm+y9zQgAAAG88MnNCAABAN300c0IAAID/vTZzQgAAwMf+OHNCAAAAkD87c0IAAEBYgD1zQgAAgCDBP3NCAADA6AFCc0IAAACxQkRzQgAAQHmDRnNCAACAQcRIc0IAAMAJBUtzQgAAANJFTXNCAABAmoZPc0IAAIBix1FzQgAAwCoIVHNCAAAA80hWc0IAAEC7iVhzQgAAgIPKWnNCAADASwtdc0IAAAAUTF9zQgAAQNyMYXNCAACApM1jc0IAAMBsDmZzQgAAADVPaHNCAABA/Y9qc0IAAIDF0GxzQgAAwI0Rb3NCAAAAVlJxc0IAAEAek3NzQgAAgObTdXNCAADArhR4c0IAAAB3VXpzQgAAQD+WfHNCAACAB9d+c0IAAMDPF4FzQgAAAJhYg3NCAABAYJmFc0IAAIAo2odzQgAAwPAainNCAAAAuVuMc0IAAECBnI5zQgAAgEndkHNCAADAER6Tc0IAAADaXpVzQgAAQKKfl3NCAACAauCZc0IAAMAyIZxzQgAAAPthnnNCAABAw6Kgc0IAAICL46JzQgAAwFMkpXNCAAAAHGWnc0IAAEDkpalzQg==\",\"dtype\":\"float64\",\"shape\":[143]},\"y\":{\"__ndarray__\":\"PQrXo7DgvkCQwvUojFbAQAAAAACgbcBAzczMzMxDvECamZmZ+SW+QMzMzMyMab1AmpmZmZnrvkB7FK5HIbG8QLgehetx6cBA7FG4HkVGv0CkcD0Kl1K9QBSuR+H63L1AZmZmZubYvEDhehSuh4nAQML1KFzvVr9AcT0K1yOnvkDNzMzMTDnAQHsUrkcBysBAexSuR+Gyv0B7FK5Hob+/QDMzMzNzg79A16NwPUq1v0Bcj8L1qLu+QAAAAACAlL5ApHA9CpeXvUD2KFyPwk2+QHE9CtfjlcBA16NwPZobwEC4HoXrEUXAQIXrUbjep79AUrgehQuEvkCF61G43uu8QBSuR+H6IrxAuB6F6zFdu0AK16NwvRy7QKRwPQrXP71AKVyPwjUMvEBI4XoUjjm8QD0K16MQ97xAPgrXozAGvkDC9Shcbxe+QArXo3C9H75A4noUrjcsxECamZmZWRm/QOxRuB7VEcJAAAAAAGC7xEA0MzMzIwTLQFyPwvUoPrlACtejcP3wuEApXI/CtUm3QD4K16NQ+7dAFK5H4fpTuEAK16NwHZC8QJqZmZl5v75Aw/UoXC+QwEAUrkfheke8QFyPwvUo0b1AKVyPwjXAu0DsUbgeRZq9QHA9CteDKLxA9ihcjwKIu0BxPQrXI968QM3MzMyMAL1ArkfhetTnv0Bcj8L1yA29QOxRuB4luL1AmpmZmZkWvUAK16NwvZa8QKRwPQqXp71A9ihcj4JCv0AAAAAAYOS+QLgehetRPb5AkML1KBxwvUAAAAAAAEq+QBSuR+H6pL1AKVyPwvVRvECF61G4/tC8QIXrUbjeKLxAuB6F6xHdvkAzMzMzc2a9QK5H4XqUrb1A9ihcj4K3vUAAAAAAAKK8QML1KFxvQ71AAAAAAOBTu0AK16Nw/WC7QKRwPQpXfbpASOF6FK40vUAzMzMzM767QML1KFyv3LxAZmZmZqbvvECuR+F69Om9QHE9CtdjdL1AUrgehevsvEDhehSuJ9DCQM3MzMxs6L1ApHA9CmcOwUAzMzMzMzbDQB+F61HYxshAj8L1KByKvUCF61G4Xrq5QJDC9SjcGrdAw/UoXE8CuECkcD0K15m2QGZmZmamy7pA16NwPQobvkDsUbgehVO/QI/C9ShcwLxAFK5H4RquvECuR+F69CK9QFK4HoWrSr5AMzMzMzM/vUCamZmZ2QS9QFK4HoULrcBAexSuRyFTvUApXI/Cdbi7QHA9CtdDJ7tA4XoUrsf2vEBSuB6Fa229QArXo3D9+L1AMzMzMzN5vkAK16NwPQy+QML1KFxvn75AUrgehWsPvkAK16NwvWa9QM3MzMzMTL1ApHA9ChdqvkDMzMzMTJa8QAAAAABg7bxAZmZmZmYcvEC4HoXrUUe9QAAAAACAhb1AFK5H4brQvUApXI/CNQi+QJDC9ShciL5AAAAAAOCrvUAAAAAAALO6QKRwPQoXYrtAhutRuB4tu0AehetR2D69QClcj8L1nLxAMzMzM7POvEAUrkfhOnu9QA==\",\"dtype\":\"float64\",\"shape\":[143]}},\"selected\":{\"id\":\"1272\",\"type\":\"Selection\"},\"selection_policy\":{\"id\":\"1271\",\"type\":\"UnionRenderers\"}},\"id\":\"1230\",\"type\":\"ColumnDataSource\"},{\"attributes\":{\"line_alpha\":0.1,\"line_color\":\"#1f77b4\",\"x\":{\"field\":\"x\"},\"y\":{\"field\":\"y\"}},\"id\":\"1232\",\"type\":\"Line\"},{\"attributes\":{},\"id\":\"1269\",\"type\":\"UnionRenderers\"},{\"attributes\":{\"source\":{\"id\":\"1225\",\"type\":\"ColumnDataSource\"}},\"id\":\"1229\",\"type\":\"CDSView\"},{\"attributes\":{\"days\":[1,8,15,22]},\"id\":\"1262\",\"type\":\"DaysTicker\"},{\"attributes\":{\"days\":[1,15]},\"id\":\"1263\",\"type\":\"DaysTicker\"},{\"attributes\":{},\"id\":\"1272\",\"type\":\"Selection\"},{\"attributes\":{\"data_source\":{\"id\":\"1230\",\"type\":\"ColumnDataSource\"},\"glyph\":{\"id\":\"1231\",\"type\":\"Line\"},\"hover_glyph\":null,\"muted_glyph\":null,\"nonselection_glyph\":{\"id\":\"1232\",\"type\":\"Line\"},\"selection_glyph\":null,\"view\":{\"id\":\"1234\",\"type\":\"CDSView\"}},\"id\":\"1233\",\"type\":\"GlyphRenderer\"},{\"attributes\":{\"days\":[1,2,3,4,5,6,7,8,9,10,11,12,13,14,15,16,17,18,19,20,21,22,23,24,25,26,27,28,29,30,31]},\"id\":\"1260\",\"type\":\"DaysTicker\"},{\"attributes\":{},\"id\":\"1216\",\"type\":\"SaveTool\"},{\"attributes\":{\"dimensions\":\"height\"},\"id\":\"1213\",\"type\":\"WheelZoomTool\"},{\"attributes\":{\"callback\":null,\"data\":{\"x\":{\"__ndarray__\":\"AADA0LZpckIAAACZ92tyQgAAQGE4bnJCAACAKXlwckIAAMDxuXJyQgAAALr6dHJCAABAgjt3ckIAAIBKfHlyQgAAwBK9e3JCAAAA2/19ckIAAECjPoByQgAAgGt/gnJCAADAM8CEckIAAAD8AIdyQgAAQMRBiXJCAACAjIKLckIAAMBUw41yQgAAAB0EkHJCAABA5USSckIAAICthZRyQgAAwHXGlnJCAAAAPgeZckIAAEAGSJtyQgAAgM6InXJCAADAlsmfckIAAABfCqJyQgAAQCdLpHJCAACA74umckIAAMC3zKhyQgAAAIANq3JCAABASE6tckIAAIAQj69yQgAAwNjPsXJCAAAAoRC0ckIAAEBpUbZyQgAAgDGSuHJCAADA+dK6ckIAAADCE71yQgAAQIpUv3JCAACAUpXBckIAAMAa1sNyQgAAAOMWxnJCAABAq1fIckIAAIBzmMpyQgAAwDvZzHJCAAAABBrPckIAAEDMWtFyQgAAgJSb03JCAADAXNzVckIAAAAlHdhyQgAAQO1d2nJCAACAtZ7cckIAAMB9395yQgAAAEYg4XJCAABADmHjckIAAIDWoeVyQgAAwJ7i53JCAAAAZyPqckIAAEAvZOxyQgAAgPek7nJCAADAv+XwckIAAACIJvNyQgAAQFBn9XJCAACAGKj3ckIAAMDg6PlyQgAAAKkp/HJCAABAcWr+ckIAAIA5qwBzQgAAwAHsAnNCAAAAyiwFc0IAAECSbQdzQgAAgFquCXNCAADAIu8Lc0IAAADrLw5zQgAAQLNwEHNCAACAe7ESc0IAAMBD8hRzQgAAAAwzF3NCAABA1HMZc0IAAICctBtzQgAAwGT1HXNCAAAALTYgc0IAAED1diJzQgAAgL23JHNCAADAhfgmc0IAAABOOSlzQgAAQBZ6K3NCAACA3rotc0IAAMCm+y9zQgAAAG88MnNCAABAN300c0IAAID/vTZzQgAAwMf+OHNCAAAAkD87c0IAAEBYgD1zQgAAgCDBP3NCAADA6AFCc0IAAACxQkRzQgAAQHmDRnNCAACAQcRIc0IAAMAJBUtzQgAAANJFTXNCAABAmoZPc0IAAIBix1FzQgAAwCoIVHNCAAAA80hWc0IAAEC7iVhzQgAAgIPKWnNCAADASwtdc0IAAAAUTF9zQgAAQNyMYXNCAACApM1jc0IAAMBsDmZzQgAAADVPaHNCAABA/Y9qc0IAAIDF0GxzQgAAwI0Rb3NCAAAAVlJxc0IAAEAek3NzQgAAgObTdXNCAADArhR4c0IAAAB3VXpzQgAAQD+WfHNCAACAB9d+c0IAAMDPF4FzQgAAAJhYg3NCAABAYJmFc0IAAIAo2odzQgAAwPAainNCAAAAuVuMc0IAAECBnI5zQgAAgEndkHNCAADAER6Tc0IAAADaXpVzQgAAQKKfl3NCAACAauCZc0IAAMAyIZxzQgAAAPthnnNCAABAw6Kgc0IAAICL46JzQgAAwFMkpXNCAAAAHGWnc0IAAEDkpalzQg==\",\"dtype\":\"float64\",\"shape\":[143]},\"y\":{\"__ndarray__\":\"PQrXo7DgvkCQwvUojFbAQAAAAACgbcBAzczMzMxDvECamZmZ+SW+QMzMzMyMab1AmpmZmZnrvkB7FK5HIbG8QLgehetx6cBA7FG4HkVGv0CkcD0Kl1K9QBSuR+H63L1AZmZmZubYvEDhehSuh4nAQML1KFzvVr9AcT0K1yOnvkDNzMzMTDnAQHsUrkcBysBAexSuR+Gyv0B7FK5Hob+/QDMzMzNzg79A16NwPUq1v0Bcj8L1qLu+QAAAAACAlL5ApHA9CpeXvUD2KFyPwk2+QHE9CtfjlcBA16NwPZobwEC4HoXrEUXAQIXrUbjep79AUrgehQuEvkCF61G43uu8QBSuR+H6IrxAuB6F6zFdu0AK16NwvRy7QKRwPQrXP71AKVyPwjUMvEBI4XoUjjm8QD0K16MQ97xAPgrXozAGvkDC9Shcbxe+QArXo3C9H75A4noUrjcsxECamZmZWRm/QOxRuB7VEcJAAAAAAGC7xEA0MzMzIwTLQFyPwvUoPrlACtejcP3wuEApXI/CtUm3QD4K16NQ+7dAFK5H4fpTuEAK16NwHZC8QJqZmZl5v75Aw/UoXC+QwEAUrkfheke8QFyPwvUo0b1AKVyPwjXAu0DsUbgeRZq9QHA9CteDKLxA9ihcjwKIu0BxPQrXI968QM3MzMyMAL1ArkfhetTnv0Bcj8L1yA29QOxRuB4luL1AmpmZmZkWvUAK16NwvZa8QKRwPQqXp71A9ihcj4JCv0AAAAAAYOS+QLgehetRPb5AkML1KBxwvUAAAAAAAEq+QBSuR+H6pL1AKVyPwvVRvECF61G4/tC8QIXrUbjeKLxAuB6F6xHdvkAzMzMzc2a9QK5H4XqUrb1A9ihcj4K3vUAAAAAAAKK8QML1KFxvQ71AAAAAAOBTu0AK16Nw/WC7QKRwPQpXfbpASOF6FK40vUAzMzMzM767QML1KFyv3LxAZmZmZqbvvECuR+F69Om9QHE9CtdjdL1AUrgehevsvEDhehSuJ9DCQM3MzMxs6L1ApHA9CmcOwUAzMzMzMzbDQB+F61HYxshAj8L1KByKvUCF61G4Xrq5QJDC9SjcGrdAw/UoXE8CuECkcD0K15m2QGZmZmamy7pA16NwPQobvkDsUbgehVO/QI/C9ShcwLxAFK5H4RquvECuR+F69CK9QFK4HoWrSr5AMzMzMzM/vUCamZmZ2QS9QFK4HoULrcBAexSuRyFTvUApXI/Cdbi7QHA9CtdDJ7tA4XoUrsf2vEBSuB6Fa229QArXo3D9+L1AMzMzMzN5vkAK16NwPQy+QML1KFxvn75AUrgehWsPvkAK16NwvWa9QM3MzMzMTL1ApHA9ChdqvkDMzMzMTJa8QAAAAABg7bxAZmZmZmYcvEC4HoXrUUe9QAAAAACAhb1AFK5H4brQvUApXI/CNQi+QJDC9ShciL5AAAAAAOCrvUAAAAAAALO6QKRwPQoXYrtAhutRuB4tu0AehetR2D69QClcj8L1nLxAMzMzM7POvEAUrkfhOnu9QA==\",\"dtype\":\"float64\",\"shape\":[143]}},\"selected\":{\"id\":\"1270\",\"type\":\"Selection\"},\"selection_policy\":{\"id\":\"1269\",\"type\":\"UnionRenderers\"}},\"id\":\"1225\",\"type\":\"ColumnDataSource\"},{\"attributes\":{\"base\":60,\"mantissas\":[1,2,5,10,15,20,30],\"max_interval\":1800000.0,\"min_interval\":1000.0,\"num_minor_ticks\":0},\"id\":\"1258\",\"type\":\"AdaptiveTicker\"},{\"attributes\":{\"base\":24,\"mantissas\":[1,2,4,6,8,12],\"max_interval\":43200000.0,\"min_interval\":3600000.0,\"num_minor_ticks\":0},\"id\":\"1259\",\"type\":\"AdaptiveTicker\"},{\"attributes\":{\"callback\":null},\"id\":\"1194\",\"type\":\"DataRange1d\"},{\"attributes\":{\"formatter\":{\"id\":\"1256\",\"type\":\"BasicTickFormatter\"},\"ticker\":{\"id\":\"1208\",\"type\":\"BasicTicker\"}},\"id\":\"1207\",\"type\":\"LinearAxis\"},{\"attributes\":{\"source\":{\"id\":\"1230\",\"type\":\"ColumnDataSource\"}},\"id\":\"1234\",\"type\":\"CDSView\"},{\"attributes\":{\"months\":[0,1,2,3,4,5,6,7,8,9,10,11]},\"id\":\"1264\",\"type\":\"MonthsTicker\"},{\"attributes\":{\"fill_alpha\":{\"value\":0.1},\"fill_color\":{\"value\":\"#1f77b4\"},\"line_alpha\":{\"value\":0.1},\"line_color\":{\"value\":\"#1f77b4\"},\"size\":{\"units\":\"screen\",\"value\":3},\"x\":{\"field\":\"x\"},\"y\":{\"field\":\"y\"}},\"id\":\"1227\",\"type\":\"Circle\"},{\"attributes\":{\"days\":[\"%d/%b\"],\"hours\":[\"%H:%M %d/%b\"],\"months\":[\"%d/%b/%Y\"],\"years\":[\"%d/%b/%Y\"]},\"id\":\"1223\",\"type\":\"DatetimeTickFormatter\"},{\"attributes\":{},\"id\":\"1256\",\"type\":\"BasicTickFormatter\"},{\"attributes\":{\"days\":[1,4,7,10,13,16,19,22,25,28]},\"id\":\"1261\",\"type\":\"DaysTicker\"},{\"attributes\":{\"ticker\":{\"id\":\"1203\",\"type\":\"DatetimeTicker\"}},\"id\":\"1206\",\"type\":\"Grid\"},{\"attributes\":{},\"id\":\"1215\",\"type\":\"ResetTool\"},{\"attributes\":{\"text\":\"Weekly_Sales vs Datetime\"},\"id\":\"1192\",\"type\":\"Title\"},{\"attributes\":{},\"id\":\"1208\",\"type\":\"BasicTicker\"},{\"attributes\":{\"months\":[0,4,8]},\"id\":\"1266\",\"type\":\"MonthsTicker\"},{\"attributes\":{\"num_minor_ticks\":5,\"tickers\":[{\"id\":\"1257\",\"type\":\"AdaptiveTicker\"},{\"id\":\"1258\",\"type\":\"AdaptiveTicker\"},{\"id\":\"1259\",\"type\":\"AdaptiveTicker\"},{\"id\":\"1260\",\"type\":\"DaysTicker\"},{\"id\":\"1261\",\"type\":\"DaysTicker\"},{\"id\":\"1262\",\"type\":\"DaysTicker\"},{\"id\":\"1263\",\"type\":\"DaysTicker\"},{\"id\":\"1264\",\"type\":\"MonthsTicker\"},{\"id\":\"1265\",\"type\":\"MonthsTicker\"},{\"id\":\"1266\",\"type\":\"MonthsTicker\"},{\"id\":\"1267\",\"type\":\"MonthsTicker\"},{\"id\":\"1268\",\"type\":\"YearsTicker\"}]},\"id\":\"1203\",\"type\":\"DatetimeTicker\"},{\"attributes\":{},\"id\":\"1212\",\"type\":\"PanTool\"},{\"attributes\":{\"active_drag\":\"auto\",\"active_inspect\":\"auto\",\"active_multi\":null,\"active_scroll\":\"auto\",\"active_tap\":\"auto\",\"tools\":[{\"id\":\"1212\",\"type\":\"PanTool\"},{\"id\":\"1213\",\"type\":\"WheelZoomTool\"},{\"id\":\"1214\",\"type\":\"WheelZoomTool\"},{\"id\":\"1215\",\"type\":\"ResetTool\"},{\"id\":\"1216\",\"type\":\"SaveTool\"}]},\"id\":\"1217\",\"type\":\"Toolbar\"},{\"attributes\":{\"dimension\":1,\"ticker\":{\"id\":\"1208\",\"type\":\"BasicTicker\"}},\"id\":\"1211\",\"type\":\"Grid\"},{\"attributes\":{},\"id\":\"1200\",\"type\":\"LinearScale\"},{\"attributes\":{\"fill_alpha\":{\"value\":0.8},\"fill_color\":{\"value\":\"navy\"},\"line_alpha\":{\"value\":0.8},\"line_color\":{\"value\":\"navy\"},\"size\":{\"units\":\"screen\",\"value\":3},\"x\":{\"field\":\"x\"},\"y\":{\"field\":\"y\"}},\"id\":\"1226\",\"type\":\"Circle\"},{\"attributes\":{\"formatter\":{\"id\":\"1223\",\"type\":\"DatetimeTickFormatter\"},\"ticker\":{\"id\":\"1203\",\"type\":\"DatetimeTicker\"}},\"id\":\"1202\",\"type\":\"DatetimeAxis\"},{\"attributes\":{\"data_source\":{\"id\":\"1225\",\"type\":\"ColumnDataSource\"},\"glyph\":{\"id\":\"1226\",\"type\":\"Circle\"},\"hover_glyph\":null,\"muted_glyph\":null,\"nonselection_glyph\":{\"id\":\"1227\",\"type\":\"Circle\"},\"selection_glyph\":null,\"view\":{\"id\":\"1229\",\"type\":\"CDSView\"}},\"id\":\"1228\",\"type\":\"GlyphRenderer\"},{\"attributes\":{},\"id\":\"1271\",\"type\":\"UnionRenderers\"},{\"attributes\":{\"callback\":null},\"id\":\"1196\",\"type\":\"DataRange1d\"},{\"attributes\":{},\"id\":\"1268\",\"type\":\"YearsTicker\"},{\"attributes\":{\"mantissas\":[1,2,5],\"max_interval\":500.0,\"num_minor_ticks\":0},\"id\":\"1257\",\"type\":\"AdaptiveTicker\"},{\"attributes\":{},\"id\":\"1270\",\"type\":\"Selection\"}],\"root_ids\":[\"1191\"]},\"title\":\"Bokeh Application\",\"version\":\"1.3.4\"}};\n",
       "  var render_items = [{\"docid\":\"84e5426e-befa-42bd-8c02-d8ce4fc625d1\",\"roots\":{\"1191\":\"1e1b68e5-7449-4f29-a429-cb128fb0ff34\"}}];\n",
       "  root.Bokeh.embed.embed_items_notebook(docs_json, render_items);\n",
       "\n",
       "  }\n",
       "  if (root.Bokeh !== undefined) {\n",
       "    embed_document(root);\n",
       "  } else {\n",
       "    var attempts = 0;\n",
       "    var timer = setInterval(function(root) {\n",
       "      if (root.Bokeh !== undefined) {\n",
       "        embed_document(root);\n",
       "        clearInterval(timer);\n",
       "      }\n",
       "      attempts++;\n",
       "      if (attempts > 100) {\n",
       "        console.log(\"Bokeh: ERROR: Unable to run BokehJS code because BokehJS library is missing\");\n",
       "        clearInterval(timer);\n",
       "      }\n",
       "    }, 10, root)\n",
       "  }\n",
       "})(window);"
      ],
      "application/vnd.bokehjs_exec.v0+json": ""
     },
     "metadata": {
      "application/vnd.bokehjs_exec.v0+json": {
       "id": "1191"
      }
     },
     "output_type": "display_data"
    }
   ],
   "source": [
    "grouped_sales = train.groupby(\"Date\")[\"Weekly_Sales\"].median()\n",
    "p = plot.plot_time_series_count(grouped_sales.index, grouped_sales, color=\"navy\", title=\"Weekly_Sales vs Datetime\", relative_y_axis=True, height=200)\n",
    "show(p)"
   ]
  },
  {
   "cell_type": "code",
   "execution_count": 12,
   "metadata": {},
   "outputs": [
    {
     "data": {
      "text/html": [
       "\n",
       "\n",
       "\n",
       "\n",
       "\n",
       "\n",
       "  <div class=\"bk-root\" id=\"2537baa6-3d7f-43b8-a8ed-f759a4c1d890\" data-root-id=\"1393\"></div>\n"
      ]
     },
     "metadata": {},
     "output_type": "display_data"
    },
    {
     "data": {
      "application/javascript": [
       "(function(root) {\n",
       "  function embed_document(root) {\n",
       "    \n",
       "  var docs_json = {\"92bb8a7a-ecb1-4271-b96a-212558302bf9\":{\"roots\":{\"references\":[{\"attributes\":{\"below\":[{\"id\":\"1404\",\"type\":\"CategoricalAxis\"}],\"center\":[{\"id\":\"1407\",\"type\":\"Grid\"},{\"id\":\"1412\",\"type\":\"Grid\"}],\"left\":[{\"id\":\"1408\",\"type\":\"LinearAxis\"}],\"plot_height\":300,\"plot_width\":400,\"renderers\":[{\"id\":\"1425\",\"type\":\"GlyphRenderer\"},{\"id\":\"1430\",\"type\":\"GlyphRenderer\"},{\"id\":\"1435\",\"type\":\"GlyphRenderer\"}],\"title\":{\"id\":\"1394\",\"type\":\"Title\"},\"toolbar\":{\"id\":\"1417\",\"type\":\"Toolbar\"},\"x_range\":{\"id\":\"1396\",\"type\":\"FactorRange\"},\"x_scale\":{\"id\":\"1400\",\"type\":\"CategoricalScale\"},\"y_range\":{\"id\":\"1398\",\"type\":\"DataRange1d\"},\"y_scale\":{\"id\":\"1402\",\"type\":\"LinearScale\"}},\"id\":\"1393\",\"subtype\":\"Figure\",\"type\":\"Plot\"},{\"attributes\":{\"source\":{\"id\":\"1432\",\"type\":\"ColumnDataSource\"}},\"id\":\"1436\",\"type\":\"CDSView\"},{\"attributes\":{},\"id\":\"1483\",\"type\":\"Selection\"},{\"attributes\":{},\"id\":\"1402\",\"type\":\"LinearScale\"},{\"attributes\":{\"data_source\":{\"id\":\"1432\",\"type\":\"ColumnDataSource\"},\"glyph\":{\"id\":\"1433\",\"type\":\"MultiLine\"},\"hover_glyph\":null,\"muted_glyph\":null,\"nonselection_glyph\":{\"id\":\"1434\",\"type\":\"MultiLine\"},\"selection_glyph\":null,\"view\":{\"id\":\"1436\",\"type\":\"CDSView\"}},\"id\":\"1435\",\"type\":\"GlyphRenderer\"},{\"attributes\":{},\"id\":\"1482\",\"type\":\"UnionRenderers\"},{\"attributes\":{\"axis_label\":\"week_n\",\"formatter\":{\"id\":\"1477\",\"type\":\"CategoricalTickFormatter\"},\"ticker\":{\"id\":\"1405\",\"type\":\"CategoricalTicker\"}},\"id\":\"1404\",\"type\":\"CategoricalAxis\"},{\"attributes\":{\"line_alpha\":{\"value\":0.1},\"line_color\":{\"value\":\"#1f77b4\"},\"line_width\":{\"value\":2},\"xs\":{\"field\":\"xs\"},\"ys\":{\"field\":\"ys\"}},\"id\":\"1434\",\"type\":\"MultiLine\"},{\"attributes\":{},\"id\":\"1409\",\"type\":\"BasicTicker\"},{\"attributes\":{},\"id\":\"1405\",\"type\":\"CategoricalTicker\"},{\"attributes\":{\"ticker\":{\"id\":\"1405\",\"type\":\"CategoricalTicker\"}},\"id\":\"1407\",\"type\":\"Grid\"},{\"attributes\":{},\"id\":\"1481\",\"type\":\"Selection\"},{\"attributes\":{\"dimension\":1,\"ticker\":{\"id\":\"1409\",\"type\":\"BasicTicker\"}},\"id\":\"1412\",\"type\":\"Grid\"},{\"attributes\":{\"axis_label\":\"Weekly_Sales\",\"formatter\":{\"id\":\"1479\",\"type\":\"BasicTickFormatter\"},\"ticker\":{\"id\":\"1409\",\"type\":\"BasicTicker\"}},\"id\":\"1408\",\"type\":\"LinearAxis\"},{\"attributes\":{\"source\":{\"id\":\"1427\",\"type\":\"ColumnDataSource\"}},\"id\":\"1431\",\"type\":\"CDSView\"},{\"attributes\":{},\"id\":\"1479\",\"type\":\"BasicTickFormatter\"},{\"attributes\":{\"line_color\":{\"value\":\"magenta\"},\"line_width\":{\"value\":2},\"xs\":{\"field\":\"xs\"},\"ys\":{\"field\":\"ys\"}},\"id\":\"1433\",\"type\":\"MultiLine\"},{\"attributes\":{\"callback\":null,\"data\":{\"x\":[\"1\",\"2\",\"3\",\"4\",\"5\"],\"y\":{\"__ndarray__\":\"pHA9CpfdvUBcj8L16JG9QDMzMzPzx71AcT0K12MWvkDsUbgehay8QA==\",\"dtype\":\"float64\",\"shape\":[5]}},\"selected\":{\"id\":\"1481\",\"type\":\"Selection\"},\"selection_policy\":{\"id\":\"1480\",\"type\":\"UnionRenderers\"}},\"id\":\"1422\",\"type\":\"ColumnDataSource\"},{\"attributes\":{\"callback\":null,\"data\":{\"xs\":[[\"1\",\"1\"],[\"2\",\"2\"],[\"3\",\"3\"],[\"4\",\"4\"],[\"5\",\"5\"]],\"ys\":[[1328.4859999999999,25513.096000000005],[1340.7759999999998,25044.075999999997],[1360.0,24963.94],[1350.462,25689.508000000013],[1293.4540000000002,24252.512000000013]]},\"selected\":{\"id\":\"1485\",\"type\":\"Selection\"},\"selection_policy\":{\"id\":\"1484\",\"type\":\"UnionRenderers\"}},\"id\":\"1432\",\"type\":\"ColumnDataSource\"},{\"attributes\":{\"fill_color\":{\"value\":\"navy\"},\"line_alpha\":{\"value\":0},\"line_color\":{\"value\":\"navy\"},\"size\":{\"units\":\"screen\",\"value\":10},\"x\":{\"field\":\"x\"},\"y\":{\"field\":\"y\"}},\"id\":\"1423\",\"type\":\"Circle\"},{\"attributes\":{\"fill_alpha\":{\"value\":0.1},\"fill_color\":{\"value\":\"#1f77b4\"},\"line_alpha\":{\"value\":0.1},\"line_color\":{\"value\":\"#1f77b4\"},\"size\":{\"units\":\"screen\",\"value\":5},\"x\":{\"field\":\"x\"},\"y\":{\"field\":\"y\"}},\"id\":\"1429\",\"type\":\"Circle\"},{\"attributes\":{\"callback\":null},\"id\":\"1398\",\"type\":\"DataRange1d\"},{\"attributes\":{\"data_source\":{\"id\":\"1422\",\"type\":\"ColumnDataSource\"},\"glyph\":{\"id\":\"1423\",\"type\":\"Circle\"},\"hover_glyph\":null,\"muted_glyph\":null,\"nonselection_glyph\":{\"id\":\"1424\",\"type\":\"Circle\"},\"selection_glyph\":null,\"view\":{\"id\":\"1426\",\"type\":\"CDSView\"}},\"id\":\"1425\",\"type\":\"GlyphRenderer\"},{\"attributes\":{\"data_source\":{\"id\":\"1427\",\"type\":\"ColumnDataSource\"},\"glyph\":{\"id\":\"1428\",\"type\":\"Circle\"},\"hover_glyph\":null,\"muted_glyph\":null,\"nonselection_glyph\":{\"id\":\"1429\",\"type\":\"Circle\"},\"selection_glyph\":null,\"view\":{\"id\":\"1431\",\"type\":\"CDSView\"}},\"id\":\"1430\",\"type\":\"GlyphRenderer\"},{\"attributes\":{},\"id\":\"1413\",\"type\":\"PanTool\"},{\"attributes\":{},\"id\":\"1484\",\"type\":\"UnionRenderers\"},{\"attributes\":{\"callback\":null,\"factors\":[\"1\",\"2\",\"3\",\"4\",\"5\"]},\"id\":\"1396\",\"type\":\"FactorRange\"},{\"attributes\":{\"dimensions\":\"height\"},\"id\":\"1414\",\"type\":\"WheelZoomTool\"},{\"attributes\":{\"active_drag\":\"auto\",\"active_inspect\":\"auto\",\"active_multi\":null,\"active_scroll\":\"auto\",\"active_tap\":\"auto\",\"tools\":[{\"id\":\"1413\",\"type\":\"PanTool\"},{\"id\":\"1414\",\"type\":\"WheelZoomTool\"},{\"id\":\"1415\",\"type\":\"ResetTool\"},{\"id\":\"1416\",\"type\":\"SaveTool\"}]},\"id\":\"1417\",\"type\":\"Toolbar\"},{\"attributes\":{\"text\":\"Weekly_Sales errors grouped by week_n\"},\"id\":\"1394\",\"type\":\"Title\"},{\"attributes\":{},\"id\":\"1485\",\"type\":\"Selection\"},{\"attributes\":{},\"id\":\"1400\",\"type\":\"CategoricalScale\"},{\"attributes\":{},\"id\":\"1415\",\"type\":\"ResetTool\"},{\"attributes\":{\"callback\":null,\"data\":{\"x\":[\"1\",\"2\",\"3\",\"4\",\"5\"],\"y\":{\"__ndarray__\":\"pHA9CpfdvUBcj8L16JG9QDMzMzPzx71AcT0K12MWvkDsUbgehay8QA==\",\"dtype\":\"float64\",\"shape\":[5]}},\"selected\":{\"id\":\"1483\",\"type\":\"Selection\"},\"selection_policy\":{\"id\":\"1482\",\"type\":\"UnionRenderers\"}},\"id\":\"1427\",\"type\":\"ColumnDataSource\"},{\"attributes\":{},\"id\":\"1477\",\"type\":\"CategoricalTickFormatter\"},{\"attributes\":{},\"id\":\"1480\",\"type\":\"UnionRenderers\"},{\"attributes\":{\"source\":{\"id\":\"1422\",\"type\":\"ColumnDataSource\"}},\"id\":\"1426\",\"type\":\"CDSView\"},{\"attributes\":{\"fill_alpha\":{\"value\":0.1},\"fill_color\":{\"value\":\"#1f77b4\"},\"line_alpha\":{\"value\":0.1},\"line_color\":{\"value\":\"#1f77b4\"},\"size\":{\"units\":\"screen\",\"value\":10},\"x\":{\"field\":\"x\"},\"y\":{\"field\":\"y\"}},\"id\":\"1424\",\"type\":\"Circle\"},{\"attributes\":{\"fill_color\":{\"value\":\"magenta\"},\"line_alpha\":{\"value\":0},\"line_color\":{\"value\":\"magenta\"},\"size\":{\"units\":\"screen\",\"value\":5},\"x\":{\"field\":\"x\"},\"y\":{\"field\":\"y\"}},\"id\":\"1428\",\"type\":\"Circle\"},{\"attributes\":{},\"id\":\"1416\",\"type\":\"SaveTool\"}],\"root_ids\":[\"1393\"]},\"title\":\"Bokeh Application\",\"version\":\"1.3.4\"}};\n",
       "  var render_items = [{\"docid\":\"92bb8a7a-ecb1-4271-b96a-212558302bf9\",\"roots\":{\"1393\":\"2537baa6-3d7f-43b8-a8ed-f759a4c1d890\"}}];\n",
       "  root.Bokeh.embed.embed_items_notebook(docs_json, render_items);\n",
       "\n",
       "  }\n",
       "  if (root.Bokeh !== undefined) {\n",
       "    embed_document(root);\n",
       "  } else {\n",
       "    var attempts = 0;\n",
       "    var timer = setInterval(function(root) {\n",
       "      if (root.Bokeh !== undefined) {\n",
       "        embed_document(root);\n",
       "        clearInterval(timer);\n",
       "      }\n",
       "      attempts++;\n",
       "      if (attempts > 100) {\n",
       "        console.log(\"Bokeh: ERROR: Unable to run BokehJS code because BokehJS library is missing\");\n",
       "        clearInterval(timer);\n",
       "      }\n",
       "    }, 10, root)\n",
       "  }\n",
       "})(window);"
      ],
      "application/vnd.bokehjs_exec.v0+json": ""
     },
     "metadata": {
      "application/vnd.bokehjs_exec.v0+json": {
       "id": "1393"
      }
     },
     "output_type": "display_data"
    }
   ],
   "source": [
    "p = plot.plot_error_values(train, \"week_n\", \"Weekly_Sales\", drop_quantile=0.20, \n",
    "                           title=\"Weekly_Sales errors grouped by week_n\")\n",
    "show(p)"
   ]
  },
  {
   "cell_type": "code",
   "execution_count": 13,
   "metadata": {},
   "outputs": [],
   "source": [
    "# p = plot.plot_error_values(train, \"week_n\", \"sales_diff_p\", drop_quantile=0.15, \n",
    "#                            title=\"Weekly_Sales errors grouped by week_n\")\n",
    "# show(p)"
   ]
  },
  {
   "cell_type": "code",
   "execution_count": 14,
   "metadata": {},
   "outputs": [],
   "source": [
    "# train[\"wm_date\"] = train[\"month_n\"] + \"/\" + train[\"week_n\"].astype(str)"
   ]
  },
  {
   "cell_type": "code",
   "execution_count": 15,
   "metadata": {},
   "outputs": [
    {
     "data": {
      "text/html": [
       "\n",
       "\n",
       "\n",
       "\n",
       "\n",
       "\n",
       "  <div class=\"bk-root\" id=\"6fc96294-4a6f-4b44-838c-a571fd1d0848\" data-root-id=\"1552\"></div>\n"
      ]
     },
     "metadata": {},
     "output_type": "display_data"
    },
    {
     "data": {
      "application/javascript": [
       "(function(root) {\n",
       "  function embed_document(root) {\n",
       "    \n",
       "  var docs_json = {\"c93b3bbb-a9d7-4259-9afa-bd0e0e74d4f0\":{\"roots\":{\"references\":[{\"attributes\":{\"below\":[{\"id\":\"1563\",\"type\":\"CategoricalAxis\"}],\"center\":[{\"id\":\"1566\",\"type\":\"Grid\"},{\"id\":\"1571\",\"type\":\"Grid\"}],\"left\":[{\"id\":\"1567\",\"type\":\"LinearAxis\"}],\"plot_height\":300,\"plot_width\":1200,\"renderers\":[{\"id\":\"1584\",\"type\":\"GlyphRenderer\"},{\"id\":\"1589\",\"type\":\"GlyphRenderer\"},{\"id\":\"1594\",\"type\":\"GlyphRenderer\"}],\"title\":{\"id\":\"1553\",\"type\":\"Title\"},\"toolbar\":{\"id\":\"1576\",\"type\":\"Toolbar\"},\"x_range\":{\"id\":\"1555\",\"type\":\"FactorRange\"},\"x_scale\":{\"id\":\"1559\",\"type\":\"CategoricalScale\"},\"y_range\":{\"id\":\"1557\",\"type\":\"DataRange1d\"},\"y_scale\":{\"id\":\"1561\",\"type\":\"LinearScale\"}},\"id\":\"1552\",\"subtype\":\"Figure\",\"type\":\"Plot\"},{\"attributes\":{\"fill_color\":{\"value\":\"navy\"},\"line_alpha\":{\"value\":0},\"line_color\":{\"value\":\"navy\"},\"size\":{\"units\":\"screen\",\"value\":10},\"x\":{\"field\":\"x\"},\"y\":{\"field\":\"y\"}},\"id\":\"1582\",\"type\":\"Circle\"},{\"attributes\":{\"line_alpha\":{\"value\":0.1},\"line_color\":{\"value\":\"#1f77b4\"},\"line_width\":{\"value\":2},\"xs\":{\"field\":\"xs\"},\"ys\":{\"field\":\"ys\"}},\"id\":\"1593\",\"type\":\"MultiLine\"},{\"attributes\":{\"data_source\":{\"id\":\"1591\",\"type\":\"ColumnDataSource\"},\"glyph\":{\"id\":\"1592\",\"type\":\"MultiLine\"},\"hover_glyph\":null,\"muted_glyph\":null,\"nonselection_glyph\":{\"id\":\"1593\",\"type\":\"MultiLine\"},\"selection_glyph\":null,\"view\":{\"id\":\"1595\",\"type\":\"CDSView\"}},\"id\":\"1594\",\"type\":\"GlyphRenderer\"},{\"attributes\":{\"fill_alpha\":{\"value\":0.1},\"fill_color\":{\"value\":\"#1f77b4\"},\"line_alpha\":{\"value\":0.1},\"line_color\":{\"value\":\"#1f77b4\"},\"size\":{\"units\":\"screen\",\"value\":5},\"x\":{\"field\":\"x\"},\"y\":{\"field\":\"y\"}},\"id\":\"1588\",\"type\":\"Circle\"},{\"attributes\":{\"ticker\":{\"id\":\"1564\",\"type\":\"CategoricalTicker\"}},\"id\":\"1566\",\"type\":\"Grid\"},{\"attributes\":{},\"id\":\"1653\",\"type\":\"Selection\"},{\"attributes\":{},\"id\":\"1572\",\"type\":\"PanTool\"},{\"attributes\":{\"callback\":null,\"factors\":[\"01/1\",\"01/2\",\"01/3\",\"01/4\",\"02/1\",\"02/2\",\"02/3\",\"02/4\",\"03/1\",\"03/2\",\"03/3\",\"03/4\",\"03/5\",\"04/1\",\"04/2\",\"04/3\",\"04/4\",\"04/5\",\"05/1\",\"05/2\",\"05/3\",\"05/4\",\"06/1\",\"06/2\",\"06/3\",\"06/4\",\"06/5\",\"07/1\",\"07/2\",\"07/3\",\"07/4\",\"07/5\",\"08/1\",\"08/2\",\"08/3\",\"08/4\",\"08/5\",\"09/1\",\"09/2\",\"09/3\",\"09/4\",\"09/5\",\"10/1\",\"10/2\",\"10/3\",\"10/4\",\"10/5\",\"11/1\",\"11/2\",\"11/3\",\"11/4\",\"12/1\",\"12/2\",\"12/3\",\"12/4\",\"12/5\"]},\"id\":\"1555\",\"type\":\"FactorRange\"},{\"attributes\":{\"source\":{\"id\":\"1586\",\"type\":\"ColumnDataSource\"}},\"id\":\"1590\",\"type\":\"CDSView\"},{\"attributes\":{\"source\":{\"id\":\"1591\",\"type\":\"ColumnDataSource\"}},\"id\":\"1595\",\"type\":\"CDSView\"},{\"attributes\":{\"axis_label\":\"wm_date\",\"formatter\":{\"id\":\"1647\",\"type\":\"CategoricalTickFormatter\"},\"ticker\":{\"id\":\"1564\",\"type\":\"CategoricalTicker\"}},\"id\":\"1563\",\"type\":\"CategoricalAxis\"},{\"attributes\":{},\"id\":\"1654\",\"type\":\"UnionRenderers\"},{\"attributes\":{},\"id\":\"1655\",\"type\":\"Selection\"},{\"attributes\":{},\"id\":\"1651\",\"type\":\"Selection\"},{\"attributes\":{},\"id\":\"1561\",\"type\":\"LinearScale\"},{\"attributes\":{},\"id\":\"1652\",\"type\":\"UnionRenderers\"},{\"attributes\":{\"text\":\"Weekly_Sales errors grouped by wm_date\"},\"id\":\"1553\",\"type\":\"Title\"},{\"attributes\":{\"dimension\":1,\"ticker\":{\"id\":\"1568\",\"type\":\"BasicTicker\"}},\"id\":\"1571\",\"type\":\"Grid\"},{\"attributes\":{\"source\":{\"id\":\"1581\",\"type\":\"ColumnDataSource\"}},\"id\":\"1585\",\"type\":\"CDSView\"},{\"attributes\":{\"callback\":null},\"id\":\"1557\",\"type\":\"DataRange1d\"},{\"attributes\":{},\"id\":\"1575\",\"type\":\"SaveTool\"},{\"attributes\":{\"fill_alpha\":{\"value\":0.1},\"fill_color\":{\"value\":\"#1f77b4\"},\"line_alpha\":{\"value\":0.1},\"line_color\":{\"value\":\"#1f77b4\"},\"size\":{\"units\":\"screen\",\"value\":10},\"x\":{\"field\":\"x\"},\"y\":{\"field\":\"y\"}},\"id\":\"1583\",\"type\":\"Circle\"},{\"attributes\":{\"fill_color\":{\"value\":\"magenta\"},\"line_alpha\":{\"value\":0},\"line_color\":{\"value\":\"magenta\"},\"size\":{\"units\":\"screen\",\"value\":5},\"x\":{\"field\":\"x\"},\"y\":{\"field\":\"y\"}},\"id\":\"1587\",\"type\":\"Circle\"},{\"attributes\":{\"active_drag\":\"auto\",\"active_inspect\":\"auto\",\"active_multi\":null,\"active_scroll\":\"auto\",\"active_tap\":\"auto\",\"tools\":[{\"id\":\"1572\",\"type\":\"PanTool\"},{\"id\":\"1573\",\"type\":\"WheelZoomTool\"},{\"id\":\"1574\",\"type\":\"ResetTool\"},{\"id\":\"1575\",\"type\":\"SaveTool\"}]},\"id\":\"1576\",\"type\":\"Toolbar\"},{\"attributes\":{},\"id\":\"1559\",\"type\":\"CategoricalScale\"},{\"attributes\":{\"callback\":null,\"data\":{\"x\":[\"01/1\",\"01/2\",\"01/3\",\"01/4\",\"02/1\",\"02/2\",\"02/3\",\"02/4\",\"03/1\",\"03/2\",\"03/3\",\"03/4\",\"03/5\",\"04/1\",\"04/2\",\"04/3\",\"04/4\",\"04/5\",\"05/1\",\"05/2\",\"05/3\",\"05/4\",\"06/1\",\"06/2\",\"06/3\",\"06/4\",\"06/5\",\"07/1\",\"07/2\",\"07/3\",\"07/4\",\"07/5\",\"08/1\",\"08/2\",\"08/3\",\"08/4\",\"08/5\",\"09/1\",\"09/2\",\"09/3\",\"09/4\",\"09/5\",\"10/1\",\"10/2\",\"10/3\",\"10/4\",\"10/5\",\"11/1\",\"11/2\",\"11/3\",\"11/4\",\"12/1\",\"12/2\",\"12/3\",\"12/4\",\"12/5\"],\"y\":{\"__ndarray__\":\"KVyPwnVNuUA+Ctej0DW3QDMzMzMzALhA4XoUrkd0t0CQwvUofJ28QBSuR+E6Ib9A7FG4HgUjwEAzMzMzM2m8QML1KFzvfr1APgrXo1C7vEDiehSuhzy+QIXrUbi+trxAmpmZmdkEvUBxPQrXY5W/QMP1KFwPAr5ApHA9ClfNvEDhehSu58e9QBSuR+G6/LxAj8L1KNx+vkCamZmZee+9QArXo3Bdr71AzczMzIwDv0CkcD0Kl2+/QJqZmZnZA79AmpmZmVmTvkApXI/C9e+9QM3MzMzMTL1A4XoUroezvkBSuB6Fi2q9QNejcD3KRL1AexSuR4HivEB7FK5HofC8QI/C9Sjc3L5A9ihcj0I0vkAAAAAAAIy+QHsUrkfhir5AkML1KFyIvkCF61G4Hqm9QOxRuB4lVrxAAAAAAIC7u0ApXI/CdU67QKRwPQpXfbpAw/UoXM+uvEAfhetRGJK8QNejcD0qg7xAPQrXo3DsvEA9CtejEPe8QArXo3Ad871AFK5H4fq+vUCF61G4HsO9QD0K16Owi8NAexSuR6G6vkBwPQrXo4bBQNejcD3qD8RAuB6F65EVykD2KFyPQoa7QA==\",\"dtype\":\"float64\",\"shape\":[56]}},\"selected\":{\"id\":\"1651\",\"type\":\"Selection\"},\"selection_policy\":{\"id\":\"1650\",\"type\":\"UnionRenderers\"}},\"id\":\"1581\",\"type\":\"ColumnDataSource\"},{\"attributes\":{},\"id\":\"1647\",\"type\":\"CategoricalTickFormatter\"},{\"attributes\":{\"line_color\":{\"value\":\"magenta\"},\"line_width\":{\"value\":2},\"xs\":{\"field\":\"xs\"},\"ys\":{\"field\":\"ys\"}},\"id\":\"1592\",\"type\":\"MultiLine\"},{\"attributes\":{},\"id\":\"1650\",\"type\":\"UnionRenderers\"},{\"attributes\":{\"data_source\":{\"id\":\"1581\",\"type\":\"ColumnDataSource\"},\"glyph\":{\"id\":\"1582\",\"type\":\"Circle\"},\"hover_glyph\":null,\"muted_glyph\":null,\"nonselection_glyph\":{\"id\":\"1583\",\"type\":\"Circle\"},\"selection_glyph\":null,\"view\":{\"id\":\"1585\",\"type\":\"CDSView\"}},\"id\":\"1584\",\"type\":\"GlyphRenderer\"},{\"attributes\":{\"callback\":null,\"data\":{\"x\":[\"01/1\",\"01/2\",\"01/3\",\"01/4\",\"02/1\",\"02/2\",\"02/3\",\"02/4\",\"03/1\",\"03/2\",\"03/3\",\"03/4\",\"03/5\",\"04/1\",\"04/2\",\"04/3\",\"04/4\",\"04/5\",\"05/1\",\"05/2\",\"05/3\",\"05/4\",\"06/1\",\"06/2\",\"06/3\",\"06/4\",\"06/5\",\"07/1\",\"07/2\",\"07/3\",\"07/4\",\"07/5\",\"08/1\",\"08/2\",\"08/3\",\"08/4\",\"08/5\",\"09/1\",\"09/2\",\"09/3\",\"09/4\",\"09/5\",\"10/1\",\"10/2\",\"10/3\",\"10/4\",\"10/5\",\"11/1\",\"11/2\",\"11/3\",\"11/4\",\"12/1\",\"12/2\",\"12/3\",\"12/4\",\"12/5\"],\"y\":{\"__ndarray__\":\"KVyPwnVNuUA+Ctej0DW3QDMzMzMzALhA4XoUrkd0t0CQwvUofJ28QBSuR+E6Ib9A7FG4HgUjwEAzMzMzM2m8QML1KFzvfr1APgrXo1C7vEDiehSuhzy+QIXrUbi+trxAmpmZmdkEvUBxPQrXY5W/QMP1KFwPAr5ApHA9ClfNvEDhehSu58e9QBSuR+G6/LxAj8L1KNx+vkCamZmZee+9QArXo3Bdr71AzczMzIwDv0CkcD0Kl2+/QJqZmZnZA79AmpmZmVmTvkApXI/C9e+9QM3MzMzMTL1A4XoUroezvkBSuB6Fi2q9QNejcD3KRL1AexSuR4HivEB7FK5HofC8QI/C9Sjc3L5A9ihcj0I0vkAAAAAAAIy+QHsUrkfhir5AkML1KFyIvkCF61G4Hqm9QOxRuB4lVrxAAAAAAIC7u0ApXI/CdU67QKRwPQpXfbpAw/UoXM+uvEAfhetRGJK8QNejcD0qg7xAPQrXo3DsvEA9CtejEPe8QArXo3Ad871AFK5H4fq+vUCF61G4HsO9QD0K16Owi8NAexSuR6G6vkBwPQrXo4bBQNejcD3qD8RAuB6F65EVykD2KFyPQoa7QA==\",\"dtype\":\"float64\",\"shape\":[56]}},\"selected\":{\"id\":\"1653\",\"type\":\"Selection\"},\"selection_policy\":{\"id\":\"1652\",\"type\":\"UnionRenderers\"}},\"id\":\"1586\",\"type\":\"ColumnDataSource\"},{\"attributes\":{\"data_source\":{\"id\":\"1586\",\"type\":\"ColumnDataSource\"},\"glyph\":{\"id\":\"1587\",\"type\":\"Circle\"},\"hover_glyph\":null,\"muted_glyph\":null,\"nonselection_glyph\":{\"id\":\"1588\",\"type\":\"Circle\"},\"selection_glyph\":null,\"view\":{\"id\":\"1590\",\"type\":\"CDSView\"}},\"id\":\"1589\",\"type\":\"GlyphRenderer\"},{\"attributes\":{\"axis_label\":\"Weekly_Sales\",\"formatter\":{\"id\":\"1649\",\"type\":\"BasicTickFormatter\"},\"ticker\":{\"id\":\"1568\",\"type\":\"BasicTicker\"}},\"id\":\"1567\",\"type\":\"LinearAxis\"},{\"attributes\":{\"callback\":null,\"data\":{\"xs\":[[\"01/1\",\"01/1\"],[\"01/2\",\"01/2\"],[\"01/3\",\"01/3\"],[\"01/4\",\"01/4\"],[\"02/1\",\"02/1\"],[\"02/2\",\"02/2\"],[\"02/3\",\"02/3\"],[\"02/4\",\"02/4\"],[\"03/1\",\"03/1\"],[\"03/2\",\"03/2\"],[\"03/3\",\"03/3\"],[\"03/4\",\"03/4\"],[\"03/5\",\"03/5\"],[\"04/1\",\"04/1\"],[\"04/2\",\"04/2\"],[\"04/3\",\"04/3\"],[\"04/4\",\"04/4\"],[\"04/5\",\"04/5\"],[\"05/1\",\"05/1\"],[\"05/2\",\"05/2\"],[\"05/3\",\"05/3\"],[\"05/4\",\"05/4\"],[\"06/1\",\"06/1\"],[\"06/2\",\"06/2\"],[\"06/3\",\"06/3\"],[\"06/4\",\"06/4\"],[\"06/5\",\"06/5\"],[\"07/1\",\"07/1\"],[\"07/2\",\"07/2\"],[\"07/3\",\"07/3\"],[\"07/4\",\"07/4\"],[\"07/5\",\"07/5\"],[\"08/1\",\"08/1\"],[\"08/2\",\"08/2\"],[\"08/3\",\"08/3\"],[\"08/4\",\"08/4\"],[\"08/5\",\"08/5\"],[\"09/1\",\"09/1\"],[\"09/2\",\"09/2\"],[\"09/3\",\"09/3\"],[\"09/4\",\"09/4\"],[\"09/5\",\"09/5\"],[\"10/1\",\"10/1\"],[\"10/2\",\"10/2\"],[\"10/3\",\"10/3\"],[\"10/4\",\"10/4\"],[\"10/5\",\"10/5\"],[\"11/1\",\"11/1\"],[\"11/2\",\"11/2\"],[\"11/3\",\"11/3\"],[\"11/4\",\"11/4\"],[\"12/1\",\"12/1\"],[\"12/2\",\"12/2\"],[\"12/3\",\"12/3\"],[\"12/4\",\"12/4\"],[\"12/5\",\"12/5\"]],\"ys\":[[1769.23,17812.735],[1590.2025,16780.3125],[1612.39,16799.38],[1573.315,16267.08],[1920.04,19390.767499999998],[2070.7349999999997,20516.61],[2189.75,20895.68],[1876.8600000000001,18657.71],[1895.8249999999998,19413.1175],[1986.1825,19135.8725],[2138.7725,19406.0975],[2079.6975,18900.997499999998],[2118.15,19690.21],[2212.6800000000003,20905.86],[2168.285,19978.985],[1999.385,19395.905],[2067.505,19548.667500000003],[2025.135,18956.9075],[2105.59,20421.97],[2156.4300000000003,19740.3125],[2161.1075,19728.800000000003],[2212.3199999999997,20968.165],[2248.74,22233.64],[2220.1,21436.82],[2216.2425,21300.425],[2199.955,21149.9775],[2021.08,21137.62],[2149.0,22148.06],[2080.5175,21115.3825],[2026.77,20504.64],[1939.7649999999999,20161.5975],[1964.5224999999998,19862.8],[2024.0375,21057.8525],[1985.07,20437.21],[1997.4,20366.05],[2068.77,20485.56],[1918.07,20298.267499999998],[1901.8,20145.79],[1906.4125,19071.3975],[2048.29,18199.497499999998],[2000.585,17877.375],[1989.32,17611.055],[2109.54,19195.09],[2140.9025,19219.295],[2110.415,19108.8325],[2115.2,19410.93],[2201.3999999999996,19137.8075],[2258.5099999999998,20548.255],[2161.63,20231.63],[2160.87,19478.99],[2592.625,25892.79],[2298.125,21470.2],[2555.2825000000003,24046.57],[2769.965,26455.145],[3382.99,34147.19],[1944.0125,19589.107500000002]]},\"selected\":{\"id\":\"1655\",\"type\":\"Selection\"},\"selection_policy\":{\"id\":\"1654\",\"type\":\"UnionRenderers\"}},\"id\":\"1591\",\"type\":\"ColumnDataSource\"},{\"attributes\":{},\"id\":\"1568\",\"type\":\"BasicTicker\"},{\"attributes\":{},\"id\":\"1649\",\"type\":\"BasicTickFormatter\"},{\"attributes\":{\"dimensions\":\"height\"},\"id\":\"1573\",\"type\":\"WheelZoomTool\"},{\"attributes\":{},\"id\":\"1574\",\"type\":\"ResetTool\"},{\"attributes\":{},\"id\":\"1564\",\"type\":\"CategoricalTicker\"}],\"root_ids\":[\"1552\"]},\"title\":\"Bokeh Application\",\"version\":\"1.3.4\"}};\n",
       "  var render_items = [{\"docid\":\"c93b3bbb-a9d7-4259-9afa-bd0e0e74d4f0\",\"roots\":{\"1552\":\"6fc96294-4a6f-4b44-838c-a571fd1d0848\"}}];\n",
       "  root.Bokeh.embed.embed_items_notebook(docs_json, render_items);\n",
       "\n",
       "  }\n",
       "  if (root.Bokeh !== undefined) {\n",
       "    embed_document(root);\n",
       "  } else {\n",
       "    var attempts = 0;\n",
       "    var timer = setInterval(function(root) {\n",
       "      if (root.Bokeh !== undefined) {\n",
       "        embed_document(root);\n",
       "        clearInterval(timer);\n",
       "      }\n",
       "      attempts++;\n",
       "      if (attempts > 100) {\n",
       "        console.log(\"Bokeh: ERROR: Unable to run BokehJS code because BokehJS library is missing\");\n",
       "        clearInterval(timer);\n",
       "      }\n",
       "    }, 10, root)\n",
       "  }\n",
       "})(window);"
      ],
      "application/vnd.bokehjs_exec.v0+json": ""
     },
     "metadata": {
      "application/vnd.bokehjs_exec.v0+json": {
       "id": "1552"
      }
     },
     "output_type": "display_data"
    }
   ],
   "source": [
    "p = plot.plot_error_values(train, \"wm_date\", \"Weekly_Sales\", drop_quantile=0.25, \n",
    "                           title=\"Weekly_Sales errors grouped by wm_date\", width=1200)\n",
    "show(p)"
   ]
  },
  {
   "cell_type": "code",
   "execution_count": 16,
   "metadata": {},
   "outputs": [],
   "source": [
    "# p = plot.plot_error_values(train, \"wm_date\", \"sales_diff_p\", drop_quantile=0.25, \n",
    "#                            title=\"sales_diff_p errors grouped by wm_date\", width=1200)\n",
    "# show(p)"
   ]
  },
  {
   "cell_type": "markdown",
   "metadata": {},
   "source": [
    "# <font color=\"navy\">Store</font>"
   ]
  },
  {
   "cell_type": "code",
   "execution_count": 17,
   "metadata": {},
   "outputs": [
    {
     "data": {
      "text/plain": [
       "<matplotlib.axes._subplots.AxesSubplot at 0x7f58c0b6cf10>"
      ]
     },
     "execution_count": 17,
     "metadata": {},
     "output_type": "execute_result"
    }
   ],
   "source": [
    "train.groupby(\"Store\")[\"Weekly_Sales\"].mean().sort_values().plot.bar(title=\"Sales amout per store\", figsize=(10, 3))"
   ]
  },
  {
   "cell_type": "code",
   "execution_count": 18,
   "metadata": {},
   "outputs": [
    {
     "data": {
      "text/plain": [
       "<matplotlib.axes._subplots.AxesSubplot at 0x7f58cb4226d0>"
      ]
     },
     "execution_count": 18,
     "metadata": {},
     "output_type": "execute_result"
    },
    {
     "data": {
      "image/png": "[encoded data removed]",
      "text/plain": [
       "<Figure size 648x216 with 1 Axes>"
      ]
     },
     "metadata": {
      "needs_background": "light"
     },
     "output_type": "display_data"
    }
   ],
   "source": [
    "train.plot.scatter(\"Size\", \"Weekly_Sales\", title=\"Scatter Plot - Store Size vs Weekly_Sales\",figsize=(9,3))"
   ]
  },
  {
   "cell_type": "markdown",
   "metadata": {},
   "source": [
    "# <font color=\"navy\">IsHoliday</font>\n",
    "holiday evaluation weight = 5 <br>\n",
    "not holiday evaluation weight = 1"
   ]
  },
  {
   "cell_type": "code",
   "execution_count": 19,
   "metadata": {},
   "outputs": [
    {
     "data": {
      "text/plain": [
       "<matplotlib.axes._subplots.AxesSubplot at 0x7f58c0415350>"
      ]
     },
     "execution_count": 19,
     "metadata": {},
     "output_type": "execute_result"
    },
    {
     "data": {
      "image/png": "[encoded data removed]",
      "text/plain": [
       "<Figure size 1296x216 with 1 Axes>"
      ]
     },
     "metadata": {
      "needs_background": "light"
     },
     "output_type": "display_data"
    }
   ],
   "source": [
    "train.drop_duplicates([\"Store\", \"Date\"]).groupby(\"Store\")[\"IsHoliday\"].value_counts().plot.bar(title=\"Holidays count by store\",figsize=(18,3))"
   ]
  },
  {
   "cell_type": "code",
   "execution_count": 20,
   "metadata": {},
   "outputs": [
    {
     "data": {
      "text/html": [
       "<div>\n",
       "<style scoped>\n",
       "    .dataframe tbody tr th:only-of-type {\n",
       "        vertical-align: middle;\n",
       "    }\n",
       "\n",
       "    .dataframe tbody tr th {\n",
       "        vertical-align: top;\n",
       "    }\n",
       "\n",
       "    .dataframe thead th {\n",
       "        text-align: right;\n",
       "    }\n",
       "</style>\n",
       "<table border=\"1\" class=\"dataframe\">\n",
       "  <thead>\n",
       "    <tr style=\"text-align: right;\">\n",
       "      <th></th>\n",
       "      <th>freq_absolute</th>\n",
       "      <th>freq_relative</th>\n",
       "    </tr>\n",
       "  </thead>\n",
       "  <tbody>\n",
       "    <tr>\n",
       "      <td>False</td>\n",
       "      <td>5985</td>\n",
       "      <td>93.01%</td>\n",
       "    </tr>\n",
       "    <tr>\n",
       "      <td>True</td>\n",
       "      <td>450</td>\n",
       "      <td>6.99%</td>\n",
       "    </tr>\n",
       "  </tbody>\n",
       "</table>\n",
       "</div>"
      ],
      "text/plain": [
       "       freq_absolute freq_relative\n",
       "False           5985        93.01%\n",
       "True             450         6.99%"
      ]
     },
     "execution_count": 20,
     "metadata": {},
     "output_type": "execute_result"
    }
   ],
   "source": [
    "stats.freq(train.drop_duplicates([\"Store\", \"Date\"])[\"IsHoliday\"])"
   ]
  },
  {
   "cell_type": "code",
   "execution_count": 21,
   "metadata": {},
   "outputs": [
    {
     "data": {
      "text/plain": [
       "<matplotlib.axes._subplots.AxesSubplot at 0x7f58ca01e090>"
      ]
     },
     "execution_count": 21,
     "metadata": {},
     "output_type": "execute_result"
    },
    {
     "data": {
      "image/png": "[encoded data removed]",
      "text/plain": [
       "<Figure size 432x288 with 1 Axes>"
      ]
     },
     "metadata": {
      "needs_background": "light"
     },
     "output_type": "display_data"
    }
   ],
   "source": [
    "train.groupby(\"IsHoliday\")[\"Weekly_Sales\"].median().plot.bar(title=\"Weekly_Sales grouped by Holidays\")"
   ]
  },
  {
   "cell_type": "code",
   "execution_count": 22,
   "metadata": {},
   "outputs": [
    {
     "data": {
      "text/html": [
       "\n",
       "\n",
       "\n",
       "\n",
       "\n",
       "\n",
       "  <div class=\"bk-root\" id=\"c5242438-f24f-43d6-90bc-f827906b81a7\" data-root-id=\"1722\"></div>\n"
      ]
     },
     "metadata": {},
     "output_type": "display_data"
    },
    {
     "data": {
      "application/javascript": [
       "(function(root) {\n",
       "  function embed_document(root) {\n",
       "    \n",
       "  var docs_json = {\"f2129cb1-6104-4a7f-a838-09aa0f131c22\":{\"roots\":{\"references\":[{\"attributes\":{\"below\":[{\"id\":\"1733\",\"type\":\"CategoricalAxis\"}],\"center\":[{\"id\":\"1736\",\"type\":\"Grid\"},{\"id\":\"1741\",\"type\":\"Grid\"}],\"left\":[{\"id\":\"1737\",\"type\":\"LinearAxis\"}],\"plot_height\":300,\"plot_width\":400,\"renderers\":[{\"id\":\"1754\",\"type\":\"GlyphRenderer\"},{\"id\":\"1759\",\"type\":\"GlyphRenderer\"},{\"id\":\"1764\",\"type\":\"GlyphRenderer\"}],\"title\":{\"id\":\"1723\",\"type\":\"Title\"},\"toolbar\":{\"id\":\"1746\",\"type\":\"Toolbar\"},\"x_range\":{\"id\":\"1725\",\"type\":\"FactorRange\"},\"x_scale\":{\"id\":\"1729\",\"type\":\"CategoricalScale\"},\"y_range\":{\"id\":\"1727\",\"type\":\"DataRange1d\"},\"y_scale\":{\"id\":\"1731\",\"type\":\"LinearScale\"}},\"id\":\"1722\",\"subtype\":\"Figure\",\"type\":\"Plot\"},{\"attributes\":{\"fill_color\":{\"value\":\"navy\"},\"line_alpha\":{\"value\":0},\"line_color\":{\"value\":\"navy\"},\"size\":{\"units\":\"screen\",\"value\":10},\"x\":{\"field\":\"x\"},\"y\":{\"field\":\"y\"}},\"id\":\"1752\",\"type\":\"Circle\"},{\"attributes\":{},\"id\":\"1729\",\"type\":\"CategoricalScale\"},{\"attributes\":{\"ticker\":{\"id\":\"1734\",\"type\":\"CategoricalTicker\"}},\"id\":\"1736\",\"type\":\"Grid\"},{\"attributes\":{},\"id\":\"1828\",\"type\":\"CategoricalTickFormatter\"},{\"attributes\":{\"source\":{\"id\":\"1751\",\"type\":\"ColumnDataSource\"}},\"id\":\"1755\",\"type\":\"CDSView\"},{\"attributes\":{\"dimensions\":\"height\"},\"id\":\"1743\",\"type\":\"WheelZoomTool\"},{\"attributes\":{\"fill_color\":{\"value\":\"magenta\"},\"line_alpha\":{\"value\":0},\"line_color\":{\"value\":\"magenta\"},\"size\":{\"units\":\"screen\",\"value\":5},\"x\":{\"field\":\"x\"},\"y\":{\"field\":\"y\"}},\"id\":\"1757\",\"type\":\"Circle\"},{\"attributes\":{\"callback\":null,\"data\":{\"x\":[\"False\",\"True\"],\"y\":{\"__ndarray__\":\"MzMzM/OlvUAK16NwvQu/QA==\",\"dtype\":\"float64\",\"shape\":[2]}},\"selected\":{\"id\":\"1834\",\"type\":\"Selection\"},\"selection_policy\":{\"id\":\"1833\",\"type\":\"UnionRenderers\"}},\"id\":\"1756\",\"type\":\"ColumnDataSource\"},{\"attributes\":{},\"id\":\"1831\",\"type\":\"UnionRenderers\"},{\"attributes\":{\"fill_alpha\":{\"value\":0.1},\"fill_color\":{\"value\":\"#1f77b4\"},\"line_alpha\":{\"value\":0.1},\"line_color\":{\"value\":\"#1f77b4\"},\"size\":{\"units\":\"screen\",\"value\":10},\"x\":{\"field\":\"x\"},\"y\":{\"field\":\"y\"}},\"id\":\"1753\",\"type\":\"Circle\"},{\"attributes\":{\"axis_label\":\"Weekly_Sales\",\"formatter\":{\"id\":\"1830\",\"type\":\"BasicTickFormatter\"},\"ticker\":{\"id\":\"1738\",\"type\":\"BasicTicker\"}},\"id\":\"1737\",\"type\":\"LinearAxis\"},{\"attributes\":{},\"id\":\"1745\",\"type\":\"SaveTool\"},{\"attributes\":{},\"id\":\"1832\",\"type\":\"Selection\"},{\"attributes\":{\"callback\":null,\"factors\":[\"False\",\"True\"]},\"id\":\"1725\",\"type\":\"FactorRange\"},{\"attributes\":{\"callback\":null,\"data\":{\"x\":[\"False\",\"True\"],\"y\":{\"__ndarray__\":\"MzMzM/OlvUAK16NwvQu/QA==\",\"dtype\":\"float64\",\"shape\":[2]}},\"selected\":{\"id\":\"1832\",\"type\":\"Selection\"},\"selection_policy\":{\"id\":\"1831\",\"type\":\"UnionRenderers\"}},\"id\":\"1751\",\"type\":\"ColumnDataSource\"},{\"attributes\":{\"fill_alpha\":{\"value\":0.1},\"fill_color\":{\"value\":\"#1f77b4\"},\"line_alpha\":{\"value\":0.1},\"line_color\":{\"value\":\"#1f77b4\"},\"size\":{\"units\":\"screen\",\"value\":5},\"x\":{\"field\":\"x\"},\"y\":{\"field\":\"y\"}},\"id\":\"1758\",\"type\":\"Circle\"},{\"attributes\":{\"text\":\"Weekly_Sales errors grouped by IsHoliday\"},\"id\":\"1723\",\"type\":\"Title\"},{\"attributes\":{\"source\":{\"id\":\"1756\",\"type\":\"ColumnDataSource\"}},\"id\":\"1760\",\"type\":\"CDSView\"},{\"attributes\":{},\"id\":\"1834\",\"type\":\"Selection\"},{\"attributes\":{\"dimension\":1,\"ticker\":{\"id\":\"1738\",\"type\":\"BasicTicker\"}},\"id\":\"1741\",\"type\":\"Grid\"},{\"attributes\":{},\"id\":\"1738\",\"type\":\"BasicTicker\"},{\"attributes\":{\"callback\":null},\"id\":\"1727\",\"type\":\"DataRange1d\"},{\"attributes\":{\"data_source\":{\"id\":\"1761\",\"type\":\"ColumnDataSource\"},\"glyph\":{\"id\":\"1762\",\"type\":\"MultiLine\"},\"hover_glyph\":null,\"muted_glyph\":null,\"nonselection_glyph\":{\"id\":\"1763\",\"type\":\"MultiLine\"},\"selection_glyph\":null,\"view\":{\"id\":\"1765\",\"type\":\"CDSView\"}},\"id\":\"1764\",\"type\":\"GlyphRenderer\"},{\"attributes\":{\"data_source\":{\"id\":\"1756\",\"type\":\"ColumnDataSource\"},\"glyph\":{\"id\":\"1757\",\"type\":\"Circle\"},\"hover_glyph\":null,\"muted_glyph\":null,\"nonselection_glyph\":{\"id\":\"1758\",\"type\":\"Circle\"},\"selection_glyph\":null,\"view\":{\"id\":\"1760\",\"type\":\"CDSView\"}},\"id\":\"1759\",\"type\":\"GlyphRenderer\"},{\"attributes\":{},\"id\":\"1742\",\"type\":\"PanTool\"},{\"attributes\":{},\"id\":\"1744\",\"type\":\"ResetTool\"},{\"attributes\":{},\"id\":\"1833\",\"type\":\"UnionRenderers\"},{\"attributes\":{\"data_source\":{\"id\":\"1751\",\"type\":\"ColumnDataSource\"},\"glyph\":{\"id\":\"1752\",\"type\":\"Circle\"},\"hover_glyph\":null,\"muted_glyph\":null,\"nonselection_glyph\":{\"id\":\"1753\",\"type\":\"Circle\"},\"selection_glyph\":null,\"view\":{\"id\":\"1755\",\"type\":\"CDSView\"}},\"id\":\"1754\",\"type\":\"GlyphRenderer\"},{\"attributes\":{},\"id\":\"1835\",\"type\":\"UnionRenderers\"},{\"attributes\":{},\"id\":\"1734\",\"type\":\"CategoricalTicker\"},{\"attributes\":{\"active_drag\":\"auto\",\"active_inspect\":\"auto\",\"active_multi\":null,\"active_scroll\":\"auto\",\"active_tap\":\"auto\",\"tools\":[{\"id\":\"1742\",\"type\":\"PanTool\"},{\"id\":\"1743\",\"type\":\"WheelZoomTool\"},{\"id\":\"1744\",\"type\":\"ResetTool\"},{\"id\":\"1745\",\"type\":\"SaveTool\"}]},\"id\":\"1746\",\"type\":\"Toolbar\"},{\"attributes\":{},\"id\":\"1731\",\"type\":\"LinearScale\"},{\"attributes\":{\"axis_label\":\"IsHoliday\",\"formatter\":{\"id\":\"1828\",\"type\":\"CategoricalTickFormatter\"},\"ticker\":{\"id\":\"1734\",\"type\":\"CategoricalTicker\"}},\"id\":\"1733\",\"type\":\"CategoricalAxis\"},{\"attributes\":{},\"id\":\"1836\",\"type\":\"Selection\"},{\"attributes\":{},\"id\":\"1830\",\"type\":\"BasicTickFormatter\"},{\"attributes\":{\"line_alpha\":{\"value\":0.1},\"line_color\":{\"value\":\"#1f77b4\"},\"line_width\":{\"value\":2},\"xs\":{\"field\":\"xs\"},\"ys\":{\"field\":\"ys\"}},\"id\":\"1763\",\"type\":\"MultiLine\"},{\"attributes\":{\"line_color\":{\"value\":\"magenta\"},\"line_width\":{\"value\":2},\"xs\":{\"field\":\"xs\"},\"ys\":{\"field\":\"ys\"}},\"id\":\"1762\",\"type\":\"MultiLine\"},{\"attributes\":{\"callback\":null,\"data\":{\"xs\":[[\"False\",\"False\"],[\"True\",\"True\"]],\"ys\":[[2079.75,20131.21],[2078.54,21189.25]]},\"selected\":{\"id\":\"1836\",\"type\":\"Selection\"},\"selection_policy\":{\"id\":\"1835\",\"type\":\"UnionRenderers\"}},\"id\":\"1761\",\"type\":\"ColumnDataSource\"},{\"attributes\":{\"source\":{\"id\":\"1761\",\"type\":\"ColumnDataSource\"}},\"id\":\"1765\",\"type\":\"CDSView\"}],\"root_ids\":[\"1722\"]},\"title\":\"Bokeh Application\",\"version\":\"1.3.4\"}};\n",
       "  var render_items = [{\"docid\":\"f2129cb1-6104-4a7f-a838-09aa0f131c22\",\"roots\":{\"1722\":\"c5242438-f24f-43d6-90bc-f827906b81a7\"}}];\n",
       "  root.Bokeh.embed.embed_items_notebook(docs_json, render_items);\n",
       "\n",
       "  }\n",
       "  if (root.Bokeh !== undefined) {\n",
       "    embed_document(root);\n",
       "  } else {\n",
       "    var attempts = 0;\n",
       "    var timer = setInterval(function(root) {\n",
       "      if (root.Bokeh !== undefined) {\n",
       "        embed_document(root);\n",
       "        clearInterval(timer);\n",
       "      }\n",
       "      attempts++;\n",
       "      if (attempts > 100) {\n",
       "        console.log(\"Bokeh: ERROR: Unable to run BokehJS code because BokehJS library is missing\");\n",
       "        clearInterval(timer);\n",
       "      }\n",
       "    }, 10, root)\n",
       "  }\n",
       "})(window);"
      ],
      "application/vnd.bokehjs_exec.v0+json": ""
     },
     "metadata": {
      "application/vnd.bokehjs_exec.v0+json": {
       "id": "1722"
      }
     },
     "output_type": "display_data"
    }
   ],
   "source": [
    "p = plot.plot_error_values(train, \"IsHoliday\", \"Weekly_Sales\", drop_quantile=0.25, \n",
    "                           title=\"Weekly_Sales errors grouped by IsHoliday\")\n",
    "show(p)"
   ]
  },
  {
   "cell_type": "markdown",
   "metadata": {},
   "source": [
    "#### Before Holiday"
   ]
  },
  {
   "cell_type": "code",
   "execution_count": 23,
   "metadata": {},
   "outputs": [
    {
     "data": {
      "text/plain": [
       "<matplotlib.axes._subplots.AxesSubplot at 0x7f58c8f479d0>"
      ]
     },
     "execution_count": 23,
     "metadata": {},
     "output_type": "execute_result"
    },
    {
     "data": {
      "image/png": "[encoded data removed]",
      "text/plain": [
       "<Figure size 360x144 with 1 Axes>"
      ]
     },
     "metadata": {
      "needs_background": "light"
     },
     "output_type": "display_data"
    }
   ],
   "source": [
    "train.groupby(\"pre_holiday\")[\"Weekly_Sales\"].median().plot.bar(title=\"Weekly_Sales BEFORE Holidays\", figsize=(5,2))"
   ]
  },
  {
   "cell_type": "code",
   "execution_count": 24,
   "metadata": {},
   "outputs": [
    {
     "data": {
      "text/html": [
       "\n",
       "\n",
       "\n",
       "\n",
       "\n",
       "\n",
       "  <div class=\"bk-root\" id=\"16234b64-420a-4fc5-a908-38c8b5830d33\" data-root-id=\"1903\"></div>\n"
      ]
     },
     "metadata": {},
     "output_type": "display_data"
    },
    {
     "data": {
      "application/javascript": [
       "(function(root) {\n",
       "  function embed_document(root) {\n",
       "    \n",
       "  var docs_json = {\"b5653b6e-9f93-41f2-9eff-07a865f1d9df\":{\"roots\":{\"references\":[{\"attributes\":{\"below\":[{\"id\":\"1914\",\"type\":\"CategoricalAxis\"}],\"center\":[{\"id\":\"1917\",\"type\":\"Grid\"},{\"id\":\"1922\",\"type\":\"Grid\"}],\"left\":[{\"id\":\"1918\",\"type\":\"LinearAxis\"}],\"plot_height\":200,\"plot_width\":350,\"renderers\":[{\"id\":\"1935\",\"type\":\"GlyphRenderer\"},{\"id\":\"1940\",\"type\":\"GlyphRenderer\"},{\"id\":\"1945\",\"type\":\"GlyphRenderer\"}],\"title\":{\"id\":\"1904\",\"type\":\"Title\"},\"toolbar\":{\"id\":\"1927\",\"type\":\"Toolbar\"},\"x_range\":{\"id\":\"1906\",\"type\":\"FactorRange\"},\"x_scale\":{\"id\":\"1910\",\"type\":\"CategoricalScale\"},\"y_range\":{\"id\":\"1908\",\"type\":\"DataRange1d\"},\"y_scale\":{\"id\":\"1912\",\"type\":\"LinearScale\"}},\"id\":\"1903\",\"subtype\":\"Figure\",\"type\":\"Plot\"},{\"attributes\":{\"active_drag\":\"auto\",\"active_inspect\":\"auto\",\"active_multi\":null,\"active_scroll\":\"auto\",\"active_tap\":\"auto\",\"tools\":[{\"id\":\"1923\",\"type\":\"PanTool\"},{\"id\":\"1924\",\"type\":\"WheelZoomTool\"},{\"id\":\"1925\",\"type\":\"ResetTool\"},{\"id\":\"1926\",\"type\":\"SaveTool\"}]},\"id\":\"1927\",\"type\":\"Toolbar\"},{\"attributes\":{\"fill_alpha\":{\"value\":0.1},\"fill_color\":{\"value\":\"#1f77b4\"},\"line_alpha\":{\"value\":0.1},\"line_color\":{\"value\":\"#1f77b4\"},\"size\":{\"units\":\"screen\",\"value\":5},\"x\":{\"field\":\"x\"},\"y\":{\"field\":\"y\"}},\"id\":\"1939\",\"type\":\"Circle\"},{\"attributes\":{\"ticker\":{\"id\":\"1915\",\"type\":\"CategoricalTicker\"}},\"id\":\"1917\",\"type\":\"Grid\"},{\"attributes\":{\"fill_alpha\":{\"value\":0.1},\"fill_color\":{\"value\":\"#1f77b4\"},\"line_alpha\":{\"value\":0.1},\"line_color\":{\"value\":\"#1f77b4\"},\"size\":{\"units\":\"screen\",\"value\":10},\"x\":{\"field\":\"x\"},\"y\":{\"field\":\"y\"}},\"id\":\"1934\",\"type\":\"Circle\"},{\"attributes\":{},\"id\":\"2022\",\"type\":\"BasicTickFormatter\"},{\"attributes\":{},\"id\":\"1926\",\"type\":\"SaveTool\"},{\"attributes\":{\"source\":{\"id\":\"1937\",\"type\":\"ColumnDataSource\"}},\"id\":\"1941\",\"type\":\"CDSView\"},{\"attributes\":{\"source\":{\"id\":\"1932\",\"type\":\"ColumnDataSource\"}},\"id\":\"1936\",\"type\":\"CDSView\"},{\"attributes\":{},\"id\":\"2027\",\"type\":\"UnionRenderers\"},{\"attributes\":{\"dimensions\":\"height\"},\"id\":\"1924\",\"type\":\"WheelZoomTool\"},{\"attributes\":{},\"id\":\"2028\",\"type\":\"Selection\"},{\"attributes\":{},\"id\":\"2020\",\"type\":\"CategoricalTickFormatter\"},{\"attributes\":{\"line_color\":{\"value\":\"magenta\"},\"line_width\":{\"value\":2},\"xs\":{\"field\":\"xs\"},\"ys\":{\"field\":\"ys\"}},\"id\":\"1943\",\"type\":\"MultiLine\"},{\"attributes\":{\"dimension\":1,\"ticker\":{\"id\":\"1919\",\"type\":\"BasicTicker\"}},\"id\":\"1922\",\"type\":\"Grid\"},{\"attributes\":{\"text\":\"Weekly_Sales errors grouped by pre_holiday\"},\"id\":\"1904\",\"type\":\"Title\"},{\"attributes\":{\"axis_label\":\"Weekly_Sales\",\"formatter\":{\"id\":\"2022\",\"type\":\"BasicTickFormatter\"},\"ticker\":{\"id\":\"1919\",\"type\":\"BasicTicker\"}},\"id\":\"1918\",\"type\":\"LinearAxis\"},{\"attributes\":{},\"id\":\"1923\",\"type\":\"PanTool\"},{\"attributes\":{\"data_source\":{\"id\":\"1937\",\"type\":\"ColumnDataSource\"},\"glyph\":{\"id\":\"1938\",\"type\":\"Circle\"},\"hover_glyph\":null,\"muted_glyph\":null,\"nonselection_glyph\":{\"id\":\"1939\",\"type\":\"Circle\"},\"selection_glyph\":null,\"view\":{\"id\":\"1941\",\"type\":\"CDSView\"}},\"id\":\"1940\",\"type\":\"GlyphRenderer\"},{\"attributes\":{},\"id\":\"1910\",\"type\":\"CategoricalScale\"},{\"attributes\":{},\"id\":\"2025\",\"type\":\"UnionRenderers\"},{\"attributes\":{\"callback\":null,\"factors\":[\"False\",\"True\"]},\"id\":\"1906\",\"type\":\"FactorRange\"},{\"attributes\":{\"axis_label\":\"pre_holiday\",\"formatter\":{\"id\":\"2020\",\"type\":\"CategoricalTickFormatter\"},\"ticker\":{\"id\":\"1915\",\"type\":\"CategoricalTicker\"}},\"id\":\"1914\",\"type\":\"CategoricalAxis\"},{\"attributes\":{\"fill_color\":{\"value\":\"magenta\"},\"line_alpha\":{\"value\":0},\"line_color\":{\"value\":\"magenta\"},\"size\":{\"units\":\"screen\",\"value\":5},\"x\":{\"field\":\"x\"},\"y\":{\"field\":\"y\"}},\"id\":\"1938\",\"type\":\"Circle\"},{\"attributes\":{\"fill_color\":{\"value\":\"navy\"},\"line_alpha\":{\"value\":0},\"line_color\":{\"value\":\"navy\"},\"size\":{\"units\":\"screen\",\"value\":10},\"x\":{\"field\":\"x\"},\"y\":{\"field\":\"y\"}},\"id\":\"1933\",\"type\":\"Circle\"},{\"attributes\":{\"line_alpha\":{\"value\":0.1},\"line_color\":{\"value\":\"#1f77b4\"},\"line_width\":{\"value\":2},\"xs\":{\"field\":\"xs\"},\"ys\":{\"field\":\"ys\"}},\"id\":\"1944\",\"type\":\"MultiLine\"},{\"attributes\":{},\"id\":\"2024\",\"type\":\"Selection\"},{\"attributes\":{},\"id\":\"2026\",\"type\":\"Selection\"},{\"attributes\":{\"source\":{\"id\":\"1942\",\"type\":\"ColumnDataSource\"}},\"id\":\"1946\",\"type\":\"CDSView\"},{\"attributes\":{},\"id\":\"1925\",\"type\":\"ResetTool\"},{\"attributes\":{},\"id\":\"1915\",\"type\":\"CategoricalTicker\"},{\"attributes\":{\"callback\":null,\"data\":{\"x\":[\"False\",\"True\"],\"y\":{\"__ndarray__\":\"AAAAAACSvUA9CtejsBfAQA==\",\"dtype\":\"float64\",\"shape\":[2]}},\"selected\":{\"id\":\"2026\",\"type\":\"Selection\"},\"selection_policy\":{\"id\":\"2025\",\"type\":\"UnionRenderers\"}},\"id\":\"1937\",\"type\":\"ColumnDataSource\"},{\"attributes\":{},\"id\":\"2023\",\"type\":\"UnionRenderers\"},{\"attributes\":{\"callback\":null},\"id\":\"1908\",\"type\":\"DataRange1d\"},{\"attributes\":{},\"id\":\"1919\",\"type\":\"BasicTicker\"},{\"attributes\":{\"callback\":null,\"data\":{\"x\":[\"False\",\"True\"],\"y\":{\"__ndarray__\":\"AAAAAACSvUA9CtejsBfAQA==\",\"dtype\":\"float64\",\"shape\":[2]}},\"selected\":{\"id\":\"2024\",\"type\":\"Selection\"},\"selection_policy\":{\"id\":\"2023\",\"type\":\"UnionRenderers\"}},\"id\":\"1932\",\"type\":\"ColumnDataSource\"},{\"attributes\":{\"callback\":null,\"data\":{\"xs\":[[\"False\",\"False\"],[\"True\",\"True\"]],\"ys\":[[2071.4449999999997,20062.14],[2194.91,22219.489999999998]]},\"selected\":{\"id\":\"2028\",\"type\":\"Selection\"},\"selection_policy\":{\"id\":\"2027\",\"type\":\"UnionRenderers\"}},\"id\":\"1942\",\"type\":\"ColumnDataSource\"},{\"attributes\":{},\"id\":\"1912\",\"type\":\"LinearScale\"},{\"attributes\":{\"data_source\":{\"id\":\"1942\",\"type\":\"ColumnDataSource\"},\"glyph\":{\"id\":\"1943\",\"type\":\"MultiLine\"},\"hover_glyph\":null,\"muted_glyph\":null,\"nonselection_glyph\":{\"id\":\"1944\",\"type\":\"MultiLine\"},\"selection_glyph\":null,\"view\":{\"id\":\"1946\",\"type\":\"CDSView\"}},\"id\":\"1945\",\"type\":\"GlyphRenderer\"},{\"attributes\":{\"data_source\":{\"id\":\"1932\",\"type\":\"ColumnDataSource\"},\"glyph\":{\"id\":\"1933\",\"type\":\"Circle\"},\"hover_glyph\":null,\"muted_glyph\":null,\"nonselection_glyph\":{\"id\":\"1934\",\"type\":\"Circle\"},\"selection_glyph\":null,\"view\":{\"id\":\"1936\",\"type\":\"CDSView\"}},\"id\":\"1935\",\"type\":\"GlyphRenderer\"}],\"root_ids\":[\"1903\"]},\"title\":\"Bokeh Application\",\"version\":\"1.3.4\"}};\n",
       "  var render_items = [{\"docid\":\"b5653b6e-9f93-41f2-9eff-07a865f1d9df\",\"roots\":{\"1903\":\"16234b64-420a-4fc5-a908-38c8b5830d33\"}}];\n",
       "  root.Bokeh.embed.embed_items_notebook(docs_json, render_items);\n",
       "\n",
       "  }\n",
       "  if (root.Bokeh !== undefined) {\n",
       "    embed_document(root);\n",
       "  } else {\n",
       "    var attempts = 0;\n",
       "    var timer = setInterval(function(root) {\n",
       "      if (root.Bokeh !== undefined) {\n",
       "        embed_document(root);\n",
       "        clearInterval(timer);\n",
       "      }\n",
       "      attempts++;\n",
       "      if (attempts > 100) {\n",
       "        console.log(\"Bokeh: ERROR: Unable to run BokehJS code because BokehJS library is missing\");\n",
       "        clearInterval(timer);\n",
       "      }\n",
       "    }, 10, root)\n",
       "  }\n",
       "})(window);"
      ],
      "application/vnd.bokehjs_exec.v0+json": ""
     },
     "metadata": {
      "application/vnd.bokehjs_exec.v0+json": {
       "id": "1903"
      }
     },
     "output_type": "display_data"
    }
   ],
   "source": [
    "p = plot.plot_error_values(train, \"pre_holiday\", \"Weekly_Sales\", drop_quantile=0.25, \n",
    "                           title=\"Weekly_Sales errors grouped by pre_holiday\", width=350, height=200)\n",
    "show(p)"
   ]
  },
  {
   "cell_type": "markdown",
   "metadata": {},
   "source": [
    "#### After Holiday"
   ]
  },
  {
   "cell_type": "code",
   "execution_count": 25,
   "metadata": {},
   "outputs": [
    {
     "data": {
      "text/plain": [
       "<matplotlib.axes._subplots.AxesSubplot at 0x7f58c9fba390>"
      ]
     },
     "execution_count": 25,
     "metadata": {},
     "output_type": "execute_result"
    },
    {
     "data": {
      "image/png": "[encoded data removed]",
      "text/plain": [
       "<Figure size 360x144 with 1 Axes>"
      ]
     },
     "metadata": {
      "needs_background": "light"
     },
     "output_type": "display_data"
    }
   ],
   "source": [
    "train.groupby(\"pos_holiday\")[\"Weekly_Sales\"].median().plot.bar(title=\"Weekly_Sales AFTER Holidays\", figsize=(5,2))"
   ]
  },
  {
   "cell_type": "code",
   "execution_count": 26,
   "metadata": {},
   "outputs": [
    {
     "data": {
      "text/html": [
       "\n",
       "\n",
       "\n",
       "\n",
       "\n",
       "\n",
       "  <div class=\"bk-root\" id=\"7525e8a3-8952-4841-95ed-85c141d9dfa8\" data-root-id=\"2095\"></div>\n"
      ]
     },
     "metadata": {},
     "output_type": "display_data"
    },
    {
     "data": {
      "application/javascript": [
       "(function(root) {\n",
       "  function embed_document(root) {\n",
       "    \n",
       "  var docs_json = {\"c3353ad4-fd88-4b88-bdf9-13e5a1371f35\":{\"roots\":{\"references\":[{\"attributes\":{\"below\":[{\"id\":\"2106\",\"type\":\"CategoricalAxis\"}],\"center\":[{\"id\":\"2109\",\"type\":\"Grid\"},{\"id\":\"2114\",\"type\":\"Grid\"}],\"left\":[{\"id\":\"2110\",\"type\":\"LinearAxis\"}],\"plot_height\":200,\"plot_width\":350,\"renderers\":[{\"id\":\"2127\",\"type\":\"GlyphRenderer\"},{\"id\":\"2132\",\"type\":\"GlyphRenderer\"},{\"id\":\"2137\",\"type\":\"GlyphRenderer\"}],\"title\":{\"id\":\"2096\",\"type\":\"Title\"},\"toolbar\":{\"id\":\"2119\",\"type\":\"Toolbar\"},\"x_range\":{\"id\":\"2098\",\"type\":\"FactorRange\"},\"x_scale\":{\"id\":\"2102\",\"type\":\"CategoricalScale\"},\"y_range\":{\"id\":\"2100\",\"type\":\"DataRange1d\"},\"y_scale\":{\"id\":\"2104\",\"type\":\"LinearScale\"}},\"id\":\"2095\",\"subtype\":\"Figure\",\"type\":\"Plot\"},{\"attributes\":{\"data_source\":{\"id\":\"2124\",\"type\":\"ColumnDataSource\"},\"glyph\":{\"id\":\"2125\",\"type\":\"Circle\"},\"hover_glyph\":null,\"muted_glyph\":null,\"nonselection_glyph\":{\"id\":\"2126\",\"type\":\"Circle\"},\"selection_glyph\":null,\"view\":{\"id\":\"2128\",\"type\":\"CDSView\"}},\"id\":\"2127\",\"type\":\"GlyphRenderer\"},{\"attributes\":{\"callback\":null,\"data\":{\"x\":[\"False\",\"True\"],\"y\":{\"__ndarray__\":\"2KNwPQrKvUD2KFyPQuq8QA==\",\"dtype\":\"float64\",\"shape\":[2]}},\"selected\":{\"id\":\"2229\",\"type\":\"Selection\"},\"selection_policy\":{\"id\":\"2228\",\"type\":\"UnionRenderers\"}},\"id\":\"2129\",\"type\":\"ColumnDataSource\"},{\"attributes\":{\"ticker\":{\"id\":\"2107\",\"type\":\"CategoricalTicker\"}},\"id\":\"2109\",\"type\":\"Grid\"},{\"attributes\":{\"source\":{\"id\":\"2129\",\"type\":\"ColumnDataSource\"}},\"id\":\"2133\",\"type\":\"CDSView\"},{\"attributes\":{\"dimensions\":\"height\"},\"id\":\"2116\",\"type\":\"WheelZoomTool\"},{\"attributes\":{\"dimension\":1,\"ticker\":{\"id\":\"2111\",\"type\":\"BasicTicker\"}},\"id\":\"2114\",\"type\":\"Grid\"},{\"attributes\":{\"line_alpha\":{\"value\":0.1},\"line_color\":{\"value\":\"#1f77b4\"},\"line_width\":{\"value\":2},\"xs\":{\"field\":\"xs\"},\"ys\":{\"field\":\"ys\"}},\"id\":\"2136\",\"type\":\"MultiLine\"},{\"attributes\":{\"line_color\":{\"value\":\"magenta\"},\"line_width\":{\"value\":2},\"xs\":{\"field\":\"xs\"},\"ys\":{\"field\":\"ys\"}},\"id\":\"2135\",\"type\":\"MultiLine\"},{\"attributes\":{\"fill_alpha\":{\"value\":0.1},\"fill_color\":{\"value\":\"#1f77b4\"},\"line_alpha\":{\"value\":0.1},\"line_color\":{\"value\":\"#1f77b4\"},\"size\":{\"units\":\"screen\",\"value\":10},\"x\":{\"field\":\"x\"},\"y\":{\"field\":\"y\"}},\"id\":\"2126\",\"type\":\"Circle\"},{\"attributes\":{},\"id\":\"2230\",\"type\":\"UnionRenderers\"},{\"attributes\":{\"source\":{\"id\":\"2124\",\"type\":\"ColumnDataSource\"}},\"id\":\"2128\",\"type\":\"CDSView\"},{\"attributes\":{\"fill_color\":{\"value\":\"navy\"},\"line_alpha\":{\"value\":0},\"line_color\":{\"value\":\"navy\"},\"size\":{\"units\":\"screen\",\"value\":10},\"x\":{\"field\":\"x\"},\"y\":{\"field\":\"y\"}},\"id\":\"2125\",\"type\":\"Circle\"},{\"attributes\":{},\"id\":\"2229\",\"type\":\"Selection\"},{\"attributes\":{\"data_source\":{\"id\":\"2129\",\"type\":\"ColumnDataSource\"},\"glyph\":{\"id\":\"2130\",\"type\":\"Circle\"},\"hover_glyph\":null,\"muted_glyph\":null,\"nonselection_glyph\":{\"id\":\"2131\",\"type\":\"Circle\"},\"selection_glyph\":null,\"view\":{\"id\":\"2133\",\"type\":\"CDSView\"}},\"id\":\"2132\",\"type\":\"GlyphRenderer\"},{\"attributes\":{\"callback\":null,\"factors\":[\"False\",\"True\"]},\"id\":\"2098\",\"type\":\"FactorRange\"},{\"attributes\":{},\"id\":\"2231\",\"type\":\"Selection\"},{\"attributes\":{\"text\":\"Weekly_Sales errors grouped by pos_holiday\"},\"id\":\"2096\",\"type\":\"Title\"},{\"attributes\":{},\"id\":\"2104\",\"type\":\"LinearScale\"},{\"attributes\":{\"axis_label\":\"Weekly_Sales\",\"formatter\":{\"id\":\"2225\",\"type\":\"BasicTickFormatter\"},\"ticker\":{\"id\":\"2111\",\"type\":\"BasicTicker\"}},\"id\":\"2110\",\"type\":\"LinearAxis\"},{\"attributes\":{\"fill_alpha\":{\"value\":0.1},\"fill_color\":{\"value\":\"#1f77b4\"},\"line_alpha\":{\"value\":0.1},\"line_color\":{\"value\":\"#1f77b4\"},\"size\":{\"units\":\"screen\",\"value\":5},\"x\":{\"field\":\"x\"},\"y\":{\"field\":\"y\"}},\"id\":\"2131\",\"type\":\"Circle\"},{\"attributes\":{\"callback\":null},\"id\":\"2100\",\"type\":\"DataRange1d\"},{\"attributes\":{\"axis_label\":\"pos_holiday\",\"formatter\":{\"id\":\"2223\",\"type\":\"CategoricalTickFormatter\"},\"ticker\":{\"id\":\"2107\",\"type\":\"CategoricalTicker\"}},\"id\":\"2106\",\"type\":\"CategoricalAxis\"},{\"attributes\":{},\"id\":\"2223\",\"type\":\"CategoricalTickFormatter\"},{\"attributes\":{},\"id\":\"2226\",\"type\":\"UnionRenderers\"},{\"attributes\":{},\"id\":\"2227\",\"type\":\"Selection\"},{\"attributes\":{\"data_source\":{\"id\":\"2134\",\"type\":\"ColumnDataSource\"},\"glyph\":{\"id\":\"2135\",\"type\":\"MultiLine\"},\"hover_glyph\":null,\"muted_glyph\":null,\"nonselection_glyph\":{\"id\":\"2136\",\"type\":\"MultiLine\"},\"selection_glyph\":null,\"view\":{\"id\":\"2138\",\"type\":\"CDSView\"}},\"id\":\"2137\",\"type\":\"GlyphRenderer\"},{\"attributes\":{},\"id\":\"2118\",\"type\":\"SaveTool\"},{\"attributes\":{},\"id\":\"2117\",\"type\":\"ResetTool\"},{\"attributes\":{},\"id\":\"2107\",\"type\":\"CategoricalTicker\"},{\"attributes\":{},\"id\":\"2225\",\"type\":\"BasicTickFormatter\"},{\"attributes\":{},\"id\":\"2228\",\"type\":\"UnionRenderers\"},{\"attributes\":{\"fill_color\":{\"value\":\"magenta\"},\"line_alpha\":{\"value\":0},\"line_color\":{\"value\":\"magenta\"},\"size\":{\"units\":\"screen\",\"value\":5},\"x\":{\"field\":\"x\"},\"y\":{\"field\":\"y\"}},\"id\":\"2130\",\"type\":\"Circle\"},{\"attributes\":{\"active_drag\":\"auto\",\"active_inspect\":\"auto\",\"active_multi\":null,\"active_scroll\":\"auto\",\"active_tap\":\"auto\",\"tools\":[{\"id\":\"2115\",\"type\":\"PanTool\"},{\"id\":\"2116\",\"type\":\"WheelZoomTool\"},{\"id\":\"2117\",\"type\":\"ResetTool\"},{\"id\":\"2118\",\"type\":\"SaveTool\"}]},\"id\":\"2119\",\"type\":\"Toolbar\"},{\"attributes\":{},\"id\":\"2102\",\"type\":\"CategoricalScale\"},{\"attributes\":{\"callback\":null,\"data\":{\"xs\":[[\"False\",\"False\"],[\"True\",\"True\"]],\"ys\":[[2081.82,20256.335],[2055.2,19554.4]]},\"selected\":{\"id\":\"2231\",\"type\":\"Selection\"},\"selection_policy\":{\"id\":\"2230\",\"type\":\"UnionRenderers\"}},\"id\":\"2134\",\"type\":\"ColumnDataSource\"},{\"attributes\":{},\"id\":\"2111\",\"type\":\"BasicTicker\"},{\"attributes\":{},\"id\":\"2115\",\"type\":\"PanTool\"},{\"attributes\":{\"callback\":null,\"data\":{\"x\":[\"False\",\"True\"],\"y\":{\"__ndarray__\":\"2KNwPQrKvUD2KFyPQuq8QA==\",\"dtype\":\"float64\",\"shape\":[2]}},\"selected\":{\"id\":\"2227\",\"type\":\"Selection\"},\"selection_policy\":{\"id\":\"2226\",\"type\":\"UnionRenderers\"}},\"id\":\"2124\",\"type\":\"ColumnDataSource\"},{\"attributes\":{\"source\":{\"id\":\"2134\",\"type\":\"ColumnDataSource\"}},\"id\":\"2138\",\"type\":\"CDSView\"}],\"root_ids\":[\"2095\"]},\"title\":\"Bokeh Application\",\"version\":\"1.3.4\"}};\n",
       "  var render_items = [{\"docid\":\"c3353ad4-fd88-4b88-bdf9-13e5a1371f35\",\"roots\":{\"2095\":\"7525e8a3-8952-4841-95ed-85c141d9dfa8\"}}];\n",
       "  root.Bokeh.embed.embed_items_notebook(docs_json, render_items);\n",
       "\n",
       "  }\n",
       "  if (root.Bokeh !== undefined) {\n",
       "    embed_document(root);\n",
       "  } else {\n",
       "    var attempts = 0;\n",
       "    var timer = setInterval(function(root) {\n",
       "      if (root.Bokeh !== undefined) {\n",
       "        embed_document(root);\n",
       "        clearInterval(timer);\n",
       "      }\n",
       "      attempts++;\n",
       "      if (attempts > 100) {\n",
       "        console.log(\"Bokeh: ERROR: Unable to run BokehJS code because BokehJS library is missing\");\n",
       "        clearInterval(timer);\n",
       "      }\n",
       "    }, 10, root)\n",
       "  }\n",
       "})(window);"
      ],
      "application/vnd.bokehjs_exec.v0+json": ""
     },
     "metadata": {
      "application/vnd.bokehjs_exec.v0+json": {
       "id": "2095"
      }
     },
     "output_type": "display_data"
    }
   ],
   "source": [
    "p = plot.plot_error_values(train, \"pos_holiday\", \"Weekly_Sales\", drop_quantile=0.25, \n",
    "                           title=\"Weekly_Sales errors grouped by pos_holiday\", width=350, height=200)\n",
    "show(p)"
   ]
  },
  {
   "cell_type": "markdown",
   "metadata": {},
   "source": [
    "# <font color=\"navy\">Fuel_Price</font>"
   ]
  },
  {
   "cell_type": "code",
   "execution_count": 27,
   "metadata": {},
   "outputs": [
    {
     "data": {
      "text/plain": [
       "<matplotlib.axes._subplots.AxesSubplot at 0x7f58c9f06c50>"
      ]
     },
     "execution_count": 27,
     "metadata": {},
     "output_type": "execute_result"
    },
    {
     "data": {
      "image/png": "[encoded data removed]",
      "text/plain": [
       "<Figure size 432x288 with 1 Axes>"
      ]
     },
     "metadata": {
      "needs_background": "light"
     },
     "output_type": "display_data"
    }
   ],
   "source": [
    "train.groupby([\"Store\", \"wm_date\"]).apply(lambda g : g[\"Fuel_Price\"].corr(g[\"Weekly_Sales\"])).hist(bins=20)"
   ]
  },
  {
   "cell_type": "markdown",
   "metadata": {},
   "source": [
    "It seems that Fuel_Price variation for the same date over years is not strong related to Weekly_Sales variation"
   ]
  },
  {
   "cell_type": "markdown",
   "metadata": {},
   "source": [
    "# <font color=\"navy\">CPI</font>"
   ]
  },
  {
   "cell_type": "code",
   "execution_count": 28,
   "metadata": {},
   "outputs": [
    {
     "data": {
      "text/plain": [
       "<matplotlib.axes._subplots.AxesSubplot at 0x7f58c9e94790>"
      ]
     },
     "execution_count": 28,
     "metadata": {},
     "output_type": "execute_result"
    },
    {
     "data": {
      "image/png": "[encoded data removed]",
      "text/plain": [
       "<Figure size 432x288 with 1 Axes>"
      ]
     },
     "metadata": {
      "needs_background": "light"
     },
     "output_type": "display_data"
    }
   ],
   "source": [
    "train.groupby([\"Store\", \"wm_date\"]).apply(lambda g : g[\"CPI\"].corr(g[\"Weekly_Sales\"])).hist(bins=20)"
   ]
  },
  {
   "cell_type": "markdown",
   "metadata": {},
   "source": [
    "It seems that Fuel_Price variation for the same date over years is not strong related to Weekly_Sales variation"
   ]
  },
  {
   "cell_type": "markdown",
   "metadata": {},
   "source": [
    "# <font color=\"navy\">Unemployment</font>"
   ]
  },
  {
   "cell_type": "code",
   "execution_count": 29,
   "metadata": {},
   "outputs": [
    {
     "data": {
      "text/plain": [
       "<matplotlib.axes._subplots.AxesSubplot at 0x7f58c0b58f10>"
      ]
     },
     "execution_count": 29,
     "metadata": {},
     "output_type": "execute_result"
    },
    {
     "data": {
      "image/png": "[encoded data removed]",
      "text/plain": [
       "<Figure size 432x288 with 1 Axes>"
      ]
     },
     "metadata": {
      "needs_background": "light"
     },
     "output_type": "display_data"
    }
   ],
   "source": [
    "train.groupby([\"Store\", \"wm_date\"]).apply(lambda g : g[\"Unemployment\"].corr(g[\"Weekly_Sales\"])).hist(bins=20)"
   ]
  },
  {
   "cell_type": "markdown",
   "metadata": {},
   "source": [
    "It seems that Fuel_Price variation for the same date over years is not strong related to Weekly_Sales variation"
   ]
  },
  {
   "cell_type": "code",
   "execution_count": null,
   "metadata": {},
   "outputs": [],
   "source": []
  },
  {
   "cell_type": "code",
   "execution_count": null,
   "metadata": {},
   "outputs": [],
   "source": []
  },
  {
   "cell_type": "markdown",
   "metadata": {},
   "source": [
    "# <font color=\"navy\">Temperature</font>"
   ]
  },
  {
   "cell_type": "code",
   "execution_count": 30,
   "metadata": {},
   "outputs": [
    {
     "data": {
      "text/plain": [
       "<matplotlib.axes._subplots.AxesSubplot at 0x7f58c9ddfa50>"
      ]
     },
     "execution_count": 30,
     "metadata": {},
     "output_type": "execute_result"
    },
    {
     "data": {
      "image/png": "[encoded data removed]",
      "text/plain": [
       "<Figure size 432x288 with 1 Axes>"
      ]
     },
     "metadata": {
      "needs_background": "light"
     },
     "output_type": "display_data"
    }
   ],
   "source": [
    "train.plot.scatter(\"celsius\", \"Weekly_Sales\")"
   ]
  },
  {
   "cell_type": "code",
   "execution_count": 31,
   "metadata": {},
   "outputs": [
    {
     "name": "stderr",
     "output_type": "stream",
     "text": [
      "/home/tales/anaconda3/lib/python3.7/site-packages/bokeh/plotting/helpers.py:628: UserWarning: WheelZoomTool are being repeated\n",
      "  warnings.warn(\"%s are being repeated\" % \",\".join(repeated_tools))\n"
     ]
    },
    {
     "data": {
      "text/html": [
       "\n",
       "\n",
       "\n",
       "\n",
       "\n",
       "\n",
       "  <div class=\"bk-root\" id=\"73be04ba-84e0-4ac1-ab92-85732f225f94\" data-root-id=\"2298\"></div>\n"
      ]
     },
     "metadata": {},
     "output_type": "display_data"
    },
    {
     "data": {
      "application/javascript": [
       "(function(root) {\n",
       "  function embed_document(root) {\n",
       "    \n",
       "  var docs_json = {\"a3950f34-5922-4b62-af07-48583863c6a2\":{\"roots\":{\"references\":[{\"attributes\":{\"below\":[{\"id\":\"2309\",\"type\":\"DatetimeAxis\"}],\"center\":[{\"id\":\"2313\",\"type\":\"Grid\"},{\"id\":\"2318\",\"type\":\"Grid\"}],\"left\":[{\"id\":\"2314\",\"type\":\"LinearAxis\"}],\"plot_height\":200,\"plot_width\":900,\"renderers\":[{\"id\":\"2335\",\"type\":\"GlyphRenderer\"},{\"id\":\"2340\",\"type\":\"GlyphRenderer\"}],\"title\":{\"id\":\"2299\",\"type\":\"Title\"},\"toolbar\":{\"id\":\"2324\",\"type\":\"Toolbar\"},\"x_range\":{\"id\":\"2301\",\"type\":\"DataRange1d\"},\"x_scale\":{\"id\":\"2305\",\"type\":\"LinearScale\"},\"y_range\":{\"id\":\"2303\",\"type\":\"DataRange1d\"},\"y_scale\":{\"id\":\"2307\",\"type\":\"LinearScale\"}},\"id\":\"2298\",\"subtype\":\"Figure\",\"type\":\"Plot\"},{\"attributes\":{\"callback\":null},\"id\":\"2301\",\"type\":\"DataRange1d\"},{\"attributes\":{\"formatter\":{\"id\":\"2438\",\"type\":\"BasicTickFormatter\"},\"ticker\":{\"id\":\"2315\",\"type\":\"BasicTicker\"}},\"id\":\"2314\",\"type\":\"LinearAxis\"},{\"attributes\":{\"formatter\":{\"id\":\"2330\",\"type\":\"DatetimeTickFormatter\"},\"ticker\":{\"id\":\"2310\",\"type\":\"DatetimeTicker\"}},\"id\":\"2309\",\"type\":\"DatetimeAxis\"},{\"attributes\":{\"line_alpha\":0.8,\"line_color\":\"magenta\",\"x\":{\"field\":\"x\"},\"y\":{\"field\":\"y\"}},\"id\":\"2338\",\"type\":\"Line\"},{\"attributes\":{\"days\":[1,4,7,10,13,16,19,22,25,28]},\"id\":\"2443\",\"type\":\"DaysTicker\"},{\"attributes\":{\"fill_alpha\":{\"value\":0.8},\"fill_color\":{\"value\":\"magenta\"},\"line_alpha\":{\"value\":0.8},\"line_color\":{\"value\":\"magenta\"},\"size\":{\"units\":\"screen\",\"value\":3},\"x\":{\"field\":\"x\"},\"y\":{\"field\":\"y\"}},\"id\":\"2333\",\"type\":\"Circle\"},{\"attributes\":{\"months\":[0,2,4,6,8,10]},\"id\":\"2447\",\"type\":\"MonthsTicker\"},{\"attributes\":{\"num_minor_ticks\":5,\"tickers\":[{\"id\":\"2439\",\"type\":\"AdaptiveTicker\"},{\"id\":\"2440\",\"type\":\"AdaptiveTicker\"},{\"id\":\"2441\",\"type\":\"AdaptiveTicker\"},{\"id\":\"2442\",\"type\":\"DaysTicker\"},{\"id\":\"2443\",\"type\":\"DaysTicker\"},{\"id\":\"2444\",\"type\":\"DaysTicker\"},{\"id\":\"2445\",\"type\":\"DaysTicker\"},{\"id\":\"2446\",\"type\":\"MonthsTicker\"},{\"id\":\"2447\",\"type\":\"MonthsTicker\"},{\"id\":\"2448\",\"type\":\"MonthsTicker\"},{\"id\":\"2449\",\"type\":\"MonthsTicker\"},{\"id\":\"2450\",\"type\":\"YearsTicker\"}]},\"id\":\"2310\",\"type\":\"DatetimeTicker\"},{\"attributes\":{\"days\":[1,2,3,4,5,6,7,8,9,10,11,12,13,14,15,16,17,18,19,20,21,22,23,24,25,26,27,28,29,30,31]},\"id\":\"2442\",\"type\":\"DaysTicker\"},{\"attributes\":{},\"id\":\"2452\",\"type\":\"Selection\"},{\"attributes\":{\"days\":[1,8,15,22]},\"id\":\"2444\",\"type\":\"DaysTicker\"},{\"attributes\":{\"days\":[1,15]},\"id\":\"2445\",\"type\":\"DaysTicker\"},{\"attributes\":{\"ticker\":{\"id\":\"2310\",\"type\":\"DatetimeTicker\"}},\"id\":\"2313\",\"type\":\"Grid\"},{\"attributes\":{},\"id\":\"2438\",\"type\":\"BasicTickFormatter\"},{\"attributes\":{\"months\":[0,1,2,3,4,5,6,7,8,9,10,11]},\"id\":\"2446\",\"type\":\"MonthsTicker\"},{\"attributes\":{\"dimension\":1,\"ticker\":{\"id\":\"2315\",\"type\":\"BasicTicker\"}},\"id\":\"2318\",\"type\":\"Grid\"},{\"attributes\":{},\"id\":\"2322\",\"type\":\"ResetTool\"},{\"attributes\":{\"fill_alpha\":{\"value\":0.1},\"fill_color\":{\"value\":\"#1f77b4\"},\"line_alpha\":{\"value\":0.1},\"line_color\":{\"value\":\"#1f77b4\"},\"size\":{\"units\":\"screen\",\"value\":3},\"x\":{\"field\":\"x\"},\"y\":{\"field\":\"y\"}},\"id\":\"2334\",\"type\":\"Circle\"},{\"attributes\":{},\"id\":\"2454\",\"type\":\"Selection\"},{\"attributes\":{\"callback\":null},\"id\":\"2303\",\"type\":\"DataRange1d\"},{\"attributes\":{\"months\":[0,6]},\"id\":\"2449\",\"type\":\"MonthsTicker\"},{\"attributes\":{},\"id\":\"2450\",\"type\":\"YearsTicker\"},{\"attributes\":{},\"id\":\"2319\",\"type\":\"PanTool\"},{\"attributes\":{\"callback\":null,\"data\":{\"x\":{\"__ndarray__\":\"AADA0LZpckIAAACZ92tyQgAAQGE4bnJCAACAKXlwckIAAMDxuXJyQgAAALr6dHJCAABAgjt3ckIAAIBKfHlyQgAAwBK9e3JCAAAA2/19ckIAAECjPoByQgAAgGt/gnJCAADAM8CEckIAAAD8AIdyQgAAQMRBiXJCAACAjIKLckIAAMBUw41yQgAAAB0EkHJCAABA5USSckIAAICthZRyQgAAwHXGlnJCAAAAPgeZckIAAEAGSJtyQgAAgM6InXJCAADAlsmfckIAAABfCqJyQgAAQCdLpHJCAACA74umckIAAMC3zKhyQgAAAIANq3JCAABASE6tckIAAIAQj69yQgAAwNjPsXJCAAAAoRC0ckIAAEBpUbZyQgAAgDGSuHJCAADA+dK6ckIAAADCE71yQgAAQIpUv3JCAACAUpXBckIAAMAa1sNyQgAAAOMWxnJCAABAq1fIckIAAIBzmMpyQgAAwDvZzHJCAAAABBrPckIAAEDMWtFyQgAAgJSb03JCAADAXNzVckIAAAAlHdhyQgAAQO1d2nJCAACAtZ7cckIAAMB9395yQgAAAEYg4XJCAABADmHjckIAAIDWoeVyQgAAwJ7i53JCAAAAZyPqckIAAEAvZOxyQgAAgPek7nJCAADAv+XwckIAAACIJvNyQgAAQFBn9XJCAACAGKj3ckIAAMDg6PlyQgAAAKkp/HJCAABAcWr+ckIAAIA5qwBzQgAAwAHsAnNCAAAAyiwFc0IAAECSbQdzQgAAgFquCXNCAADAIu8Lc0IAAADrLw5zQgAAQLNwEHNCAACAe7ESc0IAAMBD8hRzQgAAAAwzF3NCAABA1HMZc0IAAICctBtzQgAAwGT1HXNCAAAALTYgc0IAAED1diJzQgAAgL23JHNCAADAhfgmc0IAAABOOSlzQgAAQBZ6K3NCAACA3rotc0IAAMCm+y9zQgAAAG88MnNCAABAN300c0IAAID/vTZzQgAAwMf+OHNCAAAAkD87c0IAAEBYgD1zQgAAgCDBP3NCAADA6AFCc0IAAACxQkRzQgAAQHmDRnNCAACAQcRIc0IAAMAJBUtzQgAAANJFTXNCAABAmoZPc0IAAIBix1FzQgAAwCoIVHNCAAAA80hWc0IAAEC7iVhzQgAAgIPKWnNCAADASwtdc0IAAAAUTF9zQgAAQNyMYXNCAACApM1jc0IAAMBsDmZzQgAAADVPaHNCAABA/Y9qc0IAAIDF0GxzQgAAwI0Rb3NCAAAAVlJxc0IAAEAek3NzQgAAgObTdXNCAADArhR4c0IAAAB3VXpzQgAAQD+WfHNCAACAB9d+c0IAAMDPF4FzQgAAAJhYg3NCAABAYJmFc0IAAIAo2odzQgAAwPAainNCAAAAuVuMc0IAAECBnI5zQgAAgEndkHNCAADAER6Tc0IAAADaXpVzQgAAQKKfl3NCAACAauCZc0IAAMAyIZxzQgAAAPthnnNCAABAw6Kgc0IAAICL46JzQgAAwFMkpXNCAAAAHGWnc0IAAEDkpalzQg==\",\"dtype\":\"float64\",\"shape\":[143]},\"y\":{\"__ndarray__\":\"XLAFW7AF8z/kSZ/0SZ/kPyDHcRzHcQBAchzHcRzHAUCN4ziO4zgTQA4RERERER9AfNInfdKnIkBlZmZmZmYlQCQiIiIioiJA+6RP+qRPMECJiIiIiAgqQJ70SZ/0SSpAHMdxHMfxJ0CIiIiIiIgzQBARERERkSpAUPqkT/pkMUBJn/RJn7Q0QOuTPumTfjdAbMEWbMGWNUASEREREZE2QJ70SZ/0STpAiYiIiIjIOEDGcRzHcdw6QDQzMzMzszlAiYiIiIiIO0C2YAu2YIs6QAAAAAAAQDlAmZmZmZmZOUAjIiIiIqI4QIQt2IIt2DdALtiCLdjCOUCELdiCLZg1QLEFW7AFWzNAP+mTPulTNEClT/qkT7o0QNMnfdInPTFAB1uwBVswLkB90id90qcrQPVJn/RJHzBAS5/0SZ/0I0DCFmzBFmwfQEuf9Emf9CNAzczMzMxMIEDOzMzMzMwVQOuTPumTPgVAbMEWbMEWAkBuHMdxHMf5P1wLtmALtvS/MtiCLdiC9T8BAAAAAAAMwDKO4ziO4/g/J33SJ33S9z9XVVVVVVX9v+c4juM4juu/V1VVVVVVGEDOzMzMzMwAQODd3d3d3Q9Akj7pkz7pHECe9Emf9EkgQFZVVVVVVSBALNiCLdiCHEDZgi3Ygq0iQJmZmZmZGShAC7ZgC7ZgJ0BKn/RJnzQxQPVJn/RJHy1A+qRP+qTPMEAofdInfdIwQBzHcRzH8TRA2YIt2IJtN0BEREREREQ3QLu7u7u7uzRA4ziO4zjON0Drkz7pk343QFuwBVuwRTlAERERERHROUBgC7ZgC/Y7QFD6pE/6ZDtA2IIt2IKtOUAAAAAAAAA5QCl90id90jhAvLu7u7t7O0AAAAAAAAA5QAy2YAu2oDVAZ2ZmZmamNEA5juM4jqMxQPVJn/RJnzVAzMzMzMzML0DYgi3Ygq0xQAVbsAVbsC5ALtiCLdgCJkAnfdInfdIcQFuwBVuwBSJA1Cd90id9JUC8u7u7u7shQD7pkz7pkyJABFuwBVuwFUD0SZ/0SZ8RQPykT/qkTxVAu7u7u7u7CUDHcRzHcRwFQGZmZmZmZhRAmZmZmZmZBUCwBVuwBVsKQA22YAu2YBdAjuM4juM4BkCi9Emf9EkHQFH6pE/6pBVAjOM4juM4FUC5YAu2YAseQHIcx3EcxyZABVuwBVuwLEBFRERERMQqQH7SJ33SpyVAd3d3d3d3JkC2YAu2YEsxQI7jOI7jODJAP+mTPukTMUD1SZ/0SZ8wQNmCLdiCbTJAJCIiIiIiNUCbmZmZmZk3QOmTPumTvjVA8O7u7u4uNkClT/qkT7o4QHIcx3EcxztAsAVbsAVbO0BJn/RJn7Q5QMzMzMzMDDpAZ2ZmZmbmOkBbsAVbsMU7QLAFW7AFmztAVlVVVVVVOkBJn/RJnzQ3QC7Ygi3YgjhAUPqkT/qkOEDkOI7jOE40QMAWbMEWbDNAoPRJn/RJMkDkOI7jOA4yQAAAAAAAACpAF2zBFmxBK0DUJ33SJ/0tQA==\",\"dtype\":\"float64\",\"shape\":[143]}},\"selected\":{\"id\":\"2452\",\"type\":\"Selection\"},\"selection_policy\":{\"id\":\"2451\",\"type\":\"UnionRenderers\"}},\"id\":\"2332\",\"type\":\"ColumnDataSource\"},{\"attributes\":{\"callback\":null,\"data\":{\"x\":{\"__ndarray__\":\"AADA0LZpckIAAACZ92tyQgAAQGE4bnJCAACAKXlwckIAAMDxuXJyQgAAALr6dHJCAABAgjt3ckIAAIBKfHlyQgAAwBK9e3JCAAAA2/19ckIAAECjPoByQgAAgGt/gnJCAADAM8CEckIAAAD8AIdyQgAAQMRBiXJCAACAjIKLckIAAMBUw41yQgAAAB0EkHJCAABA5USSckIAAICthZRyQgAAwHXGlnJCAAAAPgeZckIAAEAGSJtyQgAAgM6InXJCAADAlsmfckIAAABfCqJyQgAAQCdLpHJCAACA74umckIAAMC3zKhyQgAAAIANq3JCAABASE6tckIAAIAQj69yQgAAwNjPsXJCAAAAoRC0ckIAAEBpUbZyQgAAgDGSuHJCAADA+dK6ckIAAADCE71yQgAAQIpUv3JCAACAUpXBckIAAMAa1sNyQgAAAOMWxnJCAABAq1fIckIAAIBzmMpyQgAAwDvZzHJCAAAABBrPckIAAEDMWtFyQgAAgJSb03JCAADAXNzVckIAAAAlHdhyQgAAQO1d2nJCAACAtZ7cckIAAMB9395yQgAAAEYg4XJCAABADmHjckIAAIDWoeVyQgAAwJ7i53JCAAAAZyPqckIAAEAvZOxyQgAAgPek7nJCAADAv+XwckIAAACIJvNyQgAAQFBn9XJCAACAGKj3ckIAAMDg6PlyQgAAAKkp/HJCAABAcWr+ckIAAIA5qwBzQgAAwAHsAnNCAAAAyiwFc0IAAECSbQdzQgAAgFquCXNCAADAIu8Lc0IAAADrLw5zQgAAQLNwEHNCAACAe7ESc0IAAMBD8hRzQgAAAAwzF3NCAABA1HMZc0IAAICctBtzQgAAwGT1HXNCAAAALTYgc0IAAED1diJzQgAAgL23JHNCAADAhfgmc0IAAABOOSlzQgAAQBZ6K3NCAACA3rotc0IAAMCm+y9zQgAAAG88MnNCAABAN300c0IAAID/vTZzQgAAwMf+OHNCAAAAkD87c0IAAEBYgD1zQgAAgCDBP3NCAADA6AFCc0IAAACxQkRzQgAAQHmDRnNCAACAQcRIc0IAAMAJBUtzQgAAANJFTXNCAABAmoZPc0IAAIBix1FzQgAAwCoIVHNCAAAA80hWc0IAAEC7iVhzQgAAgIPKWnNCAADASwtdc0IAAAAUTF9zQgAAQNyMYXNCAACApM1jc0IAAMBsDmZzQgAAADVPaHNCAABA/Y9qc0IAAIDF0GxzQgAAwI0Rb3NCAAAAVlJxc0IAAEAek3NzQgAAgObTdXNCAADArhR4c0IAAAB3VXpzQgAAQD+WfHNCAACAB9d+c0IAAMDPF4FzQgAAAJhYg3NCAABAYJmFc0IAAIAo2odzQgAAwPAainNCAAAAuVuMc0IAAECBnI5zQgAAgEndkHNCAADAER6Tc0IAAADaXpVzQgAAQKKfl3NCAACAauCZc0IAAMAyIZxzQgAAAPthnnNCAABAw6Kgc0IAAICL46JzQgAAwFMkpXNCAAAAHGWnc0IAAEDkpalzQg==\",\"dtype\":\"float64\",\"shape\":[143]},\"y\":{\"__ndarray__\":\"XLAFW7AF8z/kSZ/0SZ/kPyDHcRzHcQBAchzHcRzHAUCN4ziO4zgTQA4RERERER9AfNInfdKnIkBlZmZmZmYlQCQiIiIioiJA+6RP+qRPMECJiIiIiAgqQJ70SZ/0SSpAHMdxHMfxJ0CIiIiIiIgzQBARERERkSpAUPqkT/pkMUBJn/RJn7Q0QOuTPumTfjdAbMEWbMGWNUASEREREZE2QJ70SZ/0STpAiYiIiIjIOEDGcRzHcdw6QDQzMzMzszlAiYiIiIiIO0C2YAu2YIs6QAAAAAAAQDlAmZmZmZmZOUAjIiIiIqI4QIQt2IIt2DdALtiCLdjCOUCELdiCLZg1QLEFW7AFWzNAP+mTPulTNEClT/qkT7o0QNMnfdInPTFAB1uwBVswLkB90id90qcrQPVJn/RJHzBAS5/0SZ/0I0DCFmzBFmwfQEuf9Emf9CNAzczMzMxMIEDOzMzMzMwVQOuTPumTPgVAbMEWbMEWAkBuHMdxHMf5P1wLtmALtvS/MtiCLdiC9T8BAAAAAAAMwDKO4ziO4/g/J33SJ33S9z9XVVVVVVX9v+c4juM4juu/V1VVVVVVGEDOzMzMzMwAQODd3d3d3Q9Akj7pkz7pHECe9Emf9EkgQFZVVVVVVSBALNiCLdiCHEDZgi3Ygq0iQJmZmZmZGShAC7ZgC7ZgJ0BKn/RJnzQxQPVJn/RJHy1A+qRP+qTPMEAofdInfdIwQBzHcRzH8TRA2YIt2IJtN0BEREREREQ3QLu7u7u7uzRA4ziO4zjON0Drkz7pk343QFuwBVuwRTlAERERERHROUBgC7ZgC/Y7QFD6pE/6ZDtA2IIt2IKtOUAAAAAAAAA5QCl90id90jhAvLu7u7t7O0AAAAAAAAA5QAy2YAu2oDVAZ2ZmZmamNEA5juM4jqMxQPVJn/RJnzVAzMzMzMzML0DYgi3Ygq0xQAVbsAVbsC5ALtiCLdgCJkAnfdInfdIcQFuwBVuwBSJA1Cd90id9JUC8u7u7u7shQD7pkz7pkyJABFuwBVuwFUD0SZ/0SZ8RQPykT/qkTxVAu7u7u7u7CUDHcRzHcRwFQGZmZmZmZhRAmZmZmZmZBUCwBVuwBVsKQA22YAu2YBdAjuM4juM4BkCi9Emf9EkHQFH6pE/6pBVAjOM4juM4FUC5YAu2YAseQHIcx3EcxyZABVuwBVuwLEBFRERERMQqQH7SJ33SpyVAd3d3d3d3JkC2YAu2YEsxQI7jOI7jODJAP+mTPukTMUD1SZ/0SZ8wQNmCLdiCbTJAJCIiIiIiNUCbmZmZmZk3QOmTPumTvjVA8O7u7u4uNkClT/qkT7o4QHIcx3EcxztAsAVbsAVbO0BJn/RJn7Q5QMzMzMzMDDpAZ2ZmZmbmOkBbsAVbsMU7QLAFW7AFmztAVlVVVVVVOkBJn/RJnzQ3QC7Ygi3YgjhAUPqkT/qkOEDkOI7jOE40QMAWbMEWbDNAoPRJn/RJMkDkOI7jOA4yQAAAAAAAACpAF2zBFmxBK0DUJ33SJ/0tQA==\",\"dtype\":\"float64\",\"shape\":[143]}},\"selected\":{\"id\":\"2454\",\"type\":\"Selection\"},\"selection_policy\":{\"id\":\"2453\",\"type\":\"UnionRenderers\"}},\"id\":\"2337\",\"type\":\"ColumnDataSource\"},{\"attributes\":{},\"id\":\"2453\",\"type\":\"UnionRenderers\"},{\"attributes\":{\"dimensions\":\"height\"},\"id\":\"2320\",\"type\":\"WheelZoomTool\"},{\"attributes\":{\"source\":{\"id\":\"2332\",\"type\":\"ColumnDataSource\"}},\"id\":\"2336\",\"type\":\"CDSView\"},{\"attributes\":{\"data_source\":{\"id\":\"2337\",\"type\":\"ColumnDataSource\"},\"glyph\":{\"id\":\"2338\",\"type\":\"Line\"},\"hover_glyph\":null,\"muted_glyph\":null,\"nonselection_glyph\":{\"id\":\"2339\",\"type\":\"Line\"},\"selection_glyph\":null,\"view\":{\"id\":\"2341\",\"type\":\"CDSView\"}},\"id\":\"2340\",\"type\":\"GlyphRenderer\"},{\"attributes\":{},\"id\":\"2307\",\"type\":\"LinearScale\"},{\"attributes\":{\"dimensions\":\"width\"},\"id\":\"2321\",\"type\":\"WheelZoomTool\"},{\"attributes\":{},\"id\":\"2315\",\"type\":\"BasicTicker\"},{\"attributes\":{\"source\":{\"id\":\"2337\",\"type\":\"ColumnDataSource\"}},\"id\":\"2341\",\"type\":\"CDSView\"},{\"attributes\":{\"base\":60,\"mantissas\":[1,2,5,10,15,20,30],\"max_interval\":1800000.0,\"min_interval\":1000.0,\"num_minor_ticks\":0},\"id\":\"2440\",\"type\":\"AdaptiveTicker\"},{\"attributes\":{},\"id\":\"2451\",\"type\":\"UnionRenderers\"},{\"attributes\":{\"active_drag\":\"auto\",\"active_inspect\":\"auto\",\"active_multi\":null,\"active_scroll\":\"auto\",\"active_tap\":\"auto\",\"tools\":[{\"id\":\"2319\",\"type\":\"PanTool\"},{\"id\":\"2320\",\"type\":\"WheelZoomTool\"},{\"id\":\"2321\",\"type\":\"WheelZoomTool\"},{\"id\":\"2322\",\"type\":\"ResetTool\"},{\"id\":\"2323\",\"type\":\"SaveTool\"}]},\"id\":\"2324\",\"type\":\"Toolbar\"},{\"attributes\":{\"data_source\":{\"id\":\"2332\",\"type\":\"ColumnDataSource\"},\"glyph\":{\"id\":\"2333\",\"type\":\"Circle\"},\"hover_glyph\":null,\"muted_glyph\":null,\"nonselection_glyph\":{\"id\":\"2334\",\"type\":\"Circle\"},\"selection_glyph\":null,\"view\":{\"id\":\"2336\",\"type\":\"CDSView\"}},\"id\":\"2335\",\"type\":\"GlyphRenderer\"},{\"attributes\":{\"mantissas\":[1,2,5],\"max_interval\":500.0,\"num_minor_ticks\":0},\"id\":\"2439\",\"type\":\"AdaptiveTicker\"},{\"attributes\":{\"base\":24,\"mantissas\":[1,2,4,6,8,12],\"max_interval\":43200000.0,\"min_interval\":3600000.0,\"num_minor_ticks\":0},\"id\":\"2441\",\"type\":\"AdaptiveTicker\"},{\"attributes\":{},\"id\":\"2305\",\"type\":\"LinearScale\"},{\"attributes\":{\"text\":\"Temperature vs Datetime\"},\"id\":\"2299\",\"type\":\"Title\"},{\"attributes\":{\"months\":[0,4,8]},\"id\":\"2448\",\"type\":\"MonthsTicker\"},{\"attributes\":{\"line_alpha\":0.1,\"line_color\":\"#1f77b4\",\"x\":{\"field\":\"x\"},\"y\":{\"field\":\"y\"}},\"id\":\"2339\",\"type\":\"Line\"},{\"attributes\":{},\"id\":\"2323\",\"type\":\"SaveTool\"},{\"attributes\":{\"days\":[\"%d/%b\"],\"hours\":[\"%H:%M %d/%b\"],\"months\":[\"%d/%b/%Y\"],\"years\":[\"%d/%b/%Y\"]},\"id\":\"2330\",\"type\":\"DatetimeTickFormatter\"}],\"root_ids\":[\"2298\"]},\"title\":\"Bokeh Application\",\"version\":\"1.3.4\"}};\n",
       "  var render_items = [{\"docid\":\"a3950f34-5922-4b62-af07-48583863c6a2\",\"roots\":{\"2298\":\"73be04ba-84e0-4ac1-ab92-85732f225f94\"}}];\n",
       "  root.Bokeh.embed.embed_items_notebook(docs_json, render_items);\n",
       "\n",
       "  }\n",
       "  if (root.Bokeh !== undefined) {\n",
       "    embed_document(root);\n",
       "  } else {\n",
       "    var attempts = 0;\n",
       "    var timer = setInterval(function(root) {\n",
       "      if (root.Bokeh !== undefined) {\n",
       "        embed_document(root);\n",
       "        clearInterval(timer);\n",
       "      }\n",
       "      attempts++;\n",
       "      if (attempts > 100) {\n",
       "        console.log(\"Bokeh: ERROR: Unable to run BokehJS code because BokehJS library is missing\");\n",
       "        clearInterval(timer);\n",
       "      }\n",
       "    }, 10, root)\n",
       "  }\n",
       "})(window);"
      ],
      "application/vnd.bokehjs_exec.v0+json": ""
     },
     "metadata": {
      "application/vnd.bokehjs_exec.v0+json": {
       "id": "2298"
      }
     },
     "output_type": "display_data"
    }
   ],
   "source": [
    "grouped_sales = train.groupby(\"Date\")[\"celsius\"].median()\n",
    "p = plot.plot_time_series_count(grouped_sales.index, grouped_sales, color=\"magenta\", title=\"Temperature vs Datetime\", relative_y_axis=True, height=200)\n",
    "show(p)"
   ]
  },
  {
   "cell_type": "code",
   "execution_count": 32,
   "metadata": {},
   "outputs": [
    {
     "data": {
      "text/html": [
       "\n",
       "\n",
       "\n",
       "\n",
       "\n",
       "\n",
       "  <div class=\"bk-root\" id=\"1d29f7f0-1d12-4d44-967d-423a55276d1e\" data-root-id=\"2575\"></div>\n"
      ]
     },
     "metadata": {},
     "output_type": "display_data"
    },
    {
     "data": {
      "application/javascript": [
       "(function(root) {\n",
       "  function embed_document(root) {\n",
       "    \n",
       "  var docs_json = {\"59d2fb41-0fae-494b-a9e0-b6c02ee84690\":{\"roots\":{\"references\":[{\"attributes\":{\"below\":[{\"id\":\"2586\",\"type\":\"DatetimeAxis\"}],\"center\":[{\"id\":\"2590\",\"type\":\"Grid\"},{\"id\":\"2595\",\"type\":\"Grid\"}],\"left\":[{\"id\":\"2591\",\"type\":\"LinearAxis\"}],\"plot_height\":200,\"plot_width\":900,\"renderers\":[{\"id\":\"2612\",\"type\":\"GlyphRenderer\"},{\"id\":\"2617\",\"type\":\"GlyphRenderer\"}],\"title\":{\"id\":\"2576\",\"type\":\"Title\"},\"toolbar\":{\"id\":\"2601\",\"type\":\"Toolbar\"},\"x_range\":{\"id\":\"2578\",\"type\":\"DataRange1d\"},\"x_scale\":{\"id\":\"2582\",\"type\":\"LinearScale\"},\"y_range\":{\"id\":\"2580\",\"type\":\"DataRange1d\"},\"y_scale\":{\"id\":\"2584\",\"type\":\"LinearScale\"}},\"id\":\"2575\",\"subtype\":\"Figure\",\"type\":\"Plot\"},{\"attributes\":{},\"id\":\"2582\",\"type\":\"LinearScale\"},{\"attributes\":{},\"id\":\"2735\",\"type\":\"BasicTickFormatter\"},{\"attributes\":{\"mantissas\":[1,2,5],\"max_interval\":500.0,\"num_minor_ticks\":0},\"id\":\"2736\",\"type\":\"AdaptiveTicker\"},{\"attributes\":{\"fill_alpha\":{\"value\":0.1},\"fill_color\":{\"value\":\"#1f77b4\"},\"line_alpha\":{\"value\":0.1},\"line_color\":{\"value\":\"#1f77b4\"},\"size\":{\"units\":\"screen\",\"value\":3},\"x\":{\"field\":\"x\"},\"y\":{\"field\":\"y\"}},\"id\":\"2611\",\"type\":\"Circle\"},{\"attributes\":{},\"id\":\"2599\",\"type\":\"ResetTool\"},{\"attributes\":{\"line_alpha\":0.1,\"line_color\":\"#1f77b4\",\"x\":{\"field\":\"x\"},\"y\":{\"field\":\"y\"}},\"id\":\"2616\",\"type\":\"Line\"},{\"attributes\":{\"data_source\":{\"id\":\"2609\",\"type\":\"ColumnDataSource\"},\"glyph\":{\"id\":\"2610\",\"type\":\"Circle\"},\"hover_glyph\":null,\"muted_glyph\":null,\"nonselection_glyph\":{\"id\":\"2611\",\"type\":\"Circle\"},\"selection_glyph\":null,\"view\":{\"id\":\"2613\",\"type\":\"CDSView\"}},\"id\":\"2612\",\"type\":\"GlyphRenderer\"},{\"attributes\":{\"base\":24,\"mantissas\":[1,2,4,6,8,12],\"max_interval\":43200000.0,\"min_interval\":3600000.0,\"num_minor_ticks\":0},\"id\":\"2738\",\"type\":\"AdaptiveTicker\"},{\"attributes\":{\"base\":60,\"mantissas\":[1,2,5,10,15,20,30],\"max_interval\":1800000.0,\"min_interval\":1000.0,\"num_minor_ticks\":0},\"id\":\"2737\",\"type\":\"AdaptiveTicker\"},{\"attributes\":{},\"id\":\"2749\",\"type\":\"Selection\"},{\"attributes\":{\"callback\":null,\"data\":{\"x\":{\"__ndarray__\":\"AADA0LZpckIAAACZ92tyQgAAQGE4bnJCAACAKXlwckIAAMDxuXJyQgAAALr6dHJCAABAgjt3ckIAAIBKfHlyQgAAwBK9e3JCAAAA2/19ckIAAECjPoByQgAAgGt/gnJCAADAM8CEckIAAAD8AIdyQgAAQMRBiXJCAACAjIKLckIAAMBUw41yQgAAAB0EkHJCAABA5USSckIAAICthZRyQgAAwHXGlnJCAAAAPgeZckIAAEAGSJtyQgAAgM6InXJCAADAlsmfckIAAABfCqJyQgAAQCdLpHJCAACA74umckIAAMC3zKhyQgAAAIANq3JCAABASE6tckIAAIAQj69yQgAAwNjPsXJCAAAAoRC0ckIAAEBpUbZyQgAAgDGSuHJCAADA+dK6ckIAAADCE71yQgAAQIpUv3JCAACAUpXBckIAAMAa1sNyQgAAAOMWxnJCAABAq1fIckIAAIBzmMpyQgAAwDvZzHJCAAAABBrPckIAAEDMWtFyQgAAgJSb03JCAADAXNzVckIAAAAlHdhyQgAAQO1d2nJCAACAtZ7cckIAAMB9395yQgAAAEYg4XJCAABADmHjckIAAIDWoeVyQgAAwJ7i53JCAAAAZyPqckIAAEAvZOxyQgAAgPek7nJCAADAv+XwckIAAACIJvNyQgAAQFBn9XJCAACAGKj3ckIAAMDg6PlyQgAAAKkp/HJCAABAcWr+ckIAAIA5qwBzQgAAwAHsAnNCAAAAyiwFc0IAAECSbQdzQgAAgFquCXNCAADAIu8Lc0IAAADrLw5zQgAAQLNwEHNCAACAe7ESc0IAAMBD8hRzQgAAAAwzF3NCAABA1HMZc0IAAICctBtzQgAAwGT1HXNCAAAALTYgc0IAAED1diJzQgAAgL23JHNCAADAhfgmc0IAAABOOSlzQgAAQBZ6K3NCAACA3rotc0IAAMCm+y9zQgAAAG88MnNCAABAN300c0IAAID/vTZzQgAAwMf+OHNCAAAAkD87c0IAAEBYgD1zQgAAgCDBP3NCAADA6AFCc0IAAACxQkRzQgAAQHmDRnNCAACAQcRIc0IAAMAJBUtzQgAAANJFTXNCAABAmoZPc0IAAIBix1FzQgAAwCoIVHNCAAAA80hWc0IAAEC7iVhzQgAAgIPKWnNCAADASwtdc0IAAAAUTF9zQgAAQNyMYXNCAACApM1jc0IAAMBsDmZzQgAAADVPaHNCAABA/Y9qc0IAAIDF0GxzQgAAwI0Rb3NCAAAAVlJxc0IAAEAek3NzQgAAgObTdXNCAADArhR4c0IAAAB3VXpzQgAAQD+WfHNCAACAB9d+c0IAAMDPF4FzQgAAAJhYg3NCAABAYJmFc0IAAIAo2odzQgAAwPAainNCAAAAuVuMc0IAAECBnI5zQgAAgEndkHNCAADAER6Tc0IAAADaXpVzQgAAQKKfl3NCAACAauCZc0IAAMAyIZxzQgAAAPthnnNCAABAw6Kgc0IAAICL46JzQgAAwFMkpXNCAAAAHGWnc0IAAEDkpalzQg==\",\"dtype\":\"float64\",\"shape\":[143]},\"y\":{\"__ndarray__\":\"PQrXo7DgvkCQwvUojFbAQAAAAACgbcBAzczMzMxDvECamZmZ+SW+QMzMzMyMab1AmpmZmZnrvkB7FK5HIbG8QLgehetx6cBA7FG4HkVGv0CkcD0Kl1K9QBSuR+H63L1AZmZmZubYvEDhehSuh4nAQML1KFzvVr9AcT0K1yOnvkDNzMzMTDnAQHsUrkcBysBAexSuR+Gyv0B7FK5Hob+/QDMzMzNzg79A16NwPUq1v0Bcj8L1qLu+QAAAAACAlL5ApHA9CpeXvUD2KFyPwk2+QHE9CtfjlcBA16NwPZobwEC4HoXrEUXAQIXrUbjep79AUrgehQuEvkCF61G43uu8QBSuR+H6IrxAuB6F6zFdu0AK16NwvRy7QKRwPQrXP71AKVyPwjUMvEBI4XoUjjm8QD0K16MQ97xAPgrXozAGvkDC9Shcbxe+QArXo3C9H75A4noUrjcsxECamZmZWRm/QOxRuB7VEcJAAAAAAGC7xEA0MzMzIwTLQFyPwvUoPrlACtejcP3wuEApXI/CtUm3QD4K16NQ+7dAFK5H4fpTuEAK16NwHZC8QJqZmZl5v75Aw/UoXC+QwEAUrkfheke8QFyPwvUo0b1AKVyPwjXAu0DsUbgeRZq9QHA9CteDKLxA9ihcjwKIu0BxPQrXI968QM3MzMyMAL1ArkfhetTnv0Bcj8L1yA29QOxRuB4luL1AmpmZmZkWvUAK16NwvZa8QKRwPQqXp71A9ihcj4JCv0AAAAAAYOS+QLgehetRPb5AkML1KBxwvUAAAAAAAEq+QBSuR+H6pL1AKVyPwvVRvECF61G4/tC8QIXrUbjeKLxAuB6F6xHdvkAzMzMzc2a9QK5H4XqUrb1A9ihcj4K3vUAAAAAAAKK8QML1KFxvQ71AAAAAAOBTu0AK16Nw/WC7QKRwPQpXfbpASOF6FK40vUAzMzMzM767QML1KFyv3LxAZmZmZqbvvECuR+F69Om9QHE9CtdjdL1AUrgehevsvEDhehSuJ9DCQM3MzMxs6L1ApHA9CmcOwUAzMzMzMzbDQB+F61HYxshAj8L1KByKvUCF61G4Xrq5QJDC9SjcGrdAw/UoXE8CuECkcD0K15m2QGZmZmamy7pA16NwPQobvkDsUbgehVO/QI/C9ShcwLxAFK5H4RquvECuR+F69CK9QFK4HoWrSr5AMzMzMzM/vUCamZmZ2QS9QFK4HoULrcBAexSuRyFTvUApXI/Cdbi7QHA9CtdDJ7tA4XoUrsf2vEBSuB6Fa229QArXo3D9+L1AMzMzMzN5vkAK16NwPQy+QML1KFxvn75AUrgehWsPvkAK16NwvWa9QM3MzMzMTL1ApHA9ChdqvkDMzMzMTJa8QAAAAABg7bxAZmZmZmYcvEC4HoXrUUe9QAAAAACAhb1AFK5H4brQvUApXI/CNQi+QJDC9ShciL5AAAAAAOCrvUAAAAAAALO6QKRwPQoXYrtAhutRuB4tu0AehetR2D69QClcj8L1nLxAMzMzM7POvEAUrkfhOnu9QA==\",\"dtype\":\"float64\",\"shape\":[143]}},\"selected\":{\"id\":\"2749\",\"type\":\"Selection\"},\"selection_policy\":{\"id\":\"2748\",\"type\":\"UnionRenderers\"}},\"id\":\"2609\",\"type\":\"ColumnDataSource\"},{\"attributes\":{\"fill_alpha\":{\"value\":0.8},\"fill_color\":{\"value\":\"navy\"},\"line_alpha\":{\"value\":0.8},\"line_color\":{\"value\":\"navy\"},\"size\":{\"units\":\"screen\",\"value\":3},\"x\":{\"field\":\"x\"},\"y\":{\"field\":\"y\"}},\"id\":\"2610\",\"type\":\"Circle\"},{\"attributes\":{},\"id\":\"2751\",\"type\":\"Selection\"},{\"attributes\":{\"formatter\":{\"id\":\"2735\",\"type\":\"BasicTickFormatter\"},\"ticker\":{\"id\":\"2592\",\"type\":\"BasicTicker\"}},\"id\":\"2591\",\"type\":\"LinearAxis\"},{\"attributes\":{\"days\":[1,2,3,4,5,6,7,8,9,10,11,12,13,14,15,16,17,18,19,20,21,22,23,24,25,26,27,28,29,30,31]},\"id\":\"2739\",\"type\":\"DaysTicker\"},{\"attributes\":{\"callback\":null},\"id\":\"2580\",\"type\":\"DataRange1d\"},{\"attributes\":{\"num_minor_ticks\":5,\"tickers\":[{\"id\":\"2736\",\"type\":\"AdaptiveTicker\"},{\"id\":\"2737\",\"type\":\"AdaptiveTicker\"},{\"id\":\"2738\",\"type\":\"AdaptiveTicker\"},{\"id\":\"2739\",\"type\":\"DaysTicker\"},{\"id\":\"2740\",\"type\":\"DaysTicker\"},{\"id\":\"2741\",\"type\":\"DaysTicker\"},{\"id\":\"2742\",\"type\":\"DaysTicker\"},{\"id\":\"2743\",\"type\":\"MonthsTicker\"},{\"id\":\"2744\",\"type\":\"MonthsTicker\"},{\"id\":\"2745\",\"type\":\"MonthsTicker\"},{\"id\":\"2746\",\"type\":\"MonthsTicker\"},{\"id\":\"2747\",\"type\":\"YearsTicker\"}]},\"id\":\"2587\",\"type\":\"DatetimeTicker\"},{\"attributes\":{\"days\":[1,4,7,10,13,16,19,22,25,28]},\"id\":\"2740\",\"type\":\"DaysTicker\"},{\"attributes\":{\"ticker\":{\"id\":\"2587\",\"type\":\"DatetimeTicker\"}},\"id\":\"2590\",\"type\":\"Grid\"},{\"attributes\":{\"days\":[1,8,15,22]},\"id\":\"2741\",\"type\":\"DaysTicker\"},{\"attributes\":{\"active_drag\":\"auto\",\"active_inspect\":\"auto\",\"active_multi\":null,\"active_scroll\":\"auto\",\"active_tap\":\"auto\",\"tools\":[{\"id\":\"2596\",\"type\":\"PanTool\"},{\"id\":\"2597\",\"type\":\"WheelZoomTool\"},{\"id\":\"2598\",\"type\":\"WheelZoomTool\"},{\"id\":\"2599\",\"type\":\"ResetTool\"},{\"id\":\"2600\",\"type\":\"SaveTool\"}]},\"id\":\"2601\",\"type\":\"Toolbar\"},{\"attributes\":{\"days\":[\"%d/%b\"],\"hours\":[\"%H:%M %d/%b\"],\"months\":[\"%d/%b/%Y\"],\"years\":[\"%d/%b/%Y\"]},\"id\":\"2607\",\"type\":\"DatetimeTickFormatter\"},{\"attributes\":{\"source\":{\"id\":\"2609\",\"type\":\"ColumnDataSource\"}},\"id\":\"2613\",\"type\":\"CDSView\"},{\"attributes\":{\"days\":[1,15]},\"id\":\"2742\",\"type\":\"DaysTicker\"},{\"attributes\":{},\"id\":\"2748\",\"type\":\"UnionRenderers\"},{\"attributes\":{\"data_source\":{\"id\":\"2614\",\"type\":\"ColumnDataSource\"},\"glyph\":{\"id\":\"2615\",\"type\":\"Line\"},\"hover_glyph\":null,\"muted_glyph\":null,\"nonselection_glyph\":{\"id\":\"2616\",\"type\":\"Line\"},\"selection_glyph\":null,\"view\":{\"id\":\"2618\",\"type\":\"CDSView\"}},\"id\":\"2617\",\"type\":\"GlyphRenderer\"},{\"attributes\":{\"dimensions\":\"height\"},\"id\":\"2597\",\"type\":\"WheelZoomTool\"},{\"attributes\":{\"months\":[0,1,2,3,4,5,6,7,8,9,10,11]},\"id\":\"2743\",\"type\":\"MonthsTicker\"},{\"attributes\":{},\"id\":\"2584\",\"type\":\"LinearScale\"},{\"attributes\":{},\"id\":\"2600\",\"type\":\"SaveTool\"},{\"attributes\":{\"formatter\":{\"id\":\"2607\",\"type\":\"DatetimeTickFormatter\"},\"ticker\":{\"id\":\"2587\",\"type\":\"DatetimeTicker\"}},\"id\":\"2586\",\"type\":\"DatetimeAxis\"},{\"attributes\":{\"months\":[0,2,4,6,8,10]},\"id\":\"2744\",\"type\":\"MonthsTicker\"},{\"attributes\":{\"callback\":null},\"id\":\"2578\",\"type\":\"DataRange1d\"},{\"attributes\":{},\"id\":\"2592\",\"type\":\"BasicTicker\"},{\"attributes\":{\"source\":{\"id\":\"2614\",\"type\":\"ColumnDataSource\"}},\"id\":\"2618\",\"type\":\"CDSView\"},{\"attributes\":{},\"id\":\"2750\",\"type\":\"UnionRenderers\"},{\"attributes\":{\"dimensions\":\"width\"},\"id\":\"2598\",\"type\":\"WheelZoomTool\"},{\"attributes\":{\"callback\":null,\"data\":{\"x\":{\"__ndarray__\":\"AADA0LZpckIAAACZ92tyQgAAQGE4bnJCAACAKXlwckIAAMDxuXJyQgAAALr6dHJCAABAgjt3ckIAAIBKfHlyQgAAwBK9e3JCAAAA2/19ckIAAECjPoByQgAAgGt/gnJCAADAM8CEckIAAAD8AIdyQgAAQMRBiXJCAACAjIKLckIAAMBUw41yQgAAAB0EkHJCAABA5USSckIAAICthZRyQgAAwHXGlnJCAAAAPgeZckIAAEAGSJtyQgAAgM6InXJCAADAlsmfckIAAABfCqJyQgAAQCdLpHJCAACA74umckIAAMC3zKhyQgAAAIANq3JCAABASE6tckIAAIAQj69yQgAAwNjPsXJCAAAAoRC0ckIAAEBpUbZyQgAAgDGSuHJCAADA+dK6ckIAAADCE71yQgAAQIpUv3JCAACAUpXBckIAAMAa1sNyQgAAAOMWxnJCAABAq1fIckIAAIBzmMpyQgAAwDvZzHJCAAAABBrPckIAAEDMWtFyQgAAgJSb03JCAADAXNzVckIAAAAlHdhyQgAAQO1d2nJCAACAtZ7cckIAAMB9395yQgAAAEYg4XJCAABADmHjckIAAIDWoeVyQgAAwJ7i53JCAAAAZyPqckIAAEAvZOxyQgAAgPek7nJCAADAv+XwckIAAACIJvNyQgAAQFBn9XJCAACAGKj3ckIAAMDg6PlyQgAAAKkp/HJCAABAcWr+ckIAAIA5qwBzQgAAwAHsAnNCAAAAyiwFc0IAAECSbQdzQgAAgFquCXNCAADAIu8Lc0IAAADrLw5zQgAAQLNwEHNCAACAe7ESc0IAAMBD8hRzQgAAAAwzF3NCAABA1HMZc0IAAICctBtzQgAAwGT1HXNCAAAALTYgc0IAAED1diJzQgAAgL23JHNCAADAhfgmc0IAAABOOSlzQgAAQBZ6K3NCAACA3rotc0IAAMCm+y9zQgAAAG88MnNCAABAN300c0IAAID/vTZzQgAAwMf+OHNCAAAAkD87c0IAAEBYgD1zQgAAgCDBP3NCAADA6AFCc0IAAACxQkRzQgAAQHmDRnNCAACAQcRIc0IAAMAJBUtzQgAAANJFTXNCAABAmoZPc0IAAIBix1FzQgAAwCoIVHNCAAAA80hWc0IAAEC7iVhzQgAAgIPKWnNCAADASwtdc0IAAAAUTF9zQgAAQNyMYXNCAACApM1jc0IAAMBsDmZzQgAAADVPaHNCAABA/Y9qc0IAAIDF0GxzQgAAwI0Rb3NCAAAAVlJxc0IAAEAek3NzQgAAgObTdXNCAADArhR4c0IAAAB3VXpzQgAAQD+WfHNCAACAB9d+c0IAAMDPF4FzQgAAAJhYg3NCAABAYJmFc0IAAIAo2odzQgAAwPAainNCAAAAuVuMc0IAAECBnI5zQgAAgEndkHNCAADAER6Tc0IAAADaXpVzQgAAQKKfl3NCAACAauCZc0IAAMAyIZxzQgAAAPthnnNCAABAw6Kgc0IAAICL46JzQgAAwFMkpXNCAAAAHGWnc0IAAEDkpalzQg==\",\"dtype\":\"float64\",\"shape\":[143]},\"y\":{\"__ndarray__\":\"PQrXo7DgvkCQwvUojFbAQAAAAACgbcBAzczMzMxDvECamZmZ+SW+QMzMzMyMab1AmpmZmZnrvkB7FK5HIbG8QLgehetx6cBA7FG4HkVGv0CkcD0Kl1K9QBSuR+H63L1AZmZmZubYvEDhehSuh4nAQML1KFzvVr9AcT0K1yOnvkDNzMzMTDnAQHsUrkcBysBAexSuR+Gyv0B7FK5Hob+/QDMzMzNzg79A16NwPUq1v0Bcj8L1qLu+QAAAAACAlL5ApHA9CpeXvUD2KFyPwk2+QHE9CtfjlcBA16NwPZobwEC4HoXrEUXAQIXrUbjep79AUrgehQuEvkCF61G43uu8QBSuR+H6IrxAuB6F6zFdu0AK16NwvRy7QKRwPQrXP71AKVyPwjUMvEBI4XoUjjm8QD0K16MQ97xAPgrXozAGvkDC9Shcbxe+QArXo3C9H75A4noUrjcsxECamZmZWRm/QOxRuB7VEcJAAAAAAGC7xEA0MzMzIwTLQFyPwvUoPrlACtejcP3wuEApXI/CtUm3QD4K16NQ+7dAFK5H4fpTuEAK16NwHZC8QJqZmZl5v75Aw/UoXC+QwEAUrkfheke8QFyPwvUo0b1AKVyPwjXAu0DsUbgeRZq9QHA9CteDKLxA9ihcjwKIu0BxPQrXI968QM3MzMyMAL1ArkfhetTnv0Bcj8L1yA29QOxRuB4luL1AmpmZmZkWvUAK16NwvZa8QKRwPQqXp71A9ihcj4JCv0AAAAAAYOS+QLgehetRPb5AkML1KBxwvUAAAAAAAEq+QBSuR+H6pL1AKVyPwvVRvECF61G4/tC8QIXrUbjeKLxAuB6F6xHdvkAzMzMzc2a9QK5H4XqUrb1A9ihcj4K3vUAAAAAAAKK8QML1KFxvQ71AAAAAAOBTu0AK16Nw/WC7QKRwPQpXfbpASOF6FK40vUAzMzMzM767QML1KFyv3LxAZmZmZqbvvECuR+F69Om9QHE9CtdjdL1AUrgehevsvEDhehSuJ9DCQM3MzMxs6L1ApHA9CmcOwUAzMzMzMzbDQB+F61HYxshAj8L1KByKvUCF61G4Xrq5QJDC9SjcGrdAw/UoXE8CuECkcD0K15m2QGZmZmamy7pA16NwPQobvkDsUbgehVO/QI/C9ShcwLxAFK5H4RquvECuR+F69CK9QFK4HoWrSr5AMzMzMzM/vUCamZmZ2QS9QFK4HoULrcBAexSuRyFTvUApXI/Cdbi7QHA9CtdDJ7tA4XoUrsf2vEBSuB6Fa229QArXo3D9+L1AMzMzMzN5vkAK16NwPQy+QML1KFxvn75AUrgehWsPvkAK16NwvWa9QM3MzMzMTL1ApHA9ChdqvkDMzMzMTJa8QAAAAABg7bxAZmZmZmYcvEC4HoXrUUe9QAAAAACAhb1AFK5H4brQvUApXI/CNQi+QJDC9ShciL5AAAAAAOCrvUAAAAAAALO6QKRwPQoXYrtAhutRuB4tu0AehetR2D69QClcj8L1nLxAMzMzM7POvEAUrkfhOnu9QA==\",\"dtype\":\"float64\",\"shape\":[143]}},\"selected\":{\"id\":\"2751\",\"type\":\"Selection\"},\"selection_policy\":{\"id\":\"2750\",\"type\":\"UnionRenderers\"}},\"id\":\"2614\",\"type\":\"ColumnDataSource\"},{\"attributes\":{\"months\":[0,4,8]},\"id\":\"2745\",\"type\":\"MonthsTicker\"},{\"attributes\":{\"months\":[0,6]},\"id\":\"2746\",\"type\":\"MonthsTicker\"},{\"attributes\":{\"text\":\"Weekly_Sales vs Datetime\"},\"id\":\"2576\",\"type\":\"Title\"},{\"attributes\":{\"line_alpha\":0.8,\"line_color\":\"navy\",\"x\":{\"field\":\"x\"},\"y\":{\"field\":\"y\"}},\"id\":\"2615\",\"type\":\"Line\"},{\"attributes\":{},\"id\":\"2596\",\"type\":\"PanTool\"},{\"attributes\":{},\"id\":\"2747\",\"type\":\"YearsTicker\"},{\"attributes\":{\"dimension\":1,\"ticker\":{\"id\":\"2592\",\"type\":\"BasicTicker\"}},\"id\":\"2595\",\"type\":\"Grid\"}],\"root_ids\":[\"2575\"]},\"title\":\"Bokeh Application\",\"version\":\"1.3.4\"}};\n",
       "  var render_items = [{\"docid\":\"59d2fb41-0fae-494b-a9e0-b6c02ee84690\",\"roots\":{\"2575\":\"1d29f7f0-1d12-4d44-967d-423a55276d1e\"}}];\n",
       "  root.Bokeh.embed.embed_items_notebook(docs_json, render_items);\n",
       "\n",
       "  }\n",
       "  if (root.Bokeh !== undefined) {\n",
       "    embed_document(root);\n",
       "  } else {\n",
       "    var attempts = 0;\n",
       "    var timer = setInterval(function(root) {\n",
       "      if (root.Bokeh !== undefined) {\n",
       "        embed_document(root);\n",
       "        clearInterval(timer);\n",
       "      }\n",
       "      attempts++;\n",
       "      if (attempts > 100) {\n",
       "        console.log(\"Bokeh: ERROR: Unable to run BokehJS code because BokehJS library is missing\");\n",
       "        clearInterval(timer);\n",
       "      }\n",
       "    }, 10, root)\n",
       "  }\n",
       "})(window);"
      ],
      "application/vnd.bokehjs_exec.v0+json": ""
     },
     "metadata": {
      "application/vnd.bokehjs_exec.v0+json": {
       "id": "2575"
      }
     },
     "output_type": "display_data"
    }
   ],
   "source": [
    "grouped_sales = train.groupby(\"Date\")[\"Weekly_Sales\"].median()\n",
    "p = plot.plot_time_series_count(grouped_sales.index, grouped_sales, color=\"navy\", title=\"Weekly_Sales vs Datetime\", relative_y_axis=True, height=200)\n",
    "show(p)"
   ]
  },
  {
   "cell_type": "code",
   "execution_count": 33,
   "metadata": {},
   "outputs": [
    {
     "data": {
      "text/plain": [
       "-0.0023124470102593737"
      ]
     },
     "execution_count": 33,
     "metadata": {},
     "output_type": "execute_result"
    }
   ],
   "source": [
    "train[\"celsius\"].corr(train[\"Weekly_Sales\"])"
   ]
  },
  {
   "cell_type": "code",
   "execution_count": 34,
   "metadata": {},
   "outputs": [
    {
     "data": {
      "text/plain": [
       "-0.0007430589483357949"
      ]
     },
     "execution_count": 34,
     "metadata": {},
     "output_type": "execute_result"
    }
   ],
   "source": [
    "train[\"celsius_diff\"].corr(train[\"Weekly_Sales\"])"
   ]
  },
  {
   "cell_type": "code",
   "execution_count": null,
   "metadata": {},
   "outputs": [],
   "source": []
  },
  {
   "cell_type": "markdown",
   "metadata": {},
   "source": [
    "# <font color=\"navy\">Size</font>"
   ]
  },
  {
   "cell_type": "code",
   "execution_count": 35,
   "metadata": {},
   "outputs": [
    {
     "name": "stdout",
     "output_type": "stream",
     "text": [
      "0.8276068405388468\n"
     ]
    },
    {
     "data": {
      "text/plain": [
       "<matplotlib.axes._subplots.AxesSubplot at 0x7f58c950ef10>"
      ]
     },
     "execution_count": 35,
     "metadata": {},
     "output_type": "execute_result"
    },
    {
     "data": {
      "image/png": "[encoded data removed]",
      "text/plain": [
       "<Figure size 432x288 with 1 Axes>"
      ]
     },
     "metadata": {
      "needs_background": "light"
     },
     "output_type": "display_data"
    }
   ],
   "source": [
    "size_sales = train.groupby(\"Size\")[\"Weekly_Sales\"].median().reset_index()\n",
    "print(size_sales[\"Size\"].corr(size_sales[\"Weekly_Sales\"]))\n",
    "size_sales.plot.scatter(\"Size\", \"Weekly_Sales\", title=\"Weekly_Sales median vs Size\")"
   ]
  },
  {
   "cell_type": "markdown",
   "metadata": {},
   "source": [
    "# <font color=\"navy\">Markdown</font>"
   ]
  },
  {
   "cell_type": "code",
   "execution_count": 36,
   "metadata": {},
   "outputs": [],
   "source": [
    "mds = [\"MarkDown1\", \"MarkDown2\", \"MarkDown3\", \"MarkDown4\", \"MarkDown5\"]"
   ]
  },
  {
   "cell_type": "code",
   "execution_count": 37,
   "metadata": {},
   "outputs": [
    {
     "name": "stdout",
     "output_type": "stream",
     "text": [
      "MarkDown1: 0.0853\n",
      "MarkDown2: 0.0241\n",
      "MarkDown3: 0.0604\n",
      "MarkDown4: 0.0454\n",
      "MarkDown5: 0.0904\n"
     ]
    }
   ],
   "source": [
    "for md in mds:\n",
    "    print(md+\":\", round(train[md].corr(train[\"Weekly_Sales\"]), 4))"
   ]
  },
  {
   "cell_type": "code",
   "execution_count": null,
   "metadata": {},
   "outputs": [],
   "source": []
  },
  {
   "cell_type": "code",
   "execution_count": null,
   "metadata": {},
   "outputs": [],
   "source": []
  },
  {
   "cell_type": "code",
   "execution_count": null,
   "metadata": {},
   "outputs": [],
   "source": []
  }
 ],
 "metadata": {
  "kernelspec": {
   "display_name": "Python 3",
   "language": "python",
   "name": "python3"
  },
  "language_info": {
   "codemirror_mode": {
    "name": "ipython",
    "version": 3
   },
   "file_extension": ".py",
   "mimetype": "text/x-python",
   "name": "python",
   "nbconvert_exporter": "python",
   "pygments_lexer": "ipython3",
   "version": "3.7.4"
  }
 },
 "nbformat": 4,
 "nbformat_minor": 2
}
