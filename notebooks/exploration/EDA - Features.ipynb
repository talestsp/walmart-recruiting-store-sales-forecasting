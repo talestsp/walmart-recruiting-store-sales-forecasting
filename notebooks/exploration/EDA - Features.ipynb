{
 "cells": [
  {
   "cell_type": "code",
   "execution_count": 1,
   "metadata": {},
   "outputs": [
    {
     "name": "stdout",
     "output_type": "stream",
     "text": [
      "working dir: '/home/tales/ds/walmart-recruiting-store-sales-forecasting'\n"
     ]
    }
   ],
   "source": [
    "#Setting working path required for relative package loading\n",
    "\n",
    "import os\n",
    "os.chdir(\"/home/tales/ds/walmart-recruiting-store-sales-forecasting/\")\n",
    "print(\"working dir:\", \"\\'\" + os.getcwd() + \"\\'\")"
   ]
  },
  {
   "cell_type": "code",
   "execution_count": 2,
   "metadata": {},
   "outputs": [],
   "source": [
    "import pandas as pd\n",
    "\n",
    "from src.data import dao\n",
    "from src.utils import pretties, time_utils, stats\n",
    "from src.visualization import plot\n",
    "from bokeh.plotting import show, output_notebook"
   ]
  },
  {
   "cell_type": "code",
   "execution_count": 3,
   "metadata": {},
   "outputs": [
    {
     "data": {
      "text/html": [
       "\n",
       "    <div class=\"bk-root\">\n",
       "        <a href=\"https://bokeh.pydata.org\" target=\"_blank\" class=\"bk-logo bk-logo-small bk-logo-notebook\"></a>\n",
       "        <span id=\"1001\">Loading BokehJS ...</span>\n",
       "    </div>"
      ]
     },
     "metadata": {},
     "output_type": "display_data"
    },
    {
     "data": {
      "application/javascript": [
       "\n",
       "(function(root) {\n",
       "  function now() {\n",
       "    return new Date();\n",
       "  }\n",
       "\n",
       "  var force = true;\n",
       "\n",
       "  if (typeof root._bokeh_onload_callbacks === \"undefined\" || force === true) {\n",
       "    root._bokeh_onload_callbacks = [];\n",
       "    root._bokeh_is_loading = undefined;\n",
       "  }\n",
       "\n",
       "  var JS_MIME_TYPE = 'application/javascript';\n",
       "  var HTML_MIME_TYPE = 'text/html';\n",
       "  var EXEC_MIME_TYPE = 'application/vnd.bokehjs_exec.v0+json';\n",
       "  var CLASS_NAME = 'output_bokeh rendered_html';\n",
       "\n",
       "  /**\n",
       "   * Render data to the DOM node\n",
       "   */\n",
       "  function render(props, node) {\n",
       "    var script = document.createElement(\"script\");\n",
       "    node.appendChild(script);\n",
       "  }\n",
       "\n",
       "  /**\n",
       "   * Handle when an output is cleared or removed\n",
       "   */\n",
       "  function handleClearOutput(event, handle) {\n",
       "    var cell = handle.cell;\n",
       "\n",
       "    var id = cell.output_area._bokeh_element_id;\n",
       "    var server_id = cell.output_area._bokeh_server_id;\n",
       "    // Clean up Bokeh references\n",
       "    if (id != null && id in Bokeh.index) {\n",
       "      Bokeh.index[id].model.document.clear();\n",
       "      delete Bokeh.index[id];\n",
       "    }\n",
       "\n",
       "    if (server_id !== undefined) {\n",
       "      // Clean up Bokeh references\n",
       "      var cmd = \"from bokeh.io.state import curstate; print(curstate().uuid_to_server['\" + server_id + \"'].get_sessions()[0].document.roots[0]._id)\";\n",
       "      cell.notebook.kernel.execute(cmd, {\n",
       "        iopub: {\n",
       "          output: function(msg) {\n",
       "            var id = msg.content.text.trim();\n",
       "            if (id in Bokeh.index) {\n",
       "              Bokeh.index[id].model.document.clear();\n",
       "              delete Bokeh.index[id];\n",
       "            }\n",
       "          }\n",
       "        }\n",
       "      });\n",
       "      // Destroy server and session\n",
       "      var cmd = \"import bokeh.io.notebook as ion; ion.destroy_server('\" + server_id + \"')\";\n",
       "      cell.notebook.kernel.execute(cmd);\n",
       "    }\n",
       "  }\n",
       "\n",
       "  /**\n",
       "   * Handle when a new output is added\n",
       "   */\n",
       "  function handleAddOutput(event, handle) {\n",
       "    var output_area = handle.output_area;\n",
       "    var output = handle.output;\n",
       "\n",
       "    // limit handleAddOutput to display_data with EXEC_MIME_TYPE content only\n",
       "    if ((output.output_type != \"display_data\") || (!output.data.hasOwnProperty(EXEC_MIME_TYPE))) {\n",
       "      return\n",
       "    }\n",
       "\n",
       "    var toinsert = output_area.element.find(\".\" + CLASS_NAME.split(' ')[0]);\n",
       "\n",
       "    if (output.metadata[EXEC_MIME_TYPE][\"id\"] !== undefined) {\n",
       "      toinsert[toinsert.length - 1].firstChild.textContent = output.data[JS_MIME_TYPE];\n",
       "      // store reference to embed id on output_area\n",
       "      output_area._bokeh_element_id = output.metadata[EXEC_MIME_TYPE][\"id\"];\n",
       "    }\n",
       "    if (output.metadata[EXEC_MIME_TYPE][\"server_id\"] !== undefined) {\n",
       "      var bk_div = document.createElement(\"div\");\n",
       "      bk_div.innerHTML = output.data[HTML_MIME_TYPE];\n",
       "      var script_attrs = bk_div.children[0].attributes;\n",
       "      for (var i = 0; i < script_attrs.length; i++) {\n",
       "        toinsert[toinsert.length - 1].firstChild.setAttribute(script_attrs[i].name, script_attrs[i].value);\n",
       "      }\n",
       "      // store reference to server id on output_area\n",
       "      output_area._bokeh_server_id = output.metadata[EXEC_MIME_TYPE][\"server_id\"];\n",
       "    }\n",
       "  }\n",
       "\n",
       "  function register_renderer(events, OutputArea) {\n",
       "\n",
       "    function append_mime(data, metadata, element) {\n",
       "      // create a DOM node to render to\n",
       "      var toinsert = this.create_output_subarea(\n",
       "        metadata,\n",
       "        CLASS_NAME,\n",
       "        EXEC_MIME_TYPE\n",
       "      );\n",
       "      this.keyboard_manager.register_events(toinsert);\n",
       "      // Render to node\n",
       "      var props = {data: data, metadata: metadata[EXEC_MIME_TYPE]};\n",
       "      render(props, toinsert[toinsert.length - 1]);\n",
       "      element.append(toinsert);\n",
       "      return toinsert\n",
       "    }\n",
       "\n",
       "    /* Handle when an output is cleared or removed */\n",
       "    events.on('clear_output.CodeCell', handleClearOutput);\n",
       "    events.on('delete.Cell', handleClearOutput);\n",
       "\n",
       "    /* Handle when a new output is added */\n",
       "    events.on('output_added.OutputArea', handleAddOutput);\n",
       "\n",
       "    /**\n",
       "     * Register the mime type and append_mime function with output_area\n",
       "     */\n",
       "    OutputArea.prototype.register_mime_type(EXEC_MIME_TYPE, append_mime, {\n",
       "      /* Is output safe? */\n",
       "      safe: true,\n",
       "      /* Index of renderer in `output_area.display_order` */\n",
       "      index: 0\n",
       "    });\n",
       "  }\n",
       "\n",
       "  // register the mime type if in Jupyter Notebook environment and previously unregistered\n",
       "  if (root.Jupyter !== undefined) {\n",
       "    var events = require('base/js/events');\n",
       "    var OutputArea = require('notebook/js/outputarea').OutputArea;\n",
       "\n",
       "    if (OutputArea.prototype.mime_types().indexOf(EXEC_MIME_TYPE) == -1) {\n",
       "      register_renderer(events, OutputArea);\n",
       "    }\n",
       "  }\n",
       "\n",
       "  \n",
       "  if (typeof (root._bokeh_timeout) === \"undefined\" || force === true) {\n",
       "    root._bokeh_timeout = Date.now() + 5000;\n",
       "    root._bokeh_failed_load = false;\n",
       "  }\n",
       "\n",
       "  var NB_LOAD_WARNING = {'data': {'text/html':\n",
       "     \"<div style='background-color: #fdd'>\\n\"+\n",
       "     \"<p>\\n\"+\n",
       "     \"BokehJS does not appear to have successfully loaded. If loading BokehJS from CDN, this \\n\"+\n",
       "     \"may be due to a slow or bad network connection. Possible fixes:\\n\"+\n",
       "     \"</p>\\n\"+\n",
       "     \"<ul>\\n\"+\n",
       "     \"<li>re-rerun `output_notebook()` to attempt to load from CDN again, or</li>\\n\"+\n",
       "     \"<li>use INLINE resources instead, as so:</li>\\n\"+\n",
       "     \"</ul>\\n\"+\n",
       "     \"<code>\\n\"+\n",
       "     \"from bokeh.resources import INLINE\\n\"+\n",
       "     \"output_notebook(resources=INLINE)\\n\"+\n",
       "     \"</code>\\n\"+\n",
       "     \"</div>\"}};\n",
       "\n",
       "  function display_loaded() {\n",
       "    var el = document.getElementById(\"1001\");\n",
       "    if (el != null) {\n",
       "      el.textContent = \"BokehJS is loading...\";\n",
       "    }\n",
       "    if (root.Bokeh !== undefined) {\n",
       "      if (el != null) {\n",
       "        el.textContent = \"BokehJS \" + root.Bokeh.version + \" successfully loaded.\";\n",
       "      }\n",
       "    } else if (Date.now() < root._bokeh_timeout) {\n",
       "      setTimeout(display_loaded, 100)\n",
       "    }\n",
       "  }\n",
       "\n",
       "\n",
       "  function run_callbacks() {\n",
       "    try {\n",
       "      root._bokeh_onload_callbacks.forEach(function(callback) {\n",
       "        if (callback != null)\n",
       "          callback();\n",
       "      });\n",
       "    } finally {\n",
       "      delete root._bokeh_onload_callbacks\n",
       "    }\n",
       "    console.debug(\"Bokeh: all callbacks have finished\");\n",
       "  }\n",
       "\n",
       "  function load_libs(css_urls, js_urls, callback) {\n",
       "    if (css_urls == null) css_urls = [];\n",
       "    if (js_urls == null) js_urls = [];\n",
       "\n",
       "    root._bokeh_onload_callbacks.push(callback);\n",
       "    if (root._bokeh_is_loading > 0) {\n",
       "      console.debug(\"Bokeh: BokehJS is being loaded, scheduling callback at\", now());\n",
       "      return null;\n",
       "    }\n",
       "    if (js_urls == null || js_urls.length === 0) {\n",
       "      run_callbacks();\n",
       "      return null;\n",
       "    }\n",
       "    console.debug(\"Bokeh: BokehJS not loaded, scheduling load and callback at\", now());\n",
       "    root._bokeh_is_loading = css_urls.length + js_urls.length;\n",
       "\n",
       "    function on_load() {\n",
       "      root._bokeh_is_loading--;\n",
       "      if (root._bokeh_is_loading === 0) {\n",
       "        console.debug(\"Bokeh: all BokehJS libraries/stylesheets loaded\");\n",
       "        run_callbacks()\n",
       "      }\n",
       "    }\n",
       "\n",
       "    function on_error() {\n",
       "      console.error(\"failed to load \" + url);\n",
       "    }\n",
       "\n",
       "    for (var i = 0; i < css_urls.length; i++) {\n",
       "      var url = css_urls[i];\n",
       "      const element = document.createElement(\"link\");\n",
       "      element.onload = on_load;\n",
       "      element.onerror = on_error;\n",
       "      element.rel = \"stylesheet\";\n",
       "      element.type = \"text/css\";\n",
       "      element.href = url;\n",
       "      console.debug(\"Bokeh: injecting link tag for BokehJS stylesheet: \", url);\n",
       "      document.body.appendChild(element);\n",
       "    }\n",
       "\n",
       "    for (var i = 0; i < js_urls.length; i++) {\n",
       "      var url = js_urls[i];\n",
       "      var element = document.createElement('script');\n",
       "      element.onload = on_load;\n",
       "      element.onerror = on_error;\n",
       "      element.async = false;\n",
       "      element.src = url;\n",
       "      console.debug(\"Bokeh: injecting script tag for BokehJS library: \", url);\n",
       "      document.head.appendChild(element);\n",
       "    }\n",
       "  };var element = document.getElementById(\"1001\");\n",
       "  if (element == null) {\n",
       "    console.error(\"Bokeh: ERROR: autoload.js configured with elementid '1001' but no matching script tag was found. \")\n",
       "    return false;\n",
       "  }\n",
       "\n",
       "  function inject_raw_css(css) {\n",
       "    const element = document.createElement(\"style\");\n",
       "    element.appendChild(document.createTextNode(css));\n",
       "    document.body.appendChild(element);\n",
       "  }\n",
       "\n",
       "  var js_urls = [\"https://cdn.pydata.org/bokeh/release/bokeh-1.3.4.min.js\", \"https://cdn.pydata.org/bokeh/release/bokeh-widgets-1.3.4.min.js\", \"https://cdn.pydata.org/bokeh/release/bokeh-tables-1.3.4.min.js\", \"https://cdn.pydata.org/bokeh/release/bokeh-gl-1.3.4.min.js\"];\n",
       "  var css_urls = [];\n",
       "\n",
       "  var inline_js = [\n",
       "    function(Bokeh) {\n",
       "      Bokeh.set_log_level(\"info\");\n",
       "    },\n",
       "    \n",
       "    function(Bokeh) {\n",
       "      \n",
       "    },\n",
       "    function(Bokeh) {} // ensure no trailing comma for IE\n",
       "  ];\n",
       "\n",
       "  function run_inline_js() {\n",
       "    \n",
       "    if ((root.Bokeh !== undefined) || (force === true)) {\n",
       "      for (var i = 0; i < inline_js.length; i++) {\n",
       "        inline_js[i].call(root, root.Bokeh);\n",
       "      }if (force === true) {\n",
       "        display_loaded();\n",
       "      }} else if (Date.now() < root._bokeh_timeout) {\n",
       "      setTimeout(run_inline_js, 100);\n",
       "    } else if (!root._bokeh_failed_load) {\n",
       "      console.log(\"Bokeh: BokehJS failed to load within specified timeout.\");\n",
       "      root._bokeh_failed_load = true;\n",
       "    } else if (force !== true) {\n",
       "      var cell = $(document.getElementById(\"1001\")).parents('.cell').data().cell;\n",
       "      cell.output_area.append_execute_result(NB_LOAD_WARNING)\n",
       "    }\n",
       "\n",
       "  }\n",
       "\n",
       "  if (root._bokeh_is_loading === 0) {\n",
       "    console.debug(\"Bokeh: BokehJS loaded, going straight to plotting\");\n",
       "    run_inline_js();\n",
       "  } else {\n",
       "    load_libs(css_urls, js_urls, function() {\n",
       "      console.debug(\"Bokeh: BokehJS plotting callback run at\", now());\n",
       "      run_inline_js();\n",
       "    });\n",
       "  }\n",
       "}(window));"
      ],
      "application/vnd.bokehjs_load.v0+json": "\n(function(root) {\n  function now() {\n    return new Date();\n  }\n\n  var force = true;\n\n  if (typeof root._bokeh_onload_callbacks === \"undefined\" || force === true) {\n    root._bokeh_onload_callbacks = [];\n    root._bokeh_is_loading = undefined;\n  }\n\n  \n\n  \n  if (typeof (root._bokeh_timeout) === \"undefined\" || force === true) {\n    root._bokeh_timeout = Date.now() + 5000;\n    root._bokeh_failed_load = false;\n  }\n\n  var NB_LOAD_WARNING = {'data': {'text/html':\n     \"<div style='background-color: #fdd'>\\n\"+\n     \"<p>\\n\"+\n     \"BokehJS does not appear to have successfully loaded. If loading BokehJS from CDN, this \\n\"+\n     \"may be due to a slow or bad network connection. Possible fixes:\\n\"+\n     \"</p>\\n\"+\n     \"<ul>\\n\"+\n     \"<li>re-rerun `output_notebook()` to attempt to load from CDN again, or</li>\\n\"+\n     \"<li>use INLINE resources instead, as so:</li>\\n\"+\n     \"</ul>\\n\"+\n     \"<code>\\n\"+\n     \"from bokeh.resources import INLINE\\n\"+\n     \"output_notebook(resources=INLINE)\\n\"+\n     \"</code>\\n\"+\n     \"</div>\"}};\n\n  function display_loaded() {\n    var el = document.getElementById(\"1001\");\n    if (el != null) {\n      el.textContent = \"BokehJS is loading...\";\n    }\n    if (root.Bokeh !== undefined) {\n      if (el != null) {\n        el.textContent = \"BokehJS \" + root.Bokeh.version + \" successfully loaded.\";\n      }\n    } else if (Date.now() < root._bokeh_timeout) {\n      setTimeout(display_loaded, 100)\n    }\n  }\n\n\n  function run_callbacks() {\n    try {\n      root._bokeh_onload_callbacks.forEach(function(callback) {\n        if (callback != null)\n          callback();\n      });\n    } finally {\n      delete root._bokeh_onload_callbacks\n    }\n    console.debug(\"Bokeh: all callbacks have finished\");\n  }\n\n  function load_libs(css_urls, js_urls, callback) {\n    if (css_urls == null) css_urls = [];\n    if (js_urls == null) js_urls = [];\n\n    root._bokeh_onload_callbacks.push(callback);\n    if (root._bokeh_is_loading > 0) {\n      console.debug(\"Bokeh: BokehJS is being loaded, scheduling callback at\", now());\n      return null;\n    }\n    if (js_urls == null || js_urls.length === 0) {\n      run_callbacks();\n      return null;\n    }\n    console.debug(\"Bokeh: BokehJS not loaded, scheduling load and callback at\", now());\n    root._bokeh_is_loading = css_urls.length + js_urls.length;\n\n    function on_load() {\n      root._bokeh_is_loading--;\n      if (root._bokeh_is_loading === 0) {\n        console.debug(\"Bokeh: all BokehJS libraries/stylesheets loaded\");\n        run_callbacks()\n      }\n    }\n\n    function on_error() {\n      console.error(\"failed to load \" + url);\n    }\n\n    for (var i = 0; i < css_urls.length; i++) {\n      var url = css_urls[i];\n      const element = document.createElement(\"link\");\n      element.onload = on_load;\n      element.onerror = on_error;\n      element.rel = \"stylesheet\";\n      element.type = \"text/css\";\n      element.href = url;\n      console.debug(\"Bokeh: injecting link tag for BokehJS stylesheet: \", url);\n      document.body.appendChild(element);\n    }\n\n    for (var i = 0; i < js_urls.length; i++) {\n      var url = js_urls[i];\n      var element = document.createElement('script');\n      element.onload = on_load;\n      element.onerror = on_error;\n      element.async = false;\n      element.src = url;\n      console.debug(\"Bokeh: injecting script tag for BokehJS library: \", url);\n      document.head.appendChild(element);\n    }\n  };var element = document.getElementById(\"1001\");\n  if (element == null) {\n    console.error(\"Bokeh: ERROR: autoload.js configured with elementid '1001' but no matching script tag was found. \")\n    return false;\n  }\n\n  function inject_raw_css(css) {\n    const element = document.createElement(\"style\");\n    element.appendChild(document.createTextNode(css));\n    document.body.appendChild(element);\n  }\n\n  var js_urls = [\"https://cdn.pydata.org/bokeh/release/bokeh-1.3.4.min.js\", \"https://cdn.pydata.org/bokeh/release/bokeh-widgets-1.3.4.min.js\", \"https://cdn.pydata.org/bokeh/release/bokeh-tables-1.3.4.min.js\", \"https://cdn.pydata.org/bokeh/release/bokeh-gl-1.3.4.min.js\"];\n  var css_urls = [];\n\n  var inline_js = [\n    function(Bokeh) {\n      Bokeh.set_log_level(\"info\");\n    },\n    \n    function(Bokeh) {\n      \n    },\n    function(Bokeh) {} // ensure no trailing comma for IE\n  ];\n\n  function run_inline_js() {\n    \n    if ((root.Bokeh !== undefined) || (force === true)) {\n      for (var i = 0; i < inline_js.length; i++) {\n        inline_js[i].call(root, root.Bokeh);\n      }if (force === true) {\n        display_loaded();\n      }} else if (Date.now() < root._bokeh_timeout) {\n      setTimeout(run_inline_js, 100);\n    } else if (!root._bokeh_failed_load) {\n      console.log(\"Bokeh: BokehJS failed to load within specified timeout.\");\n      root._bokeh_failed_load = true;\n    } else if (force !== true) {\n      var cell = $(document.getElementById(\"1001\")).parents('.cell').data().cell;\n      cell.output_area.append_execute_result(NB_LOAD_WARNING)\n    }\n\n  }\n\n  if (root._bokeh_is_loading === 0) {\n    console.debug(\"Bokeh: BokehJS loaded, going straight to plotting\");\n    run_inline_js();\n  } else {\n    load_libs(css_urls, js_urls, function() {\n      console.debug(\"Bokeh: BokehJS plotting callback run at\", now());\n      run_inline_js();\n    });\n  }\n}(window));"
     },
     "metadata": {},
     "output_type": "display_data"
    }
   ],
   "source": [
    "pretties.max_data_frame_columns()\n",
    "pretties.decimal_notation()\n",
    "output_notebook()"
   ]
  },
  {
   "cell_type": "markdown",
   "metadata": {},
   "source": [
    "# walmart-recruiting-store-sales-forecasting\n",
    "https://www.kaggle.com/c/walmart-recruiting-store-sales-forecasting"
   ]
  },
  {
   "cell_type": "code",
   "execution_count": 4,
   "metadata": {},
   "outputs": [],
   "source": [
    "feat = dao.load_features()\n",
    "feat = dao.features_semantic_enrichment(feat)"
   ]
  },
  {
   "cell_type": "code",
   "execution_count": 5,
   "metadata": {},
   "outputs": [
    {
     "data": {
      "text/plain": [
       "(8190, 16)"
      ]
     },
     "execution_count": 5,
     "metadata": {},
     "output_type": "execute_result"
    }
   ],
   "source": [
    "feat.shape"
   ]
  },
  {
   "cell_type": "code",
   "execution_count": 6,
   "metadata": {},
   "outputs": [
    {
     "data": {
      "text/html": [
       "<div>\n",
       "<style scoped>\n",
       "    .dataframe tbody tr th:only-of-type {\n",
       "        vertical-align: middle;\n",
       "    }\n",
       "\n",
       "    .dataframe tbody tr th {\n",
       "        vertical-align: top;\n",
       "    }\n",
       "\n",
       "    .dataframe thead th {\n",
       "        text-align: right;\n",
       "    }\n",
       "</style>\n",
       "<table border=\"1\" class=\"dataframe\">\n",
       "  <thead>\n",
       "    <tr style=\"text-align: right;\">\n",
       "      <th></th>\n",
       "      <th>Store</th>\n",
       "      <th>Date</th>\n",
       "      <th>Temperature</th>\n",
       "      <th>Fuel_Price</th>\n",
       "      <th>MarkDown1</th>\n",
       "      <th>MarkDown2</th>\n",
       "      <th>MarkDown3</th>\n",
       "      <th>MarkDown4</th>\n",
       "      <th>MarkDown5</th>\n",
       "      <th>CPI</th>\n",
       "      <th>Unemployment</th>\n",
       "      <th>IsHoliday</th>\n",
       "      <th>timestamp</th>\n",
       "      <th>Temperature_Celsius</th>\n",
       "      <th>datetime</th>\n",
       "      <th>day_n</th>\n",
       "    </tr>\n",
       "  </thead>\n",
       "  <tbody>\n",
       "    <tr>\n",
       "      <td>58</td>\n",
       "      <td>1</td>\n",
       "      <td>2011-03-18</td>\n",
       "      <td>62.76</td>\n",
       "      <td>3.49</td>\n",
       "      <td>nan</td>\n",
       "      <td>nan</td>\n",
       "      <td>nan</td>\n",
       "      <td>nan</td>\n",
       "      <td>nan</td>\n",
       "      <td>214.36</td>\n",
       "      <td>7.74</td>\n",
       "      <td>False</td>\n",
       "      <td>1300417200.00</td>\n",
       "      <td>17.09</td>\n",
       "      <td>2011-03-18</td>\n",
       "      <td>18</td>\n",
       "    </tr>\n",
       "    <tr>\n",
       "      <td>3680</td>\n",
       "      <td>21</td>\n",
       "      <td>2010-11-12</td>\n",
       "      <td>60.95</td>\n",
       "      <td>2.73</td>\n",
       "      <td>nan</td>\n",
       "      <td>nan</td>\n",
       "      <td>nan</td>\n",
       "      <td>nan</td>\n",
       "      <td>nan</td>\n",
       "      <td>211.66</td>\n",
       "      <td>8.16</td>\n",
       "      <td>False</td>\n",
       "      <td>1289530800.00</td>\n",
       "      <td>16.08</td>\n",
       "      <td>2010-11-12</td>\n",
       "      <td>12</td>\n",
       "    </tr>\n",
       "    <tr>\n",
       "      <td>7974</td>\n",
       "      <td>44</td>\n",
       "      <td>2012-12-07</td>\n",
       "      <td>43.67</td>\n",
       "      <td>3.46</td>\n",
       "      <td>31.56</td>\n",
       "      <td>nan</td>\n",
       "      <td>nan</td>\n",
       "      <td>nan</td>\n",
       "      <td>630.65</td>\n",
       "      <td>131.48</td>\n",
       "      <td>5.22</td>\n",
       "      <td>False</td>\n",
       "      <td>1354849200.00</td>\n",
       "      <td>6.48</td>\n",
       "      <td>2012-12-07</td>\n",
       "      <td>7</td>\n",
       "    </tr>\n",
       "    <tr>\n",
       "      <td>768</td>\n",
       "      <td>5</td>\n",
       "      <td>2010-11-12</td>\n",
       "      <td>62.37</td>\n",
       "      <td>2.73</td>\n",
       "      <td>nan</td>\n",
       "      <td>nan</td>\n",
       "      <td>nan</td>\n",
       "      <td>nan</td>\n",
       "      <td>nan</td>\n",
       "      <td>212.56</td>\n",
       "      <td>6.77</td>\n",
       "      <td>False</td>\n",
       "      <td>1289530800.00</td>\n",
       "      <td>16.87</td>\n",
       "      <td>2010-11-12</td>\n",
       "      <td>12</td>\n",
       "    </tr>\n",
       "    <tr>\n",
       "      <td>7838</td>\n",
       "      <td>44</td>\n",
       "      <td>2010-04-30</td>\n",
       "      <td>48.33</td>\n",
       "      <td>2.94</td>\n",
       "      <td>nan</td>\n",
       "      <td>nan</td>\n",
       "      <td>nan</td>\n",
       "      <td>nan</td>\n",
       "      <td>nan</td>\n",
       "      <td>126.38</td>\n",
       "      <td>7.97</td>\n",
       "      <td>False</td>\n",
       "      <td>1272596400.00</td>\n",
       "      <td>9.07</td>\n",
       "      <td>2010-04-30</td>\n",
       "      <td>30</td>\n",
       "    </tr>\n",
       "  </tbody>\n",
       "</table>\n",
       "</div>"
      ],
      "text/plain": [
       "     Store        Date  Temperature  Fuel_Price  MarkDown1  MarkDown2  \\\n",
       "58       1  2011-03-18        62.76        3.49        nan        nan   \n",
       "3680    21  2010-11-12        60.95        2.73        nan        nan   \n",
       "7974    44  2012-12-07        43.67        3.46      31.56        nan   \n",
       "768      5  2010-11-12        62.37        2.73        nan        nan   \n",
       "7838    44  2010-04-30        48.33        2.94        nan        nan   \n",
       "\n",
       "      MarkDown3  MarkDown4  MarkDown5    CPI  Unemployment  IsHoliday  \\\n",
       "58          nan        nan        nan 214.36          7.74      False   \n",
       "3680        nan        nan        nan 211.66          8.16      False   \n",
       "7974        nan        nan     630.65 131.48          5.22      False   \n",
       "768         nan        nan        nan 212.56          6.77      False   \n",
       "7838        nan        nan        nan 126.38          7.97      False   \n",
       "\n",
       "         timestamp  Temperature_Celsius   datetime  day_n  \n",
       "58   1300417200.00                17.09 2011-03-18     18  \n",
       "3680 1289530800.00                16.08 2010-11-12     12  \n",
       "7974 1354849200.00                 6.48 2012-12-07      7  \n",
       "768  1289530800.00                16.87 2010-11-12     12  \n",
       "7838 1272596400.00                 9.07 2010-04-30     30  "
      ]
     },
     "execution_count": 6,
     "metadata": {},
     "output_type": "execute_result"
    }
   ],
   "source": [
    "feat.sample(5)"
   ]
  },
  {
   "cell_type": "code",
   "execution_count": null,
   "metadata": {},
   "outputs": [],
   "source": []
  },
  {
   "cell_type": "markdown",
   "metadata": {},
   "source": [
    "# <font color=\"navy\">Temperature</font>\n",
    "average temperature in the region"
   ]
  },
  {
   "cell_type": "code",
   "execution_count": 7,
   "metadata": {},
   "outputs": [
    {
     "name": "stderr",
     "output_type": "stream",
     "text": [
      "/home/tales/anaconda3/lib/python3.7/site-packages/bokeh/plotting/helpers.py:628: UserWarning: WheelZoomTool are being repeated\n",
      "  warnings.warn(\"%s are being repeated\" % \",\".join(repeated_tools))\n"
     ]
    },
    {
     "data": {
      "text/html": [
       "\n",
       "\n",
       "\n",
       "\n",
       "\n",
       "\n",
       "  <div class=\"bk-root\" id=\"92ec3894-f8fd-4fdb-b1bf-95bda4308144\" data-root-id=\"1002\"></div>\n"
      ]
     },
     "metadata": {},
     "output_type": "display_data"
    },
    {
     "data": {
      "application/javascript": [
       "(function(root) {\n",
       "  function embed_document(root) {\n",
       "    \n",
       "  var docs_json = {\"9524124a-7258-41ab-bf4a-c8b9cfa68acf\":{\"roots\":{\"references\":[{\"attributes\":{\"below\":[{\"id\":\"1013\",\"type\":\"DatetimeAxis\"}],\"center\":[{\"id\":\"1017\",\"type\":\"Grid\"},{\"id\":\"1022\",\"type\":\"Grid\"}],\"left\":[{\"id\":\"1018\",\"type\":\"LinearAxis\"}],\"plot_height\":300,\"plot_width\":900,\"renderers\":[{\"id\":\"1039\",\"type\":\"GlyphRenderer\"},{\"id\":\"1044\",\"type\":\"GlyphRenderer\"}],\"title\":{\"id\":\"1003\",\"type\":\"Title\"},\"toolbar\":{\"id\":\"1028\",\"type\":\"Toolbar\"},\"x_range\":{\"id\":\"1005\",\"type\":\"DataRange1d\"},\"x_scale\":{\"id\":\"1009\",\"type\":\"LinearScale\"},\"y_range\":{\"id\":\"1007\",\"type\":\"DataRange1d\"},\"y_scale\":{\"id\":\"1011\",\"type\":\"LinearScale\"}},\"id\":\"1002\",\"subtype\":\"Figure\",\"type\":\"Plot\"},{\"attributes\":{\"source\":{\"id\":\"1036\",\"type\":\"ColumnDataSource\"}},\"id\":\"1040\",\"type\":\"CDSView\"},{\"attributes\":{},\"id\":\"1019\",\"type\":\"BasicTicker\"},{\"attributes\":{\"base\":24,\"mantissas\":[1,2,4,6,8,12],\"max_interval\":43200000.0,\"min_interval\":3600000.0,\"num_minor_ticks\":0},\"id\":\"1052\",\"type\":\"AdaptiveTicker\"},{\"attributes\":{\"formatter\":{\"id\":\"1049\",\"type\":\"BasicTickFormatter\"},\"ticker\":{\"id\":\"1019\",\"type\":\"BasicTicker\"}},\"id\":\"1018\",\"type\":\"LinearAxis\"},{\"attributes\":{},\"id\":\"1023\",\"type\":\"PanTool\"},{\"attributes\":{\"base\":60,\"mantissas\":[1,2,5,10,15,20,30],\"max_interval\":1800000.0,\"min_interval\":1000.0,\"num_minor_ticks\":0},\"id\":\"1051\",\"type\":\"AdaptiveTicker\"},{\"attributes\":{\"days\":[1,2,3,4,5,6,7,8,9,10,11,12,13,14,15,16,17,18,19,20,21,22,23,24,25,26,27,28,29,30,31]},\"id\":\"1053\",\"type\":\"DaysTicker\"},{\"attributes\":{\"callback\":null},\"id\":\"1005\",\"type\":\"DataRange1d\"},{\"attributes\":{\"active_drag\":\"auto\",\"active_inspect\":\"auto\",\"active_multi\":null,\"active_scroll\":\"auto\",\"active_tap\":\"auto\",\"tools\":[{\"id\":\"1023\",\"type\":\"PanTool\"},{\"id\":\"1024\",\"type\":\"WheelZoomTool\"},{\"id\":\"1025\",\"type\":\"WheelZoomTool\"},{\"id\":\"1026\",\"type\":\"ResetTool\"},{\"id\":\"1027\",\"type\":\"SaveTool\"}]},\"id\":\"1028\",\"type\":\"Toolbar\"},{\"attributes\":{\"fill_alpha\":{\"value\":0.1},\"fill_color\":{\"value\":\"#1f77b4\"},\"line_alpha\":{\"value\":0.1},\"line_color\":{\"value\":\"#1f77b4\"},\"size\":{\"units\":\"screen\",\"value\":3},\"x\":{\"field\":\"x\"},\"y\":{\"field\":\"y\"}},\"id\":\"1038\",\"type\":\"Circle\"},{\"attributes\":{\"days\":[1,4,7,10,13,16,19,22,25,28]},\"id\":\"1054\",\"type\":\"DaysTicker\"},{\"attributes\":{\"days\":[1,8,15,22]},\"id\":\"1055\",\"type\":\"DaysTicker\"},{\"attributes\":{\"formatter\":{\"id\":\"1034\",\"type\":\"DatetimeTickFormatter\"},\"ticker\":{\"id\":\"1014\",\"type\":\"DatetimeTicker\"}},\"id\":\"1013\",\"type\":\"DatetimeAxis\"},{\"attributes\":{\"num_minor_ticks\":5,\"tickers\":[{\"id\":\"1050\",\"type\":\"AdaptiveTicker\"},{\"id\":\"1051\",\"type\":\"AdaptiveTicker\"},{\"id\":\"1052\",\"type\":\"AdaptiveTicker\"},{\"id\":\"1053\",\"type\":\"DaysTicker\"},{\"id\":\"1054\",\"type\":\"DaysTicker\"},{\"id\":\"1055\",\"type\":\"DaysTicker\"},{\"id\":\"1056\",\"type\":\"DaysTicker\"},{\"id\":\"1057\",\"type\":\"MonthsTicker\"},{\"id\":\"1058\",\"type\":\"MonthsTicker\"},{\"id\":\"1059\",\"type\":\"MonthsTicker\"},{\"id\":\"1060\",\"type\":\"MonthsTicker\"},{\"id\":\"1061\",\"type\":\"YearsTicker\"}]},\"id\":\"1014\",\"type\":\"DatetimeTicker\"},{\"attributes\":{\"days\":[1,15]},\"id\":\"1056\",\"type\":\"DaysTicker\"},{\"attributes\":{\"ticker\":{\"id\":\"1014\",\"type\":\"DatetimeTicker\"}},\"id\":\"1017\",\"type\":\"Grid\"},{\"attributes\":{\"dimensions\":\"width\"},\"id\":\"1025\",\"type\":\"WheelZoomTool\"},{\"attributes\":{\"data_source\":{\"id\":\"1036\",\"type\":\"ColumnDataSource\"},\"glyph\":{\"id\":\"1037\",\"type\":\"Circle\"},\"hover_glyph\":null,\"muted_glyph\":null,\"nonselection_glyph\":{\"id\":\"1038\",\"type\":\"Circle\"},\"selection_glyph\":null,\"view\":{\"id\":\"1040\",\"type\":\"CDSView\"}},\"id\":\"1039\",\"type\":\"GlyphRenderer\"},{\"attributes\":{\"data_source\":{\"id\":\"1041\",\"type\":\"ColumnDataSource\"},\"glyph\":{\"id\":\"1042\",\"type\":\"Line\"},\"hover_glyph\":null,\"muted_glyph\":null,\"nonselection_glyph\":{\"id\":\"1043\",\"type\":\"Line\"},\"selection_glyph\":null,\"view\":{\"id\":\"1045\",\"type\":\"CDSView\"}},\"id\":\"1044\",\"type\":\"GlyphRenderer\"},{\"attributes\":{\"fill_alpha\":{\"value\":0.8},\"fill_color\":{\"value\":\"navy\"},\"line_alpha\":{\"value\":0.8},\"line_color\":{\"value\":\"navy\"},\"size\":{\"units\":\"screen\",\"value\":3},\"x\":{\"field\":\"x\"},\"y\":{\"field\":\"y\"}},\"id\":\"1037\",\"type\":\"Circle\"},{\"attributes\":{\"dimensions\":\"height\"},\"id\":\"1024\",\"type\":\"WheelZoomTool\"},{\"attributes\":{\"months\":[0,1,2,3,4,5,6,7,8,9,10,11]},\"id\":\"1057\",\"type\":\"MonthsTicker\"},{\"attributes\":{\"days\":[\"%d/%b\"],\"hours\":[\"%H:%M %d/%b\"],\"months\":[\"%d/%b/%Y\"],\"years\":[\"%d/%b/%Y\"]},\"id\":\"1034\",\"type\":\"DatetimeTickFormatter\"},{\"attributes\":{},\"id\":\"1026\",\"type\":\"ResetTool\"},{\"attributes\":{\"months\":[0,2,4,6,8,10]},\"id\":\"1058\",\"type\":\"MonthsTicker\"},{\"attributes\":{\"callback\":null,\"data\":{\"x\":{\"__ndarray__\":\"AADA0LZpckIAAACZ92tyQgAAQGE4bnJCAACAKXlwckIAAMDxuXJyQgAAALr6dHJCAABAgjt3ckIAAIBKfHlyQgAAwBK9e3JCAAAA2/19ckIAAECjPoByQgAAgGt/gnJCAADAM8CEckIAAAD8AIdyQgAAQMRBiXJCAACAjIKLckIAAMBUw41yQgAAAB0EkHJCAABA5USSckIAAICthZRyQgAAwHXGlnJCAAAAPgeZckIAAEAGSJtyQgAAgM6InXJCAADAlsmfckIAAABfCqJyQgAAQCdLpHJCAACA74umckIAAMC3zKhyQgAAAIANq3JCAABASE6tckIAAIAQj69yQgAAwNjPsXJCAAAAoRC0ckIAAEBpUbZyQgAAgDGSuHJCAADA+dK6ckIAAADCE71yQgAAQIpUv3JCAACAUpXBckIAAMAa1sNyQgAAAOMWxnJCAABAq1fIckIAAIBzmMpyQgAAwDvZzHJCAAAABBrPckIAAEDMWtFyQgAAgJSb03JCAADAXNzVckIAAAAlHdhyQgAAQO1d2nJCAACAtZ7cckIAAMB9395yQgAAAEYg4XJCAABADmHjckIAAIDWoeVyQgAAwJ7i53JCAAAAZyPqckIAAEAvZOxyQgAAgPek7nJCAADAv+XwckIAAACIJvNyQgAAQFBn9XJCAACAGKj3ckIAAMDg6PlyQgAAAKkp/HJCAABAcWr+ckIAAIA5qwBzQgAAwAHsAnNCAAAAyiwFc0IAAECSbQdzQgAAgFquCXNCAADAIu8Lc0IAAADrLw5zQgAAQLNwEHNCAACAe7ESc0IAAMBD8hRzQgAAAAwzF3NCAABA1HMZc0IAAICctBtzQgAAwGT1HXNCAAAALTYgc0IAAED1diJzQgAAgL23JHNCAADAhfgmc0IAAABOOSlzQgAAQBZ6K3NCAACA3rotc0IAAMCm+y9zQgAAAG88MnNCAABAN300c0IAAID/vTZzQgAAwMf+OHNCAAAAkD87c0IAAEBYgD1zQgAAgCDBP3NCAADA6AFCc0IAAACxQkRzQgAAQHmDRnNCAACAQcRIc0IAAMAJBUtzQgAAANJFTXNCAABAmoZPc0IAAIBix1FzQgAAwCoIVHNCAAAA80hWc0IAAEC7iVhzQgAAgIPKWnNCAADASwtdc0IAAAAUTF9zQgAAQNyMYXNCAACApM1jc0IAAMBsDmZzQgAAADVPaHNCAABA/Y9qc0IAAIDF0GxzQgAAwI0Rb3NCAAAAVlJxc0IAAEAek3NzQgAAgObTdXNCAADArhR4c0IAAAB3VXpzQgAAQD+WfHNCAACAB9d+c0IAAMDPF4FzQgAAAJhYg3NCAABAYJmFc0IAAIAo2odzQgAAwPAainNCAAAAuVuMc0IAAECBnI5zQgAAgEndkHNCAADAER6Tc0IAAADaXpVzQgAAQKKfl3NCAACAauCZc0IAAMAyIZxzQgAAAPthnnNCAABAw6Kgc0IAAICL46JzQgAAwFMkpXNCAAAAHGWnc0IAAEDkpalzQgAAgKzmq3NCAADAdCeuc0IAAAA9aLBzQgAAQAWpsnNCAACAzem0c0IAAMCVKrdzQgAAAF5ruXNCAABAJqy7c0IAAIDu7L1zQgAAwLYtwHNCAAAAf27Cc0IAAEBHr8RzQgAAgA/wxnNCAADA1zDJc0IAAACgcctzQgAAQGiyzXNCAACAMPPPc0IAAMD4M9JzQgAAAMF01HNCAABAibXWc0IAAIBR9thzQgAAwBk323NCAAAA4nfdc0IAAECquN9zQgAAgHL54XNCAADAOjrkc0IAAAADe+ZzQgAAQMu76HNCAACAk/zqc0IAAMBbPe1zQgAAACR+73NCAABA7L7xc0IAAIC0//NzQgAAwHxA9nNCAAAARYH4c0IAAEANwvpzQgAAgNUC/XNCAADAnUP/c0IAAABmhAF0Qg==\",\"dtype\":\"float64\",\"shape\":[182]},\"y\":{\"__ndarray__\":\"mZmZmZmZ9T/kSZ/0SZ/kP3Ucx3EcxwNAeXd3d3d3B0CqqqqqqqoXQA4RERERER9A7u7u7u7uIkDIcRzHcZwlQD7pkz7pEyRANDMzMzOzMEDAFmzBFuwqQJ70SZ/0SSpAchzHcRxHKUAnfdInfVI0QPDu7u7u7i9AXLAFW7DFMUBJn/RJn7Q0QIeIiIiISDhA5DiO4zjOOUC3YAu2YAs3QJ70SZ/0STpAiYiIiIjIOEDw7u7u7u46QDQzMzMzszlAiYiIiIiIO0C2YAu2YIs6QPVJn/RJ3zpAzMzMzMzMOUAcx3Ecx7E4QMdxHMdx3DdALtiCLdjCOUD7pE/6pI82QKD0SZ/0iTNALtiCLdjCNEDu7u7u7i41QNMnfdInPTFAIiIiIiKiLkAu2IIt2AItQPVJn/RJHzBAchzHcRzHJUA6juM4juMgQFywBVuwBSRAzczMzMxMIEDOzMzMzMwVQBERERERERZAUPqkT/qkF0Df3d3d3d0XQBVswRZswfI/MtiCLdiC9T+O4ziO4zjmv9yCLdiCLQxAwBZswRZs+T8QERERERH9v9XMzMzMzOS/fNInfdInHUDv7u7u7u4bQEDpkz7pkx9AJ33SJ33SHkAREREREREmQEqf9EmfdCdAgy3Ygi3YI0C3YAu2YIstQOQ4juM4jilA7u7u7u6uMUBmZmZmZuYxQPVJn/RJHy1AAAAAAABAMUAofdInfdIwQBzHcRzH8TRA2YIt2IJtN0BlZmZmZqY3QERERERExDhAbMEWbMEWOUAVbMEWbME7QCMiIiIiIjtAERERERHROUBgC7ZgC/Y7QFD6pE/6ZDtA2IIt2IKtOUC3YAu2YMs6QLVgC7ZgCzlARERERESEO0DMzMzMzIw5QPDu7u7u7jVArKqqqqrqNEBFRERERAQzQPVJn/RJnzVALdiCLdgCMUDYgi3Ygq0xQAVbsAVbsC5AEhERERERKUAnfdInfdIhQPRJn/RJnyJAP+mTPumTJUASEREREZEiQD7pkz7pkyJABFuwBVuwFUD0SZ/0SZ8RQPykT/qkTxVAu7u7u7u7CUB+0id90icHQGZmZmZmZhRA2YIt2IItEECyBVuwBVsRQLEFW7AFWxhAjuM4juM4BkCi9Emf9EkHQCIiIiIiIhhA393d3d3dF0C5YAu2YAseQE76pE/6JChABVuwBVuwLEAnfdInfVIuQJQ+6ZM+6ShAIiIiIiIiLkC2YAu2YEsxQJQ+6ZM+KTNAsgVbsAVbMkA+6ZM+6VMxQOQ4juM4DjNAS5/0SZ90NkCbmZmZmZk3QNMnfdInfTdAYgu2YAu2OEBbsAVbsMU5QHIcx3EcxztALNiCLdiCO0D5pE/6pM85QMzMzMzMDDpAZ2ZmZmbmOkBbsAVbsMU7QLAFW7AFmztAVlVVVVVVOkD7pE/6pE84QEqf9EmftDhANDMzMzOzOUDkOI7jOE40QKRP+qRP+jNApU/6pE96M0BbsAVbsEUyQAAAAAAAACpAlD7pkz5pLUB80id90icvQO7u7u7u7ihA+aRP+qRPJ0Ce9Emf9EkgQEDpkz7pkx9ALtiCLdiCGECO4ziO4zgiQKmqqqqqqhlAioiIiIiIGUD8//////8BQNXu7u7u7t4/GWzBFmzBDkCM4ziO4zgKQMQWbMEWbBtAS5/0SZ90IECCLdiCLdggQIuIiIiIiBJAQOmTPumTE0DjOI7jOI4RQGdmZmZm5iRAYAu2YAu2JUBlZmZmZuYoQLu7u7u7OyJARUREREREKEDZgi3Ygi0vQD7pkz7pEy5AYAu2YAu2KkCUPumTPqkwQC7Ygi3YwjBA3t3d3d0dNUDpkz7pk/43QFuwBVuwRTlAgi3Ygi1YOECUPumTPqk5QH3SJ33SJzlAsAVbsAXbPECHiIiIiIg5QBzHcRzH8TtAF2zBFmxBOkBrwRZswRY6QA==\",\"dtype\":\"float64\",\"shape\":[182]}},\"selected\":{\"id\":\"1065\",\"type\":\"Selection\"},\"selection_policy\":{\"id\":\"1064\",\"type\":\"UnionRenderers\"}},\"id\":\"1041\",\"type\":\"ColumnDataSource\"},{\"attributes\":{\"text\":\"Temperature vs Datetime\"},\"id\":\"1003\",\"type\":\"Title\"},{\"attributes\":{\"source\":{\"id\":\"1041\",\"type\":\"ColumnDataSource\"}},\"id\":\"1045\",\"type\":\"CDSView\"},{\"attributes\":{\"months\":[0,4,8]},\"id\":\"1059\",\"type\":\"MonthsTicker\"},{\"attributes\":{},\"id\":\"1009\",\"type\":\"LinearScale\"},{\"attributes\":{\"dimension\":1,\"ticker\":{\"id\":\"1019\",\"type\":\"BasicTicker\"}},\"id\":\"1022\",\"type\":\"Grid\"},{\"attributes\":{\"line_alpha\":0.1,\"line_color\":\"#1f77b4\",\"x\":{\"field\":\"x\"},\"y\":{\"field\":\"y\"}},\"id\":\"1043\",\"type\":\"Line\"},{\"attributes\":{},\"id\":\"1027\",\"type\":\"SaveTool\"},{\"attributes\":{\"months\":[0,6]},\"id\":\"1060\",\"type\":\"MonthsTicker\"},{\"attributes\":{},\"id\":\"1011\",\"type\":\"LinearScale\"},{\"attributes\":{},\"id\":\"1063\",\"type\":\"Selection\"},{\"attributes\":{\"callback\":null},\"id\":\"1007\",\"type\":\"DataRange1d\"},{\"attributes\":{},\"id\":\"1049\",\"type\":\"BasicTickFormatter\"},{\"attributes\":{},\"id\":\"1061\",\"type\":\"YearsTicker\"},{\"attributes\":{\"line_alpha\":0.8,\"line_color\":\"navy\",\"x\":{\"field\":\"x\"},\"y\":{\"field\":\"y\"}},\"id\":\"1042\",\"type\":\"Line\"},{\"attributes\":{},\"id\":\"1062\",\"type\":\"UnionRenderers\"},{\"attributes\":{},\"id\":\"1064\",\"type\":\"UnionRenderers\"},{\"attributes\":{\"mantissas\":[1,2,5],\"max_interval\":500.0,\"num_minor_ticks\":0},\"id\":\"1050\",\"type\":\"AdaptiveTicker\"},{\"attributes\":{},\"id\":\"1065\",\"type\":\"Selection\"},{\"attributes\":{\"callback\":null,\"data\":{\"x\":{\"__ndarray__\":\"AADA0LZpckIAAACZ92tyQgAAQGE4bnJCAACAKXlwckIAAMDxuXJyQgAAALr6dHJCAABAgjt3ckIAAIBKfHlyQgAAwBK9e3JCAAAA2/19ckIAAECjPoByQgAAgGt/gnJCAADAM8CEckIAAAD8AIdyQgAAQMRBiXJCAACAjIKLckIAAMBUw41yQgAAAB0EkHJCAABA5USSckIAAICthZRyQgAAwHXGlnJCAAAAPgeZckIAAEAGSJtyQgAAgM6InXJCAADAlsmfckIAAABfCqJyQgAAQCdLpHJCAACA74umckIAAMC3zKhyQgAAAIANq3JCAABASE6tckIAAIAQj69yQgAAwNjPsXJCAAAAoRC0ckIAAEBpUbZyQgAAgDGSuHJCAADA+dK6ckIAAADCE71yQgAAQIpUv3JCAACAUpXBckIAAMAa1sNyQgAAAOMWxnJCAABAq1fIckIAAIBzmMpyQgAAwDvZzHJCAAAABBrPckIAAEDMWtFyQgAAgJSb03JCAADAXNzVckIAAAAlHdhyQgAAQO1d2nJCAACAtZ7cckIAAMB9395yQgAAAEYg4XJCAABADmHjckIAAIDWoeVyQgAAwJ7i53JCAAAAZyPqckIAAEAvZOxyQgAAgPek7nJCAADAv+XwckIAAACIJvNyQgAAQFBn9XJCAACAGKj3ckIAAMDg6PlyQgAAAKkp/HJCAABAcWr+ckIAAIA5qwBzQgAAwAHsAnNCAAAAyiwFc0IAAECSbQdzQgAAgFquCXNCAADAIu8Lc0IAAADrLw5zQgAAQLNwEHNCAACAe7ESc0IAAMBD8hRzQgAAAAwzF3NCAABA1HMZc0IAAICctBtzQgAAwGT1HXNCAAAALTYgc0IAAED1diJzQgAAgL23JHNCAADAhfgmc0IAAABOOSlzQgAAQBZ6K3NCAACA3rotc0IAAMCm+y9zQgAAAG88MnNCAABAN300c0IAAID/vTZzQgAAwMf+OHNCAAAAkD87c0IAAEBYgD1zQgAAgCDBP3NCAADA6AFCc0IAAACxQkRzQgAAQHmDRnNCAACAQcRIc0IAAMAJBUtzQgAAANJFTXNCAABAmoZPc0IAAIBix1FzQgAAwCoIVHNCAAAA80hWc0IAAEC7iVhzQgAAgIPKWnNCAADASwtdc0IAAAAUTF9zQgAAQNyMYXNCAACApM1jc0IAAMBsDmZzQgAAADVPaHNCAABA/Y9qc0IAAIDF0GxzQgAAwI0Rb3NCAAAAVlJxc0IAAEAek3NzQgAAgObTdXNCAADArhR4c0IAAAB3VXpzQgAAQD+WfHNCAACAB9d+c0IAAMDPF4FzQgAAAJhYg3NCAABAYJmFc0IAAIAo2odzQgAAwPAainNCAAAAuVuMc0IAAECBnI5zQgAAgEndkHNCAADAER6Tc0IAAADaXpVzQgAAQKKfl3NCAACAauCZc0IAAMAyIZxzQgAAAPthnnNCAABAw6Kgc0IAAICL46JzQgAAwFMkpXNCAAAAHGWnc0IAAEDkpalzQgAAgKzmq3NCAADAdCeuc0IAAAA9aLBzQgAAQAWpsnNCAACAzem0c0IAAMCVKrdzQgAAAF5ruXNCAABAJqy7c0IAAIDu7L1zQgAAwLYtwHNCAAAAf27Cc0IAAEBHr8RzQgAAgA/wxnNCAADA1zDJc0IAAACgcctzQgAAQGiyzXNCAACAMPPPc0IAAMD4M9JzQgAAAMF01HNCAABAibXWc0IAAIBR9thzQgAAwBk323NCAAAA4nfdc0IAAECquN9zQgAAgHL54XNCAADAOjrkc0IAAAADe+ZzQgAAQMu76HNCAACAk/zqc0IAAMBbPe1zQgAAACR+73NCAABA7L7xc0IAAIC0//NzQgAAwHxA9nNCAAAARYH4c0IAAEANwvpzQgAAgNUC/XNCAADAnUP/c0IAAABmhAF0Qg==\",\"dtype\":\"float64\",\"shape\":[182]},\"y\":{\"__ndarray__\":\"mZmZmZmZ9T/kSZ/0SZ/kP3Ucx3EcxwNAeXd3d3d3B0CqqqqqqqoXQA4RERERER9A7u7u7u7uIkDIcRzHcZwlQD7pkz7pEyRANDMzMzOzMEDAFmzBFuwqQJ70SZ/0SSpAchzHcRxHKUAnfdInfVI0QPDu7u7u7i9AXLAFW7DFMUBJn/RJn7Q0QIeIiIiISDhA5DiO4zjOOUC3YAu2YAs3QJ70SZ/0STpAiYiIiIjIOEDw7u7u7u46QDQzMzMzszlAiYiIiIiIO0C2YAu2YIs6QPVJn/RJ3zpAzMzMzMzMOUAcx3Ecx7E4QMdxHMdx3DdALtiCLdjCOUD7pE/6pI82QKD0SZ/0iTNALtiCLdjCNEDu7u7u7i41QNMnfdInPTFAIiIiIiKiLkAu2IIt2AItQPVJn/RJHzBAchzHcRzHJUA6juM4juMgQFywBVuwBSRAzczMzMxMIEDOzMzMzMwVQBERERERERZAUPqkT/qkF0Df3d3d3d0XQBVswRZswfI/MtiCLdiC9T+O4ziO4zjmv9yCLdiCLQxAwBZswRZs+T8QERERERH9v9XMzMzMzOS/fNInfdInHUDv7u7u7u4bQEDpkz7pkx9AJ33SJ33SHkAREREREREmQEqf9EmfdCdAgy3Ygi3YI0C3YAu2YIstQOQ4juM4jilA7u7u7u6uMUBmZmZmZuYxQPVJn/RJHy1AAAAAAABAMUAofdInfdIwQBzHcRzH8TRA2YIt2IJtN0BlZmZmZqY3QERERERExDhAbMEWbMEWOUAVbMEWbME7QCMiIiIiIjtAERERERHROUBgC7ZgC/Y7QFD6pE/6ZDtA2IIt2IKtOUC3YAu2YMs6QLVgC7ZgCzlARERERESEO0DMzMzMzIw5QPDu7u7u7jVArKqqqqrqNEBFRERERAQzQPVJn/RJnzVALdiCLdgCMUDYgi3Ygq0xQAVbsAVbsC5AEhERERERKUAnfdInfdIhQPRJn/RJnyJAP+mTPumTJUASEREREZEiQD7pkz7pkyJABFuwBVuwFUD0SZ/0SZ8RQPykT/qkTxVAu7u7u7u7CUB+0id90icHQGZmZmZmZhRA2YIt2IItEECyBVuwBVsRQLEFW7AFWxhAjuM4juM4BkCi9Emf9EkHQCIiIiIiIhhA393d3d3dF0C5YAu2YAseQE76pE/6JChABVuwBVuwLEAnfdInfVIuQJQ+6ZM+6ShAIiIiIiIiLkC2YAu2YEsxQJQ+6ZM+KTNAsgVbsAVbMkA+6ZM+6VMxQOQ4juM4DjNAS5/0SZ90NkCbmZmZmZk3QNMnfdInfTdAYgu2YAu2OEBbsAVbsMU5QHIcx3EcxztALNiCLdiCO0D5pE/6pM85QMzMzMzMDDpAZ2ZmZmbmOkBbsAVbsMU7QLAFW7AFmztAVlVVVVVVOkD7pE/6pE84QEqf9EmftDhANDMzMzOzOUDkOI7jOE40QKRP+qRP+jNApU/6pE96M0BbsAVbsEUyQAAAAAAAACpAlD7pkz5pLUB80id90icvQO7u7u7u7ihA+aRP+qRPJ0Ce9Emf9EkgQEDpkz7pkx9ALtiCLdiCGECO4ziO4zgiQKmqqqqqqhlAioiIiIiIGUD8//////8BQNXu7u7u7t4/GWzBFmzBDkCM4ziO4zgKQMQWbMEWbBtAS5/0SZ90IECCLdiCLdggQIuIiIiIiBJAQOmTPumTE0DjOI7jOI4RQGdmZmZm5iRAYAu2YAu2JUBlZmZmZuYoQLu7u7u7OyJARUREREREKEDZgi3Ygi0vQD7pkz7pEy5AYAu2YAu2KkCUPumTPqkwQC7Ygi3YwjBA3t3d3d0dNUDpkz7pk/43QFuwBVuwRTlAgi3Ygi1YOECUPumTPqk5QH3SJ33SJzlAsAVbsAXbPECHiIiIiIg5QBzHcRzH8TtAF2zBFmxBOkBrwRZswRY6QA==\",\"dtype\":\"float64\",\"shape\":[182]}},\"selected\":{\"id\":\"1063\",\"type\":\"Selection\"},\"selection_policy\":{\"id\":\"1062\",\"type\":\"UnionRenderers\"}},\"id\":\"1036\",\"type\":\"ColumnDataSource\"}],\"root_ids\":[\"1002\"]},\"title\":\"Bokeh Application\",\"version\":\"1.3.4\"}};\n",
       "  var render_items = [{\"docid\":\"9524124a-7258-41ab-bf4a-c8b9cfa68acf\",\"roots\":{\"1002\":\"92ec3894-f8fd-4fdb-b1bf-95bda4308144\"}}];\n",
       "  root.Bokeh.embed.embed_items_notebook(docs_json, render_items);\n",
       "\n",
       "  }\n",
       "  if (root.Bokeh !== undefined) {\n",
       "    embed_document(root);\n",
       "  } else {\n",
       "    var attempts = 0;\n",
       "    var timer = setInterval(function(root) {\n",
       "      if (root.Bokeh !== undefined) {\n",
       "        embed_document(root);\n",
       "        clearInterval(timer);\n",
       "      }\n",
       "      attempts++;\n",
       "      if (attempts > 100) {\n",
       "        console.log(\"Bokeh: ERROR: Unable to run BokehJS code because BokehJS library is missing\");\n",
       "        clearInterval(timer);\n",
       "      }\n",
       "    }, 10, root)\n",
       "  }\n",
       "})(window);"
      ],
      "application/vnd.bokehjs_exec.v0+json": ""
     },
     "metadata": {
      "application/vnd.bokehjs_exec.v0+json": {
       "id": "1002"
      }
     },
     "output_type": "display_data"
    }
   ],
   "source": [
    "grouped_sales = feat.groupby(\"Date\")[\"Celsius\"].median()\n",
    "p = plot.plot_time_series_count(grouped_sales.index, grouped_sales, color=\"navy\", title=\"Temperature vs Datetime\", relative_y_axis=True)\n",
    "show(p)"
   ]
  },
  {
   "cell_type": "code",
   "execution_count": null,
   "metadata": {},
   "outputs": [],
   "source": []
  },
  {
   "cell_type": "code",
   "execution_count": null,
   "metadata": {},
   "outputs": [],
   "source": []
  },
  {
   "cell_type": "markdown",
   "metadata": {},
   "source": [
    "# <font color=\"navy\">Fuel_Price</font>\n",
    "cost of fuel in the region"
   ]
  },
  {
   "cell_type": "code",
   "execution_count": 8,
   "metadata": {},
   "outputs": [
    {
     "data": {
      "text/plain": [
       "<matplotlib.axes._subplots.AxesSubplot at 0x7f3e49cced90>"
      ]
     },
     "execution_count": 8,
     "metadata": {},
     "output_type": "execute_result"
    }
   ],
   "source": [
    "feat[\"Fuel_Price\"].plot.hist()"
   ]
  },
  {
   "cell_type": "code",
   "execution_count": null,
   "metadata": {},
   "outputs": [],
   "source": []
  },
  {
   "cell_type": "markdown",
   "metadata": {},
   "source": [
    "# <font color=\"navy\">CPI</font>\n",
    "he consumer price index <br>\n",
    "A Consumer Price Index measures changes in the price level of a weighted average market basket of consumer goods and services purchased by households. \n",
    "https://en.wikipedia.org/wiki/Consumer_price_index"
   ]
  },
  {
   "cell_type": "code",
   "execution_count": 9,
   "metadata": {},
   "outputs": [
    {
     "data": {
      "text/plain": [
       "<matplotlib.axes._subplots.AxesSubplot at 0x7f3e495c8650>"
      ]
     },
     "execution_count": 9,
     "metadata": {},
     "output_type": "execute_result"
    },
    {
     "data": {
      "image/png": "[encoded data removed]",
      "text/plain": [
       "<Figure size 432x288 with 1 Axes>"
      ]
     },
     "metadata": {
      "needs_background": "light"
     },
     "output_type": "display_data"
    }
   ],
   "source": [
    "feat[\"CPI\"].plot.hist()"
   ]
  },
  {
   "cell_type": "markdown",
   "metadata": {},
   "source": [
    "# <font color=\"navy\">Unemployment</font>\n",
    "the unemployment rate"
   ]
  },
  {
   "cell_type": "code",
   "execution_count": 10,
   "metadata": {},
   "outputs": [
    {
     "data": {
      "text/plain": [
       "<matplotlib.axes._subplots.AxesSubplot at 0x7f3e49cce050>"
      ]
     },
     "execution_count": 10,
     "metadata": {},
     "output_type": "execute_result"
    },
    {
     "data": {
      "image/png": "[encoded data removed]",
      "text/plain": [
       "<Figure size 432x288 with 1 Axes>"
      ]
     },
     "metadata": {
      "needs_background": "light"
     },
     "output_type": "display_data"
    }
   ],
   "source": [
    "feat[\"Unemployment\"].plot.hist()"
   ]
  },
  {
   "cell_type": "code",
   "execution_count": null,
   "metadata": {},
   "outputs": [],
   "source": []
  },
  {
   "cell_type": "markdown",
   "metadata": {},
   "source": [
    "# <font color=\"navy\">Day of month</font>"
   ]
  },
  {
   "cell_type": "code",
   "execution_count": 11,
   "metadata": {},
   "outputs": [
    {
     "data": {
      "text/plain": [
       "<matplotlib.axes._subplots.AxesSubplot at 0x7f3e49cce1d0>"
      ]
     },
     "execution_count": 11,
     "metadata": {},
     "output_type": "execute_result"
    },
    {
     "data": {
      "image/png": "[encoded data removed]",
      "text/plain": [
       "<Figure size 432x288 with 1 Axes>"
      ]
     },
     "metadata": {
      "needs_background": "light"
     },
     "output_type": "display_data"
    }
   ],
   "source": [
    "feat[\"day_n\"].plot.hist()"
   ]
  },
  {
   "cell_type": "code",
   "execution_count": null,
   "metadata": {},
   "outputs": [],
   "source": []
  }
 ],
 "metadata": {
  "kernelspec": {
   "display_name": "Python 3",
   "language": "python",
   "name": "python3"
  },
  "language_info": {
   "codemirror_mode": {
    "name": "ipython",
    "version": 3
   },
   "file_extension": ".py",
   "mimetype": "text/x-python",
   "name": "python",
   "nbconvert_exporter": "python",
   "pygments_lexer": "ipython3",
   "version": "3.7.4"
  }
 },
 "nbformat": 4,
 "nbformat_minor": 2
}
