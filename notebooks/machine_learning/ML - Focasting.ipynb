{
 "cells": [
  {
   "cell_type": "code",
   "execution_count": 1,
   "metadata": {},
   "outputs": [
    {
     "name": "stdout",
     "output_type": "stream",
     "text": [
      "working dir: '/home/tales/ds/walmart-recruiting-store-sales-forecasting'\n"
     ]
    }
   ],
   "source": [
    "#Setting working path required for relative package loading\n",
    "\n",
    "import os\n",
    "os.chdir(\"/home/tales/ds/walmart-recruiting-store-sales-forecasting/\")\n",
    "print(\"working dir:\", \"\\'\" + os.getcwd() + \"\\'\")"
   ]
  },
  {
   "cell_type": "code",
   "execution_count": 2,
   "metadata": {},
   "outputs": [],
   "source": [
    "import pandas as pd\n",
    "\n",
    "from src.data import dao\n",
    "from src.processment import process\n",
    "from src.ml import evaluation\n",
    "from src.utils import pretties, time_utils, stats\n",
    "from src.visualization import plot\n",
    "from bokeh.plotting import show, output_notebook"
   ]
  },
  {
   "cell_type": "code",
   "execution_count": 3,
   "metadata": {},
   "outputs": [
    {
     "data": {
      "text/html": [
       "\n",
       "    <div class=\"bk-root\">\n",
       "        <a href=\"https://bokeh.pydata.org\" target=\"_blank\" class=\"bk-logo bk-logo-small bk-logo-notebook\"></a>\n",
       "        <span id=\"1001\">Loading BokehJS ...</span>\n",
       "    </div>"
      ]
     },
     "metadata": {},
     "output_type": "display_data"
    },
    {
     "data": {
      "application/javascript": [
       "\n",
       "(function(root) {\n",
       "  function now() {\n",
       "    return new Date();\n",
       "  }\n",
       "\n",
       "  var force = true;\n",
       "\n",
       "  if (typeof root._bokeh_onload_callbacks === \"undefined\" || force === true) {\n",
       "    root._bokeh_onload_callbacks = [];\n",
       "    root._bokeh_is_loading = undefined;\n",
       "  }\n",
       "\n",
       "  var JS_MIME_TYPE = 'application/javascript';\n",
       "  var HTML_MIME_TYPE = 'text/html';\n",
       "  var EXEC_MIME_TYPE = 'application/vnd.bokehjs_exec.v0+json';\n",
       "  var CLASS_NAME = 'output_bokeh rendered_html';\n",
       "\n",
       "  /**\n",
       "   * Render data to the DOM node\n",
       "   */\n",
       "  function render(props, node) {\n",
       "    var script = document.createElement(\"script\");\n",
       "    node.appendChild(script);\n",
       "  }\n",
       "\n",
       "  /**\n",
       "   * Handle when an output is cleared or removed\n",
       "   */\n",
       "  function handleClearOutput(event, handle) {\n",
       "    var cell = handle.cell;\n",
       "\n",
       "    var id = cell.output_area._bokeh_element_id;\n",
       "    var server_id = cell.output_area._bokeh_server_id;\n",
       "    // Clean up Bokeh references\n",
       "    if (id != null && id in Bokeh.index) {\n",
       "      Bokeh.index[id].model.document.clear();\n",
       "      delete Bokeh.index[id];\n",
       "    }\n",
       "\n",
       "    if (server_id !== undefined) {\n",
       "      // Clean up Bokeh references\n",
       "      var cmd = \"from bokeh.io.state import curstate; print(curstate().uuid_to_server['\" + server_id + \"'].get_sessions()[0].document.roots[0]._id)\";\n",
       "      cell.notebook.kernel.execute(cmd, {\n",
       "        iopub: {\n",
       "          output: function(msg) {\n",
       "            var id = msg.content.text.trim();\n",
       "            if (id in Bokeh.index) {\n",
       "              Bokeh.index[id].model.document.clear();\n",
       "              delete Bokeh.index[id];\n",
       "            }\n",
       "          }\n",
       "        }\n",
       "      });\n",
       "      // Destroy server and session\n",
       "      var cmd = \"import bokeh.io.notebook as ion; ion.destroy_server('\" + server_id + \"')\";\n",
       "      cell.notebook.kernel.execute(cmd);\n",
       "    }\n",
       "  }\n",
       "\n",
       "  /**\n",
       "   * Handle when a new output is added\n",
       "   */\n",
       "  function handleAddOutput(event, handle) {\n",
       "    var output_area = handle.output_area;\n",
       "    var output = handle.output;\n",
       "\n",
       "    // limit handleAddOutput to display_data with EXEC_MIME_TYPE content only\n",
       "    if ((output.output_type != \"display_data\") || (!output.data.hasOwnProperty(EXEC_MIME_TYPE))) {\n",
       "      return\n",
       "    }\n",
       "\n",
       "    var toinsert = output_area.element.find(\".\" + CLASS_NAME.split(' ')[0]);\n",
       "\n",
       "    if (output.metadata[EXEC_MIME_TYPE][\"id\"] !== undefined) {\n",
       "      toinsert[toinsert.length - 1].firstChild.textContent = output.data[JS_MIME_TYPE];\n",
       "      // store reference to embed id on output_area\n",
       "      output_area._bokeh_element_id = output.metadata[EXEC_MIME_TYPE][\"id\"];\n",
       "    }\n",
       "    if (output.metadata[EXEC_MIME_TYPE][\"server_id\"] !== undefined) {\n",
       "      var bk_div = document.createElement(\"div\");\n",
       "      bk_div.innerHTML = output.data[HTML_MIME_TYPE];\n",
       "      var script_attrs = bk_div.children[0].attributes;\n",
       "      for (var i = 0; i < script_attrs.length; i++) {\n",
       "        toinsert[toinsert.length - 1].firstChild.setAttribute(script_attrs[i].name, script_attrs[i].value);\n",
       "      }\n",
       "      // store reference to server id on output_area\n",
       "      output_area._bokeh_server_id = output.metadata[EXEC_MIME_TYPE][\"server_id\"];\n",
       "    }\n",
       "  }\n",
       "\n",
       "  function register_renderer(events, OutputArea) {\n",
       "\n",
       "    function append_mime(data, metadata, element) {\n",
       "      // create a DOM node to render to\n",
       "      var toinsert = this.create_output_subarea(\n",
       "        metadata,\n",
       "        CLASS_NAME,\n",
       "        EXEC_MIME_TYPE\n",
       "      );\n",
       "      this.keyboard_manager.register_events(toinsert);\n",
       "      // Render to node\n",
       "      var props = {data: data, metadata: metadata[EXEC_MIME_TYPE]};\n",
       "      render(props, toinsert[toinsert.length - 1]);\n",
       "      element.append(toinsert);\n",
       "      return toinsert\n",
       "    }\n",
       "\n",
       "    /* Handle when an output is cleared or removed */\n",
       "    events.on('clear_output.CodeCell', handleClearOutput);\n",
       "    events.on('delete.Cell', handleClearOutput);\n",
       "\n",
       "    /* Handle when a new output is added */\n",
       "    events.on('output_added.OutputArea', handleAddOutput);\n",
       "\n",
       "    /**\n",
       "     * Register the mime type and append_mime function with output_area\n",
       "     */\n",
       "    OutputArea.prototype.register_mime_type(EXEC_MIME_TYPE, append_mime, {\n",
       "      /* Is output safe? */\n",
       "      safe: true,\n",
       "      /* Index of renderer in `output_area.display_order` */\n",
       "      index: 0\n",
       "    });\n",
       "  }\n",
       "\n",
       "  // register the mime type if in Jupyter Notebook environment and previously unregistered\n",
       "  if (root.Jupyter !== undefined) {\n",
       "    var events = require('base/js/events');\n",
       "    var OutputArea = require('notebook/js/outputarea').OutputArea;\n",
       "\n",
       "    if (OutputArea.prototype.mime_types().indexOf(EXEC_MIME_TYPE) == -1) {\n",
       "      register_renderer(events, OutputArea);\n",
       "    }\n",
       "  }\n",
       "\n",
       "  \n",
       "  if (typeof (root._bokeh_timeout) === \"undefined\" || force === true) {\n",
       "    root._bokeh_timeout = Date.now() + 5000;\n",
       "    root._bokeh_failed_load = false;\n",
       "  }\n",
       "\n",
       "  var NB_LOAD_WARNING = {'data': {'text/html':\n",
       "     \"<div style='background-color: #fdd'>\\n\"+\n",
       "     \"<p>\\n\"+\n",
       "     \"BokehJS does not appear to have successfully loaded. If loading BokehJS from CDN, this \\n\"+\n",
       "     \"may be due to a slow or bad network connection. Possible fixes:\\n\"+\n",
       "     \"</p>\\n\"+\n",
       "     \"<ul>\\n\"+\n",
       "     \"<li>re-rerun `output_notebook()` to attempt to load from CDN again, or</li>\\n\"+\n",
       "     \"<li>use INLINE resources instead, as so:</li>\\n\"+\n",
       "     \"</ul>\\n\"+\n",
       "     \"<code>\\n\"+\n",
       "     \"from bokeh.resources import INLINE\\n\"+\n",
       "     \"output_notebook(resources=INLINE)\\n\"+\n",
       "     \"</code>\\n\"+\n",
       "     \"</div>\"}};\n",
       "\n",
       "  function display_loaded() {\n",
       "    var el = document.getElementById(\"1001\");\n",
       "    if (el != null) {\n",
       "      el.textContent = \"BokehJS is loading...\";\n",
       "    }\n",
       "    if (root.Bokeh !== undefined) {\n",
       "      if (el != null) {\n",
       "        el.textContent = \"BokehJS \" + root.Bokeh.version + \" successfully loaded.\";\n",
       "      }\n",
       "    } else if (Date.now() < root._bokeh_timeout) {\n",
       "      setTimeout(display_loaded, 100)\n",
       "    }\n",
       "  }\n",
       "\n",
       "\n",
       "  function run_callbacks() {\n",
       "    try {\n",
       "      root._bokeh_onload_callbacks.forEach(function(callback) {\n",
       "        if (callback != null)\n",
       "          callback();\n",
       "      });\n",
       "    } finally {\n",
       "      delete root._bokeh_onload_callbacks\n",
       "    }\n",
       "    console.debug(\"Bokeh: all callbacks have finished\");\n",
       "  }\n",
       "\n",
       "  function load_libs(css_urls, js_urls, callback) {\n",
       "    if (css_urls == null) css_urls = [];\n",
       "    if (js_urls == null) js_urls = [];\n",
       "\n",
       "    root._bokeh_onload_callbacks.push(callback);\n",
       "    if (root._bokeh_is_loading > 0) {\n",
       "      console.debug(\"Bokeh: BokehJS is being loaded, scheduling callback at\", now());\n",
       "      return null;\n",
       "    }\n",
       "    if (js_urls == null || js_urls.length === 0) {\n",
       "      run_callbacks();\n",
       "      return null;\n",
       "    }\n",
       "    console.debug(\"Bokeh: BokehJS not loaded, scheduling load and callback at\", now());\n",
       "    root._bokeh_is_loading = css_urls.length + js_urls.length;\n",
       "\n",
       "    function on_load() {\n",
       "      root._bokeh_is_loading--;\n",
       "      if (root._bokeh_is_loading === 0) {\n",
       "        console.debug(\"Bokeh: all BokehJS libraries/stylesheets loaded\");\n",
       "        run_callbacks()\n",
       "      }\n",
       "    }\n",
       "\n",
       "    function on_error() {\n",
       "      console.error(\"failed to load \" + url);\n",
       "    }\n",
       "\n",
       "    for (var i = 0; i < css_urls.length; i++) {\n",
       "      var url = css_urls[i];\n",
       "      const element = document.createElement(\"link\");\n",
       "      element.onload = on_load;\n",
       "      element.onerror = on_error;\n",
       "      element.rel = \"stylesheet\";\n",
       "      element.type = \"text/css\";\n",
       "      element.href = url;\n",
       "      console.debug(\"Bokeh: injecting link tag for BokehJS stylesheet: \", url);\n",
       "      document.body.appendChild(element);\n",
       "    }\n",
       "\n",
       "    for (var i = 0; i < js_urls.length; i++) {\n",
       "      var url = js_urls[i];\n",
       "      var element = document.createElement('script');\n",
       "      element.onload = on_load;\n",
       "      element.onerror = on_error;\n",
       "      element.async = false;\n",
       "      element.src = url;\n",
       "      console.debug(\"Bokeh: injecting script tag for BokehJS library: \", url);\n",
       "      document.head.appendChild(element);\n",
       "    }\n",
       "  };var element = document.getElementById(\"1001\");\n",
       "  if (element == null) {\n",
       "    console.error(\"Bokeh: ERROR: autoload.js configured with elementid '1001' but no matching script tag was found. \")\n",
       "    return false;\n",
       "  }\n",
       "\n",
       "  function inject_raw_css(css) {\n",
       "    const element = document.createElement(\"style\");\n",
       "    element.appendChild(document.createTextNode(css));\n",
       "    document.body.appendChild(element);\n",
       "  }\n",
       "\n",
       "  var js_urls = [\"https://cdn.pydata.org/bokeh/release/bokeh-1.3.4.min.js\", \"https://cdn.pydata.org/bokeh/release/bokeh-widgets-1.3.4.min.js\", \"https://cdn.pydata.org/bokeh/release/bokeh-tables-1.3.4.min.js\", \"https://cdn.pydata.org/bokeh/release/bokeh-gl-1.3.4.min.js\"];\n",
       "  var css_urls = [];\n",
       "\n",
       "  var inline_js = [\n",
       "    function(Bokeh) {\n",
       "      Bokeh.set_log_level(\"info\");\n",
       "    },\n",
       "    \n",
       "    function(Bokeh) {\n",
       "      \n",
       "    },\n",
       "    function(Bokeh) {} // ensure no trailing comma for IE\n",
       "  ];\n",
       "\n",
       "  function run_inline_js() {\n",
       "    \n",
       "    if ((root.Bokeh !== undefined) || (force === true)) {\n",
       "      for (var i = 0; i < inline_js.length; i++) {\n",
       "        inline_js[i].call(root, root.Bokeh);\n",
       "      }if (force === true) {\n",
       "        display_loaded();\n",
       "      }} else if (Date.now() < root._bokeh_timeout) {\n",
       "      setTimeout(run_inline_js, 100);\n",
       "    } else if (!root._bokeh_failed_load) {\n",
       "      console.log(\"Bokeh: BokehJS failed to load within specified timeout.\");\n",
       "      root._bokeh_failed_load = true;\n",
       "    } else if (force !== true) {\n",
       "      var cell = $(document.getElementById(\"1001\")).parents('.cell').data().cell;\n",
       "      cell.output_area.append_execute_result(NB_LOAD_WARNING)\n",
       "    }\n",
       "\n",
       "  }\n",
       "\n",
       "  if (root._bokeh_is_loading === 0) {\n",
       "    console.debug(\"Bokeh: BokehJS loaded, going straight to plotting\");\n",
       "    run_inline_js();\n",
       "  } else {\n",
       "    load_libs(css_urls, js_urls, function() {\n",
       "      console.debug(\"Bokeh: BokehJS plotting callback run at\", now());\n",
       "      run_inline_js();\n",
       "    });\n",
       "  }\n",
       "}(window));"
      ],
      "application/vnd.bokehjs_load.v0+json": "\n(function(root) {\n  function now() {\n    return new Date();\n  }\n\n  var force = true;\n\n  if (typeof root._bokeh_onload_callbacks === \"undefined\" || force === true) {\n    root._bokeh_onload_callbacks = [];\n    root._bokeh_is_loading = undefined;\n  }\n\n  \n\n  \n  if (typeof (root._bokeh_timeout) === \"undefined\" || force === true) {\n    root._bokeh_timeout = Date.now() + 5000;\n    root._bokeh_failed_load = false;\n  }\n\n  var NB_LOAD_WARNING = {'data': {'text/html':\n     \"<div style='background-color: #fdd'>\\n\"+\n     \"<p>\\n\"+\n     \"BokehJS does not appear to have successfully loaded. If loading BokehJS from CDN, this \\n\"+\n     \"may be due to a slow or bad network connection. Possible fixes:\\n\"+\n     \"</p>\\n\"+\n     \"<ul>\\n\"+\n     \"<li>re-rerun `output_notebook()` to attempt to load from CDN again, or</li>\\n\"+\n     \"<li>use INLINE resources instead, as so:</li>\\n\"+\n     \"</ul>\\n\"+\n     \"<code>\\n\"+\n     \"from bokeh.resources import INLINE\\n\"+\n     \"output_notebook(resources=INLINE)\\n\"+\n     \"</code>\\n\"+\n     \"</div>\"}};\n\n  function display_loaded() {\n    var el = document.getElementById(\"1001\");\n    if (el != null) {\n      el.textContent = \"BokehJS is loading...\";\n    }\n    if (root.Bokeh !== undefined) {\n      if (el != null) {\n        el.textContent = \"BokehJS \" + root.Bokeh.version + \" successfully loaded.\";\n      }\n    } else if (Date.now() < root._bokeh_timeout) {\n      setTimeout(display_loaded, 100)\n    }\n  }\n\n\n  function run_callbacks() {\n    try {\n      root._bokeh_onload_callbacks.forEach(function(callback) {\n        if (callback != null)\n          callback();\n      });\n    } finally {\n      delete root._bokeh_onload_callbacks\n    }\n    console.debug(\"Bokeh: all callbacks have finished\");\n  }\n\n  function load_libs(css_urls, js_urls, callback) {\n    if (css_urls == null) css_urls = [];\n    if (js_urls == null) js_urls = [];\n\n    root._bokeh_onload_callbacks.push(callback);\n    if (root._bokeh_is_loading > 0) {\n      console.debug(\"Bokeh: BokehJS is being loaded, scheduling callback at\", now());\n      return null;\n    }\n    if (js_urls == null || js_urls.length === 0) {\n      run_callbacks();\n      return null;\n    }\n    console.debug(\"Bokeh: BokehJS not loaded, scheduling load and callback at\", now());\n    root._bokeh_is_loading = css_urls.length + js_urls.length;\n\n    function on_load() {\n      root._bokeh_is_loading--;\n      if (root._bokeh_is_loading === 0) {\n        console.debug(\"Bokeh: all BokehJS libraries/stylesheets loaded\");\n        run_callbacks()\n      }\n    }\n\n    function on_error() {\n      console.error(\"failed to load \" + url);\n    }\n\n    for (var i = 0; i < css_urls.length; i++) {\n      var url = css_urls[i];\n      const element = document.createElement(\"link\");\n      element.onload = on_load;\n      element.onerror = on_error;\n      element.rel = \"stylesheet\";\n      element.type = \"text/css\";\n      element.href = url;\n      console.debug(\"Bokeh: injecting link tag for BokehJS stylesheet: \", url);\n      document.body.appendChild(element);\n    }\n\n    for (var i = 0; i < js_urls.length; i++) {\n      var url = js_urls[i];\n      var element = document.createElement('script');\n      element.onload = on_load;\n      element.onerror = on_error;\n      element.async = false;\n      element.src = url;\n      console.debug(\"Bokeh: injecting script tag for BokehJS library: \", url);\n      document.head.appendChild(element);\n    }\n  };var element = document.getElementById(\"1001\");\n  if (element == null) {\n    console.error(\"Bokeh: ERROR: autoload.js configured with elementid '1001' but no matching script tag was found. \")\n    return false;\n  }\n\n  function inject_raw_css(css) {\n    const element = document.createElement(\"style\");\n    element.appendChild(document.createTextNode(css));\n    document.body.appendChild(element);\n  }\n\n  var js_urls = [\"https://cdn.pydata.org/bokeh/release/bokeh-1.3.4.min.js\", \"https://cdn.pydata.org/bokeh/release/bokeh-widgets-1.3.4.min.js\", \"https://cdn.pydata.org/bokeh/release/bokeh-tables-1.3.4.min.js\", \"https://cdn.pydata.org/bokeh/release/bokeh-gl-1.3.4.min.js\"];\n  var css_urls = [];\n\n  var inline_js = [\n    function(Bokeh) {\n      Bokeh.set_log_level(\"info\");\n    },\n    \n    function(Bokeh) {\n      \n    },\n    function(Bokeh) {} // ensure no trailing comma for IE\n  ];\n\n  function run_inline_js() {\n    \n    if ((root.Bokeh !== undefined) || (force === true)) {\n      for (var i = 0; i < inline_js.length; i++) {\n        inline_js[i].call(root, root.Bokeh);\n      }if (force === true) {\n        display_loaded();\n      }} else if (Date.now() < root._bokeh_timeout) {\n      setTimeout(run_inline_js, 100);\n    } else if (!root._bokeh_failed_load) {\n      console.log(\"Bokeh: BokehJS failed to load within specified timeout.\");\n      root._bokeh_failed_load = true;\n    } else if (force !== true) {\n      var cell = $(document.getElementById(\"1001\")).parents('.cell').data().cell;\n      cell.output_area.append_execute_result(NB_LOAD_WARNING)\n    }\n\n  }\n\n  if (root._bokeh_is_loading === 0) {\n    console.debug(\"Bokeh: BokehJS loaded, going straight to plotting\");\n    run_inline_js();\n  } else {\n    load_libs(css_urls, js_urls, function() {\n      console.debug(\"Bokeh: BokehJS plotting callback run at\", now());\n      run_inline_js();\n    });\n  }\n}(window));"
     },
     "metadata": {},
     "output_type": "display_data"
    }
   ],
   "source": [
    "pretties.max_data_frame_columns()\n",
    "pretties.decimal_notation()\n",
    "output_notebook()"
   ]
  },
  {
   "cell_type": "markdown",
   "metadata": {},
   "source": [
    "# <font color=\"darkred\">EVALUATION</font>"
   ]
  },
  {
   "cell_type": "markdown",
   "metadata": {},
   "source": [
    "# walmart-recruiting-store-sales-forecasting\n",
    "https://www.kaggle.com/c/walmart-recruiting-store-sales-forecasting"
   ]
  },
  {
   "cell_type": "markdown",
   "metadata": {},
   "source": [
    "<div class=\"markdown-converter__text--rendered\"><p>This competition is evaluated on the weighted mean absolute error (WMAE):</p>\n",
    "<p><span class=\"MathJax_Preview\" style=\"color: inherit; display: none;\"></span><div class=\"MathJax_Display\" style=\"text-align: center;\"><span class=\"MathJax\" id=\"MathJax-Element-1-Frame\" tabindex=\"0\" style=\"text-align: center; position: relative;\" data-mathml=\"<math xmlns=&quot;http://www.w3.org/1998/Math/MathML&quot; display=&quot;block&quot;><mrow class=&quot;MJX-TeXAtom-ORD&quot;><mtext>WMAE</mtext></mrow><mo>=</mo><mfrac><mn>1</mn><mrow><mo>&amp;#x2211;</mo><mrow class=&quot;MJX-TeXAtom-ORD&quot;><msub><mi>w</mi><mi>i</mi></msub></mrow></mrow></mfrac><munderover><mo>&amp;#x2211;</mo><mrow class=&quot;MJX-TeXAtom-ORD&quot;><mi>i</mi><mo>=</mo><mn>1</mn></mrow><mi>n</mi></munderover><msub><mi>w</mi><mi>i</mi></msub><mrow class=&quot;MJX-TeXAtom-ORD&quot;><mo stretchy=&quot;false&quot;>|</mo></mrow><msub><mi>y</mi><mi>i</mi></msub><mo>&amp;#x2212;</mo><msub><mrow class=&quot;MJX-TeXAtom-ORD&quot;><mover><mi>y</mi><mo stretchy=&quot;false&quot;>&amp;#x005E;</mo></mover></mrow><mi>i</mi></msub><mrow class=&quot;MJX-TeXAtom-ORD&quot;><mo stretchy=&quot;false&quot;>|</mo></mrow></math>\" role=\"presentation\"><nobr aria-hidden=\"true\"><span class=\"math\" id=\"MathJax-Span-1\" style=\"width: 16.159em; display: inline-block;\"><span style=\"display: inline-block; position: relative; width: 12.815em; height: 0px; font-size: 126%;\"><span style=\"position: absolute; clip: rect(0.796em, 1012.7em, 3.971em, -999.997em); top: -2.548em; left: 0em;\"><span class=\"mrow\" id=\"MathJax-Span-2\"><span class=\"texatom\" id=\"MathJax-Span-3\"><span class=\"mrow\" id=\"MathJax-Span-4\"><span class=\"mtext\" id=\"MathJax-Span-5\" style=\"font-family: STIXGeneral;\">WMAE</span></span></span><span class=\"mo\" id=\"MathJax-Span-6\" style=\"font-family: STIXGeneral; padding-left: 0.343em;\">=</span><span class=\"mfrac\" id=\"MathJax-Span-7\" style=\"padding-left: 0.343em;\"><span style=\"display: inline-block; position: relative; width: 2.157em; height: 0px; margin-right: 0.116em; margin-left: 0.116em;\"><span style=\"position: absolute; clip: rect(3.177em, 1000.4em, 4.198em, -999.997em); top: -4.702em; left: 50%; margin-left: -0.224em;\"><span class=\"mn\" id=\"MathJax-Span-8\" style=\"font-family: STIXGeneral;\">1</span><span style=\"display: inline-block; width: 0px; height: 4.028em;\"></span></span><span style=\"position: absolute; clip: rect(3.121em, 1002.04em, 4.481em, -999.997em); top: -3.285em; left: 50%; margin-left: -1.018em;\"><span class=\"mrow\" id=\"MathJax-Span-9\"><span class=\"mo\" id=\"MathJax-Span-10\" style=\"font-family: STIXGeneral; vertical-align: 0.003em;\">∑</span><span class=\"texatom\" id=\"MathJax-Span-11\" style=\"padding-left: 0.173em;\"><span class=\"mrow\" id=\"MathJax-Span-12\"><span class=\"msubsup\" id=\"MathJax-Span-13\"><span style=\"display: inline-block; position: relative; width: 0.967em; height: 0px;\"><span style=\"position: absolute; clip: rect(3.404em, 1000.63em, 4.198em, -999.997em); top: -4.022em; left: 0em;\"><span class=\"mi\" id=\"MathJax-Span-14\" style=\"font-family: STIXGeneral; font-style: italic;\">w</span><span style=\"display: inline-block; width: 0px; height: 4.028em;\"></span></span><span style=\"position: absolute; top: -3.852em; left: 0.683em;\"><span class=\"mi\" id=\"MathJax-Span-15\" style=\"font-size: 70.7%; font-family: STIXGeneral; font-style: italic;\">i</span><span style=\"display: inline-block; width: 0px; height: 4.028em;\"></span></span></span></span></span></span></span><span style=\"display: inline-block; width: 0px; height: 4.028em;\"></span></span><span style=\"position: absolute; clip: rect(0.853em, 1002.16em, 1.25em, -999.997em); top: -1.301em; left: 0em;\"><span style=\"display: inline-block; overflow: hidden; vertical-align: 0em; border-top: 1.3px solid; width: 2.157em; height: 0px;\"></span><span style=\"display: inline-block; width: 0px; height: 1.08em;\"></span></span></span></span><span class=\"munderover\" id=\"MathJax-Span-16\" style=\"padding-left: 0.173em;\"><span style=\"display: inline-block; position: relative; width: 1.307em; height: 0px;\"><span style=\"position: absolute; clip: rect(2.894em, 1001.19em, 4.651em, -999.997em); top: -4.022em; left: 0em;\"><span class=\"mo\" id=\"MathJax-Span-17\" style=\"font-family: STIXSizeOneSym; vertical-align: -0.507em;\">∑</span><span style=\"display: inline-block; width: 0px; height: 4.028em;\"></span></span><span style=\"position: absolute; clip: rect(3.404em, 1000.97em, 4.311em, -999.997em); top: -2.888em; left: 0.116em;\"><span class=\"texatom\" id=\"MathJax-Span-18\"><span class=\"mrow\" id=\"MathJax-Span-19\"><span class=\"mi\" id=\"MathJax-Span-20\" style=\"font-size: 70.7%; font-family: STIXGeneral; font-style: italic;\">i</span><span class=\"mo\" id=\"MathJax-Span-21\" style=\"font-size: 70.7%; font-family: STIXGeneral;\">=</span><span class=\"mn\" id=\"MathJax-Span-22\" style=\"font-size: 70.7%; font-family: STIXGeneral;\">1</span></span></span><span style=\"display: inline-block; width: 0px; height: 4.028em;\"></span></span><span style=\"position: absolute; clip: rect(3.461em, 1000.34em, 4.198em, -999.997em); top: -5.213em; left: 0.456em;\"><span class=\"mi\" id=\"MathJax-Span-23\" style=\"font-size: 70.7%; font-family: STIXGeneral; font-style: italic;\">n</span><span style=\"display: inline-block; width: 0px; height: 4.028em;\"></span></span></span></span><span class=\"msubsup\" id=\"MathJax-Span-24\" style=\"padding-left: 0.173em;\"><span style=\"display: inline-block; position: relative; width: 0.967em; height: 0px;\"><span style=\"position: absolute; clip: rect(3.404em, 1000.63em, 4.198em, -999.997em); top: -4.022em; left: 0em;\"><span class=\"mi\" id=\"MathJax-Span-25\" style=\"font-family: STIXGeneral; font-style: italic;\">w</span><span style=\"display: inline-block; width: 0px; height: 4.028em;\"></span></span><span style=\"position: absolute; top: -3.852em; left: 0.683em;\"><span class=\"mi\" id=\"MathJax-Span-26\" style=\"font-size: 70.7%; font-family: STIXGeneral; font-style: italic;\">i</span><span style=\"display: inline-block; width: 0px; height: 4.028em;\"></span></span></span></span><span class=\"texatom\" id=\"MathJax-Span-27\"><span class=\"mrow\" id=\"MathJax-Span-28\"><span class=\"mo\" id=\"MathJax-Span-29\" style=\"font-family: STIXVariants;\">|</span></span></span><span class=\"msubsup\" id=\"MathJax-Span-30\"><span style=\"display: inline-block; position: relative; width: 0.74em; height: 0px;\"><span style=\"position: absolute; clip: rect(3.404em, 1000.46em, 4.425em, -999.997em); top: -4.022em; left: 0em;\"><span class=\"mi\" id=\"MathJax-Span-31\" style=\"font-family: STIXGeneral; font-style: italic;\">y</span><span style=\"display: inline-block; width: 0px; height: 4.028em;\"></span></span><span style=\"position: absolute; top: -3.852em; left: 0.456em;\"><span class=\"mi\" id=\"MathJax-Span-32\" style=\"font-size: 70.7%; font-family: STIXGeneral; font-style: italic;\">i</span><span style=\"display: inline-block; width: 0px; height: 4.028em;\"></span></span></span></span><span class=\"mo\" id=\"MathJax-Span-33\" style=\"font-family: STIXGeneral; padding-left: 0.23em;\">−</span><span class=\"msubsup\" id=\"MathJax-Span-34\" style=\"padding-left: 0.23em;\"><span style=\"display: inline-block; position: relative; width: 0.74em; height: 0px;\"><span style=\"position: absolute; clip: rect(3.121em, 1000.46em, 4.425em, -999.997em); top: -4.022em; left: 0em;\"><span class=\"texatom\" id=\"MathJax-Span-35\"><span class=\"mrow\" id=\"MathJax-Span-36\"><span class=\"munderover\" id=\"MathJax-Span-37\"><span style=\"display: inline-block; position: relative; width: 0.456em; height: 0px;\"><span style=\"position: absolute; clip: rect(3.404em, 1000.46em, 4.425em, -999.997em); top: -4.022em; left: 0em;\"><span class=\"mi\" id=\"MathJax-Span-38\" style=\"font-family: STIXGeneral; font-style: italic;\">y</span><span style=\"display: inline-block; width: 0px; height: 4.028em;\"></span></span><span style=\"position: absolute; top: -4.079em; left: 0.06em;\"><span style=\"height: 0em; vertical-align: 0em; width: 0.4em; display: inline-block; overflow: hidden;\"></span><span class=\"mo\" id=\"MathJax-Span-39\" style=\"font-family: STIXGeneral;\">̂&nbsp;<span style=\"height: 0em; vertical-align: 0em; margin-left: -0.224em;\"></span></span><span style=\"display: inline-block; overflow: hidden; height: 1px; width: 0em;\"></span><span style=\"display: inline-block; width: 0px; height: 4.028em;\"></span></span></span></span></span></span><span style=\"display: inline-block; width: 0px; height: 4.028em;\"></span></span><span style=\"position: absolute; top: -3.795em; left: 0.456em;\"><span class=\"mi\" id=\"MathJax-Span-40\" style=\"font-size: 70.7%; font-family: STIXGeneral; font-style: italic;\">i</span><span style=\"display: inline-block; width: 0px; height: 4.028em;\"></span></span></span></span><span class=\"texatom\" id=\"MathJax-Span-41\"><span class=\"mrow\" id=\"MathJax-Span-42\"><span class=\"mo\" id=\"MathJax-Span-43\" style=\"font-family: STIXVariants;\">|</span></span></span></span><span style=\"display: inline-block; width: 0px; height: 2.554em;\"></span></span></span><span style=\"display: inline-block; overflow: hidden; vertical-align: -1.639em; border-left: 0px solid; width: 0px; height: 3.789em;\"></span></span></nobr><span class=\"MJX_Assistive_MathML MJX_Assistive_MathML_Block\" role=\"presentation\"><math xmlns=\"http://www.w3.org/1998/Math/MathML\" display=\"block\"><mrow class=\"MJX-TeXAtom-ORD\"><mtext>WMAE</mtext></mrow><mo>=</mo><mfrac><mn>1</mn><mrow><mo>∑</mo><mrow class=\"MJX-TeXAtom-ORD\"><msub><mi>w</mi><mi>i</mi></msub></mrow></mrow></mfrac><munderover><mo>∑</mo><mrow class=\"MJX-TeXAtom-ORD\"><mi>i</mi><mo>=</mo><mn>1</mn></mrow><mi>n</mi></munderover><msub><mi>w</mi><mi>i</mi></msub><mrow class=\"MJX-TeXAtom-ORD\"><mo stretchy=\"false\">|</mo></mrow><msub><mi>y</mi><mi>i</mi></msub><mo>−</mo><msub><mrow class=\"MJX-TeXAtom-ORD\"><mover><mi>y</mi><mo stretchy=\"false\">^</mo></mover></mrow><mi>i</mi></msub><mrow class=\"MJX-TeXAtom-ORD\"><mo stretchy=\"false\">|</mo></mrow></math></span></span></div><script type=\"math/tex; mode=display\" id=\"MathJax-Element-1\"> \\textrm{WMAE} = \\frac{1}{\\sum{w_i}} \\sum_{i=1}^n w_i | y_i - \\hat{y}_i | </script></p>\n",
    "<p>where</p>\n",
    "<ul>\n",
    "<li>n is the number of rows</li>\n",
    "<li><span class=\"MathJax_Preview\" style=\"color: inherit; display: none;\"></span><span class=\"MathJax\" id=\"MathJax-Element-2-Frame\" tabindex=\"0\" data-mathml=\"<math xmlns=&quot;http://www.w3.org/1998/Math/MathML&quot;><msub><mrow class=&quot;MJX-TeXAtom-ORD&quot;><mover><mi>y</mi><mo stretchy=&quot;false&quot;>&amp;#x005E;</mo></mover></mrow><mi>i</mi></msub></math>\" role=\"presentation\" style=\"position: relative;\"><nobr aria-hidden=\"true\"><span class=\"math\" id=\"MathJax-Span-44\" style=\"width: 0.967em; display: inline-block;\"><span style=\"display: inline-block; position: relative; width: 0.74em; height: 0px; font-size: 126%;\"><span style=\"position: absolute; clip: rect(1.307em, 1000.74em, 2.611em, -999.997em); top: -2.208em; left: 0em;\"><span class=\"mrow\" id=\"MathJax-Span-45\"><span class=\"msubsup\" id=\"MathJax-Span-46\"><span style=\"display: inline-block; position: relative; width: 0.74em; height: 0px;\"><span style=\"position: absolute; clip: rect(3.121em, 1000.46em, 4.425em, -999.997em); top: -4.022em; left: 0em;\"><span class=\"texatom\" id=\"MathJax-Span-47\"><span class=\"mrow\" id=\"MathJax-Span-48\"><span class=\"munderover\" id=\"MathJax-Span-49\"><span style=\"display: inline-block; position: relative; width: 0.456em; height: 0px;\"><span style=\"position: absolute; clip: rect(3.404em, 1000.46em, 4.425em, -999.997em); top: -4.022em; left: 0em;\"><span class=\"mi\" id=\"MathJax-Span-50\" style=\"font-family: STIXGeneral; font-style: italic;\">y</span><span style=\"display: inline-block; width: 0px; height: 4.028em;\"></span></span><span style=\"position: absolute; top: -4.079em; left: 0.06em;\"><span style=\"height: 0em; vertical-align: 0em; width: 0.4em; display: inline-block; overflow: hidden;\"></span><span class=\"mo\" id=\"MathJax-Span-51\" style=\"font-family: STIXGeneral;\">̂&nbsp;<span style=\"height: 0em; vertical-align: 0em; margin-left: -0.224em;\"></span></span><span style=\"display: inline-block; overflow: hidden; height: 1px; width: 0em;\"></span><span style=\"display: inline-block; width: 0px; height: 4.028em;\"></span></span></span></span></span></span><span style=\"display: inline-block; width: 0px; height: 4.028em;\"></span></span><span style=\"position: absolute; top: -3.795em; left: 0.456em;\"><span class=\"mi\" id=\"MathJax-Span-52\" style=\"font-size: 70.7%; font-family: STIXGeneral; font-style: italic;\">i</span><span style=\"display: inline-block; width: 0px; height: 4.028em;\"></span></span></span></span></span><span style=\"display: inline-block; width: 0px; height: 2.214em;\"></span></span></span><span style=\"display: inline-block; overflow: hidden; vertical-align: -0.354em; border-left: 0px solid; width: 0px; height: 1.432em;\"></span></span></nobr><span class=\"MJX_Assistive_MathML\" role=\"presentation\"><math xmlns=\"http://www.w3.org/1998/Math/MathML\"><msub><mrow class=\"MJX-TeXAtom-ORD\"><mover><mi>y</mi><mo stretchy=\"false\">^</mo></mover></mrow><mi>i</mi></msub></math></span></span><script type=\"math/tex\" id=\"MathJax-Element-2\"> \\hat{y}_i </script> is the predicted sales</li>\n",
    "<li><span class=\"MathJax_Preview\" style=\"color: inherit; display: none;\"></span><span class=\"MathJax\" id=\"MathJax-Element-3-Frame\" tabindex=\"0\" data-mathml=\"<math xmlns=&quot;http://www.w3.org/1998/Math/MathML&quot;><msub><mi>y</mi><mi>i</mi></msub></math>\" role=\"presentation\" style=\"position: relative;\"><nobr aria-hidden=\"true\"><span class=\"math\" id=\"MathJax-Span-53\" style=\"width: 0.967em; display: inline-block;\"><span style=\"display: inline-block; position: relative; width: 0.74em; height: 0px; font-size: 126%;\"><span style=\"position: absolute; clip: rect(1.59em, 1000.74em, 2.611em, -999.997em); top: -2.208em; left: 0em;\"><span class=\"mrow\" id=\"MathJax-Span-54\"><span class=\"msubsup\" id=\"MathJax-Span-55\"><span style=\"display: inline-block; position: relative; width: 0.74em; height: 0px;\"><span style=\"position: absolute; clip: rect(3.404em, 1000.46em, 4.425em, -999.997em); top: -4.022em; left: 0em;\"><span class=\"mi\" id=\"MathJax-Span-56\" style=\"font-family: STIXGeneral; font-style: italic;\">y</span><span style=\"display: inline-block; width: 0px; height: 4.028em;\"></span></span><span style=\"position: absolute; top: -3.852em; left: 0.456em;\"><span class=\"mi\" id=\"MathJax-Span-57\" style=\"font-size: 70.7%; font-family: STIXGeneral; font-style: italic;\">i</span><span style=\"display: inline-block; width: 0px; height: 4.028em;\"></span></span></span></span></span><span style=\"display: inline-block; width: 0px; height: 2.214em;\"></span></span></span><span style=\"display: inline-block; overflow: hidden; vertical-align: -0.354em; border-left: 0px solid; width: 0px; height: 0.932em;\"></span></span></nobr><span class=\"MJX_Assistive_MathML\" role=\"presentation\"><math xmlns=\"http://www.w3.org/1998/Math/MathML\"><msub><mi>y</mi><mi>i</mi></msub></math></span></span><script type=\"math/tex\" id=\"MathJax-Element-3\"> y_i </script> is the actual sales</li>\n",
    "<li><span class=\"MathJax_Preview\" style=\"color: inherit; display: none;\"></span><span class=\"MathJax\" id=\"MathJax-Element-4-Frame\" tabindex=\"0\" data-mathml=\"<math xmlns=&quot;http://www.w3.org/1998/Math/MathML&quot;><msub><mi>w</mi><mi>i</mi></msub></math>\" role=\"presentation\" style=\"position: relative;\"><nobr aria-hidden=\"true\"><span class=\"math\" id=\"MathJax-Span-58\" style=\"width: 1.25em; display: inline-block;\"><span style=\"display: inline-block; position: relative; width: 0.967em; height: 0px; font-size: 126%;\"><span style=\"position: absolute; clip: rect(1.59em, 1000.97em, 2.554em, -999.997em); top: -2.208em; left: 0em;\"><span class=\"mrow\" id=\"MathJax-Span-59\"><span class=\"msubsup\" id=\"MathJax-Span-60\"><span style=\"display: inline-block; position: relative; width: 0.967em; height: 0px;\"><span style=\"position: absolute; clip: rect(3.404em, 1000.63em, 4.198em, -999.997em); top: -4.022em; left: 0em;\"><span class=\"mi\" id=\"MathJax-Span-61\" style=\"font-family: STIXGeneral; font-style: italic;\">w</span><span style=\"display: inline-block; width: 0px; height: 4.028em;\"></span></span><span style=\"position: absolute; top: -3.852em; left: 0.683em;\"><span class=\"mi\" id=\"MathJax-Span-62\" style=\"font-size: 70.7%; font-family: STIXGeneral; font-style: italic;\">i</span><span style=\"display: inline-block; width: 0px; height: 4.028em;\"></span></span></span></span></span><span style=\"display: inline-block; width: 0px; height: 2.214em;\"></span></span></span><span style=\"display: inline-block; overflow: hidden; vertical-align: -0.282em; border-left: 0px solid; width: 0px; height: 0.932em;\"></span></span></nobr><span class=\"MJX_Assistive_MathML\" role=\"presentation\"><math xmlns=\"http://www.w3.org/1998/Math/MathML\"><msub><mi>w</mi><mi>i</mi></msub></math></span></span><script type=\"math/tex\" id=\"MathJax-Element-4\"> w_i </script> are weights. w = 5 if the week is a holiday week, 1 otherwise</li>\n",
    "</ul>\n",
    "<h2>Submission File</h2>\n",
    "<p>For each row in the test set (store + department + date triplet), you should predict the weekly sales of that department. The Id column is formed by concatenating the Store, Dept, and Date with underscores (e.g. Store_Dept_2012-11-02). &nbsp;The file should have a header and looks like the following:</p>\n",
    "<pre>Id,Weekly_Sales\n",
    "1_1_2012-11-02,0<br>1_1_2012-11-09,0<br>1_1_2012-11-16,0\n",
    "...\n",
    "</pre></div>"
   ]
  },
  {
   "cell_type": "code",
   "execution_count": 4,
   "metadata": {},
   "outputs": [],
   "source": [
    "train = dao.load_dataset(\"train\")\n",
    "train = train.groupby(\"store_dept\").apply(process.train_sales_semantic_enrichment)\n",
    "\n",
    "test = dao.load_dataset(\"test\")\n",
    "\n",
    "feat = dao.load_features()\n",
    "feat = process.features_semantic_enrichment(feat)\n",
    "\n",
    "stores = dao.load_stores()"
   ]
  },
  {
   "cell_type": "code",
   "execution_count": 5,
   "metadata": {},
   "outputs": [],
   "source": [
    "train = train.merge(feat, how=\"left\", left_on=[\"Store\", \"Date\"], right_on=[\"Store\", \"Date\"], suffixes=[\"\", \"_y\"])\n",
    "del train[\"IsHoliday_y\"]\n",
    "del train[\"timestamp_y\"]\n",
    "train = train.merge(stores, how=\"left\", left_on=[\"Store\"], right_on=[\"Store\"])"
   ]
  },
  {
   "cell_type": "code",
   "execution_count": 6,
   "metadata": {},
   "outputs": [],
   "source": [
    "test = test.merge(feat, how=\"left\", left_on=[\"Store\", \"Date\"], right_on=[\"Store\", \"Date\"], suffixes=[\"\", \"_y\"])\n",
    "del test[\"IsHoliday_y\"]\n",
    "del test[\"timestamp_y\"]\n",
    "test = test.merge(stores, how=\"left\", left_on=[\"Store\"], right_on=[\"Store\"])"
   ]
  },
  {
   "cell_type": "code",
   "execution_count": 7,
   "metadata": {},
   "outputs": [],
   "source": [
    "cols = ['Date', 'Store', 'Dept', 'Weekly_Sales', 'pre_holiday', 'IsHoliday', 'pos_holiday', 'Fuel_Price', \n",
    "        'CPI', 'Unemployment', 'celsius', 'datetime', 'Type', 'sales_diff', 'sales_diff_p',\n",
    "        'MarkDown1', 'MarkDown2', 'MarkDown3', 'MarkDown4', 'MarkDown5', \n",
    "        'Size', 'Temperature', 'timestamp', 'store_dept', \"day_n\", \"week_n\", \"month_n\", \"wm_date\", \"up_diff\", \"celsius_diff\", \"year\"]\n",
    "\n",
    "train = train[cols]"
   ]
  },
  {
   "cell_type": "code",
   "execution_count": 8,
   "metadata": {},
   "outputs": [
    {
     "name": "stdout",
     "output_type": "stream",
     "text": [
      "421570\n"
     ]
    },
    {
     "data": {
      "text/html": [
       "<div>\n",
       "<style scoped>\n",
       "    .dataframe tbody tr th:only-of-type {\n",
       "        vertical-align: middle;\n",
       "    }\n",
       "\n",
       "    .dataframe tbody tr th {\n",
       "        vertical-align: top;\n",
       "    }\n",
       "\n",
       "    .dataframe thead th {\n",
       "        text-align: right;\n",
       "    }\n",
       "</style>\n",
       "<table border=\"1\" class=\"dataframe\">\n",
       "  <thead>\n",
       "    <tr style=\"text-align: right;\">\n",
       "      <th></th>\n",
       "      <th>Date</th>\n",
       "      <th>Store</th>\n",
       "      <th>Dept</th>\n",
       "      <th>Weekly_Sales</th>\n",
       "      <th>pre_holiday</th>\n",
       "      <th>IsHoliday</th>\n",
       "      <th>pos_holiday</th>\n",
       "      <th>Fuel_Price</th>\n",
       "      <th>CPI</th>\n",
       "      <th>Unemployment</th>\n",
       "      <th>celsius</th>\n",
       "      <th>datetime</th>\n",
       "      <th>Type</th>\n",
       "      <th>sales_diff</th>\n",
       "      <th>sales_diff_p</th>\n",
       "      <th>MarkDown1</th>\n",
       "      <th>MarkDown2</th>\n",
       "      <th>MarkDown3</th>\n",
       "      <th>MarkDown4</th>\n",
       "      <th>MarkDown5</th>\n",
       "      <th>Size</th>\n",
       "      <th>Temperature</th>\n",
       "      <th>timestamp</th>\n",
       "      <th>store_dept</th>\n",
       "      <th>day_n</th>\n",
       "      <th>week_n</th>\n",
       "      <th>month_n</th>\n",
       "      <th>wm_date</th>\n",
       "      <th>up_diff</th>\n",
       "      <th>celsius_diff</th>\n",
       "      <th>year</th>\n",
       "    </tr>\n",
       "  </thead>\n",
       "  <tbody>\n",
       "    <tr>\n",
       "      <td>0</td>\n",
       "      <td>2010-02-05</td>\n",
       "      <td>1</td>\n",
       "      <td>1</td>\n",
       "      <td>24924.50</td>\n",
       "      <td>True</td>\n",
       "      <td>False</td>\n",
       "      <td>NaN</td>\n",
       "      <td>2.57</td>\n",
       "      <td>211.10</td>\n",
       "      <td>8.11</td>\n",
       "      <td>5.73</td>\n",
       "      <td>2010-02-05</td>\n",
       "      <td>A</td>\n",
       "      <td>nan</td>\n",
       "      <td>nan</td>\n",
       "      <td>nan</td>\n",
       "      <td>nan</td>\n",
       "      <td>nan</td>\n",
       "      <td>nan</td>\n",
       "      <td>nan</td>\n",
       "      <td>151315</td>\n",
       "      <td>42.31</td>\n",
       "      <td>1265338800.00</td>\n",
       "      <td>1_1</td>\n",
       "      <td>5</td>\n",
       "      <td>1</td>\n",
       "      <td>02</td>\n",
       "      <td>02/1</td>\n",
       "      <td>True</td>\n",
       "      <td>nan</td>\n",
       "      <td>2010</td>\n",
       "    </tr>\n",
       "    <tr>\n",
       "      <td>1</td>\n",
       "      <td>2010-02-05</td>\n",
       "      <td>29</td>\n",
       "      <td>5</td>\n",
       "      <td>15552.08</td>\n",
       "      <td>True</td>\n",
       "      <td>False</td>\n",
       "      <td>NaN</td>\n",
       "      <td>2.79</td>\n",
       "      <td>131.53</td>\n",
       "      <td>10.06</td>\n",
       "      <td>-4.24</td>\n",
       "      <td>2010-02-05</td>\n",
       "      <td>B</td>\n",
       "      <td>nan</td>\n",
       "      <td>nan</td>\n",
       "      <td>nan</td>\n",
       "      <td>nan</td>\n",
       "      <td>nan</td>\n",
       "      <td>nan</td>\n",
       "      <td>nan</td>\n",
       "      <td>93638</td>\n",
       "      <td>24.36</td>\n",
       "      <td>1265338800.00</td>\n",
       "      <td>29_5</td>\n",
       "      <td>5</td>\n",
       "      <td>1</td>\n",
       "      <td>02</td>\n",
       "      <td>02/1</td>\n",
       "      <td>True</td>\n",
       "      <td>nan</td>\n",
       "      <td>2010</td>\n",
       "    </tr>\n",
       "    <tr>\n",
       "      <td>2</td>\n",
       "      <td>2010-02-05</td>\n",
       "      <td>29</td>\n",
       "      <td>6</td>\n",
       "      <td>3200.22</td>\n",
       "      <td>True</td>\n",
       "      <td>False</td>\n",
       "      <td>NaN</td>\n",
       "      <td>2.79</td>\n",
       "      <td>131.53</td>\n",
       "      <td>10.06</td>\n",
       "      <td>-4.24</td>\n",
       "      <td>2010-02-05</td>\n",
       "      <td>B</td>\n",
       "      <td>nan</td>\n",
       "      <td>nan</td>\n",
       "      <td>nan</td>\n",
       "      <td>nan</td>\n",
       "      <td>nan</td>\n",
       "      <td>nan</td>\n",
       "      <td>nan</td>\n",
       "      <td>93638</td>\n",
       "      <td>24.36</td>\n",
       "      <td>1265338800.00</td>\n",
       "      <td>29_6</td>\n",
       "      <td>5</td>\n",
       "      <td>1</td>\n",
       "      <td>02</td>\n",
       "      <td>02/1</td>\n",
       "      <td>True</td>\n",
       "      <td>nan</td>\n",
       "      <td>2010</td>\n",
       "    </tr>\n",
       "    <tr>\n",
       "      <td>3</td>\n",
       "      <td>2010-02-05</td>\n",
       "      <td>29</td>\n",
       "      <td>7</td>\n",
       "      <td>10820.05</td>\n",
       "      <td>True</td>\n",
       "      <td>False</td>\n",
       "      <td>NaN</td>\n",
       "      <td>2.79</td>\n",
       "      <td>131.53</td>\n",
       "      <td>10.06</td>\n",
       "      <td>-4.24</td>\n",
       "      <td>2010-02-05</td>\n",
       "      <td>B</td>\n",
       "      <td>nan</td>\n",
       "      <td>nan</td>\n",
       "      <td>nan</td>\n",
       "      <td>nan</td>\n",
       "      <td>nan</td>\n",
       "      <td>nan</td>\n",
       "      <td>nan</td>\n",
       "      <td>93638</td>\n",
       "      <td>24.36</td>\n",
       "      <td>1265338800.00</td>\n",
       "      <td>29_7</td>\n",
       "      <td>5</td>\n",
       "      <td>1</td>\n",
       "      <td>02</td>\n",
       "      <td>02/1</td>\n",
       "      <td>True</td>\n",
       "      <td>nan</td>\n",
       "      <td>2010</td>\n",
       "    </tr>\n",
       "    <tr>\n",
       "      <td>4</td>\n",
       "      <td>2010-02-05</td>\n",
       "      <td>29</td>\n",
       "      <td>8</td>\n",
       "      <td>20055.64</td>\n",
       "      <td>True</td>\n",
       "      <td>False</td>\n",
       "      <td>NaN</td>\n",
       "      <td>2.79</td>\n",
       "      <td>131.53</td>\n",
       "      <td>10.06</td>\n",
       "      <td>-4.24</td>\n",
       "      <td>2010-02-05</td>\n",
       "      <td>B</td>\n",
       "      <td>nan</td>\n",
       "      <td>nan</td>\n",
       "      <td>nan</td>\n",
       "      <td>nan</td>\n",
       "      <td>nan</td>\n",
       "      <td>nan</td>\n",
       "      <td>nan</td>\n",
       "      <td>93638</td>\n",
       "      <td>24.36</td>\n",
       "      <td>1265338800.00</td>\n",
       "      <td>29_8</td>\n",
       "      <td>5</td>\n",
       "      <td>1</td>\n",
       "      <td>02</td>\n",
       "      <td>02/1</td>\n",
       "      <td>True</td>\n",
       "      <td>nan</td>\n",
       "      <td>2010</td>\n",
       "    </tr>\n",
       "  </tbody>\n",
       "</table>\n",
       "</div>"
      ],
      "text/plain": [
       "         Date Store Dept  Weekly_Sales pre_holiday  IsHoliday pos_holiday  \\\n",
       "0  2010-02-05     1    1      24924.50        True      False         NaN   \n",
       "1  2010-02-05    29    5      15552.08        True      False         NaN   \n",
       "2  2010-02-05    29    6       3200.22        True      False         NaN   \n",
       "3  2010-02-05    29    7      10820.05        True      False         NaN   \n",
       "4  2010-02-05    29    8      20055.64        True      False         NaN   \n",
       "\n",
       "   Fuel_Price    CPI  Unemployment  celsius   datetime Type  sales_diff  \\\n",
       "0        2.57 211.10          8.11     5.73 2010-02-05    A         nan   \n",
       "1        2.79 131.53         10.06    -4.24 2010-02-05    B         nan   \n",
       "2        2.79 131.53         10.06    -4.24 2010-02-05    B         nan   \n",
       "3        2.79 131.53         10.06    -4.24 2010-02-05    B         nan   \n",
       "4        2.79 131.53         10.06    -4.24 2010-02-05    B         nan   \n",
       "\n",
       "   sales_diff_p  MarkDown1  MarkDown2  MarkDown3  MarkDown4  MarkDown5  \\\n",
       "0           nan        nan        nan        nan        nan        nan   \n",
       "1           nan        nan        nan        nan        nan        nan   \n",
       "2           nan        nan        nan        nan        nan        nan   \n",
       "3           nan        nan        nan        nan        nan        nan   \n",
       "4           nan        nan        nan        nan        nan        nan   \n",
       "\n",
       "     Size  Temperature     timestamp store_dept  day_n  week_n month_n  \\\n",
       "0  151315        42.31 1265338800.00        1_1      5       1      02   \n",
       "1   93638        24.36 1265338800.00       29_5      5       1      02   \n",
       "2   93638        24.36 1265338800.00       29_6      5       1      02   \n",
       "3   93638        24.36 1265338800.00       29_7      5       1      02   \n",
       "4   93638        24.36 1265338800.00       29_8      5       1      02   \n",
       "\n",
       "  wm_date  up_diff  celsius_diff  year  \n",
       "0    02/1     True           nan  2010  \n",
       "1    02/1     True           nan  2010  \n",
       "2    02/1     True           nan  2010  \n",
       "3    02/1     True           nan  2010  \n",
       "4    02/1     True           nan  2010  "
      ]
     },
     "execution_count": 8,
     "metadata": {},
     "output_type": "execute_result"
    }
   ],
   "source": [
    "print(len(train))\n",
    "train.head()"
   ]
  },
  {
   "cell_type": "code",
   "execution_count": 9,
   "metadata": {},
   "outputs": [
    {
     "data": {
      "text/plain": [
       "0         2010-02-05\n",
       "421569    2012-10-26\n",
       "Name: Date, dtype: object"
      ]
     },
     "execution_count": 9,
     "metadata": {},
     "output_type": "execute_result"
    }
   ],
   "source": [
    "train[\"Date\"].head(1).append(train[\"Date\"].tail(1))"
   ]
  },
  {
   "cell_type": "code",
   "execution_count": 10,
   "metadata": {},
   "outputs": [],
   "source": [
    "def time_interval_months(time_serie, str_format=\"%Y-%m-%d\"):\n",
    "    delta_h = time_utils.delta_time_hour(time_serie.tolist()[0], \n",
    "                                         time_serie.tolist()[-1], \n",
    "                                         str_format)\n",
    "    return delta_h / ((24*365)/12)"
   ]
  },
  {
   "cell_type": "code",
   "execution_count": 11,
   "metadata": {},
   "outputs": [
    {
     "name": "stdout",
     "output_type": "stream",
     "text": [
      "Time interval (months): 32.679452054794524\n",
      "Time interval (years) : 2.723287671232877\n"
     ]
    }
   ],
   "source": [
    "print(\"Time interval (months): {}\".format(time_interval_months(train[\"Date\"])))\n",
    "print(\"Time interval (years) : {}\".format(time_interval_months(train[\"Date\"]) / 12))"
   ]
  },
  {
   "cell_type": "markdown",
   "metadata": {},
   "source": [
    "# Train & Validation\n",
    "partitions"
   ]
  },
  {
   "cell_type": "code",
   "execution_count": 12,
   "metadata": {},
   "outputs": [],
   "source": [
    "timestamp_limit = time_utils.str_datetime_to_timestamp(\"2012-02-01\", \"%Y-%m-%d\")"
   ]
  },
  {
   "cell_type": "code",
   "execution_count": 13,
   "metadata": {},
   "outputs": [],
   "source": [
    "use_train = train[train[\"timestamp\"] <= timestamp_limit]\n",
    "use_valid = train[train[\"timestamp\"] > timestamp_limit]"
   ]
  },
  {
   "cell_type": "code",
   "execution_count": 14,
   "metadata": {},
   "outputs": [
    {
     "data": {
      "text/markdown": [
       "#### Train"
      ],
      "text/plain": [
       "<IPython.core.display.Markdown object>"
      ]
     },
     "metadata": {},
     "output_type": "display_data"
    },
    {
     "data": {
      "text/plain": [
       "0         2010-02-05\n",
       "305981    2012-01-27\n",
       "Name: Date, dtype: object"
      ]
     },
     "execution_count": 14,
     "metadata": {},
     "output_type": "execute_result"
    }
   ],
   "source": [
    "pretties.display_md(\"#### Train\")\n",
    "use_train[\"Date\"].head(1).append(use_train[\"Date\"].tail(1))"
   ]
  },
  {
   "cell_type": "code",
   "execution_count": 15,
   "metadata": {},
   "outputs": [
    {
     "data": {
      "text/markdown": [
       "#### Validation"
      ],
      "text/plain": [
       "<IPython.core.display.Markdown object>"
      ]
     },
     "metadata": {},
     "output_type": "display_data"
    },
    {
     "data": {
      "text/plain": [
       "305982    2012-02-03\n",
       "421569    2012-10-26\n",
       "Name: Date, dtype: object"
      ]
     },
     "execution_count": 15,
     "metadata": {},
     "output_type": "execute_result"
    }
   ],
   "source": [
    "pretties.display_md(\"#### Validation\")\n",
    "use_valid[\"Date\"].head(1).append(use_valid[\"Date\"].tail(1))"
   ]
  },
  {
   "cell_type": "code",
   "execution_count": 16,
   "metadata": {},
   "outputs": [
    {
     "name": "stdout",
     "output_type": "stream",
     "text": [
      "TRAIN Time interval (months): 23.704109589041096\n",
      "VALID Time interval (months): 8.745205479452055\n"
     ]
    }
   ],
   "source": [
    "print(\"TRAIN Time interval (months): {}\".format(time_interval_months(use_train[\"Date\"])))\n",
    "print(\"VALID Time interval (months): {}\".format(time_interval_months(use_valid[\"Date\"])))"
   ]
  },
  {
   "cell_type": "markdown",
   "metadata": {},
   "source": [
    "# Forecasting"
   ]
  },
  {
   "cell_type": "markdown",
   "metadata": {},
   "source": [
    "### <font color=\"magenta\">Baseline Week-Month</font>"
   ]
  },
  {
   "cell_type": "code",
   "execution_count": 17,
   "metadata": {},
   "outputs": [],
   "source": [
    "key_colnames = [\"Store\", \"Dept\", \"Date\"]"
   ]
  },
  {
   "cell_type": "code",
   "execution_count": 18,
   "metadata": {},
   "outputs": [
    {
     "data": {
      "text/plain": [
       "170730"
      ]
     },
     "execution_count": 18,
     "metadata": {},
     "output_type": "execute_result"
    }
   ],
   "source": [
    "len(train.drop_duplicates([\"wm_date\", \"store_dept\"]))"
   ]
  },
  {
   "cell_type": "code",
   "execution_count": 19,
   "metadata": {},
   "outputs": [],
   "source": [
    "def dummy_baseline_data(data):\n",
    "    dummy_baseline = []\n",
    "\n",
    "    for (store_dept, wm_date), g in data.groupby([\"store_dept\", \"wm_date\"]):\n",
    "        sorted_group = g[[\"year\", \"Weekly_Sales\", \"Size\", \"Store\", \"Dept\", \"Date\", \"IsHoliday\"]].sort_values(\"year\")\n",
    "        store = sorted_group[\"Store\"].iloc[0]\n",
    "        dept = sorted_group[\"Dept\"].iloc[0]\n",
    "        date = sorted_group[\"Date\"].iloc[0]\n",
    "        is_holiday = sorted_group[\"IsHoliday\"].iloc[0]\n",
    "        \n",
    "        dummy_baseline_row = {\"store_dept\": store_dept, \"wm_date\": wm_date,\n",
    "                              \"Store\": store, \"Dept\": dept, \"Date\": date, \"IsHoliday\": is_holiday}\n",
    "        \n",
    "        for year_i in range(len(sorted_group)):\n",
    "            year_n_label = \"year\" + str(year_i)\n",
    "            year_sales_label = year_n_label + \"_sales\"\n",
    "            size_n_label = year_n_label + \"_size\"\n",
    "\n",
    "            year_value = sorted_group.iloc[year_i][\"year\"]\n",
    "            x_value = sorted_group.iloc[year_i][\"Weekly_Sales\"]\n",
    "            size_value = sorted_group.iloc[year_i][\"Size\"]\n",
    "\n",
    "            dummy_baseline_row[year_n_label] = year_value\n",
    "            dummy_baseline_row[year_sales_label] = x_value\n",
    "            dummy_baseline_row[size_n_label] = size_value\n",
    "\n",
    "        dummy_baseline.append(dummy_baseline_row)\n",
    "\n",
    "    return pd.DataFrame(dummy_baseline)"
   ]
  },
  {
   "cell_type": "code",
   "execution_count": 20,
   "metadata": {},
   "outputs": [
    {
     "name": "stdout",
     "output_type": "stream",
     "text": [
      "305982 115588\n"
     ]
    }
   ],
   "source": [
    "print(len(use_train), len(use_valid))"
   ]
  },
  {
   "cell_type": "code",
   "execution_count": 21,
   "metadata": {},
   "outputs": [],
   "source": [
    "dummy_train_filepath = \"data/ml_datasets/dummy_train_3.csv\"\n",
    "\n",
    "try:\n",
    "    dummy_train = pd.read_csv(dummy_train_filepath, sep=\";\")\n",
    "except FileNotFoundError:\n",
    "    dummy_train = dummy_baseline_data(use_train)\n",
    "    dummy_train.to_csv(dummy_train_filepath, sep=\";\", index=False)"
   ]
  },
  {
   "cell_type": "code",
   "execution_count": 22,
   "metadata": {},
   "outputs": [
    {
     "name": "stdout",
     "output_type": "stream",
     "text": [
      "Total groups:  159752\n",
      "159752\n"
     ]
    },
    {
     "data": {
      "text/html": [
       "<div>\n",
       "<style scoped>\n",
       "    .dataframe tbody tr th:only-of-type {\n",
       "        vertical-align: middle;\n",
       "    }\n",
       "\n",
       "    .dataframe tbody tr th {\n",
       "        vertical-align: top;\n",
       "    }\n",
       "\n",
       "    .dataframe thead th {\n",
       "        text-align: right;\n",
       "    }\n",
       "</style>\n",
       "<table border=\"1\" class=\"dataframe\">\n",
       "  <thead>\n",
       "    <tr style=\"text-align: right;\">\n",
       "      <th></th>\n",
       "      <th>store_dept</th>\n",
       "      <th>wm_date</th>\n",
       "      <th>Store_train</th>\n",
       "      <th>Dept_train</th>\n",
       "      <th>Date_train</th>\n",
       "      <th>IsHoliday</th>\n",
       "      <th>year0_train</th>\n",
       "      <th>year0_sales_train</th>\n",
       "      <th>year0_size_train</th>\n",
       "      <th>year1_train</th>\n",
       "      <th>year1_sales_train</th>\n",
       "      <th>year1_size_train</th>\n",
       "    </tr>\n",
       "  </thead>\n",
       "  <tbody>\n",
       "    <tr>\n",
       "      <td>0</td>\n",
       "      <td>10_1</td>\n",
       "      <td>01/1</td>\n",
       "      <td>10</td>\n",
       "      <td>1</td>\n",
       "      <td>2011-01-07</td>\n",
       "      <td>False</td>\n",
       "      <td>2011</td>\n",
       "      <td>26041.71</td>\n",
       "      <td>126512</td>\n",
       "      <td>2012.00</td>\n",
       "      <td>28520.49</td>\n",
       "      <td>126512.00</td>\n",
       "    </tr>\n",
       "    <tr>\n",
       "      <td>1</td>\n",
       "      <td>10_1</td>\n",
       "      <td>01/2</td>\n",
       "      <td>10</td>\n",
       "      <td>1</td>\n",
       "      <td>2011-01-14</td>\n",
       "      <td>False</td>\n",
       "      <td>2011</td>\n",
       "      <td>27859.44</td>\n",
       "      <td>126512</td>\n",
       "      <td>2012.00</td>\n",
       "      <td>30107.31</td>\n",
       "      <td>126512.00</td>\n",
       "    </tr>\n",
       "    <tr>\n",
       "      <td>2</td>\n",
       "      <td>10_1</td>\n",
       "      <td>01/3</td>\n",
       "      <td>10</td>\n",
       "      <td>1</td>\n",
       "      <td>2011-01-21</td>\n",
       "      <td>False</td>\n",
       "      <td>2011</td>\n",
       "      <td>30911.87</td>\n",
       "      <td>126512</td>\n",
       "      <td>2012.00</td>\n",
       "      <td>31180.23</td>\n",
       "      <td>126512.00</td>\n",
       "    </tr>\n",
       "    <tr>\n",
       "      <td>3</td>\n",
       "      <td>10_1</td>\n",
       "      <td>01/4</td>\n",
       "      <td>10</td>\n",
       "      <td>1</td>\n",
       "      <td>2011-01-28</td>\n",
       "      <td>False</td>\n",
       "      <td>2011</td>\n",
       "      <td>29890.73</td>\n",
       "      <td>126512</td>\n",
       "      <td>2012.00</td>\n",
       "      <td>32559.13</td>\n",
       "      <td>126512.00</td>\n",
       "    </tr>\n",
       "    <tr>\n",
       "      <td>4</td>\n",
       "      <td>10_1</td>\n",
       "      <td>02/1</td>\n",
       "      <td>10</td>\n",
       "      <td>1</td>\n",
       "      <td>2010-02-05</td>\n",
       "      <td>False</td>\n",
       "      <td>2010</td>\n",
       "      <td>40212.84</td>\n",
       "      <td>126512</td>\n",
       "      <td>2011.00</td>\n",
       "      <td>36145.83</td>\n",
       "      <td>126512.00</td>\n",
       "    </tr>\n",
       "  </tbody>\n",
       "</table>\n",
       "</div>"
      ],
      "text/plain": [
       "  store_dept wm_date  Store_train  Dept_train  Date_train  IsHoliday  \\\n",
       "0       10_1    01/1           10           1  2011-01-07      False   \n",
       "1       10_1    01/2           10           1  2011-01-14      False   \n",
       "2       10_1    01/3           10           1  2011-01-21      False   \n",
       "3       10_1    01/4           10           1  2011-01-28      False   \n",
       "4       10_1    02/1           10           1  2010-02-05      False   \n",
       "\n",
       "   year0_train  year0_sales_train  year0_size_train  year1_train  \\\n",
       "0         2011           26041.71            126512      2012.00   \n",
       "1         2011           27859.44            126512      2012.00   \n",
       "2         2011           30911.87            126512      2012.00   \n",
       "3         2011           29890.73            126512      2012.00   \n",
       "4         2010           40212.84            126512      2011.00   \n",
       "\n",
       "   year1_sales_train  year1_size_train  \n",
       "0           28520.49         126512.00  \n",
       "1           30107.31         126512.00  \n",
       "2           31180.23         126512.00  \n",
       "3           32559.13         126512.00  \n",
       "4           36145.83         126512.00  "
      ]
     },
     "execution_count": 22,
     "metadata": {},
     "output_type": "execute_result"
    }
   ],
   "source": [
    "print(\"Total groups: \", len(dummy_train.drop_duplicates([\"wm_date\", \"store_dept\"])))\n",
    "print(len(dummy_train))\n",
    "dummy_train = dummy_train.rename({\"year0_sales\": \"year0_sales_train\", \n",
    "                                  \"year0\": \"year0_train\",\n",
    "                                  \"year0_size\": \"year0_size_train\",\n",
    "                                  \"year1_sales\": \"year1_sales_train\", \n",
    "                                  \"year1\": \"year1_train\",\n",
    "                                  \"year1_size\": \"year1_size_train\",\n",
    "                                  \"Store\": \"Store_train\",\n",
    "                                  \"Dept\": \"Dept_train\",\n",
    "                                  \"Date\": \"Date_train\"}, axis=1)\n",
    "dummy_train.head()"
   ]
  },
  {
   "cell_type": "code",
   "execution_count": 23,
   "metadata": {},
   "outputs": [],
   "source": [
    "dummy_valid_filepath = \"data/ml_datasets/dummy_valid_3.csv\"\n",
    "\n",
    "try:\n",
    "    dummy_valid = pd.read_csv(dummy_valid_filepath, sep=\";\")\n",
    "except FileNotFoundError:\n",
    "    dummy_valid = dummy_baseline_data(use_valid)\n",
    "    dummy_valid.to_csv(dummy_valid_filepath, sep=\";\", index=False)"
   ]
  },
  {
   "cell_type": "code",
   "execution_count": 24,
   "metadata": {},
   "outputs": [
    {
     "name": "stdout",
     "output_type": "stream",
     "text": [
      "Total groups:  115588\n",
      "115588\n"
     ]
    },
    {
     "data": {
      "text/html": [
       "<div>\n",
       "<style scoped>\n",
       "    .dataframe tbody tr th:only-of-type {\n",
       "        vertical-align: middle;\n",
       "    }\n",
       "\n",
       "    .dataframe tbody tr th {\n",
       "        vertical-align: top;\n",
       "    }\n",
       "\n",
       "    .dataframe thead th {\n",
       "        text-align: right;\n",
       "    }\n",
       "</style>\n",
       "<table border=\"1\" class=\"dataframe\">\n",
       "  <thead>\n",
       "    <tr style=\"text-align: right;\">\n",
       "      <th></th>\n",
       "      <th>store_dept</th>\n",
       "      <th>wm_date</th>\n",
       "      <th>Store</th>\n",
       "      <th>Dept</th>\n",
       "      <th>Date</th>\n",
       "      <th>IsHoliday</th>\n",
       "      <th>year0_valid</th>\n",
       "      <th>year0_sales_valid</th>\n",
       "      <th>year0_size_valid</th>\n",
       "    </tr>\n",
       "  </thead>\n",
       "  <tbody>\n",
       "    <tr>\n",
       "      <td>0</td>\n",
       "      <td>10_1</td>\n",
       "      <td>02/1</td>\n",
       "      <td>10</td>\n",
       "      <td>1</td>\n",
       "      <td>2012-02-03</td>\n",
       "      <td>False</td>\n",
       "      <td>2012</td>\n",
       "      <td>36444.00</td>\n",
       "      <td>126512</td>\n",
       "    </tr>\n",
       "    <tr>\n",
       "      <td>1</td>\n",
       "      <td>10_1</td>\n",
       "      <td>02/2</td>\n",
       "      <td>10</td>\n",
       "      <td>1</td>\n",
       "      <td>2012-02-10</td>\n",
       "      <td>True</td>\n",
       "      <td>2012</td>\n",
       "      <td>50434.11</td>\n",
       "      <td>126512</td>\n",
       "    </tr>\n",
       "    <tr>\n",
       "      <td>2</td>\n",
       "      <td>10_1</td>\n",
       "      <td>02/3</td>\n",
       "      <td>10</td>\n",
       "      <td>1</td>\n",
       "      <td>2012-02-17</td>\n",
       "      <td>False</td>\n",
       "      <td>2012</td>\n",
       "      <td>74930.33</td>\n",
       "      <td>126512</td>\n",
       "    </tr>\n",
       "    <tr>\n",
       "      <td>3</td>\n",
       "      <td>10_1</td>\n",
       "      <td>02/4</td>\n",
       "      <td>10</td>\n",
       "      <td>1</td>\n",
       "      <td>2012-02-24</td>\n",
       "      <td>False</td>\n",
       "      <td>2012</td>\n",
       "      <td>28751.57</td>\n",
       "      <td>126512</td>\n",
       "    </tr>\n",
       "    <tr>\n",
       "      <td>4</td>\n",
       "      <td>10_1</td>\n",
       "      <td>03/1</td>\n",
       "      <td>10</td>\n",
       "      <td>1</td>\n",
       "      <td>2012-03-02</td>\n",
       "      <td>False</td>\n",
       "      <td>2012</td>\n",
       "      <td>30525.88</td>\n",
       "      <td>126512</td>\n",
       "    </tr>\n",
       "  </tbody>\n",
       "</table>\n",
       "</div>"
      ],
      "text/plain": [
       "  store_dept wm_date  Store  Dept        Date  IsHoliday  year0_valid  \\\n",
       "0       10_1    02/1     10     1  2012-02-03      False         2012   \n",
       "1       10_1    02/2     10     1  2012-02-10       True         2012   \n",
       "2       10_1    02/3     10     1  2012-02-17      False         2012   \n",
       "3       10_1    02/4     10     1  2012-02-24      False         2012   \n",
       "4       10_1    03/1     10     1  2012-03-02      False         2012   \n",
       "\n",
       "   year0_sales_valid  year0_size_valid  \n",
       "0           36444.00            126512  \n",
       "1           50434.11            126512  \n",
       "2           74930.33            126512  \n",
       "3           28751.57            126512  \n",
       "4           30525.88            126512  "
      ]
     },
     "execution_count": 24,
     "metadata": {},
     "output_type": "execute_result"
    }
   ],
   "source": [
    "print(\"Total groups: \", len(dummy_valid.drop_duplicates([\"wm_date\", \"store_dept\"])))\n",
    "print(len(dummy_valid))\n",
    "dummy_valid = dummy_valid.rename({\"year0_sales\": \"year0_sales_valid\", \n",
    "                                  \"year0\": \"year0_valid\",\n",
    "                                  \"year0_size\": \"year0_size_valid\"}, axis=1)\n",
    "dummy_valid.head()"
   ]
  },
  {
   "cell_type": "markdown",
   "metadata": {},
   "source": [
    "#### Linear Regression on Week-Month grouped data"
   ]
  },
  {
   "cell_type": "markdown",
   "metadata": {},
   "source": [
    "plotting"
   ]
  },
  {
   "cell_type": "code",
   "execution_count": null,
   "metadata": {},
   "outputs": [],
   "source": []
  },
  {
   "cell_type": "code",
   "execution_count": 25,
   "metadata": {},
   "outputs": [
    {
     "name": "stdout",
     "output_type": "stream",
     "text": [
      "Total groups:  115588\n",
      "115588\n"
     ]
    },
    {
     "data": {
      "text/html": [
       "<div>\n",
       "<style scoped>\n",
       "    .dataframe tbody tr th:only-of-type {\n",
       "        vertical-align: middle;\n",
       "    }\n",
       "\n",
       "    .dataframe tbody tr th {\n",
       "        vertical-align: top;\n",
       "    }\n",
       "\n",
       "    .dataframe thead th {\n",
       "        text-align: right;\n",
       "    }\n",
       "</style>\n",
       "<table border=\"1\" class=\"dataframe\">\n",
       "  <thead>\n",
       "    <tr style=\"text-align: right;\">\n",
       "      <th></th>\n",
       "      <th>store_dept</th>\n",
       "      <th>wm_date</th>\n",
       "      <th>Store_train</th>\n",
       "      <th>Dept_train</th>\n",
       "      <th>Date_train</th>\n",
       "      <th>IsHoliday_train</th>\n",
       "      <th>year0_train</th>\n",
       "      <th>year0_sales_train</th>\n",
       "      <th>year0_size_train</th>\n",
       "      <th>year1_train</th>\n",
       "      <th>year1_sales_train</th>\n",
       "      <th>year1_size_train</th>\n",
       "      <th>Store</th>\n",
       "      <th>Dept</th>\n",
       "      <th>Date</th>\n",
       "      <th>IsHoliday_valid</th>\n",
       "      <th>year0_valid</th>\n",
       "      <th>year0_sales_valid</th>\n",
       "      <th>year0_size_valid</th>\n",
       "    </tr>\n",
       "  </thead>\n",
       "  <tbody>\n",
       "    <tr>\n",
       "      <td>19217</td>\n",
       "      <td>17_74</td>\n",
       "      <td>09/4</td>\n",
       "      <td>17.00</td>\n",
       "      <td>74.00</td>\n",
       "      <td>2010-09-24</td>\n",
       "      <td>False</td>\n",
       "      <td>2010.00</td>\n",
       "      <td>17042.00</td>\n",
       "      <td>93188.00</td>\n",
       "      <td>2011.00</td>\n",
       "      <td>16947.82</td>\n",
       "      <td>93188.00</td>\n",
       "      <td>17</td>\n",
       "      <td>74</td>\n",
       "      <td>2012-09-28</td>\n",
       "      <td>False</td>\n",
       "      <td>2012</td>\n",
       "      <td>15414.35</td>\n",
       "      <td>93188</td>\n",
       "    </tr>\n",
       "    <tr>\n",
       "      <td>101721</td>\n",
       "      <td>8_72</td>\n",
       "      <td>02/1</td>\n",
       "      <td>8.00</td>\n",
       "      <td>72.00</td>\n",
       "      <td>2010-02-05</td>\n",
       "      <td>False</td>\n",
       "      <td>2010.00</td>\n",
       "      <td>88650.28</td>\n",
       "      <td>155078.00</td>\n",
       "      <td>2011.00</td>\n",
       "      <td>56714.05</td>\n",
       "      <td>155078.00</td>\n",
       "      <td>8</td>\n",
       "      <td>72</td>\n",
       "      <td>2012-02-03</td>\n",
       "      <td>False</td>\n",
       "      <td>2012</td>\n",
       "      <td>50649.09</td>\n",
       "      <td>155078</td>\n",
       "    </tr>\n",
       "    <tr>\n",
       "      <td>48299</td>\n",
       "      <td>28_37</td>\n",
       "      <td>09/4</td>\n",
       "      <td>28.00</td>\n",
       "      <td>37.00</td>\n",
       "      <td>2010-09-24</td>\n",
       "      <td>False</td>\n",
       "      <td>2010.00</td>\n",
       "      <td>2258.87</td>\n",
       "      <td>206302.00</td>\n",
       "      <td>2011.00</td>\n",
       "      <td>1806.22</td>\n",
       "      <td>206302.00</td>\n",
       "      <td>28</td>\n",
       "      <td>37</td>\n",
       "      <td>2012-09-28</td>\n",
       "      <td>False</td>\n",
       "      <td>2012</td>\n",
       "      <td>1956.42</td>\n",
       "      <td>206302</td>\n",
       "    </tr>\n",
       "    <tr>\n",
       "      <td>114349</td>\n",
       "      <td>4_82</td>\n",
       "      <td>08/5</td>\n",
       "      <td>nan</td>\n",
       "      <td>nan</td>\n",
       "      <td>NaN</td>\n",
       "      <td>NaN</td>\n",
       "      <td>nan</td>\n",
       "      <td>nan</td>\n",
       "      <td>nan</td>\n",
       "      <td>nan</td>\n",
       "      <td>nan</td>\n",
       "      <td>nan</td>\n",
       "      <td>4</td>\n",
       "      <td>82</td>\n",
       "      <td>2012-08-31</td>\n",
       "      <td>False</td>\n",
       "      <td>2012</td>\n",
       "      <td>31409.25</td>\n",
       "      <td>205863</td>\n",
       "    </tr>\n",
       "    <tr>\n",
       "      <td>40107</td>\n",
       "      <td>25_2</td>\n",
       "      <td>05/1</td>\n",
       "      <td>25.00</td>\n",
       "      <td>2.00</td>\n",
       "      <td>2010-05-07</td>\n",
       "      <td>False</td>\n",
       "      <td>2010.00</td>\n",
       "      <td>36649.94</td>\n",
       "      <td>128107.00</td>\n",
       "      <td>2011.00</td>\n",
       "      <td>34531.39</td>\n",
       "      <td>128107.00</td>\n",
       "      <td>25</td>\n",
       "      <td>2</td>\n",
       "      <td>2012-05-04</td>\n",
       "      <td>False</td>\n",
       "      <td>2012</td>\n",
       "      <td>38809.35</td>\n",
       "      <td>128107</td>\n",
       "    </tr>\n",
       "    <tr>\n",
       "      <td>38209</td>\n",
       "      <td>24_35</td>\n",
       "      <td>07/2</td>\n",
       "      <td>24.00</td>\n",
       "      <td>35.00</td>\n",
       "      <td>2010-07-09</td>\n",
       "      <td>False</td>\n",
       "      <td>2010.00</td>\n",
       "      <td>4914.00</td>\n",
       "      <td>203819.00</td>\n",
       "      <td>2011.00</td>\n",
       "      <td>3930.91</td>\n",
       "      <td>203819.00</td>\n",
       "      <td>24</td>\n",
       "      <td>35</td>\n",
       "      <td>2012-07-13</td>\n",
       "      <td>False</td>\n",
       "      <td>2012</td>\n",
       "      <td>3006.41</td>\n",
       "      <td>203819</td>\n",
       "    </tr>\n",
       "  </tbody>\n",
       "</table>\n",
       "</div>"
      ],
      "text/plain": [
       "       store_dept wm_date  Store_train  Dept_train  Date_train  \\\n",
       "19217       17_74    09/4        17.00       74.00  2010-09-24   \n",
       "101721       8_72    02/1         8.00       72.00  2010-02-05   \n",
       "48299       28_37    09/4        28.00       37.00  2010-09-24   \n",
       "114349       4_82    08/5          nan         nan         NaN   \n",
       "40107        25_2    05/1        25.00        2.00  2010-05-07   \n",
       "38209       24_35    07/2        24.00       35.00  2010-07-09   \n",
       "\n",
       "       IsHoliday_train  year0_train  year0_sales_train  year0_size_train  \\\n",
       "19217            False      2010.00           17042.00          93188.00   \n",
       "101721           False      2010.00           88650.28         155078.00   \n",
       "48299            False      2010.00            2258.87         206302.00   \n",
       "114349             NaN          nan                nan               nan   \n",
       "40107            False      2010.00           36649.94         128107.00   \n",
       "38209            False      2010.00            4914.00         203819.00   \n",
       "\n",
       "        year1_train  year1_sales_train  year1_size_train  Store  Dept  \\\n",
       "19217       2011.00           16947.82          93188.00     17    74   \n",
       "101721      2011.00           56714.05         155078.00      8    72   \n",
       "48299       2011.00            1806.22         206302.00     28    37   \n",
       "114349          nan                nan               nan      4    82   \n",
       "40107       2011.00           34531.39         128107.00     25     2   \n",
       "38209       2011.00            3930.91         203819.00     24    35   \n",
       "\n",
       "              Date  IsHoliday_valid  year0_valid  year0_sales_valid  \\\n",
       "19217   2012-09-28            False         2012           15414.35   \n",
       "101721  2012-02-03            False         2012           50649.09   \n",
       "48299   2012-09-28            False         2012            1956.42   \n",
       "114349  2012-08-31            False         2012           31409.25   \n",
       "40107   2012-05-04            False         2012           38809.35   \n",
       "38209   2012-07-13            False         2012            3006.41   \n",
       "\n",
       "        year0_size_valid  \n",
       "19217              93188  \n",
       "101721            155078  \n",
       "48299             206302  \n",
       "114349            205863  \n",
       "40107             128107  \n",
       "38209             203819  "
      ]
     },
     "execution_count": 25,
     "metadata": {},
     "output_type": "execute_result"
    }
   ],
   "source": [
    "xy = pd.merge(dummy_train, dummy_valid, \n",
    "              left_on=[\"wm_date\", \"store_dept\"], right_on=[\"wm_date\", \"store_dept\"], \n",
    "              how=\"right\", suffixes=[\"_train\", \"_valid\"])\n",
    "\n",
    "print(\"Total groups: \", len(xy.drop_duplicates([\"wm_date\", \"store_dept\"])))\n",
    "print(len(xy))\n",
    "xy.sample(6)"
   ]
  },
  {
   "cell_type": "code",
   "execution_count": 26,
   "metadata": {},
   "outputs": [
    {
     "data": {
      "text/plain": [
       "<matplotlib.axes._subplots.AxesSubplot at 0x7f5fe4f52cd0>"
      ]
     },
     "execution_count": 26,
     "metadata": {},
     "output_type": "execute_result"
    }
   ],
   "source": [
    "xy.plot.scatter(\"year0_sales_train\", \"year1_sales_train\", title=\"wm_date sales - train year0 vs train year1\", \n",
    "               ylim=(0, 200000), xlim=(0, 200000), alpha=0.3)"
   ]
  },
  {
   "cell_type": "code",
   "execution_count": 27,
   "metadata": {},
   "outputs": [
    {
     "data": {
      "text/plain": [
       "<matplotlib.axes._subplots.AxesSubplot at 0x7f5fe4629610>"
      ]
     },
     "execution_count": 27,
     "metadata": {},
     "output_type": "execute_result"
    },
    {
     "data": {
      "image/png": "[encoded data removed]",
      "text/plain": [
       "<Figure size 432x288 with 1 Axes>"
      ]
     },
     "metadata": {
      "needs_background": "light"
     },
     "output_type": "display_data"
    }
   ],
   "source": [
    "xy.plot.scatter(\"year1_sales_train\", \"year0_sales_valid\", title=\"wm_date sales - train year1 vs valid year0\", \n",
    "               ylim=(0, 200000), xlim=(0, 200000), alpha=0.3)"
   ]
  },
  {
   "cell_type": "code",
   "execution_count": 28,
   "metadata": {},
   "outputs": [
    {
     "data": {
      "text/plain": [
       "<matplotlib.axes._subplots.AxesSubplot at 0x7f5fde245cd0>"
      ]
     },
     "execution_count": 28,
     "metadata": {},
     "output_type": "execute_result"
    },
    {
     "data": {
      "image/png": "[encoded data removed]",
      "text/plain": [
       "<Figure size 432x288 with 1 Axes>"
      ]
     },
     "metadata": {
      "needs_background": "light"
     },
     "output_type": "display_data"
    }
   ],
   "source": [
    "xy.plot.scatter(\"year0_size_train\", \"year1_size_train\", title=\"wm_date sales - train size0_train vs train size1_train\", \n",
    "               ylim=(0, 200000), xlim=(0, 200000), alpha=0.3)"
   ]
  },
  {
   "cell_type": "code",
   "execution_count": 29,
   "metadata": {},
   "outputs": [
    {
     "data": {
      "text/plain": [
       "<matplotlib.axes._subplots.AxesSubplot at 0x7f5fdbfb3950>"
      ]
     },
     "execution_count": 29,
     "metadata": {},
     "output_type": "execute_result"
    },
    {
     "data": {
      "image/png": "[encoded data removed]",
      "text/plain": [
       "<Figure size 432x288 with 1 Axes>"
      ]
     },
     "metadata": {
      "needs_background": "light"
     },
     "output_type": "display_data"
    }
   ],
   "source": [
    "xy.plot.scatter(\"year1_size_train\", \"year0_size_valid\", title=\"wm_date sales - train size1 vs valid size0\", \n",
    "               ylim=(0, 200000), xlim=(0, 200000), alpha=0.3)"
   ]
  },
  {
   "cell_type": "code",
   "execution_count": 30,
   "metadata": {},
   "outputs": [],
   "source": [
    "import numpy as np\n",
    "from sklearn.linear_model import LinearRegression"
   ]
  },
  {
   "cell_type": "markdown",
   "metadata": {},
   "source": [
    "NaN values"
   ]
  },
  {
   "cell_type": "code",
   "execution_count": 31,
   "metadata": {},
   "outputs": [
    {
     "data": {
      "text/html": [
       "<div>\n",
       "<style scoped>\n",
       "    .dataframe tbody tr th:only-of-type {\n",
       "        vertical-align: middle;\n",
       "    }\n",
       "\n",
       "    .dataframe tbody tr th {\n",
       "        vertical-align: top;\n",
       "    }\n",
       "\n",
       "    .dataframe thead th {\n",
       "        text-align: right;\n",
       "    }\n",
       "</style>\n",
       "<table border=\"1\" class=\"dataframe\">\n",
       "  <thead>\n",
       "    <tr style=\"text-align: right;\">\n",
       "      <th></th>\n",
       "      <th>freq_absolute</th>\n",
       "      <th>freq_relative</th>\n",
       "    </tr>\n",
       "  </thead>\n",
       "  <tbody>\n",
       "    <tr>\n",
       "      <td>False</td>\n",
       "      <td>104610</td>\n",
       "      <td>90.50%</td>\n",
       "    </tr>\n",
       "    <tr>\n",
       "      <td>True</td>\n",
       "      <td>10978</td>\n",
       "      <td>9.50%</td>\n",
       "    </tr>\n",
       "  </tbody>\n",
       "</table>\n",
       "</div>"
      ],
      "text/plain": [
       "       freq_absolute freq_relative\n",
       "False         104610        90.50%\n",
       "True           10978         9.50%"
      ]
     },
     "execution_count": 31,
     "metadata": {},
     "output_type": "execute_result"
    }
   ],
   "source": [
    "stats.freq(xy[\"year0_sales_train\"].isna())"
   ]
  },
  {
   "cell_type": "code",
   "execution_count": 32,
   "metadata": {},
   "outputs": [],
   "source": [
    "not_na_xy = xy[(xy[\"year0_sales_train\"].notna()) & (xy[\"year1_sales_train\"].notna())]"
   ]
  },
  {
   "cell_type": "code",
   "execution_count": 33,
   "metadata": {},
   "outputs": [
    {
     "data": {
      "text/html": [
       "<div>\n",
       "<style scoped>\n",
       "    .dataframe tbody tr th:only-of-type {\n",
       "        vertical-align: middle;\n",
       "    }\n",
       "\n",
       "    .dataframe tbody tr th {\n",
       "        vertical-align: top;\n",
       "    }\n",
       "\n",
       "    .dataframe thead th {\n",
       "        text-align: right;\n",
       "    }\n",
       "</style>\n",
       "<table border=\"1\" class=\"dataframe\">\n",
       "  <thead>\n",
       "    <tr style=\"text-align: right;\">\n",
       "      <th></th>\n",
       "      <th>year0_sales_train</th>\n",
       "      <th>year0_size_train</th>\n",
       "      <th>Store</th>\n",
       "      <th>Dept</th>\n",
       "      <th>Date</th>\n",
       "      <th>IsHoliday_train</th>\n",
       "    </tr>\n",
       "  </thead>\n",
       "  <tbody>\n",
       "    <tr>\n",
       "      <td>0</td>\n",
       "      <td>40212.84</td>\n",
       "      <td>126512.00</td>\n",
       "      <td>10</td>\n",
       "      <td>1</td>\n",
       "      <td>2012-02-03</td>\n",
       "      <td>False</td>\n",
       "    </tr>\n",
       "    <tr>\n",
       "      <td>1</td>\n",
       "      <td>67699.32</td>\n",
       "      <td>126512.00</td>\n",
       "      <td>10</td>\n",
       "      <td>1</td>\n",
       "      <td>2012-02-10</td>\n",
       "      <td>True</td>\n",
       "    </tr>\n",
       "    <tr>\n",
       "      <td>2</td>\n",
       "      <td>49748.33</td>\n",
       "      <td>126512.00</td>\n",
       "      <td>10</td>\n",
       "      <td>1</td>\n",
       "      <td>2012-02-17</td>\n",
       "      <td>False</td>\n",
       "    </tr>\n",
       "    <tr>\n",
       "      <td>3</td>\n",
       "      <td>33601.22</td>\n",
       "      <td>126512.00</td>\n",
       "      <td>10</td>\n",
       "      <td>1</td>\n",
       "      <td>2012-02-24</td>\n",
       "      <td>False</td>\n",
       "    </tr>\n",
       "  </tbody>\n",
       "</table>\n",
       "</div>"
      ],
      "text/plain": [
       "   year0_sales_train  year0_size_train  Store  Dept        Date  \\\n",
       "0           40212.84         126512.00     10     1  2012-02-03   \n",
       "1           67699.32         126512.00     10     1  2012-02-10   \n",
       "2           49748.33         126512.00     10     1  2012-02-17   \n",
       "3           33601.22         126512.00     10     1  2012-02-24   \n",
       "\n",
       "  IsHoliday_train  \n",
       "0           False  \n",
       "1            True  \n",
       "2           False  \n",
       "3           False  "
      ]
     },
     "execution_count": 33,
     "metadata": {},
     "output_type": "execute_result"
    }
   ],
   "source": [
    "x = not_na_xy[[\"year0_sales_train\", \"year0_size_train\"] + key_colnames + [\"IsHoliday_train\"]]\n",
    "x.head(4)"
   ]
  },
  {
   "cell_type": "code",
   "execution_count": 34,
   "metadata": {},
   "outputs": [
    {
     "data": {
      "text/html": [
       "<div>\n",
       "<style scoped>\n",
       "    .dataframe tbody tr th:only-of-type {\n",
       "        vertical-align: middle;\n",
       "    }\n",
       "\n",
       "    .dataframe tbody tr th {\n",
       "        vertical-align: top;\n",
       "    }\n",
       "\n",
       "    .dataframe thead th {\n",
       "        text-align: right;\n",
       "    }\n",
       "</style>\n",
       "<table border=\"1\" class=\"dataframe\">\n",
       "  <thead>\n",
       "    <tr style=\"text-align: right;\">\n",
       "      <th></th>\n",
       "      <th>year1_sales_train</th>\n",
       "    </tr>\n",
       "  </thead>\n",
       "  <tbody>\n",
       "    <tr>\n",
       "      <td>0</td>\n",
       "      <td>36145.83</td>\n",
       "    </tr>\n",
       "    <tr>\n",
       "      <td>1</td>\n",
       "      <td>52118.42</td>\n",
       "    </tr>\n",
       "    <tr>\n",
       "      <td>2</td>\n",
       "      <td>64020.62</td>\n",
       "    </tr>\n",
       "    <tr>\n",
       "      <td>3</td>\n",
       "      <td>27273.94</td>\n",
       "    </tr>\n",
       "  </tbody>\n",
       "</table>\n",
       "</div>"
      ],
      "text/plain": [
       "   year1_sales_train\n",
       "0           36145.83\n",
       "1           52118.42\n",
       "2           64020.62\n",
       "3           27273.94"
      ]
     },
     "execution_count": 34,
     "metadata": {},
     "output_type": "execute_result"
    }
   ],
   "source": [
    "y = not_na_xy[[\"year1_sales_train\"]]\n",
    "y.head(4)"
   ]
  },
  {
   "cell_type": "code",
   "execution_count": 35,
   "metadata": {},
   "outputs": [],
   "source": [
    "# display(stats.freq(x[\"year0_sales_train\"].isna()))\n",
    "# display(stats.freq(x[\"year0_size_train\"].isna()))\n",
    "# display(stats.freq(y[\"year1_sales_train\"].isna()))"
   ]
  },
  {
   "cell_type": "markdown",
   "metadata": {},
   "source": [
    "#### Fitting"
   ]
  },
  {
   "cell_type": "markdown",
   "metadata": {},
   "source": [
    "The X data used to fit are the <b>first</b> year Weekly_Sales and <b>first</b> year Size from trainning dataset. <br>\n",
    "The Y data used to fit is the <b>second</b> year Weekly_Sales."
   ]
  },
  {
   "cell_type": "code",
   "execution_count": 36,
   "metadata": {},
   "outputs": [
    {
     "data": {
      "text/plain": [
       "0.9630248044343439"
      ]
     },
     "execution_count": 36,
     "metadata": {},
     "output_type": "execute_result"
    }
   ],
   "source": [
    "reg = LinearRegression().fit(x[[\"year0_sales_train\", \"year0_size_train\"]], y)\n",
    "reg.score(x[[\"year0_sales_train\", \"year0_size_train\"]], y)"
   ]
  },
  {
   "cell_type": "code",
   "execution_count": 37,
   "metadata": {},
   "outputs": [
    {
     "data": {
      "text/plain": [
       "array([[0.98628267, 0.00301177]])"
      ]
     },
     "execution_count": 37,
     "metadata": {},
     "output_type": "execute_result"
    }
   ],
   "source": [
    "reg.coef_"
   ]
  },
  {
   "cell_type": "code",
   "execution_count": 38,
   "metadata": {},
   "outputs": [
    {
     "data": {
      "text/plain": [
       "array([-283.41081387])"
      ]
     },
     "execution_count": 38,
     "metadata": {},
     "output_type": "execute_result"
    }
   ],
   "source": [
    "reg.intercept_"
   ]
  },
  {
   "cell_type": "markdown",
   "metadata": {},
   "source": [
    "#### Applying"
   ]
  },
  {
   "cell_type": "markdown",
   "metadata": {},
   "source": [
    "The X data used to fit are the <b>second</b> year Weekly_Sales and <b>second</b> year Size from trainning dataset. <br>\n",
    "The Y data to be predicted is the <b>third</b> year Weekly_Sales from trainning dataset (represented by the <b>first</b> year from validation dataset)."
   ]
  },
  {
   "cell_type": "code",
   "execution_count": 39,
   "metadata": {},
   "outputs": [
    {
     "data": {
      "text/html": [
       "<div>\n",
       "<style scoped>\n",
       "    .dataframe tbody tr th:only-of-type {\n",
       "        vertical-align: middle;\n",
       "    }\n",
       "\n",
       "    .dataframe tbody tr th {\n",
       "        vertical-align: top;\n",
       "    }\n",
       "\n",
       "    .dataframe thead th {\n",
       "        text-align: right;\n",
       "    }\n",
       "</style>\n",
       "<table border=\"1\" class=\"dataframe\">\n",
       "  <thead>\n",
       "    <tr style=\"text-align: right;\">\n",
       "      <th></th>\n",
       "      <th>year1_sales_train</th>\n",
       "      <th>year1_size_train</th>\n",
       "      <th>year0_sales_valid</th>\n",
       "      <th>year0_size_valid</th>\n",
       "      <th>Store</th>\n",
       "      <th>Dept</th>\n",
       "      <th>Date</th>\n",
       "      <th>IsHoliday_valid</th>\n",
       "    </tr>\n",
       "  </thead>\n",
       "  <tbody>\n",
       "    <tr>\n",
       "      <td>0</td>\n",
       "      <td>36145.83</td>\n",
       "      <td>126512.00</td>\n",
       "      <td>36444.00</td>\n",
       "      <td>126512</td>\n",
       "      <td>10</td>\n",
       "      <td>1</td>\n",
       "      <td>2012-02-03</td>\n",
       "      <td>False</td>\n",
       "    </tr>\n",
       "    <tr>\n",
       "      <td>1</td>\n",
       "      <td>52118.42</td>\n",
       "      <td>126512.00</td>\n",
       "      <td>50434.11</td>\n",
       "      <td>126512</td>\n",
       "      <td>10</td>\n",
       "      <td>1</td>\n",
       "      <td>2012-02-10</td>\n",
       "      <td>True</td>\n",
       "    </tr>\n",
       "    <tr>\n",
       "      <td>2</td>\n",
       "      <td>64020.62</td>\n",
       "      <td>126512.00</td>\n",
       "      <td>74930.33</td>\n",
       "      <td>126512</td>\n",
       "      <td>10</td>\n",
       "      <td>1</td>\n",
       "      <td>2012-02-17</td>\n",
       "      <td>False</td>\n",
       "    </tr>\n",
       "    <tr>\n",
       "      <td>3</td>\n",
       "      <td>27273.94</td>\n",
       "      <td>126512.00</td>\n",
       "      <td>28751.57</td>\n",
       "      <td>126512</td>\n",
       "      <td>10</td>\n",
       "      <td>1</td>\n",
       "      <td>2012-02-24</td>\n",
       "      <td>False</td>\n",
       "    </tr>\n",
       "  </tbody>\n",
       "</table>\n",
       "</div>"
      ],
      "text/plain": [
       "   year1_sales_train  year1_size_train  year0_sales_valid  year0_size_valid  \\\n",
       "0           36145.83         126512.00           36444.00            126512   \n",
       "1           52118.42         126512.00           50434.11            126512   \n",
       "2           64020.62         126512.00           74930.33            126512   \n",
       "3           27273.94         126512.00           28751.57            126512   \n",
       "\n",
       "   Store  Dept        Date  IsHoliday_valid  \n",
       "0     10     1  2012-02-03            False  \n",
       "1     10     1  2012-02-10             True  \n",
       "2     10     1  2012-02-17            False  \n",
       "3     10     1  2012-02-24            False  "
      ]
     },
     "execution_count": 39,
     "metadata": {},
     "output_type": "execute_result"
    }
   ],
   "source": [
    "x_valid = not_na_xy[[\"year1_sales_train\", \"year1_size_train\", \"year0_sales_valid\", \"year0_size_valid\"] + key_colnames + [\"IsHoliday_valid\"]]\n",
    "x_valid.head(4)"
   ]
  },
  {
   "cell_type": "code",
   "execution_count": 40,
   "metadata": {},
   "outputs": [
    {
     "data": {
      "text/plain": [
       "array([[35747.62047351],\n",
       "       [51501.10921637],\n",
       "       [63240.04283423],\n",
       "       ...,\n",
       "       [ 4155.76011193],\n",
       "       [ 4219.76985734],\n",
       "       [ 3355.10570168]])"
      ]
     },
     "execution_count": 40,
     "metadata": {},
     "output_type": "execute_result"
    }
   ],
   "source": [
    "y_pred = reg.predict(x_valid[[\"year1_sales_train\", \"year1_size_train\"]])\n",
    "y_pred"
   ]
  },
  {
   "cell_type": "code",
   "execution_count": 41,
   "metadata": {},
   "outputs": [
    {
     "data": {
      "text/plain": [
       "<matplotlib.axes._subplots.AxesSubplot at 0x7f5fe404ce90>"
      ]
     },
     "execution_count": 41,
     "metadata": {},
     "output_type": "execute_result"
    },
    {
     "data": {
      "image/png": "[encoded data removed]",
      "text/plain": [
       "<Figure size 432x288 with 1 Axes>"
      ]
     },
     "metadata": {
      "needs_background": "light"
     },
     "output_type": "display_data"
    }
   ],
   "source": [
    "pd.DataFrame(y_pred)[0].plot.hist(title=\"Predicted\")"
   ]
  },
  {
   "cell_type": "code",
   "execution_count": 42,
   "metadata": {},
   "outputs": [
    {
     "data": {
      "text/plain": [
       "count   101790.00\n",
       "mean     16171.29\n",
       "std      21793.65\n",
       "min       -965.43\n",
       "25%       2614.32\n",
       "50%       8123.53\n",
       "75%      20513.17\n",
       "max     238134.13\n",
       "Name: 0, dtype: float64"
      ]
     },
     "execution_count": 42,
     "metadata": {},
     "output_type": "execute_result"
    }
   ],
   "source": [
    "pd.DataFrame(y_pred)[0].describe()"
   ]
  },
  {
   "cell_type": "code",
   "execution_count": 43,
   "metadata": {},
   "outputs": [
    {
     "data": {
      "text/html": [
       "<div>\n",
       "<style scoped>\n",
       "    .dataframe tbody tr th:only-of-type {\n",
       "        vertical-align: middle;\n",
       "    }\n",
       "\n",
       "    .dataframe tbody tr th {\n",
       "        vertical-align: top;\n",
       "    }\n",
       "\n",
       "    .dataframe thead th {\n",
       "        text-align: right;\n",
       "    }\n",
       "</style>\n",
       "<table border=\"1\" class=\"dataframe\">\n",
       "  <thead>\n",
       "    <tr style=\"text-align: right;\">\n",
       "      <th></th>\n",
       "      <th>year0_sales_valid</th>\n",
       "    </tr>\n",
       "  </thead>\n",
       "  <tbody>\n",
       "    <tr>\n",
       "      <td>0</td>\n",
       "      <td>36444.00</td>\n",
       "    </tr>\n",
       "    <tr>\n",
       "      <td>1</td>\n",
       "      <td>50434.11</td>\n",
       "    </tr>\n",
       "    <tr>\n",
       "      <td>2</td>\n",
       "      <td>74930.33</td>\n",
       "    </tr>\n",
       "    <tr>\n",
       "      <td>3</td>\n",
       "      <td>28751.57</td>\n",
       "    </tr>\n",
       "  </tbody>\n",
       "</table>\n",
       "</div>"
      ],
      "text/plain": [
       "   year0_sales_valid\n",
       "0           36444.00\n",
       "1           50434.11\n",
       "2           74930.33\n",
       "3           28751.57"
      ]
     },
     "execution_count": 43,
     "metadata": {},
     "output_type": "execute_result"
    }
   ],
   "source": [
    "y_valid = not_na_xy[[\"year0_sales_valid\"]]\n",
    "y_valid.head(4)"
   ]
  },
  {
   "cell_type": "code",
   "execution_count": 44,
   "metadata": {},
   "outputs": [
    {
     "data": {
      "text/plain": [
       "<matplotlib.axes._subplots.AxesSubplot at 0x7f5fde947d90>"
      ]
     },
     "execution_count": 44,
     "metadata": {},
     "output_type": "execute_result"
    },
    {
     "data": {
      "image/png": "[encoded data removed]",
      "text/plain": [
       "<Figure size 432x288 with 1 Axes>"
      ]
     },
     "metadata": {
      "needs_background": "light"
     },
     "output_type": "display_data"
    }
   ],
   "source": [
    "y_valid.plot.hist(title=\"Real\")"
   ]
  },
  {
   "cell_type": "code",
   "execution_count": 45,
   "metadata": {},
   "outputs": [
    {
     "data": {
      "text/plain": [
       "0.964862488840135"
      ]
     },
     "execution_count": 45,
     "metadata": {},
     "output_type": "execute_result"
    }
   ],
   "source": [
    "reg.score(x_valid[[\"year1_sales_train\", \"year1_size_train\"]], y_valid)"
   ]
  },
  {
   "cell_type": "markdown",
   "metadata": {},
   "source": [
    "#### Evaluation"
   ]
  },
  {
   "cell_type": "code",
   "execution_count": 46,
   "metadata": {},
   "outputs": [],
   "source": [
    "# store_colname=\"Store\"\n",
    "# dept_colname=\"Dept\"\n",
    "# date_colname=\"Date\"\n",
    "\n",
    "# display(x_valid[[store_colname, dept_colname, date_colname]])\n",
    "\n",
    "# submission_df = pd.DataFrame()\n",
    "# submission_df[\"Id\"] = x_valid[store_colname].astype(str) + \"_\" + x_valid[dept_colname].astype(str) + \"_\" + x_valid[date_colname].astype(str)\n",
    "\n",
    "# submission_df[\"Id\"]"
   ]
  },
  {
   "cell_type": "code",
   "execution_count": 47,
   "metadata": {},
   "outputs": [],
   "source": [
    "subm = evaluation.build_submission_df(test_df=x_valid, \n",
    "                                      target_predicted=y_pred)"
   ]
  },
  {
   "cell_type": "code",
   "execution_count": 48,
   "metadata": {},
   "outputs": [
    {
     "data": {
      "text/html": [
       "<div>\n",
       "<style scoped>\n",
       "    .dataframe tbody tr th:only-of-type {\n",
       "        vertical-align: middle;\n",
       "    }\n",
       "\n",
       "    .dataframe tbody tr th {\n",
       "        vertical-align: top;\n",
       "    }\n",
       "\n",
       "    .dataframe thead th {\n",
       "        text-align: right;\n",
       "    }\n",
       "</style>\n",
       "<table border=\"1\" class=\"dataframe\">\n",
       "  <thead>\n",
       "    <tr style=\"text-align: right;\">\n",
       "      <th></th>\n",
       "      <th>Weekly_Sales</th>\n",
       "    </tr>\n",
       "    <tr>\n",
       "      <th>Id</th>\n",
       "      <th></th>\n",
       "    </tr>\n",
       "  </thead>\n",
       "  <tbody>\n",
       "    <tr>\n",
       "      <td>3_4_2012-09-28</td>\n",
       "      <td>7694.88</td>\n",
       "    </tr>\n",
       "    <tr>\n",
       "      <td>29_3_2012-08-17</td>\n",
       "      <td>18013.68</td>\n",
       "    </tr>\n",
       "    <tr>\n",
       "      <td>19_41_2012-04-20</td>\n",
       "      <td>2241.33</td>\n",
       "    </tr>\n",
       "    <tr>\n",
       "      <td>40_94_2012-04-06</td>\n",
       "      <td>38411.48</td>\n",
       "    </tr>\n",
       "    <tr>\n",
       "      <td>37_93_2012-03-02</td>\n",
       "      <td>21849.86</td>\n",
       "    </tr>\n",
       "  </tbody>\n",
       "</table>\n",
       "</div>"
      ],
      "text/plain": [
       "                  Weekly_Sales\n",
       "Id                            \n",
       "3_4_2012-09-28         7694.88\n",
       "29_3_2012-08-17       18013.68\n",
       "19_41_2012-04-20       2241.33\n",
       "40_94_2012-04-06      38411.48\n",
       "37_93_2012-03-02      21849.86"
      ]
     },
     "execution_count": 48,
     "metadata": {},
     "output_type": "execute_result"
    }
   ],
   "source": [
    "subm.sample(5)"
   ]
  },
  {
   "cell_type": "code",
   "execution_count": 49,
   "metadata": {},
   "outputs": [
    {
     "data": {
      "text/html": [
       "<div>\n",
       "<style scoped>\n",
       "    .dataframe tbody tr th:only-of-type {\n",
       "        vertical-align: middle;\n",
       "    }\n",
       "\n",
       "    .dataframe tbody tr th {\n",
       "        vertical-align: top;\n",
       "    }\n",
       "\n",
       "    .dataframe thead th {\n",
       "        text-align: right;\n",
       "    }\n",
       "</style>\n",
       "<table border=\"1\" class=\"dataframe\">\n",
       "  <thead>\n",
       "    <tr style=\"text-align: right;\">\n",
       "      <th></th>\n",
       "      <th>year1_sales_train</th>\n",
       "      <th>year1_size_train</th>\n",
       "      <th>Weekly_Sales</th>\n",
       "      <th>year0_size_valid</th>\n",
       "      <th>Store</th>\n",
       "      <th>Dept</th>\n",
       "      <th>Date</th>\n",
       "      <th>IsHoliday</th>\n",
       "    </tr>\n",
       "  </thead>\n",
       "  <tbody>\n",
       "    <tr>\n",
       "      <td>0</td>\n",
       "      <td>36145.83</td>\n",
       "      <td>126512.00</td>\n",
       "      <td>36444.00</td>\n",
       "      <td>126512</td>\n",
       "      <td>10</td>\n",
       "      <td>1</td>\n",
       "      <td>2012-02-03</td>\n",
       "      <td>False</td>\n",
       "    </tr>\n",
       "    <tr>\n",
       "      <td>1</td>\n",
       "      <td>52118.42</td>\n",
       "      <td>126512.00</td>\n",
       "      <td>50434.11</td>\n",
       "      <td>126512</td>\n",
       "      <td>10</td>\n",
       "      <td>1</td>\n",
       "      <td>2012-02-10</td>\n",
       "      <td>True</td>\n",
       "    </tr>\n",
       "    <tr>\n",
       "      <td>2</td>\n",
       "      <td>64020.62</td>\n",
       "      <td>126512.00</td>\n",
       "      <td>74930.33</td>\n",
       "      <td>126512</td>\n",
       "      <td>10</td>\n",
       "      <td>1</td>\n",
       "      <td>2012-02-17</td>\n",
       "      <td>False</td>\n",
       "    </tr>\n",
       "    <tr>\n",
       "      <td>3</td>\n",
       "      <td>27273.94</td>\n",
       "      <td>126512.00</td>\n",
       "      <td>28751.57</td>\n",
       "      <td>126512</td>\n",
       "      <td>10</td>\n",
       "      <td>1</td>\n",
       "      <td>2012-02-24</td>\n",
       "      <td>False</td>\n",
       "    </tr>\n",
       "    <tr>\n",
       "      <td>4</td>\n",
       "      <td>30345.61</td>\n",
       "      <td>126512.00</td>\n",
       "      <td>30525.88</td>\n",
       "      <td>126512</td>\n",
       "      <td>10</td>\n",
       "      <td>1</td>\n",
       "      <td>2012-03-02</td>\n",
       "      <td>False</td>\n",
       "    </tr>\n",
       "    <tr>\n",
       "      <td>...</td>\n",
       "      <td>...</td>\n",
       "      <td>...</td>\n",
       "      <td>...</td>\n",
       "      <td>...</td>\n",
       "      <td>...</td>\n",
       "      <td>...</td>\n",
       "      <td>...</td>\n",
       "      <td>...</td>\n",
       "    </tr>\n",
       "    <tr>\n",
       "      <td>104605</td>\n",
       "      <td>3145.13</td>\n",
       "      <td>125833.00</td>\n",
       "      <td>3763.21</td>\n",
       "      <td>125833</td>\n",
       "      <td>9</td>\n",
       "      <td>96</td>\n",
       "      <td>2012-09-28</td>\n",
       "      <td>False</td>\n",
       "    </tr>\n",
       "    <tr>\n",
       "      <td>104606</td>\n",
       "      <td>4454.78</td>\n",
       "      <td>125833.00</td>\n",
       "      <td>4306.43</td>\n",
       "      <td>125833</td>\n",
       "      <td>9</td>\n",
       "      <td>96</td>\n",
       "      <td>2012-10-05</td>\n",
       "      <td>False</td>\n",
       "    </tr>\n",
       "    <tr>\n",
       "      <td>104607</td>\n",
       "      <td>4116.66</td>\n",
       "      <td>125833.00</td>\n",
       "      <td>3675.99</td>\n",
       "      <td>125833</td>\n",
       "      <td>9</td>\n",
       "      <td>96</td>\n",
       "      <td>2012-10-12</td>\n",
       "      <td>False</td>\n",
       "    </tr>\n",
       "    <tr>\n",
       "      <td>104608</td>\n",
       "      <td>4181.56</td>\n",
       "      <td>125833.00</td>\n",
       "      <td>3540.05</td>\n",
       "      <td>125833</td>\n",
       "      <td>9</td>\n",
       "      <td>96</td>\n",
       "      <td>2012-10-19</td>\n",
       "      <td>False</td>\n",
       "    </tr>\n",
       "    <tr>\n",
       "      <td>104609</td>\n",
       "      <td>3304.87</td>\n",
       "      <td>125833.00</td>\n",
       "      <td>4752.25</td>\n",
       "      <td>125833</td>\n",
       "      <td>9</td>\n",
       "      <td>96</td>\n",
       "      <td>2012-10-26</td>\n",
       "      <td>False</td>\n",
       "    </tr>\n",
       "  </tbody>\n",
       "</table>\n",
       "<p>101790 rows × 8 columns</p>\n",
       "</div>"
      ],
      "text/plain": [
       "        year1_sales_train  year1_size_train  Weekly_Sales  year0_size_valid  \\\n",
       "0                36145.83         126512.00      36444.00            126512   \n",
       "1                52118.42         126512.00      50434.11            126512   \n",
       "2                64020.62         126512.00      74930.33            126512   \n",
       "3                27273.94         126512.00      28751.57            126512   \n",
       "4                30345.61         126512.00      30525.88            126512   \n",
       "...                   ...               ...           ...               ...   \n",
       "104605            3145.13         125833.00       3763.21            125833   \n",
       "104606            4454.78         125833.00       4306.43            125833   \n",
       "104607            4116.66         125833.00       3675.99            125833   \n",
       "104608            4181.56         125833.00       3540.05            125833   \n",
       "104609            3304.87         125833.00       4752.25            125833   \n",
       "\n",
       "        Store  Dept        Date  IsHoliday  \n",
       "0          10     1  2012-02-03      False  \n",
       "1          10     1  2012-02-10       True  \n",
       "2          10     1  2012-02-17      False  \n",
       "3          10     1  2012-02-24      False  \n",
       "4          10     1  2012-03-02      False  \n",
       "...       ...   ...         ...        ...  \n",
       "104605      9    96  2012-09-28      False  \n",
       "104606      9    96  2012-10-05      False  \n",
       "104607      9    96  2012-10-12      False  \n",
       "104608      9    96  2012-10-19      False  \n",
       "104609      9    96  2012-10-26      False  \n",
       "\n",
       "[101790 rows x 8 columns]"
      ]
     },
     "execution_count": 49,
     "metadata": {},
     "output_type": "execute_result"
    }
   ],
   "source": [
    "x_valid = x_valid.rename({\"IsHoliday_valid\": \"IsHoliday\", \"year0_sales_valid\": \"Weekly_Sales\"}, axis=1)\n",
    "x_valid"
   ]
  },
  {
   "cell_type": "code",
   "execution_count": 50,
   "metadata": {},
   "outputs": [
    {
     "data": {
      "text/plain": [
       "2050.917579771999"
      ]
     },
     "execution_count": 50,
     "metadata": {},
     "output_type": "execute_result"
    }
   ],
   "source": [
    "evaluation.evaluate(subm, x_valid)"
   ]
  },
  {
   "cell_type": "code",
   "execution_count": null,
   "metadata": {},
   "outputs": [],
   "source": []
  },
  {
   "cell_type": "code",
   "execution_count": null,
   "metadata": {},
   "outputs": [],
   "source": []
  },
  {
   "cell_type": "markdown",
   "metadata": {},
   "source": [
    "#### Test"
   ]
  },
  {
   "cell_type": "code",
   "execution_count": 51,
   "metadata": {},
   "outputs": [
    {
     "data": {
      "text/html": [
       "<div>\n",
       "<style scoped>\n",
       "    .dataframe tbody tr th:only-of-type {\n",
       "        vertical-align: middle;\n",
       "    }\n",
       "\n",
       "    .dataframe tbody tr th {\n",
       "        vertical-align: top;\n",
       "    }\n",
       "\n",
       "    .dataframe thead th {\n",
       "        text-align: right;\n",
       "    }\n",
       "</style>\n",
       "<table border=\"1\" class=\"dataframe\">\n",
       "  <thead>\n",
       "    <tr style=\"text-align: right;\">\n",
       "      <th></th>\n",
       "      <th>Store</th>\n",
       "      <th>Dept</th>\n",
       "      <th>Date</th>\n",
       "      <th>IsHoliday</th>\n",
       "      <th>timestamp</th>\n",
       "      <th>store_dept</th>\n",
       "      <th>Temperature</th>\n",
       "      <th>Fuel_Price</th>\n",
       "      <th>MarkDown1</th>\n",
       "      <th>MarkDown2</th>\n",
       "      <th>MarkDown3</th>\n",
       "      <th>MarkDown4</th>\n",
       "      <th>MarkDown5</th>\n",
       "      <th>CPI</th>\n",
       "      <th>Unemployment</th>\n",
       "      <th>datetime</th>\n",
       "      <th>day_n</th>\n",
       "      <th>month_n</th>\n",
       "      <th>year</th>\n",
       "      <th>date_ym</th>\n",
       "      <th>week_n</th>\n",
       "      <th>celsius</th>\n",
       "      <th>wm_date</th>\n",
       "      <th>celsius_diff</th>\n",
       "      <th>pre_holiday</th>\n",
       "      <th>pos_holiday</th>\n",
       "      <th>Type</th>\n",
       "      <th>Size</th>\n",
       "    </tr>\n",
       "  </thead>\n",
       "  <tbody>\n",
       "    <tr>\n",
       "      <td>0</td>\n",
       "      <td>1</td>\n",
       "      <td>1</td>\n",
       "      <td>2012-11-02</td>\n",
       "      <td>False</td>\n",
       "      <td>1351825200.00</td>\n",
       "      <td>1_1</td>\n",
       "      <td>55.32</td>\n",
       "      <td>3.39</td>\n",
       "      <td>6766.44</td>\n",
       "      <td>5147.70</td>\n",
       "      <td>50.82</td>\n",
       "      <td>3639.90</td>\n",
       "      <td>2737.42</td>\n",
       "      <td>223.46</td>\n",
       "      <td>6.57</td>\n",
       "      <td>2012-11-02</td>\n",
       "      <td>2</td>\n",
       "      <td>11</td>\n",
       "      <td>2012</td>\n",
       "      <td>2012-11</td>\n",
       "      <td>1</td>\n",
       "      <td>12.96</td>\n",
       "      <td>11/1</td>\n",
       "      <td>-7.69</td>\n",
       "      <td>False</td>\n",
       "      <td>False</td>\n",
       "      <td>A</td>\n",
       "      <td>151315</td>\n",
       "    </tr>\n",
       "    <tr>\n",
       "      <td>1</td>\n",
       "      <td>19</td>\n",
       "      <td>10</td>\n",
       "      <td>2012-11-02</td>\n",
       "      <td>False</td>\n",
       "      <td>1351825200.00</td>\n",
       "      <td>19_10</td>\n",
       "      <td>46.81</td>\n",
       "      <td>3.97</td>\n",
       "      <td>11686.96</td>\n",
       "      <td>18053.48</td>\n",
       "      <td>88.94</td>\n",
       "      <td>5484.50</td>\n",
       "      <td>3833.76</td>\n",
       "      <td>138.62</td>\n",
       "      <td>7.99</td>\n",
       "      <td>2012-11-02</td>\n",
       "      <td>2</td>\n",
       "      <td>11</td>\n",
       "      <td>2012</td>\n",
       "      <td>2012-11</td>\n",
       "      <td>1</td>\n",
       "      <td>8.23</td>\n",
       "      <td>11/1</td>\n",
       "      <td>-5.38</td>\n",
       "      <td>False</td>\n",
       "      <td>False</td>\n",
       "      <td>A</td>\n",
       "      <td>203819</td>\n",
       "    </tr>\n",
       "    <tr>\n",
       "      <td>2</td>\n",
       "      <td>16</td>\n",
       "      <td>55</td>\n",
       "      <td>2012-11-02</td>\n",
       "      <td>False</td>\n",
       "      <td>1351825200.00</td>\n",
       "      <td>16_55</td>\n",
       "      <td>38.20</td>\n",
       "      <td>3.60</td>\n",
       "      <td>2826.02</td>\n",
       "      <td>984.41</td>\n",
       "      <td>4.46</td>\n",
       "      <td>274.18</td>\n",
       "      <td>1411.99</td>\n",
       "      <td>199.29</td>\n",
       "      <td>5.85</td>\n",
       "      <td>2012-11-02</td>\n",
       "      <td>2</td>\n",
       "      <td>11</td>\n",
       "      <td>2012</td>\n",
       "      <td>2012-11</td>\n",
       "      <td>1</td>\n",
       "      <td>3.44</td>\n",
       "      <td>11/1</td>\n",
       "      <td>-1.55</td>\n",
       "      <td>False</td>\n",
       "      <td>False</td>\n",
       "      <td>B</td>\n",
       "      <td>57197</td>\n",
       "    </tr>\n",
       "    <tr>\n",
       "      <td>3</td>\n",
       "      <td>22</td>\n",
       "      <td>18</td>\n",
       "      <td>2012-11-02</td>\n",
       "      <td>False</td>\n",
       "      <td>1351825200.00</td>\n",
       "      <td>22_18</td>\n",
       "      <td>54.55</td>\n",
       "      <td>3.82</td>\n",
       "      <td>8793.36</td>\n",
       "      <td>10347.53</td>\n",
       "      <td>5.62</td>\n",
       "      <td>7350.89</td>\n",
       "      <td>801.32</td>\n",
       "      <td>142.66</td>\n",
       "      <td>7.54</td>\n",
       "      <td>2012-11-02</td>\n",
       "      <td>2</td>\n",
       "      <td>11</td>\n",
       "      <td>2012</td>\n",
       "      <td>2012-11</td>\n",
       "      <td>1</td>\n",
       "      <td>12.53</td>\n",
       "      <td>11/1</td>\n",
       "      <td>-1.68</td>\n",
       "      <td>False</td>\n",
       "      <td>False</td>\n",
       "      <td>B</td>\n",
       "      <td>119557</td>\n",
       "    </tr>\n",
       "    <tr>\n",
       "      <td>4</td>\n",
       "      <td>25</td>\n",
       "      <td>16</td>\n",
       "      <td>2012-11-02</td>\n",
       "      <td>False</td>\n",
       "      <td>1351825200.00</td>\n",
       "      <td>25_16</td>\n",
       "      <td>40.83</td>\n",
       "      <td>3.79</td>\n",
       "      <td>12435.08</td>\n",
       "      <td>16493.02</td>\n",
       "      <td>55.19</td>\n",
       "      <td>1165.36</td>\n",
       "      <td>1144.39</td>\n",
       "      <td>216.16</td>\n",
       "      <td>7.29</td>\n",
       "      <td>2012-11-02</td>\n",
       "      <td>2</td>\n",
       "      <td>11</td>\n",
       "      <td>2012</td>\n",
       "      <td>2012-11</td>\n",
       "      <td>1</td>\n",
       "      <td>4.91</td>\n",
       "      <td>11/1</td>\n",
       "      <td>-8.81</td>\n",
       "      <td>False</td>\n",
       "      <td>False</td>\n",
       "      <td>B</td>\n",
       "      <td>128107</td>\n",
       "    </tr>\n",
       "  </tbody>\n",
       "</table>\n",
       "</div>"
      ],
      "text/plain": [
       "  Store Dept        Date  IsHoliday     timestamp store_dept  Temperature  \\\n",
       "0     1    1  2012-11-02      False 1351825200.00        1_1        55.32   \n",
       "1    19   10  2012-11-02      False 1351825200.00      19_10        46.81   \n",
       "2    16   55  2012-11-02      False 1351825200.00      16_55        38.20   \n",
       "3    22   18  2012-11-02      False 1351825200.00      22_18        54.55   \n",
       "4    25   16  2012-11-02      False 1351825200.00      25_16        40.83   \n",
       "\n",
       "   Fuel_Price  MarkDown1  MarkDown2  MarkDown3  MarkDown4  MarkDown5    CPI  \\\n",
       "0        3.39    6766.44    5147.70      50.82    3639.90    2737.42 223.46   \n",
       "1        3.97   11686.96   18053.48      88.94    5484.50    3833.76 138.62   \n",
       "2        3.60    2826.02     984.41       4.46     274.18    1411.99 199.29   \n",
       "3        3.82    8793.36   10347.53       5.62    7350.89     801.32 142.66   \n",
       "4        3.79   12435.08   16493.02      55.19    1165.36    1144.39 216.16   \n",
       "\n",
       "   Unemployment   datetime  day_n month_n  year  date_ym  week_n  celsius  \\\n",
       "0          6.57 2012-11-02      2      11  2012  2012-11       1    12.96   \n",
       "1          7.99 2012-11-02      2      11  2012  2012-11       1     8.23   \n",
       "2          5.85 2012-11-02      2      11  2012  2012-11       1     3.44   \n",
       "3          7.54 2012-11-02      2      11  2012  2012-11       1    12.53   \n",
       "4          7.29 2012-11-02      2      11  2012  2012-11       1     4.91   \n",
       "\n",
       "  wm_date  celsius_diff pre_holiday pos_holiday Type    Size  \n",
       "0    11/1         -7.69       False       False    A  151315  \n",
       "1    11/1         -5.38       False       False    A  203819  \n",
       "2    11/1         -1.55       False       False    B   57197  \n",
       "3    11/1         -1.68       False       False    B  119557  \n",
       "4    11/1         -8.81       False       False    B  128107  "
      ]
     },
     "execution_count": 51,
     "metadata": {},
     "output_type": "execute_result"
    }
   ],
   "source": [
    "test.head()"
   ]
  },
  {
   "cell_type": "code",
   "execution_count": 52,
   "metadata": {},
   "outputs": [
    {
     "data": {
      "text/plain": [
       "0         2012-11-02\n",
       "115063    2013-07-26\n",
       "Name: Date, dtype: object"
      ]
     },
     "execution_count": 52,
     "metadata": {},
     "output_type": "execute_result"
    }
   ],
   "source": [
    "test[\"Date\"].head(1).append(test[\"Date\"].tail(1))"
   ]
  },
  {
   "cell_type": "code",
   "execution_count": 53,
   "metadata": {},
   "outputs": [],
   "source": [
    "try:\n",
    "    dummy_test = pd.read_csv(\"data/ml_datasets/dummy_test_3.csv\", sep=\";\")\n",
    "except FileNotFoundError:\n",
    "    test[\"Weekly_Sales\"] = len(test) * [0]\n",
    "    dummy_test = dummy_baseline_data(test)\n",
    "    del test[\"Weekly_Sales\"]\n",
    "    dummy_test.to_csv(\"data/ml_datasets/dummy_test_3.csv\", sep=\";\", index=False)"
   ]
  },
  {
   "cell_type": "code",
   "execution_count": 54,
   "metadata": {},
   "outputs": [
    {
     "name": "stdout",
     "output_type": "stream",
     "text": [
      "Total groups:  115064\n",
      "115064\n"
     ]
    },
    {
     "data": {
      "text/html": [
       "<div>\n",
       "<style scoped>\n",
       "    .dataframe tbody tr th:only-of-type {\n",
       "        vertical-align: middle;\n",
       "    }\n",
       "\n",
       "    .dataframe tbody tr th {\n",
       "        vertical-align: top;\n",
       "    }\n",
       "\n",
       "    .dataframe thead th {\n",
       "        text-align: right;\n",
       "    }\n",
       "</style>\n",
       "<table border=\"1\" class=\"dataframe\">\n",
       "  <thead>\n",
       "    <tr style=\"text-align: right;\">\n",
       "      <th></th>\n",
       "      <th>store_dept</th>\n",
       "      <th>wm_date</th>\n",
       "      <th>Store_test</th>\n",
       "      <th>Dept_test</th>\n",
       "      <th>Date_test</th>\n",
       "      <th>IsHoliday</th>\n",
       "      <th>year0_valid</th>\n",
       "      <th>year0_sales_valid</th>\n",
       "      <th>year0_size_valid</th>\n",
       "    </tr>\n",
       "  </thead>\n",
       "  <tbody>\n",
       "    <tr>\n",
       "      <td>0</td>\n",
       "      <td>10_1</td>\n",
       "      <td>01/1</td>\n",
       "      <td>10</td>\n",
       "      <td>1</td>\n",
       "      <td>2013-01-04</td>\n",
       "      <td>False</td>\n",
       "      <td>2013</td>\n",
       "      <td>0</td>\n",
       "      <td>126512</td>\n",
       "    </tr>\n",
       "    <tr>\n",
       "      <td>1</td>\n",
       "      <td>10_1</td>\n",
       "      <td>01/2</td>\n",
       "      <td>10</td>\n",
       "      <td>1</td>\n",
       "      <td>2013-01-11</td>\n",
       "      <td>False</td>\n",
       "      <td>2013</td>\n",
       "      <td>0</td>\n",
       "      <td>126512</td>\n",
       "    </tr>\n",
       "    <tr>\n",
       "      <td>2</td>\n",
       "      <td>10_1</td>\n",
       "      <td>01/3</td>\n",
       "      <td>10</td>\n",
       "      <td>1</td>\n",
       "      <td>2013-01-18</td>\n",
       "      <td>False</td>\n",
       "      <td>2013</td>\n",
       "      <td>0</td>\n",
       "      <td>126512</td>\n",
       "    </tr>\n",
       "    <tr>\n",
       "      <td>3</td>\n",
       "      <td>10_1</td>\n",
       "      <td>01/4</td>\n",
       "      <td>10</td>\n",
       "      <td>1</td>\n",
       "      <td>2013-01-25</td>\n",
       "      <td>False</td>\n",
       "      <td>2013</td>\n",
       "      <td>0</td>\n",
       "      <td>126512</td>\n",
       "    </tr>\n",
       "    <tr>\n",
       "      <td>4</td>\n",
       "      <td>10_1</td>\n",
       "      <td>02/1</td>\n",
       "      <td>10</td>\n",
       "      <td>1</td>\n",
       "      <td>2013-02-01</td>\n",
       "      <td>False</td>\n",
       "      <td>2013</td>\n",
       "      <td>0</td>\n",
       "      <td>126512</td>\n",
       "    </tr>\n",
       "  </tbody>\n",
       "</table>\n",
       "</div>"
      ],
      "text/plain": [
       "  store_dept wm_date  Store_test  Dept_test   Date_test  IsHoliday  \\\n",
       "0       10_1    01/1          10          1  2013-01-04      False   \n",
       "1       10_1    01/2          10          1  2013-01-11      False   \n",
       "2       10_1    01/3          10          1  2013-01-18      False   \n",
       "3       10_1    01/4          10          1  2013-01-25      False   \n",
       "4       10_1    02/1          10          1  2013-02-01      False   \n",
       "\n",
       "   year0_valid  year0_sales_valid  year0_size_valid  \n",
       "0         2013                  0            126512  \n",
       "1         2013                  0            126512  \n",
       "2         2013                  0            126512  \n",
       "3         2013                  0            126512  \n",
       "4         2013                  0            126512  "
      ]
     },
     "execution_count": 54,
     "metadata": {},
     "output_type": "execute_result"
    }
   ],
   "source": [
    "print(\"Total groups: \", len(dummy_test.drop_duplicates([\"wm_date\", \"store_dept\"])))\n",
    "print(len(dummy_test))\n",
    "dummy_test = dummy_test.rename({\"year0_sales\": \"year0_sales_valid\", \n",
    "                                \"year0\": \"year0_valid\",\n",
    "                                \"year0_size\": \"year0_size_valid\",\n",
    "                                \"Store\": \"Store_test\",\n",
    "                                \"Dept\": \"Dept_test\",\n",
    "                                \"Date\": \"Date_test\"}, axis=1)\n",
    "dummy_test.head()"
   ]
  },
  {
   "cell_type": "code",
   "execution_count": 78,
   "metadata": {},
   "outputs": [],
   "source": [
    "try:\n",
    "    dummy_train_valid = pd.read_csv(\"data/ml_datasets/dummy_train_valid_3.csv\", sep=\";\")\n",
    "except FileNotFoundError:\n",
    "    dummy_train_valid = dummy_baseline_data(use_train.append(use_valid))\n",
    "    dummy_train_valid.to_csv(\"data/ml_datasets/dummy_train_valid_3.csv\", sep=\";\", index=False)"
   ]
  },
  {
   "cell_type": "code",
   "execution_count": 79,
   "metadata": {},
   "outputs": [
    {
     "name": "stdout",
     "output_type": "stream",
     "text": [
      "Total groups:  170730\n",
      "170730\n"
     ]
    },
    {
     "data": {
      "text/html": [
       "<div>\n",
       "<style scoped>\n",
       "    .dataframe tbody tr th:only-of-type {\n",
       "        vertical-align: middle;\n",
       "    }\n",
       "\n",
       "    .dataframe tbody tr th {\n",
       "        vertical-align: top;\n",
       "    }\n",
       "\n",
       "    .dataframe thead th {\n",
       "        text-align: right;\n",
       "    }\n",
       "</style>\n",
       "<table border=\"1\" class=\"dataframe\">\n",
       "  <thead>\n",
       "    <tr style=\"text-align: right;\">\n",
       "      <th></th>\n",
       "      <th>store_dept</th>\n",
       "      <th>wm_date</th>\n",
       "      <th>Store_train</th>\n",
       "      <th>Dept_train</th>\n",
       "      <th>Date_train</th>\n",
       "      <th>IsHoliday</th>\n",
       "      <th>year0_train</th>\n",
       "      <th>year0_sales_train</th>\n",
       "      <th>year0_size_train</th>\n",
       "      <th>year1_train</th>\n",
       "      <th>year1_sales_train</th>\n",
       "      <th>year1_size_train</th>\n",
       "      <th>year2_train</th>\n",
       "      <th>year2_sales_train</th>\n",
       "      <th>year2_size_train</th>\n",
       "    </tr>\n",
       "  </thead>\n",
       "  <tbody>\n",
       "    <tr>\n",
       "      <td>0</td>\n",
       "      <td>10_1</td>\n",
       "      <td>01/1</td>\n",
       "      <td>10</td>\n",
       "      <td>1</td>\n",
       "      <td>2011-01-07</td>\n",
       "      <td>False</td>\n",
       "      <td>2011</td>\n",
       "      <td>26041.71</td>\n",
       "      <td>126512</td>\n",
       "      <td>2012.00</td>\n",
       "      <td>28520.49</td>\n",
       "      <td>126512.00</td>\n",
       "      <td>nan</td>\n",
       "      <td>nan</td>\n",
       "      <td>nan</td>\n",
       "    </tr>\n",
       "    <tr>\n",
       "      <td>1</td>\n",
       "      <td>10_1</td>\n",
       "      <td>01/2</td>\n",
       "      <td>10</td>\n",
       "      <td>1</td>\n",
       "      <td>2011-01-14</td>\n",
       "      <td>False</td>\n",
       "      <td>2011</td>\n",
       "      <td>27859.44</td>\n",
       "      <td>126512</td>\n",
       "      <td>2012.00</td>\n",
       "      <td>30107.31</td>\n",
       "      <td>126512.00</td>\n",
       "      <td>nan</td>\n",
       "      <td>nan</td>\n",
       "      <td>nan</td>\n",
       "    </tr>\n",
       "    <tr>\n",
       "      <td>2</td>\n",
       "      <td>10_1</td>\n",
       "      <td>01/3</td>\n",
       "      <td>10</td>\n",
       "      <td>1</td>\n",
       "      <td>2011-01-21</td>\n",
       "      <td>False</td>\n",
       "      <td>2011</td>\n",
       "      <td>30911.87</td>\n",
       "      <td>126512</td>\n",
       "      <td>2012.00</td>\n",
       "      <td>31180.23</td>\n",
       "      <td>126512.00</td>\n",
       "      <td>nan</td>\n",
       "      <td>nan</td>\n",
       "      <td>nan</td>\n",
       "    </tr>\n",
       "    <tr>\n",
       "      <td>3</td>\n",
       "      <td>10_1</td>\n",
       "      <td>01/4</td>\n",
       "      <td>10</td>\n",
       "      <td>1</td>\n",
       "      <td>2011-01-28</td>\n",
       "      <td>False</td>\n",
       "      <td>2011</td>\n",
       "      <td>29890.73</td>\n",
       "      <td>126512</td>\n",
       "      <td>2012.00</td>\n",
       "      <td>32559.13</td>\n",
       "      <td>126512.00</td>\n",
       "      <td>nan</td>\n",
       "      <td>nan</td>\n",
       "      <td>nan</td>\n",
       "    </tr>\n",
       "    <tr>\n",
       "      <td>4</td>\n",
       "      <td>10_1</td>\n",
       "      <td>02/1</td>\n",
       "      <td>10</td>\n",
       "      <td>1</td>\n",
       "      <td>2010-02-05</td>\n",
       "      <td>False</td>\n",
       "      <td>2010</td>\n",
       "      <td>40212.84</td>\n",
       "      <td>126512</td>\n",
       "      <td>2011.00</td>\n",
       "      <td>36145.83</td>\n",
       "      <td>126512.00</td>\n",
       "      <td>2012.00</td>\n",
       "      <td>36444.00</td>\n",
       "      <td>126512.00</td>\n",
       "    </tr>\n",
       "  </tbody>\n",
       "</table>\n",
       "</div>"
      ],
      "text/plain": [
       "  store_dept wm_date  Store_train  Dept_train  Date_train  IsHoliday  \\\n",
       "0       10_1    01/1           10           1  2011-01-07      False   \n",
       "1       10_1    01/2           10           1  2011-01-14      False   \n",
       "2       10_1    01/3           10           1  2011-01-21      False   \n",
       "3       10_1    01/4           10           1  2011-01-28      False   \n",
       "4       10_1    02/1           10           1  2010-02-05      False   \n",
       "\n",
       "   year0_train  year0_sales_train  year0_size_train  year1_train  \\\n",
       "0         2011           26041.71            126512      2012.00   \n",
       "1         2011           27859.44            126512      2012.00   \n",
       "2         2011           30911.87            126512      2012.00   \n",
       "3         2011           29890.73            126512      2012.00   \n",
       "4         2010           40212.84            126512      2011.00   \n",
       "\n",
       "   year1_sales_train  year1_size_train  year2_train  year2_sales_train  \\\n",
       "0           28520.49         126512.00          nan                nan   \n",
       "1           30107.31         126512.00          nan                nan   \n",
       "2           31180.23         126512.00          nan                nan   \n",
       "3           32559.13         126512.00          nan                nan   \n",
       "4           36145.83         126512.00      2012.00           36444.00   \n",
       "\n",
       "   year2_size_train  \n",
       "0               nan  \n",
       "1               nan  \n",
       "2               nan  \n",
       "3               nan  \n",
       "4         126512.00  "
      ]
     },
     "execution_count": 79,
     "metadata": {},
     "output_type": "execute_result"
    }
   ],
   "source": [
    "print(\"Total groups: \", len(dummy_train_valid.drop_duplicates([\"wm_date\", \"store_dept\"])))\n",
    "print(len(dummy_train_valid))\n",
    "dummy_train_valid = dummy_train_valid.rename({\"year0_sales\": \"year0_sales_train\", \n",
    "                                              \"year0\": \"year0_train\",\n",
    "                                              \"year0_size\": \"year0_size_train\",\n",
    "                                              \"year1_sales\": \"year1_sales_train\", \n",
    "                                              \"year1\": \"year1_train\",\n",
    "                                              \"year1_size\": \"year1_size_train\",\n",
    "                                              \"year2_sales\": \"year2_sales_train\", \n",
    "                                              \"year2\": \"year2_train\",\n",
    "                                              \"year2_size\": \"year2_size_train\",\n",
    "                                              \"Store\": \"Store_train\",\n",
    "                                              \"Dept\": \"Dept_train\",\n",
    "                                              \"Date\": \"Date_train\"}, axis=1)\n",
    "dummy_train_valid.head()"
   ]
  },
  {
   "cell_type": "code",
   "execution_count": 80,
   "metadata": {},
   "outputs": [
    {
     "name": "stdout",
     "output_type": "stream",
     "text": [
      "Total groups:  115064\n",
      "115064\n"
     ]
    },
    {
     "data": {
      "text/html": [
       "<div>\n",
       "<style scoped>\n",
       "    .dataframe tbody tr th:only-of-type {\n",
       "        vertical-align: middle;\n",
       "    }\n",
       "\n",
       "    .dataframe tbody tr th {\n",
       "        vertical-align: top;\n",
       "    }\n",
       "\n",
       "    .dataframe thead th {\n",
       "        text-align: right;\n",
       "    }\n",
       "</style>\n",
       "<table border=\"1\" class=\"dataframe\">\n",
       "  <thead>\n",
       "    <tr style=\"text-align: right;\">\n",
       "      <th></th>\n",
       "      <th>store_dept</th>\n",
       "      <th>wm_date</th>\n",
       "      <th>Store_train</th>\n",
       "      <th>Dept_train</th>\n",
       "      <th>Date_train</th>\n",
       "      <th>IsHoliday_train</th>\n",
       "      <th>year0_train</th>\n",
       "      <th>year0_sales_train</th>\n",
       "      <th>year0_size_train</th>\n",
       "      <th>year1_train</th>\n",
       "      <th>year1_sales_train</th>\n",
       "      <th>year1_size_train</th>\n",
       "      <th>year2_train</th>\n",
       "      <th>year2_sales_train</th>\n",
       "      <th>year2_size_train</th>\n",
       "      <th>Store_test</th>\n",
       "      <th>Dept_test</th>\n",
       "      <th>Date_test</th>\n",
       "      <th>IsHoliday_test</th>\n",
       "      <th>year0_valid</th>\n",
       "      <th>year0_sales_valid</th>\n",
       "      <th>year0_size_valid</th>\n",
       "    </tr>\n",
       "  </thead>\n",
       "  <tbody>\n",
       "    <tr>\n",
       "      <td>19728</td>\n",
       "      <td>17_71</td>\n",
       "      <td>03/5</td>\n",
       "      <td>17.00</td>\n",
       "      <td>71.00</td>\n",
       "      <td>2012-03-30</td>\n",
       "      <td>False</td>\n",
       "      <td>2012.00</td>\n",
       "      <td>2629.02</td>\n",
       "      <td>93188.00</td>\n",
       "      <td>nan</td>\n",
       "      <td>nan</td>\n",
       "      <td>nan</td>\n",
       "      <td>nan</td>\n",
       "      <td>nan</td>\n",
       "      <td>nan</td>\n",
       "      <td>17</td>\n",
       "      <td>71</td>\n",
       "      <td>2013-03-29</td>\n",
       "      <td>False</td>\n",
       "      <td>2013</td>\n",
       "      <td>0</td>\n",
       "      <td>93188</td>\n",
       "    </tr>\n",
       "    <tr>\n",
       "      <td>112777</td>\n",
       "      <td>38_32</td>\n",
       "      <td>12/3</td>\n",
       "      <td>nan</td>\n",
       "      <td>nan</td>\n",
       "      <td>NaN</td>\n",
       "      <td>NaN</td>\n",
       "      <td>nan</td>\n",
       "      <td>nan</td>\n",
       "      <td>nan</td>\n",
       "      <td>nan</td>\n",
       "      <td>nan</td>\n",
       "      <td>nan</td>\n",
       "      <td>nan</td>\n",
       "      <td>nan</td>\n",
       "      <td>nan</td>\n",
       "      <td>38</td>\n",
       "      <td>32</td>\n",
       "      <td>2012-12-21</td>\n",
       "      <td>False</td>\n",
       "      <td>2012</td>\n",
       "      <td>0</td>\n",
       "      <td>39690</td>\n",
       "    </tr>\n",
       "    <tr>\n",
       "      <td>59628</td>\n",
       "      <td>31_55</td>\n",
       "      <td>03/1</td>\n",
       "      <td>31.00</td>\n",
       "      <td>55.00</td>\n",
       "      <td>2010-03-05</td>\n",
       "      <td>False</td>\n",
       "      <td>2010.00</td>\n",
       "      <td>7281.77</td>\n",
       "      <td>203750.00</td>\n",
       "      <td>2011.00</td>\n",
       "      <td>9000.42</td>\n",
       "      <td>203750.00</td>\n",
       "      <td>2012.00</td>\n",
       "      <td>7631.41</td>\n",
       "      <td>203750.00</td>\n",
       "      <td>31</td>\n",
       "      <td>55</td>\n",
       "      <td>2013-03-01</td>\n",
       "      <td>False</td>\n",
       "      <td>2013</td>\n",
       "      <td>0</td>\n",
       "      <td>203750</td>\n",
       "    </tr>\n",
       "    <tr>\n",
       "      <td>30589</td>\n",
       "      <td>20_91</td>\n",
       "      <td>12/3</td>\n",
       "      <td>20.00</td>\n",
       "      <td>91.00</td>\n",
       "      <td>2010-12-17</td>\n",
       "      <td>False</td>\n",
       "      <td>2010.00</td>\n",
       "      <td>79463.27</td>\n",
       "      <td>203742.00</td>\n",
       "      <td>2011.00</td>\n",
       "      <td>82439.55</td>\n",
       "      <td>203742.00</td>\n",
       "      <td>nan</td>\n",
       "      <td>nan</td>\n",
       "      <td>nan</td>\n",
       "      <td>20</td>\n",
       "      <td>91</td>\n",
       "      <td>2012-12-21</td>\n",
       "      <td>False</td>\n",
       "      <td>2012</td>\n",
       "      <td>0</td>\n",
       "      <td>203742</td>\n",
       "    </tr>\n",
       "    <tr>\n",
       "      <td>22978</td>\n",
       "      <td>18_98</td>\n",
       "      <td>05/1</td>\n",
       "      <td>18.00</td>\n",
       "      <td>98.00</td>\n",
       "      <td>2010-05-07</td>\n",
       "      <td>False</td>\n",
       "      <td>2010.00</td>\n",
       "      <td>270.37</td>\n",
       "      <td>120653.00</td>\n",
       "      <td>2011.00</td>\n",
       "      <td>-2.48</td>\n",
       "      <td>120653.00</td>\n",
       "      <td>2012.00</td>\n",
       "      <td>1778.79</td>\n",
       "      <td>120653.00</td>\n",
       "      <td>18</td>\n",
       "      <td>98</td>\n",
       "      <td>2013-05-03</td>\n",
       "      <td>False</td>\n",
       "      <td>2013</td>\n",
       "      <td>0</td>\n",
       "      <td>120653</td>\n",
       "    </tr>\n",
       "    <tr>\n",
       "      <td>7488</td>\n",
       "      <td>12_91</td>\n",
       "      <td>06/2</td>\n",
       "      <td>12.00</td>\n",
       "      <td>91.00</td>\n",
       "      <td>2010-06-11</td>\n",
       "      <td>False</td>\n",
       "      <td>2010.00</td>\n",
       "      <td>8835.24</td>\n",
       "      <td>112238.00</td>\n",
       "      <td>2011.00</td>\n",
       "      <td>7834.91</td>\n",
       "      <td>112238.00</td>\n",
       "      <td>2012.00</td>\n",
       "      <td>8900.50</td>\n",
       "      <td>112238.00</td>\n",
       "      <td>12</td>\n",
       "      <td>91</td>\n",
       "      <td>2013-06-14</td>\n",
       "      <td>False</td>\n",
       "      <td>2013</td>\n",
       "      <td>0</td>\n",
       "      <td>112238</td>\n",
       "    </tr>\n",
       "  </tbody>\n",
       "</table>\n",
       "</div>"
      ],
      "text/plain": [
       "       store_dept wm_date  Store_train  Dept_train  Date_train  \\\n",
       "19728       17_71    03/5        17.00       71.00  2012-03-30   \n",
       "112777      38_32    12/3          nan         nan         NaN   \n",
       "59628       31_55    03/1        31.00       55.00  2010-03-05   \n",
       "30589       20_91    12/3        20.00       91.00  2010-12-17   \n",
       "22978       18_98    05/1        18.00       98.00  2010-05-07   \n",
       "7488        12_91    06/2        12.00       91.00  2010-06-11   \n",
       "\n",
       "       IsHoliday_train  year0_train  year0_sales_train  year0_size_train  \\\n",
       "19728            False      2012.00            2629.02          93188.00   \n",
       "112777             NaN          nan                nan               nan   \n",
       "59628            False      2010.00            7281.77         203750.00   \n",
       "30589            False      2010.00           79463.27         203742.00   \n",
       "22978            False      2010.00             270.37         120653.00   \n",
       "7488             False      2010.00            8835.24         112238.00   \n",
       "\n",
       "        year1_train  year1_sales_train  year1_size_train  year2_train  \\\n",
       "19728           nan                nan               nan          nan   \n",
       "112777          nan                nan               nan          nan   \n",
       "59628       2011.00            9000.42         203750.00      2012.00   \n",
       "30589       2011.00           82439.55         203742.00          nan   \n",
       "22978       2011.00              -2.48         120653.00      2012.00   \n",
       "7488        2011.00            7834.91         112238.00      2012.00   \n",
       "\n",
       "        year2_sales_train  year2_size_train  Store_test  Dept_test  \\\n",
       "19728                 nan               nan          17         71   \n",
       "112777                nan               nan          38         32   \n",
       "59628             7631.41         203750.00          31         55   \n",
       "30589                 nan               nan          20         91   \n",
       "22978             1778.79         120653.00          18         98   \n",
       "7488              8900.50         112238.00          12         91   \n",
       "\n",
       "         Date_test  IsHoliday_test  year0_valid  year0_sales_valid  \\\n",
       "19728   2013-03-29           False         2013                  0   \n",
       "112777  2012-12-21           False         2012                  0   \n",
       "59628   2013-03-01           False         2013                  0   \n",
       "30589   2012-12-21           False         2012                  0   \n",
       "22978   2013-05-03           False         2013                  0   \n",
       "7488    2013-06-14           False         2013                  0   \n",
       "\n",
       "        year0_size_valid  \n",
       "19728              93188  \n",
       "112777             39690  \n",
       "59628             203750  \n",
       "30589             203742  \n",
       "22978             120653  \n",
       "7488              112238  "
      ]
     },
     "execution_count": 80,
     "metadata": {},
     "output_type": "execute_result"
    }
   ],
   "source": [
    "xy_test = pd.merge(dummy_train_valid, dummy_test, \n",
    "                   left_on=[\"wm_date\", \"store_dept\"], right_on=[\"wm_date\", \"store_dept\"], \n",
    "                   how=\"right\", suffixes=[\"_train\", \"_test\"])\n",
    "\n",
    "print(\"Total groups: \", len(xy_test.drop_duplicates([\"wm_date\", \"store_dept\"])))\n",
    "print(len(xy_test))\n",
    "xy_test.sample(6)"
   ]
  },
  {
   "cell_type": "markdown",
   "metadata": {},
   "source": [
    "#### Filling NaN values"
   ]
  },
  {
   "cell_type": "code",
   "execution_count": 81,
   "metadata": {},
   "outputs": [
    {
     "data": {
      "text/html": [
       "<div>\n",
       "<style scoped>\n",
       "    .dataframe tbody tr th:only-of-type {\n",
       "        vertical-align: middle;\n",
       "    }\n",
       "\n",
       "    .dataframe tbody tr th {\n",
       "        vertical-align: top;\n",
       "    }\n",
       "\n",
       "    .dataframe thead th {\n",
       "        text-align: right;\n",
       "    }\n",
       "</style>\n",
       "<table border=\"1\" class=\"dataframe\">\n",
       "  <thead>\n",
       "    <tr style=\"text-align: right;\">\n",
       "      <th></th>\n",
       "      <th>freq_absolute</th>\n",
       "      <th>freq_relative</th>\n",
       "    </tr>\n",
       "  </thead>\n",
       "  <tbody>\n",
       "    <tr>\n",
       "      <td>False</td>\n",
       "      <td>103036</td>\n",
       "      <td>89.55%</td>\n",
       "    </tr>\n",
       "    <tr>\n",
       "      <td>True</td>\n",
       "      <td>12028</td>\n",
       "      <td>10.45%</td>\n",
       "    </tr>\n",
       "  </tbody>\n",
       "</table>\n",
       "</div>"
      ],
      "text/plain": [
       "       freq_absolute freq_relative\n",
       "False         103036        89.55%\n",
       "True           12028        10.45%"
      ]
     },
     "execution_count": 81,
     "metadata": {},
     "output_type": "execute_result"
    }
   ],
   "source": [
    "stats.freq(xy_test[\"year1_sales_train\"].isna())"
   ]
  },
  {
   "cell_type": "code",
   "execution_count": 82,
   "metadata": {},
   "outputs": [
    {
     "data": {
      "text/html": [
       "<div>\n",
       "<style scoped>\n",
       "    .dataframe tbody tr th:only-of-type {\n",
       "        vertical-align: middle;\n",
       "    }\n",
       "\n",
       "    .dataframe tbody tr th {\n",
       "        vertical-align: top;\n",
       "    }\n",
       "\n",
       "    .dataframe thead th {\n",
       "        text-align: right;\n",
       "    }\n",
       "</style>\n",
       "<table border=\"1\" class=\"dataframe\">\n",
       "  <thead>\n",
       "    <tr style=\"text-align: right;\">\n",
       "      <th></th>\n",
       "      <th>freq_absolute</th>\n",
       "      <th>freq_relative</th>\n",
       "    </tr>\n",
       "  </thead>\n",
       "  <tbody>\n",
       "    <tr>\n",
       "      <td>False</td>\n",
       "      <td>107964</td>\n",
       "      <td>93.83%</td>\n",
       "    </tr>\n",
       "    <tr>\n",
       "      <td>True</td>\n",
       "      <td>7100</td>\n",
       "      <td>6.17%</td>\n",
       "    </tr>\n",
       "  </tbody>\n",
       "</table>\n",
       "</div>"
      ],
      "text/plain": [
       "       freq_absolute freq_relative\n",
       "False         107964        93.83%\n",
       "True            7100         6.17%"
      ]
     },
     "execution_count": 82,
     "metadata": {},
     "output_type": "execute_result"
    }
   ],
   "source": [
    "stats.freq(xy_test[\"year0_sales_train\"].isna())"
   ]
  },
  {
   "cell_type": "code",
   "execution_count": 83,
   "metadata": {},
   "outputs": [
    {
     "data": {
      "text/html": [
       "<div>\n",
       "<style scoped>\n",
       "    .dataframe tbody tr th:only-of-type {\n",
       "        vertical-align: middle;\n",
       "    }\n",
       "\n",
       "    .dataframe tbody tr th {\n",
       "        vertical-align: top;\n",
       "    }\n",
       "\n",
       "    .dataframe thead th {\n",
       "        text-align: right;\n",
       "    }\n",
       "</style>\n",
       "<table border=\"1\" class=\"dataframe\">\n",
       "  <thead>\n",
       "    <tr style=\"text-align: right;\">\n",
       "      <th></th>\n",
       "      <th>freq_absolute</th>\n",
       "      <th>freq_relative</th>\n",
       "    </tr>\n",
       "  </thead>\n",
       "  <tbody>\n",
       "    <tr>\n",
       "      <td>False</td>\n",
       "      <td>67182</td>\n",
       "      <td>58.39%</td>\n",
       "    </tr>\n",
       "    <tr>\n",
       "      <td>True</td>\n",
       "      <td>47882</td>\n",
       "      <td>41.61%</td>\n",
       "    </tr>\n",
       "  </tbody>\n",
       "</table>\n",
       "</div>"
      ],
      "text/plain": [
       "       freq_absolute freq_relative\n",
       "False          67182        58.39%\n",
       "True           47882        41.61%"
      ]
     },
     "execution_count": 83,
     "metadata": {},
     "output_type": "execute_result"
    }
   ],
   "source": [
    "stats.freq(xy_test[\"year2_sales_train\"].isna())"
   ]
  },
  {
   "cell_type": "code",
   "execution_count": 84,
   "metadata": {},
   "outputs": [
    {
     "data": {
      "text/html": [
       "<div>\n",
       "<style scoped>\n",
       "    .dataframe tbody tr th:only-of-type {\n",
       "        vertical-align: middle;\n",
       "    }\n",
       "\n",
       "    .dataframe tbody tr th {\n",
       "        vertical-align: top;\n",
       "    }\n",
       "\n",
       "    .dataframe thead th {\n",
       "        text-align: right;\n",
       "    }\n",
       "</style>\n",
       "<table border=\"1\" class=\"dataframe\">\n",
       "  <thead>\n",
       "    <tr style=\"text-align: right;\">\n",
       "      <th></th>\n",
       "      <th>freq_absolute</th>\n",
       "      <th>freq_relative</th>\n",
       "    </tr>\n",
       "  </thead>\n",
       "  <tbody>\n",
       "    <tr>\n",
       "      <td>False</td>\n",
       "      <td>107964</td>\n",
       "      <td>93.83%</td>\n",
       "    </tr>\n",
       "    <tr>\n",
       "      <td>True</td>\n",
       "      <td>7100</td>\n",
       "      <td>6.17%</td>\n",
       "    </tr>\n",
       "  </tbody>\n",
       "</table>\n",
       "</div>"
      ],
      "text/plain": [
       "       freq_absolute freq_relative\n",
       "False         107964        93.83%\n",
       "True            7100         6.17%"
      ]
     },
     "execution_count": 84,
     "metadata": {},
     "output_type": "execute_result"
    }
   ],
   "source": [
    "stats.freq((xy_test[\"year0_sales_train\"].isna()) & \n",
    "           (xy_test[\"year1_sales_train\"].isna()) & \n",
    "           (xy_test[\"year2_sales_train\"].isna()))"
   ]
  },
  {
   "cell_type": "code",
   "execution_count": 85,
   "metadata": {},
   "outputs": [],
   "source": [
    "not_na_xy_test = xy_test[xy_test[\"year1_sales_train\"].notna()]"
   ]
  },
  {
   "cell_type": "code",
   "execution_count": 86,
   "metadata": {},
   "outputs": [],
   "source": [
    "na_xy_test = xy_test[xy_test[\"year1_sales_train\"].isna()]"
   ]
  },
  {
   "cell_type": "code",
   "execution_count": 89,
   "metadata": {},
   "outputs": [
    {
     "data": {
      "text/html": [
       "<div>\n",
       "<style scoped>\n",
       "    .dataframe tbody tr th:only-of-type {\n",
       "        vertical-align: middle;\n",
       "    }\n",
       "\n",
       "    .dataframe tbody tr th {\n",
       "        vertical-align: top;\n",
       "    }\n",
       "\n",
       "    .dataframe thead th {\n",
       "        text-align: right;\n",
       "    }\n",
       "</style>\n",
       "<table border=\"1\" class=\"dataframe\">\n",
       "  <thead>\n",
       "    <tr style=\"text-align: right;\">\n",
       "      <th></th>\n",
       "      <th>freq_absolute</th>\n",
       "      <th>freq_relative</th>\n",
       "    </tr>\n",
       "  </thead>\n",
       "  <tbody>\n",
       "    <tr>\n",
       "      <td>True</td>\n",
       "      <td>11992</td>\n",
       "      <td>99.70%</td>\n",
       "    </tr>\n",
       "    <tr>\n",
       "      <td>False</td>\n",
       "      <td>36</td>\n",
       "      <td>0.30%</td>\n",
       "    </tr>\n",
       "  </tbody>\n",
       "</table>\n",
       "</div>"
      ],
      "text/plain": [
       "       freq_absolute freq_relative\n",
       "True           11992        99.70%\n",
       "False             36         0.30%"
      ]
     },
     "execution_count": 89,
     "metadata": {},
     "output_type": "execute_result"
    }
   ],
   "source": [
    "stats.freq(na_xy_test[\"store_dept\"].isin(dummy_train_valid[\"store_dept\"]))"
   ]
  },
  {
   "cell_type": "code",
   "execution_count": 98,
   "metadata": {},
   "outputs": [
    {
     "data": {
      "text/html": [
       "<div>\n",
       "<style scoped>\n",
       "    .dataframe tbody tr th:only-of-type {\n",
       "        vertical-align: middle;\n",
       "    }\n",
       "\n",
       "    .dataframe tbody tr th {\n",
       "        vertical-align: top;\n",
       "    }\n",
       "\n",
       "    .dataframe thead th {\n",
       "        text-align: right;\n",
       "    }\n",
       "</style>\n",
       "<table border=\"1\" class=\"dataframe\">\n",
       "  <thead>\n",
       "    <tr style=\"text-align: right;\">\n",
       "      <th></th>\n",
       "      <th>freq_absolute</th>\n",
       "      <th>freq_relative</th>\n",
       "    </tr>\n",
       "  </thead>\n",
       "  <tbody>\n",
       "    <tr>\n",
       "      <td>True</td>\n",
       "      <td>12028</td>\n",
       "      <td>100.00%</td>\n",
       "    </tr>\n",
       "  </tbody>\n",
       "</table>\n",
       "</div>"
      ],
      "text/plain": [
       "      freq_absolute freq_relative\n",
       "True          12028       100.00%"
      ]
     },
     "execution_count": 98,
     "metadata": {},
     "output_type": "execute_result"
    }
   ],
   "source": [
    "stats.freq(na_xy_test[\"Store_test\"].isin(not_na_xy_test[\"Store_train\"]))"
   ]
  },
  {
   "cell_type": "code",
   "execution_count": 99,
   "metadata": {},
   "outputs": [
    {
     "data": {
      "text/html": [
       "<div>\n",
       "<style scoped>\n",
       "    .dataframe tbody tr th:only-of-type {\n",
       "        vertical-align: middle;\n",
       "    }\n",
       "\n",
       "    .dataframe tbody tr th {\n",
       "        vertical-align: top;\n",
       "    }\n",
       "\n",
       "    .dataframe thead th {\n",
       "        text-align: right;\n",
       "    }\n",
       "</style>\n",
       "<table border=\"1\" class=\"dataframe\">\n",
       "  <thead>\n",
       "    <tr style=\"text-align: right;\">\n",
       "      <th></th>\n",
       "      <th>freq_absolute</th>\n",
       "      <th>freq_relative</th>\n",
       "    </tr>\n",
       "  </thead>\n",
       "  <tbody>\n",
       "    <tr>\n",
       "      <td>True</td>\n",
       "      <td>11971</td>\n",
       "      <td>99.53%</td>\n",
       "    </tr>\n",
       "    <tr>\n",
       "      <td>False</td>\n",
       "      <td>57</td>\n",
       "      <td>0.47%</td>\n",
       "    </tr>\n",
       "  </tbody>\n",
       "</table>\n",
       "</div>"
      ],
      "text/plain": [
       "       freq_absolute freq_relative\n",
       "True           11971        99.53%\n",
       "False             57         0.47%"
      ]
     },
     "execution_count": 99,
     "metadata": {},
     "output_type": "execute_result"
    }
   ],
   "source": [
    "stats.freq(na_xy_test[\"Dept_test\"].isin(not_na_xy_test[\"Dept_train\"]))"
   ]
  },
  {
   "cell_type": "markdown",
   "metadata": {},
   "source": [
    "filling"
   ]
  },
  {
   "cell_type": "code",
   "execution_count": 102,
   "metadata": {},
   "outputs": [],
   "source": [
    "def dummy_fill_dept_median(row, refference_data, fill_colnames):\n",
    "    dept_data = refference_data[refference_data[\"Dept_train\"] == row[\"Dept_test\"]]\n",
    "    for fill_colname in fill_colnames:\n",
    "        row[fill_colname] = dept_data[fill_colname].median()\n",
    "    return row\n",
    "\n",
    "def dummy_fill_store_median(row, refference_data, fill_colnames):\n",
    "    dept_data = refference_data[refference_data[\"Store_train\"] == row[\"Store_test\"]]\n",
    "    for fill_colname in fill_colnames:\n",
    "        row[fill_colname] = dept_data[fill_colname].median()\n",
    "    return row"
   ]
  },
  {
   "cell_type": "code",
   "execution_count": 101,
   "metadata": {},
   "outputs": [],
   "source": [
    "na_xy_test_filled = na_xy_test.apply(lambda row : dummy_fill_dept_median(row, dummy_train_valid, [\"year1_sales_train\", \"year1_size_train\"]), axis=1)"
   ]
  },
  {
   "cell_type": "code",
   "execution_count": null,
   "metadata": {},
   "outputs": [],
   "source": [
    "stats.freq(na_xy_test_filled[\"year1_sales_train\"].isna())"
   ]
  },
  {
   "cell_type": "code",
   "execution_count": 103,
   "metadata": {},
   "outputs": [],
   "source": [
    "na_xy_test_filled = na_xy_test_filled.apply(lambda row : dummy_fill_store_median(row, dummy_train_valid, [\"year1_sales_train\", \"year1_size_train\"]), axis=1)"
   ]
  },
  {
   "cell_type": "code",
   "execution_count": 104,
   "metadata": {},
   "outputs": [
    {
     "data": {
      "text/html": [
       "<div>\n",
       "<style scoped>\n",
       "    .dataframe tbody tr th:only-of-type {\n",
       "        vertical-align: middle;\n",
       "    }\n",
       "\n",
       "    .dataframe tbody tr th {\n",
       "        vertical-align: top;\n",
       "    }\n",
       "\n",
       "    .dataframe thead th {\n",
       "        text-align: right;\n",
       "    }\n",
       "</style>\n",
       "<table border=\"1\" class=\"dataframe\">\n",
       "  <thead>\n",
       "    <tr style=\"text-align: right;\">\n",
       "      <th></th>\n",
       "      <th>freq_absolute</th>\n",
       "      <th>freq_relative</th>\n",
       "    </tr>\n",
       "  </thead>\n",
       "  <tbody>\n",
       "    <tr>\n",
       "      <td>False</td>\n",
       "      <td>12028</td>\n",
       "      <td>100.00%</td>\n",
       "    </tr>\n",
       "  </tbody>\n",
       "</table>\n",
       "</div>"
      ],
      "text/plain": [
       "       freq_absolute freq_relative\n",
       "False          12028       100.00%"
      ]
     },
     "execution_count": 104,
     "metadata": {},
     "output_type": "execute_result"
    }
   ],
   "source": [
    "stats.freq(na_xy_test_filled[\"year1_sales_train\"].isna())"
   ]
  },
  {
   "cell_type": "code",
   "execution_count": null,
   "metadata": {},
   "outputs": [],
   "source": []
  },
  {
   "cell_type": "code",
   "execution_count": null,
   "metadata": {},
   "outputs": [],
   "source": []
  },
  {
   "cell_type": "markdown",
   "metadata": {},
   "source": [
    "#### Predicting"
   ]
  },
  {
   "cell_type": "code",
   "execution_count": null,
   "metadata": {},
   "outputs": [],
   "source": [
    "# not_na_xy_test = xy_test[xy_test[\"year1_sales_train\"].notna()]"
   ]
  },
  {
   "cell_type": "code",
   "execution_count": 105,
   "metadata": {},
   "outputs": [
    {
     "data": {
      "text/html": [
       "<div>\n",
       "<style scoped>\n",
       "    .dataframe tbody tr th:only-of-type {\n",
       "        vertical-align: middle;\n",
       "    }\n",
       "\n",
       "    .dataframe tbody tr th {\n",
       "        vertical-align: top;\n",
       "    }\n",
       "\n",
       "    .dataframe thead th {\n",
       "        text-align: right;\n",
       "    }\n",
       "</style>\n",
       "<table border=\"1\" class=\"dataframe\">\n",
       "  <thead>\n",
       "    <tr style=\"text-align: right;\">\n",
       "      <th></th>\n",
       "      <th>store_dept</th>\n",
       "      <th>wm_date</th>\n",
       "      <th>Store_train</th>\n",
       "      <th>Dept_train</th>\n",
       "      <th>Date_train</th>\n",
       "      <th>IsHoliday_train</th>\n",
       "      <th>year0_train</th>\n",
       "      <th>year0_sales_train</th>\n",
       "      <th>year0_size_train</th>\n",
       "      <th>year1_train</th>\n",
       "      <th>year1_sales_train</th>\n",
       "      <th>year1_size_train</th>\n",
       "      <th>year2_train</th>\n",
       "      <th>year2_sales_train</th>\n",
       "      <th>year2_size_train</th>\n",
       "      <th>Store_test</th>\n",
       "      <th>Dept_test</th>\n",
       "      <th>Date_test</th>\n",
       "      <th>IsHoliday_test</th>\n",
       "      <th>year0_valid</th>\n",
       "      <th>year0_sales_valid</th>\n",
       "      <th>year0_size_valid</th>\n",
       "    </tr>\n",
       "  </thead>\n",
       "  <tbody>\n",
       "    <tr>\n",
       "      <td>0</td>\n",
       "      <td>10_1</td>\n",
       "      <td>01/1</td>\n",
       "      <td>10.00</td>\n",
       "      <td>1.00</td>\n",
       "      <td>2011-01-07</td>\n",
       "      <td>False</td>\n",
       "      <td>2011.00</td>\n",
       "      <td>26041.71</td>\n",
       "      <td>126512.00</td>\n",
       "      <td>2012.00</td>\n",
       "      <td>28520.49</td>\n",
       "      <td>126512.00</td>\n",
       "      <td>nan</td>\n",
       "      <td>nan</td>\n",
       "      <td>nan</td>\n",
       "      <td>10</td>\n",
       "      <td>1</td>\n",
       "      <td>2013-01-04</td>\n",
       "      <td>False</td>\n",
       "      <td>2013</td>\n",
       "      <td>0</td>\n",
       "      <td>126512</td>\n",
       "    </tr>\n",
       "    <tr>\n",
       "      <td>1</td>\n",
       "      <td>10_1</td>\n",
       "      <td>01/2</td>\n",
       "      <td>10.00</td>\n",
       "      <td>1.00</td>\n",
       "      <td>2011-01-14</td>\n",
       "      <td>False</td>\n",
       "      <td>2011.00</td>\n",
       "      <td>27859.44</td>\n",
       "      <td>126512.00</td>\n",
       "      <td>2012.00</td>\n",
       "      <td>30107.31</td>\n",
       "      <td>126512.00</td>\n",
       "      <td>nan</td>\n",
       "      <td>nan</td>\n",
       "      <td>nan</td>\n",
       "      <td>10</td>\n",
       "      <td>1</td>\n",
       "      <td>2013-01-11</td>\n",
       "      <td>False</td>\n",
       "      <td>2013</td>\n",
       "      <td>0</td>\n",
       "      <td>126512</td>\n",
       "    </tr>\n",
       "    <tr>\n",
       "      <td>2</td>\n",
       "      <td>10_1</td>\n",
       "      <td>01/3</td>\n",
       "      <td>10.00</td>\n",
       "      <td>1.00</td>\n",
       "      <td>2011-01-21</td>\n",
       "      <td>False</td>\n",
       "      <td>2011.00</td>\n",
       "      <td>30911.87</td>\n",
       "      <td>126512.00</td>\n",
       "      <td>2012.00</td>\n",
       "      <td>31180.23</td>\n",
       "      <td>126512.00</td>\n",
       "      <td>nan</td>\n",
       "      <td>nan</td>\n",
       "      <td>nan</td>\n",
       "      <td>10</td>\n",
       "      <td>1</td>\n",
       "      <td>2013-01-18</td>\n",
       "      <td>False</td>\n",
       "      <td>2013</td>\n",
       "      <td>0</td>\n",
       "      <td>126512</td>\n",
       "    </tr>\n",
       "    <tr>\n",
       "      <td>3</td>\n",
       "      <td>10_1</td>\n",
       "      <td>01/4</td>\n",
       "      <td>10.00</td>\n",
       "      <td>1.00</td>\n",
       "      <td>2011-01-28</td>\n",
       "      <td>False</td>\n",
       "      <td>2011.00</td>\n",
       "      <td>29890.73</td>\n",
       "      <td>126512.00</td>\n",
       "      <td>2012.00</td>\n",
       "      <td>32559.13</td>\n",
       "      <td>126512.00</td>\n",
       "      <td>nan</td>\n",
       "      <td>nan</td>\n",
       "      <td>nan</td>\n",
       "      <td>10</td>\n",
       "      <td>1</td>\n",
       "      <td>2013-01-25</td>\n",
       "      <td>False</td>\n",
       "      <td>2013</td>\n",
       "      <td>0</td>\n",
       "      <td>126512</td>\n",
       "    </tr>\n",
       "  </tbody>\n",
       "</table>\n",
       "</div>"
      ],
      "text/plain": [
       "  store_dept wm_date  Store_train  Dept_train  Date_train IsHoliday_train  \\\n",
       "0       10_1    01/1        10.00        1.00  2011-01-07           False   \n",
       "1       10_1    01/2        10.00        1.00  2011-01-14           False   \n",
       "2       10_1    01/3        10.00        1.00  2011-01-21           False   \n",
       "3       10_1    01/4        10.00        1.00  2011-01-28           False   \n",
       "\n",
       "   year0_train  year0_sales_train  year0_size_train  year1_train  \\\n",
       "0      2011.00           26041.71         126512.00      2012.00   \n",
       "1      2011.00           27859.44         126512.00      2012.00   \n",
       "2      2011.00           30911.87         126512.00      2012.00   \n",
       "3      2011.00           29890.73         126512.00      2012.00   \n",
       "\n",
       "   year1_sales_train  year1_size_train  year2_train  year2_sales_train  \\\n",
       "0           28520.49         126512.00          nan                nan   \n",
       "1           30107.31         126512.00          nan                nan   \n",
       "2           31180.23         126512.00          nan                nan   \n",
       "3           32559.13         126512.00          nan                nan   \n",
       "\n",
       "   year2_size_train  Store_test  Dept_test   Date_test  IsHoliday_test  \\\n",
       "0               nan          10          1  2013-01-04           False   \n",
       "1               nan          10          1  2013-01-11           False   \n",
       "2               nan          10          1  2013-01-18           False   \n",
       "3               nan          10          1  2013-01-25           False   \n",
       "\n",
       "   year0_valid  year0_sales_valid  year0_size_valid  \n",
       "0         2013                  0            126512  \n",
       "1         2013                  0            126512  \n",
       "2         2013                  0            126512  \n",
       "3         2013                  0            126512  "
      ]
     },
     "execution_count": 105,
     "metadata": {},
     "output_type": "execute_result"
    }
   ],
   "source": [
    "x_test = not_na_xy_test.append(na_xy_test_filled)#[[\"year1_sales_train\", \"year1_size_train\"] + key_colnames + [\"IsHoliday_test\"]]\n",
    "x_test.head(4)"
   ]
  },
  {
   "cell_type": "code",
   "execution_count": 107,
   "metadata": {},
   "outputs": [
    {
     "data": {
      "text/plain": [
       "array([[28226.87976393],\n",
       "       [29791.9328334 ],\n",
       "       [30850.13523777],\n",
       "       ...,\n",
       "       [ 4396.36376975],\n",
       "       [ 4396.36376975],\n",
       "       [ 4396.36376975]])"
      ]
     },
     "execution_count": 107,
     "metadata": {},
     "output_type": "execute_result"
    }
   ],
   "source": [
    "y_test_pred = reg.predict(x_test[[\"year1_sales_train\", \"year1_size_train\"]])\n",
    "y_test_pred"
   ]
  },
  {
   "cell_type": "code",
   "execution_count": 109,
   "metadata": {},
   "outputs": [],
   "source": [
    "subm = evaluation.build_submission_df(test_df=x_test, \n",
    "                                      target_predicted=y_test_pred,\n",
    "                                      store_colname=\"Store_test\", \n",
    "                                      dept_colname=\"Dept_test\", \n",
    "                                      date_colname=\"Date_test\")"
   ]
  },
  {
   "cell_type": "code",
   "execution_count": 123,
   "metadata": {},
   "outputs": [],
   "source": [
    "subm[\"Weekly_Sales\"] = subm[\"Weekly_Sales\"].apply(lambda ws : round(ws, 2))"
   ]
  },
  {
   "cell_type": "code",
   "execution_count": 124,
   "metadata": {},
   "outputs": [
    {
     "data": {
      "text/html": [
       "<div>\n",
       "<style scoped>\n",
       "    .dataframe tbody tr th:only-of-type {\n",
       "        vertical-align: middle;\n",
       "    }\n",
       "\n",
       "    .dataframe tbody tr th {\n",
       "        vertical-align: top;\n",
       "    }\n",
       "\n",
       "    .dataframe thead th {\n",
       "        text-align: right;\n",
       "    }\n",
       "</style>\n",
       "<table border=\"1\" class=\"dataframe\">\n",
       "  <thead>\n",
       "    <tr style=\"text-align: right;\">\n",
       "      <th></th>\n",
       "      <th>Id</th>\n",
       "      <th>Weekly_Sales</th>\n",
       "    </tr>\n",
       "  </thead>\n",
       "  <tbody>\n",
       "    <tr>\n",
       "      <td>0</td>\n",
       "      <td>10_1_2013-01-04</td>\n",
       "      <td>28226.88</td>\n",
       "    </tr>\n",
       "    <tr>\n",
       "      <td>1</td>\n",
       "      <td>10_1_2013-01-11</td>\n",
       "      <td>29791.93</td>\n",
       "    </tr>\n",
       "    <tr>\n",
       "      <td>2</td>\n",
       "      <td>10_1_2013-01-18</td>\n",
       "      <td>30850.14</td>\n",
       "    </tr>\n",
       "    <tr>\n",
       "      <td>3</td>\n",
       "      <td>10_1_2013-01-25</td>\n",
       "      <td>32210.12</td>\n",
       "    </tr>\n",
       "    <tr>\n",
       "      <td>4</td>\n",
       "      <td>10_1_2013-02-01</td>\n",
       "      <td>35747.62</td>\n",
       "    </tr>\n",
       "    <tr>\n",
       "      <td>...</td>\n",
       "      <td>...</td>\n",
       "      <td>...</td>\n",
       "    </tr>\n",
       "    <tr>\n",
       "      <td>115059</td>\n",
       "      <td>9_96_2012-11-30</td>\n",
       "      <td>4396.36</td>\n",
       "    </tr>\n",
       "    <tr>\n",
       "      <td>115060</td>\n",
       "      <td>9_99_2013-07-05</td>\n",
       "      <td>4396.36</td>\n",
       "    </tr>\n",
       "    <tr>\n",
       "      <td>115061</td>\n",
       "      <td>9_99_2013-07-19</td>\n",
       "      <td>4396.36</td>\n",
       "    </tr>\n",
       "    <tr>\n",
       "      <td>115062</td>\n",
       "      <td>9_99_2013-07-26</td>\n",
       "      <td>4396.36</td>\n",
       "    </tr>\n",
       "    <tr>\n",
       "      <td>115063</td>\n",
       "      <td>9_99_2012-12-07</td>\n",
       "      <td>4396.36</td>\n",
       "    </tr>\n",
       "  </tbody>\n",
       "</table>\n",
       "<p>115064 rows × 2 columns</p>\n",
       "</div>"
      ],
      "text/plain": [
       "                     Id  Weekly_Sales\n",
       "0       10_1_2013-01-04      28226.88\n",
       "1       10_1_2013-01-11      29791.93\n",
       "2       10_1_2013-01-18      30850.14\n",
       "3       10_1_2013-01-25      32210.12\n",
       "4       10_1_2013-02-01      35747.62\n",
       "...                 ...           ...\n",
       "115059  9_96_2012-11-30       4396.36\n",
       "115060  9_99_2013-07-05       4396.36\n",
       "115061  9_99_2013-07-19       4396.36\n",
       "115062  9_99_2013-07-26       4396.36\n",
       "115063  9_99_2012-12-07       4396.36\n",
       "\n",
       "[115064 rows x 2 columns]"
      ]
     },
     "execution_count": 124,
     "metadata": {},
     "output_type": "execute_result"
    }
   ],
   "source": [
    "subm.reset_index()"
   ]
  },
  {
   "cell_type": "code",
   "execution_count": 116,
   "metadata": {},
   "outputs": [],
   "source": [
    "subm.reset_index().to_csv(\"data/submissions/subm1.csv\", index=False)"
   ]
  },
  {
   "cell_type": "code",
   "execution_count": 132,
   "metadata": {},
   "outputs": [
    {
     "data": {
      "text/plain": [
       "<matplotlib.axes._subplots.AxesSubplot at 0x7f5fc09535d0>"
      ]
     },
     "execution_count": 132,
     "metadata": {},
     "output_type": "execute_result"
    },
    {
     "data": {
      "image/png": "[encoded data removed]",
      "text/plain": [
       "<Figure size 432x288 with 1 Axes>"
      ]
     },
     "metadata": {
      "needs_background": "light"
     },
     "output_type": "display_data"
    }
   ],
   "source": [
    "train[train[\"Weekly_Sales\"] < 150000][\"Weekly_Sales\"].plot.hist()"
   ]
  },
  {
   "cell_type": "code",
   "execution_count": 134,
   "metadata": {},
   "outputs": [
    {
     "data": {
      "text/plain": [
       "<matplotlib.axes._subplots.AxesSubplot at 0x7f5fd6380ed0>"
      ]
     },
     "execution_count": 134,
     "metadata": {},
     "output_type": "execute_result"
    },
    {
     "data": {
      "image/png": "[encoded data removed]",
      "text/plain": [
       "<Figure size 432x288 with 1 Axes>"
      ]
     },
     "metadata": {
      "needs_background": "light"
     },
     "output_type": "display_data"
    }
   ],
   "source": [
    "subm[subm[\"Weekly_Sales\"] < 150000].plot.hist(ylim=(0,250000))"
   ]
  },
  {
   "cell_type": "code",
   "execution_count": null,
   "metadata": {},
   "outputs": [],
   "source": []
  }
 ],
 "metadata": {
  "kernelspec": {
   "display_name": "Python 3",
   "language": "python",
   "name": "python3"
  },
  "language_info": {
   "codemirror_mode": {
    "name": "ipython",
    "version": 3
   },
   "file_extension": ".py",
   "mimetype": "text/x-python",
   "name": "python",
   "nbconvert_exporter": "python",
   "pygments_lexer": "ipython3",
   "version": "3.7.4"
  }
 },
 "nbformat": 4,
 "nbformat_minor": 2
}
